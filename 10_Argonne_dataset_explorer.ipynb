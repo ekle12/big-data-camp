{
 "cells": [
  {
   "cell_type": "code",
   "execution_count": null,
   "id": "8ba4841a-afe6-42a0-822c-aca22067c039",
   "metadata": {},
   "outputs": [],
   "source": [
    "# Import the Pandas library\n",
    "import pandas as pd"
   ]
  },
  {
   "cell_type": "markdown",
   "id": "86ad60d8-e3c5-4927-a677-044ef0e420c8",
   "metadata": {},
   "source": [
    "# Urban Heat Islands\n",
    "\n",
    "This data tracks temperature measurements across different environments over time. \n",
    "\n",
    "Here's a breakdown of what each column is showing:\n",
    "\n",
    "- `timestamp`: This column provides the exact date and time, including the timezone offset (-05:00 indicating UTC-5, likely Central Daylight Time or Eastern Standard Time). The timestamps are recorded at one-minute intervals, indicating a detailed time-series observation of temperature changes.\n",
    "\n",
    "- `urban_parking_lot_temperature`: This represents the temperature recorded in an urban parking lot. Parking lots, especially those made of asphalt or concrete, tend to absorb and retain a significant amount of solar radiation, often leading to higher temperatures compared to vegetated areas.\n",
    "\n",
    "- `urban_park_temperature`: This indicates the temperature measured in an urban park. Parks, with their trees, grass, and open spaces, can help mitigate the urban heat island effect by providing shade and evapotranspiration, often resulting in cooler temperatures than surrounding built-up areas.\n",
    "\n",
    "- `suburban_rural_temperature`: This column shows the temperature recorded in a suburban or rural area. These areas typically have more natural landscapes, less dense infrastructure, and more vegetation, which generally results in lower temperatures compared to dense urban environments."
   ]
  },
  {
   "cell_type": "code",
   "execution_count": null,
   "id": "7251adec-66a7-410a-8bd6-5aa3484f7def",
   "metadata": {},
   "outputs": [],
   "source": [
    "heat_island = pd.read_csv('https://raw.githubusercontent.com/jdomyancich/big-data-camp/refs/heads/main/data/Argonne%20Datasets/chicago-urban-heat-island.csv')"
   ]
  },
  {
   "cell_type": "code",
   "execution_count": null,
   "id": "99c0cb51-c57a-4206-8422-f132259562af",
   "metadata": {},
   "outputs": [],
   "source": []
  },
  {
   "cell_type": "markdown",
   "id": "4f7ef8c0-58c7-4e56-b6c5-7e8e27a8ab95",
   "metadata": {},
   "source": [
    "# Electricity Grid Pricing\n",
    "\n",
    "This data is real-time electricity market data from an Independent System Operator (ISO) or Regional Transmission Organization (RTO) called PJM Interconnection and the \"PSEG\" zone. This type of data is crucial for understanding the dynamics of electricity supply, demand, and grid conditions.\n",
    "\n",
    "Here's a breakdown of what each column is showing:\n",
    "\n",
    "- `datetime_beginning_utc`: This timestamp indicates the start time of the data record in Coordinated Universal Time (UTC). UTC is a global standard for time, which helps in synchronizing data from different regions.\n",
    "\n",
    "- `datetime_beginning_ept`: This timestamp indicates the start time of the data record in Eastern Prevailing Time (EPT). EPT is the local time zone relevant to the electricity market operation (e.g., Eastern Time in the United States, which PJM Interconnection primarily operates in).\n",
    "\n",
    "- `pnode_id`: This is a unique numerical identifier for a \"Pricing Node\" (PNode) within the electricity grid. A PNode is a specific location (e.g., a substation, generator, or load point) where electricity prices are calculated.\n",
    "\n",
    "- `pnode_name`: This provides the human-readable name of the Pricing Node, making it easier to identify the specific location on the grid.\n",
    "\n",
    "- `voltage`: This indicates the voltage level at the pricing node (e.g., 230 KV). Voltage levels are important for understanding the transmission network's capacity and characteristics.\n",
    "\n",
    "- `zone`: This specifies the transmission zone or geographic region where the pricing node is located. \"PSEG\" refers to Public Service Enterprise Group, a utility operating within a larger electricity market's zone.\n",
    "\n",
    "- `system_energy_price_rt`: This is the real-time system-wide energy price. It represents the base cost of electricity itself, before accounting for any transmission constraints or losses.\n",
    "\n",
    "- `total_lmp_rt`: This stands for \"Total Locational Marginal Price (Real-Time).\" LMP is the price of electricity at a specific pricing node, reflecting not only the cost of energy but also the costs associated with transmission congestion and marginal losses at that location. It's the key price signal in many wholesale electricity markets.\n",
    "\n",
    "- `congestion_price_rt`: This is the real-time component of the LMP that accounts for transmission congestion. Congestion occurs when the demand for transmission capacity exceeds the available capacity on a particular transmission line, leading to higher prices at certain locations. A negative value, indicates that the flow on a congested line is being reversed, which can lower prices at that node.\n",
    "\n",
    "- `marginal_loss_price_rt`: This is the real-time component of the LMP that accounts for the cost of electricity lost during transmission. As electricity travels through power lines, some energy is dissipated as heat. This component reflects the cost of covering those losses at the margin."
   ]
  },
  {
   "cell_type": "code",
   "execution_count": null,
   "id": "e61f486c-059c-4cde-b11b-275811f805ad",
   "metadata": {},
   "outputs": [],
   "source": [
    "elec_grid_7_15 = pd.read_csv('https://raw.githubusercontent.com/jdomyancich/big-data-camp/refs/heads/main/data/Argonne%20Datasets/electric%20grid/electric_grid_7_15_2024.csv')"
   ]
  },
  {
   "cell_type": "code",
   "execution_count": null,
   "id": "786a3392-2b42-4be3-b149-bf895c303a82",
   "metadata": {},
   "outputs": [],
   "source": [
    "elec_grid_8_7 = pd.read_csv('https://raw.githubusercontent.com/jdomyancich/big-data-camp/refs/heads/main/data/Argonne%20Datasets/electric%20grid/electric_grid_8_7_2024.csv')"
   ]
  },
  {
   "cell_type": "code",
   "execution_count": null,
   "id": "5aa2c542-04fb-4d14-b800-d27802f21ace",
   "metadata": {},
   "outputs": [],
   "source": [
    "elec_grid_11_20 = pd.read_csv('https://raw.githubusercontent.com/jdomyancich/big-data-camp/refs/heads/main/data/Argonne%20Datasets/electric%20grid/electric_grid_11_20_2024.csv')"
   ]
  },
  {
   "cell_type": "code",
   "execution_count": null,
   "id": "16b7dc98-9ddf-4029-8cdc-e94679ce1cce",
   "metadata": {},
   "outputs": [],
   "source": []
  },
  {
   "cell_type": "markdown",
   "id": "ae077de7-6639-4371-bf3d-18abf49b8180",
   "metadata": {},
   "source": [
    "# Smart Energy Plaza Solar\n",
    "\n",
    "This data comes from a solar panel inverter at Argonne's Smart Energy Plaza, providing insights into the real-time performance of a photovoltaic (PV) system. An inverter's primary role is to convert the direct current (DC) electricity produced by solar panels into alternating current (AC) electricity suitable for grid consumption or household use.\n",
    "\n",
    "Here's an explanation of each column:\n",
    "\n",
    "- `datetimestamp`: This column records the exact date and time when the measurements were taken. It allows for tracking the solar panel system's operational parameters over time.\n",
    "\n",
    "- `PhV` (Phase Voltage): This likely represents the Alternating Current (AC) voltage output by the inverter. Values around 237.2 V are typical for single-phase AC electricity supply in many residential or commercial settings (e.g., a nominal 240V system).\n",
    "\n",
    "- `phA` (Phase Amperage): This denotes the Alternating Current (AC) flowing from the inverter. It indicates the amount of electrical current being supplied to the load or the grid.\n",
    "\n",
    "- `StVA` (Apparent Power): Refers to \"Apparent Power\" in Volt-Amperes (VA). Apparent power is the product of voltage and current in an AC circuit, encompassing both real power (W) and reactive power. It gives a complete picture of the total electrical power in the circuit, regardless of its usability for work.\n",
    "\n",
    "- `W` (Real Power): This represents the \"Real Power\" or active power, measured in Watts. This is the actual electrical power being produced by the inverter that can do useful work (e.g., power appliances, or be fed into the grid). \n",
    "\n",
    "- `DCV` (DC Voltage): This is the Direct Current (DC) voltage measured on the input side of the inverter, directly from the solar panel array. It indicates the electrical potential supplied by the solar panels.\n",
    "\n",
    "- `DCA` (DC Amperage): This is the Direct Current (DC) flowing from the solar panel array into the inverter. It represents the amount of current generated by the solar panels."
   ]
  },
  {
   "cell_type": "code",
   "execution_count": null,
   "id": "da2a060d-ec20-46e0-975f-5b7e069321b4",
   "metadata": {},
   "outputs": [],
   "source": [
    "smart_energy_plaza_solar = pd.read_csv('https://raw.githubusercontent.com/jdomyancich/big-data-camp/refs/heads/main/data/Argonne%20Datasets/smart%20energy%20plaza/smart_energy_plaza_solar.csv')"
   ]
  },
  {
   "cell_type": "code",
   "execution_count": null,
   "id": "6eea1e70-6c8e-4999-b8db-0b5f195cad40",
   "metadata": {},
   "outputs": [],
   "source": []
  },
  {
   "cell_type": "markdown",
   "id": "224de5fb-82d2-4c75-ae64-fe0ae44dd207",
   "metadata": {},
   "source": [
    "# Battery Degradation\n",
    "\n",
    "This data is a record of different mechanisms of capacity loss in a battery over time. Each column represents a specific aspect of degradation, and the values indicate the amount of capacity lost due to that mechanism.\n",
    "\n",
    "Here's a breakdown of what each column is showing:\n",
    "\n",
    "- `Time [s]`: This column represents the time elapsed in seconds. It allows you to track how the various capacity loss mechanisms evolve over the duration of the experiment or operation.\n",
    "\n",
    "- `Loss of capacity to negative SEI [A.h]`: This indicates the capacity lost due to the formation of a Solid Electrolyte Interphase (SEI) layer on the negative electrode. The SEI layer is a passivation layer that forms on the electrode surface during the first charge, and its continued growth can consume active lithium ions, leading to capacity fade. The unit 'A.h' (Ampere-hour) quantifies the amount of electric charge, which directly relates to battery capacity.\n",
    "\n",
    "- `Loss of capacity to positive SEI [A.h]`: Similar to the negative SEI, this column represents the capacity lost due to SEI formation on the positive electrode. While SEI formation is more commonly associated with the negative electrode, it can also occur on the positive electrode, contributing to capacity degradation.\n",
    "\n",
    "- `Loss of capacity to positive SEI on cracks [A.h]`: This specifically measures the capacity loss due to SEI formation on cracks that may develop on the positive electrode. Cracks can expose new surfaces for SEI growth, accelerating capacity fade.\n",
    "\n",
    "- `Loss of capacity to positive lithium plating [A.h]`: This column quantifies the capacity lost due to the undesirable process of lithium plating on the positive electrode. Lithium plating occurs when lithium ions deposit as metallic lithium on the electrode surface instead of intercalating into the electrode material, leading to irreversible capacity loss and potential safety issues."
   ]
  },
  {
   "cell_type": "code",
   "execution_count": null,
   "id": "9f992431-bab9-4b2e-b6c2-c7da472200a3",
   "metadata": {},
   "outputs": [],
   "source": [
    "batteries = pd.read_csv('https://raw.githubusercontent.com/jdomyancich/big-data-camp/refs/heads/main/data/Argonne%20Datasets/batteries/degradation_model_capacity_loss_200_cycles_sim3.csv')"
   ]
  },
  {
   "cell_type": "code",
   "execution_count": null,
   "id": "c11a2e30-f60a-4812-a126-123663dddb44",
   "metadata": {},
   "outputs": [],
   "source": []
  }
 ],
 "metadata": {
  "kernelspec": {
   "display_name": "Python 3 (ipykernel)",
   "language": "python",
   "name": "python3"
  },
  "language_info": {
   "codemirror_mode": {
    "name": "ipython",
    "version": 3
   },
   "file_extension": ".py",
   "mimetype": "text/x-python",
   "name": "python",
   "nbconvert_exporter": "python",
   "pygments_lexer": "ipython3",
   "version": "3.9.12"
  }
 },
 "nbformat": 4,
 "nbformat_minor": 5
}
