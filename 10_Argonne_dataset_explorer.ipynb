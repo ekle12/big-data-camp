{
 "cells": [
  {
   "cell_type": "code",
   "execution_count": null,
   "id": "8ba4841a-afe6-42a0-822c-aca22067c039",
   "metadata": {},
   "outputs": [],
   "source": [
    "import pandas as pd"
   ]
  },
  {
   "cell_type": "code",
   "execution_count": null,
   "id": "7251adec-66a7-410a-8bd6-5aa3484f7def",
   "metadata": {},
   "outputs": [],
   "source": [
    "heat_island = pd.read_csv('https://raw.githubusercontent.com/jdomyancich/big-data-camp/refs/heads/main/data/Argonne%20Datasets/chicago-urban-heat-island.csv')"
   ]
  },
  {
   "cell_type": "code",
   "execution_count": null,
   "id": "e61f486c-059c-4cde-b11b-275811f805ad",
   "metadata": {},
   "outputs": [],
   "source": [
    "elec_grid_7_15 = pd.read_csv('https://raw.githubusercontent.com/jdomyancich/big-data-camp/refs/heads/main/data/Argonne%20Datasets/electric%20grid/electric_grid_7_15_2024.csv')"
   ]
  },
  {
   "cell_type": "code",
   "execution_count": null,
   "id": "786a3392-2b42-4be3-b149-bf895c303a82",
   "metadata": {},
   "outputs": [],
   "source": [
    "elec_grid_8_7 = pd.read_csv('https://raw.githubusercontent.com/jdomyancich/big-data-camp/refs/heads/main/data/Argonne%20Datasets/electric%20grid/electric_grid_8_7_2024.csv')"
   ]
  },
  {
   "cell_type": "code",
   "execution_count": null,
   "id": "5aa2c542-04fb-4d14-b800-d27802f21ace",
   "metadata": {},
   "outputs": [],
   "source": [
    "elec_grid_11_20 = pd.read_csv('https://raw.githubusercontent.com/jdomyancich/big-data-camp/refs/heads/main/data/Argonne%20Datasets/electric%20grid/electric_grid_11_20_2024.csv')"
   ]
  },
  {
   "cell_type": "code",
   "execution_count": null,
   "id": "da2a060d-ec20-46e0-975f-5b7e069321b4",
   "metadata": {},
   "outputs": [],
   "source": [
    "smart_energy_plaza_solar = pd.read_csv('https://raw.githubusercontent.com/jdomyancich/big-data-camp/refs/heads/main/data/Argonne%20Datasets/smart%20energy%20plaza/smart_energy_plaza_solar.csv')"
   ]
  },
  {
   "cell_type": "code",
   "execution_count": null,
   "id": "9f992431-bab9-4b2e-b6c2-c7da472200a3",
   "metadata": {},
   "outputs": [],
   "source": [
    "batteries = pd.read_csv('https://raw.githubusercontent.com/jdomyancich/big-data-camp/refs/heads/main/data/Argonne%20Datasets/batteries/degradation_model_capacity_loss_200_cycles_sim3.csv')"
   ]
  },
  {
   "cell_type": "code",
   "execution_count": null,
   "id": "b924088b-74bd-4389-840d-4d6468d30eea",
   "metadata": {},
   "outputs": [],
   "source": [
    "batteries.head()"
   ]
  },
  {
   "cell_type": "code",
   "execution_count": null,
   "id": "0ead3fe7-e9b0-465c-99e9-d78649aec979",
   "metadata": {},
   "outputs": [],
   "source": []
  }
 ],
 "metadata": {
  "kernelspec": {
   "display_name": "Python 3 (ipykernel)",
   "language": "python",
   "name": "python3"
  },
  "language_info": {
   "codemirror_mode": {
    "name": "ipython",
    "version": 3
   },
   "file_extension": ".py",
   "mimetype": "text/x-python",
   "name": "python",
   "nbconvert_exporter": "python",
   "pygments_lexer": "ipython3",
   "version": "3.9.12"
  }
 },
 "nbformat": 4,
 "nbformat_minor": 5
}
