{
 "cells": [
  {
   "cell_type": "markdown",
   "metadata": {},
   "source": [
    "# Chapter 6: Exploring COVID in Chicago \n",
    "\n",
    "#### Datasets: `chicago.csv`\n",
    "\n",
    "Chicago is the third-largest city in the United States, with an estimated 2.71 million people living within the city's limits. This is _approximately_ the size of 19th century London (2.5 million). \n",
    "\n",
    "**[DISCUSS]:** Given what we know about John Snow's Grand Experiment, **how can one best measure COVID-19's impact** on the multitude of communities in Chicago? "
   ]
  },
  {
   "cell_type": "code",
   "execution_count": null,
   "metadata": {},
   "outputs": [],
   "source": [
    "# In this cell, we provide a map of Chicago by zipcode. \n",
    "from PIL import Image\n",
    "import matplotlib.pyplot as plt\n",
    "\n",
    "chicago_image = Image.open('images/chicago_zip_map.jpeg')  #TODO: match to local path. \n",
    "\n",
    "fig = plt.figure()\n",
    "ax = fig.add_axes([0.0, 0.0, chicago_image.width / 500.0, chicago_image.height / 500.0])\n",
    "\n",
    "plt.imshow(chicago_image, interpolation = 'bilinear', cmap = 'gray')"
   ]
  },
  {
   "cell_type": "markdown",
   "metadata": {},
   "source": [
    "#### Research is 'Standing on the Shoulders of Giants'\n",
    "In May 2020, Kevin Credit from the Center for Spatial Data Science at the UChicago wrote \"Neighborhood inequity: Exploring the factors underlying racial and ethnic disparities in COVID-19 testing and infection rates using ZIP code data in Chicago and New York\". \n",
    "\n",
    "Fortunately at the conclusion of publishing this paper, Kevin shared his data with us! This poses one important question: \n",
    "\n",
    "--> **why is it important to share data in science?**\n",
    "<p>&nbsp;</p>\n",
    "<p>&nbsp;</p>\n",
    "\n",
    "Kevin's research also would not have been possible without open source research data from: \n",
    "Illinois Department of Health: https://www.dph.illinois.gov/covid19/covid19-statistics\n",
    "\n",
    "U.S. Census Bureau: https://data.census.gov/cedsci"
   ]
  },
  {
   "cell_type": "code",
   "execution_count": null,
   "metadata": {},
   "outputs": [],
   "source": [
    "# We start by importing our tools\n",
    "import geopandas as gpd \n",
    "import json\n",
    "import os "
   ]
  },
  {
   "cell_type": "code",
   "execution_count": null,
   "metadata": {},
   "outputs": [],
   "source": [
    "# Next we load our data into a usable format\n",
    "DATA_PATH = \"data/covid_chi_xvars.geojson\"\n",
    "    \n",
    "frame = gpd.read_file(DATA_PATH)\n",
    "print(f\"How many locations are in our frame?: {len(frame)}\")"
   ]
  },
  {
   "cell_type": "markdown",
   "metadata": {},
   "source": [
    "### We should always start by listing our available variables! \n",
    "\n",
    "In this case, however, the variables are difficult to understand based on name alone. \n",
    "\n",
    "What is a `FUNCSTAT10`? \n",
    "\n",
    "How about a `ALZFM010`?"
   ]
  },
  {
   "cell_type": "code",
   "execution_count": null,
   "metadata": {},
   "outputs": [],
   "source": [
    "# We always start by listing our available variables...\n",
    "cols = frame.columns.tolist()\n",
    "print(cols)\n",
    "\n",
    "print(f\"\\n\\n That's a lot of variables! **{len(cols)}** of them, to be exact.\")"
   ]
  },
  {
   "cell_type": "markdown",
   "metadata": {},
   "source": [
    "_____________________________________________________________________\n",
    "Hmm, these data are fairly useless without more information. \n",
    "\n",
    "Thankfully, Kevin's data are accompanied by a comprehensive variable guide! \n",
    "\n",
    "**[DISCUSS]:** with these data in hand, which of our previously-discussed COVID-19 measurements can we access in Kevin's data? Is there anything we simply cannot measure? \n",
    "\n",
    "NOTE: after the data guide there is a cell where you can peek at each variable. Give it a try!  \n",
    "\n",
    "_____________________________________________________________________\n",
    "\n",
    "**COVID-19**\n",
    "\n",
    "Case Rate (4/16) (per pop.) `CASER4_16` \n",
    "\n",
    "Testing Rate (4/16) (per pop.) `CASER4_16`\n",
    "\n",
    "Case Rate (5/1) (per pop.) `CASER5_1`\n",
    "\n",
    "Testing Rate (5/1) (per pop.) `TESTR5_1` \n",
    "\n",
    "\n",
    "<p>&nbsp;</p>\n",
    "\n",
    "\n",
    "**Racial/Ethnic neighbourhood types**\n",
    "\n",
    "\n",
    "Black non-Hispanic-Majority Neighbourhood `BLKNH` \n",
    "\n",
    "Hispanic-Majority Neighbourhood `HISPNH` \n",
    "\n",
    "White non-Hispanic-Majority Neighbourhood `WNH` \n",
    "\n",
    "<p>&nbsp;</p>\n",
    "\n",
    "**Socio-economic status** \n",
    "\n",
    "Median household income `MEDINC`\n",
    "\n",
    "<p>&nbsp;</p>\n",
    "\n",
    "**Healthy, active built environments**\n",
    "\n",
    "Population density (per m2) `POPDENS` \n",
    "\n",
    "Percent pedestrian and bike commuters `PERPEDB` \n",
    "\n",
    "Hospital accessibility score `WS__5` \n",
    "\n",
    "Percent food desert tracts `FDTRTPER` \n",
    "\n",
    "<p>&nbsp;</p>\n",
    "\n",
    "**Vulnerability (age, occupation, household structure)**\n",
    "\n",
    "\n",
    "Percent population 65+ `PER65` \n",
    "\n",
    "Percent healthcare service workers `PERHSRV` \n",
    "\n",
    "Percent housing units w/ > 1 person per room `PERCROWD`\n",
    "\n",
    "<p>&nbsp;</p>\n",
    "\n",
    "**Sex by Occupation for the Civilian Employed Population 16 Years and Over**\n",
    "\n",
    "`ALY7E001`:    Total\n",
    "\n",
    "`ALY7E002`:    Male\n",
    "\n",
    "`ALY7E003`:    Male: Management, business, science, and arts occupations\n",
    "\n",
    "`ALY7E004`:    Male: Service occupations\n",
    "\n",
    "`ALY7E005`:    Male: Sales and office occupations\n",
    "\n",
    "`ALY7E006`:    Male: Natural resources, construction, and maintenance occupations\n",
    "\n",
    "`ALY7E007`:    Male: Production, transportation, and material moving occupations\n",
    "\n",
    "`ALY7E008`:    Female\n",
    "\n",
    "`ALY7E009`:    Female: Management, business, science, and arts occupations\n",
    "\n",
    "`ALY7E010`:    Female: Service occupations\n",
    "\n",
    "`ALY7E011`:    Female: Sales and office occupations\n",
    "\n",
    "`ALY7E012`:    Female: Natural resources, construction, and maintenance occupations\n",
    "\n",
    "`ALY7E013`:    Female: Production, transportation, and material moving occupations\n"
   ]
  },
  {
   "cell_type": "code",
   "execution_count": null,
   "metadata": {},
   "outputs": [],
   "source": [
    "# TODO: Use this cell to explore the different variables by changing the name inside. \n",
    "frame['MEDINC'].head()"
   ]
  },
  {
   "cell_type": "markdown",
   "metadata": {},
   "source": [
    "________________________________________________________________\n",
    "\n",
    "First we want to examine the `case rate`. That is, the percentage of the population that has COVID-19. \n",
    "\n",
    "You'll notice that there is not already a case rate variable in Kevin's data -- this means we need to construct it ourselves!\n",
    "\n",
    "In Python, we can do this by \"declaring a function\" that inputs **something** and outputs the case rate. In this case **something** is the total number of cases and the population size. "
   ]
  },
  {
   "cell_type": "code",
   "execution_count": null,
   "metadata": {},
   "outputs": [],
   "source": [
    "def case_rate(total_cases, population): \n",
    "    cases_over_population = total_cases / population\n",
    "    return cases_over_population * 100  # Why multiply it by 100? "
   ]
  },
  {
   "cell_type": "code",
   "execution_count": null,
   "metadata": {},
   "outputs": [],
   "source": [
    "# TODO: What do we plug in to get case rate data for April 16th, 2020? \n",
    "frame['case_rate_4_16'] = case_rate(???, ???)\n",
    "\n",
    "# Next we can preview our new data to see if they pass the **smell-test**! \n",
    "frame['case_rate_4_16'].head()"
   ]
  },
  {
   "cell_type": "markdown",
   "metadata": {},
   "source": [
    "#### Check-in: which variables did you plug into your case rate function (and why)? Does your preview of the data seem reasonable? \n",
    "\n",
    "_______________________________________________________________________________________________\n",
    "\n",
    "Next up, we want to consider the **testing rate**. How can we create a variable for testing rate. \n",
    "\n",
    "**Don't forget to preview your new data field to ensure everything looks good!** "
   ]
  },
  {
   "cell_type": "code",
   "execution_count": null,
   "metadata": {},
   "outputs": [],
   "source": [
    "# Now we want to consider the testing rate.\n",
    "# TODO: can you write a function for testing rate? HINT: it looks a LOT like the case_rate\n",
    "def test_rate(???, population):\n",
    "    # TODO: FILL THIS IN! \n"
   ]
  },
  {
   "cell_type": "code",
   "execution_count": null,
   "metadata": {},
   "outputs": [],
   "source": [
    "# Generate our new data field\n",
    "frame['testing_rate_4_16'] = test_rate(???, ???)\n",
    "\n",
    "# Preview our new data field\n",
    "frame['testing_rate_4_16'].head()"
   ]
  },
  {
   "cell_type": "markdown",
   "metadata": {},
   "source": [
    "\n",
    "#### **[DISCUSS]** How does measuring the impact of COVID-19 become difficult when only using the case_rate and test_rate? \n",
    "\n",
    "`case_rate` is the total number of *known* COVID19 cases. \n",
    "`testing_rate` is the total number of *known* COVID19 tests. \n",
    "\n",
    "Therefore, if not a lot of people are getting tested then the testing rate is low.  And if the testing rate is low, then the total number of people who we ***know*** have COVID-19 is also low. \n",
    "\n",
    "______________________________________________________________________________________________\n",
    "\n",
    "***ILLUSTRATIVE EXAMPLE***\n",
    "\n",
    "Let's say there is a building containing 10 people. # TODO: TYLER add a cool picture here. \n",
    "\n",
    "Let's say 5 out of the 10 people have COVID.\n",
    "\n",
    "But only 2 out of the 10 people get tested -- 1 comes back positive, 1 comes back negative. \n",
    "\n",
    "Therefore: \n",
    "`case_rate` = 1/10 = 10%\n",
    "`testing_rate` = 2/10 = 20%\n",
    "\n",
    "However, we know that 50% of our population has COVID19! What's a better metric for measuring this?\n",
    "\n",
    "<p>&nbsp;</p>\n",
    "\n",
    "***ANSWER:*** Positivity rate. **Why?**\n"
   ]
  },
  {
   "cell_type": "code",
   "execution_count": null,
   "metadata": {},
   "outputs": [],
   "source": [
    "# The following is our function for positivity rate. You'll notice it inputs case rate and testing rate! \n",
    "# TODO: Fill in the following function for computing positivity rate! \n",
    "def positivity_rate(case_rate, testing_rate):\n",
    "    ???"
   ]
  },
  {
   "cell_type": "code",
   "execution_count": null,
   "metadata": {},
   "outputs": [],
   "source": [
    "frame['pos_rate_04_16'] =  positivity_rate(frame['CASE4_16'], frame['TEST4_16'])\n",
    "\n",
    "frame['pos_rate_04_16'].head()"
   ]
  },
  {
   "cell_type": "markdown",
   "metadata": {},
   "source": [
    "## Congratulations! You've just created your very own variable of interest! \n",
    "\n",
    "<p>&nbsp;</p>\n",
    "\n",
    "Positivity rate enables us as researchers to see the impact of COVID, even when the total number of tests completed is low. In the upcoming exercises we will visualize and test your new variable of interest (among others!)"
   ]
  },
  {
   "cell_type": "code",
   "execution_count": null,
   "metadata": {},
   "outputs": [],
   "source": [
    "# Optional -- do you want to save your data for future processing? Just add your path and save as follows! \n",
    "frame.to_file('/Users/tylerskluzacek/Desktop/cov_chi_with_positivity.geojson', driver='GeoJSON')"
   ]
  },
  {
   "cell_type": "code",
   "execution_count": null,
   "metadata": {},
   "outputs": [],
   "source": []
  }
 ],
 "metadata": {
  "kernelspec": {
   "display_name": "(conda) mr-crypto",
   "language": "python",
   "name": "mr-crypto"
  },
  "language_info": {
   "codemirror_mode": {
    "name": "ipython",
    "version": 3
   },
   "file_extension": ".py",
   "mimetype": "text/x-python",
   "name": "python",
   "nbconvert_exporter": "python",
   "pygments_lexer": "ipython3",
   "version": "3.6.12"
  }
 },
 "nbformat": 4,
 "nbformat_minor": 4
}
