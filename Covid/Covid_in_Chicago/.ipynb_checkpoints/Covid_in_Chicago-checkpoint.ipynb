{
 "cells": [
  {
   "cell_type": "markdown",
   "metadata": {},
   "source": [
    "# Exploring COVID in Chicago \n",
    "\n",
    "<img src = 'https://upload.wikimedia.org/wikipedia/commons/thumb/8/82/Chicago_sunrise_1.jpg/640px-Chicago_sunrise_1.jpg' width = 800>\n",
    "\n",
    "#### Datasets: `Chicago_Demographic_Covid_Full.csv` or `Chicago_Demographic_Covid_Lite.csv`\n",
    "\n",
    "**Given what we know about John Snow's Grand Experiment, how can we best measure COVID-19's impact on the communities in Chicago?**"
   ]
  },
  {
   "cell_type": "markdown",
   "metadata": {},
   "source": [
    "In May 2020, Kevin Credit from the Center for Spatial Data Science at the UChicago wrote \"Neighborhood inequity: Exploring the factors underlying racial and ethnic disparities in COVID-19 testing and infection rates using ZIP code data in Chicago and New York\". \n",
    "\n",
    "Kevin was nice enough to share his data with us. Kevin's research also would not have been possible without open source research data from: Illinois Department of Health: https://www.dph.illinois.gov/covid19/covid19-statistics and the U.S. Census Bureau: https://data.census.gov/cedsci"
   ]
  },
  {
   "cell_type": "code",
   "execution_count": null,
   "metadata": {},
   "outputs": [],
   "source": [
    "import pandas as pd\n",
    "pd.options.mode.chained_assignment = None\n",
    "import matplotlib.pyplot as plt\n",
    "import seaborn as sns\n",
    "import numpy as np\n",
    "plt.style.use('seaborn')"
   ]
  },
  {
   "cell_type": "code",
   "execution_count": null,
   "metadata": {},
   "outputs": [],
   "source": []
  },
  {
   "cell_type": "code",
   "execution_count": null,
   "metadata": {},
   "outputs": [],
   "source": []
  }
 ],
 "metadata": {
  "kernelspec": {
   "display_name": "Python 3",
   "language": "python",
   "name": "python3"
  },
  "language_info": {
   "codemirror_mode": {
    "name": "ipython",
    "version": 3
   },
   "file_extension": ".py",
   "mimetype": "text/x-python",
   "name": "python",
   "nbconvert_exporter": "python",
   "pygments_lexer": "ipython3",
   "version": "3.8.5"
  }
 },
 "nbformat": 4,
 "nbformat_minor": 4
}
