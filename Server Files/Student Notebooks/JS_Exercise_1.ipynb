{
 "cells": [
  {
   "cell_type": "markdown",
   "metadata": {
    "tags": []
   },
   "source": [
    "# John Snow Exercise 1: The Living City\n",
    "\n",
    "<img src = 'https://johnsnow.matrix.msu.edu/images/online_companion/chapter_images/fig1-6.jpg' width = 400>\n",
    "\n",
    "## London experienced two major cholera outbreaks between 1840 and 1854. Can you figure out which years?\n",
    "\n",
    "#### Datasets: `London.csv`, `Chicago.csv`"
   ]
  },
  {
   "cell_type": "markdown",
   "metadata": {},
   "source": [
    "One of the simplest measures of the health of a city is the number of deaths. This data is relatively easy to capture and isn't very subjective. Let's explore 19th Century London compared to 21st Century Chicago."
   ]
  },
  {
   "cell_type": "code",
   "execution_count": null,
   "metadata": {},
   "outputs": [],
   "source": [
    "# Import the Pandas library and abbreviate it as pd\n",
    "import pandas as pd"
   ]
  },
  {
   "cell_type": "code",
   "execution_count": null,
   "metadata": {},
   "outputs": [],
   "source": [
    "# Read in the .csv file and convert to a Pandas dataframe called \"London\"\n",
    "London = pd.read_csv(\"../data/London.csv\", index_col='Year')"
   ]
  },
  {
   "cell_type": "code",
   "execution_count": null,
   "metadata": {},
   "outputs": [],
   "source": [
    "# Print the London dataframe\n"
   ]
  },
  {
   "cell_type": "markdown",
   "metadata": {},
   "source": [
    "## Creating a Variable of Interest\n",
    "\n",
    "Obviously, the more people there are, the more deaths there will be. In order to eliminate the effect of population on number of deathes, we will **normalize** the data.\n",
    "\n",
    "This is done by calculating mortality (death) rate with the following calculation:\n",
    "\n",
    "$$death \\ rate_{1000} = {deaths \\over population} \\times 1000$$\n",
    "\n",
    "Define this calculation with a function:"
   ]
  },
  {
   "cell_type": "code",
   "execution_count": null,
   "metadata": {},
   "outputs": [],
   "source": [
    "# Complete the function\n",
    "def death_rate(population, deaths):\n",
    "    return insert_calculation"
   ]
  },
  {
   "cell_type": "markdown",
   "metadata": {},
   "source": [
    "## Referencing Arrays\n",
    "\n",
    "We use the format `dataframe['array_label']` to reference an array (column) in a dataframe. For example: "
   ]
  },
  {
   "cell_type": "code",
   "execution_count": null,
   "metadata": {},
   "outputs": [],
   "source": [
    "# Run the cell\n",
    "London['deaths']"
   ]
  },
  {
   "cell_type": "markdown",
   "metadata": {},
   "source": [
    "Use the `death_rate` function and reference the appropriate arrays to calculate the death rates for London between 1840 and 1854 and place it in a variable called `deaths_1000`"
   ]
  },
  {
   "cell_type": "code",
   "execution_count": null,
   "metadata": {},
   "outputs": [],
   "source": [
    "# Insert 2 column references into the death_rate function separated by a comma\n",
    "deaths_1000 = death_rate(insert_2_arrays) "
   ]
  },
  {
   "cell_type": "code",
   "execution_count": null,
   "metadata": {},
   "outputs": [],
   "source": [
    "# Print the results\n",
    "insert_variable"
   ]
  },
  {
   "cell_type": "markdown",
   "metadata": {},
   "source": [
    "We can add this new data as another column to our dataframe by simply creating a new variable in the column format: `dataframe['array_label']`"
   ]
  },
  {
   "cell_type": "code",
   "execution_count": null,
   "metadata": {},
   "outputs": [],
   "source": [
    "insert_column_reference = deaths_1000\n",
    "London"
   ]
  },
  {
   "cell_type": "markdown",
   "metadata": {},
   "source": [
    "## Interpretation\n",
    "\n",
    "London experience two major cholera outbreaks between 1840 and 1854. **Can you figure out which years?**\n",
    "\n"
   ]
  },
  {
   "cell_type": "code",
   "execution_count": null,
   "metadata": {},
   "outputs": [],
   "source": []
  },
  {
   "cell_type": "markdown",
   "metadata": {},
   "source": [
    "## Extension\n",
    "\n",
    "**How did the mortality rate of 19th Century London compare to 21st Century Chicago?**\n",
    "    \n",
    "Use the `Chicago.csv` dataset to view similar data for Chicago between 2010-2018.\n",
    "\n",
    "Can you modify the code above to calculate the mortality rate **for Chicago**?"
   ]
  },
  {
   "cell_type": "code",
   "execution_count": null,
   "metadata": {},
   "outputs": [],
   "source": []
  },
  {
   "cell_type": "code",
   "execution_count": null,
   "metadata": {},
   "outputs": [],
   "source": []
  }
 ],
 "metadata": {
  "kernelspec": {
   "display_name": "Python 3 (ipykernel)",
   "language": "python",
   "name": "python3"
  },
  "language_info": {
   "codemirror_mode": {
    "name": "ipython",
    "version": 3
   },
   "file_extension": ".py",
   "mimetype": "text/x-python",
   "name": "python",
   "nbconvert_exporter": "python",
   "pygments_lexer": "ipython3",
   "version": "3.9.7"
  }
 },
 "nbformat": 4,
 "nbformat_minor": 4
}
