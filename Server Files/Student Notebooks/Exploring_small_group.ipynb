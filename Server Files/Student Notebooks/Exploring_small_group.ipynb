{
 "cells": [
  {
   "cell_type": "markdown",
   "metadata": {},
   "source": [
    "# Alexa, what's the temperature right now?\n",
    "\n",
    "Location-based weather forecasts rely on interpolation where things like temperature are predicted based on actual measurements made by weather stations. Unfortunately, these weather stations can be dozens of miles apart and there can be large variations in temperature between them.\n",
    "\n",
    "<img src = '../images/temp_interpolation.png' width = 600>\n",
    "\n",
    "\n",
    "\n",
    "The Array of Things nodes are special because they provide a hyperlocal view of the environment. \n",
    "\n",
    "<img src = 'https://pbs.twimg.com/media/DfdYqlpXUAAYJbK?format=jpg&name=large' width = 400>\n",
    "\n",
    "## Your task: Today, you are Alexa. \n",
    "\n",
    "### \"Alexa, what's the temperature at The Bean?\"\n",
    "\n",
    "<img src = '..//images/bean.jpeg' width = 600>\n",
    "\n",
    "\n"
   ]
  },
  {
   "cell_type": "markdown",
   "metadata": {},
   "source": [
    "Directions: Use the two datasets to give a hyperlocal temperature for The Bean. You have two datasets available to use:\n",
    "\n",
    "`nodes.csv`\n",
    "\n",
    "`temperatures.csv`"
   ]
  },
  {
   "cell_type": "code",
   "execution_count": null,
   "metadata": {},
   "outputs": [],
   "source": []
  },
  {
   "cell_type": "code",
   "execution_count": null,
   "metadata": {},
   "outputs": [],
   "source": []
  }
 ],
 "metadata": {
  "kernelspec": {
   "display_name": "Python 3 (ipykernel)",
   "language": "python",
   "name": "python3"
  },
  "language_info": {
   "codemirror_mode": {
    "name": "ipython",
    "version": 3
   },
   "file_extension": ".py",
   "mimetype": "text/x-python",
   "name": "python",
   "nbconvert_exporter": "python",
   "pygments_lexer": "ipython3",
   "version": "3.9.7"
  }
 },
 "nbformat": 4,
 "nbformat_minor": 4
}
