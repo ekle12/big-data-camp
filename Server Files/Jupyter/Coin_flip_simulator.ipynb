{
 "cells": [
  {
   "cell_type": "markdown",
   "id": "3ef755da-2239-4abd-a7f1-ffe7578a84c1",
   "metadata": {},
   "source": [
    "# The Python Coin Flip Simulator"
   ]
  },
  {
   "cell_type": "code",
   "execution_count": null,
   "id": "2addaa76-fe17-4978-b0aa-8998283a36cc",
   "metadata": {},
   "outputs": [],
   "source": [
    "coin = ['heads', 'tails']"
   ]
  },
  {
   "cell_type": "code",
   "execution_count": null,
   "id": "85b2ea32-11ee-4227-a3ce-a4d7ebe81b86",
   "metadata": {},
   "outputs": [],
   "source": [
    "number_flips = 10"
   ]
  },
  {
   "cell_type": "code",
   "execution_count": null,
   "id": "7f4a4c16-d4ea-4c05-981c-8d13ab1a97a4",
   "metadata": {},
   "outputs": [],
   "source": [
    "import numpy as np"
   ]
  },
  {
   "cell_type": "code",
   "execution_count": null,
   "id": "9d0de9d5-78d1-4fa1-abb8-88a648daa3ea",
   "metadata": {},
   "outputs": [],
   "source": [
    "simulation = np.random.choice(coin, number_flips)\n",
    "print(simulation)"
   ]
  },
  {
   "cell_type": "code",
   "execution_count": null,
   "id": "1635f2fe-020c-47d0-a804-fd8cf20a1163",
   "metadata": {},
   "outputs": [],
   "source": [
    "np.count_nonzero(simulation == 'heads')"
   ]
  },
  {
   "cell_type": "code",
   "execution_count": null,
   "id": "a523cf20-ceca-49f9-8806-9efb4ecc3b11",
   "metadata": {},
   "outputs": [],
   "source": []
  }
 ],
 "metadata": {
  "kernelspec": {
   "display_name": "Python 3 (ipykernel)",
   "language": "python",
   "name": "python3"
  },
  "language_info": {
   "codemirror_mode": {
    "name": "ipython",
    "version": 3
   },
   "file_extension": ".py",
   "mimetype": "text/x-python",
   "name": "python",
   "nbconvert_exporter": "python",
   "pygments_lexer": "ipython3",
   "version": "3.9.12"
  }
 },
 "nbformat": 4,
 "nbformat_minor": 5
}
