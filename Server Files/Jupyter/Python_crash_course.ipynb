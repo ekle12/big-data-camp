{
 "cells": [
  {
   "cell_type": "markdown",
   "id": "6a4cc7e5-2920-46d0-9685-39f8b1924346",
   "metadata": {
    "tags": []
   },
   "source": [
    "# A Python Crash Course"
   ]
  },
  {
   "cell_type": "markdown",
   "id": "e64ce981-7fbf-4857-8af4-0c543751fc0b",
   "metadata": {},
   "source": [
    "## Journey to Jupyter\n",
    "\n",
    "<center><img src = 'https://upload.wikimedia.org/wikipedia/commons/a/a3/790106-0203_Voyager_58M_to_31M_reduced.gif'><center>"
   ]
  },
  {
   "cell_type": "markdown",
   "id": "74a058c6-2008-41fe-b04b-01f18b227be4",
   "metadata": {},
   "source": [
    "1. **Add a new cell below this one but above 2.**"
   ]
  },
  {
   "cell_type": "markdown",
   "id": "f1337151-7e77-4757-a3dd-b1ff44139d3d",
   "metadata": {},
   "source": [
    "2. **Write a line of code using the `print()` function in the above cell to introduce yourself and run the code using the \"play\" button.**"
   ]
  },
  {
   "cell_type": "markdown",
   "id": "fc955de9-b6d6-4468-b778-b550c88e4cf7",
   "metadata": {},
   "source": [
    "3. **Copy the cell with the print function and paste it below this cell.**"
   ]
  },
  {
   "cell_type": "markdown",
   "id": "84cde898-3a4a-4112-8f27-f4d8f8835158",
   "metadata": {},
   "source": [
    "4. **Run the following code using the `shift` + `enter` shortcut:**"
   ]
  },
  {
   "cell_type": "code",
   "execution_count": null,
   "id": "f0e8a1de-916e-43ad-8204-984f9b45d0c3",
   "metadata": {},
   "outputs": [],
   "source": [
    "print(\"Hello, world!\""
   ]
  },
  {
   "cell_type": "markdown",
   "id": "9eafe6e8-2dc6-4132-bea6-5d1962adc250",
   "metadata": {},
   "source": [
    "5. **Add a hashtag (`#`) to the beginning of the following code:**"
   ]
  },
  {
   "cell_type": "code",
   "execution_count": null,
   "id": "a59bcb55-e18a-410e-877d-6a68dc10c05b",
   "metadata": {},
   "outputs": [],
   "source": [
    "print(\"Where did I go?\")"
   ]
  },
  {
   "cell_type": "markdown",
   "id": "f59b5f33-799f-4ee7-a3f6-015ae4b1275e",
   "metadata": {},
   "source": [
    "## Python Basics"
   ]
  },
  {
   "cell_type": "markdown",
   "id": "fde38da9-e225-45b4-b484-c4ceab5d85b6",
   "metadata": {
    "tags": []
   },
   "source": [
    "## Operators\n",
    "\n",
    "Operators are pieces of code that allow us to perform operations. They are at the heart of basic fuctions of the computer."
   ]
  },
  {
   "cell_type": "markdown",
   "id": "d865dcf2-de40-4e39-a9fa-523113fef394",
   "metadata": {},
   "source": [
    "### Arithmetic Operations\n",
    "\n",
    "| Expression    | Operator |\n",
    "| -------- | ------- |\n",
    "| Addition  | `+`    |\n",
    "| Subtraction | `-`     |\n",
    "| Multiplication    | `*`    |\n",
    "| Float division  | `/`   |\n",
    "| Exponent | `**`     |\n",
    "| Remainder    | `%`    |\n",
    "| Integer division | `//`     |\n",
    "| Order of operations    | `( )`    |\n",
    "\n",
    "**Try some operators out in the cell below:**"
   ]
  },
  {
   "cell_type": "code",
   "execution_count": null,
   "id": "8e502ee7-d63a-4cba-a6c2-ae71b334302b",
   "metadata": {},
   "outputs": [],
   "source": []
  },
  {
   "cell_type": "markdown",
   "id": "0e7bc4a7-c517-4096-9e7b-f0dd37cec40a",
   "metadata": {
    "tags": []
   },
   "source": [
    "### Comparison Operators"
   ]
  },
  {
   "cell_type": "markdown",
   "id": "4a0f428d-04d3-4e08-ad29-85723de36c03",
   "metadata": {
    "tags": []
   },
   "source": [
    "Comparison operators, as the name implies is a way to compare two values. This allows you to ask the computer a question.\n",
    "\n",
    "\n",
    "| Name | Operator |\n",
    "|-------|-------|\n",
    "| equal to | `==` |\n",
    "| not equal to | `!=` |\n",
    "| greater than | `>` |\n",
    "| greater than or equal to | `>=` |\n",
    "| less than | `<` |\n",
    "| less than or equal to | `<=` |\n",
    "\n",
    "**See how the computer responds to the following question:**"
   ]
  },
  {
   "cell_type": "code",
   "execution_count": null,
   "id": "c7541d05-f796-4f7e-9454-2c7962b4e77a",
   "metadata": {},
   "outputs": [],
   "source": [
    "5 > 4"
   ]
  },
  {
   "cell_type": "markdown",
   "id": "429600d6-08fc-4b5b-bf65-fac68f7059a2",
   "metadata": {},
   "source": [
    "### Logic Operators"
   ]
  },
  {
   "cell_type": "markdown",
   "id": "9a1e288a-daea-4f2b-9972-921aca1d1bb5",
   "metadata": {},
   "source": [
    "We can combine comparisons using logic operators\n",
    "\n",
    "\n",
    "| Description | Operator |\n",
    "|-------|-------|\n",
    "| are both statements true? | `and` |\n",
    "| is either statement true? | `or` |\n",
    "\n",
    "**Try them out:**"
   ]
  },
  {
   "cell_type": "code",
   "execution_count": null,
   "id": "20be2a00-5cee-4ef7-9082-2d6d0924f50e",
   "metadata": {},
   "outputs": [],
   "source": []
  },
  {
   "cell_type": "markdown",
   "id": "62f3ec0f-9945-4015-ae12-97e60089239b",
   "metadata": {},
   "source": [
    "## Variables\n",
    "\n",
    "Like variables in math, variables in coding allow us to assign a value, like `5`,  to a variable, like `x`:"
   ]
  },
  {
   "cell_type": "code",
   "execution_count": null,
   "id": "d5bd1166-f213-4a5d-9ec7-da2971d07796",
   "metadata": {},
   "outputs": [],
   "source": []
  },
  {
   "cell_type": "code",
   "execution_count": null,
   "id": "33737926-271b-466a-877c-0e51e20fc368",
   "metadata": {},
   "outputs": [],
   "source": []
  },
  {
   "cell_type": "markdown",
   "id": "72598a57-0b9e-4f01-8607-51284cedac41",
   "metadata": {},
   "source": [
    "Variable assignments are not permanent. They can be overwritten by assigning a new value to an existing variable. This is where the order in which you run the cells is important. "
   ]
  },
  {
   "cell_type": "code",
   "execution_count": null,
   "id": "2af58efc-df3b-4772-9fbb-20ea4e9cf121",
   "metadata": {},
   "outputs": [],
   "source": []
  },
  {
   "cell_type": "markdown",
   "id": "da92f525-640e-4a83-b2b5-b9752c1dfa6d",
   "metadata": {},
   "source": [
    "However, we should think of variables much more broadly in Python as a \"bucket\" to store data. That data could be a single number, a list of items, even massive datasets."
   ]
  },
  {
   "cell_type": "markdown",
   "id": "8e4c6b1f-8eb1-44a5-a80f-2d696527142c",
   "metadata": {},
   "source": [
    "### Naming Variables"
   ]
  },
  {
   "cell_type": "markdown",
   "id": "187baf8b-6385-4bf4-a755-6fad3736893e",
   "metadata": {},
   "source": [
    "It is important to give variables a descriptive name as you want to write code so that others can understand it (`x` is too generic).\n",
    "\n",
    "Variable names are case sensitive. There are several common conventions when there are more than one word in a variable name:\n",
    "\n",
    "|Convention|Examples|\n",
    "|----------|--------|\n",
    "|Camel Case|`camelCase`|\n",
    "|Snake Case|`snake_case`|\n",
    "|Pascal Case|`PascalCase`|\n",
    "\n",
    "In these notebooks, we will use **snake case**."
   ]
  },
  {
   "cell_type": "markdown",
   "id": "53eea255-dcd4-41b4-a06a-89c04e56f70d",
   "metadata": {
    "tags": []
   },
   "source": [
    "## Functions"
   ]
  },
  {
   "cell_type": "markdown",
   "id": "5520cb5e-a7c0-4a64-a33e-bc44559439d5",
   "metadata": {},
   "source": [
    "While operators are the most basic way to interact with a computer, they can be combined to perform more complex tasks. The job of a function is to take one or more inputs, called \"arguments\", and work on them to \"return\" an output.  \n",
    "\n",
    "You saw a Python function in the code cell above: `print(\"Hello, world!\")`. This is called the **print function** and it's pretty obvious what it does."
   ]
  },
  {
   "cell_type": "markdown",
   "id": "05067f52-9280-4a65-be39-c1dc22e463f1",
   "metadata": {
    "tags": []
   },
   "source": [
    "Fortunately, Python has many built-in functions in addition to `print()`.  They have the general form `function_name(argument_1, argument_2, etc.)`. Here are just a few:\n",
    "\n",
    "| Function | What it does |\n",
    "|-------|-------|\n",
    "| `abs(x)` | returns the absolute value of x |\n",
    "| `max(x, y, ...)` | returns the largest item from a list |\n",
    "| `round(x, ndigits=NONE)` | rounds x to the specified number of decimal places |\n",
    "\n",
    "Notice the round function takes two arguments `x`, the number you want to round, and `ndigits`, how many decimal places you want to round `x` to. `ndigits=NONE` is the way of showing that the function will defaut to no decimal places if the `ndigits` argument is not specified.\n"
   ]
  },
  {
   "cell_type": "markdown",
   "id": "baa29295-cea9-4086-9dd2-1f3469a71dde",
   "metadata": {},
   "source": [
    "**Use the `round()` function to round 3.14159 to 2 decimal places:**"
   ]
  },
  {
   "cell_type": "code",
   "execution_count": null,
   "id": "186e574c-a61b-45f5-8937-d814cb7bdb1a",
   "metadata": {},
   "outputs": [],
   "source": []
  },
  {
   "cell_type": "markdown",
   "id": "f6f0cdfd-75b5-4c1e-b953-ad938fecbdc6",
   "metadata": {},
   "source": [
    "You can \"define\" your own functions. See if you can figure out what this function is designed to do:"
   ]
  },
  {
   "cell_type": "code",
   "execution_count": null,
   "id": "768e132c-b948-4db3-8282-f414fe971653",
   "metadata": {
    "tags": []
   },
   "outputs": [],
   "source": []
  },
  {
   "cell_type": "markdown",
   "id": "d929f709-9e73-4686-88ee-e1c53a0af6ef",
   "metadata": {},
   "source": [
    "To use a function we \"call\" it and \"pass\" it the necessary argument(s):"
   ]
  },
  {
   "cell_type": "code",
   "execution_count": null,
   "id": "18cc3830-239b-4517-aa3c-127af466e6b5",
   "metadata": {},
   "outputs": [],
   "source": []
  },
  {
   "cell_type": "markdown",
   "id": "ea9a4106-707f-47be-a0f4-b9817bd34054",
   "metadata": {},
   "source": [
    "**Let's try modifying the function so it returns a number rounded to 2 decimal places:**"
   ]
  },
  {
   "cell_type": "code",
   "execution_count": null,
   "id": "576c34b1-a771-4c75-b2cf-a63f7b902fc4",
   "metadata": {},
   "outputs": [],
   "source": []
  },
  {
   "cell_type": "code",
   "execution_count": null,
   "id": "986e54fb-d8e8-413d-887e-23e8729f37ac",
   "metadata": {},
   "outputs": [],
   "source": []
  },
  {
   "cell_type": "markdown",
   "id": "b389ee80-aa67-4af8-b68d-d113889e501b",
   "metadata": {},
   "source": [
    "**How can improve the function so it is more flexible?**"
   ]
  },
  {
   "cell_type": "code",
   "execution_count": null,
   "id": "60b4450d-0b15-490f-9402-4ca3250b4f5e",
   "metadata": {},
   "outputs": [],
   "source": []
  },
  {
   "cell_type": "code",
   "execution_count": null,
   "id": "ebd71c39-b629-4fc7-9e8a-b8ebb9ae1f52",
   "metadata": {},
   "outputs": [],
   "source": []
  },
  {
   "cell_type": "markdown",
   "id": "55413b64-5cd2-4882-aa6a-676b499880f8",
   "metadata": {},
   "source": [
    "### Libraries\n",
    "\n",
    "Python has 68 built-in functions. Many more functions are packaged in **libraries**. There are over 100,000 Python libraries! \n",
    "\n",
    "For example, the `math` library has functions associated with, you guessed it, math operations. Before using it, you must first **import** it:"
   ]
  },
  {
   "cell_type": "code",
   "execution_count": null,
   "id": "31e34df0-269d-4122-9e3a-1e2aafb2cc70",
   "metadata": {},
   "outputs": [],
   "source": []
  },
  {
   "cell_type": "markdown",
   "id": "62bc9a67-85c7-44e7-ac55-2197c7d158fe",
   "metadata": {},
   "source": [
    "Calling a function from a library uses the following syntax:\n",
    "\n",
    "`library.function_name(arguments)`\n",
    "\n",
    "So how do you know what functions are available in a library? After typing `math.`, hit the `tab` key:"
   ]
  },
  {
   "cell_type": "markdown",
   "id": "7cb304a7-7709-42ef-81bc-ab8b2a7da97f",
   "metadata": {},
   "source": [
    "Since we may not know what kind and how many arguments a function takes, we can use `shift` + `tab` to find out: "
   ]
  },
  {
   "cell_type": "markdown",
   "id": "5865a813-d07f-430a-a5bf-f336558e63f3",
   "metadata": {},
   "source": [
    "**See what functions are in the `math` library and try some out.**\n"
   ]
  },
  {
   "cell_type": "code",
   "execution_count": null,
   "id": "946840b0-6ef4-4054-b10a-d5f8d00ed046",
   "metadata": {},
   "outputs": [],
   "source": []
  },
  {
   "cell_type": "markdown",
   "id": "470ada39-c31f-47b4-b9ed-f4c9b063149e",
   "metadata": {
    "tags": []
   },
   "source": [
    "## Loops"
   ]
  },
  {
   "cell_type": "markdown",
   "id": "b18ad214-0419-4869-8b74-fa31c53854ea",
   "metadata": {},
   "source": [
    "Often, a series of instructions needs to be repeated multiple times. A key part of this is telling the computer when to stop repeating. Sometimes you will want the process repeated a certain *number of times*. Other times, you will want the process repeated *until something happen*."
   ]
  },
  {
   "cell_type": "markdown",
   "id": "78414466-94d9-499f-8416-d63462c59175",
   "metadata": {},
   "source": [
    "A **for loop** will repeat a certain number of times."
   ]
  },
  {
   "cell_type": "code",
   "execution_count": null,
   "id": "04d65e4f-c776-4ad0-8754-dee8b30a2b9d",
   "metadata": {},
   "outputs": [],
   "source": []
  },
  {
   "cell_type": "markdown",
   "id": "1ee737cf-a700-491d-aabb-4c5402602b2a",
   "metadata": {
    "tags": []
   },
   "source": [
    "A **while loop** will repeat while a condition is met:"
   ]
  },
  {
   "cell_type": "code",
   "execution_count": null,
   "id": "4353c0be-3717-450c-a192-407c9577964a",
   "metadata": {},
   "outputs": [],
   "source": []
  }
 ],
 "metadata": {
  "kernelspec": {
   "display_name": "Python 3 (ipykernel)",
   "language": "python",
   "name": "python3"
  },
  "language_info": {
   "codemirror_mode": {
    "name": "ipython",
    "version": 3
   },
   "file_extension": ".py",
   "mimetype": "text/x-python",
   "name": "python",
   "nbconvert_exporter": "python",
   "pygments_lexer": "ipython3",
   "version": "3.9.12"
  }
 },
 "nbformat": 4,
 "nbformat_minor": 5
}
