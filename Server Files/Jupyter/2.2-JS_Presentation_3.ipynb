{
 "cells": [
  {
   "cell_type": "markdown",
   "metadata": {},
   "source": [
    "# Correlations and Visualizations\n",
    "\n",
    "### Visualizing Relationships Between Different Variables"
   ]
  },
  {
   "cell_type": "markdown",
   "metadata": {},
   "source": [
    "### Scatter Plot\n",
    "\n",
    "Comparing two variables\n",
    "\n",
    "<img src= \"../images/scatter.png\" width = 600>\n",
    "\n",
    "___\n"
   ]
  },
  {
   "cell_type": "markdown",
   "metadata": {},
   "source": [
    "What to look for:\n",
    "- As one thing goes up, does another go down?\n",
    "  - Causal\n",
    "  - Correlative\n",
    "  \n",
    "  \n",
    "- Correlation != Causation\n",
    "- Example: price of gallon of gas and price of gallon of milk\n",
    "  - Positively correlated: both have been increasing for years\n",
    "  - But: If milk goes up, does that mean gas will go up?\n",
    "  \n",
    "  ___"
   ]
  },
  {
   "cell_type": "markdown",
   "metadata": {},
   "source": [
    "### Correlation\n",
    "\n",
    "\n",
    "<img src= \"../images/correlation.png\" width = 600>\n",
    "\n",
    "Now we can see if there is correlation between the variables: \n",
    "* **Positive:** As one value increases, the other value increases: up and to the right \n",
    "* **Negative:** As one value increases, the other decreases: down and to the right : if Y is high, X is low & if X is high, Y is low \n",
    "* **No Correlation:** do not follow a pattern\n",
    "___\n",
    "\n"
   ]
  },
  {
   "cell_type": "code",
   "execution_count": null,
   "metadata": {},
   "outputs": [],
   "source": [
    "# Import needed libraries\n",
    "\n",
    "import numpy as np\n",
    "import pandas as pd\n",
    "import matplotlib.pyplot as plt\n",
    "\n",
    "plt.style.use('seaborn')"
   ]
  },
  {
   "cell_type": "code",
   "execution_count": null,
   "metadata": {},
   "outputs": [],
   "source": [
    "# Read crime data set\n",
    "Crimes = pd.read_csv(\"../data/crime_data_2009.csv\")\n",
    "Crimes.head()"
   ]
  },
  {
   "cell_type": "code",
   "execution_count": null,
   "metadata": {},
   "outputs": [],
   "source": [
    "# Which variables from the data set do we want to use?\n",
    "# We will plot the x_var on the X axis, and y_var on the Y axis\n",
    "x_var = 'Murder'\n",
    "y_var = 'Robbery'\n",
    "\n",
    "# Get the values for the x_var and y_var\n",
    "x = Crimes[x_var]\n",
    "y = Crimes[y_var]\n",
    "\n",
    "# Create a scatter plot using x and y\n",
    "plt.scatter(x, y)\n",
    "\n",
    "# Add a title\n",
    "plt.title(\"U.S. Crime Correlations by State: 2019\")\n",
    "\n",
    "# Add axis labels\n",
    "plt.xlabel(x_var)\n",
    "plt.ylabel(y_var)\n",
    "\n",
    "# Draw the plot\n",
    "plt.plot()"
   ]
  },
  {
   "cell_type": "code",
   "execution_count": null,
   "metadata": {},
   "outputs": [],
   "source": [
    "# Which variables from the data set do we want to use?\n",
    "# We will plot the x_var on the X axis, and y_var on the Y axis\n",
    "x_var = 'Murder'\n",
    "y_var = 'Robbery'\n",
    "\n",
    "# Get the values for the x_var and y_var\n",
    "x = Crimes[x_var]\n",
    "y = Crimes[y_var]\n",
    "\n",
    "# Create a scatter plot using x and y\n",
    "plt.scatter(x, y)\n",
    "\n",
    "# Add a title\n",
    "plt.title(\"U.S. Crime Correlations by State: 2019\")\n",
    "\n",
    "# Add axis labels\n",
    "plt.xlabel(x_var)\n",
    "plt.ylabel(y_var)\n",
    "\n",
    "# Get the values for creating a trend line (polynomial) and add it to the plot\n",
    "m, b = np.polyfit(x, y, 1)\n",
    "plt.plot(x, m*x + b)\n",
    "\n",
    "# Draw the plot\n",
    "plt.plot()"
   ]
  },
  {
   "cell_type": "code",
   "execution_count": null,
   "metadata": {},
   "outputs": [],
   "source": []
  }
 ],
 "metadata": {
  "kernelspec": {
   "display_name": "Python 3 (ipykernel)",
   "language": "python",
   "name": "python3"
  },
  "language_info": {
   "codemirror_mode": {
    "name": "ipython",
    "version": 3
   },
   "file_extension": ".py",
   "mimetype": "text/x-python",
   "name": "python",
   "nbconvert_exporter": "python",
   "pygments_lexer": "ipython3",
   "version": "3.9.7"
  }
 },
 "nbformat": 4,
 "nbformat_minor": 4
}
