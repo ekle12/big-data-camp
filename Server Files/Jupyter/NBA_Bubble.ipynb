{
 "cells": [
  {
   "cell_type": "markdown",
   "id": "d06644cc-54ae-4730-8c61-86915220aa27",
   "metadata": {},
   "source": [
    "# Was there a home court advantage in the basketball bubble?\n",
    "-------------------------\n",
    "<br>\n",
    "\n",
    "**By the end of this notebook, you should be able to**: \n",
    "- Simulate the null hypothesis\n",
    "- Visualize the results of the simulation\n",
    "- Calculate and interpret a p-value\n",
    "<br><br>\n",
    "\n",
    "\n",
    "During the early days of the Covid-19 pandemic, the NBA tried to finish out the season by hosting 88 games at Disney World where players and staff were quarantined and tested regularly. They tried to recreate the atmosphere of a home court advantage for a team selected randomly as the \"home\" team for each game using virtual cheerleaders, fans and sounds from the team's real home court. \n",
    "\n",
    "If there was no home court advantage (the *null hypothesis*), we would expect the home team to win about 44 of the 88 games (50%). Suprisingly, the \"home\" team won 49 of the 88 games (56%). Does this suggest that there was a real home court advantage?\n",
    "\n",
    "A data scientists approaches this problem in a unique way by asking the question:\n",
    "\n",
    "**In a world where there is no home court advantage, what are the chances that the home teams wins 49 or more of the 88 games played?**\n",
    "\n",
    "Let's try to answer this question.\n",
    "\n",
    "\n",
    "<br>\n",
    "\n",
    "<center><img src=\"../imgs/basketball.jpeg\" alt=\"Drawing\" style=\"width: 600px;\"/> </td><center>\n",
    "\n",
    "\n",
    "\n"
   ]
  },
  {
   "cell_type": "markdown",
   "id": "96e8b905-e85a-40cf-aa3a-5df44c9c6c33",
   "metadata": {},
   "source": [
    "**Import the Pandas (`as pd`), Numpy (`as np`) and Matplotlib libraries**"
   ]
  },
  {
   "cell_type": "code",
   "execution_count": 11,
   "id": "7f9edef2-1954-4db5-9386-42f664268b48",
   "metadata": {},
   "outputs": [],
   "source": [
    "import pandas as pd\n",
    "import numpy as np"
   ]
  },
  {
   "cell_type": "markdown",
   "id": "fd7b37d6-446e-42cf-b8dd-a4191a232422",
   "metadata": {},
   "source": [
    "You will also seed a library called *Matplotlib* which uses a different import. Just run the following cell."
   ]
  },
  {
   "cell_type": "code",
   "execution_count": 12,
   "id": "42b19338-56d9-4af9-a3fd-36e363236e9c",
   "metadata": {},
   "outputs": [],
   "source": [
    "from matplotlib import pyplot as plt"
   ]
  },
  {
   "cell_type": "markdown",
   "id": "ec89c1ae-95a5-4304-b388-a4d033634541",
   "metadata": {},
   "source": [
    "## Simulating One Season\n",
    "\n",
    "We approach this question assuming that the null hypothesis is true: **there was not a home court advantage**. In this world, there is no difference between playing at home or away -- the home team has a 50% chance of winning each game. Let's simulate one 88-game season in a world where there is no home court advantage."
   ]
  },
  {
   "cell_type": "markdown",
   "id": "9feb8de2-d3cf-42c8-b437-a909f6ec93d8",
   "metadata": {},
   "source": [
    "**Create a variable called `number_games` and set it equal to 88.**"
   ]
  },
  {
   "cell_type": "code",
   "execution_count": 13,
   "id": "6bae9b41-b0a5-4c6f-b98c-0a88a6739705",
   "metadata": {},
   "outputs": [],
   "source": [
    "number_games = 88"
   ]
  },
  {
   "cell_type": "markdown",
   "id": "f5ca496e-2120-4342-b5e7-b18b54f7b60a",
   "metadata": {},
   "source": [
    "**Create a list with only two items: `'win'` and `'loss'` and store it a variable called `result`**"
   ]
  },
  {
   "cell_type": "code",
   "execution_count": 14,
   "id": "90467210-fcc4-4358-83f3-0729670b1857",
   "metadata": {},
   "outputs": [],
   "source": [
    "result = ['win', 'loss']"
   ]
  },
  {
   "cell_type": "markdown",
   "id": "d06d0a32-c6e3-4a18-a734-5a1055204c35",
   "metadata": {},
   "source": [
    "**Convert the list `result` into a Numpy array and store it in a variable called `game`**"
   ]
  },
  {
   "cell_type": "code",
   "execution_count": 15,
   "id": "6134264d-e7cb-4dcd-81c5-ad2210fc6345",
   "metadata": {},
   "outputs": [],
   "source": [
    "game = np.array(result)"
   ]
  },
  {
   "cell_type": "markdown",
   "id": "48bd68ef-cabc-4436-b144-0adec533e1c9",
   "metadata": {},
   "source": [
    "Numpy has a function called `random.choice` which takes two arguments: a list that contains the possibilities it will randomly select from, and the number of times it will choose. This function will return a 1D array.\n",
    "\n",
    "**Use the `random.choice` function to create an array of 88 'win' and 'loss' choices. Store the output array in a variable called `season`.**"
   ]
  },
  {
   "cell_type": "code",
   "execution_count": 16,
   "id": "1a405ea3-7248-47d7-89c7-fe2341f8689b",
   "metadata": {},
   "outputs": [
    {
     "name": "stdout",
     "output_type": "stream",
     "text": [
      "['loss' 'win' 'win' 'loss' 'win' 'win' 'loss' 'loss' 'loss' 'win' 'win'\n",
      " 'loss' 'win' 'loss' 'win' 'win' 'loss' 'win' 'win' 'win' 'loss' 'loss'\n",
      " 'win' 'win' 'win' 'loss' 'win' 'win' 'loss' 'win' 'loss' 'win' 'loss'\n",
      " 'loss' 'win' 'loss' 'win' 'loss' 'win' 'win' 'loss' 'loss' 'win' 'win'\n",
      " 'win' 'loss' 'loss' 'win' 'loss' 'loss' 'loss' 'win' 'loss' 'loss' 'loss'\n",
      " 'loss' 'win' 'loss' 'loss' 'win' 'win' 'win' 'loss' 'win' 'win' 'win'\n",
      " 'win' 'loss' 'loss' 'win' 'loss' 'win' 'win' 'loss' 'win' 'loss' 'win'\n",
      " 'win' 'loss' 'win' 'loss' 'win' 'loss' 'win' 'loss' 'win' 'loss' 'win']\n"
     ]
    }
   ],
   "source": [
    "season = np.random.choice(game, number_games)\n",
    "print(season)"
   ]
  },
  {
   "cell_type": "markdown",
   "id": "6ac1a2a1-e728-488a-9b94-4e48fa1db17a",
   "metadata": {},
   "source": [
    "**Use the `count_nonzero` function in Numpy to count the number of `'wins'` in your simulation and store it in a variable called `home_team_wins`.**"
   ]
  },
  {
   "cell_type": "code",
   "execution_count": 17,
   "id": "b1fac616-e6e9-46ee-824c-eaff7918f549",
   "metadata": {},
   "outputs": [
    {
     "name": "stdout",
     "output_type": "stream",
     "text": [
      "47\n"
     ]
    }
   ],
   "source": [
    "home_team_wins = np.count_nonzero(season == 'win')\n",
    "print(home_team_wins)"
   ]
  },
  {
   "cell_type": "markdown",
   "id": "b0a03861-50c0-4b6b-87cb-067741d55e3a",
   "metadata": {},
   "source": [
    "### Challenge Yourself\n",
    "\n",
    "Define a function called `one_season` that returns the number of `'win'`'s."
   ]
  },
  {
   "cell_type": "code",
   "execution_count": null,
   "id": "49de8c2a-2602-47d3-b570-14927e68d5f6",
   "metadata": {},
   "outputs": [],
   "source": []
  },
  {
   "cell_type": "markdown",
   "id": "a8d05bc8-3344-4da8-9549-6281abebc679",
   "metadata": {
    "jp-MarkdownHeadingCollapsed": true,
    "tags": []
   },
   "source": [
    "#### Solution"
   ]
  },
  {
   "cell_type": "markdown",
   "id": "09a5e193-722c-4583-836d-ef8320110d3f",
   "metadata": {},
   "source": [
    "```Python\n",
    "def one_season():\n",
    "    season = np.random.choice(game, number_games)\n",
    "    home_team_wins = np.count_nonzero(season == 'win')\n",
    "    return home_team_wins\n",
    "```"
   ]
  },
  {
   "cell_type": "markdown",
   "id": "c8998bb3-80f6-4b9f-9ac4-6f9574b650b2",
   "metadata": {},
   "source": [
    "## Visualizing the Data\n",
    "\n",
    "We can visualize the results of our simulation using a **histogram** which divides the possible outcomes (the number of games won by the home team) into \"bins\". Each bin counts the number of seasons with a certain number of home team wins and represents it as a bar. It looks like a bar graph, but the key difference is that histograms chart quantitative (number) data, bar graphs chart categorical data (like months of the year)."
   ]
  },
  {
   "cell_type": "markdown",
   "id": "9d7c50df-fd8c-477e-a6c7-8413b046c2b2",
   "metadata": {},
   "source": [
    "**If you haven't already, define a function called `one_season` that returns the number of `'win'`'s. The code is in the** ***Solution*** **cell above.**"
   ]
  },
  {
   "cell_type": "code",
   "execution_count": 18,
   "id": "04b9868d-8a81-4052-a863-fc9b6742e966",
   "metadata": {},
   "outputs": [],
   "source": [
    "def one_season():\n",
    "    season = np.random.choice(game, number_games)\n",
    "    home_team_wins = np.count_nonzero(season == 'win')\n",
    "    return home_team_wins"
   ]
  },
  {
   "cell_type": "markdown",
   "id": "b9aa8eb7-5a70-4793-bb27-e7d9d9e4a68c",
   "metadata": {},
   "source": [
    "The following code will generate a histogram using the Matplotlib library. Before running the cell, read through the code to make sense of how you can make a visualization with Matplotlib."
   ]
  },
  {
   "cell_type": "code",
   "execution_count": 19,
   "id": "52e0545d-bf67-4937-856b-a8f408e5cc7d",
   "metadata": {},
   "outputs": [
    {
     "data": {
      "image/png": "[encoded data removed]",
      "text/plain": [
       "<Figure size 432x288 with 1 Axes>"
      ]
     },
     "metadata": {
      "needs_background": "light"
     },
     "output_type": "display_data"
    }
   ],
   "source": [
    "# Create the histogram from the results of running the one_season function:\n",
    "plt.hist(one_season(), bins = np.arange(20, 70, 1), edgecolor='black', linewidth=0.5) # x-axis has range 20-70 and the width of a bin is 1\n",
    "plt.xlabel('Number of Home Team Wins')\n",
    "plt.ylabel('Freqency')\n",
    "plt.show()"
   ]
  },
  {
   "cell_type": "markdown",
   "id": "241b4fce-5cda-48d6-8908-c92d6ade468f",
   "metadata": {},
   "source": [
    "## Simulating Multiple Seasons\n",
    "\n",
    "The above histogram isn't very helpful because it only shows the results of one season. Simulations are most useful when you run them many times.\n",
    "We need to simulate the results of many seasons to get an idea of the probability of the home team winning a certain number of games, 49 in this case. The following code uses a `for loop` to run the simulation however many times we want. Change the code to simulate the following, ending with 10,000 seasons:\n",
    "\n",
    "- 5 seasons\n",
    "- 20 seasons\n",
    "- 100 seasons\n",
    "- 1,000 seasons\n",
    "- 10,000 seasons"
   ]
  },
  {
   "cell_type": "markdown",
   "id": "d76e3781-45b9-44e0-af83-f40f1af1a0e5",
   "metadata": {},
   "source": [
    "**Create a variable called `num_seasons` and set it equal to the desired number of seasons to simulate.**"
   ]
  },
  {
   "cell_type": "code",
   "execution_count": 20,
   "id": "6715c300-560d-4b5a-af01-85eda1f7933d",
   "metadata": {},
   "outputs": [],
   "source": [
    "num_seasons =  10000"
   ]
  },
  {
   "cell_type": "markdown",
   "id": "07eda08f-3e57-4cc9-af25-5295219ca3ab",
   "metadata": {},
   "source": [
    "**Run the following cell run the simulation.**"
   ]
  },
  {
   "cell_type": "code",
   "execution_count": 21,
   "id": "748fce2f-8b0f-4800-ade2-006a4c103dfa",
   "metadata": {},
   "outputs": [],
   "source": [
    "simulation = np.array([]) # empty list to hold results of each season\n",
    "\n",
    "for i in np.arange(num_seasons):   # repeat the process num_seasons times\n",
    "    new_value = one_season()  # simulate 88 games using the one_season function\n",
    "    simulation = np.append(simulation, new_value) # add the new season to the list\n",
    "    "
   ]
  },
  {
   "cell_type": "markdown",
   "id": "d507c47a-99bf-4c93-8f9b-607a7be52184",
   "metadata": {},
   "source": [
    "**Run the following cell to plot the histogram.**"
   ]
  },
  {
   "cell_type": "code",
   "execution_count": 22,
   "id": "dc032bcc-9dbe-4dfa-b7b3-13a4464d70f5",
   "metadata": {},
   "outputs": [
    {
     "data": {
      "image/png": "[encoded data removed]",
      "text/plain": [
       "<Figure size 432x288 with 1 Axes>"
      ]
     },
     "metadata": {
      "needs_background": "light"
     },
     "output_type": "display_data"
    }
   ],
   "source": [
    "fig, ax = plt.subplots()    \n",
    "plt.hist(simulation, np.arange(20, 70, 1), edgecolor='black', linewidth=0.5)\n",
    "ax.axvline(49, color='r') # Draw a vertical line at 49 games (what was observed)\n",
    "plt.xlabel('Number of Home Team Wins')\n",
    "plt.ylabel('Freqency')\n",
    "plt.show()"
   ]
  },
  {
   "cell_type": "markdown",
   "id": "6ecf4911-6927-419b-831d-1962b57e08cc",
   "metadata": {
    "tags": []
   },
   "source": [
    "## What are the chances?\n",
    "\n",
    "The histogram shows the result of 10,000 seasons played where there is no home court advantage. The red line shows what actually occurred in the NBA bubble. "
   ]
  },
  {
   "cell_type": "markdown",
   "id": "f87e4418-d7af-4fd1-b266-18199a3334a0",
   "metadata": {},
   "source": [
    "**Based on what you see in the histogram, does the home team winning 49 of the 88 games in a world where there is no home court advantage seem out of the ordinary?** "
   ]
  },
  {
   "cell_type": "markdown",
   "id": "a99a543b-0bb7-4798-a3e8-eac3f15be854",
   "metadata": {},
   "source": [
    "<img src=\"https://upload.wikimedia.org/wikipedia/commons/thumb/7/7b/Canada_Stop_sign.svg/240px-Canada_Stop_sign.svg.png\" alt=\"Drawing\" align=left style=\"width: 60px;\"/> "
   ]
  },
  {
   "cell_type": "markdown",
   "id": "03ecf411-4453-4594-868b-60888c3e47b0",
   "metadata": {},
   "source": [
    "### Analysis\n",
    "\n",
    "As you have seen before, data scientists really like to express things in numbers as opposed to words. Therefore we need to answer our driving question with a number: \n",
    "\n",
    "**In a world where there is no home court advantage, what are the chances that the home teams wins 49 or more of the 88 games played?**\n",
    "\n",
    "*In other words:* **What percentage of the simulated seasons had the home team winning 49 or more of the 88 games?**\n",
    "\n",
    "Complete the following code to perform this calculation."
   ]
  },
  {
   "cell_type": "markdown",
   "id": "309b0b28-676d-45c6-a7be-a3cd67e06075",
   "metadata": {},
   "source": [
    "**Count the number of simulated seasons where the home team won 49 or more of the games and store it a variable named `count`. Remember, the variable `simulation` contains the number of `'win'`'s of each simulated season.**"
   ]
  },
  {
   "cell_type": "code",
   "execution_count": 23,
   "id": "eba7d1c2-76ff-41c0-8138-2be1b71de4cf",
   "metadata": {},
   "outputs": [],
   "source": [
    "count = np.count_nonzero(simulation >= 49)"
   ]
  },
  {
   "cell_type": "markdown",
   "id": "f0e23faf-4769-419c-b1fd-6a5b6f9ffeb5",
   "metadata": {},
   "source": [
    "**Calculate the percentage of simulated seasons where the home team had 49 or more wins using the following formula:**\n",
    "\n",
    "$$ \\%~seasons = {count \\over number~of~seasons} \\times 100\\%$$"
   ]
  },
  {
   "cell_type": "code",
   "execution_count": 26,
   "id": "cd6918e6-d4f5-491c-a823-0517072f7f85",
   "metadata": {},
   "outputs": [
    {
     "name": "stdout",
     "output_type": "stream",
     "text": [
      "17.9\n"
     ]
    }
   ],
   "source": [
    "per_seasons = (count / num_seasons) * 100\n",
    "print(per_seasons)"
   ]
  },
  {
   "cell_type": "markdown",
   "id": "4c5590fc-60a3-45bd-899e-d2162e58fa6c",
   "metadata": {},
   "source": [
    "This value is important. It tell us the chances of the home team winning 49 or more games in a world where there is no home court advantage. Data scientists have a special name for this: the **p-value**. It can be expressed as a proportion, like `0.15` or a percentage like `15%`."
   ]
  },
  {
   "cell_type": "markdown",
   "id": "618cc2cd-918d-4be2-b34d-a3be63572ec8",
   "metadata": {},
   "source": [
    "### How much is too much?\n",
    "\n",
    "Remember, we are looking to see if there is enough evidence to **reject** the null hypothesis. The p-value you calculated is how often the home team is expected to win 49 or more games in an 88 game season **in a world where there is no home court advantage**. In order to reject the null hypoothesis, we need to determine if winning 49 games is out of the ordinary. In other words, is winning 49 games really that unusual in a world where there is no home court advantage?"
   ]
  },
  {
   "cell_type": "markdown",
   "id": "9f2922de-940a-4fe8-83ec-62a8a224a274",
   "metadata": {},
   "source": [
    "**Based on your p-value, do you think there is enough evidence to reject the null hypothesis?** "
   ]
  },
  {
   "cell_type": "markdown",
   "id": "df9b84bf-3a36-4d33-b1e7-a7656941a5aa",
   "metadata": {},
   "source": [
    "This notebook is based on an example originally developed by https://skewthescript.org/ (Lesson 7.4).\n",
    "<img src = \"../imgs/skew_the_script.png\" alt=\"Drawing\" align=left style=\"width: 200px;\"/>"
   ]
  }
 ],
 "metadata": {
  "kernelspec": {
   "display_name": "Python 3 (ipykernel)",
   "language": "python",
   "name": "python3"
  },
  "language_info": {
   "codemirror_mode": {
    "name": "ipython",
    "version": 3
   },
   "file_extension": ".py",
   "mimetype": "text/x-python",
   "name": "python",
   "nbconvert_exporter": "python",
   "pygments_lexer": "ipython3",
   "version": "3.9.12"
  }
 },
 "nbformat": 4,
 "nbformat_minor": 5
}
