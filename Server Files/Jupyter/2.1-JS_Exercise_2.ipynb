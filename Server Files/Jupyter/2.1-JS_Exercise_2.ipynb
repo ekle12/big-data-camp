{
 "cells": [
  {
   "cell_type": "markdown",
   "metadata": {},
   "source": [
    "# John Snow Exercise 2: A City Divided\n",
    "\n",
    "19th Century London was divided into districts, much like Chicago is divided into neighborhoods. These districts were grouped by geography, just like Chicago (South Side, North Side, West side, Far South Side, etc.)\n",
    "\n",
    "<img src=\"https://i2.wp.com/londontopia.net/wp-content/uploads/2014/08/london-county.jpg\" width=600>\n",
    "\n",
    "### Were certain districts impacted by cholera more than others?\n",
    "\n",
    "#### Dataset: `The_Outbreak_of_1849.csv`"
   ]
  },
  {
   "cell_type": "code",
   "execution_count": 1,
   "metadata": {},
   "outputs": [],
   "source": [
    "# Import Pandas and read in the dataset\n"
   ]
  },
  {
   "cell_type": "markdown",
   "metadata": {},
   "source": [
    "**Use some code from `JS_Exercise_1.ipynb` to calculate the death rate for the districts and add it as a new column. You can copy and paste but will have to make some changes.**"
   ]
  },
  {
   "cell_type": "code",
   "execution_count": null,
   "metadata": {},
   "outputs": [],
   "source": []
  },
  {
   "cell_type": "code",
   "execution_count": null,
   "metadata": {},
   "outputs": [],
   "source": []
  },
  {
   "cell_type": "markdown",
   "metadata": {},
   "source": [
    "### Were certain districts impacted by cholera more than others?"
   ]
  }
 ],
 "metadata": {
  "kernelspec": {
   "display_name": "Python 3 (ipykernel)",
   "language": "python",
   "name": "python3"
  },
  "language_info": {
   "codemirror_mode": {
    "name": "ipython",
    "version": 3
   },
   "file_extension": ".py",
   "mimetype": "text/x-python",
   "name": "python",
   "nbconvert_exporter": "python",
   "pygments_lexer": "ipython3",
   "version": "3.9.7"
  }
 },
 "nbformat": 4,
 "nbformat_minor": 4
}
