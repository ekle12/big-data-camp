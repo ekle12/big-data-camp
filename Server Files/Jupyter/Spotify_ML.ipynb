{
 "cells": [
  {
   "cell_type": "markdown",
   "id": "4e2a1a4e-2cac-472e-bad0-f7ddab43853f",
   "metadata": {},
   "source": [
    "# Machine Learning with Spotify\n",
    "\n",
    "<img src = 'https://upload.wikimedia.org/wikipedia/commons/thumb/1/1b/Silhouette_of_bare_tree_branches_under_twilight_sky.jpg/640px-Silhouette_of_bare_tree_branches_under_twilight_sky.jpg' width = 600>\n"
   ]
  },
  {
   "cell_type": "markdown",
   "id": "2167386c-1e0b-4856-82cc-2b70d1866ac1",
   "metadata": {},
   "source": [
    "Spotify has data on million of songs. It assigns certain atributes to each in order to describe the music. In manhine learning, we can use these attributes (known as **features**) to train the model. Here are a few:\n",
    "\n",
    "- **Mode**: 1=major, 0=minor\n",
    "- **Tempo**: beats per minute\n",
    "- **Duration**: length of somg (in milliseconds)\n",
    "- **Time signature**: 4=4/4, 3=3/4\n",
    "\n",
    "- **Acousticness**: confidence measure from 0.0 to 1.0 of whether the track is acoustic. 1.0 represents high confidence the track is acoustic.\n",
    "- **Danceability**: describes how suitable a track is for dancing based on a combination of musical elements including tempo, rhythm stability, beat strength, and overall regularity. A value of 0.0 is least danceable and 1.0 is most danceable.\n",
    "- **Energy**: Energy is a measure from 0.0 to 1.0 and represents a perceptual measure of intensity and activity. Typically, energetic tracks feel fast, loud, and noisy.\u000b",
    "\n",
    "- **Instrumentalness**: predicts whether a track contains no vocals.  Values above 0.5 are intended to represent instrumental tracks, but confidence is higher as the value approaches 1.0.\n",
    "- **Liveness**: detects the presence of an audience in the recording. Higher liveness values represent an increased probability that the track was performed live.\n",
    "- **Speechiness** detects the presence of spoken words in a track. The more exclusively speech-like the recording (e.g. talk show, audio book, poetry), the closer to 1.0 the attribute value.\n",
    "- **Valence**: measure from 0.0 to 1.0 describing the musical positiveness conveyed by a track. Tracks with high valence sound more positive (e.g. happy, cheerful, euphoric), while tracks with low valence sound more negative (e.g. sad, depressed, angry).\n",
    "\n",
    "    "
   ]
  },
  {
   "cell_type": "markdown",
   "id": "1eb9c3cb-3b19-437c-b13f-a40d892718ba",
   "metadata": {},
   "source": [
    "**Import Pandas**"
   ]
  },
  {
   "cell_type": "code",
   "execution_count": null,
   "id": "695738cd-4067-4050-aaf1-af908918fbed",
   "metadata": {},
   "outputs": [],
   "source": []
  },
  {
   "cell_type": "markdown",
   "id": "9a91c27e-bc99-4ebf-91fc-5ddfeb50b417",
   "metadata": {},
   "source": [
    "**Read in the Spotify dataset: `../data/spotify_all_genres_tracks.csv`**"
   ]
  },
  {
   "cell_type": "code",
   "execution_count": null,
   "id": "a77e20e0-b71f-4a99-8a80-9f7c3b0e1463",
   "metadata": {},
   "outputs": [],
   "source": []
  },
  {
   "cell_type": "markdown",
   "id": "2df209b4-e53a-4024-8285-c1026af74cdb",
   "metadata": {},
   "source": [
    "**Get a summary of the numerical data.**"
   ]
  },
  {
   "cell_type": "code",
   "execution_count": null,
   "id": "2bb0268a-62cb-4883-bb28-3bf8c784275f",
   "metadata": {},
   "outputs": [],
   "source": []
  },
  {
   "cell_type": "markdown",
   "id": "7c2e5aca-1abe-4f10-aa76-eb2ce591f337",
   "metadata": {},
   "source": [
    "**List the column names.**"
   ]
  },
  {
   "cell_type": "code",
   "execution_count": null,
   "id": "ad3fc705-1e75-4550-b73e-db6d4965c766",
   "metadata": {},
   "outputs": [],
   "source": []
  },
  {
   "cell_type": "markdown",
   "id": "8c5d1ca9-fae4-4f3f-aa1e-b0b1c56d798a",
   "metadata": {},
   "source": [
    "We are interested in predicting the genre of each song using the other features.\n",
    "\n",
    "**Identify the genres that are used in this dataset.**"
   ]
  },
  {
   "cell_type": "code",
   "execution_count": null,
   "id": "98c03a5c-075a-4b73-9b0a-b351059e6a79",
   "metadata": {},
   "outputs": [],
   "source": []
  },
  {
   "cell_type": "markdown",
   "id": "0fbc9cbb-68ce-4617-b4b6-672ee24820a9",
   "metadata": {},
   "source": [
    "In machine learning, you are interested in predicting something. In this case, it is the genre of the song. By convention, we set this \"target\" equal to `y`."
   ]
  },
  {
   "cell_type": "code",
   "execution_count": null,
   "id": "9344580e-ecfa-486d-b87d-3e4304c40760",
   "metadata": {},
   "outputs": [],
   "source": []
  },
  {
   "cell_type": "markdown",
   "id": "c9bd5c35-2fe6-4a25-92c4-cc046f77bf58",
   "metadata": {},
   "source": [
    "We can choose which features we want to use to train the model.\n",
    "\n",
    "**Choose several features and place them in a list, stored in a variable called `features`.**"
   ]
  },
  {
   "cell_type": "code",
   "execution_count": null,
   "id": "353d313a-b09c-4d11-a43b-15e52ca33aff",
   "metadata": {},
   "outputs": [],
   "source": []
  },
  {
   "cell_type": "markdown",
   "id": "3df3eff9-563b-41ee-89f9-b370b17fecd8",
   "metadata": {},
   "source": [
    "**By convention, the list of features is set equal to the variable `X`.**"
   ]
  },
  {
   "cell_type": "code",
   "execution_count": null,
   "id": "c7693b26-06f2-4d44-a9e8-ca398a46a0a3",
   "metadata": {},
   "outputs": [],
   "source": []
  },
  {
   "cell_type": "markdown",
   "id": "2147c8ff-9465-4046-afba-d12ff48013b4",
   "metadata": {},
   "source": [
    "**View and summarize the feature set.**"
   ]
  },
  {
   "cell_type": "code",
   "execution_count": null,
   "id": "d3a088cd-af04-4bdc-a81b-787ec28767d1",
   "metadata": {},
   "outputs": [],
   "source": []
  },
  {
   "cell_type": "code",
   "execution_count": null,
   "id": "cb579aee-5427-4ab0-a635-3ea22613667b",
   "metadata": {},
   "outputs": [],
   "source": []
  },
  {
   "cell_type": "markdown",
   "id": "fd8fac10-5f89-4173-a5e1-f59c0c0ebfb9",
   "metadata": {},
   "source": [
    "We will use the machine learning library **Scikit-learn** (`sklearn`). Specifically, its decision tree classifier to train the model.\n",
    "\n",
    "**Import the sklearn library.**"
   ]
  },
  {
   "cell_type": "code",
   "execution_count": null,
   "id": "34d12a86-77f4-40cd-ab02-4a3b76c2b2b7",
   "metadata": {},
   "outputs": [],
   "source": []
  },
  {
   "cell_type": "markdown",
   "id": "8273d9ee-796e-4ad8-b826-1a72a56e99a1",
   "metadata": {},
   "source": [
    "**Assign the model to an object called `spotify_model`. Specify a number for random_state to ensure same results each run.**"
   ]
  },
  {
   "cell_type": "code",
   "execution_count": null,
   "id": "ad909630-07b9-41bb-ad32-8a627760891a",
   "metadata": {},
   "outputs": [],
   "source": []
  },
  {
   "cell_type": "markdown",
   "id": "5f7727e8-b077-45fd-93ef-35086b0646f7",
   "metadata": {},
   "source": [
    "**Train the model using the features and target data.**"
   ]
  },
  {
   "cell_type": "code",
   "execution_count": null,
   "id": "3b9d0bcc-6c2a-4675-8695-1924af4a8738",
   "metadata": {},
   "outputs": [],
   "source": []
  },
  {
   "cell_type": "markdown",
   "id": "352b3722-465e-472a-aa02-ffdc0b56e0dc",
   "metadata": {},
   "source": [
    "**Make predictions for the first 5 songs of the dataset.**"
   ]
  },
  {
   "cell_type": "code",
   "execution_count": null,
   "id": "56b6aeaa-6a43-400a-8007-5c178f4d19ea",
   "metadata": {},
   "outputs": [],
   "source": []
  },
  {
   "cell_type": "markdown",
   "id": "175d3f43-a033-4133-91fc-1377b2f4be19",
   "metadata": {},
   "source": [
    "**Check the accuracy of the model's predictions.**"
   ]
  },
  {
   "cell_type": "code",
   "execution_count": null,
   "id": "748c7861-8ecc-4d79-8e69-677fe1731c73",
   "metadata": {},
   "outputs": [],
   "source": []
  },
  {
   "cell_type": "markdown",
   "id": "fe936f40-49f8-48c8-a6d7-35be7f5fc75d",
   "metadata": {},
   "source": [
    "Since we are training and testing the model on thousands of songs, we need an efficient way of measuring the models accuracy.\n",
    "\n",
    "**Import the `accuracy_score` method from Scikit-learn.**"
   ]
  },
  {
   "cell_type": "code",
   "execution_count": null,
   "id": "2430f260-1f43-4827-8458-f4df64f86c0e",
   "metadata": {},
   "outputs": [],
   "source": []
  },
  {
   "cell_type": "markdown",
   "id": "ced14f50-7365-4b18-8ad1-064fa46d971e",
   "metadata": {},
   "source": [
    "**Run the model on all of the songs in the dataset.**"
   ]
  },
  {
   "cell_type": "code",
   "execution_count": null,
   "id": "8d793fdc-9ca1-491a-b80c-708d6a8462dc",
   "metadata": {},
   "outputs": [],
   "source": []
  },
  {
   "cell_type": "markdown",
   "id": "c338bc32-fb9d-4ed3-827a-661ec877e604",
   "metadata": {},
   "source": [
    "**Measure the accuracy of the model.**"
   ]
  },
  {
   "cell_type": "code",
   "execution_count": null,
   "id": "86bb4fcb-c061-4bc9-9543-de5dadfa8d65",
   "metadata": {},
   "outputs": [],
   "source": []
  },
  {
   "cell_type": "markdown",
   "id": "13bcdee3-5c74-4edb-b798-30e973a3776b",
   "metadata": {},
   "source": [
    "## Training and Validating Your Model\n",
    "\n",
    "Properly training your model requires both training and validating it with two different subsets of the data."
   ]
  },
  {
   "cell_type": "markdown",
   "id": "984d0876-348b-49b9-81ca-22e0f0d680c1",
   "metadata": {},
   "source": [
    "**Import the `train_test_split` method from Scikit-learn.**"
   ]
  },
  {
   "cell_type": "code",
   "execution_count": null,
   "id": "c3eafffa-5291-436a-98f0-8a2b8455356a",
   "metadata": {},
   "outputs": [],
   "source": []
  },
  {
   "cell_type": "markdown",
   "id": "b675ce04-6466-4164-864e-6b9c42160136",
   "metadata": {},
   "source": [
    "**Split data into training and validation data, for both the features (`X`) and the target (`y`).**"
   ]
  },
  {
   "cell_type": "code",
   "execution_count": null,
   "id": "ae1a8b17-6c69-4182-98b2-0f9d6351ab2a",
   "metadata": {},
   "outputs": [],
   "source": []
  },
  {
   "cell_type": "markdown",
   "id": "dc94f25b-2d3f-4b7a-89d8-aef9b5171b9c",
   "metadata": {},
   "source": [
    "**View the subsets.**"
   ]
  },
  {
   "cell_type": "code",
   "execution_count": null,
   "id": "7ad90318-2041-4e86-a022-263a624c12a4",
   "metadata": {},
   "outputs": [],
   "source": []
  },
  {
   "cell_type": "code",
   "execution_count": null,
   "id": "13b764f8-1560-48f0-aed0-228456b33f3f",
   "metadata": {},
   "outputs": [],
   "source": []
  },
  {
   "cell_type": "markdown",
   "id": "5703adf7-24e0-4d69-9054-311d19bab1b9",
   "metadata": {},
   "source": [
    "**Assign the model to an object called `spotify_model`. Choose a maximum number of leaf nodes and specify a number for random_state to ensure same results each run.**"
   ]
  },
  {
   "cell_type": "code",
   "execution_count": null,
   "id": "99c0ae17-0eb7-4270-bf4c-94e5a4bedc49",
   "metadata": {},
   "outputs": [],
   "source": []
  },
  {
   "cell_type": "markdown",
   "id": "6f1859c3-092c-4a52-9e6d-05102a231c46",
   "metadata": {},
   "source": [
    "**Train the model on the training subset.**"
   ]
  },
  {
   "cell_type": "code",
   "execution_count": null,
   "id": "9202486d-5d93-4d8d-adb8-989bacc442a9",
   "metadata": {},
   "outputs": [],
   "source": []
  },
  {
   "cell_type": "markdown",
   "id": "fa78e10c-95fd-4247-9f9a-9ea94a350d80",
   "metadata": {},
   "source": [
    "**Use the new model to make prediction of the genres from the validation subset.**"
   ]
  },
  {
   "cell_type": "code",
   "execution_count": null,
   "id": "035f41a5-796b-4aff-b6b1-ccdd5822f045",
   "metadata": {},
   "outputs": [],
   "source": []
  },
  {
   "cell_type": "markdown",
   "id": "f43593ef-0721-4649-9e74-82fdb0ecccb9",
   "metadata": {},
   "source": [
    "**Score the accuracy of the model's predictions.**"
   ]
  },
  {
   "cell_type": "code",
   "execution_count": null,
   "id": "0025501e-a22d-4b04-8c21-115424ad451e",
   "metadata": {},
   "outputs": [],
   "source": []
  },
  {
   "cell_type": "markdown",
   "id": "01b547d9-6335-42cc-ad0a-5040ddaf6528",
   "metadata": {},
   "source": [
    "## Improving the model"
   ]
  },
  {
   "cell_type": "markdown",
   "id": "f9437a5a-1df0-46c1-a3d0-40d6ed37ea34",
   "metadata": {},
   "source": [
    "### Tree depth\n",
    "\n",
    "We can decide how complex we want the decision tree to be by specifying the number of leaf nodes. Limiting the number of leaf nodes can help control the complexity of the tree, prevent overfitting, and improve generalization on unseen data.\n",
    "\n",
    "<center><img src = '../imgs/charlie.jpeg' width = 600><center> \n"
   ]
  },
  {
   "cell_type": "markdown",
   "id": "4f007c6a-08c3-490e-8ea4-40d9ab5fa7cb",
   "metadata": {},
   "source": [
    "Since we care about accuracy on new data, which we estimate from our validation data, we want to find the sweet spot between underfitting and overfitting. Visually, we want the low point of the (red) validation curve in the figure below.\n",
    "\n",
    "<img src = 'https://upload.wikimedia.org/wikipedia/commons/thumb/1/1f/Overfitting_svg.svg/640px-Overfitting_svg.svg.png' width = 400>"
   ]
  },
  {
   "cell_type": "markdown",
   "id": "16c732d5-7107-48f3-adce-6a729551d14d",
   "metadata": {},
   "source": [
    "**Assign a value to the variable `max_leaf_nodes`.**"
   ]
  },
  {
   "cell_type": "code",
   "execution_count": null,
   "id": "fd53cdee-19c2-4db4-a7f6-0885b60aaa80",
   "metadata": {},
   "outputs": [],
   "source": []
  },
  {
   "cell_type": "markdown",
   "id": "eee3d7ce-dbc0-4d6a-bb73-10c3b3380103",
   "metadata": {},
   "source": [
    "**Retrain the model with the maximum number of leaf nodes and measure its accuracy on the validation subset.**"
   ]
  },
  {
   "cell_type": "code",
   "execution_count": null,
   "id": "6d4c4e84-c1cc-4d79-93df-008d8a4ff2f1",
   "metadata": {},
   "outputs": [],
   "source": [
    "\n"
   ]
  },
  {
   "cell_type": "code",
   "execution_count": null,
   "id": "8a7f370f-4b95-407b-ba72-7bb4b7d748a9",
   "metadata": {},
   "outputs": [],
   "source": [
    "\n"
   ]
  },
  {
   "cell_type": "markdown",
   "id": "0fe26a1d-77f9-47a9-8a90-46b4f0703fdc",
   "metadata": {},
   "source": [
    "**Define a function called `get_acc` that accepts `max_leaf_nodes`, `train_X`, `val_X`, `train_y`, and `val_y` as arguments and returns the accuracy of the model.**"
   ]
  },
  {
   "cell_type": "code",
   "execution_count": null,
   "id": "99ce31ae-d53c-4a76-a54e-7a85305e901b",
   "metadata": {},
   "outputs": [],
   "source": []
  },
  {
   "cell_type": "markdown",
   "id": "d5a4398c-5a5a-4439-b02a-93e793bdd4f9",
   "metadata": {},
   "source": [
    "**Test the function `get_acc`.**"
   ]
  },
  {
   "cell_type": "code",
   "execution_count": null,
   "id": "87f1dcd8-51e4-4da1-8e92-452535b3d0f6",
   "metadata": {},
   "outputs": [],
   "source": []
  },
  {
   "cell_type": "markdown",
   "id": "f4712609-780d-4821-b411-8cbce8a5c754",
   "metadata": {},
   "source": [
    "**Create a `for loop` that runs the `get_acc` function for 5, 50, 500 and 5000 max_leaf_nodes and returns the accuracy for each model run.**"
   ]
  },
  {
   "cell_type": "code",
   "execution_count": null,
   "id": "6208cf9c-7908-4664-98db-16478470909f",
   "metadata": {},
   "outputs": [],
   "source": []
  },
  {
   "cell_type": "markdown",
   "id": "5f15cc28-301a-43fb-ac5a-191b96b51ced",
   "metadata": {},
   "source": [
    "**Modify the `for loop` to find the optimal number for `max_leaf_nodes`.**"
   ]
  },
  {
   "cell_type": "markdown",
   "id": "7f497d95-b3cd-4309-b507-66ec137f6122",
   "metadata": {},
   "source": [
    "fine tune"
   ]
  },
  {
   "cell_type": "code",
   "execution_count": null,
   "id": "f11ee173-3ab5-451d-a4a0-c4ff24d8da8d",
   "metadata": {},
   "outputs": [],
   "source": []
  },
  {
   "cell_type": "markdown",
   "id": "8e01eb6f-0c4a-4da1-8fed-6178e9554bcf",
   "metadata": {},
   "source": [
    "### Improve Your Model\n",
    "\n",
    "Continue to adjust the parameters of your model to see if you can improve its accuracy. Consider changing the features that are used to train the model and finding a balance between underfitting and overfitting the model."
   ]
  },
  {
   "cell_type": "code",
   "execution_count": null,
   "id": "77c86315-6778-4f0f-8c81-4c9385f60a0c",
   "metadata": {},
   "outputs": [],
   "source": []
  },
  {
   "cell_type": "code",
   "execution_count": null,
   "id": "c48ca7ee-77be-4a91-8135-a14ee82f98fd",
   "metadata": {},
   "outputs": [],
   "source": []
  },
  {
   "cell_type": "markdown",
   "id": "8c1d4555-2a34-434a-92ab-9158778824c0",
   "metadata": {},
   "source": [
    "## Random Forest\n",
    "\n",
    "<img src = 'https://upload.wikimedia.org/wikipedia/commons/thumb/a/a2/D%C3%BClmen%2C_Kirchspiel%2C_Bauerschaft_B%C3%B6rnste_--_2017_--_6919.jpg/640px-D%C3%BClmen%2C_Kirchspiel%2C_Bauerschaft_B%C3%B6rnste_--_2017_--_6919.jpg' width = 600>\n",
    "\n",
    "A Random Forest Classifier is an ensemble learning method that combines multiple decision trees to create a more robust and accurate model for classification tasks. It is one of the most popular machine learning algorithms due to its simplicity, versatility, and effectiveness."
   ]
  },
  {
   "cell_type": "code",
   "execution_count": null,
   "id": "08c580d7-8a22-4ef1-a3a4-cc14e56c9d13",
   "metadata": {},
   "outputs": [],
   "source": [
    "\n"
   ]
  },
  {
   "cell_type": "code",
   "execution_count": null,
   "id": "3e93b62c-902e-45b8-a870-bbecd9e8ea3a",
   "metadata": {},
   "outputs": [],
   "source": []
  }
 ],
 "metadata": {
  "kernelspec": {
   "display_name": "Python 3 (ipykernel)",
   "language": "python",
   "name": "python3"
  },
  "language_info": {
   "codemirror_mode": {
    "name": "ipython",
    "version": 3
   },
   "file_extension": ".py",
   "mimetype": "text/x-python",
   "name": "python",
   "nbconvert_exporter": "python",
   "pygments_lexer": "ipython3",
   "version": "3.9.12"
  }
 },
 "nbformat": 4,
 "nbformat_minor": 5
}
