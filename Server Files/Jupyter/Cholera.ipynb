{
 "cells": [
  {
   "cell_type": "markdown",
   "id": "48c1ef9b-8a44-4b4f-bf34-4670f9931b3e",
   "metadata": {
    "tags": []
   },
   "source": [
    "# A Cholera Outbreak in London"
   ]
  },
  {
   "cell_type": "markdown",
   "id": "954035b8-975c-4984-8104-119e8cf2f3ad",
   "metadata": {},
   "source": [
    "## The Outbreak"
   ]
  },
  {
   "cell_type": "markdown",
   "id": "cb6dc36f-78bd-4709-8140-de2110f14b3d",
   "metadata": {
    "jp-MarkdownHeadingCollapsed": true,
    "tags": []
   },
   "source": [
    "In the late summer of 1849, a particularly bad outbreak of cholera struck the Soho neighborhood in central London. Between August 31 and September 10, over 500 people had died. By the end of the outbreak, the death toll was 616.\n",
    "\n",
    "In this notebook, we will test two proposed explanations (hypotheses) of how cholera spread in London: through the **air** and through the **water**. That is, we will show that some hypotheses are likely a better fit for the data and are harder to reject, in a ***statistically significant*** way, than others. \n",
    "\n",
    "<br>\n",
    "\n",
    "<table><tr>\n",
    "    <td> <img src=\"../imgs/king_cholera.png\" alt=\"Drawing\" style=\"width: 600px;\"/> </td>\n",
    "</tr></table>\n",
    "\n",
    "<br>"
   ]
  },
  {
   "cell_type": "markdown",
   "id": "24071ad0-64fa-49d9-9aa0-5808283b9dbd",
   "metadata": {
    "tags": []
   },
   "source": [
    "## The Theories\n",
    "\n",
    "Two predominant theories on the cause of cholera existed at the the time:"
   ]
  },
  {
   "cell_type": "markdown",
   "id": "857e2114-2724-4ebc-bddb-3f4a909e3ce6",
   "metadata": {
    "tags": []
   },
   "source": [
    "### Airborne\n",
    "\n",
    "<img align=\"right\" width=\"300\" height=\"300\" src='../imgs/airborne.png'> \n",
    "\n",
    "Inhalation of a poison given off by dead or contaminated organic matter like sewage which enters the body through the lungs and poisons the blood. "
   ]
  },
  {
   "cell_type": "markdown",
   "id": "cc6170e3-88b8-4b7b-9405-c8ea7b68bb2b",
   "metadata": {},
   "source": [
    "<img align=\"right\" width=\"300\" height=\"300\" src='../imgs/waterborne.png'>\n",
    "\n",
    "### Waterborne\n",
    "\n",
    "Ingestion of “excretions of the sick” which contain a living organism which infects the gastrointestinal system."
   ]
  },
  {
   "cell_type": "markdown",
   "id": "a198ee8a-6d4b-44a2-a51d-1cf0744a1597",
   "metadata": {},
   "source": [
    "<img align=\"right\" width=\"300\" height=\"300\" src='../imgs/john_snow.jpg'>\n",
    "\n",
    "## The Doctor\n",
    "\n",
    "* John Snow\n",
    "* Known for pioneering anesthesia techniques\n",
    "* Noticed that cholera affected the gastrointestinal system\n",
    "* Hypothesized that contaminated drinking water was the cause of cholera\n",
    "* Most people disagreed with him"
   ]
  },
  {
   "cell_type": "markdown",
   "id": "1c5b2fbc-76c5-4fc4-8150-08fc85a5ec99",
   "metadata": {},
   "source": [
    "<img align=\"right\" height=\"300\" width=\"500\" src = '../imgs/soho_map.jpeg'>\n",
    "\n",
    "## The Map\n",
    "\n",
    "* John Snow collected data for each household, including the number of deaths from cholera, during the 1854 outbreak.\n",
    "* Each death is represented as a black line.\n",
    "* Multiple deaths in the same household appear stacked."
   ]
  },
  {
   "cell_type": "markdown",
   "id": "ee20de9f-d0e8-4af7-b6ab-1363370b52e7",
   "metadata": {},
   "source": [
    "## The Pump\n",
    "\n",
    "<img align=\"right\" width=\"400\" src = '../imgs/broad_street.png'>\n",
    "\n",
    "* John Snow centered his map on a particular water pump that he suspected to be the source of the ourbreak.\n",
    "* The pump was located on Broad Street.\n",
    "* John Snow suspected the Broad Street Pump to be the source of the outbreak.\n"
   ]
  },
  {
   "cell_type": "markdown",
   "id": "3bfe2311-1f46-449b-aa91-05f70c04a9e6",
   "metadata": {},
   "source": [
    "## The Sewers\n",
    "\n",
    "<img align=\"right\" width=\"400\" src = '../imgs/broad_sewers.png'>\n",
    "\n",
    "* However, the neighborhood also had many sewers.\n",
    "* Sewers were thought to be a source of cholera by many supporters of the airborne theory.\n",
    "* Sewers are represented as squares in the map to the right.\n",
    "\n",
    "\n"
   ]
  },
  {
   "cell_type": "markdown",
   "id": "c8feb0c2-efad-4bf8-a579-e104c0eac191",
   "metadata": {
    "tags": []
   },
   "source": [
    "## The Data\n",
    "\n",
    "People in charge of the city’s sewers went door-to-door in the Soho neighborhood to assess the claim that toxic fumes from its sewers were causing the deaths. We have digitized this data into a .csv file that has the following columns: \n",
    "\n",
    "- **house_ID:** unique indtifier for the house\n",
    "- **deaths:** the total deaths in that particular house \n",
    "- **dis_sewers:** distance (in meters) from the house to the nearest sewer (1 meter = 3.3 feet)\n",
    "- **dis_bspump:** distance (in meters) from the house to the Broad St. pump"
   ]
  },
  {
   "cell_type": "code",
   "execution_count": null,
   "id": "bb8573e9",
   "metadata": {},
   "outputs": [],
   "source": []
  },
  {
   "cell_type": "markdown",
   "id": "fe62cf54",
   "metadata": {
    "tags": []
   },
   "source": [
    "# Our Own Data Experiment\n",
    "\n",
    "In the case of the airborne and waterborne theories, we can separate people into groups. The exposed group (people living near a sewer or the water pump) is often called an **impact** or **treatment group** while the unexposed group (people living far from a sewer or the water pump) is the **control group**. When testing the airborne theory, we will group people based on whether they lived near a sewer or not and whether they died of cholera or not. When testing the waterborne theory, we will group people based on whether they lived near a certain water pump or not and whether they died of cholera or not. \n",
    "\n",
    "This will result in four groups for each proposed explanation. We will place them in a 2x2 **contingency table** (also called a ***two-way table*** or ***crosstab***). We will have to test each explanation separately. In all, that means four contingency tables: an expected (null) and an observed table for each of the two hypotheses."
   ]
  },
  {
   "cell_type": "markdown",
   "id": "6ee06015-1d71-4b82-8a8b-b31624630670",
   "metadata": {
    "tags": [],
    "toc-hr-collapsed": true
   },
   "source": [
    "# The Airborne Hypothesis: Investigating the Sewers"
   ]
  },
  {
   "cell_type": "markdown",
   "id": "afcd8589-8b91-4160-896b-f8239b532a8e",
   "metadata": {
    "jp-MarkdownHeadingCollapsed": true,
    "tags": []
   },
   "source": [
    "Now that we've talked about how to set up our experiment, let's apply this to the cholera data! \n",
    "\n",
    "The first theory we will explore assumes that cholera is airborne and that people get infected by inhaling toxic fumes from localized sources. In this case, the source is fumes emitted from sewers. \n",
    "\n",
    "<center><img src = '../imgs/sewer.jpeg' width=400><center>\n",
    "\n",
    "If this theory was true, then closer proximity to sewers would make it more likely to inhale the toxic air and contract cholera. For simplicity, let us assume **someone is 'close' to a sewer if they less than 40 feet (12.2 meters) from one** ... otherwise they are 'far'. Unfortunately, we don't have the total number of people in each house. That data was not collected.  Therefore, we will have to count houses instead of people.\n",
    "\n",
    "A contingency table simply shows the total frequencies of each variable, with one variable appearing on each axis. It technically does not matter, but a common approach is to put the independent (explanatory) variable on the x-axis and the dependent (outcome) variable on the y-axis. While there are libraries to create contingency tables for us, we will build some ourselves in order to better understand it. Here is the contingency table for the airborne theory:\n",
    "\n",
    "<img src=\"../imgs/sewers_observed.png\" style=\"width: 600px;\"/>"
   ]
  },
  {
   "cell_type": "markdown",
   "id": "91d281ff-700b-4801-a656-0dda860dc984",
   "metadata": {},
   "source": [
    "### Predict\n",
    "\n",
    "\n",
    "Even though we will test the airborne theory by assuming the null hypothesis is true, if there was support for the alternative hypothesis (i.e., there is an association between proximity to a sewer and cholera), what do you predict the observed contingency table will look like? In other words, which of the four groups would have an unusually high number of counts?"
   ]
  },
  {
   "cell_type": "markdown",
   "id": "d2248b59-4e5a-4974-b231-35aace10f729",
   "metadata": {},
   "source": [
    "> Write your answer here! "
   ]
  },
  {
   "cell_type": "markdown",
   "id": "c9fef433-6c7a-4c9e-afb1-6876ed305d5e",
   "metadata": {},
   "source": [
    "### Building the Observed Contingency Table\n",
    "\n",
    "We will now build a contingency table for what was actually observed during the outbreak using the following variable names. \n",
    "\n",
    "- observed number of houses near a sewer with a death from cholera: `obs_near_sewer_deaths`\n",
    "- observed number of houses near a sewer without a death from cholera: `obs_near_sewer_nondeaths`\n",
    "- observed number of houses far from a sewer with a death from cholera: `obs_far_sewer_deaths`\n",
    "- observed number of houses far from a sewer without a death from cholera: `obs_far_sewer_nondeaths`"
   ]
  },
  {
   "cell_type": "markdown",
   "id": "f9d6c7bf-3225-46bb-9451-90f024af81b4",
   "metadata": {},
   "source": [
    "**Calculate the number of houses that were near a sewer and had people that died of cholera.**"
   ]
  },
  {
   "cell_type": "code",
   "execution_count": null,
   "id": "e158b6a6-5408-40ac-bbe3-f5476b6ada9f",
   "metadata": {},
   "outputs": [],
   "source": []
  },
  {
   "cell_type": "markdown",
   "id": "86ce07a8-5a4b-42e4-9a1b-4aa5adcfa4f9",
   "metadata": {},
   "source": [
    "**Calculate the number of houses that were near a sewer that did not have a death from cholera.**"
   ]
  },
  {
   "cell_type": "code",
   "execution_count": null,
   "id": "c76f6c4e-5907-4512-9ef3-7e04a43d2971",
   "metadata": {
    "tags": []
   },
   "outputs": [],
   "source": []
  },
  {
   "cell_type": "markdown",
   "id": "288efc50-44ef-4519-a3bf-b304913de531",
   "metadata": {},
   "source": [
    "**Calculate the number of houses that were far from a sewer and had people that died from cholera.**"
   ]
  },
  {
   "cell_type": "code",
   "execution_count": null,
   "id": "51d168b2-e544-4bfa-a1aa-d3e82d672d08",
   "metadata": {
    "tags": []
   },
   "outputs": [],
   "source": []
  },
  {
   "cell_type": "markdown",
   "id": "0bc30b53-a71f-4166-a7a3-bb60e96127eb",
   "metadata": {},
   "source": [
    "**Calculate the number of houses that were far from a sewer that did not have deaths from cholera.**"
   ]
  },
  {
   "cell_type": "code",
   "execution_count": null,
   "id": "60e15da3-c31b-4b56-8ec5-f62f0784804d",
   "metadata": {
    "tags": []
   },
   "outputs": [],
   "source": []
  },
  {
   "cell_type": "markdown",
   "id": "c5806a34-0674-4a81-9fd5-736f0251597d",
   "metadata": {},
   "source": [
    "**Summarize the numbers.**"
   ]
  },
  {
   "cell_type": "code",
   "execution_count": null,
   "id": "9516391a-5963-4faa-a7a4-141c9c6a3ffa",
   "metadata": {
    "tags": []
   },
   "outputs": [],
   "source": [
    "print(f\"Observed houses near a sewer with a death: {obs_near_sewer_deaths}\")\n",
    "print(f\"Observed houses near a sewer without a death: {obs_near_sewer_nondeaths}\")\n",
    "print(f\"Observed houses far from a sewer with a death: {obs_far_sewer_deaths}\")\n",
    "print(f\"Observed houses far from a sewer without a death: {obs_far_sewer_nondeaths}\")"
   ]
  },
  {
   "cell_type": "markdown",
   "id": "e4c92748-c82f-407f-bbab-80885789c324",
   "metadata": {},
   "source": [
    "**The following code will build a blank contingency table and label the columns and rows. Run the cell.**"
   ]
  },
  {
   "cell_type": "code",
   "execution_count": null,
   "id": "f9757cb4-a292-45c9-8c6c-a05db7a8686e",
   "metadata": {},
   "outputs": [],
   "source": [
    "def visualize_contingency_table(contingency_table, top_labels, left_labels):\n",
    "    # print(\"\\t\\t  Close | Far \")\n",
    "    print('{:<15s} {:<15s} {:<20s}'.format(top_labels[0], top_labels[1], top_labels[2]))\n",
    "\n",
    "    i = 0\n",
    "    for line in contingency_table:\n",
    "        print('{:<15s} {:<15d} {:<20d}'.format(left_labels[i], contingency_table[i][0], contingency_table[i][1]))\n",
    "        i += 1\n",
    "    \n",
    "top_labels = [\" \", \"Near Sewer\", \"Far from Sewer\"]\n",
    "left_labels = [\"Deaths\", \"Non Deaths\", \"Total\"]\n"
   ]
  },
  {
   "cell_type": "markdown",
   "id": "c8b64587-a4b7-4687-baf7-c0cee792bded",
   "metadata": {},
   "source": [
    "**This cell will insert your calculated values for the observed data in the contingency table. Run the cell.**"
   ]
  },
  {
   "cell_type": "code",
   "execution_count": null,
   "id": "617ffca5-407f-4009-bfdb-aeba2ba1d2e2",
   "metadata": {},
   "outputs": [],
   "source": [
    "obs_contingency_table = [\n",
    "    [obs_near_sewer_deaths, obs_far_sewer_deaths],\n",
    "    [obs_near_sewer_nondeaths, obs_far_sewer_nondeaths]\n",
    "] \n",
    "\n",
    "print(\"Observed Contingency Table:\")\n",
    "visualize_contingency_table(obs_contingency_table, top_labels, left_labels)"
   ]
  },
  {
   "cell_type": "markdown",
   "id": "08a3f78f-f2b0-4312-a6bb-4ca1d6eae252",
   "metadata": {},
   "source": [
    "### Building the Null Contingency Table\n",
    "\n",
    "Testing the airborne hypothesis requires us to compare what was observed (the contingency table we just constructed) with what we would expect if there was **no relationship** between the sewers and cholera (the null hypothesis). \n",
    "\n",
    "In order to do this, we need to construct another contingency table that shows the expected counts under the null hypothesis.  \n",
    "\n",
    "We can do this by using the row and column totals (the yellow boxes) from the previous contingency table to calculate the 2x2 table (the green boxes). "
   ]
  },
  {
   "cell_type": "markdown",
   "id": "839b7acf-fc1f-4acf-b948-27383d092312",
   "metadata": {},
   "source": [
    "<center><img src=\"../imgs/sewer_contingency.jpeg\" style=\"width: 800px;\"/><center>"
   ]
  },
  {
   "cell_type": "markdown",
   "id": "3f5f3688-1761-4f87-a5b7-19dd3457374a",
   "metadata": {},
   "source": [
    "### Calculating Totals\n",
    "\n",
    "Calculate the row and column totals and store the values in the following variables:\n",
    "\n",
    "- total houses that had a death from cholera: `total_deaths`\n",
    "- total houses that did not have a death from cholera: `total_nondeaths`\n",
    "- total houses that were near a sewer: `total_near_sewer`\n",
    "- total houses that were ./far from a sewer: `total_far_sewer`\n",
    "- total number of houses: `total_houses`"
   ]
  },
  {
   "cell_type": "code",
   "execution_count": null,
   "id": "b9bc29a2-a375-466f-a10b-3022644d77a7",
   "metadata": {},
   "outputs": [],
   "source": []
  },
  {
   "cell_type": "code",
   "execution_count": null,
   "id": "627f96f5-2bd1-4ebd-bc8f-bcc11d09e4b7",
   "metadata": {},
   "outputs": [],
   "source": []
  },
  {
   "cell_type": "code",
   "execution_count": null,
   "id": "d9879de7-7137-490d-b0e8-e2998270b620",
   "metadata": {},
   "outputs": [],
   "source": []
  },
  {
   "cell_type": "code",
   "execution_count": null,
   "id": "0cf87746-1c67-49a7-a5a2-8e2b0c41f056",
   "metadata": {},
   "outputs": [],
   "source": []
  },
  {
   "cell_type": "code",
   "execution_count": null,
   "id": "2f000b27-e906-4e07-ab23-340dd3fd5802",
   "metadata": {},
   "outputs": [],
   "source": []
  },
  {
   "cell_type": "markdown",
   "id": "102bf305-127e-4ea9-a2e4-727079b6bac8",
   "metadata": {},
   "source": [
    "**Summarize the data:**"
   ]
  },
  {
   "cell_type": "code",
   "execution_count": null,
   "id": "c12c7c6c-495f-4d58-962d-8eb3898b2709",
   "metadata": {},
   "outputs": [],
   "source": [
    "print(f\"Number of houses with a death: {total_deaths}\")\n",
    "print(f\"Number of houses without a death: {total_nondeaths}\")\n",
    "print(f\"Number of houses near a sewer: {total_near_sewer}\")\n",
    "print(f\"Number of houses far from a sewer: {total_far_sewer}\")\n",
    "print(f\"Total number of houses: {total_houses}\")"
   ]
  },
  {
   "cell_type": "markdown",
   "id": "4ddd1a56-8009-4471-9190-076f54a0e76c",
   "metadata": {},
   "source": [
    "### Calculating the Expected Counts\n",
    "\n",
    "We can use the row and column totals to calculate the expected counts using he following equation:\n",
    "\n",
    "$$expected \\ value = {row \\ total \\times column \\ total \\over grand \\ total}$$\n"
   ]
  },
  {
   "cell_type": "markdown",
   "id": "35b46a05-be49-49e1-b1bf-3c055367dfe2",
   "metadata": {},
   "source": [
    "**Calculate the expected counts in the contingency table and store the values in the following variables:**\n",
    "\n",
    "- expected number of houses near a sewer with a death from cholera: `exp_near_sewer_deaths`\n",
    "- expected number of houses near a sewer without a death from cholera: `exp_near_sewer_nondeaths`\n",
    "- expected number of houses far from a sewer with a death from cholera: `exp_far_sewer_deaths`\n",
    "- expected number of houses far from a sewer without a death from cholera: `exp_far_sewer_nondeaths`"
   ]
  },
  {
   "cell_type": "code",
   "execution_count": null,
   "id": "3ed1cdec-b7a7-4cf6-9647-1812be37b4d9",
   "metadata": {
    "tags": []
   },
   "outputs": [],
   "source": []
  },
  {
   "cell_type": "code",
   "execution_count": null,
   "id": "cdd6c756-6ebd-448f-808a-5f1eab647fc7",
   "metadata": {
    "tags": []
   },
   "outputs": [],
   "source": []
  },
  {
   "cell_type": "code",
   "execution_count": null,
   "id": "70b5197a-8dd0-4ea2-a3e1-18c612123c6e",
   "metadata": {
    "tags": []
   },
   "outputs": [],
   "source": []
  },
  {
   "cell_type": "code",
   "execution_count": null,
   "id": "6adc37c3-92fa-49f6-b065-17c111f72fc5",
   "metadata": {
    "tags": []
   },
   "outputs": [],
   "source": []
  },
  {
   "cell_type": "code",
   "execution_count": null,
   "id": "92acb250-fd7d-42ae-b867-1d31c8f04604",
   "metadata": {
    "tags": []
   },
   "outputs": [],
   "source": [
    "print(f\"Expected houses near a sewer with a death: {exp_near_sewer_deaths}\")\n",
    "print(f\"Expected houses near a sewer without a death: {exp_near_sewer_nondeaths}\")\n",
    "print(f\"Expected houses far from a sewer with a death: {exp_far_sewer_deaths}\")\n",
    "print(f\"Expected houses far from a sewer without a death: {exp_far_sewer_nondeaths}\")"
   ]
  },
  {
   "cell_type": "markdown",
   "id": "dbd7dfb4-fc13-41be-a55a-8898a6223dd3",
   "metadata": {},
   "source": [
    "**Run the following code to insert our data in the table and display it.**"
   ]
  },
  {
   "cell_type": "code",
   "execution_count": null,
   "id": "7e0d3741-5d84-45b3-bac6-a688d53c97f1",
   "metadata": {},
   "outputs": [],
   "source": [
    "exp_contingency_table = [\n",
    "    [exp_near_sewer_deaths, exp_far_sewer_deaths],\n",
    "    [exp_near_sewer_nondeaths, exp_far_sewer_nondeaths]\n",
    "] \n",
    "\n",
    "print(\"Expected (Null) Contingency Table:\")\n",
    "visualize_contingency_table(exp_contingency_table, top_labels, left_labels)"
   ]
  },
  {
   "cell_type": "markdown",
   "id": "01892e4b-a71e-4ea2-bec6-d4958f8f288d",
   "metadata": {},
   "source": [
    "**Does there appear to be a significant difference between the expected numbers under the null hypothesis and the observed numbers?** "
   ]
  },
  {
   "cell_type": "markdown",
   "id": "a9417bc0-f31b-41e8-8660-f2223e1c176e",
   "metadata": {},
   "source": [
    "> Write your answer here! "
   ]
  },
  {
   "cell_type": "markdown",
   "id": "513fc2a9-717a-4d44-9ca9-0563f19b4a80",
   "metadata": {},
   "source": [
    "### Calculating the p-value\n",
    "\n",
    "Even if there is a difference between the expected and observed contingency tables, is it large enough to reject the null hypothesis and accept the alternative that living close to a sewer is associated with higher cholera rates? The method for testing statistical significance in contingency tables is called a \"chi-squared ($Chi^2$) analysis\". \n",
    "\n",
    "There is library called \"SciPy\" that has a function that will do the chi-squared analysis for us."
   ]
  },
  {
   "cell_type": "code",
   "execution_count": null,
   "id": "45b5ccbc-6266-4351-ad19-5b338a637738",
   "metadata": {
    "tags": []
   },
   "outputs": [],
   "source": [
    "from scipy.stats import chi2_contingency"
   ]
  },
  {
   "cell_type": "markdown",
   "id": "06733986-3bd7-4c6c-807e-fd7e132db93d",
   "metadata": {},
   "source": [
    "Even though we have calculated the expected values manually, this process has been built into the chi-squared function in SciPy. Therefore, we only have to pass the observed contingency table to the function."
   ]
  },
  {
   "cell_type": "markdown",
   "id": "86622438-2d3d-4eb7-8442-026a496f0807",
   "metadata": {},
   "source": [
    "The `chi2_contingency` function returns 4 values. We are only interested in the p-value. When doing data science in Python, it is common convention to use `_` characters to mark variables whose values we don't need. "
   ]
  },
  {
   "cell_type": "code",
   "execution_count": null,
   "id": "76e0a1fa-c8dd-4346-a797-7f2ca710b282",
   "metadata": {
    "tags": []
   },
   "outputs": [],
   "source": [
    "_, p_value, _, _ = chi2_contingency(obs_contingency_table)\n",
    "print(f\"p-value: {p_value:.2f}\")"
   ]
  },
  {
   "cell_type": "markdown",
   "id": "1ad6e884-706b-4590-bc6e-99b93063e7ff",
   "metadata": {},
   "source": [
    "**Based on the p-value of your $Chi^2$ test, can you reject the null hypothesis (there is no association between living close to a sewer and dying from cholera) and accept the alternative (there is an association between living close to a sewer and dying from cholera)?**"
   ]
  },
  {
   "cell_type": "markdown",
   "id": "38382d60-8549-4eba-8701-db6b16f1b01a",
   "metadata": {},
   "source": [
    "> Write your answer here! "
   ]
  },
  {
   "cell_type": "markdown",
   "id": "6b992896",
   "metadata": {
    "tags": [],
    "toc-hr-collapsed": true
   },
   "source": [
    "# The Waterborne Hypothesis: Investigating the Broad Street Pump"
   ]
  },
  {
   "cell_type": "markdown",
   "id": "1af67128",
   "metadata": {},
   "source": [
    "Next, we want to explore the theory that cholera was transmitted through contaminated water. At the time, John Snow guessed that the water of a particular pump, the Broad Street Pump (BSP, for short), might have carried pieces of poisonous sewage. Did the data support this hypothesis? \n",
    "\n",
    "<center><img src=\"../imgs/pump3.jpeg\" alt=\"Drawing\" style=\"width: 300px;\"/><center>\n",
    "\n",
    "If this theory was true, then closer proximity to the Broad Street Pump would make it more likely to drink its contaminated water and contract cholera. For simplicity, let us assume **someone is 'close' to the Broad Street Pump if they are at most 460 feet (140 meters) from it**... otherwise they are 'far'.\n",
    "\n",
    "\n",
    "\n",
    "Here is the contingency table for the waterborne theory with totals along the bottom and right side:\n",
    "\n",
    "<img src=\"../imgs/pump_contingency.jpeg\" style=\"width: 800px;\"/>"
   ]
  },
  {
   "cell_type": "markdown",
   "id": "09fe8335-6ab8-4a41-844d-f250fdddd784",
   "metadata": {},
   "source": [
    "**Using the same approach as you applied to test the airborne (sewer) hypothesis, conduct a test of the waterborne hypothesis by constructing contingency tables for the alternative (waterborne) and null hypotheses and then conducting a $Chi^2$ test.**"
   ]
  },
  {
   "cell_type": "code",
   "execution_count": null,
   "id": "df72c0a7-d849-4b61-8f54-cb702f65e13a",
   "metadata": {},
   "outputs": [],
   "source": []
  },
  {
   "cell_type": "code",
   "execution_count": null,
   "id": "b9e14678-edce-4dd4-b83f-fd1766753874",
   "metadata": {},
   "outputs": [],
   "source": []
  },
  {
   "cell_type": "markdown",
   "id": "66f67542-6426-4b8d-aee3-d4beeef20142",
   "metadata": {},
   "source": [
    "**Based on the p-value of your $Chi^2$ test, can you reject the null hypothesis (there is no association between living close to the Broad Street Pump and dying from cholera) and accept the alternative (there is an association between living close to the Broad Street Pump and dying from cholera)?**"
   ]
  },
  {
   "cell_type": "markdown",
   "id": "f7844b17-bafc-4a17-a354-44221e83b7fb",
   "metadata": {},
   "source": [
    "> Write your answer here! "
   ]
  },
  {
   "cell_type": "markdown",
   "id": "a189d4ac-2d47-445f-88ec-96033d349f37",
   "metadata": {
    "tags": [],
    "toc-hr-collapsed": true
   },
   "source": [
    "# Visualizing the Data"
   ]
  },
  {
   "cell_type": "markdown",
   "id": "b5d3d633-8e4c-4bb8-8f0e-dfdf57d4bf6a",
   "metadata": {
    "tags": []
   },
   "source": [
    "<img align='right' src=\"../imgs/funny_paper.jpeg\" alt=\"Drawing\" style=\"width: 400px;\"/>\n",
    "\n",
    "An important part of data science is not only determining statistical significance of hypotheses, but also communicating your findings to people without a statistics background. \n",
    "\n",
    "Imagine reading a newspaper headline (like below) that says ’The p-value was below 0.05’... the average person does not know what this means! Visualizing your results is an important step in convincing others that your evidence is compelling! In the following, we create (and interpret) data visualizations that make it easier to understand your statistical results.\n",
    "\n",
    "We first explore a **histogram** -- a type of bar graph used to show differences in the frequency (or count) of various events. (In this case, the events are deaths and non-deaths of people close and far from the sewer). "
   ]
  },
  {
   "cell_type": "code",
   "execution_count": null,
   "id": "68c3c091",
   "metadata": {},
   "outputs": [],
   "source": [
    "# Histogram\n",
    "\n",
    "# Let's calculate the percentages of deaths that are 'close' versus 'far'. \n",
    "# Close Deaths + Far Deaths should sum to 1 \n",
    "# (then we can do the same for non-deaths)\n",
    "obs_near_sewer_deaths_pct = obs_near_sewer_deaths / (obs_near_sewer_deaths + obs_far_sewer_deaths) * 100\n",
    "obs_far_sewer_deaths_pct = 100 - obs_near_sewer_deaths_pct\n",
    "\n",
    "obs_near_sewer_nondeaths_pct = obs_near_sewer_nondeaths / (obs_near_sewer_nondeaths + obs_far_sewer_nondeaths) * 100\n",
    "obs_far_sewer_nondeaths_pct = 100 - obs_near_sewer_nondeaths_pct\n",
    "\n",
    "\n",
    "\n",
    "# 1. Let's first view the CLOSE deaths vs nondeaths. \n",
    "plt.bar(x=['Deaths Near', 'Deaths Far'], \n",
    "        height=[obs_near_sewer_deaths_pct, obs_far_sewer_deaths_pct], color='purple', label='Deaths')\n",
    "\n",
    "# 2. Let's first view the FAR deaths vs nondeaths.\n",
    "plt.bar(x=['Nondeaths Near', 'Nondeaths Far'], \n",
    "        height=[obs_near_sewer_nondeaths_pct, obs_far_sewer_nondeaths_pct], color='gold', label='Nondeaths')\n",
    "plt.ylim((0,100))\n",
    "plt.ylabel(\"Percentage of Deaths or Nondeaths\")\n",
    "plt.title(\"Deaths and Nondeaths (Close and Far from Sewer)\")\n",
    "plt.legend()"
   ]
  },
  {
   "cell_type": "markdown",
   "id": "bdaf31e2-3214-4d2d-ba3c-a2f63d2786da",
   "metadata": {},
   "source": [
    "**Now we can do the same for comparing deaths and nondeaths of people near and far from the Broad St. Pump.**"
   ]
  },
  {
   "cell_type": "code",
   "execution_count": null,
   "id": "a9354c1a-2b80-41cf-bfd3-b509fe2c4d78",
   "metadata": {},
   "outputs": [],
   "source": [
    "obs_near_pump_deaths_pct = obs_near_pump_deaths / (obs_near_pump_deaths + obs_far_pump_deaths) * 100\n",
    "obs_far_pump_deaths_pct = 100 - obs_near_pump_deaths_pct\n",
    "\n",
    "obs_near_pump_nondeaths_pct = obs_near_pump_nondeaths / (obs_near_pump_nondeaths + obs_far_pump_nondeaths) * 100\n",
    "obs_far_pump_nondeaths_pct = 100 - obs_near_pump_nondeaths_pct\n",
    " \n",
    "plt.bar(x=['Deaths Near', 'Deaths Far'], \n",
    "        height=[obs_near_pump_deaths_pct, obs_far_pump_deaths_pct], color='purple', label='Deaths')\n",
    "\n",
    "plt.bar(x=['Nondeaths Near', 'Nondeaths Far'], \n",
    "        height=[obs_near_pump_nondeaths_pct, obs_far_pump_nondeaths_pct], color='gold', label='Nondeaths')\n",
    "plt.ylim((0,100))\n",
    "plt.ylabel(\"Percentage of Deaths or Nondeaths\")\n",
    "plt.title(\"Deaths and Nondeaths (Close and Far from Broad Street Pump)\")\n",
    "plt.legend()"
   ]
  },
  {
   "cell_type": "markdown",
   "id": "ff66aeb3-f693-4f10-80dd-206b6bed252c",
   "metadata": {},
   "source": [
    "### The 3 Second Rule\n",
    "\n",
    "The 3 Second Rule states that one gets 3 secons to grab someone's attention and flag the take-home point of a data visualization: https://stephanieevergreen.com/the-3-second-rule/\n",
    "\n",
    "**What does these histograms communicate to you? Does they follow the 3 Second Rule?** \n"
   ]
  },
  {
   "cell_type": "markdown",
   "id": "7c9b862d-97c2-41e4-9467-950cd77535fb",
   "metadata": {},
   "source": [
    "> Write your answer here! "
   ]
  }
 ],
 "metadata": {
  "kernelspec": {
   "display_name": "Python 3 (ipykernel)",
   "language": "python",
   "name": "python3"
  },
  "language_info": {
   "codemirror_mode": {
    "name": "ipython",
    "version": 3
   },
   "file_extension": ".py",
   "mimetype": "text/x-python",
   "name": "python",
   "nbconvert_exporter": "python",
   "pygments_lexer": "ipython3",
   "version": "3.9.12"
  },
  "toc-autonumbering": false,
  "toc-showcode": false,
  "toc-showmarkdowntxt": false,
  "toc-showtags": false
 },
 "nbformat": 4,
 "nbformat_minor": 5
}
