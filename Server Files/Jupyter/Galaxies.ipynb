{
 "cells": [
  {
   "cell_type": "markdown",
   "id": "cb82e3ea-71e6-4919-b55b-9a9bc9e6fe5b",
   "metadata": {},
   "source": [
    "# A Map to the Stars\n",
    "\n",
    "<center><img src = '../imgs/milky_way.jpeg' width = 500><center>"
   ]
  },
  {
   "cell_type": "markdown",
   "id": "2d2e2b0a-b9ba-4c09-ab4a-6c089605de10",
   "metadata": {},
   "source": [
    "Like we use latitude and longitude for locations on Earth, celestial objects are mapped using a similar coordinate system. \n",
    "\n",
    "For example, Mars has the following coordinates:\n",
    "\n",
    "**Declination** = +18&deg; 22 minutes 54 seconds<br>\n",
    "**Right ascension** = 3 hours 34 minutes 1 seconds  "
   ]
  },
  {
   "cell_type": "markdown",
   "id": "6c33ab23-e1d2-49aa-9575-f3780afbbea8",
   "metadata": {},
   "source": [
    "**Declination**, similar to latitude, is an angular distance of a point north or south of the Celestial Equator, a projection of the Earth's equator into space. Declination is measured in degrees from -90° to +90°\n",
    "\n",
    "<img src = 'https://upload.wikimedia.org/wikipedia/commons/6/66/Ra_and_dec_demo_animation_small.gif'>\n",
    "\n",
    "Representing the declination for Mars as a single number in degrees can be done using the following calculation:"
   ]
  },
  {
   "cell_type": "code",
   "execution_count": null,
   "id": "d04248d6-b1f4-4a3e-ae5f-86d5cd6ecc98",
   "metadata": {},
   "outputs": [],
   "source": [
    "dec_mars = 18 + 22/60 + 54/3600\n",
    "print(dec_mars)"
   ]
  },
  {
   "cell_type": "markdown",
   "id": "d205f4ec-5337-4721-a43a-3084d55c659b",
   "metadata": {},
   "source": [
    "**Right ascension**, similar to longitude, measures an object's relative position to the sun during the vernal equinox. For example, the right ascension of Mars is 3 hours 34 minutes 1 seconds which mean that at the vernal equinox, Mars is 4 hours, 18 minutes and 4 seconds away from reaching the sun's east-west position in the sky."
   ]
  },
  {
   "cell_type": "markdown",
   "id": "ff6ffc56-6126-4c2a-bbce-7a119bd36e56",
   "metadata": {},
   "source": [
    "**Convert the right ascension of Mars into degrees, store it in a variable called `ra_mars` and print the result.**\n",
    "\n",
    "*Hint: How many degrees does the Earth rotate in 1 hour?*"
   ]
  },
  {
   "cell_type": "code",
   "execution_count": null,
   "id": "ba1677e4-b7cd-4423-95ae-98a99506f7e0",
   "metadata": {},
   "outputs": [],
   "source": []
  },
  {
   "cell_type": "markdown",
   "id": "7aaf66ca-21e5-48b8-86fe-8bc65e70805c",
   "metadata": {
    "tags": []
   },
   "source": [
    "## Let's do some science with this!\n",
    " The data we will be using is from the [Sloan Digitial Sky Survey Data](https://www.sdss.org/) release 16 (DR16).  These data can be queried here http://skyserver.low_z.org/dr16/en/tools/search/SQS.aspx.  \n",
    " \n",
    "<img src='https://upload.wikimedia.org/wikipedia/commons/thumb/6/60/NGC_1273_SDSS.jpg/640px-NGC_1273_SDSS.jpg' width = 600>\n",
    " \n"
   ]
  },
  {
   "cell_type": "markdown",
   "id": "4867ceae-4ab4-4e74-a0d3-01dee55016dd",
   "metadata": {
    "tags": []
   },
   "source": [
    "The most common file format for raw data is a `.csv` file, short for \"comma separated values\".\n",
    "\n",
    "We have downloaded files giving redshfit, right ascension, declination, and color information for objects in the Sloan Digital Sky Survey classified as galaxies. \n",
    "\n",
    "**column ids**  \n",
    "0:  z (redshift)  \n",
    "1:  ra (right ascension)  \n",
    "2:  dec (declination)  \n",
    "3:  r magnitude   (red)    \n",
    "4:  g-r color (redness)  \n",
    "\n",
    "The three datasets span three redshift ranges of  0.08<𝑧<0.12 (`low_z.csv`),  0.4<𝑧<0.5 (`mid_z.csv`) and  0.6<𝑧<0.9 (`high_z.csv`)"
   ]
  },
  {
   "cell_type": "markdown",
   "id": "4198a7e9-7713-4f34-ad66-f8d3ee66bdbb",
   "metadata": {},
   "source": [
    "**Read in the three datasets and store each in a separate variable.**"
   ]
  },
  {
   "cell_type": "code",
   "execution_count": 1,
   "id": "a8c66ab5-8d1d-4630-9a90-5a73d4deb313",
   "metadata": {},
   "outputs": [],
   "source": [
    "import numpy as np\n",
    "\n",
    "low_z = np.loadtxt('../data/low_z.csv', delimiter=',', skiprows = 1 )\n",
    "mid_z = np.loadtxt('../data/mid_z.csv', delimiter=',', skiprows = 1 )\n",
    "high_z = np.loadtxt('../data/high_z.csv', delimiter=',', skiprows = 1 )"
   ]
  },
  {
   "cell_type": "markdown",
   "id": "e94914f3-214d-434a-918b-001e6af8ae91",
   "metadata": {},
   "source": [
    "We can plot the right ascension (x) and declination (y) values for the `high_z` dataset in a scatterplot to visualize the galaxies locations in 2D. Notice how we are calling the columns containing `ra` and `dec`:"
   ]
  },
  {
   "cell_type": "code",
   "execution_count": 2,
   "id": "4e59e02f-c5f3-4cf4-8b12-9e95ed2c04a2",
   "metadata": {},
   "outputs": [
    {
     "data": {
      "text/plain": [
       "<function matplotlib.pyplot.show(close=None, block=None)>"
      ]
     },
     "execution_count": 2,
     "metadata": {},
     "output_type": "execute_result"
    },
    {
     "data": {
      "image/png": "[encoded data removed]",
      "text/plain": [
       "<Figure size 432x288 with 1 Axes>"
      ]
     },
     "metadata": {
      "needs_background": "light"
     },
     "output_type": "display_data"
    }
   ],
   "source": [
    "import matplotlib.pyplot as plt\n",
    "\n",
    "plt.plot(high_z[:,1],high_z[:,2], \"b,\")\n",
    "plt.xlabel(\"RA (deg)\")\n",
    "plt.ylabel(\"DEC (deg)\")\n",
    "plt.show"
   ]
  },
  {
   "cell_type": "markdown",
   "id": "955b7d88-fc4c-4334-b9ef-89ae7368f77d",
   "metadata": {},
   "source": [
    "To reduce the computational challenge of carrying out our analysis, let us select a subset of these data on a square patch, like we are looking at a smaller patch of the sky."
   ]
  },
  {
   "cell_type": "code",
   "execution_count": null,
   "id": "4fefabbc-160b-4e8c-85b3-5932cb4cb924",
   "metadata": {},
   "outputs": [],
   "source": []
  },
  {
   "cell_type": "markdown",
   "id": "25e39d86-ff55-438b-bb19-db09f5c01cdc",
   "metadata": {},
   "source": [
    "<img src = '../imgs/measuring-sky-with-hand.png' width = 400>\n",
    "\n",
    "Enter values for the right ascension and declination to select a patch of sky with right ascension between 150&deg; and 170&deg; and declination between 40&deg; and 60&deg;. "
   ]
  },
  {
   "cell_type": "markdown",
   "id": "cfa71ae5-842f-4e60-afcb-ab94df185022",
   "metadata": {},
   "source": [
    "**Define the following variables and assign each the appropriate value:**\n",
    "* Minimum right ascension: `ra_min`\n",
    "* Maximum right ascension: `ra_max`\n",
    "* Minimum declination: `dec_min`\n",
    "* Maximum declination: `dec_max`"
   ]
  },
  {
   "cell_type": "code",
   "execution_count": null,
   "id": "d90edacd-7524-450e-b815-033c3f447ab7",
   "metadata": {},
   "outputs": [],
   "source": []
  },
  {
   "cell_type": "markdown",
   "id": "873d8945-18e1-41f2-8b04-7cd7525235b2",
   "metadata": {},
   "source": [
    "The following code will map the galaxies in your selection for you."
   ]
  },
  {
   "cell_type": "code",
   "execution_count": null,
   "id": "ddd25528-4c92-41f7-aca2-48f5622b29f2",
   "metadata": {},
   "outputs": [],
   "source": [
    "dec_small = np.logical_and(high_z[:,2] > dec_min, high_z[:,2] < dec_max)\n",
    "ra_small  = np.logical_and(high_z[:,1] > ra_min, high_z[:,1] < ra_max)\n",
    "combined = np.where(np.logical_and(ra_small, dec_small))\n",
    "new_map = np.ravel(combined)\n",
    "\n",
    "plt.plot(high_z[new_map,1],high_z[new_map,2],\",r\")\n",
    "plt.title(\"high redshift sample\")\n",
    "plt.xlabel(\"RA (deg)\")\n",
    "plt.ylabel(\"DEC (deg)\")\n",
    "plt.axis(\"equal\")\n",
    "plt.show"
   ]
  },
  {
   "cell_type": "markdown",
   "id": "ad641eba-0cad-4e1b-aa72-1483b6341bde",
   "metadata": {},
   "source": [
    "## Visualize the Medium and Low Redshift\n",
    "\n",
    "Now it's your turn. Make scatter plots of the `mid_z` and `low_z` galaxies in the space below. Use green for `mid_z` and blue for `low_z`."
   ]
  },
  {
   "cell_type": "markdown",
   "id": "7952c5b7-5a64-4f0d-b5f5-8a3b22128352",
   "metadata": {},
   "source": [
    "**Map medium redshift.**"
   ]
  },
  {
   "cell_type": "code",
   "execution_count": null,
   "id": "e51161ca-a4e7-4bd0-92c4-3026a7025a67",
   "metadata": {},
   "outputs": [],
   "source": []
  },
  {
   "cell_type": "markdown",
   "id": "b1e73abc-2bfc-4094-a950-60c10a760048",
   "metadata": {},
   "source": [
    "**Map low redshift.**"
   ]
  },
  {
   "cell_type": "code",
   "execution_count": null,
   "id": "fd9534eb-e3c3-4b93-b105-6fff14378c23",
   "metadata": {},
   "outputs": [],
   "source": []
  },
  {
   "cell_type": "markdown",
   "id": "d78235d8-1fbc-4da0-98ae-e868673c2a17",
   "metadata": {},
   "source": [
    "Remember, as redshift increases, not only are the galaxies farther away, but our view of them is farther back in time. In other words, we have a way of looking back in time at different periods. The high redshift data shows a younger universe and the low redshift shows an older universe. Therefore, we can see how the universe has evolved!\n",
    "\n",
    "Looking at the three different periods of the universe: \n",
    "\n",
    "1. **What do you see?** \n",
    "\n",
    "2. **How has the universe evolved over time?**"
   ]
  },
  {
   "cell_type": "markdown",
   "id": "fbdefd5c-eacf-4d99-8b29-5eb76e195e05",
   "metadata": {},
   "source": [
    "## Extension: Explore!\n",
    "\n",
    "Change the part of the sky you want to analyze. Do you see the same pattern? Anything unexpected?"
   ]
  },
  {
   "cell_type": "code",
   "execution_count": null,
   "id": "dc02e0d1",
   "metadata": {},
   "outputs": [],
   "source": []
  },
  {
   "cell_type": "code",
   "execution_count": null,
   "id": "5dcc5ae4",
   "metadata": {
    "tags": []
   },
   "outputs": [],
   "source": []
  },
  {
   "cell_type": "markdown",
   "id": "f8f3253c-0e55-42fb-91ce-88a8ba72ad54",
   "metadata": {},
   "source": [
    "#### Authors: Jeff McMahon, Lindsey Bleem, Alex Drlica-Wagner and John Domyancich\n",
    "\n",
    "*Dedicated in the memory of Jeff's dad Tim who was always curious, always adventurous, and proud of him no mater what he did.*\n",
    "\n"
   ]
  }
 ],
 "metadata": {
  "kernelspec": {
   "display_name": "Python 3 (ipykernel)",
   "language": "python",
   "name": "python3"
  },
  "language_info": {
   "codemirror_mode": {
    "name": "ipython",
    "version": 3
   },
   "file_extension": ".py",
   "mimetype": "text/x-python",
   "name": "python",
   "nbconvert_exporter": "python",
   "pygments_lexer": "ipython3",
   "version": "3.9.12"
  }
 },
 "nbformat": 4,
 "nbformat_minor": 5
}
