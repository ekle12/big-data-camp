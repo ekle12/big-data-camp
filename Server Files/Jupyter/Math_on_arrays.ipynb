{
 "cells": [
  {
   "cell_type": "markdown",
   "id": "854154de-47dd-4755-ad12-8e74288d485f",
   "metadata": {
    "tags": []
   },
   "source": [
    "# Math on Arrays\n",
    "\n",
    "At the core of doing data science is performing calculations on multiple pieces of data at the same time. Fortunately, data structures allow us to do this.\n",
    "\n",
    "<img src = '../imgs/universe.jpeg' width = 600>\n",
    "\n"
   ]
  },
  {
   "cell_type": "markdown",
   "id": "b9593b86-4d6c-492c-8598-6485e205284e",
   "metadata": {},
   "source": [
    "Imagine we have the following data that includes the high and low temperatures for several days, and we want to convert them in &deg;F:\n",
    "\n",
    "|day|low(&deg;C)|high(&deg;C)|\n",
    "|------|------|-----|\n",
    "| Monday | 12.2 | 27.3 |\n",
    "| Tuesday | 13.4| 28.5 |\n",
    "| Wednesday | 20.6 | 31.2 |\n",
    "| Thursday  | 19.9 | 29.4 |"
   ]
  },
  {
   "cell_type": "markdown",
   "id": "cfa4ed14-f7e1-4ef5-bc60-014f492c56b3",
   "metadata": {
    "tags": []
   },
   "source": [
    "### Math on a Single Array \n",
    "\n",
    "If we want to use Numpy to do calculations on this data, we need to represetn this data as Numpy arrays."
   ]
  },
  {
   "cell_type": "markdown",
   "id": "1c09e4e4-5163-44f4-b192-8e6a5e07260c",
   "metadata": {},
   "source": [
    "**Make two lists: one that contains the low temperature (`lows_C`), and one that contains the high temperatures (`highs_C`)**"
   ]
  },
  {
   "cell_type": "code",
   "execution_count": null,
   "id": "74279235-c6b7-4120-a63d-9d5c029cece9",
   "metadata": {},
   "outputs": [],
   "source": []
  },
  {
   "cell_type": "markdown",
   "id": "045a1337-7ef4-4f6a-afaa-959b383c0704",
   "metadata": {},
   "source": [
    "**Use Numpy to convert these lists into Numpy arrays called `lows_C_array` and `highs_C_array`**"
   ]
  },
  {
   "cell_type": "code",
   "execution_count": null,
   "id": "e9a39d92-5fbf-4321-b96a-33dfe9a7a847",
   "metadata": {},
   "outputs": [],
   "source": []
  },
  {
   "cell_type": "markdown",
   "id": "a1638f6b-04b8-4c8d-84e2-e90660090e95",
   "metadata": {},
   "source": [
    "**Check on the type of the two arrays**"
   ]
  },
  {
   "cell_type": "code",
   "execution_count": null,
   "id": "3011e403-4ca2-4228-8ad9-04942900d22b",
   "metadata": {},
   "outputs": [],
   "source": []
  },
  {
   "cell_type": "code",
   "execution_count": null,
   "id": "397137d0-50b0-48b9-9acd-f6f91aa92537",
   "metadata": {},
   "outputs": [],
   "source": []
  },
  {
   "cell_type": "markdown",
   "id": "2ca2c435-69f5-435c-b260-d4c399017460",
   "metadata": {},
   "source": [
    "Now that our data is structured as Numpy arrays, we can do some math on them. We will be converting these temperatures to Fahrenheit using the following equation:"
   ]
  },
  {
   "cell_type": "markdown",
   "id": "8da0df0a-782a-4bda-aee3-610d111d9bd3",
   "metadata": {},
   "source": [
    "$$ T(F) = \\frac{9}{5}T(C)+32 $$"
   ]
  },
  {
   "cell_type": "code",
   "execution_count": null,
   "id": "db1fa6e8-dbfa-4fa1-94b5-2815a8e13cc2",
   "metadata": {},
   "outputs": [],
   "source": []
  },
  {
   "cell_type": "markdown",
   "id": "e5480bef-5b23-4f45-a554-3d8696b1a2c9",
   "metadata": {
    "jp-MarkdownHeadingCollapsed": true,
    "tags": []
   },
   "source": [
    "#### What's going on?"
   ]
  },
  {
   "cell_type": "markdown",
   "id": "74dd3180-1d12-4ceb-99d9-424fe62a3561",
   "metadata": {},
   "source": [
    "<img src = '../../imgs/C_to_F.png' width = 600>"
   ]
  },
  {
   "cell_type": "markdown",
   "id": "dbc55924-2cbb-4bf1-b37f-8afb2b94098d",
   "metadata": {
    "tags": []
   },
   "source": [
    "#### Simplifying with Functions\n",
    "\n",
    "We could also do this using our `cel_to_fahr` function:"
   ]
  },
  {
   "cell_type": "code",
   "execution_count": null,
   "id": "eaa638ae-8588-4a1f-9a3d-dfab7e9fc018",
   "metadata": {},
   "outputs": [],
   "source": []
  },
  {
   "cell_type": "code",
   "execution_count": null,
   "id": "7da2f44e-9e35-47b5-96cf-1650ee620bfb",
   "metadata": {},
   "outputs": [],
   "source": []
  },
  {
   "cell_type": "markdown",
   "id": "470a9764-56a6-463e-abdc-edd813d5a67e",
   "metadata": {
    "tags": []
   },
   "source": [
    "### Math Between Two Arrays\n",
    "\n",
    "We can also perform a calculation using two or more arrays, as long as they have the same dimensions.\n",
    "\n",
    "**Find the difference between the high and low temperature for each day.**"
   ]
  },
  {
   "cell_type": "code",
   "execution_count": null,
   "id": "25c4e71d-296f-4b54-9a59-97f902fe7433",
   "metadata": {},
   "outputs": [],
   "source": []
  },
  {
   "cell_type": "markdown",
   "id": "d125a6be-7c50-4fda-93a8-685f8619bf10",
   "metadata": {
    "tags": []
   },
   "source": [
    "#### What's going on?"
   ]
  },
  {
   "cell_type": "markdown",
   "id": "9580313c-0665-41d0-a2c4-7121eac856c0",
   "metadata": {},
   "source": [
    "<img src = '../../imgs/diff_math.png' width = 600>"
   ]
  },
  {
   "cell_type": "markdown",
   "id": "ac3326ae-9423-4dea-9908-c1c14e5d91c5",
   "metadata": {
    "tags": []
   },
   "source": [
    "### NumPy Functions\n",
    "\n",
    "Numpy has many built-in functions that make it easy to do these types of calculations. However, they take different types of arguments and output different data structures:"
   ]
  },
  {
   "cell_type": "markdown",
   "id": "89798f2f-706b-4eca-88d8-4898c2a74fc5",
   "metadata": {
    "jp-MarkdownHeadingCollapsed": true,
    "tags": []
   },
   "source": [
    "Hit `tab` after `np.` to see all the functions available:"
   ]
  },
  {
   "cell_type": "code",
   "execution_count": null,
   "id": "be29f19d-4d90-4474-9a7c-8417372e9e33",
   "metadata": {},
   "outputs": [],
   "source": []
  },
  {
   "cell_type": "markdown",
   "id": "b55e2c06-5ad4-4106-8812-dc0eded7c5e1",
   "metadata": {},
   "source": [
    "Press `shift` + `tab` after choosing the function to see its details:"
   ]
  },
  {
   "cell_type": "code",
   "execution_count": null,
   "id": "c2501fc6-c4e9-4717-9c5d-188afc5459ae",
   "metadata": {},
   "outputs": [],
   "source": []
  },
  {
   "cell_type": "markdown",
   "id": "3e233b76-4fe6-40da-b251-9a575dd59e81",
   "metadata": {},
   "source": [
    "#### Array -> Single Value"
   ]
  },
  {
   "cell_type": "code",
   "execution_count": null,
   "id": "406f0065-9ec2-4edc-b273-82fb3044807d",
   "metadata": {},
   "outputs": [],
   "source": [
    "np.prod  # multiple all elements together\n",
    "np.sum  # add all elements together\n",
    "np.all  # test whether all elements are true values\n",
    "np.any  # test wether any of the elements are true values\n",
    "np.count_nonzero  # count the number of nonzero elements"
   ]
  },
  {
   "cell_type": "markdown",
   "id": "ac459864-317c-4109-b21c-c25be5a619ac",
   "metadata": {},
   "source": [
    "#### Array -> Array"
   ]
  },
  {
   "cell_type": "code",
   "execution_count": null,
   "id": "8760c8e1-3462-46ec-860e-efbf9501695d",
   "metadata": {},
   "outputs": [],
   "source": [
    "np.diff # difference between adjacent elements\n",
    "np.round # round each element to the nearest integer\n",
    "np.cumprod # for each element, multiply all of the elements so far\n",
    "np.cumsum # for each element, add all of the elements so far\n",
    "np.exp # exponentiate each element\n",
    "np.log # take the natural logarithm of each element\n",
    "np.sqrt # take the square root of each element\n",
    "np.sort # sort the elements"
   ]
  },
  {
   "cell_type": "markdown",
   "id": "a339ae62-059a-4853-8db1-1990b06fb1ba",
   "metadata": {},
   "source": [
    "#### Array of Strings -> Array\n",
    "\n",
    "Numpy is primarily used to work with numbers, but there are string functions as well:"
   ]
  },
  {
   "cell_type": "code",
   "execution_count": null,
   "id": "86fd9298-5a63-4bb4-965f-c583c777a3af",
   "metadata": {},
   "outputs": [],
   "source": [
    "np.char.lower # lowercase each element\n",
    "np.char.upper # uppercase each element\n",
    "np.char.strip # remove spaces at the beginning or end of each element\n",
    "np.char.isalpha # whether each element is only letters (no numbers or symbols)\n",
    "np.char.isnumeric # whether each element is only numeric (no letters or symbols)"
   ]
  },
  {
   "cell_type": "code",
   "execution_count": null,
   "id": "4c57dfe9-3000-46da-8235-b7553447a643",
   "metadata": {},
   "outputs": [],
   "source": [
    "days = ['Monday', 'Tuesday', 'Wednesday', 'Thursday']\n",
    "days_array = np.array(days)"
   ]
  },
  {
   "cell_type": "markdown",
   "id": "389bf6f2-3a27-4d3c-9a17-4b95b8707d99",
   "metadata": {},
   "source": [
    "**Make the list all lowercase.**"
   ]
  },
  {
   "cell_type": "code",
   "execution_count": null,
   "id": "7e5fa72f-d09a-4fa4-8971-ae0b38b787d7",
   "metadata": {},
   "outputs": [],
   "source": []
  }
 ],
 "metadata": {
  "kernelspec": {
   "display_name": "Python 3 (ipykernel)",
   "language": "python",
   "name": "python3"
  },
  "language_info": {
   "codemirror_mode": {
    "name": "ipython",
    "version": 3
   },
   "file_extension": ".py",
   "mimetype": "text/x-python",
   "name": "python",
   "nbconvert_exporter": "python",
   "pygments_lexer": "ipython3",
   "version": "3.9.12"
  }
 },
 "nbformat": 4,
 "nbformat_minor": 5
}
