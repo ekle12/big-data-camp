{
 "cells": [
  {
   "cell_type": "markdown",
   "metadata": {},
   "source": [
    "# John Snow Exercise 1: The Living City\n",
    "\n",
    "## London experienced two major cholera outbreaks between 1840 and 1854. Can you figure out which years?\n",
    "\n",
    "#### Datasets: `London.csv`, `Chicago.csv`"
   ]
  },
  {
   "cell_type": "code",
   "execution_count": 1,
   "metadata": {},
   "outputs": [],
   "source": [
    "import pandas as pd"
   ]
  },
  {
   "cell_type": "markdown",
   "metadata": {},
   "source": [
    "One of the simplest measures of the health of a city is the number of deaths. This data is relatively easy to capture and isn't very subjective. Let's explore 19th Century London compared to 21st Century Chicago."
   ]
  },
  {
   "cell_type": "code",
   "execution_count": null,
   "metadata": {},
   "outputs": [],
   "source": [
    "#Read in the .csv file and convert to a Pandas dataframe called \"London\"\n",
    "\n",
    "London = pd.read_csv(\"London.csv\", index_col='Year')"
   ]
  },
  {
   "cell_type": "code",
   "execution_count": 3,
   "metadata": {},
   "outputs": [
    {
     "data": {
      "text/html": [
       "<div>\n",
       "<style scoped>\n",
       "    .dataframe tbody tr th:only-of-type {\n",
       "        vertical-align: middle;\n",
       "    }\n",
       "\n",
       "    .dataframe tbody tr th {\n",
       "        vertical-align: top;\n",
       "    }\n",
       "\n",
       "    .dataframe thead th {\n",
       "        text-align: right;\n",
       "    }\n",
       "</style>\n",
       "<table border=\"1\" class=\"dataframe\">\n",
       "  <thead>\n",
       "    <tr style=\"text-align: right;\">\n",
       "      <th></th>\n",
       "      <th>Population</th>\n",
       "      <th>Deaths</th>\n",
       "    </tr>\n",
       "    <tr>\n",
       "      <th>Year</th>\n",
       "      <th></th>\n",
       "      <th></th>\n",
       "    </tr>\n",
       "  </thead>\n",
       "  <tbody>\n",
       "    <tr>\n",
       "      <th>1840</th>\n",
       "      <td>1842458</td>\n",
       "      <td>46281</td>\n",
       "    </tr>\n",
       "    <tr>\n",
       "      <th>1841</th>\n",
       "      <td>1877963</td>\n",
       "      <td>45284</td>\n",
       "    </tr>\n",
       "    <tr>\n",
       "      <th>1842</th>\n",
       "      <td>1916860</td>\n",
       "      <td>45272</td>\n",
       "    </tr>\n",
       "    <tr>\n",
       "      <th>1843</th>\n",
       "      <td>1953787</td>\n",
       "      <td>48574</td>\n",
       "    </tr>\n",
       "    <tr>\n",
       "      <th>1844</th>\n",
       "      <td>2033816</td>\n",
       "      <td>50423</td>\n",
       "    </tr>\n",
       "    <tr>\n",
       "      <th>1845</th>\n",
       "      <td>2073298</td>\n",
       "      <td>48332</td>\n",
       "    </tr>\n",
       "    <tr>\n",
       "      <th>1846</th>\n",
       "      <td>2113535</td>\n",
       "      <td>49089</td>\n",
       "    </tr>\n",
       "    <tr>\n",
       "      <th>1847</th>\n",
       "      <td>2195401</td>\n",
       "      <td>60442</td>\n",
       "    </tr>\n",
       "    <tr>\n",
       "      <th>1848</th>\n",
       "      <td>2238703</td>\n",
       "      <td>57628</td>\n",
       "    </tr>\n",
       "    <tr>\n",
       "      <th>1849</th>\n",
       "      <td>2282858</td>\n",
       "      <td>68432</td>\n",
       "    </tr>\n",
       "    <tr>\n",
       "      <th>1850</th>\n",
       "      <td>2327884</td>\n",
       "      <td>48579</td>\n",
       "    </tr>\n",
       "    <tr>\n",
       "      <th>1851</th>\n",
       "      <td>2373799</td>\n",
       "      <td>55354</td>\n",
       "    </tr>\n",
       "    <tr>\n",
       "      <th>1852</th>\n",
       "      <td>2420619</td>\n",
       "      <td>54213</td>\n",
       "    </tr>\n",
       "    <tr>\n",
       "      <th>1853</th>\n",
       "      <td>2468362</td>\n",
       "      <td>61202</td>\n",
       "    </tr>\n",
       "    <tr>\n",
       "      <th>1854</th>\n",
       "      <td>2517048</td>\n",
       "      <td>73697</td>\n",
       "    </tr>\n",
       "  </tbody>\n",
       "</table>\n",
       "</div>"
      ],
      "text/plain": [
       "      Population  Deaths\n",
       "Year                    \n",
       "1840     1842458   46281\n",
       "1841     1877963   45284\n",
       "1842     1916860   45272\n",
       "1843     1953787   48574\n",
       "1844     2033816   50423\n",
       "1845     2073298   48332\n",
       "1846     2113535   49089\n",
       "1847     2195401   60442\n",
       "1848     2238703   57628\n",
       "1849     2282858   68432\n",
       "1850     2327884   48579\n",
       "1851     2373799   55354\n",
       "1852     2420619   54213\n",
       "1853     2468362   61202\n",
       "1854     2517048   73697"
      ]
     },
     "execution_count": 3,
     "metadata": {},
     "output_type": "execute_result"
    }
   ],
   "source": [
    "London"
   ]
  },
  {
   "cell_type": "markdown",
   "metadata": {},
   "source": [
    "**How does London compare to a similar-sized city like Chicago?**\n",
    "\n",
    "Use the `Chicago.csv` dataset to view similar data for Chicago between 2010-2018."
   ]
  },
  {
   "cell_type": "code",
   "execution_count": 4,
   "metadata": {},
   "outputs": [],
   "source": []
  },
  {
   "cell_type": "code",
   "execution_count": null,
   "metadata": {},
   "outputs": [],
   "source": []
  },
  {
   "cell_type": "markdown",
   "metadata": {},
   "source": [
    "## Creating a Variable of Interest\n",
    "\n",
    "It is easy to compare Chicago and London side by side because they have similar populations.\n",
    "\n",
    "However, we still need to factor in the total population when considering death rate, also known as \"mortality\".\n",
    "\n",
    "This is done with the following calculation:\n",
    "\n",
    "$$death \\ rate_{1000} = {deaths \\over population} \\times 1000$$\n",
    "\n"
   ]
  },
  {
   "cell_type": "markdown",
   "metadata": {},
   "source": [
    "## Referencing Arrays\n",
    "\n",
    "We use the format `dataframe['array_label']` to reference a column in a dataframe. For example: "
   ]
  },
  {
   "cell_type": "code",
   "execution_count": null,
   "metadata": {},
   "outputs": [],
   "source": [
    "London['deaths']"
   ]
  },
  {
   "cell_type": "markdown",
   "metadata": {},
   "source": [
    "Develop a function that will calculate the death rate per 1000 people for London."
   ]
  },
  {
   "cell_type": "code",
   "execution_count": 6,
   "metadata": {},
   "outputs": [
    {
     "data": {
      "text/plain": [
       "Year\n",
       "1840    25.119161\n",
       "1841    24.113361\n",
       "1842    23.617792\n",
       "1843    24.861461\n",
       "1844    24.792312\n",
       "1845    23.311651\n",
       "1846    23.226017\n",
       "1847    27.531189\n",
       "1848    25.741691\n",
       "1849    29.976459\n",
       "1850    20.868308\n",
       "1851    23.318739\n",
       "1852    22.396337\n",
       "1853    24.794580\n",
       "1854    29.279140\n",
       "dtype: float64"
      ]
     },
     "execution_count": 6,
     "metadata": {},
     "output_type": "execute_result"
    }
   ],
   "source": [
    "London['Deaths'] / London['Population'] * 1000"
   ]
  },
  {
   "cell_type": "markdown",
   "metadata": {},
   "source": [
    "Add this new data as another column to our dataframe:"
   ]
  },
  {
   "cell_type": "code",
   "execution_count": 7,
   "metadata": {},
   "outputs": [],
   "source": [
    "London['Deaths per 1000'] = London['Deaths'] / London['Population'] * 1000"
   ]
  },
  {
   "cell_type": "code",
   "execution_count": 8,
   "metadata": {},
   "outputs": [
    {
     "data": {
      "text/html": [
       "<div>\n",
       "<style scoped>\n",
       "    .dataframe tbody tr th:only-of-type {\n",
       "        vertical-align: middle;\n",
       "    }\n",
       "\n",
       "    .dataframe tbody tr th {\n",
       "        vertical-align: top;\n",
       "    }\n",
       "\n",
       "    .dataframe thead th {\n",
       "        text-align: right;\n",
       "    }\n",
       "</style>\n",
       "<table border=\"1\" class=\"dataframe\">\n",
       "  <thead>\n",
       "    <tr style=\"text-align: right;\">\n",
       "      <th></th>\n",
       "      <th>Population</th>\n",
       "      <th>Deaths</th>\n",
       "      <th>Deaths per 1000</th>\n",
       "    </tr>\n",
       "    <tr>\n",
       "      <th>Year</th>\n",
       "      <th></th>\n",
       "      <th></th>\n",
       "      <th></th>\n",
       "    </tr>\n",
       "  </thead>\n",
       "  <tbody>\n",
       "    <tr>\n",
       "      <th>1840</th>\n",
       "      <td>1842458</td>\n",
       "      <td>46281</td>\n",
       "      <td>25.119161</td>\n",
       "    </tr>\n",
       "    <tr>\n",
       "      <th>1841</th>\n",
       "      <td>1877963</td>\n",
       "      <td>45284</td>\n",
       "      <td>24.113361</td>\n",
       "    </tr>\n",
       "    <tr>\n",
       "      <th>1842</th>\n",
       "      <td>1916860</td>\n",
       "      <td>45272</td>\n",
       "      <td>23.617792</td>\n",
       "    </tr>\n",
       "    <tr>\n",
       "      <th>1843</th>\n",
       "      <td>1953787</td>\n",
       "      <td>48574</td>\n",
       "      <td>24.861461</td>\n",
       "    </tr>\n",
       "    <tr>\n",
       "      <th>1844</th>\n",
       "      <td>2033816</td>\n",
       "      <td>50423</td>\n",
       "      <td>24.792312</td>\n",
       "    </tr>\n",
       "    <tr>\n",
       "      <th>1845</th>\n",
       "      <td>2073298</td>\n",
       "      <td>48332</td>\n",
       "      <td>23.311651</td>\n",
       "    </tr>\n",
       "    <tr>\n",
       "      <th>1846</th>\n",
       "      <td>2113535</td>\n",
       "      <td>49089</td>\n",
       "      <td>23.226017</td>\n",
       "    </tr>\n",
       "    <tr>\n",
       "      <th>1847</th>\n",
       "      <td>2195401</td>\n",
       "      <td>60442</td>\n",
       "      <td>27.531189</td>\n",
       "    </tr>\n",
       "    <tr>\n",
       "      <th>1848</th>\n",
       "      <td>2238703</td>\n",
       "      <td>57628</td>\n",
       "      <td>25.741691</td>\n",
       "    </tr>\n",
       "    <tr>\n",
       "      <th>1849</th>\n",
       "      <td>2282858</td>\n",
       "      <td>68432</td>\n",
       "      <td>29.976459</td>\n",
       "    </tr>\n",
       "    <tr>\n",
       "      <th>1850</th>\n",
       "      <td>2327884</td>\n",
       "      <td>48579</td>\n",
       "      <td>20.868308</td>\n",
       "    </tr>\n",
       "    <tr>\n",
       "      <th>1851</th>\n",
       "      <td>2373799</td>\n",
       "      <td>55354</td>\n",
       "      <td>23.318739</td>\n",
       "    </tr>\n",
       "    <tr>\n",
       "      <th>1852</th>\n",
       "      <td>2420619</td>\n",
       "      <td>54213</td>\n",
       "      <td>22.396337</td>\n",
       "    </tr>\n",
       "    <tr>\n",
       "      <th>1853</th>\n",
       "      <td>2468362</td>\n",
       "      <td>61202</td>\n",
       "      <td>24.794580</td>\n",
       "    </tr>\n",
       "    <tr>\n",
       "      <th>1854</th>\n",
       "      <td>2517048</td>\n",
       "      <td>73697</td>\n",
       "      <td>29.279140</td>\n",
       "    </tr>\n",
       "  </tbody>\n",
       "</table>\n",
       "</div>"
      ],
      "text/plain": [
       "      Population  Deaths  Deaths per 1000\n",
       "Year                                     \n",
       "1840     1842458   46281        25.119161\n",
       "1841     1877963   45284        24.113361\n",
       "1842     1916860   45272        23.617792\n",
       "1843     1953787   48574        24.861461\n",
       "1844     2033816   50423        24.792312\n",
       "1845     2073298   48332        23.311651\n",
       "1846     2113535   49089        23.226017\n",
       "1847     2195401   60442        27.531189\n",
       "1848     2238703   57628        25.741691\n",
       "1849     2282858   68432        29.976459\n",
       "1850     2327884   48579        20.868308\n",
       "1851     2373799   55354        23.318739\n",
       "1852     2420619   54213        22.396337\n",
       "1853     2468362   61202        24.794580\n",
       "1854     2517048   73697        29.279140"
      ]
     },
     "execution_count": 8,
     "metadata": {},
     "output_type": "execute_result"
    }
   ],
   "source": [
    "London"
   ]
  },
  {
   "cell_type": "markdown",
   "metadata": {},
   "source": [
    "**How did the mortality rate of 19th Century London compare to 21st Century Chicago?**\n",
    "    \n",
    "Can you modify the code above to calculate the mortality rate **for Chicago**?"
   ]
  },
  {
   "cell_type": "code",
   "execution_count": null,
   "metadata": {},
   "outputs": [],
   "source": []
  },
  {
   "cell_type": "code",
   "execution_count": null,
   "metadata": {},
   "outputs": [],
   "source": []
  },
  {
   "cell_type": "markdown",
   "metadata": {},
   "source": [
    "## Interpretation\n",
    "\n",
    "London experience two major cholera outbreaks between 1840 and 1854. **Can you figure out which years?**\n",
    "\n"
   ]
  },
  {
   "cell_type": "code",
   "execution_count": null,
   "metadata": {},
   "outputs": [],
   "source": []
  }
 ],
 "metadata": {
  "kernelspec": {
   "display_name": "Python 3",
   "language": "python",
   "name": "python3"
  },
  "language_info": {
   "codemirror_mode": {
    "name": "ipython",
    "version": 3
   },
   "file_extension": ".py",
   "mimetype": "text/x-python",
   "name": "python",
   "nbconvert_exporter": "python",
   "pygments_lexer": "ipython3",
   "version": "3.8.5"
  }
 },
 "nbformat": 4,
 "nbformat_minor": 4
}
