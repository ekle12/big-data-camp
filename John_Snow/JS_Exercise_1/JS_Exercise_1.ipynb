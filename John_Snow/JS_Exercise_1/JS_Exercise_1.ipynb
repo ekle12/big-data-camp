{
 "cells": [
  {
   "cell_type": "markdown",
   "metadata": {},
   "source": [
    "# John Snow Exercise 1: The Living City\n",
    "\n",
    "## London experienced two major cholera outbreaks between 1840 and 1854. Can you figure out which years?\n",
    "\n",
    "#### Datasets: `London.csv`, `Chicago.csv`"
   ]
  },
  {
   "cell_type": "code",
   "execution_count": 1,
   "metadata": {},
   "outputs": [],
   "source": [
    "# Import the Pandas library and abbreviate it as pd\n",
    "\n",
    "import pandas as pd"
   ]
  },
  {
   "cell_type": "markdown",
   "metadata": {},
   "source": [
    "One of the simplest measures of the health of a city is the number of deaths. This data is relatively easy to capture and isn't very subjective. Let's explore 19th Century London compared to 21st Century Chicago."
   ]
  },
  {
   "cell_type": "code",
   "execution_count": 2,
   "metadata": {},
   "outputs": [],
   "source": [
    "# Read in the .csv file and convert to a Pandas dataframe called \"London\"\n",
    "\n",
    "London = pd.read_csv(\"London.csv\", index_col='Year')"
   ]
  },
  {
   "cell_type": "code",
   "execution_count": 3,
   "metadata": {},
   "outputs": [
    {
     "data": {
      "text/html": [
       "<div>\n",
       "<style scoped>\n",
       "    .dataframe tbody tr th:only-of-type {\n",
       "        vertical-align: middle;\n",
       "    }\n",
       "\n",
       "    .dataframe tbody tr th {\n",
       "        vertical-align: top;\n",
       "    }\n",
       "\n",
       "    .dataframe thead th {\n",
       "        text-align: right;\n",
       "    }\n",
       "</style>\n",
       "<table border=\"1\" class=\"dataframe\">\n",
       "  <thead>\n",
       "    <tr style=\"text-align: right;\">\n",
       "      <th></th>\n",
       "      <th>Population</th>\n",
       "      <th>Deaths</th>\n",
       "    </tr>\n",
       "    <tr>\n",
       "      <th>Year</th>\n",
       "      <th></th>\n",
       "      <th></th>\n",
       "    </tr>\n",
       "  </thead>\n",
       "  <tbody>\n",
       "    <tr>\n",
       "      <th>1840</th>\n",
       "      <td>1842458</td>\n",
       "      <td>46281</td>\n",
       "    </tr>\n",
       "    <tr>\n",
       "      <th>1841</th>\n",
       "      <td>1877963</td>\n",
       "      <td>45284</td>\n",
       "    </tr>\n",
       "    <tr>\n",
       "      <th>1842</th>\n",
       "      <td>1916860</td>\n",
       "      <td>45272</td>\n",
       "    </tr>\n",
       "    <tr>\n",
       "      <th>1843</th>\n",
       "      <td>1953787</td>\n",
       "      <td>48574</td>\n",
       "    </tr>\n",
       "    <tr>\n",
       "      <th>1844</th>\n",
       "      <td>2033816</td>\n",
       "      <td>50423</td>\n",
       "    </tr>\n",
       "    <tr>\n",
       "      <th>1845</th>\n",
       "      <td>2073298</td>\n",
       "      <td>48332</td>\n",
       "    </tr>\n",
       "    <tr>\n",
       "      <th>1846</th>\n",
       "      <td>2113535</td>\n",
       "      <td>49089</td>\n",
       "    </tr>\n",
       "    <tr>\n",
       "      <th>1847</th>\n",
       "      <td>2195401</td>\n",
       "      <td>60442</td>\n",
       "    </tr>\n",
       "    <tr>\n",
       "      <th>1848</th>\n",
       "      <td>2238703</td>\n",
       "      <td>57628</td>\n",
       "    </tr>\n",
       "    <tr>\n",
       "      <th>1849</th>\n",
       "      <td>2282858</td>\n",
       "      <td>68432</td>\n",
       "    </tr>\n",
       "    <tr>\n",
       "      <th>1850</th>\n",
       "      <td>2327884</td>\n",
       "      <td>48579</td>\n",
       "    </tr>\n",
       "    <tr>\n",
       "      <th>1851</th>\n",
       "      <td>2373799</td>\n",
       "      <td>55354</td>\n",
       "    </tr>\n",
       "    <tr>\n",
       "      <th>1852</th>\n",
       "      <td>2420619</td>\n",
       "      <td>54213</td>\n",
       "    </tr>\n",
       "    <tr>\n",
       "      <th>1853</th>\n",
       "      <td>2468362</td>\n",
       "      <td>61202</td>\n",
       "    </tr>\n",
       "    <tr>\n",
       "      <th>1854</th>\n",
       "      <td>2517048</td>\n",
       "      <td>73697</td>\n",
       "    </tr>\n",
       "  </tbody>\n",
       "</table>\n",
       "</div>"
      ],
      "text/plain": [
       "      Population  Deaths\n",
       "Year                    \n",
       "1840     1842458   46281\n",
       "1841     1877963   45284\n",
       "1842     1916860   45272\n",
       "1843     1953787   48574\n",
       "1844     2033816   50423\n",
       "1845     2073298   48332\n",
       "1846     2113535   49089\n",
       "1847     2195401   60442\n",
       "1848     2238703   57628\n",
       "1849     2282858   68432\n",
       "1850     2327884   48579\n",
       "1851     2373799   55354\n",
       "1852     2420619   54213\n",
       "1853     2468362   61202\n",
       "1854     2517048   73697"
      ]
     },
     "execution_count": 3,
     "metadata": {},
     "output_type": "execute_result"
    }
   ],
   "source": [
    "# Print the London dataframe\n",
    "\n",
    "London"
   ]
  },
  {
   "cell_type": "markdown",
   "metadata": {},
   "source": [
    "## Creating a Variable of Interest\n",
    "\n",
    "It is easy to compare Chicago and London side by side because they have similar populations.\n",
    "\n",
    "However, we still need to factor in the total population when considering death rate, also known as \"mortality\".\n",
    "\n",
    "This is done with the following calculation:\n",
    "\n",
    "$$death \\ rate_{1000} = {deaths \\over population} \\times 1000$$\n",
    "\n",
    "We can define this calculation with a function:\n"
   ]
  },
  {
   "cell_type": "code",
   "execution_count": 4,
   "metadata": {},
   "outputs": [],
   "source": [
    "# Just run this cell. Nothing will output because you are just defining the function.\n",
    "\n",
    "def death_rate(population, deaths):\n",
    "    return deaths/population*1000 "
   ]
  },
  {
   "cell_type": "markdown",
   "metadata": {},
   "source": [
    "## Referencing Arrays\n",
    "\n",
    "We use the format `dataframe['array_label']` to reference a column in a dataframe. For example: "
   ]
  },
  {
   "cell_type": "code",
   "execution_count": null,
   "metadata": {},
   "outputs": [],
   "source": [
    "# Run the cell\n",
    "\n",
    "London['deaths']"
   ]
  },
  {
   "cell_type": "markdown",
   "metadata": {},
   "source": [
    "Use the `death_rate` function and reference the appropriate arrays to calculate the death rates for London between 1840 and 1854 and place it in a variable called `deaths_1000`"
   ]
  },
  {
   "cell_type": "code",
   "execution_count": null,
   "metadata": {},
   "outputs": [],
   "source": [
    "# Insert 2 column references into the death_rate function separated by a comma\n",
    "deaths_1000 = death_rate()\n",
    "\n",
    "# Print the results\n",
    "deaths_1000  "
   ]
  },
  {
   "cell_type": "markdown",
   "metadata": {},
   "source": [
    "We can add this new data as another column to our dataframe by simply creating a new variable in the column format: `dataframe['array_label']`"
   ]
  },
  {
   "cell_type": "code",
   "execution_count": 7,
   "metadata": {},
   "outputs": [],
   "source": [
    "# Just run this cell \n",
    "\n",
    "London['Deaths per 1000'] = deaths_1000\n",
    "London"
   ]
  },
  {
   "cell_type": "markdown",
   "metadata": {},
   "source": [
    "## Interpretation\n",
    "\n",
    "London experience two major cholera outbreaks between 1840 and 1854. **Can you figure out which years?**\n",
    "\n"
   ]
  },
  {
   "cell_type": "code",
   "execution_count": null,
   "metadata": {},
   "outputs": [],
   "source": []
  },
  {
   "cell_type": "markdown",
   "metadata": {},
   "source": [
    "## Extension\n",
    "\n",
    "**How did the mortality rate of 19th Century London compare to 21st Century Chicago?**\n",
    "    \n",
    "Use the `Chicago.csv` dataset to view similar data for Chicago between 2010-2018.\n",
    "\n",
    "Can you modify the code above to calculate the mortality rate **for Chicago**?"
   ]
  },
  {
   "cell_type": "code",
   "execution_count": null,
   "metadata": {},
   "outputs": [],
   "source": []
  },
  {
   "cell_type": "code",
   "execution_count": null,
   "metadata": {},
   "outputs": [],
   "source": []
  }
 ],
 "metadata": {
  "kernelspec": {
   "display_name": "Python 3",
   "language": "python",
   "name": "python3"
  },
  "language_info": {
   "codemirror_mode": {
    "name": "ipython",
    "version": 3
   },
   "file_extension": ".py",
   "mimetype": "text/x-python",
   "name": "python",
   "nbconvert_exporter": "python",
   "pygments_lexer": "ipython3",
   "version": "3.8.5"
  }
 },
 "nbformat": 4,
 "nbformat_minor": 4
}
