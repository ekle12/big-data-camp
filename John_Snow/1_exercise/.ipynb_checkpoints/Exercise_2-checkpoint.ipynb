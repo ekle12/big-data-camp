{
 "cells": [
  {
   "cell_type": "markdown",
   "metadata": {},
   "source": [
    "# Exercise 2: The Living City\n",
    "\n",
    "#### Datasets: `London.csv`, `Chicago.csv`"
   ]
  },
  {
   "cell_type": "markdown",
   "metadata": {},
   "source": [
    "## Comparing London and Chicago"
   ]
  },
  {
   "cell_type": "code",
   "execution_count": 1,
   "metadata": {},
   "outputs": [],
   "source": [
    "import pandas as pd"
   ]
  },
  {
   "cell_type": "code",
   "execution_count": 2,
   "metadata": {},
   "outputs": [],
   "source": [
    "London = pd.read_csv(\"London.csv\", index_col='Year')"
   ]
  },
  {
   "cell_type": "code",
   "execution_count": 3,
   "metadata": {},
   "outputs": [
    {
     "data": {
      "text/html": [
       "<div>\n",
       "<style scoped>\n",
       "    .dataframe tbody tr th:only-of-type {\n",
       "        vertical-align: middle;\n",
       "    }\n",
       "\n",
       "    .dataframe tbody tr th {\n",
       "        vertical-align: top;\n",
       "    }\n",
       "\n",
       "    .dataframe thead th {\n",
       "        text-align: right;\n",
       "    }\n",
       "</style>\n",
       "<table border=\"1\" class=\"dataframe\">\n",
       "  <thead>\n",
       "    <tr style=\"text-align: right;\">\n",
       "      <th></th>\n",
       "      <th>Population</th>\n",
       "      <th>Deaths</th>\n",
       "    </tr>\n",
       "    <tr>\n",
       "      <th>Year</th>\n",
       "      <th></th>\n",
       "      <th></th>\n",
       "    </tr>\n",
       "  </thead>\n",
       "  <tbody>\n",
       "    <tr>\n",
       "      <th>1840</th>\n",
       "      <td>1842458</td>\n",
       "      <td>46281</td>\n",
       "    </tr>\n",
       "    <tr>\n",
       "      <th>1841</th>\n",
       "      <td>1877963</td>\n",
       "      <td>45284</td>\n",
       "    </tr>\n",
       "    <tr>\n",
       "      <th>1842</th>\n",
       "      <td>1916860</td>\n",
       "      <td>45272</td>\n",
       "    </tr>\n",
       "    <tr>\n",
       "      <th>1843</th>\n",
       "      <td>1953787</td>\n",
       "      <td>48574</td>\n",
       "    </tr>\n",
       "    <tr>\n",
       "      <th>1844</th>\n",
       "      <td>2033816</td>\n",
       "      <td>50423</td>\n",
       "    </tr>\n",
       "    <tr>\n",
       "      <th>1845</th>\n",
       "      <td>2073298</td>\n",
       "      <td>48332</td>\n",
       "    </tr>\n",
       "    <tr>\n",
       "      <th>1846</th>\n",
       "      <td>2113535</td>\n",
       "      <td>49089</td>\n",
       "    </tr>\n",
       "    <tr>\n",
       "      <th>1847</th>\n",
       "      <td>2195401</td>\n",
       "      <td>60442</td>\n",
       "    </tr>\n",
       "    <tr>\n",
       "      <th>1848</th>\n",
       "      <td>2238703</td>\n",
       "      <td>57628</td>\n",
       "    </tr>\n",
       "    <tr>\n",
       "      <th>1849</th>\n",
       "      <td>2282858</td>\n",
       "      <td>68432</td>\n",
       "    </tr>\n",
       "    <tr>\n",
       "      <th>1850</th>\n",
       "      <td>2327884</td>\n",
       "      <td>48579</td>\n",
       "    </tr>\n",
       "    <tr>\n",
       "      <th>1851</th>\n",
       "      <td>2373799</td>\n",
       "      <td>55354</td>\n",
       "    </tr>\n",
       "    <tr>\n",
       "      <th>1852</th>\n",
       "      <td>2420619</td>\n",
       "      <td>54213</td>\n",
       "    </tr>\n",
       "    <tr>\n",
       "      <th>1853</th>\n",
       "      <td>2468362</td>\n",
       "      <td>61202</td>\n",
       "    </tr>\n",
       "    <tr>\n",
       "      <th>1854</th>\n",
       "      <td>2517048</td>\n",
       "      <td>73697</td>\n",
       "    </tr>\n",
       "  </tbody>\n",
       "</table>\n",
       "</div>"
      ],
      "text/plain": [
       "      Population  Deaths\n",
       "Year                    \n",
       "1840     1842458   46281\n",
       "1841     1877963   45284\n",
       "1842     1916860   45272\n",
       "1843     1953787   48574\n",
       "1844     2033816   50423\n",
       "1845     2073298   48332\n",
       "1846     2113535   49089\n",
       "1847     2195401   60442\n",
       "1848     2238703   57628\n",
       "1849     2282858   68432\n",
       "1850     2327884   48579\n",
       "1851     2373799   55354\n",
       "1852     2420619   54213\n",
       "1853     2468362   61202\n",
       "1854     2517048   73697"
      ]
     },
     "execution_count": 3,
     "metadata": {},
     "output_type": "execute_result"
    }
   ],
   "source": [
    "London"
   ]
  },
  {
   "cell_type": "markdown",
   "metadata": {},
   "source": [
    "**How does London compare to a similar-sized city like Chicago?**\n",
    "\n",
    "Here is the same kind of data for Chicago for 2010-2018."
   ]
  },
  {
   "cell_type": "code",
   "execution_count": 4,
   "metadata": {},
   "outputs": [],
   "source": [
    "Chicago = pd.read_csv(\"Chicago.csv\", index_col='Year')"
   ]
  },
  {
   "cell_type": "code",
   "execution_count": 5,
   "metadata": {},
   "outputs": [
    {
     "data": {
      "text/html": [
       "<div>\n",
       "<style scoped>\n",
       "    .dataframe tbody tr th:only-of-type {\n",
       "        vertical-align: middle;\n",
       "    }\n",
       "\n",
       "    .dataframe tbody tr th {\n",
       "        vertical-align: top;\n",
       "    }\n",
       "\n",
       "    .dataframe thead th {\n",
       "        text-align: right;\n",
       "    }\n",
       "</style>\n",
       "<table border=\"1\" class=\"dataframe\">\n",
       "  <thead>\n",
       "    <tr style=\"text-align: right;\">\n",
       "      <th></th>\n",
       "      <th>Population</th>\n",
       "      <th>Deaths</th>\n",
       "    </tr>\n",
       "    <tr>\n",
       "      <th>Year</th>\n",
       "      <th></th>\n",
       "      <th></th>\n",
       "    </tr>\n",
       "  </thead>\n",
       "  <tbody>\n",
       "    <tr>\n",
       "      <th>2010</th>\n",
       "      <td>2698831</td>\n",
       "      <td>18595</td>\n",
       "    </tr>\n",
       "    <tr>\n",
       "      <th>2011</th>\n",
       "      <td>2707123</td>\n",
       "      <td>18743</td>\n",
       "    </tr>\n",
       "    <tr>\n",
       "      <th>2012</th>\n",
       "      <td>2714844</td>\n",
       "      <td>18911</td>\n",
       "    </tr>\n",
       "    <tr>\n",
       "      <th>2013</th>\n",
       "      <td>2718789</td>\n",
       "      <td>18825</td>\n",
       "    </tr>\n",
       "    <tr>\n",
       "      <th>2014</th>\n",
       "      <td>2722407</td>\n",
       "      <td>19003</td>\n",
       "    </tr>\n",
       "    <tr>\n",
       "      <th>2015</th>\n",
       "      <td>2720556</td>\n",
       "      <td>19308</td>\n",
       "    </tr>\n",
       "    <tr>\n",
       "      <th>2016</th>\n",
       "      <td>2704965</td>\n",
       "      <td>19809</td>\n",
       "    </tr>\n",
       "    <tr>\n",
       "      <th>2017</th>\n",
       "      <td>2716462</td>\n",
       "      <td>19742</td>\n",
       "    </tr>\n",
       "    <tr>\n",
       "      <th>2018</th>\n",
       "      <td>2705988</td>\n",
       "      <td>19660</td>\n",
       "    </tr>\n",
       "  </tbody>\n",
       "</table>\n",
       "</div>"
      ],
      "text/plain": [
       "      Population  Deaths\n",
       "Year                    \n",
       "2010     2698831   18595\n",
       "2011     2707123   18743\n",
       "2012     2714844   18911\n",
       "2013     2718789   18825\n",
       "2014     2722407   19003\n",
       "2015     2720556   19308\n",
       "2016     2704965   19809\n",
       "2017     2716462   19742\n",
       "2018     2705988   19660"
      ]
     },
     "execution_count": 5,
     "metadata": {},
     "output_type": "execute_result"
    }
   ],
   "source": [
    "Chicago"
   ]
  },
  {
   "cell_type": "markdown",
   "metadata": {},
   "source": [
    "## Creating a Variable of Interest\n",
    "\n",
    "It is easy to compare Chicago and London side by side because they have similar populations.\n",
    "\n",
    "However, we still need to factor in the total population when considering death rate, also known as \"mortality\".\n",
    "\n",
    "This is done with the following calculation:\n",
    "\n",
    "$$death \\ rate_{1000} = {deaths \\over population} \\times 1000$$\n",
    "\n"
   ]
  },
  {
   "cell_type": "markdown",
   "metadata": {},
   "source": [
    "We can express this formula in our code as follows."
   ]
  },
  {
   "cell_type": "code",
   "execution_count": 6,
   "metadata": {},
   "outputs": [
    {
     "data": {
      "text/plain": [
       "Year\n",
       "1840    25.119161\n",
       "1841    24.113361\n",
       "1842    23.617792\n",
       "1843    24.861461\n",
       "1844    24.792312\n",
       "1845    23.311651\n",
       "1846    23.226017\n",
       "1847    27.531189\n",
       "1848    25.741691\n",
       "1849    29.976459\n",
       "1850    20.868308\n",
       "1851    23.318739\n",
       "1852    22.396337\n",
       "1853    24.794580\n",
       "1854    29.279140\n",
       "dtype: float64"
      ]
     },
     "execution_count": 6,
     "metadata": {},
     "output_type": "execute_result"
    }
   ],
   "source": [
    "London['Deaths'] / London['Population'] * 1000"
   ]
  },
  {
   "cell_type": "markdown",
   "metadata": {},
   "source": [
    "That's nice, but the data is more useful all together. (And it looks nicer besides!)"
   ]
  },
  {
   "cell_type": "code",
   "execution_count": 7,
   "metadata": {},
   "outputs": [],
   "source": [
    "London['Deaths per 1000'] = London['Deaths'] / London['Population'] * 1000"
   ]
  },
  {
   "cell_type": "code",
   "execution_count": 8,
   "metadata": {},
   "outputs": [
    {
     "data": {
      "text/html": [
       "<div>\n",
       "<style scoped>\n",
       "    .dataframe tbody tr th:only-of-type {\n",
       "        vertical-align: middle;\n",
       "    }\n",
       "\n",
       "    .dataframe tbody tr th {\n",
       "        vertical-align: top;\n",
       "    }\n",
       "\n",
       "    .dataframe thead th {\n",
       "        text-align: right;\n",
       "    }\n",
       "</style>\n",
       "<table border=\"1\" class=\"dataframe\">\n",
       "  <thead>\n",
       "    <tr style=\"text-align: right;\">\n",
       "      <th></th>\n",
       "      <th>Population</th>\n",
       "      <th>Deaths</th>\n",
       "      <th>Deaths per 1000</th>\n",
       "    </tr>\n",
       "    <tr>\n",
       "      <th>Year</th>\n",
       "      <th></th>\n",
       "      <th></th>\n",
       "      <th></th>\n",
       "    </tr>\n",
       "  </thead>\n",
       "  <tbody>\n",
       "    <tr>\n",
       "      <th>1840</th>\n",
       "      <td>1842458</td>\n",
       "      <td>46281</td>\n",
       "      <td>25.119161</td>\n",
       "    </tr>\n",
       "    <tr>\n",
       "      <th>1841</th>\n",
       "      <td>1877963</td>\n",
       "      <td>45284</td>\n",
       "      <td>24.113361</td>\n",
       "    </tr>\n",
       "    <tr>\n",
       "      <th>1842</th>\n",
       "      <td>1916860</td>\n",
       "      <td>45272</td>\n",
       "      <td>23.617792</td>\n",
       "    </tr>\n",
       "    <tr>\n",
       "      <th>1843</th>\n",
       "      <td>1953787</td>\n",
       "      <td>48574</td>\n",
       "      <td>24.861461</td>\n",
       "    </tr>\n",
       "    <tr>\n",
       "      <th>1844</th>\n",
       "      <td>2033816</td>\n",
       "      <td>50423</td>\n",
       "      <td>24.792312</td>\n",
       "    </tr>\n",
       "    <tr>\n",
       "      <th>1845</th>\n",
       "      <td>2073298</td>\n",
       "      <td>48332</td>\n",
       "      <td>23.311651</td>\n",
       "    </tr>\n",
       "    <tr>\n",
       "      <th>1846</th>\n",
       "      <td>2113535</td>\n",
       "      <td>49089</td>\n",
       "      <td>23.226017</td>\n",
       "    </tr>\n",
       "    <tr>\n",
       "      <th>1847</th>\n",
       "      <td>2195401</td>\n",
       "      <td>60442</td>\n",
       "      <td>27.531189</td>\n",
       "    </tr>\n",
       "    <tr>\n",
       "      <th>1848</th>\n",
       "      <td>2238703</td>\n",
       "      <td>57628</td>\n",
       "      <td>25.741691</td>\n",
       "    </tr>\n",
       "    <tr>\n",
       "      <th>1849</th>\n",
       "      <td>2282858</td>\n",
       "      <td>68432</td>\n",
       "      <td>29.976459</td>\n",
       "    </tr>\n",
       "    <tr>\n",
       "      <th>1850</th>\n",
       "      <td>2327884</td>\n",
       "      <td>48579</td>\n",
       "      <td>20.868308</td>\n",
       "    </tr>\n",
       "    <tr>\n",
       "      <th>1851</th>\n",
       "      <td>2373799</td>\n",
       "      <td>55354</td>\n",
       "      <td>23.318739</td>\n",
       "    </tr>\n",
       "    <tr>\n",
       "      <th>1852</th>\n",
       "      <td>2420619</td>\n",
       "      <td>54213</td>\n",
       "      <td>22.396337</td>\n",
       "    </tr>\n",
       "    <tr>\n",
       "      <th>1853</th>\n",
       "      <td>2468362</td>\n",
       "      <td>61202</td>\n",
       "      <td>24.794580</td>\n",
       "    </tr>\n",
       "    <tr>\n",
       "      <th>1854</th>\n",
       "      <td>2517048</td>\n",
       "      <td>73697</td>\n",
       "      <td>29.279140</td>\n",
       "    </tr>\n",
       "  </tbody>\n",
       "</table>\n",
       "</div>"
      ],
      "text/plain": [
       "      Population  Deaths  Deaths per 1000\n",
       "Year                                     \n",
       "1840     1842458   46281        25.119161\n",
       "1841     1877963   45284        24.113361\n",
       "1842     1916860   45272        23.617792\n",
       "1843     1953787   48574        24.861461\n",
       "1844     2033816   50423        24.792312\n",
       "1845     2073298   48332        23.311651\n",
       "1846     2113535   49089        23.226017\n",
       "1847     2195401   60442        27.531189\n",
       "1848     2238703   57628        25.741691\n",
       "1849     2282858   68432        29.976459\n",
       "1850     2327884   48579        20.868308\n",
       "1851     2373799   55354        23.318739\n",
       "1852     2420619   54213        22.396337\n",
       "1853     2468362   61202        24.794580\n",
       "1854     2517048   73697        29.279140"
      ]
     },
     "execution_count": 8,
     "metadata": {},
     "output_type": "execute_result"
    }
   ],
   "source": [
    "London"
   ]
  },
  {
   "cell_type": "markdown",
   "metadata": {},
   "source": [
    "**How did the mortality rate of 19th Century London compare to 21st Century Chicago?**\n",
    "\n",
    "For London, we wrote:\n",
    "\n",
    "    London['Deaths'] / London['Population'] * 1000\n",
    "    \n",
    "Can you modify the code above to calculate the mortality rate **for Chicago**?"
   ]
  },
  {
   "cell_type": "code",
   "execution_count": null,
   "metadata": {},
   "outputs": [],
   "source": []
  },
  {
   "cell_type": "markdown",
   "metadata": {},
   "source": [
    "We combined these data with the rest of our London data with the following:\n",
    "\n",
    "    London['Deaths per 1000'] = London['Deaths'] / London['Population'] * 1000\n",
    "\n",
    "(And then we simply wrote `London` to *see* our data):\n",
    "\n",
    "    London\n",
    "\n",
    "What would that look like for Chicago as well?"
   ]
  },
  {
   "cell_type": "code",
   "execution_count": null,
   "metadata": {},
   "outputs": [],
   "source": []
  },
  {
   "cell_type": "markdown",
   "metadata": {},
   "source": [
    "## Interpretation\n",
    "\n",
    "London experience two major cholera outbreaks between 1840 and 1854. **Can you figure out which years?**\n",
    "\n",
    "**What methods did you use to pick these years? What did you have to consider?**"
   ]
  },
  {
   "cell_type": "markdown",
   "metadata": {},
   "source": [
    "…"
   ]
  }
 ],
 "metadata": {
  "kernelspec": {
   "display_name": "Python 3",
   "language": "python",
   "name": "python3"
  },
  "language_info": {
   "codemirror_mode": {
    "name": "ipython",
    "version": 3
   },
   "file_extension": ".py",
   "mimetype": "text/x-python",
   "name": "python",
   "nbconvert_exporter": "python",
   "pygments_lexer": "ipython3",
   "version": "3.8.8"
  }
 },
 "nbformat": 4,
 "nbformat_minor": 4
}
