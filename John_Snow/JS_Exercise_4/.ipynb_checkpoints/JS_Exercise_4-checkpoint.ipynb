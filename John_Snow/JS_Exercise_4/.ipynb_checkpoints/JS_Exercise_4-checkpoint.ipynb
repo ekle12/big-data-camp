{
 "cells": [
  {
   "cell_type": "markdown",
   "metadata": {},
   "source": [
    "# John Snow Exercise 4: The Grand Experiment\n",
    "\n",
    "<img src = \"https://upload.wikimedia.org/wikipedia/commons/thumb/c/cc/John_Snow.jpg/640px-John_Snow.jpg\" width = 300>\n",
    "\n",
    "Being a doctor, John Snow had seen many people suffer and die from cholera. It primarily affected their gastrointestinal system (vomiting and diarrhea), leading to extreme dehydration and eventually death for many. Therefore, he was convinced that it had something to do with what people were eating or drinking. He focused on the water supplies of the people of South London. However, it would be hard for him to convince people to change their beliefs, but he knew he could do it with the right data."
   ]
  },
  {
   "cell_type": "markdown",
   "metadata": {},
   "source": [
    "<img src = \"https://els-jbs-prod-cdn.jbs.elsevierhealth.com/cms/attachment/fccea2f1-d01a-4909-bc98-88a891733f63/fx2.jpg\" width = 600>\n",
    "\n",
    "There were 11 districts in South London. In order to conduct a more detailed investigation, he split these districts into 31 \"sub-districts\". The South districts of London were supplied mainly by two water companies: Lambeth and Southwark & Vauxhall. Both companies drew their water from the Thames. John Snow was able to collect detailed data about the sub-districts and their water supplies. Lucky you, we have it.\n",
    "\n",
    "#### Datasets: `Grand_Experiment.csv`"
   ]
  },
  {
   "cell_type": "code",
   "execution_count": null,
   "metadata": {},
   "outputs": [],
   "source": [
    "import pandas as pd\n",
    "import numpy as np\n",
    "from matplotlib import pyplot as plt\n",
    "%matplotlib inline"
   ]
  },
  {
   "cell_type": "markdown",
   "metadata": {},
   "source": [
    "**Read the dataset into a dataframe named `Grand_Exp` and print it.**"
   ]
  },
  {
   "cell_type": "code",
   "execution_count": null,
   "metadata": {},
   "outputs": [],
   "source": []
  },
  {
   "cell_type": "code",
   "execution_count": null,
   "metadata": {},
   "outputs": [],
   "source": []
  },
  {
   "cell_type": "markdown",
   "metadata": {},
   "source": [
    "John Snow chose to examine the two major outbreaks (1849 and 1854) see if there were differences in how each affected the south districts.\n",
    "\n",
    "The code below will allow you to calculate the death rate for certain water companies for each of the two outbreaks (1849 and 1854). The way the code is written, it will show you the average death rate per 1000 for people that got their water from Southwark & Vauxhall during the 1849 outbreak. \n",
    "\n",
    "**Use the following code to calculate the average mortality associated with the water companies for both the 1849 and 1854 outbreaks.** "
   ]
  },
  {
   "cell_type": "code",
   "execution_count": null,
   "metadata": {},
   "outputs": [],
   "source": [
    "Grand_Exp[(Grand_Exp['water_supplier'] == 'SouthwarkVauxhall')]['death_rate1849'].mean()"
   ]
  },
  {
   "cell_type": "code",
   "execution_count": null,
   "metadata": {},
   "outputs": [],
   "source": []
  },
  {
   "cell_type": "code",
   "execution_count": null,
   "metadata": {},
   "outputs": [],
   "source": []
  },
  {
   "cell_type": "code",
   "execution_count": null,
   "metadata": {},
   "outputs": [],
   "source": []
  },
  {
   "cell_type": "code",
   "execution_count": null,
   "metadata": {},
   "outputs": [],
   "source": []
  },
  {
   "cell_type": "code",
   "execution_count": null,
   "metadata": {},
   "outputs": [],
   "source": []
  },
  {
   "cell_type": "markdown",
   "metadata": {},
   "source": [
    "Something had happened between 1849 and 1854. Lambeth had moved its water supply farther upstream on the Thames. Southwark & Vauxhall had not moved their water supply. What do your results suggest?"
   ]
  },
  {
   "cell_type": "markdown",
   "metadata": {},
   "source": [
    "<img src = \"https://upload.wikimedia.org/wikipedia/commons/thumb/a/a3/South_London_Map_1800.jpg/640px-South_London_Map_1800.jpg\" width = 500>"
   ]
  },
  {
   "cell_type": "markdown",
   "metadata": {},
   "source": [
    "John Snow chose to focus his investigation on certain subdistricts in South London.\n",
    "\n",
    "**Choose which sub-districts you want to study by filtering them out by water supplier. The choice is yours, but it's a very important decision.** "
   ]
  },
  {
   "cell_type": "code",
   "execution_count": null,
   "metadata": {},
   "outputs": [],
   "source": [
    "subdist = Grand_Exp[(Grand_Exp['water_supplier'] == 'insert_water_supplier')]\n",
    "subdist"
   ]
  },
  {
   "cell_type": "markdown",
   "metadata": {},
   "source": [
    "**Is there a correlation between water supplier and mortality rate?** "
   ]
  },
  {
   "cell_type": "markdown",
   "metadata": {},
   "source": [
    "Let's look at 1849 first. The code below will show you if there is a correlation between getting your water from Lambeth and cholera in 1849. "
   ]
  },
  {
   "cell_type": "code",
   "execution_count": null,
   "metadata": {},
   "outputs": [],
   "source": [
    "x = subdist['percent_lambeth']\n",
    "a = subdist['death_rate1849']\n",
    "\n",
    "\n",
    "plt.scatter(x, a, color='red')\n",
    "plt.xlim(right = 1)\n",
    "plt.ylim(bottom = 0)\n",
    "\n",
    "\n",
    "m, b = np.polyfit(x, a, 1)\n",
    "plt.plot(x, m*x + b)\n",
    "\n",
    "plt.xlabel('Percent Lambeth')\n",
    "plt.ylabel('Death Rate (per 1000)')\n"
   ]
  },
  {
   "cell_type": "markdown",
   "metadata": {},
   "source": [
    "**Reuse and modify the code above** to see if there is a correlation between getting your water from Southwark & Vauxhall and cholera in 1849."
   ]
  },
  {
   "cell_type": "code",
   "execution_count": null,
   "metadata": {},
   "outputs": [],
   "source": []
  },
  {
   "cell_type": "code",
   "execution_count": null,
   "metadata": {},
   "outputs": [],
   "source": []
  },
  {
   "cell_type": "markdown",
   "metadata": {},
   "source": [
    "**Now do the same** for 1854 for each water company."
   ]
  },
  {
   "cell_type": "code",
   "execution_count": null,
   "metadata": {},
   "outputs": [],
   "source": []
  },
  {
   "cell_type": "code",
   "execution_count": null,
   "metadata": {},
   "outputs": [],
   "source": []
  },
  {
   "cell_type": "markdown",
   "metadata": {},
   "source": [
    "### Reflect: What is the conclusion of your Grand Experiment? Can you present irrefutable evidence? "
   ]
  }
 ],
 "metadata": {
  "kernelspec": {
   "display_name": "Python 3",
   "language": "python",
   "name": "python3"
  },
  "language_info": {
   "codemirror_mode": {
    "name": "ipython",
    "version": 3
   },
   "file_extension": ".py",
   "mimetype": "text/x-python",
   "name": "python",
   "nbconvert_exporter": "python",
   "pygments_lexer": "ipython3",
   "version": "3.8.5"
  }
 },
 "nbformat": 4,
 "nbformat_minor": 4
}
