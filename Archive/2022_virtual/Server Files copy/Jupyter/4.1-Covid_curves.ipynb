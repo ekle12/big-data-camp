{
 "cells": [
  {
   "cell_type": "markdown",
   "metadata": {
    "jp-MarkdownHeadingCollapsed": true,
    "tags": []
   },
   "source": [
    "# Exploring Covid-19 \n",
    "\n",
    "<img src = '../images/flatten_curve.gif' width = 600>"
   ]
  },
  {
   "cell_type": "code",
   "execution_count": null,
   "metadata": {},
   "outputs": [],
   "source": [
    "import pandas as pd\n",
    "import numpy as np\n",
    "import matplotlib.pyplot as plt\n",
    "\n",
    "from pandas.plotting import register_matplotlib_converters\n",
    "register_matplotlib_converters()"
   ]
  },
  {
   "cell_type": "markdown",
   "metadata": {
    "jp-MarkdownHeadingCollapsed": true,
    "tags": []
   },
   "source": [
    "### Read in the Data"
   ]
  },
  {
   "cell_type": "code",
   "execution_count": null,
   "metadata": {},
   "outputs": [],
   "source": [
    "total_data = pd.read_csv('../data/covid_confirmed_and_deaths_US_by_state_total_2021.csv')\n",
    "daily_data = pd.read_csv('../data/covid_confirmed_and_deaths_US_by_state_daily_2021.csv')"
   ]
  },
  {
   "cell_type": "code",
   "execution_count": null,
   "metadata": {},
   "outputs": [],
   "source": [
    "total_data"
   ]
  },
  {
   "cell_type": "markdown",
   "metadata": {
    "jp-MarkdownHeadingCollapsed": true,
    "tags": []
   },
   "source": [
    "### Set the Index"
   ]
  },
  {
   "cell_type": "code",
   "execution_count": null,
   "metadata": {},
   "outputs": [],
   "source": [
    "total_data['timestamp'] = pd.to_datetime(total_data['Date'])\n",
    "daily_data['timestamp'] = pd.to_datetime(total_data['Date'])"
   ]
  },
  {
   "cell_type": "code",
   "execution_count": null,
   "metadata": {},
   "outputs": [],
   "source": [
    "total_data.head()"
   ]
  },
  {
   "cell_type": "code",
   "execution_count": null,
   "metadata": {},
   "outputs": [],
   "source": [
    "total_data.index = total_data['timestamp']\n",
    "total_data = total_data.drop(columns='timestamp')\n",
    "total_data = total_data.drop(columns='Date')\n",
    "\n",
    "daily_data.index = daily_data['timestamp']\n",
    "daily_data = daily_data.drop(columns='timestamp')\n",
    "daily_data = daily_data.drop(columns='Date')\n"
   ]
  },
  {
   "cell_type": "code",
   "execution_count": null,
   "metadata": {},
   "outputs": [],
   "source": [
    "total_data.head()\n",
    "daily_data.head()"
   ]
  },
  {
   "cell_type": "markdown",
   "metadata": {
    "jp-MarkdownHeadingCollapsed": true,
    "tags": []
   },
   "source": [
    "### Filter"
   ]
  },
  {
   "cell_type": "code",
   "execution_count": null,
   "metadata": {},
   "outputs": [],
   "source": [
    "il_total_deaths = total_data[total_data['State'] == \"Illinois\"]\n",
    "il_total_deaths"
   ]
  },
  {
   "cell_type": "code",
   "execution_count": null,
   "metadata": {},
   "outputs": [],
   "source": [
    "il_daily_deaths = daily_data[(daily_data['State'] == \"Illinois\")]\n",
    "il_daily_deaths"
   ]
  },
  {
   "cell_type": "markdown",
   "metadata": {
    "jp-MarkdownHeadingCollapsed": true,
    "tags": []
   },
   "source": [
    "### Plot"
   ]
  },
  {
   "cell_type": "code",
   "execution_count": null,
   "metadata": {},
   "outputs": [],
   "source": [
    "plt.plot(il_daily_deaths.index, il_daily_deaths['Confirmed'], label=\"Illinois\")\n",
    "\n",
    "plt.legend()\n",
    "\n",
    "plt.title(\"Daily Covid-19 Confirmed Cases\", fontsize=20)\n",
    "\n",
    "plt.xlabel(\"Date\", fontsize=14)\n",
    "plt.ylabel(\"Number of Cases\", fontsize=14);\n",
    "\n",
    "fig = plt.gcf()\n",
    "fig.set_size_inches(15, 5) "
   ]
  },
  {
   "cell_type": "markdown",
   "metadata": {
    "jp-MarkdownHeadingCollapsed": true,
    "tags": []
   },
   "source": [
    "### Rolling 7-day Average"
   ]
  },
  {
   "cell_type": "code",
   "execution_count": null,
   "metadata": {},
   "outputs": [],
   "source": [
    "plt.plot(il_daily_deaths.index, il_daily_deaths['Confirmed'], label=\"Illinois\")\n",
    "\n",
    "plt.plot(il_daily_deaths['Confirmed'].rolling(7).mean())\n",
    "\n",
    "\n",
    "plt.legend()\n",
    "\n",
    "plt.title(\"Daily Covid-19 Confirmed Cases\", fontsize=20)\n",
    "\n",
    "plt.xlabel(\"Date\", fontsize=14)\n",
    "plt.ylabel(\"Number of Cases\", fontsize=14);\n",
    "\n",
    "fig = plt.gcf()\n",
    "fig.set_size_inches(15, 5) "
   ]
  },
  {
   "cell_type": "markdown",
   "metadata": {
    "jp-MarkdownHeadingCollapsed": true,
    "tags": []
   },
   "source": [
    "### Compare Illinois to Another State  "
   ]
  },
  {
   "cell_type": "code",
   "execution_count": null,
   "metadata": {},
   "outputs": [],
   "source": [
    "# Use a variable for the other state's name, \n",
    "# so we can easily change it out later to compare different states.\n",
    "\n",
    "state2 = \"New York\"\n",
    "state2_daily_deaths = daily_data[daily_data['State'] == state2]"
   ]
  },
  {
   "cell_type": "markdown",
   "metadata": {
    "jp-MarkdownHeadingCollapsed": true,
    "tags": []
   },
   "source": [
    "### Multiple Plots"
   ]
  },
  {
   "cell_type": "code",
   "execution_count": null,
   "metadata": {},
   "outputs": [],
   "source": [
    "plt.plot(il_daily_deaths.index, il_daily_deaths['Confirmed'], label=\"Illinois\")\n",
    "\n",
    "window_size = 7\n",
    "\n",
    "plt.plot(il_daily_deaths['Confirmed'].rolling(window_size).mean())\n",
    "\n",
    "# add state2\n",
    "plt.plot(state2_daily_deaths.index, state2_daily_deaths['Confirmed'], label=state2)\n",
    "\n",
    "# add a label and plot for rolling mean for state2\n",
    "plt.plot(state2_daily_deaths['Confirmed'].rolling(window_size).mean())\n",
    "\n",
    "\n",
    "plt.legend()\n",
    "\n",
    "plt.title(\"Daily Covid-19 Confirmed Cases\", fontsize=20)\n",
    "\n",
    "plt.xlabel(\"Date\", fontsize=14)\n",
    "plt.ylabel(\"Number of Cases\", fontsize=14);\n",
    "\n",
    "fig = plt.gcf()\n",
    "fig.set_size_inches(15, 5) "
   ]
  },
  {
   "cell_type": "markdown",
   "metadata": {
    "jp-MarkdownHeadingCollapsed": true,
    "tags": []
   },
   "source": [
    "### Plotting Deaths"
   ]
  },
  {
   "cell_type": "code",
   "execution_count": null,
   "metadata": {},
   "outputs": [],
   "source": [
    "plt.plot(il_daily_deaths.index, il_daily_deaths['Deaths'], label=\"Illinois\")\n",
    "\n",
    "window_size = 7\n",
    "\n",
    "plt.plot(il_daily_deaths['Deaths'].rolling(window_size).mean())\n",
    "\n",
    "# add state2\n",
    "plt.plot(state2_daily_deaths.index, state2_daily_deaths['Deaths'], label=state2)\n",
    "\n",
    "# add a label and plot for rolling mean for state2\n",
    "plt.plot(state2_daily_deaths['Deaths'].rolling(window_size).mean())\n",
    "\n",
    "\n",
    "plt.legend()\n",
    "\n",
    "plt.title(\"Daily Covid-19 Deaths\", fontsize=20)\n",
    "\n",
    "plt.xlabel(\"Date\", fontsize=14)\n",
    "plt.ylabel(\"Number of Deaths\", fontsize=14);\n",
    "\n",
    "fig = plt.gcf()\n",
    "fig.set_size_inches(15, 5) "
   ]
  },
  {
   "cell_type": "code",
   "execution_count": null,
   "metadata": {},
   "outputs": [],
   "source": []
  }
 ],
 "metadata": {
  "kernelspec": {
   "display_name": "Python 3 (ipykernel)",
   "language": "python",
   "name": "python3"
  },
  "language_info": {
   "codemirror_mode": {
    "name": "ipython",
    "version": 3
   },
   "file_extension": ".py",
   "mimetype": "text/x-python",
   "name": "python",
   "nbconvert_exporter": "python",
   "pygments_lexer": "ipython3",
   "version": "3.9.7"
  }
 },
 "nbformat": 4,
 "nbformat_minor": 4
}
