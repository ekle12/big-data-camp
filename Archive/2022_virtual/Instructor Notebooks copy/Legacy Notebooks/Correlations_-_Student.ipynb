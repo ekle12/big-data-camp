{
 "cells": [
  {
   "cell_type": "markdown",
   "metadata": {},
   "source": [
    "# Lake Effect\n",
    "\n",
    "We have heard of \"lake effect\", normally when it comes to snow, but Lake Michigan affects the weather around Chicago in many ways.\n",
    "\n",
    "__How does the lake affect temperatures in the city?__ \n",
    "\n",
    "You have access to 3 data sets:\n",
    "1. A list of all of the nodes: `nodes.csv`\n",
    "2. A snapshot of temperature readings for July 18, 2019 at about 3pm: `July18_2019.csv`\n",
    "3. A series of latitude and longitude reference points for the lakeshore: `Chicago_Lakefront.csv`\n"
   ]
  },
  {
   "cell_type": "code",
   "execution_count": null,
   "metadata": {},
   "outputs": [],
   "source": []
  },
  {
   "cell_type": "code",
   "execution_count": null,
   "metadata": {},
   "outputs": [],
   "source": []
  },
  {
   "cell_type": "markdown",
   "metadata": {},
   "source": [
    "#### Calculate the closest distance between each node and the lake.\n"
   ]
  },
  {
   "cell_type": "code",
   "execution_count": null,
   "metadata": {},
   "outputs": [],
   "source": []
  },
  {
   "cell_type": "code",
   "execution_count": null,
   "metadata": {},
   "outputs": [],
   "source": []
  },
  {
   "cell_type": "code",
   "execution_count": null,
   "metadata": {},
   "outputs": [],
   "source": [
    "for i in range (len(nodes)):\n",
    "    node_lon = abs(nodes['lon'].iloc[i])\n",
    "    node_lat = abs(nodes['lat'].iloc[i])\n",
    "    for j in range (len(shoreline)):\n",
    "        lon_diff = node_lon - abs(shoreline['Longitude'].iloc[j])\n",
    "        lat_diff = node_lat - abs(shoreline['Latitude'].iloc[j])\n",
    "        distance_to_lake = np.sqrt(lon_diff ** 2 + lat_diff ** 2)\n",
    "        shoreline['distance'].iloc[j] = distance_to_lake \n",
    "    distance = shoreline['distance'].min()\n",
    "    nodes['lake_distance'].iloc[i] = distance"
   ]
  },
  {
   "cell_type": "code",
   "execution_count": null,
   "metadata": {},
   "outputs": [],
   "source": []
  },
  {
   "cell_type": "code",
   "execution_count": null,
   "metadata": {},
   "outputs": [],
   "source": []
  },
  {
   "cell_type": "markdown",
   "metadata": {},
   "source": [
    "#### Import `July18_2019.csv` which contains the nodes and their corresponding temperature values for the same time."
   ]
  },
  {
   "cell_type": "code",
   "execution_count": null,
   "metadata": {},
   "outputs": [],
   "source": []
  },
  {
   "cell_type": "code",
   "execution_count": null,
   "metadata": {},
   "outputs": [],
   "source": []
  },
  {
   "cell_type": "markdown",
   "metadata": {},
   "source": [
    "## Scatter (XY) Plot\n",
    "\n",
    "Is there a correlation between the distance from the lake and the temperature? The quickest way to visualize this is through a scatter plot."
   ]
  },
  {
   "cell_type": "code",
   "execution_count": null,
   "metadata": {},
   "outputs": [],
   "source": []
  },
  {
   "cell_type": "code",
   "execution_count": null,
   "metadata": {},
   "outputs": [],
   "source": []
  }
 ],
 "metadata": {
  "kernelspec": {
   "display_name": "Python 3",
   "language": "python",
   "name": "python3"
  },
  "language_info": {
   "codemirror_mode": {
    "name": "ipython",
    "version": 3
   },
   "file_extension": ".py",
   "mimetype": "text/x-python",
   "name": "python",
   "nbconvert_exporter": "python",
   "pygments_lexer": "ipython3",
   "version": "3.8.5"
  }
 },
 "nbformat": 4,
 "nbformat_minor": 4
}
