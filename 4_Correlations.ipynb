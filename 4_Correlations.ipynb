{
 "cells": [
  {
   "cell_type": "markdown",
   "id": "a517f98c-40a9-44d4-b923-343e148e79ec",
   "metadata": {},
   "source": [
    "# The Sweet Science of Success: A Nobel Mystery!\n",
    "\n",
    "There is a theory floating around that there is a link between eating chococolate and intelligence. In fact, it has been suggested that Nobel Prize winners tend to come from countries that eat a lot of chocolate. Could indulging in chocolate boost intelligence? Or perhaps, does groundbreaking scientific discovery lead to a craving for cocoa?\n",
    "\n",
    "<img src = 'https://github.com/jdomyancich/big-data-camp/blob/main/imgs/einstein.png?raw=true' width = 300>\n",
    "* AI-generated image"
   ]
  },
  {
   "cell_type": "markdown",
   "id": "8a4335d9-ed45-4b44-8b3b-3f4c9e05c69a",
   "metadata": {},
   "source": [
    "First, we need to import the libraries essential for our investigation: `pandas` for data handling and `matplotlib` for visualizations. We will also be using another visualization library, `seaborn`."
   ]
  },
  {
   "cell_type": "code",
   "execution_count": null,
   "id": "df7fc60e",
   "metadata": {},
   "outputs": [],
   "source": [
    "import pandas as pd\n",
    "import matplotlib.pyplot as plt\n",
    "#YOUR CODE HERE"
   ]
  },
  {
   "cell_type": "markdown",
   "id": "a65749d6",
   "metadata": {},
   "source": [
    "## The Data\n",
    "\n",
    "Our dataset contains combined data on countries' populations, chocolate consumption, and Nobel Laureate counts."
   ]
  },
  {
   "cell_type": "code",
   "execution_count": null,
   "id": "7d4eb0fa",
   "metadata": {},
   "outputs": [],
   "source": [
    "# Load the data from the .csv file and view the first few lines\n",
    "chocolate = pd.read_csv('https://raw.githubusercontent.com/jdomyancich/big-data-camp/refs/heads/main/data/nobel-chocolate.csv')\n",
    "chocolate.head()"
   ]
  },
  {
   "cell_type": "markdown",
   "id": "ce0fddd1",
   "metadata": {},
   "source": [
    "### A First Look at the Data\n",
    "\n",
    "As we have seen before, getting a good feel for the data, its structure and some summary statistics is a good first step. "
   ]
  },
  {
   "cell_type": "code",
   "execution_count": null,
   "id": "0c1f8b4d-27bf-4bca-b9b5-a9f915ca93ea",
   "metadata": {},
   "outputs": [],
   "source": [
    "# Get technical info on the data and the types\n",
    "chocolate.info()"
   ]
  },
  {
   "cell_type": "code",
   "execution_count": null,
   "id": "957c2b40-ee22-4b9b-8dc6-bebfa5f9e223",
   "metadata": {},
   "outputs": [],
   "source": [
    "# Get summary statistics of the numerical data\n",
    "chocolate.describe()"
   ]
  },
  {
   "cell_type": "markdown",
   "id": "b9e91844-6b53-4156-94c8-e6f30ca28acf",
   "metadata": {},
   "source": [
    "### The Importance of Normalization: Making Comparisons Fair\n",
    "\n",
    "A country with a very large population will naturally have more Nobel laureates, simply because there are more people. This makes it difficult to tell if the relationship is truly about chocolate or Nobel-winning potential, or just about the sheer number of people.\n",
    "\n",
    "This is where **normalization** comes in. Normalization is the process of scaling data to allow for fair comparisons between different entities, by accounting for underlying differences (like population size).\n",
    "\n",
    "To make a more meaningful comparison, we will normalize the number of Nobel laureates by the country's population. This will give us a new metric: \"Nobel Laureates per 10 Million People\". This allows us to compare the \"Nobel efficiency\" of countries regardless of their size, giving us a clearer picture of the true relationship with chocolate:\n",
    "\n",
    "$$\\text{Nobel Laureates per 10 Million} = \\left( \\frac{\\text{Number of Nobel Laureates}}{\\text{Population}} \\right) \\times 10,000,000$$"
   ]
  },
  {
   "cell_type": "code",
   "execution_count": null,
   "id": "2f6daf5f-5916-45fa-af0f-cf11a5bd9138",
   "metadata": {},
   "outputs": [],
   "source": [
    "# Add a new column with the normalized data\n",
    "# YOUR CODE HERE\n",
    "chocolate.head()"
   ]
  },
  {
   "cell_type": "markdown",
   "id": "267d3ad1-1d7c-4b54-920d-6d7c17e4bb8a",
   "metadata": {},
   "source": [
    "## Creating a Scatter Plot\n",
    "\n",
    "Now for the moment of truth! We will use `seaborn` to create a scatter plot. Each point on the plot represents a country, with its X-coordinate being its chocolate consumption per person and its Y-coordinate being its Nobel laureates per 10 million people."
   ]
  },
  {
   "cell_type": "markdown",
   "id": "83baf22d-eec5-40b1-ad4f-6f5628b7166f",
   "metadata": {},
   "source": [
    "### Why use Seaborn for Plotting?\n",
    "\n",
    "You've already gained experience with `matplotlib.pyplot` for creating plots, which is a powerful and foundational Python plotting library. Now, we're introducing `seaborn`, which is another excellent library for data visualization. You might wonder, why use two different libraries for plotting?\n",
    "\n",
    "Here's why `seaborn` is particularly useful, especially for exploring relationships in data and creating clear scientific visualizations.\n",
    "\n",
    "1.  **Less Code**: Seaborn provides a higher-level interface than Matplotlib. This means you can often create complex and statistically-rich plots with fewer lines of code. \n",
    "\n",
    "2.  **Integrated with Pandas DataFrames**: Seaborn is designed to work seamlessly with pandas DataFrames.\n",
    "\n",
    "3.  **Complementary to Matplotlib**: Seaborn is built on top of Matplotlib. This means your knowledge of Matplotlib is still very valuable! You can use Seaborn for the high-level plotting and then use Matplotlib functions (`plt.title()`, `plt.xlabel()`, `plt.legend()`, `plt.show()`, etc.) to further customize and refine your plots. They work together hand-in-hand.\n",
    "\n",
    "4.  **Aesthetics and Professional Appearance**: Seaborn comes with built-in themes and color palettes that produce aesthetically pleasing and professional-looking plots by default."
   ]
  },
  {
   "cell_type": "code",
   "execution_count": null,
   "id": "6f8060be",
   "metadata": {},
   "outputs": [],
   "source": [
    "plt.figure(figsize=(12, 8))\n",
    "# YOUR CODE HERE\n",
    "\n",
    "plt.title('Chocolate Consumption vs. Nobel Laureates by Country', fontsize=16)\n",
    "plt.xlabel('Chocolate Consumption (kg per person)', fontsize=12)\n",
    "plt.ylabel('Nobel Laureates per 10M', fontsize=12)\n",
    "plt.grid(True)\n",
    "plt.show()"
   ]
  },
  {
   "cell_type": "markdown",
   "id": "9dc4212e-ac12-40f8-91c6-f77fcc7f2c66",
   "metadata": {},
   "source": [
    "### Getting More Control Over Your Plots\n",
    "\n",
    "In the previous cell, we created a basic scatter plot with seaborn. Now let's learn about an important concept that will give you much more control over your plots: the **axes object**, commonly stored in a variable called `ax`."
   ]
  },
  {
   "cell_type": "code",
   "execution_count": null,
   "id": "42fe651a-7c57-4c4e-a708-85ad9001f2d8",
   "metadata": {},
   "outputs": [],
   "source": [
    "# Seaborn creates the plot AND returns the axes object\n",
    "# YOUR CODE HERE"
   ]
  },
  {
   "cell_type": "markdown",
   "id": "c00ea070-41f8-4b81-938f-a4b89e943091",
   "metadata": {},
   "source": [
    "#### 1. Add Annotations and Labels"
   ]
  },
  {
   "cell_type": "code",
   "execution_count": null,
   "id": "10da6f8d-29ca-442e-a0a0-335c4473c82d",
   "metadata": {},
   "outputs": [],
   "source": [
    "ax = sns.scatterplot(data=chocolate, x='chocolate_kg_person', y='nobels_per_10M')\n",
    "\n",
    "# Use ax to add annotations to that specific plot\n",
    "# YOUR CODE HERE"
   ]
  },
  {
   "cell_type": "markdown",
   "id": "4440ba75-333a-42a8-bc7a-f3ace5eaeac0",
   "metadata": {},
   "source": [
    "#### 2. Customize Axes Labels"
   ]
  },
  {
   "cell_type": "code",
   "execution_count": null,
   "id": "cefb0f7b-e12d-4f3d-9974-f62ad239a3ef",
   "metadata": {},
   "outputs": [],
   "source": [
    "ax = sns.scatterplot(data=chocolate, x='chocolate_kg_person', y='nobels_per_10M')\n",
    "ax.annotate('Switzerland', (8.8, 31.9))\n",
    "\n",
    "# Customize axis labels with more options\n",
    "# YOUR CODE HERE"
   ]
  },
  {
   "cell_type": "markdown",
   "id": "c9d8395a-e127-458c-a56e-836a7cf5a8d8",
   "metadata": {},
   "source": [
    "#### 3. Adding Grid Lines"
   ]
  },
  {
   "cell_type": "code",
   "execution_count": null,
   "id": "4dfd20a6-7542-403e-9d0a-831e23207e86",
   "metadata": {},
   "outputs": [],
   "source": [
    "ax = sns.scatterplot(data=chocolate, x='chocolate_kg_person', y='nobels_per_10M')\n",
    "ax.annotate('Switzerland', (8.8, 31.9))\n",
    "ax.set_xlabel('Chocolate Consumption (kg per person per year)', fontsize=12, fontweight='bold')\n",
    "ax.set_ylabel('Nobel Prizes per 10M Population', fontsize=12, fontweight='bold')\n",
    "\n",
    "# Add a custom grid\n",
    "# YOUR CODE HERE"
   ]
  },
  {
   "cell_type": "markdown",
   "id": "65dc60e8-f4e7-46ae-ad35-a914ae0256f9",
   "metadata": {},
   "source": [
    "#### 4. Set Axes Limits"
   ]
  },
  {
   "cell_type": "code",
   "execution_count": null,
   "id": "f3b8327b-3843-4d6e-a110-3a75d7873f75",
   "metadata": {},
   "outputs": [],
   "source": [
    "ax = sns.scatterplot(data=chocolate, x='chocolate_kg_person', y='nobels_per_10M')\n",
    "ax.annotate('Switzerland', (8.8, 31.9))\n",
    "ax.set_xlabel('Chocolate Consumption (kg per person per year)', fontsize=12, fontweight='bold')\n",
    "ax.set_ylabel('Nobel Prizes per 10M Population', fontsize=12, fontweight='bold')\n",
    "ax.grid(True, alpha=0.5, linestyle= '--')\n",
    "\n",
    "# Set axis limits\n",
    "# YOUR CODE HERE"
   ]
  },
  {
   "cell_type": "markdown",
   "id": "3425cf37-2f09-4a30-9182-cb280d48cae0",
   "metadata": {},
   "source": [
    "#### Selective Labeling with Annotations\n",
    "\n",
    "When creating scatter plots with many data points, labeling every single point can make your plot cluttered and hard to read. Instead, we can selectively label only the most interesting or important points. Let's break down how this code works step by step."
   ]
  },
  {
   "cell_type": "markdown",
   "id": "7958d751-54d8-43e3-83b9-f581ae98cfc6",
   "metadata": {},
   "source": [
    "1. **Choose which countries to label**:\n",
    "   This creates a list of countries we want to highlight. We chose these because they represent:\n",
    "\n",
    "- Extreme values: Switzerland (highest in both), China (low in both)\n",
    "- Major countries: United States, Germany, Japan\n",
    "- Interesting cases: Countries that help tell the story"
   ]
  },
  {
   "cell_type": "code",
   "execution_count": null,
   "id": "42f85eb3-767d-4ab1-b2a4-c81785d52ad8",
   "metadata": {},
   "outputs": [],
   "source": [
    "notable_countries = ['Switzerland', 'Sweden', 'Norway', 'Germany', 'United States', \n",
    "                    'China', 'Japan', 'Brazil']"
   ]
  },
  {
   "cell_type": "markdown",
   "id": "db50f353-b161-468f-9c49-14c3c2f0fd11",
   "metadata": {},
   "source": [
    "2. **Loop through all countries**: check if they're in our notable list, and if so, add a label at their data point position"
   ]
  },
  {
   "cell_type": "code",
   "execution_count": null,
   "id": "254bfeb1-03fd-4c07-847b-be282e3771eb",
   "metadata": {},
   "outputs": [],
   "source": [
    "ax = sns.scatterplot(data=chocolate, x='chocolate_kg_person', y='nobels_per_10M')\n",
    "ax.set_xlabel('Chocolate Consumption (kg per person per year)', fontsize=12, fontweight='bold')\n",
    "ax.set_ylabel('Nobel Prizes per 10M Population', fontsize=12, fontweight='bold')\n",
    "ax.grid(True, alpha=0.5, linestyle= '--')\n",
    "ax.set_xlim(0, 10)\n",
    "ax.set_ylim(0, 35)\n",
    "\n",
    "for i, country in enumerate(chocolate['country']):\n",
    "    if country in notable_countries:\n",
    "        ax.annotate(country, \n",
    "                   (chocolate['chocolate_kg_person'].iloc[i], chocolate['nobels_per_10M'].iloc[i]))"
   ]
  },
  {
   "cell_type": "markdown",
   "id": "a5b207fa",
   "metadata": {},
   "source": [
    "## Quantifying the Connection: Correlation Coefficient\n",
    "\n",
    "Visualizing the data is great, but to quantify the strength and direction of the linear relationship, we calculate the **Pearson Correlation Coefficient**. This value ranges from -1 to +1:\n",
    "* `+1`: Perfect positive linear correlation (as one variable increases, the other increases proportionally).\n",
    "* `-1`: Perfect negative linear correlation (as one variable increases, the other decreases proportionally).\n",
    "* `0`: No linear correlation.\n"
   ]
  },
  {
   "cell_type": "code",
   "execution_count": null,
   "id": "58b38608",
   "metadata": {},
   "outputs": [],
   "source": [
    "# YOUR CODE HERE\n",
    "print(f\"Pearson Correlation Coefficient between Chocolate Consumption and Nobel Laureates is: {correlation:.2f}\")"
   ]
  },
  {
   "cell_type": "markdown",
   "id": "53f3a884-4ad1-4cf3-9eca-f8c0826f95a1",
   "metadata": {},
   "source": [
    "### The Original Research\n",
    "\n",
    "In 2012, Dr. Franz Messerli published a study in the prestigious New England Journal of Medicine titled \"Chocolate Consumption, Cognitive Function, and Nobel Laureates.\" You've successfully uncovered a fascinating pattern, just like the researchers in 2012! The scatter plot likely shows a clear relationship, and the correlation coefficient probably indicates a strong connection.\n",
    "\n",
    "But here's the crucial question: **Does this mean that eating more chocolate *causes* a country to produce more Nobel laureates, or that winning Nobel Prizes somehow *leads* to more chocolate consumption?**"
   ]
  },
  {
   "cell_type": "markdown",
   "id": "a282ecac-f4d0-4395-b9d4-e2ff82b90410",
   "metadata": {
    "jp-MarkdownHeadingCollapsed": true
   },
   "source": [
    "### Spoiler Alert (Do not view!)"
   ]
  },
  {
   "cell_type": "markdown",
   "id": "e3406edc-ca6f-4a31-980d-3353f4ef9cc5",
   "metadata": {},
   "source": [
    "Dr. Messerli's paper wasn't your typical medical research, it was a deliberate exploration of spurious correlation that became famous worldwide.\n",
    "\n",
    "As the original study highlighted, a strong correlation between two seemingly unrelated variables often points to a **confounding variable (or \"sneaky third variable\")** that influences both.\n",
    "\n",
    "In the case of chocolate consumption and Nobel Prize winners by country, what do you think that \"sneaky third variable\" might be? Consider what characteristics high-ranking countries (like Switzerland, Sweden, or the USA) tend to share, and what might be less common in lower-ranking countries.\n",
    "\n",
    "The most likely confounding variable is **national wealth and development**.\n",
    "* **Wealthy countries** can afford higher per capita consumption of luxury goods like chocolate.\n",
    "* **Wealthy countries** also tend to:\n",
    "    * Better-funded universities and research institutions.\n",
    "    * Stronger educational systems.\n",
    "    * More investment in science, technology, and arts.\n",
    "    * Stable environments that foster long-term research and innovation.\n",
    "\n",
    "Switzerland, a wealthy nation, consistently ranks high in both chocolate consumption and Nobel laureates. Many developing nations, with lower wealth, rank low on both measures. The chocolate doesn't cause the Nobel Prizes; rather, a nation's overall prosperity facilitates both.\n",
    "\n",
    "**Key Takeaway:** This data mystery perfectly illustrates the most important lesson in statistics and data science: **Correlation does not imply causation!** Just because two things move together doesn't mean one causes the other. Always look for a plausible mechanism, consider other influencing factors (especially \"sneaky third variables\"), and question your assumptions!"
   ]
  },
  {
   "cell_type": "markdown",
   "id": "7cd37219-d837-4956-ac56-825dc81561ff",
   "metadata": {},
   "source": [
    "#### Explore Further!\n",
    "\n",
    "* To strengthen the \"national wealth\" argument, what other data could you try to find and plot?\n",
    "* Can you think of other absurd or humorous \"spurious correlations\" that might exist in the world, and what their confounding variables might be?"
   ]
  },
  {
   "cell_type": "code",
   "execution_count": null,
   "id": "ae5d5f6e-787f-495b-872b-b9cb019fa7cd",
   "metadata": {},
   "outputs": [],
   "source": []
  }
 ],
 "metadata": {
  "kernelspec": {
   "display_name": "Python 3 (ipykernel)",
   "language": "python",
   "name": "python3"
  },
  "language_info": {
   "codemirror_mode": {
    "name": "ipython",
    "version": 3
   },
   "file_extension": ".py",
   "mimetype": "text/x-python",
   "name": "python",
   "nbconvert_exporter": "python",
   "pygments_lexer": "ipython3",
   "version": "3.9.12"
  }
 },
 "nbformat": 4,
 "nbformat_minor": 5
}
