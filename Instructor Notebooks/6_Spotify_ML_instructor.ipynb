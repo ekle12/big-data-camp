{
 "cells": [
  {
   "cell_type": "markdown",
   "id": "4e2a1a4e-2cac-472e-bad0-f7ddab43853f",
   "metadata": {},
   "source": [
    "# Machine Learning with Spotify\n",
    "\n",
    "<img src = 'https://upload.wikimedia.org/wikipedia/commons/thumb/1/1b/Silhouette_of_bare_tree_branches_under_twilight_sky.jpg/640px-Silhouette_of_bare_tree_branches_under_twilight_sky.jpg' width = 600>\n"
   ]
  },
  {
   "cell_type": "markdown",
   "id": "2167386c-1e0b-4856-82cc-2b70d1866ac1",
   "metadata": {},
   "source": [
    "Spotify has data on million of songs. It assigns certain atributes to each in order to describe the music. In manhine learning, we can use these attributes (known as **features**) to train the model. Here are a few:\n",
    "\n",
    "- **Mode**: 1=major, 0=minor\n",
    "- **Tempo**: beats per minute\n",
    "- **Duration**: length of somg (in milliseconds)\n",
    "- **Time signature**: 4=4/4, 3=3/4\n",
    "\n",
    "- **Acousticness**: confidence measure from 0.0 to 1.0 of whether the track is acoustic. 1.0 represents high confidence the track is acoustic.\n",
    "- **Danceability**: describes how suitable a track is for dancing based on a combination of musical elements including tempo, rhythm stability, beat strength, and overall regularity. A value of 0.0 is least danceable and 1.0 is most danceable.\n",
    "- **Energy**: Energy is a measure from 0.0 to 1.0 and represents a perceptual measure of intensity and activity. Typically, energetic tracks feel fast, loud, and noisy.\u000b",
    "\n",
    "- **Instrumentalness**: predicts whether a track contains no vocals.  Values above 0.5 are intended to represent instrumental tracks, but confidence is higher as the value approaches 1.0.\n",
    "- **Liveness**: detects the presence of an audience in the recording. Higher liveness values represent an increased probability that the track was performed live.\n",
    "- **Speechiness** detects the presence of spoken words in a track. The more exclusively speech-like the recording (e.g. talk show, audio book, poetry), the closer to 1.0 the attribute value.\n",
    "- **Valence**: measure from 0.0 to 1.0 describing the musical positiveness conveyed by a track. Tracks with high valence sound more positive (e.g. happy, cheerful, euphoric), while tracks with low valence sound more negative (e.g. sad, depressed, angry).\n",
    "\n",
    "    "
   ]
  },
  {
   "cell_type": "markdown",
   "id": "1eb9c3cb-3b19-437c-b13f-a40d892718ba",
   "metadata": {},
   "source": [
    "**Import Pandas**"
   ]
  },
  {
   "cell_type": "code",
   "execution_count": 1,
   "id": "695738cd-4067-4050-aaf1-af908918fbed",
   "metadata": {},
   "outputs": [],
   "source": [
    "import pandas as pd"
   ]
  },
  {
   "cell_type": "markdown",
   "id": "9a91c27e-bc99-4ebf-91fc-5ddfeb50b417",
   "metadata": {},
   "source": [
    "**Read in the Spotify dataset: `../data/spotify_all_genres_tracks.csv`**"
   ]
  },
  {
   "cell_type": "code",
   "execution_count": 2,
   "id": "a77e20e0-b71f-4a99-8a80-9f7c3b0e1463",
   "metadata": {},
   "outputs": [
    {
     "data": {
      "text/html": [
       "<div>\n",
       "<style scoped>\n",
       "    .dataframe tbody tr th:only-of-type {\n",
       "        vertical-align: middle;\n",
       "    }\n",
       "\n",
       "    .dataframe tbody tr th {\n",
       "        vertical-align: top;\n",
       "    }\n",
       "\n",
       "    .dataframe thead th {\n",
       "        text-align: right;\n",
       "    }\n",
       "</style>\n",
       "<table border=\"1\" class=\"dataframe\">\n",
       "  <thead>\n",
       "    <tr style=\"text-align: right;\">\n",
       "      <th></th>\n",
       "      <th>track_id</th>\n",
       "      <th>playlist_url</th>\n",
       "      <th>playlist_name</th>\n",
       "      <th>track_name</th>\n",
       "      <th>track_popularity</th>\n",
       "      <th>artist_name</th>\n",
       "      <th>album</th>\n",
       "      <th>album_cover</th>\n",
       "      <th>artist_genres</th>\n",
       "      <th>artist_popularity</th>\n",
       "      <th>...</th>\n",
       "      <th>mode</th>\n",
       "      <th>speechiness</th>\n",
       "      <th>acousticness</th>\n",
       "      <th>instrumentalness</th>\n",
       "      <th>liveness</th>\n",
       "      <th>valence</th>\n",
       "      <th>tempo</th>\n",
       "      <th>duration_ms</th>\n",
       "      <th>time_signature</th>\n",
       "      <th>genre</th>\n",
       "    </tr>\n",
       "  </thead>\n",
       "  <tbody>\n",
       "    <tr>\n",
       "      <th>0</th>\n",
       "      <td>4Gia17DzXBhYFbYiJj6SyW</td>\n",
       "      <td>https://open.spotify.com/playlist/7qACZGMjyo64...</td>\n",
       "      <td>The Sound of Blues</td>\n",
       "      <td>Working Man</td>\n",
       "      <td>51</td>\n",
       "      <td>Otis Rush</td>\n",
       "      <td>Mourning In The Morning</td>\n",
       "      <td>https://i.scdn.co/image/ab67616d0000b273fea221...</td>\n",
       "      <td>['blues', 'blues rock', 'chicago blues', 'elec...</td>\n",
       "      <td>41</td>\n",
       "      <td>...</td>\n",
       "      <td>1</td>\n",
       "      <td>0.0436</td>\n",
       "      <td>0.492</td>\n",
       "      <td>0.000418</td>\n",
       "      <td>0.204</td>\n",
       "      <td>0.841</td>\n",
       "      <td>103.355</td>\n",
       "      <td>147800</td>\n",
       "      <td>4</td>\n",
       "      <td>blues</td>\n",
       "    </tr>\n",
       "    <tr>\n",
       "      <th>1</th>\n",
       "      <td>1BjYNhg7JhVfQdxqEThBwn</td>\n",
       "      <td>https://open.spotify.com/playlist/7qACZGMjyo64...</td>\n",
       "      <td>The Sound of Blues</td>\n",
       "      <td>Long Way Home</td>\n",
       "      <td>38</td>\n",
       "      <td>Clarence \"Gatemouth\" Brown</td>\n",
       "      <td>Long Way Home</td>\n",
       "      <td>https://i.scdn.co/image/ab67616d0000b2730e1f13...</td>\n",
       "      <td>['blues', 'blues rock', 'memphis blues', 'mode...</td>\n",
       "      <td>33</td>\n",
       "      <td>...</td>\n",
       "      <td>0</td>\n",
       "      <td>0.0380</td>\n",
       "      <td>0.910</td>\n",
       "      <td>0.048000</td>\n",
       "      <td>0.120</td>\n",
       "      <td>0.425</td>\n",
       "      <td>78.033</td>\n",
       "      <td>338333</td>\n",
       "      <td>4</td>\n",
       "      <td>blues</td>\n",
       "    </tr>\n",
       "    <tr>\n",
       "      <th>2</th>\n",
       "      <td>2Cg3GUkhjX96nO4p2WRlIa</td>\n",
       "      <td>https://open.spotify.com/playlist/7qACZGMjyo64...</td>\n",
       "      <td>The Sound of Blues</td>\n",
       "      <td>She's A Sweet One</td>\n",
       "      <td>49</td>\n",
       "      <td>Junior Wells</td>\n",
       "      <td>Calling All Blues - The Chief, Profile &amp; USA R...</td>\n",
       "      <td>https://i.scdn.co/image/ab67616d0000b27399b18c...</td>\n",
       "      <td>['blues', 'blues rock', 'chicago blues', 'elec...</td>\n",
       "      <td>41</td>\n",
       "      <td>...</td>\n",
       "      <td>1</td>\n",
       "      <td>0.0542</td>\n",
       "      <td>0.150</td>\n",
       "      <td>0.026500</td>\n",
       "      <td>0.202</td>\n",
       "      <td>0.713</td>\n",
       "      <td>122.863</td>\n",
       "      <td>181786</td>\n",
       "      <td>4</td>\n",
       "      <td>blues</td>\n",
       "    </tr>\n",
       "    <tr>\n",
       "      <th>3</th>\n",
       "      <td>5bC6ONDsL88snGN6QasjZH</td>\n",
       "      <td>https://open.spotify.com/playlist/7qACZGMjyo64...</td>\n",
       "      <td>The Sound of Blues</td>\n",
       "      <td>Help Me</td>\n",
       "      <td>59</td>\n",
       "      <td>Sonny Boy Williamson II</td>\n",
       "      <td>More Real Folk Blues</td>\n",
       "      <td>https://i.scdn.co/image/ab67616d0000b273b48c81...</td>\n",
       "      <td>['acoustic blues', 'blues', 'blues rock', 'chi...</td>\n",
       "      <td>46</td>\n",
       "      <td>...</td>\n",
       "      <td>0</td>\n",
       "      <td>0.0430</td>\n",
       "      <td>0.597</td>\n",
       "      <td>0.021300</td>\n",
       "      <td>0.610</td>\n",
       "      <td>0.771</td>\n",
       "      <td>114.216</td>\n",
       "      <td>188200</td>\n",
       "      <td>4</td>\n",
       "      <td>blues</td>\n",
       "    </tr>\n",
       "    <tr>\n",
       "      <th>4</th>\n",
       "      <td>2TKykeHeVKsBqZC8M3SKcN</td>\n",
       "      <td>https://open.spotify.com/playlist/7qACZGMjyo64...</td>\n",
       "      <td>The Sound of Blues</td>\n",
       "      <td>Take Out Some Insurance</td>\n",
       "      <td>51</td>\n",
       "      <td>Jimmy Reed</td>\n",
       "      <td>Rockin' With Reed</td>\n",
       "      <td>https://i.scdn.co/image/ab67616d0000b2739b7573...</td>\n",
       "      <td>['blues', 'blues rock', 'chicago blues', 'elec...</td>\n",
       "      <td>42</td>\n",
       "      <td>...</td>\n",
       "      <td>1</td>\n",
       "      <td>0.0513</td>\n",
       "      <td>0.663</td>\n",
       "      <td>0.000000</td>\n",
       "      <td>0.122</td>\n",
       "      <td>0.566</td>\n",
       "      <td>111.330</td>\n",
       "      <td>143332</td>\n",
       "      <td>4</td>\n",
       "      <td>blues</td>\n",
       "    </tr>\n",
       "  </tbody>\n",
       "</table>\n",
       "<p>5 rows × 24 columns</p>\n",
       "</div>"
      ],
      "text/plain": [
       "                 track_id                                       playlist_url  \\\n",
       "0  4Gia17DzXBhYFbYiJj6SyW  https://open.spotify.com/playlist/7qACZGMjyo64...   \n",
       "1  1BjYNhg7JhVfQdxqEThBwn  https://open.spotify.com/playlist/7qACZGMjyo64...   \n",
       "2  2Cg3GUkhjX96nO4p2WRlIa  https://open.spotify.com/playlist/7qACZGMjyo64...   \n",
       "3  5bC6ONDsL88snGN6QasjZH  https://open.spotify.com/playlist/7qACZGMjyo64...   \n",
       "4  2TKykeHeVKsBqZC8M3SKcN  https://open.spotify.com/playlist/7qACZGMjyo64...   \n",
       "\n",
       "        playlist_name               track_name  track_popularity  \\\n",
       "0  The Sound of Blues              Working Man                51   \n",
       "1  The Sound of Blues            Long Way Home                38   \n",
       "2  The Sound of Blues        She's A Sweet One                49   \n",
       "3  The Sound of Blues                  Help Me                59   \n",
       "4  The Sound of Blues  Take Out Some Insurance                51   \n",
       "\n",
       "                  artist_name  \\\n",
       "0                   Otis Rush   \n",
       "1  Clarence \"Gatemouth\" Brown   \n",
       "2                Junior Wells   \n",
       "3     Sonny Boy Williamson II   \n",
       "4                  Jimmy Reed   \n",
       "\n",
       "                                               album  \\\n",
       "0                            Mourning In The Morning   \n",
       "1                                      Long Way Home   \n",
       "2  Calling All Blues - The Chief, Profile & USA R...   \n",
       "3                               More Real Folk Blues   \n",
       "4                                  Rockin' With Reed   \n",
       "\n",
       "                                         album_cover  \\\n",
       "0  https://i.scdn.co/image/ab67616d0000b273fea221...   \n",
       "1  https://i.scdn.co/image/ab67616d0000b2730e1f13...   \n",
       "2  https://i.scdn.co/image/ab67616d0000b27399b18c...   \n",
       "3  https://i.scdn.co/image/ab67616d0000b273b48c81...   \n",
       "4  https://i.scdn.co/image/ab67616d0000b2739b7573...   \n",
       "\n",
       "                                       artist_genres  artist_popularity  ...  \\\n",
       "0  ['blues', 'blues rock', 'chicago blues', 'elec...                 41  ...   \n",
       "1  ['blues', 'blues rock', 'memphis blues', 'mode...                 33  ...   \n",
       "2  ['blues', 'blues rock', 'chicago blues', 'elec...                 41  ...   \n",
       "3  ['acoustic blues', 'blues', 'blues rock', 'chi...                 46  ...   \n",
       "4  ['blues', 'blues rock', 'chicago blues', 'elec...                 42  ...   \n",
       "\n",
       "   mode  speechiness  acousticness  instrumentalness  liveness  valence  \\\n",
       "0     1       0.0436         0.492          0.000418     0.204    0.841   \n",
       "1     0       0.0380         0.910          0.048000     0.120    0.425   \n",
       "2     1       0.0542         0.150          0.026500     0.202    0.713   \n",
       "3     0       0.0430         0.597          0.021300     0.610    0.771   \n",
       "4     1       0.0513         0.663          0.000000     0.122    0.566   \n",
       "\n",
       "     tempo  duration_ms  time_signature  genre  \n",
       "0  103.355       147800               4  blues  \n",
       "1   78.033       338333               4  blues  \n",
       "2  122.863       181786               4  blues  \n",
       "3  114.216       188200               4  blues  \n",
       "4  111.330       143332               4  blues  \n",
       "\n",
       "[5 rows x 24 columns]"
      ]
     },
     "execution_count": 2,
     "metadata": {},
     "output_type": "execute_result"
    }
   ],
   "source": [
    "data = pd.read_csv('../data/spotify_all_genres_tracks.csv')\n",
    "data.head()"
   ]
  },
  {
   "cell_type": "markdown",
   "id": "2df209b4-e53a-4024-8285-c1026af74cdb",
   "metadata": {},
   "source": [
    "**Get a summary of the numerical data.**"
   ]
  },
  {
   "cell_type": "code",
   "execution_count": 12,
   "id": "2bb0268a-62cb-4883-bb28-3bf8c784275f",
   "metadata": {},
   "outputs": [
    {
     "data": {
      "text/html": [
       "<div>\n",
       "<style scoped>\n",
       "    .dataframe tbody tr th:only-of-type {\n",
       "        vertical-align: middle;\n",
       "    }\n",
       "\n",
       "    .dataframe tbody tr th {\n",
       "        vertical-align: top;\n",
       "    }\n",
       "\n",
       "    .dataframe thead th {\n",
       "        text-align: right;\n",
       "    }\n",
       "</style>\n",
       "<table border=\"1\" class=\"dataframe\">\n",
       "  <thead>\n",
       "    <tr style=\"text-align: right;\">\n",
       "      <th></th>\n",
       "      <th>track_popularity</th>\n",
       "      <th>artist_popularity</th>\n",
       "      <th>danceability</th>\n",
       "      <th>energy</th>\n",
       "      <th>key</th>\n",
       "      <th>loudness</th>\n",
       "      <th>mode</th>\n",
       "      <th>speechiness</th>\n",
       "      <th>acousticness</th>\n",
       "      <th>instrumentalness</th>\n",
       "      <th>liveness</th>\n",
       "      <th>valence</th>\n",
       "      <th>tempo</th>\n",
       "      <th>duration_ms</th>\n",
       "      <th>time_signature</th>\n",
       "    </tr>\n",
       "  </thead>\n",
       "  <tbody>\n",
       "    <tr>\n",
       "      <th>count</th>\n",
       "      <td>9198.000000</td>\n",
       "      <td>9198.000000</td>\n",
       "      <td>9198.000000</td>\n",
       "      <td>9198.000000</td>\n",
       "      <td>9198.000000</td>\n",
       "      <td>9198.000000</td>\n",
       "      <td>9198.000000</td>\n",
       "      <td>9198.000000</td>\n",
       "      <td>9198.000000</td>\n",
       "      <td>9198.000000</td>\n",
       "      <td>9198.000000</td>\n",
       "      <td>9198.000000</td>\n",
       "      <td>9198.000000</td>\n",
       "      <td>9.198000e+03</td>\n",
       "      <td>9198.000000</td>\n",
       "    </tr>\n",
       "    <tr>\n",
       "      <th>mean</th>\n",
       "      <td>48.891716</td>\n",
       "      <td>51.161883</td>\n",
       "      <td>0.595363</td>\n",
       "      <td>0.535862</td>\n",
       "      <td>5.359209</td>\n",
       "      <td>-10.706267</td>\n",
       "      <td>0.596434</td>\n",
       "      <td>0.084681</td>\n",
       "      <td>0.362225</td>\n",
       "      <td>0.227429</td>\n",
       "      <td>0.170279</td>\n",
       "      <td>0.502993</td>\n",
       "      <td>116.589396</td>\n",
       "      <td>2.532825e+05</td>\n",
       "      <td>3.896934</td>\n",
       "    </tr>\n",
       "    <tr>\n",
       "      <th>std</th>\n",
       "      <td>17.501544</td>\n",
       "      <td>16.080915</td>\n",
       "      <td>0.192927</td>\n",
       "      <td>0.273231</td>\n",
       "      <td>3.558963</td>\n",
       "      <td>6.573201</td>\n",
       "      <td>0.490639</td>\n",
       "      <td>0.081614</td>\n",
       "      <td>0.368888</td>\n",
       "      <td>0.350817</td>\n",
       "      <td>0.139707</td>\n",
       "      <td>0.265940</td>\n",
       "      <td>29.270118</td>\n",
       "      <td>1.019732e+05</td>\n",
       "      <td>0.402003</td>\n",
       "    </tr>\n",
       "    <tr>\n",
       "      <th>min</th>\n",
       "      <td>0.000000</td>\n",
       "      <td>0.000000</td>\n",
       "      <td>0.000000</td>\n",
       "      <td>0.000885</td>\n",
       "      <td>0.000000</td>\n",
       "      <td>-47.001000</td>\n",
       "      <td>0.000000</td>\n",
       "      <td>0.000000</td>\n",
       "      <td>0.000002</td>\n",
       "      <td>0.000000</td>\n",
       "      <td>0.014500</td>\n",
       "      <td>0.000000</td>\n",
       "      <td>0.000000</td>\n",
       "      <td>3.033300e+04</td>\n",
       "      <td>0.000000</td>\n",
       "    </tr>\n",
       "    <tr>\n",
       "      <th>25%</th>\n",
       "      <td>38.000000</td>\n",
       "      <td>42.000000</td>\n",
       "      <td>0.474000</td>\n",
       "      <td>0.334000</td>\n",
       "      <td>2.000000</td>\n",
       "      <td>-13.255750</td>\n",
       "      <td>0.000000</td>\n",
       "      <td>0.038200</td>\n",
       "      <td>0.030425</td>\n",
       "      <td>0.000002</td>\n",
       "      <td>0.090100</td>\n",
       "      <td>0.282000</td>\n",
       "      <td>93.983000</td>\n",
       "      <td>1.897008e+05</td>\n",
       "      <td>4.000000</td>\n",
       "    </tr>\n",
       "    <tr>\n",
       "      <th>50%</th>\n",
       "      <td>49.000000</td>\n",
       "      <td>52.000000</td>\n",
       "      <td>0.621000</td>\n",
       "      <td>0.578500</td>\n",
       "      <td>6.000000</td>\n",
       "      <td>-8.761500</td>\n",
       "      <td>1.000000</td>\n",
       "      <td>0.049000</td>\n",
       "      <td>0.191000</td>\n",
       "      <td>0.001675</td>\n",
       "      <td>0.116000</td>\n",
       "      <td>0.519000</td>\n",
       "      <td>117.922500</td>\n",
       "      <td>2.282670e+05</td>\n",
       "      <td>4.000000</td>\n",
       "    </tr>\n",
       "    <tr>\n",
       "      <th>75%</th>\n",
       "      <td>61.000000</td>\n",
       "      <td>62.000000</td>\n",
       "      <td>0.744000</td>\n",
       "      <td>0.757000</td>\n",
       "      <td>8.000000</td>\n",
       "      <td>-6.128250</td>\n",
       "      <td>1.000000</td>\n",
       "      <td>0.087500</td>\n",
       "      <td>0.731000</td>\n",
       "      <td>0.461000</td>\n",
       "      <td>0.198000</td>\n",
       "      <td>0.724000</td>\n",
       "      <td>132.697250</td>\n",
       "      <td>2.864568e+05</td>\n",
       "      <td>4.000000</td>\n",
       "    </tr>\n",
       "    <tr>\n",
       "      <th>max</th>\n",
       "      <td>95.000000</td>\n",
       "      <td>100.000000</td>\n",
       "      <td>0.984000</td>\n",
       "      <td>0.999000</td>\n",
       "      <td>11.000000</td>\n",
       "      <td>1.342000</td>\n",
       "      <td>1.000000</td>\n",
       "      <td>0.827000</td>\n",
       "      <td>0.996000</td>\n",
       "      <td>0.983000</td>\n",
       "      <td>0.979000</td>\n",
       "      <td>0.986000</td>\n",
       "      <td>216.090000</td>\n",
       "      <td>1.430840e+06</td>\n",
       "      <td>5.000000</td>\n",
       "    </tr>\n",
       "  </tbody>\n",
       "</table>\n",
       "</div>"
      ],
      "text/plain": [
       "       track_popularity  artist_popularity  danceability       energy  \\\n",
       "count       9198.000000        9198.000000   9198.000000  9198.000000   \n",
       "mean          48.891716          51.161883      0.595363     0.535862   \n",
       "std           17.501544          16.080915      0.192927     0.273231   \n",
       "min            0.000000           0.000000      0.000000     0.000885   \n",
       "25%           38.000000          42.000000      0.474000     0.334000   \n",
       "50%           49.000000          52.000000      0.621000     0.578500   \n",
       "75%           61.000000          62.000000      0.744000     0.757000   \n",
       "max           95.000000         100.000000      0.984000     0.999000   \n",
       "\n",
       "               key     loudness         mode  speechiness  acousticness  \\\n",
       "count  9198.000000  9198.000000  9198.000000  9198.000000   9198.000000   \n",
       "mean      5.359209   -10.706267     0.596434     0.084681      0.362225   \n",
       "std       3.558963     6.573201     0.490639     0.081614      0.368888   \n",
       "min       0.000000   -47.001000     0.000000     0.000000      0.000002   \n",
       "25%       2.000000   -13.255750     0.000000     0.038200      0.030425   \n",
       "50%       6.000000    -8.761500     1.000000     0.049000      0.191000   \n",
       "75%       8.000000    -6.128250     1.000000     0.087500      0.731000   \n",
       "max      11.000000     1.342000     1.000000     0.827000      0.996000   \n",
       "\n",
       "       instrumentalness     liveness      valence        tempo   duration_ms  \\\n",
       "count       9198.000000  9198.000000  9198.000000  9198.000000  9.198000e+03   \n",
       "mean           0.227429     0.170279     0.502993   116.589396  2.532825e+05   \n",
       "std            0.350817     0.139707     0.265940    29.270118  1.019732e+05   \n",
       "min            0.000000     0.014500     0.000000     0.000000  3.033300e+04   \n",
       "25%            0.000002     0.090100     0.282000    93.983000  1.897008e+05   \n",
       "50%            0.001675     0.116000     0.519000   117.922500  2.282670e+05   \n",
       "75%            0.461000     0.198000     0.724000   132.697250  2.864568e+05   \n",
       "max            0.983000     0.979000     0.986000   216.090000  1.430840e+06   \n",
       "\n",
       "       time_signature  \n",
       "count     9198.000000  \n",
       "mean         3.896934  \n",
       "std          0.402003  \n",
       "min          0.000000  \n",
       "25%          4.000000  \n",
       "50%          4.000000  \n",
       "75%          4.000000  \n",
       "max          5.000000  "
      ]
     },
     "execution_count": 12,
     "metadata": {},
     "output_type": "execute_result"
    }
   ],
   "source": [
    "data.describe()"
   ]
  },
  {
   "cell_type": "markdown",
   "id": "7c2e5aca-1abe-4f10-aa76-eb2ce591f337",
   "metadata": {},
   "source": [
    "**List the column names.**"
   ]
  },
  {
   "cell_type": "code",
   "execution_count": 13,
   "id": "ad3fc705-1e75-4550-b73e-db6d4965c766",
   "metadata": {},
   "outputs": [
    {
     "data": {
      "text/plain": [
       "Index(['track_id', 'playlist_url', 'playlist_name', 'track_name',\n",
       "       'track_popularity', 'artist_name', 'album', 'album_cover',\n",
       "       'artist_genres', 'artist_popularity', 'danceability', 'energy', 'key',\n",
       "       'loudness', 'mode', 'speechiness', 'acousticness', 'instrumentalness',\n",
       "       'liveness', 'valence', 'tempo', 'duration_ms', 'time_signature',\n",
       "       'genre'],\n",
       "      dtype='object')"
      ]
     },
     "execution_count": 13,
     "metadata": {},
     "output_type": "execute_result"
    }
   ],
   "source": [
    "data.columns"
   ]
  },
  {
   "cell_type": "markdown",
   "id": "8c5d1ca9-fae4-4f3f-aa1e-b0b1c56d798a",
   "metadata": {},
   "source": [
    "We are interested in predicting the genre of each song using the other features.\n",
    "\n",
    "**Identify the genres that are used in this dataset.**"
   ]
  },
  {
   "cell_type": "code",
   "execution_count": 14,
   "id": "98c03a5c-075a-4b73-9b0a-b351059e6a79",
   "metadata": {},
   "outputs": [
    {
     "data": {
      "text/html": [
       "<div>\n",
       "<style scoped>\n",
       "    .dataframe tbody tr th:only-of-type {\n",
       "        vertical-align: middle;\n",
       "    }\n",
       "\n",
       "    .dataframe tbody tr th {\n",
       "        vertical-align: top;\n",
       "    }\n",
       "\n",
       "    .dataframe thead th {\n",
       "        text-align: right;\n",
       "    }\n",
       "</style>\n",
       "<table border=\"1\" class=\"dataframe\">\n",
       "  <thead>\n",
       "    <tr style=\"text-align: right;\">\n",
       "      <th></th>\n",
       "      <th>track_id</th>\n",
       "      <th>playlist_url</th>\n",
       "      <th>playlist_name</th>\n",
       "      <th>track_name</th>\n",
       "      <th>track_popularity</th>\n",
       "      <th>artist_name</th>\n",
       "      <th>album</th>\n",
       "      <th>album_cover</th>\n",
       "      <th>artist_genres</th>\n",
       "      <th>artist_popularity</th>\n",
       "      <th>...</th>\n",
       "      <th>mode</th>\n",
       "      <th>speechiness</th>\n",
       "      <th>acousticness</th>\n",
       "      <th>instrumentalness</th>\n",
       "      <th>liveness</th>\n",
       "      <th>valence</th>\n",
       "      <th>tempo</th>\n",
       "      <th>duration_ms</th>\n",
       "      <th>time_signature</th>\n",
       "      <th>genre</th>\n",
       "    </tr>\n",
       "  </thead>\n",
       "  <tbody>\n",
       "    <tr>\n",
       "      <th>0</th>\n",
       "      <td>4Gia17DzXBhYFbYiJj6SyW</td>\n",
       "      <td>https://open.spotify.com/playlist/7qACZGMjyo64...</td>\n",
       "      <td>The Sound of Blues</td>\n",
       "      <td>Working Man</td>\n",
       "      <td>51</td>\n",
       "      <td>Otis Rush</td>\n",
       "      <td>Mourning In The Morning</td>\n",
       "      <td>https://i.scdn.co/image/ab67616d0000b273fea221...</td>\n",
       "      <td>['blues', 'blues rock', 'chicago blues', 'elec...</td>\n",
       "      <td>41</td>\n",
       "      <td>...</td>\n",
       "      <td>1</td>\n",
       "      <td>0.0436</td>\n",
       "      <td>0.4920</td>\n",
       "      <td>0.000418</td>\n",
       "      <td>0.2040</td>\n",
       "      <td>0.841</td>\n",
       "      <td>103.355</td>\n",
       "      <td>147800</td>\n",
       "      <td>4</td>\n",
       "      <td>blues</td>\n",
       "    </tr>\n",
       "    <tr>\n",
       "      <th>1034</th>\n",
       "      <td>5bu9A6uphPWg39RC3ZKeku</td>\n",
       "      <td>https://open.spotify.com/playlist/3HYK6ri0GkvR...</td>\n",
       "      <td>The Sound of Classical</td>\n",
       "      <td>Goldberg Variations, BWV 988: Aria</td>\n",
       "      <td>64</td>\n",
       "      <td>Johann Sebastian Bach</td>\n",
       "      <td>Bach: The Goldberg Variations, BWV 988 (1981 G...</td>\n",
       "      <td>https://i.scdn.co/image/ab67616d0000b273c7ed97...</td>\n",
       "      <td>['baroque', 'classical', 'early music', 'germa...</td>\n",
       "      <td>75</td>\n",
       "      <td>...</td>\n",
       "      <td>0</td>\n",
       "      <td>0.0514</td>\n",
       "      <td>0.9950</td>\n",
       "      <td>0.943000</td>\n",
       "      <td>0.0736</td>\n",
       "      <td>0.244</td>\n",
       "      <td>130.253</td>\n",
       "      <td>184853</td>\n",
       "      <td>4</td>\n",
       "      <td>classical</td>\n",
       "    </tr>\n",
       "    <tr>\n",
       "      <th>2024</th>\n",
       "      <td>0IffIW3eyCx9aZ36IqOu5o</td>\n",
       "      <td>https://open.spotify.com/playlist/5EyFMotmvSfD...</td>\n",
       "      <td>The Sound of Jazz</td>\n",
       "      <td>Infant Eyes - Remastered1998/Rudy Van Gelder E...</td>\n",
       "      <td>49</td>\n",
       "      <td>Wayne Shorter</td>\n",
       "      <td>Speak No Evil</td>\n",
       "      <td>https://i.scdn.co/image/ab67616d0000b273bdd696...</td>\n",
       "      <td>['contemporary jazz', 'contemporary post-bop',...</td>\n",
       "      <td>46</td>\n",
       "      <td>...</td>\n",
       "      <td>1</td>\n",
       "      <td>0.0420</td>\n",
       "      <td>0.9850</td>\n",
       "      <td>0.761000</td>\n",
       "      <td>0.0945</td>\n",
       "      <td>0.119</td>\n",
       "      <td>138.689</td>\n",
       "      <td>414240</td>\n",
       "      <td>3</td>\n",
       "      <td>jazz</td>\n",
       "    </tr>\n",
       "    <tr>\n",
       "      <th>3026</th>\n",
       "      <td>1SyQ6t9RdRBK0QUCS6a797</td>\n",
       "      <td>https://open.spotify.com/playlist/6MXkE0uYF4Xw...</td>\n",
       "      <td>The Sound of Hip Hop</td>\n",
       "      <td>Hip Hop Hooray</td>\n",
       "      <td>65</td>\n",
       "      <td>Naughty By Nature</td>\n",
       "      <td>19 Naughty III</td>\n",
       "      <td>https://i.scdn.co/image/ab67616d0000b273afbd83...</td>\n",
       "      <td>['east coast hip hop', 'gangster rap', 'hardco...</td>\n",
       "      <td>57</td>\n",
       "      <td>...</td>\n",
       "      <td>0</td>\n",
       "      <td>0.1010</td>\n",
       "      <td>0.1020</td>\n",
       "      <td>0.000000</td>\n",
       "      <td>0.2720</td>\n",
       "      <td>0.765</td>\n",
       "      <td>99.200</td>\n",
       "      <td>267267</td>\n",
       "      <td>4</td>\n",
       "      <td>hiphop</td>\n",
       "    </tr>\n",
       "    <tr>\n",
       "      <th>4050</th>\n",
       "      <td>2DB4DdfCFMw1iaR6JaR03a</td>\n",
       "      <td>https://open.spotify.com/playlist/6gS3HhOiI17Q...</td>\n",
       "      <td>The Sound of Pop</td>\n",
       "      <td>Bam Bam (feat. Ed Sheeran)</td>\n",
       "      <td>83</td>\n",
       "      <td>Camila Cabello</td>\n",
       "      <td>Familia</td>\n",
       "      <td>https://i.scdn.co/image/ab67616d0000b273370ed6...</td>\n",
       "      <td>['dance pop', 'pop', 'post-teen pop', 'uk pop']</td>\n",
       "      <td>82</td>\n",
       "      <td>...</td>\n",
       "      <td>1</td>\n",
       "      <td>0.0401</td>\n",
       "      <td>0.1820</td>\n",
       "      <td>0.000000</td>\n",
       "      <td>0.3330</td>\n",
       "      <td>0.956</td>\n",
       "      <td>94.996</td>\n",
       "      <td>206071</td>\n",
       "      <td>4</td>\n",
       "      <td>pop</td>\n",
       "    </tr>\n",
       "    <tr>\n",
       "      <th>5301</th>\n",
       "      <td>0hebjXwdDFHS1kHDQ82HZr</td>\n",
       "      <td>https://open.spotify.com/playlist/0TcXdt4sbITb...</td>\n",
       "      <td>The Sound of Reggae</td>\n",
       "      <td>Jah Give Us Life</td>\n",
       "      <td>55</td>\n",
       "      <td>Wailing Souls</td>\n",
       "      <td>The Very Best Of The Wailing Souls</td>\n",
       "      <td>https://i.scdn.co/image/ab67616d0000b273a3fef7...</td>\n",
       "      <td>['dub', 'lovers rock', 'reggae', 'roots reggae...</td>\n",
       "      <td>48</td>\n",
       "      <td>...</td>\n",
       "      <td>0</td>\n",
       "      <td>0.0578</td>\n",
       "      <td>0.0521</td>\n",
       "      <td>0.000932</td>\n",
       "      <td>0.0666</td>\n",
       "      <td>0.962</td>\n",
       "      <td>144.678</td>\n",
       "      <td>232440</td>\n",
       "      <td>4</td>\n",
       "      <td>reggae</td>\n",
       "    </tr>\n",
       "    <tr>\n",
       "      <th>6339</th>\n",
       "      <td>3qiyyUfYe7CRYLucrPmulD</td>\n",
       "      <td>https://open.spotify.com/playlist/7dowgSWOmvdp...</td>\n",
       "      <td>The Sound of Rock</td>\n",
       "      <td>Baba O'Riley</td>\n",
       "      <td>76</td>\n",
       "      <td>The Who</td>\n",
       "      <td>Who's Next (Deluxe Edition)</td>\n",
       "      <td>https://i.scdn.co/image/ab67616d0000b273fe24dc...</td>\n",
       "      <td>['album rock', 'art rock', 'blues rock', 'brit...</td>\n",
       "      <td>68</td>\n",
       "      <td>...</td>\n",
       "      <td>1</td>\n",
       "      <td>0.0352</td>\n",
       "      <td>0.3130</td>\n",
       "      <td>0.185000</td>\n",
       "      <td>0.2870</td>\n",
       "      <td>0.150</td>\n",
       "      <td>117.292</td>\n",
       "      <td>300400</td>\n",
       "      <td>4</td>\n",
       "      <td>rock</td>\n",
       "    </tr>\n",
       "    <tr>\n",
       "      <th>7473</th>\n",
       "      <td>7nionv2ijjqUlg9m5iWPTc</td>\n",
       "      <td>https://open.spotify.com/playlist/6AzCASXpbvX5...</td>\n",
       "      <td>The Sound of House</td>\n",
       "      <td>Feel My Needs</td>\n",
       "      <td>60</td>\n",
       "      <td>WEISS</td>\n",
       "      <td>Feel My Needs</td>\n",
       "      <td>https://i.scdn.co/image/ab67616d0000b27357c3c6...</td>\n",
       "      <td>['deep groove house', 'deep house', 'disco hou...</td>\n",
       "      <td>55</td>\n",
       "      <td>...</td>\n",
       "      <td>0</td>\n",
       "      <td>0.0475</td>\n",
       "      <td>0.0010</td>\n",
       "      <td>0.861000</td>\n",
       "      <td>0.0505</td>\n",
       "      <td>0.774</td>\n",
       "      <td>121.998</td>\n",
       "      <td>208525</td>\n",
       "      <td>4</td>\n",
       "      <td>electronic</td>\n",
       "    </tr>\n",
       "  </tbody>\n",
       "</table>\n",
       "<p>8 rows × 24 columns</p>\n",
       "</div>"
      ],
      "text/plain": [
       "                    track_id  \\\n",
       "0     4Gia17DzXBhYFbYiJj6SyW   \n",
       "1034  5bu9A6uphPWg39RC3ZKeku   \n",
       "2024  0IffIW3eyCx9aZ36IqOu5o   \n",
       "3026  1SyQ6t9RdRBK0QUCS6a797   \n",
       "4050  2DB4DdfCFMw1iaR6JaR03a   \n",
       "5301  0hebjXwdDFHS1kHDQ82HZr   \n",
       "6339  3qiyyUfYe7CRYLucrPmulD   \n",
       "7473  7nionv2ijjqUlg9m5iWPTc   \n",
       "\n",
       "                                           playlist_url  \\\n",
       "0     https://open.spotify.com/playlist/7qACZGMjyo64...   \n",
       "1034  https://open.spotify.com/playlist/3HYK6ri0GkvR...   \n",
       "2024  https://open.spotify.com/playlist/5EyFMotmvSfD...   \n",
       "3026  https://open.spotify.com/playlist/6MXkE0uYF4Xw...   \n",
       "4050  https://open.spotify.com/playlist/6gS3HhOiI17Q...   \n",
       "5301  https://open.spotify.com/playlist/0TcXdt4sbITb...   \n",
       "6339  https://open.spotify.com/playlist/7dowgSWOmvdp...   \n",
       "7473  https://open.spotify.com/playlist/6AzCASXpbvX5...   \n",
       "\n",
       "               playlist_name  \\\n",
       "0         The Sound of Blues   \n",
       "1034  The Sound of Classical   \n",
       "2024       The Sound of Jazz   \n",
       "3026    The Sound of Hip Hop   \n",
       "4050        The Sound of Pop   \n",
       "5301     The Sound of Reggae   \n",
       "6339       The Sound of Rock   \n",
       "7473      The Sound of House   \n",
       "\n",
       "                                             track_name  track_popularity  \\\n",
       "0                                           Working Man                51   \n",
       "1034                 Goldberg Variations, BWV 988: Aria                64   \n",
       "2024  Infant Eyes - Remastered1998/Rudy Van Gelder E...                49   \n",
       "3026                                     Hip Hop Hooray                65   \n",
       "4050                         Bam Bam (feat. Ed Sheeran)                83   \n",
       "5301                                   Jah Give Us Life                55   \n",
       "6339                                       Baba O'Riley                76   \n",
       "7473                                      Feel My Needs                60   \n",
       "\n",
       "                artist_name  \\\n",
       "0                 Otis Rush   \n",
       "1034  Johann Sebastian Bach   \n",
       "2024          Wayne Shorter   \n",
       "3026      Naughty By Nature   \n",
       "4050         Camila Cabello   \n",
       "5301          Wailing Souls   \n",
       "6339                The Who   \n",
       "7473                  WEISS   \n",
       "\n",
       "                                                  album  \\\n",
       "0                               Mourning In The Morning   \n",
       "1034  Bach: The Goldberg Variations, BWV 988 (1981 G...   \n",
       "2024                                      Speak No Evil   \n",
       "3026                                     19 Naughty III   \n",
       "4050                                            Familia   \n",
       "5301                 The Very Best Of The Wailing Souls   \n",
       "6339                        Who's Next (Deluxe Edition)   \n",
       "7473                                      Feel My Needs   \n",
       "\n",
       "                                            album_cover  \\\n",
       "0     https://i.scdn.co/image/ab67616d0000b273fea221...   \n",
       "1034  https://i.scdn.co/image/ab67616d0000b273c7ed97...   \n",
       "2024  https://i.scdn.co/image/ab67616d0000b273bdd696...   \n",
       "3026  https://i.scdn.co/image/ab67616d0000b273afbd83...   \n",
       "4050  https://i.scdn.co/image/ab67616d0000b273370ed6...   \n",
       "5301  https://i.scdn.co/image/ab67616d0000b273a3fef7...   \n",
       "6339  https://i.scdn.co/image/ab67616d0000b273fe24dc...   \n",
       "7473  https://i.scdn.co/image/ab67616d0000b27357c3c6...   \n",
       "\n",
       "                                          artist_genres  artist_popularity  \\\n",
       "0     ['blues', 'blues rock', 'chicago blues', 'elec...                 41   \n",
       "1034  ['baroque', 'classical', 'early music', 'germa...                 75   \n",
       "2024  ['contemporary jazz', 'contemporary post-bop',...                 46   \n",
       "3026  ['east coast hip hop', 'gangster rap', 'hardco...                 57   \n",
       "4050    ['dance pop', 'pop', 'post-teen pop', 'uk pop']                 82   \n",
       "5301  ['dub', 'lovers rock', 'reggae', 'roots reggae...                 48   \n",
       "6339  ['album rock', 'art rock', 'blues rock', 'brit...                 68   \n",
       "7473  ['deep groove house', 'deep house', 'disco hou...                 55   \n",
       "\n",
       "      ...  mode  speechiness  acousticness  instrumentalness  liveness  \\\n",
       "0     ...     1       0.0436        0.4920          0.000418    0.2040   \n",
       "1034  ...     0       0.0514        0.9950          0.943000    0.0736   \n",
       "2024  ...     1       0.0420        0.9850          0.761000    0.0945   \n",
       "3026  ...     0       0.1010        0.1020          0.000000    0.2720   \n",
       "4050  ...     1       0.0401        0.1820          0.000000    0.3330   \n",
       "5301  ...     0       0.0578        0.0521          0.000932    0.0666   \n",
       "6339  ...     1       0.0352        0.3130          0.185000    0.2870   \n",
       "7473  ...     0       0.0475        0.0010          0.861000    0.0505   \n",
       "\n",
       "      valence    tempo  duration_ms  time_signature       genre  \n",
       "0       0.841  103.355       147800               4       blues  \n",
       "1034    0.244  130.253       184853               4   classical  \n",
       "2024    0.119  138.689       414240               3        jazz  \n",
       "3026    0.765   99.200       267267               4      hiphop  \n",
       "4050    0.956   94.996       206071               4         pop  \n",
       "5301    0.962  144.678       232440               4      reggae  \n",
       "6339    0.150  117.292       300400               4        rock  \n",
       "7473    0.774  121.998       208525               4  electronic  \n",
       "\n",
       "[8 rows x 24 columns]"
      ]
     },
     "execution_count": 14,
     "metadata": {},
     "output_type": "execute_result"
    }
   ],
   "source": [
    "data.drop_duplicates('genre')"
   ]
  },
  {
   "cell_type": "markdown",
   "id": "0fbc9cbb-68ce-4617-b4b6-672ee24820a9",
   "metadata": {},
   "source": [
    "In machine learning, you are interested in predicting something. In this case, it is the genre of the song. By convention, we set this \"target\" equal to `y`."
   ]
  },
  {
   "cell_type": "code",
   "execution_count": 3,
   "id": "9344580e-ecfa-486d-b87d-3e4304c40760",
   "metadata": {},
   "outputs": [],
   "source": [
    "y = data.genre"
   ]
  },
  {
   "cell_type": "markdown",
   "id": "c9bd5c35-2fe6-4a25-92c4-cc046f77bf58",
   "metadata": {},
   "source": [
    "We can choose which features we want to use to train the model.\n",
    "\n",
    "**Choose several features and place them in a list, stored in a variable called `features`.**"
   ]
  },
  {
   "cell_type": "code",
   "execution_count": 4,
   "id": "353d313a-b09c-4d11-a43b-15e52ca33aff",
   "metadata": {},
   "outputs": [],
   "source": [
    "features = ['energy', 'key', 'valence', 'tempo', 'acousticness']"
   ]
  },
  {
   "cell_type": "markdown",
   "id": "3df3eff9-563b-41ee-89f9-b370b17fecd8",
   "metadata": {},
   "source": [
    "**By convention, the list of features is set equal to the variable `X`.**"
   ]
  },
  {
   "cell_type": "code",
   "execution_count": 5,
   "id": "c7693b26-06f2-4d44-a9e8-ca398a46a0a3",
   "metadata": {},
   "outputs": [],
   "source": [
    "X = data[features]"
   ]
  },
  {
   "cell_type": "code",
   "execution_count": 31,
   "id": "2997ed02-29d0-4a4a-9377-98f41c4abd5c",
   "metadata": {},
   "outputs": [
    {
     "ename": "ValueError",
     "evalue": "could not convert string to float: 'energy'",
     "output_type": "error",
     "traceback": [
      "\u001b[0;31m---------------------------------------------------------------------------\u001b[0m",
      "\u001b[0;31mValueError\u001b[0m                                Traceback (most recent call last)",
      "Input \u001b[0;32mIn [31]\u001b[0m, in \u001b[0;36m<cell line: 5>\u001b[0;34m()\u001b[0m\n\u001b[1;32m      3\u001b[0m scaler \u001b[38;5;241m=\u001b[39m StandardScaler()\n\u001b[1;32m      4\u001b[0m \u001b[38;5;66;03m#features = df.drop('genre', axis=1)\u001b[39;00m\n\u001b[0;32m----> 5\u001b[0m scaled_features \u001b[38;5;241m=\u001b[39m \u001b[43mscaler\u001b[49m\u001b[38;5;241;43m.\u001b[39;49m\u001b[43mfit_transform\u001b[49m\u001b[43m(\u001b[49m\u001b[43mfeatures\u001b[49m\u001b[43m)\u001b[49m\n",
      "File \u001b[0;32m/Users/argonneed/opt/anaconda3/lib/python3.9/site-packages/sklearn/base.py:852\u001b[0m, in \u001b[0;36mTransformerMixin.fit_transform\u001b[0;34m(self, X, y, **fit_params)\u001b[0m\n\u001b[1;32m    848\u001b[0m \u001b[38;5;66;03m# non-optimized default implementation; override when a better\u001b[39;00m\n\u001b[1;32m    849\u001b[0m \u001b[38;5;66;03m# method is possible for a given clustering algorithm\u001b[39;00m\n\u001b[1;32m    850\u001b[0m \u001b[38;5;28;01mif\u001b[39;00m y \u001b[38;5;129;01mis\u001b[39;00m \u001b[38;5;28;01mNone\u001b[39;00m:\n\u001b[1;32m    851\u001b[0m     \u001b[38;5;66;03m# fit method of arity 1 (unsupervised transformation)\u001b[39;00m\n\u001b[0;32m--> 852\u001b[0m     \u001b[38;5;28;01mreturn\u001b[39;00m \u001b[38;5;28;43mself\u001b[39;49m\u001b[38;5;241;43m.\u001b[39;49m\u001b[43mfit\u001b[49m\u001b[43m(\u001b[49m\u001b[43mX\u001b[49m\u001b[43m,\u001b[49m\u001b[43m \u001b[49m\u001b[38;5;241;43m*\u001b[39;49m\u001b[38;5;241;43m*\u001b[39;49m\u001b[43mfit_params\u001b[49m\u001b[43m)\u001b[49m\u001b[38;5;241m.\u001b[39mtransform(X)\n\u001b[1;32m    853\u001b[0m \u001b[38;5;28;01melse\u001b[39;00m:\n\u001b[1;32m    854\u001b[0m     \u001b[38;5;66;03m# fit method of arity 2 (supervised transformation)\u001b[39;00m\n\u001b[1;32m    855\u001b[0m     \u001b[38;5;28;01mreturn\u001b[39;00m \u001b[38;5;28mself\u001b[39m\u001b[38;5;241m.\u001b[39mfit(X, y, \u001b[38;5;241m*\u001b[39m\u001b[38;5;241m*\u001b[39mfit_params)\u001b[38;5;241m.\u001b[39mtransform(X)\n",
      "File \u001b[0;32m/Users/argonneed/opt/anaconda3/lib/python3.9/site-packages/sklearn/preprocessing/_data.py:806\u001b[0m, in \u001b[0;36mStandardScaler.fit\u001b[0;34m(self, X, y, sample_weight)\u001b[0m\n\u001b[1;32m    804\u001b[0m \u001b[38;5;66;03m# Reset internal state before fitting\u001b[39;00m\n\u001b[1;32m    805\u001b[0m \u001b[38;5;28mself\u001b[39m\u001b[38;5;241m.\u001b[39m_reset()\n\u001b[0;32m--> 806\u001b[0m \u001b[38;5;28;01mreturn\u001b[39;00m \u001b[38;5;28;43mself\u001b[39;49m\u001b[38;5;241;43m.\u001b[39;49m\u001b[43mpartial_fit\u001b[49m\u001b[43m(\u001b[49m\u001b[43mX\u001b[49m\u001b[43m,\u001b[49m\u001b[43m \u001b[49m\u001b[43my\u001b[49m\u001b[43m,\u001b[49m\u001b[43m \u001b[49m\u001b[43msample_weight\u001b[49m\u001b[43m)\u001b[49m\n",
      "File \u001b[0;32m/Users/argonneed/opt/anaconda3/lib/python3.9/site-packages/sklearn/preprocessing/_data.py:841\u001b[0m, in \u001b[0;36mStandardScaler.partial_fit\u001b[0;34m(self, X, y, sample_weight)\u001b[0m\n\u001b[1;32m    809\u001b[0m \u001b[38;5;124;03m\"\"\"Online computation of mean and std on X for later scaling.\u001b[39;00m\n\u001b[1;32m    810\u001b[0m \n\u001b[1;32m    811\u001b[0m \u001b[38;5;124;03mAll of X is processed as a single batch. This is intended for cases\u001b[39;00m\n\u001b[0;32m   (...)\u001b[0m\n\u001b[1;32m    838\u001b[0m \u001b[38;5;124;03m    Fitted scaler.\u001b[39;00m\n\u001b[1;32m    839\u001b[0m \u001b[38;5;124;03m\"\"\"\u001b[39;00m\n\u001b[1;32m    840\u001b[0m first_call \u001b[38;5;241m=\u001b[39m \u001b[38;5;129;01mnot\u001b[39;00m \u001b[38;5;28mhasattr\u001b[39m(\u001b[38;5;28mself\u001b[39m, \u001b[38;5;124m\"\u001b[39m\u001b[38;5;124mn_samples_seen_\u001b[39m\u001b[38;5;124m\"\u001b[39m)\n\u001b[0;32m--> 841\u001b[0m X \u001b[38;5;241m=\u001b[39m \u001b[38;5;28;43mself\u001b[39;49m\u001b[38;5;241;43m.\u001b[39;49m\u001b[43m_validate_data\u001b[49m\u001b[43m(\u001b[49m\n\u001b[1;32m    842\u001b[0m \u001b[43m    \u001b[49m\u001b[43mX\u001b[49m\u001b[43m,\u001b[49m\n\u001b[1;32m    843\u001b[0m \u001b[43m    \u001b[49m\u001b[43maccept_sparse\u001b[49m\u001b[38;5;241;43m=\u001b[39;49m\u001b[43m(\u001b[49m\u001b[38;5;124;43m\"\u001b[39;49m\u001b[38;5;124;43mcsr\u001b[39;49m\u001b[38;5;124;43m\"\u001b[39;49m\u001b[43m,\u001b[49m\u001b[43m \u001b[49m\u001b[38;5;124;43m\"\u001b[39;49m\u001b[38;5;124;43mcsc\u001b[39;49m\u001b[38;5;124;43m\"\u001b[39;49m\u001b[43m)\u001b[49m\u001b[43m,\u001b[49m\n\u001b[1;32m    844\u001b[0m \u001b[43m    \u001b[49m\u001b[43mestimator\u001b[49m\u001b[38;5;241;43m=\u001b[39;49m\u001b[38;5;28;43mself\u001b[39;49m\u001b[43m,\u001b[49m\n\u001b[1;32m    845\u001b[0m \u001b[43m    \u001b[49m\u001b[43mdtype\u001b[49m\u001b[38;5;241;43m=\u001b[39;49m\u001b[43mFLOAT_DTYPES\u001b[49m\u001b[43m,\u001b[49m\n\u001b[1;32m    846\u001b[0m \u001b[43m    \u001b[49m\u001b[43mforce_all_finite\u001b[49m\u001b[38;5;241;43m=\u001b[39;49m\u001b[38;5;124;43m\"\u001b[39;49m\u001b[38;5;124;43mallow-nan\u001b[39;49m\u001b[38;5;124;43m\"\u001b[39;49m\u001b[43m,\u001b[49m\n\u001b[1;32m    847\u001b[0m \u001b[43m    \u001b[49m\u001b[43mreset\u001b[49m\u001b[38;5;241;43m=\u001b[39;49m\u001b[43mfirst_call\u001b[49m\u001b[43m,\u001b[49m\n\u001b[1;32m    848\u001b[0m \u001b[43m\u001b[49m\u001b[43m)\u001b[49m\n\u001b[1;32m    849\u001b[0m n_features \u001b[38;5;241m=\u001b[39m X\u001b[38;5;241m.\u001b[39mshape[\u001b[38;5;241m1\u001b[39m]\n\u001b[1;32m    851\u001b[0m \u001b[38;5;28;01mif\u001b[39;00m sample_weight \u001b[38;5;129;01mis\u001b[39;00m \u001b[38;5;129;01mnot\u001b[39;00m \u001b[38;5;28;01mNone\u001b[39;00m:\n",
      "File \u001b[0;32m/Users/argonneed/opt/anaconda3/lib/python3.9/site-packages/sklearn/base.py:566\u001b[0m, in \u001b[0;36mBaseEstimator._validate_data\u001b[0;34m(self, X, y, reset, validate_separately, **check_params)\u001b[0m\n\u001b[1;32m    564\u001b[0m     \u001b[38;5;28;01mraise\u001b[39;00m \u001b[38;5;167;01mValueError\u001b[39;00m(\u001b[38;5;124m\"\u001b[39m\u001b[38;5;124mValidation should be done on X, y or both.\u001b[39m\u001b[38;5;124m\"\u001b[39m)\n\u001b[1;32m    565\u001b[0m \u001b[38;5;28;01melif\u001b[39;00m \u001b[38;5;129;01mnot\u001b[39;00m no_val_X \u001b[38;5;129;01mand\u001b[39;00m no_val_y:\n\u001b[0;32m--> 566\u001b[0m     X \u001b[38;5;241m=\u001b[39m \u001b[43mcheck_array\u001b[49m\u001b[43m(\u001b[49m\u001b[43mX\u001b[49m\u001b[43m,\u001b[49m\u001b[43m \u001b[49m\u001b[38;5;241;43m*\u001b[39;49m\u001b[38;5;241;43m*\u001b[39;49m\u001b[43mcheck_params\u001b[49m\u001b[43m)\u001b[49m\n\u001b[1;32m    567\u001b[0m     out \u001b[38;5;241m=\u001b[39m X\n\u001b[1;32m    568\u001b[0m \u001b[38;5;28;01melif\u001b[39;00m no_val_X \u001b[38;5;129;01mand\u001b[39;00m \u001b[38;5;129;01mnot\u001b[39;00m no_val_y:\n",
      "File \u001b[0;32m/Users/argonneed/opt/anaconda3/lib/python3.9/site-packages/sklearn/utils/validation.py:746\u001b[0m, in \u001b[0;36mcheck_array\u001b[0;34m(array, accept_sparse, accept_large_sparse, dtype, order, copy, force_all_finite, ensure_2d, allow_nd, ensure_min_samples, ensure_min_features, estimator)\u001b[0m\n\u001b[1;32m    744\u001b[0m         array \u001b[38;5;241m=\u001b[39m array\u001b[38;5;241m.\u001b[39mastype(dtype, casting\u001b[38;5;241m=\u001b[39m\u001b[38;5;124m\"\u001b[39m\u001b[38;5;124munsafe\u001b[39m\u001b[38;5;124m\"\u001b[39m, copy\u001b[38;5;241m=\u001b[39m\u001b[38;5;28;01mFalse\u001b[39;00m)\n\u001b[1;32m    745\u001b[0m     \u001b[38;5;28;01melse\u001b[39;00m:\n\u001b[0;32m--> 746\u001b[0m         array \u001b[38;5;241m=\u001b[39m \u001b[43mnp\u001b[49m\u001b[38;5;241;43m.\u001b[39;49m\u001b[43masarray\u001b[49m\u001b[43m(\u001b[49m\u001b[43marray\u001b[49m\u001b[43m,\u001b[49m\u001b[43m \u001b[49m\u001b[43morder\u001b[49m\u001b[38;5;241;43m=\u001b[39;49m\u001b[43morder\u001b[49m\u001b[43m,\u001b[49m\u001b[43m \u001b[49m\u001b[43mdtype\u001b[49m\u001b[38;5;241;43m=\u001b[39;49m\u001b[43mdtype\u001b[49m\u001b[43m)\u001b[49m\n\u001b[1;32m    747\u001b[0m \u001b[38;5;28;01mexcept\u001b[39;00m ComplexWarning \u001b[38;5;28;01mas\u001b[39;00m complex_warning:\n\u001b[1;32m    748\u001b[0m     \u001b[38;5;28;01mraise\u001b[39;00m \u001b[38;5;167;01mValueError\u001b[39;00m(\n\u001b[1;32m    749\u001b[0m         \u001b[38;5;124m\"\u001b[39m\u001b[38;5;124mComplex data not supported\u001b[39m\u001b[38;5;130;01m\\n\u001b[39;00m\u001b[38;5;132;01m{}\u001b[39;00m\u001b[38;5;130;01m\\n\u001b[39;00m\u001b[38;5;124m\"\u001b[39m\u001b[38;5;241m.\u001b[39mformat(array)\n\u001b[1;32m    750\u001b[0m     ) \u001b[38;5;28;01mfrom\u001b[39;00m \u001b[38;5;21;01mcomplex_warning\u001b[39;00m\n",
      "\u001b[0;31mValueError\u001b[0m: could not convert string to float: 'energy'"
     ]
    }
   ],
   "source": [
    "from sklearn.preprocessing import StandardScaler, LabelEncoder\n",
    "# Normalize features\n",
    "scaler = StandardScaler()\n",
    "#features = df.drop('genre', axis=1)\n",
    "scaled_features = scaler.fit_transform(features)"
   ]
  },
  {
   "cell_type": "markdown",
   "id": "2147c8ff-9465-4046-afba-d12ff48013b4",
   "metadata": {},
   "source": [
    "**View and summarize the feature set.**"
   ]
  },
  {
   "cell_type": "code",
   "execution_count": 6,
   "id": "d3a088cd-af04-4bdc-a81b-787ec28767d1",
   "metadata": {},
   "outputs": [
    {
     "data": {
      "text/html": [
       "<div>\n",
       "<style scoped>\n",
       "    .dataframe tbody tr th:only-of-type {\n",
       "        vertical-align: middle;\n",
       "    }\n",
       "\n",
       "    .dataframe tbody tr th {\n",
       "        vertical-align: top;\n",
       "    }\n",
       "\n",
       "    .dataframe thead th {\n",
       "        text-align: right;\n",
       "    }\n",
       "</style>\n",
       "<table border=\"1\" class=\"dataframe\">\n",
       "  <thead>\n",
       "    <tr style=\"text-align: right;\">\n",
       "      <th></th>\n",
       "      <th>energy</th>\n",
       "      <th>key</th>\n",
       "      <th>valence</th>\n",
       "      <th>tempo</th>\n",
       "      <th>acousticness</th>\n",
       "    </tr>\n",
       "  </thead>\n",
       "  <tbody>\n",
       "    <tr>\n",
       "      <th>count</th>\n",
       "      <td>9198.000000</td>\n",
       "      <td>9198.000000</td>\n",
       "      <td>9198.000000</td>\n",
       "      <td>9198.000000</td>\n",
       "      <td>9198.000000</td>\n",
       "    </tr>\n",
       "    <tr>\n",
       "      <th>mean</th>\n",
       "      <td>0.535862</td>\n",
       "      <td>5.359209</td>\n",
       "      <td>0.502993</td>\n",
       "      <td>116.589396</td>\n",
       "      <td>0.362225</td>\n",
       "    </tr>\n",
       "    <tr>\n",
       "      <th>std</th>\n",
       "      <td>0.273231</td>\n",
       "      <td>3.558963</td>\n",
       "      <td>0.265940</td>\n",
       "      <td>29.270118</td>\n",
       "      <td>0.368888</td>\n",
       "    </tr>\n",
       "    <tr>\n",
       "      <th>min</th>\n",
       "      <td>0.000885</td>\n",
       "      <td>0.000000</td>\n",
       "      <td>0.000000</td>\n",
       "      <td>0.000000</td>\n",
       "      <td>0.000002</td>\n",
       "    </tr>\n",
       "    <tr>\n",
       "      <th>25%</th>\n",
       "      <td>0.334000</td>\n",
       "      <td>2.000000</td>\n",
       "      <td>0.282000</td>\n",
       "      <td>93.983000</td>\n",
       "      <td>0.030425</td>\n",
       "    </tr>\n",
       "    <tr>\n",
       "      <th>50%</th>\n",
       "      <td>0.578500</td>\n",
       "      <td>6.000000</td>\n",
       "      <td>0.519000</td>\n",
       "      <td>117.922500</td>\n",
       "      <td>0.191000</td>\n",
       "    </tr>\n",
       "    <tr>\n",
       "      <th>75%</th>\n",
       "      <td>0.757000</td>\n",
       "      <td>8.000000</td>\n",
       "      <td>0.724000</td>\n",
       "      <td>132.697250</td>\n",
       "      <td>0.731000</td>\n",
       "    </tr>\n",
       "    <tr>\n",
       "      <th>max</th>\n",
       "      <td>0.999000</td>\n",
       "      <td>11.000000</td>\n",
       "      <td>0.986000</td>\n",
       "      <td>216.090000</td>\n",
       "      <td>0.996000</td>\n",
       "    </tr>\n",
       "  </tbody>\n",
       "</table>\n",
       "</div>"
      ],
      "text/plain": [
       "            energy          key      valence        tempo  acousticness\n",
       "count  9198.000000  9198.000000  9198.000000  9198.000000   9198.000000\n",
       "mean      0.535862     5.359209     0.502993   116.589396      0.362225\n",
       "std       0.273231     3.558963     0.265940    29.270118      0.368888\n",
       "min       0.000885     0.000000     0.000000     0.000000      0.000002\n",
       "25%       0.334000     2.000000     0.282000    93.983000      0.030425\n",
       "50%       0.578500     6.000000     0.519000   117.922500      0.191000\n",
       "75%       0.757000     8.000000     0.724000   132.697250      0.731000\n",
       "max       0.999000    11.000000     0.986000   216.090000      0.996000"
      ]
     },
     "execution_count": 6,
     "metadata": {},
     "output_type": "execute_result"
    }
   ],
   "source": [
    "X.describe()"
   ]
  },
  {
   "cell_type": "code",
   "execution_count": 7,
   "id": "cb579aee-5427-4ab0-a635-3ea22613667b",
   "metadata": {},
   "outputs": [
    {
     "data": {
      "text/html": [
       "<div>\n",
       "<style scoped>\n",
       "    .dataframe tbody tr th:only-of-type {\n",
       "        vertical-align: middle;\n",
       "    }\n",
       "\n",
       "    .dataframe tbody tr th {\n",
       "        vertical-align: top;\n",
       "    }\n",
       "\n",
       "    .dataframe thead th {\n",
       "        text-align: right;\n",
       "    }\n",
       "</style>\n",
       "<table border=\"1\" class=\"dataframe\">\n",
       "  <thead>\n",
       "    <tr style=\"text-align: right;\">\n",
       "      <th></th>\n",
       "      <th>energy</th>\n",
       "      <th>key</th>\n",
       "      <th>valence</th>\n",
       "      <th>tempo</th>\n",
       "      <th>acousticness</th>\n",
       "    </tr>\n",
       "  </thead>\n",
       "  <tbody>\n",
       "    <tr>\n",
       "      <th>0</th>\n",
       "      <td>0.625</td>\n",
       "      <td>0</td>\n",
       "      <td>0.841</td>\n",
       "      <td>103.355</td>\n",
       "      <td>0.492</td>\n",
       "    </tr>\n",
       "    <tr>\n",
       "      <th>1</th>\n",
       "      <td>0.054</td>\n",
       "      <td>11</td>\n",
       "      <td>0.425</td>\n",
       "      <td>78.033</td>\n",
       "      <td>0.910</td>\n",
       "    </tr>\n",
       "    <tr>\n",
       "      <th>2</th>\n",
       "      <td>0.483</td>\n",
       "      <td>1</td>\n",
       "      <td>0.713</td>\n",
       "      <td>122.863</td>\n",
       "      <td>0.150</td>\n",
       "    </tr>\n",
       "    <tr>\n",
       "      <th>3</th>\n",
       "      <td>0.436</td>\n",
       "      <td>5</td>\n",
       "      <td>0.771</td>\n",
       "      <td>114.216</td>\n",
       "      <td>0.597</td>\n",
       "    </tr>\n",
       "    <tr>\n",
       "      <th>4</th>\n",
       "      <td>0.288</td>\n",
       "      <td>9</td>\n",
       "      <td>0.566</td>\n",
       "      <td>111.330</td>\n",
       "      <td>0.663</td>\n",
       "    </tr>\n",
       "  </tbody>\n",
       "</table>\n",
       "</div>"
      ],
      "text/plain": [
       "   energy  key  valence    tempo  acousticness\n",
       "0   0.625    0    0.841  103.355         0.492\n",
       "1   0.054   11    0.425   78.033         0.910\n",
       "2   0.483    1    0.713  122.863         0.150\n",
       "3   0.436    5    0.771  114.216         0.597\n",
       "4   0.288    9    0.566  111.330         0.663"
      ]
     },
     "execution_count": 7,
     "metadata": {},
     "output_type": "execute_result"
    }
   ],
   "source": [
    "X.head()"
   ]
  },
  {
   "cell_type": "markdown",
   "id": "fd8fac10-5f89-4173-a5e1-f59c0c0ebfb9",
   "metadata": {},
   "source": [
    "We will use the machine learning library **Scikit-learn** (`sklearn`). Specifically, its decision tree classifier to train the model.\n",
    "\n",
    "**Import the sklearn library.**"
   ]
  },
  {
   "cell_type": "code",
   "execution_count": 8,
   "id": "34d12a86-77f4-40cd-ab02-4a3b76c2b2b7",
   "metadata": {},
   "outputs": [],
   "source": [
    "from sklearn.tree import DecisionTreeClassifier"
   ]
  },
  {
   "cell_type": "markdown",
   "id": "8273d9ee-796e-4ad8-b826-1a72a56e99a1",
   "metadata": {},
   "source": [
    "**Assign the model to an object called `spotify_model`. Specify a number for random_state to ensure same results each run.**"
   ]
  },
  {
   "cell_type": "code",
   "execution_count": 9,
   "id": "ad909630-07b9-41bb-ad32-8a627760891a",
   "metadata": {},
   "outputs": [],
   "source": [
    "# \n",
    "spotify_model = DecisionTreeClassifier(random_state=1)"
   ]
  },
  {
   "cell_type": "markdown",
   "id": "5f7727e8-b077-45fd-93ef-35086b0646f7",
   "metadata": {},
   "source": [
    "**Train the model using the features and target data.**"
   ]
  },
  {
   "cell_type": "code",
   "execution_count": 10,
   "id": "3b9d0bcc-6c2a-4675-8695-1924af4a8738",
   "metadata": {},
   "outputs": [
    {
     "data": {
      "text/plain": [
       "DecisionTreeClassifier(random_state=1)"
      ]
     },
     "execution_count": 10,
     "metadata": {},
     "output_type": "execute_result"
    }
   ],
   "source": [
    "spotify_model.fit(X, y)"
   ]
  },
  {
   "cell_type": "markdown",
   "id": "352b3722-465e-472a-aa02-ffdc0b56e0dc",
   "metadata": {},
   "source": [
    "**Make predictions for the first 5 songs of the dataset.**"
   ]
  },
  {
   "cell_type": "code",
   "execution_count": 11,
   "id": "56b6aeaa-6a43-400a-8007-5c178f4d19ea",
   "metadata": {},
   "outputs": [
    {
     "name": "stdout",
     "output_type": "stream",
     "text": [
      "Making predictions for the following 5 songs:\n",
      "   energy  key  valence    tempo  acousticness\n",
      "0   0.625    0    0.841  103.355         0.492\n",
      "1   0.054   11    0.425   78.033         0.910\n",
      "2   0.483    1    0.713  122.863         0.150\n",
      "3   0.436    5    0.771  114.216         0.597\n",
      "4   0.288    9    0.566  111.330         0.663\n",
      "The predictions are\n",
      "['blues' 'blues' 'blues' 'blues' 'blues']\n",
      "['blues' 'blues' 'blues' ... 'electronic' 'electronic' 'electronic']\n"
     ]
    }
   ],
   "source": [
    "print(\"Making predictions for the following 5 songs:\")\n",
    "print(X.head())\n",
    "print(\"The predictions are\")\n",
    "print(spotify_model.predict(X.head()))\n",
    "predicted_genres = spotify_model.predict(X)\n",
    "print(predicted_genres)"
   ]
  },
  {
   "cell_type": "markdown",
   "id": "175d3f43-a033-4133-91fc-1377b2f4be19",
   "metadata": {},
   "source": [
    "**Check the accuracy of the model's predictions.**"
   ]
  },
  {
   "cell_type": "code",
   "execution_count": 12,
   "id": "748c7861-8ecc-4d79-8e69-677fe1731c73",
   "metadata": {},
   "outputs": [
    {
     "data": {
      "text/plain": [
       "0    blues\n",
       "1    blues\n",
       "2    blues\n",
       "3    blues\n",
       "4    blues\n",
       "Name: genre, dtype: object"
      ]
     },
     "execution_count": 12,
     "metadata": {},
     "output_type": "execute_result"
    }
   ],
   "source": [
    "data['genre'].head()"
   ]
  },
  {
   "cell_type": "markdown",
   "id": "fe936f40-49f8-48c8-a6d7-35be7f5fc75d",
   "metadata": {},
   "source": [
    "Since we are training and testing the model on thousands of songs, we need an efficient way of measuring the models accuracy.\n",
    "\n",
    "**Import the `accuracy_score` method from Scikit-learn.**"
   ]
  },
  {
   "cell_type": "code",
   "execution_count": 13,
   "id": "2430f260-1f43-4827-8458-f4df64f86c0e",
   "metadata": {},
   "outputs": [],
   "source": [
    "from sklearn.metrics import accuracy_score"
   ]
  },
  {
   "cell_type": "markdown",
   "id": "ced14f50-7365-4b18-8ad1-064fa46d971e",
   "metadata": {},
   "source": [
    "**Run the model on all of the songs in the dataset.**"
   ]
  },
  {
   "cell_type": "code",
   "execution_count": 14,
   "id": "8d793fdc-9ca1-491a-b80c-708d6a8462dc",
   "metadata": {},
   "outputs": [],
   "source": [
    "predicted_genres = spotify_model.predict(X)"
   ]
  },
  {
   "cell_type": "markdown",
   "id": "c338bc32-fb9d-4ed3-827a-661ec877e604",
   "metadata": {},
   "source": [
    "**Measure the accuracy of the model.**"
   ]
  },
  {
   "cell_type": "code",
   "execution_count": 15,
   "id": "86bb4fcb-c061-4bc9-9543-de5dadfa8d65",
   "metadata": {},
   "outputs": [
    {
     "name": "stdout",
     "output_type": "stream",
     "text": [
      "0.9921722113502935\n"
     ]
    }
   ],
   "source": [
    "accuracy = accuracy_score(y, predicted_genres)\n",
    "print(accuracy)"
   ]
  },
  {
   "cell_type": "markdown",
   "id": "13bcdee3-5c74-4edb-b798-30e973a3776b",
   "metadata": {},
   "source": [
    "## Training and Validating Your Model\n",
    "\n",
    "Properly training your model requires both training and validating it with two different subsets of the data."
   ]
  },
  {
   "cell_type": "markdown",
   "id": "984d0876-348b-49b9-81ca-22e0f0d680c1",
   "metadata": {},
   "source": [
    "**Import the `train_test_split` method from Scikit-learn.**"
   ]
  },
  {
   "cell_type": "code",
   "execution_count": 16,
   "id": "c3eafffa-5291-436a-98f0-8a2b8455356a",
   "metadata": {},
   "outputs": [],
   "source": [
    "from sklearn.model_selection import train_test_split"
   ]
  },
  {
   "cell_type": "markdown",
   "id": "b675ce04-6466-4164-864e-6b9c42160136",
   "metadata": {},
   "source": [
    "**Split data into training and validation data, for both the features (`X`) and the target (`y`).**"
   ]
  },
  {
   "cell_type": "code",
   "execution_count": 17,
   "id": "ae1a8b17-6c69-4182-98b2-0f9d6351ab2a",
   "metadata": {},
   "outputs": [],
   "source": [
    "train_X, val_X, train_y, val_y = train_test_split(X, y, random_state = 0)"
   ]
  },
  {
   "cell_type": "markdown",
   "id": "dc94f25b-2d3f-4b7a-89d8-aef9b5171b9c",
   "metadata": {},
   "source": [
    "**View the subsets.**"
   ]
  },
  {
   "cell_type": "code",
   "execution_count": 18,
   "id": "7ad90318-2041-4e86-a022-263a624c12a4",
   "metadata": {},
   "outputs": [
    {
     "data": {
      "text/html": [
       "<div>\n",
       "<style scoped>\n",
       "    .dataframe tbody tr th:only-of-type {\n",
       "        vertical-align: middle;\n",
       "    }\n",
       "\n",
       "    .dataframe tbody tr th {\n",
       "        vertical-align: top;\n",
       "    }\n",
       "\n",
       "    .dataframe thead th {\n",
       "        text-align: right;\n",
       "    }\n",
       "</style>\n",
       "<table border=\"1\" class=\"dataframe\">\n",
       "  <thead>\n",
       "    <tr style=\"text-align: right;\">\n",
       "      <th></th>\n",
       "      <th>energy</th>\n",
       "      <th>key</th>\n",
       "      <th>valence</th>\n",
       "      <th>tempo</th>\n",
       "      <th>acousticness</th>\n",
       "    </tr>\n",
       "  </thead>\n",
       "  <tbody>\n",
       "    <tr>\n",
       "      <th>978</th>\n",
       "      <td>0.566</td>\n",
       "      <td>7</td>\n",
       "      <td>0.827</td>\n",
       "      <td>112.428</td>\n",
       "      <td>0.5630</td>\n",
       "    </tr>\n",
       "    <tr>\n",
       "      <th>2530</th>\n",
       "      <td>0.424</td>\n",
       "      <td>1</td>\n",
       "      <td>0.641</td>\n",
       "      <td>156.048</td>\n",
       "      <td>0.4120</td>\n",
       "    </tr>\n",
       "    <tr>\n",
       "      <th>4100</th>\n",
       "      <td>0.625</td>\n",
       "      <td>7</td>\n",
       "      <td>0.423</td>\n",
       "      <td>120.038</td>\n",
       "      <td>0.0774</td>\n",
       "    </tr>\n",
       "    <tr>\n",
       "      <th>7470</th>\n",
       "      <td>0.797</td>\n",
       "      <td>2</td>\n",
       "      <td>0.683</td>\n",
       "      <td>152.870</td>\n",
       "      <td>0.1680</td>\n",
       "    </tr>\n",
       "    <tr>\n",
       "      <th>2101</th>\n",
       "      <td>0.277</td>\n",
       "      <td>0</td>\n",
       "      <td>0.322</td>\n",
       "      <td>90.380</td>\n",
       "      <td>0.8140</td>\n",
       "    </tr>\n",
       "  </tbody>\n",
       "</table>\n",
       "</div>"
      ],
      "text/plain": [
       "      energy  key  valence    tempo  acousticness\n",
       "978    0.566    7    0.827  112.428        0.5630\n",
       "2530   0.424    1    0.641  156.048        0.4120\n",
       "4100   0.625    7    0.423  120.038        0.0774\n",
       "7470   0.797    2    0.683  152.870        0.1680\n",
       "2101   0.277    0    0.322   90.380        0.8140"
      ]
     },
     "execution_count": 18,
     "metadata": {},
     "output_type": "execute_result"
    }
   ],
   "source": [
    "train_X.head()"
   ]
  },
  {
   "cell_type": "code",
   "execution_count": null,
   "id": "13b764f8-1560-48f0-aed0-228456b33f3f",
   "metadata": {},
   "outputs": [],
   "source": []
  },
  {
   "cell_type": "markdown",
   "id": "5703adf7-24e0-4d69-9054-311d19bab1b9",
   "metadata": {},
   "source": [
    "**Assign the model to an object called `spotify_model`. Choose a maximum number of leaf nodes and specify a number for random_state to ensure same results each run.**"
   ]
  },
  {
   "cell_type": "code",
   "execution_count": 19,
   "id": "99c0ae17-0eb7-4270-bf4c-94e5a4bedc49",
   "metadata": {},
   "outputs": [],
   "source": [
    "# Define model\n",
    "spotify_model = DecisionTreeClassifier(max_leaf_nodes=5000, random_state=0)"
   ]
  },
  {
   "cell_type": "markdown",
   "id": "6f1859c3-092c-4a52-9e6d-05102a231c46",
   "metadata": {},
   "source": [
    "**Train the model on the training subset.**"
   ]
  },
  {
   "cell_type": "code",
   "execution_count": 20,
   "id": "9202486d-5d93-4d8d-adb8-989bacc442a9",
   "metadata": {},
   "outputs": [
    {
     "data": {
      "text/plain": [
       "DecisionTreeClassifier(max_leaf_nodes=5000, random_state=0)"
      ]
     },
     "execution_count": 20,
     "metadata": {},
     "output_type": "execute_result"
    }
   ],
   "source": [
    "# Fit model\n",
    "spotify_model.fit(train_X, train_y)"
   ]
  },
  {
   "cell_type": "markdown",
   "id": "fa78e10c-95fd-4247-9f9a-9ea94a350d80",
   "metadata": {},
   "source": [
    "**Use the new model to make prediction of the genres from the validation subset.**"
   ]
  },
  {
   "cell_type": "code",
   "execution_count": 21,
   "id": "035f41a5-796b-4aff-b6b1-ccdd5822f045",
   "metadata": {},
   "outputs": [],
   "source": [
    "val_predictions = spotify_model.predict(val_X)"
   ]
  },
  {
   "cell_type": "markdown",
   "id": "f43593ef-0721-4649-9e74-82fdb0ecccb9",
   "metadata": {},
   "source": [
    "**Score the accuracy of the model's predictions.**"
   ]
  },
  {
   "cell_type": "code",
   "execution_count": 22,
   "id": "0025501e-a22d-4b04-8c21-115424ad451e",
   "metadata": {},
   "outputs": [
    {
     "name": "stdout",
     "output_type": "stream",
     "text": [
      "0.3804347826086957\n"
     ]
    }
   ],
   "source": [
    "accuracy = accuracy_score(val_y, val_predictions)\n",
    "\n",
    "print(accuracy)"
   ]
  },
  {
   "cell_type": "markdown",
   "id": "01b547d9-6335-42cc-ad0a-5040ddaf6528",
   "metadata": {},
   "source": [
    "## Improving the model"
   ]
  },
  {
   "cell_type": "markdown",
   "id": "f9437a5a-1df0-46c1-a3d0-40d6ed37ea34",
   "metadata": {},
   "source": [
    "### Tree depth\n",
    "\n",
    "We can decide how complex we want the decision tree to be by specifying the number of leaf nodes. Limiting the number of leaf nodes can help control the complexity of the tree, prevent overfitting, and improve generalization on unseen data.\n",
    "\n",
    "<center><img src = '../imgs/charlie.jpeg' width = 600><center> \n"
   ]
  },
  {
   "cell_type": "markdown",
   "id": "4f007c6a-08c3-490e-8ea4-40d9ab5fa7cb",
   "metadata": {},
   "source": [
    "Since we care about accuracy on new data, which we estimate from our validation data, we want to find the sweet spot between underfitting and overfitting. Visually, we want the low point of the (red) validation curve in the figure below.\n",
    "\n",
    "<img src = 'https://upload.wikimedia.org/wikipedia/commons/thumb/1/1f/Overfitting_svg.svg/640px-Overfitting_svg.svg.png' width = 400>"
   ]
  },
  {
   "cell_type": "markdown",
   "id": "16c732d5-7107-48f3-adce-6a729551d14d",
   "metadata": {},
   "source": [
    "**Assign a value to the variable `max_leaf_nodes`.**"
   ]
  },
  {
   "cell_type": "code",
   "execution_count": 23,
   "id": "fd53cdee-19c2-4db4-a7f6-0885b60aaa80",
   "metadata": {},
   "outputs": [],
   "source": [
    "max_leaf_nodes = 20"
   ]
  },
  {
   "cell_type": "markdown",
   "id": "eee3d7ce-dbc0-4d6a-bb73-10c3b3380103",
   "metadata": {},
   "source": [
    "**Retrain the model with the maximum number of leaf nodes and measure its accuracy on the validation subset.**"
   ]
  },
  {
   "cell_type": "code",
   "execution_count": 24,
   "id": "6d4c4e84-c1cc-4d79-93df-008d8a4ff2f1",
   "metadata": {},
   "outputs": [
    {
     "name": "stdout",
     "output_type": "stream",
     "text": [
      "Accuracy: 0.46\n"
     ]
    }
   ],
   "source": [
    "X_train, X_val, y_train, y_val = train_test_split(X, y, random_state=0)\n",
    "\n",
    "# Create and fit the DecisionTreeClassifier\n",
    "spotify_model = DecisionTreeClassifier(max_leaf_nodes=max_leaf_nodes)\n",
    "spotify_model.fit(X_train, y_train)\n",
    "\n",
    "# Make predictions on the test set\n",
    "y_pred = spotify_model.predict(X_val)\n",
    "\n",
    "# Calculate accuracy\n",
    "accuracy = accuracy_score(y_val, y_pred)\n",
    "print(f'Accuracy: {accuracy:.2f}')\n"
   ]
  },
  {
   "cell_type": "code",
   "execution_count": 25,
   "id": "8a7f370f-4b95-407b-ba72-7bb4b7d748a9",
   "metadata": {},
   "outputs": [
    {
     "name": "stdout",
     "output_type": "stream",
     "text": [
      "0.4573913043478261\n"
     ]
    }
   ],
   "source": [
    "model = DecisionTreeClassifier(max_leaf_nodes=max_leaf_nodes, random_state=0)\n",
    "model.fit(train_X, train_y)\n",
    "y_pred = model.predict(val_X)\n",
    "accuracy = accuracy_score(val_y, y_pred)\n",
    "print(accuracy)\n"
   ]
  },
  {
   "cell_type": "markdown",
   "id": "0fe26a1d-77f9-47a9-8a90-46b4f0703fdc",
   "metadata": {},
   "source": [
    "**Define a function called `get_acc` that accepts `max_leaf_nodes`, `train_X`, `val_X`, `train_y`, and `val_y` as arguments and returns the accuracy of the model.**"
   ]
  },
  {
   "cell_type": "code",
   "execution_count": 26,
   "id": "99ce31ae-d53c-4a76-a54e-7a85305e901b",
   "metadata": {},
   "outputs": [],
   "source": [
    "def get_acc(max_leaf_nodes, train_X, val_X, train_y, val_y):\n",
    "    model = DecisionTreeClassifier(max_leaf_nodes=max_leaf_nodes, random_state=0)\n",
    "    model.fit(train_X, train_y)\n",
    "    y_pred = model.predict(val_X)\n",
    "    accuracy = accuracy_score(val_y, y_pred)\n",
    "    return accuracy"
   ]
  },
  {
   "cell_type": "markdown",
   "id": "d5a4398c-5a5a-4439-b02a-93e793bdd4f9",
   "metadata": {},
   "source": [
    "**Test the function `get_acc`.**"
   ]
  },
  {
   "cell_type": "code",
   "execution_count": 27,
   "id": "87f1dcd8-51e4-4da1-8e92-452535b3d0f6",
   "metadata": {},
   "outputs": [
    {
     "data": {
      "text/plain": [
       "0.4252173913043478"
      ]
     },
     "execution_count": 27,
     "metadata": {},
     "output_type": "execute_result"
    }
   ],
   "source": [
    "get_acc(1000, train_X, val_X, train_y, val_y)"
   ]
  },
  {
   "cell_type": "markdown",
   "id": "f4712609-780d-4821-b411-8cbce8a5c754",
   "metadata": {},
   "source": [
    "**Create a `for loop` that runs the `get_acc` function for 5, 50, 500 and 5000 max_leaf_nodes and returns the accuracy for each model run.**"
   ]
  },
  {
   "cell_type": "code",
   "execution_count": 28,
   "id": "6208cf9c-7908-4664-98db-16478470909f",
   "metadata": {},
   "outputs": [
    {
     "name": "stdout",
     "output_type": "stream",
     "text": [
      "Max leaf nodes: 50  \t\t Accuracy:  0.471739\n",
      "Max leaf nodes: 100  \t\t Accuracy:  0.480870\n",
      "Max leaf nodes: 200  \t\t Accuracy:  0.468696\n"
     ]
    }
   ],
   "source": [
    "for max_leaf_nodes in [50, 100, 200]:\n",
    "    my_acc = get_acc(max_leaf_nodes, train_X, val_X, train_y, val_y)\n",
    "    print(\"Max leaf nodes: %d  \\t\\t Accuracy:  %f\" %(max_leaf_nodes, my_acc))"
   ]
  },
  {
   "cell_type": "markdown",
   "id": "5f15cc28-301a-43fb-ac5a-191b96b51ced",
   "metadata": {},
   "source": [
    "**Modify the `for loop` to find the optimal number for `max_leaf_nodes`.**"
   ]
  },
  {
   "cell_type": "markdown",
   "id": "7f497d95-b3cd-4309-b507-66ec137f6122",
   "metadata": {},
   "source": [
    "fine tune"
   ]
  },
  {
   "cell_type": "code",
   "execution_count": 29,
   "id": "f11ee173-3ab5-451d-a4a0-c4ff24d8da8d",
   "metadata": {},
   "outputs": [
    {
     "name": "stdout",
     "output_type": "stream",
     "text": [
      "Max leaf nodes: 50  \t\t Accuracy:  0.471739\n",
      "Max leaf nodes: 51  \t\t Accuracy:  0.471739\n",
      "Max leaf nodes: 52  \t\t Accuracy:  0.473913\n",
      "Max leaf nodes: 53  \t\t Accuracy:  0.475217\n",
      "Max leaf nodes: 54  \t\t Accuracy:  0.475652\n",
      "Max leaf nodes: 55  \t\t Accuracy:  0.476957\n",
      "Max leaf nodes: 56  \t\t Accuracy:  0.480000\n",
      "Max leaf nodes: 57  \t\t Accuracy:  0.480000\n",
      "Max leaf nodes: 58  \t\t Accuracy:  0.479565\n",
      "Max leaf nodes: 59  \t\t Accuracy:  0.478696\n",
      "Max leaf nodes: 60  \t\t Accuracy:  0.478696\n",
      "Max leaf nodes: 61  \t\t Accuracy:  0.480000\n",
      "Max leaf nodes: 62  \t\t Accuracy:  0.480000\n",
      "Max leaf nodes: 63  \t\t Accuracy:  0.480870\n",
      "Max leaf nodes: 64  \t\t Accuracy:  0.479565\n",
      "Max leaf nodes: 65  \t\t Accuracy:  0.481304\n",
      "Max leaf nodes: 66  \t\t Accuracy:  0.488696\n",
      "Max leaf nodes: 67  \t\t Accuracy:  0.487826\n",
      "Max leaf nodes: 68  \t\t Accuracy:  0.486522\n",
      "Max leaf nodes: 69  \t\t Accuracy:  0.486522\n",
      "Max leaf nodes: 70  \t\t Accuracy:  0.485217\n",
      "Max leaf nodes: 71  \t\t Accuracy:  0.485652\n",
      "Max leaf nodes: 72  \t\t Accuracy:  0.486087\n",
      "Max leaf nodes: 73  \t\t Accuracy:  0.485652\n",
      "Max leaf nodes: 74  \t\t Accuracy:  0.486522\n",
      "Max leaf nodes: 75  \t\t Accuracy:  0.488696\n",
      "Max leaf nodes: 76  \t\t Accuracy:  0.488696\n",
      "Max leaf nodes: 77  \t\t Accuracy:  0.488696\n",
      "Max leaf nodes: 78  \t\t Accuracy:  0.487826\n",
      "Max leaf nodes: 79  \t\t Accuracy:  0.487826\n",
      "Max leaf nodes: 80  \t\t Accuracy:  0.487826\n",
      "Max leaf nodes: 81  \t\t Accuracy:  0.488261\n",
      "Max leaf nodes: 82  \t\t Accuracy:  0.488261\n",
      "Max leaf nodes: 83  \t\t Accuracy:  0.487391\n",
      "Max leaf nodes: 84  \t\t Accuracy:  0.486957\n",
      "Max leaf nodes: 85  \t\t Accuracy:  0.486957\n",
      "Max leaf nodes: 86  \t\t Accuracy:  0.486957\n",
      "Max leaf nodes: 87  \t\t Accuracy:  0.485652\n",
      "Max leaf nodes: 88  \t\t Accuracy:  0.486957\n",
      "Max leaf nodes: 89  \t\t Accuracy:  0.482609\n",
      "Max leaf nodes: 90  \t\t Accuracy:  0.482174\n",
      "Max leaf nodes: 91  \t\t Accuracy:  0.482174\n",
      "Max leaf nodes: 92  \t\t Accuracy:  0.480435\n",
      "Max leaf nodes: 93  \t\t Accuracy:  0.480000\n",
      "Max leaf nodes: 94  \t\t Accuracy:  0.481304\n",
      "Max leaf nodes: 95  \t\t Accuracy:  0.480870\n",
      "Max leaf nodes: 96  \t\t Accuracy:  0.480435\n",
      "Max leaf nodes: 97  \t\t Accuracy:  0.480870\n",
      "Max leaf nodes: 98  \t\t Accuracy:  0.481304\n",
      "Max leaf nodes: 99  \t\t Accuracy:  0.480870\n"
     ]
    }
   ],
   "source": [
    "for max_leaf_nodes in range(50,100,1):\n",
    "    my_acc = get_acc(max_leaf_nodes, train_X, val_X, train_y, val_y)\n",
    "    print(\"Max leaf nodes: %d  \\t\\t Accuracy:  %f\" %(max_leaf_nodes, my_acc))"
   ]
  },
  {
   "cell_type": "markdown",
   "id": "8e01eb6f-0c4a-4da1-8fed-6178e9554bcf",
   "metadata": {},
   "source": [
    "### Improve Your Model\n",
    "\n",
    "Continue to adjust the parameters of your model to see if you can improve its accuracy. Consider changing the features that are used to train the model and finding a balance between underfitting and overfitting the model."
   ]
  },
  {
   "cell_type": "code",
   "execution_count": null,
   "id": "77c86315-6778-4f0f-8c81-4c9385f60a0c",
   "metadata": {},
   "outputs": [],
   "source": []
  },
  {
   "cell_type": "code",
   "execution_count": null,
   "id": "c48ca7ee-77be-4a91-8135-a14ee82f98fd",
   "metadata": {},
   "outputs": [],
   "source": []
  },
  {
   "cell_type": "markdown",
   "id": "8c1d4555-2a34-434a-92ab-9158778824c0",
   "metadata": {},
   "source": [
    "## Random Forest\n",
    "\n",
    "<img src = 'https://upload.wikimedia.org/wikipedia/commons/thumb/a/a2/D%C3%BClmen%2C_Kirchspiel%2C_Bauerschaft_B%C3%B6rnste_--_2017_--_6919.jpg/640px-D%C3%BClmen%2C_Kirchspiel%2C_Bauerschaft_B%C3%B6rnste_--_2017_--_6919.jpg' width = 600>\n",
    "\n",
    "A Random Forest Classifier is an ensemble learning method that combines multiple decision trees to create a more robust and accurate model for classification tasks. It is one of the most popular machine learning algorithms due to its simplicity, versatility, and effectiveness."
   ]
  },
  {
   "cell_type": "code",
   "execution_count": 30,
   "id": "08c580d7-8a22-4ef1-a3a4-cc14e56c9d13",
   "metadata": {},
   "outputs": [
    {
     "name": "stdout",
     "output_type": "stream",
     "text": [
      "0.49956521739130433\n"
     ]
    }
   ],
   "source": [
    "from sklearn.ensemble import RandomForestClassifier\n",
    "\n",
    "forest_model = RandomForestClassifier(random_state=1)\n",
    "forest_model.fit(train_X, train_y)\n",
    "y_preds = forest_model.predict(val_X)\n",
    "print(accuracy_score(val_y, y_preds))\n"
   ]
  },
  {
   "cell_type": "code",
   "execution_count": null,
   "id": "3e93b62c-902e-45b8-a870-bbecd9e8ea3a",
   "metadata": {},
   "outputs": [],
   "source": []
  }
 ],
 "metadata": {
  "kernelspec": {
   "display_name": "Python 3 (ipykernel)",
   "language": "python",
   "name": "python3"
  },
  "language_info": {
   "codemirror_mode": {
    "name": "ipython",
    "version": 3
   },
   "file_extension": ".py",
   "mimetype": "text/x-python",
   "name": "python",
   "nbconvert_exporter": "python",
   "pygments_lexer": "ipython3",
   "version": "3.9.12"
  }
 },
 "nbformat": 4,
 "nbformat_minor": 5
}
