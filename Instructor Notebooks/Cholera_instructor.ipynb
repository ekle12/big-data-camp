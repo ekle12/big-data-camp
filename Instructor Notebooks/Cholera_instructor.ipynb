{
 "cells": [
  {
   "cell_type": "markdown",
   "id": "e84c125e-ad5a-41fa-a652-0e685f440dc6",
   "metadata": {},
   "source": [
    "# A Cholera Outbreak in London\n",
    "\n",
    "__In this notebook__, we will test two proposed explanations (hypotheses) of how cholera spread in London: through the **air** and through the **water**. That is, we will show that some hypotheses are likely a better fit for the data and are harder to reject, in a ***statistically significant*** way, than others. \n",
    "\n",
    "<br>\n",
    "\n",
    "<table><tr>\n",
    "    <td> <img src=\"../imgs/king_cholera.png\" alt=\"Drawing\" style=\"width: 600px;\"/> </td>\n",
    "</tr></table>\n",
    "\n",
    "<br>\n",
    "\n"
   ]
  },
  {
   "cell_type": "markdown",
   "id": "40598282-5e20-48e7-9168-6861a97a0422",
   "metadata": {},
   "source": [
    "## The Theories\n",
    "\n",
    "Two predominant theories on the cause of cholera existed at the the time:\n",
    "\n",
    "<img align=\"right\" width=\"300\" height=\"300\" src='../imgs/airborne.png'> \n",
    "\n",
    "### Airborne\n",
    "\n",
    "Inhalation of a poison given off by dead or contaminated organic matter like sewage which enters the body through the lungs and poisons the blood. "
   ]
  },
  {
   "cell_type": "markdown",
   "id": "cc6170e3-88b8-4b7b-9405-c8ea7b68bb2b",
   "metadata": {},
   "source": [
    "<img align=\"right\" width=\"300\" height=\"300\" src='../imgs/waterborne.png'>\n",
    "\n",
    "### Waterborne\n",
    "\n",
    "Ingestion of “excretions of the sick” which contain a living organism which infects the gastrointestinal system."
   ]
  },
  {
   "cell_type": "markdown",
   "id": "a198ee8a-6d4b-44a2-a51d-1cf0744a1597",
   "metadata": {},
   "source": [
    "<img align=\"right\" width=\"300\" height=\"300\" src='../imgs/john_snow.jpg'>\n",
    "\n",
    "## The Doctor\n",
    "\n",
    "* Known for pioneering anesthesia techniques\n",
    "* Noticed that cholera affected the gastrointestinal system\n",
    "* Hypothesized that contaminated drinking water was the cause of cholera\n",
    "* Most people disagreed with him"
   ]
  },
  {
   "cell_type": "markdown",
   "id": "a3b947a3-f62f-4b30-b9db-d17c0467600c",
   "metadata": {},
   "source": [
    "## The Outbreak\n",
    "\n",
    "In the late summer of 1849, a particularly bad outbreak of cholera struck the Soho neighborhood in central London. Between August 31 and September 10, over 500 people had died. By the end of the outbreak, the death toll was 616."
   ]
  },
  {
   "cell_type": "markdown",
   "id": "1c5b2fbc-76c5-4fc4-8150-08fc85a5ec99",
   "metadata": {},
   "source": [
    "<img align=\"right\" height=\"300\" width=\"500\" src = '../imgs/soho_map.jpeg'>\n",
    "\n",
    "## The Map\n",
    "\n",
    "* John Snow collected data for each household including the number of deaths from cholera\n",
    "* Each death is represented as a black line"
   ]
  },
  {
   "cell_type": "markdown",
   "id": "e5464400-fba1-427e-9914-8a46e819cd59",
   "metadata": {},
   "source": [
    "<img align=\"right\" width=\"400\" src = '../imgs/broad_street.png'>\n",
    "\n",
    "## The Pump\n",
    "\n",
    "* John Snow centered his map on a particular water pump that he suspected to be the source of the ourbreak.\n",
    "* The pump was located on Broad Street."
   ]
  },
  {
   "cell_type": "markdown",
   "id": "3bfe2311-1f46-449b-aa91-05f70c04a9e6",
   "metadata": {},
   "source": [
    "<img align=\"right\" width=\"400\" src = '../imgs/broad_sewers.png'>\n",
    "\n",
    "## The Sewers\n",
    "\n",
    "* However, the neighborhood also had many sewers.\n",
    "* Sewers were thought to be a source of cholera by many supporters of the airborne theory.\n",
    "* Sewers are represented as squares in the map to the right.\n",
    "\n",
    "\n"
   ]
  },
  {
   "cell_type": "markdown",
   "id": "c8feb0c2-efad-4bf8-a579-e104c0eac191",
   "metadata": {},
   "source": [
    "## The Data\n",
    "\n",
    "People in charge of the city’s sewers went door-to-door in the Soho neighborhood to assess the claim that toxic fumes from its sewers were causing the deaths. We have digitized this data into a .csv file that has the following columns: \n",
    "\n",
    "- **house_ID:** unique indtifier for the house\n",
    "- **deaths:** the total deaths in that particular house \n",
    "- **dis_sewers:** distance (in meters) from the house to the nearest sewer (1 meter = 3.3 feet)\n",
    "- **dis_bspump:** distance (in meters) from the house to the Broad St. pump"
   ]
  },
  {
   "cell_type": "code",
   "execution_count": 1,
   "id": "bb8573e9",
   "metadata": {},
   "outputs": [
    {
     "data": {
      "text/html": [
       "<div>\n",
       "<style scoped>\n",
       "    .dataframe tbody tr th:only-of-type {\n",
       "        vertical-align: middle;\n",
       "    }\n",
       "\n",
       "    .dataframe tbody tr th {\n",
       "        vertical-align: top;\n",
       "    }\n",
       "\n",
       "    .dataframe thead th {\n",
       "        text-align: right;\n",
       "    }\n",
       "</style>\n",
       "<table border=\"1\" class=\"dataframe\">\n",
       "  <thead>\n",
       "    <tr style=\"text-align: right;\">\n",
       "      <th></th>\n",
       "      <th>house_ID</th>\n",
       "      <th>deaths</th>\n",
       "      <th>dis_sewers</th>\n",
       "      <th>dis_bspump</th>\n",
       "    </tr>\n",
       "  </thead>\n",
       "  <tbody>\n",
       "    <tr>\n",
       "      <th>0</th>\n",
       "      <td>1</td>\n",
       "      <td>0</td>\n",
       "      <td>10.08</td>\n",
       "      <td>125.00</td>\n",
       "    </tr>\n",
       "    <tr>\n",
       "      <th>1</th>\n",
       "      <td>2</td>\n",
       "      <td>1</td>\n",
       "      <td>14.64</td>\n",
       "      <td>119.94</td>\n",
       "    </tr>\n",
       "    <tr>\n",
       "      <th>2</th>\n",
       "      <td>3</td>\n",
       "      <td>0</td>\n",
       "      <td>18.47</td>\n",
       "      <td>116.27</td>\n",
       "    </tr>\n",
       "    <tr>\n",
       "      <th>3</th>\n",
       "      <td>4</td>\n",
       "      <td>0</td>\n",
       "      <td>22.98</td>\n",
       "      <td>112.56</td>\n",
       "    </tr>\n",
       "    <tr>\n",
       "      <th>4</th>\n",
       "      <td>5</td>\n",
       "      <td>0</td>\n",
       "      <td>27.47</td>\n",
       "      <td>109.10</td>\n",
       "    </tr>\n",
       "    <tr>\n",
       "      <th>...</th>\n",
       "      <td>...</td>\n",
       "      <td>...</td>\n",
       "      <td>...</td>\n",
       "      <td>...</td>\n",
       "    </tr>\n",
       "    <tr>\n",
       "      <th>1847</th>\n",
       "      <td>1848</td>\n",
       "      <td>0</td>\n",
       "      <td>22.11</td>\n",
       "      <td>191.88</td>\n",
       "    </tr>\n",
       "    <tr>\n",
       "      <th>1848</th>\n",
       "      <td>1849</td>\n",
       "      <td>0</td>\n",
       "      <td>4.75</td>\n",
       "      <td>197.54</td>\n",
       "    </tr>\n",
       "    <tr>\n",
       "      <th>1849</th>\n",
       "      <td>1850</td>\n",
       "      <td>0</td>\n",
       "      <td>18.06</td>\n",
       "      <td>261.31</td>\n",
       "    </tr>\n",
       "    <tr>\n",
       "      <th>1850</th>\n",
       "      <td>1851</td>\n",
       "      <td>0</td>\n",
       "      <td>6.00</td>\n",
       "      <td>286.47</td>\n",
       "    </tr>\n",
       "    <tr>\n",
       "      <th>1851</th>\n",
       "      <td>1852</td>\n",
       "      <td>0</td>\n",
       "      <td>7.33</td>\n",
       "      <td>299.40</td>\n",
       "    </tr>\n",
       "  </tbody>\n",
       "</table>\n",
       "<p>1852 rows × 4 columns</p>\n",
       "</div>"
      ],
      "text/plain": [
       "      house_ID  deaths  dis_sewers  dis_bspump\n",
       "0            1       0       10.08      125.00\n",
       "1            2       1       14.64      119.94\n",
       "2            3       0       18.47      116.27\n",
       "3            4       0       22.98      112.56\n",
       "4            5       0       27.47      109.10\n",
       "...        ...     ...         ...         ...\n",
       "1847      1848       0       22.11      191.88\n",
       "1848      1849       0        4.75      197.54\n",
       "1849      1850       0       18.06      261.31\n",
       "1850      1851       0        6.00      286.47\n",
       "1851      1852       0        7.33      299.40\n",
       "\n",
       "[1852 rows x 4 columns]"
      ]
     },
     "execution_count": 1,
     "metadata": {},
     "output_type": "execute_result"
    }
   ],
   "source": [
    "import numpy as np\n",
    "import pandas as pd\n",
    "from matplotlib import pyplot as plt\n",
    "\n",
    "house_data = pd.read_csv('../data/deaths_by_house.csv')\n",
    "house_data"
   ]
  },
  {
   "cell_type": "markdown",
   "id": "fe62cf54",
   "metadata": {},
   "source": [
    "## Our Own Data Experiment\n",
    "\n",
    "In the case of the airborne and waterborne theories, we can separate people into groups. The exposed group (people living near a sewer or the water pump) is often called an **impact** or **treatment group** while the unexposed group (people living far from a sewer or the water pump) is the **control group**. When testing the airborne theory, we will group people based on whether they lived near a sewer or not and whether they died of cholera or not. When testing the waterborne theory, we will group people based on whether they lived near a certain water pump or not and whether they died of cholera or not. \n",
    "\n",
    "This will result in four groups for each proposed explanation. We will place them in a 2x2 **contingency table** (also called a ***two-way table*** or ***crosstab***). We will have to test each explanation separately. In all, that means four contingency tables: an expected (null) and an observed table for each of the two hypotheses."
   ]
  },
  {
   "cell_type": "markdown",
   "id": "f87b5612",
   "metadata": {},
   "source": [
    "## The Airborne Hypothesis: Investigating the Sewers\n",
    "\n",
    "Now that we've talked about how to set up our experiment, let's apply this to the cholera data! \n",
    "\n",
    "The first theory we will explore assumes that cholera is airborne and that people get infected by inhaling toxic fumes from localized sources. In this case, the source is fumes emitted from sewers. \n",
    "\n",
    "<table><tr>\n",
    "    <td> <img src=\"../imgs/sewer.jpeg\" alt=\"Drawing\" style=\"width: 500px;\"/> </td>\n",
    "</tr></table>\n",
    "\n",
    "If this theory was true, then closer proximity to sewers would make it more likely to inhale the toxic air and contract cholera. For simplicity, let us assume someone is 'close' to a sewer if they less than 40 feet (12.2 meters) from one... otherwise they are 'far'. Unfortunately, we don't have the total number of people in each house. That data was not collected.  Therefore, we will have to count houses instead of people.\n",
    "\n",
    "Here is the contingency table for the airborne theory with totals along the bottom and right side:\n",
    "\n",
    "<img src=\"../imgs/sewer_contingency.jpeg\" style=\"width: 800px;\"/>\n"
   ]
  },
  {
   "cell_type": "markdown",
   "id": "57e784bd",
   "metadata": {},
   "source": [
    "### Predict\n",
    "\n",
    "Even though we will test the airborne theory by assuming the null hypothesis is true. If there was support for the alternative hypothesis (There is an association between proximity to a sewer and cholera), what do you predict the observed contingency table will look like? In other words, which of the four groups will have more counts than others?\n"
   ]
  },
  {
   "cell_type": "markdown",
   "id": "3f5f3688-1761-4f87-a5b7-19dd3457374a",
   "metadata": {},
   "source": [
    "### Calculating Values\n",
    "\n",
    "A lot of data will go into our contingency tables. Let's calculate that data and put into variables. This includes:\n",
    "\n",
    "- total houses with a death from cholera: `total_deaths`\n",
    "- total houses without a death from cholera: `total_nondeaths`\n",
    "- total houses near a sewer: `total_near_sewer`\n",
    "- total houses far from a sewer: `total_far_sewer`\n",
    "- total number of houses: `total_houses`"
   ]
  },
  {
   "cell_type": "code",
   "execution_count": 2,
   "id": "b9bc29a2-a375-466f-a10b-3022644d77a7",
   "metadata": {},
   "outputs": [
    {
     "name": "stdout",
     "output_type": "stream",
     "text": [
      "369\n"
     ]
    }
   ],
   "source": [
    "total_deaths = sum(house_data['deaths'] >= 1)\n",
    "print(total_deaths)"
   ]
  },
  {
   "cell_type": "code",
   "execution_count": 3,
   "id": "627f96f5-2bd1-4ebd-bc8f-bcc11d09e4b7",
   "metadata": {},
   "outputs": [
    {
     "name": "stdout",
     "output_type": "stream",
     "text": [
      "1483\n"
     ]
    }
   ],
   "source": [
    "total_nondeaths = sum(house_data['deaths'] == 0)\n",
    "print(total_nondeaths)"
   ]
  },
  {
   "cell_type": "code",
   "execution_count": 4,
   "id": "d9879de7-7137-490d-b0e8-e2998270b620",
   "metadata": {},
   "outputs": [
    {
     "name": "stdout",
     "output_type": "stream",
     "text": [
      "553\n"
     ]
    }
   ],
   "source": [
    "total_near_sewer = sum(house_data['dis_sewers'] <= 12.2)\n",
    "print(total_near_sewer)"
   ]
  },
  {
   "cell_type": "code",
   "execution_count": 5,
   "id": "0cf87746-1c67-49a7-a5a2-8e2b0c41f056",
   "metadata": {},
   "outputs": [
    {
     "name": "stdout",
     "output_type": "stream",
     "text": [
      "1299\n"
     ]
    }
   ],
   "source": [
    "total_far_sewer = sum(house_data['dis_sewers'] > 12.2)\n",
    "print(total_far_sewer)"
   ]
  },
  {
   "cell_type": "code",
   "execution_count": 6,
   "id": "2f000b27-e906-4e07-ab23-340dd3fd5802",
   "metadata": {},
   "outputs": [
    {
     "name": "stdout",
     "output_type": "stream",
     "text": [
      "1852\n"
     ]
    }
   ],
   "source": [
    "total_houses = total_near_sewer + total_far_sewer\n",
    "print(total_houses)"
   ]
  },
  {
   "cell_type": "markdown",
   "id": "102bf305-127e-4ea9-a2e4-727079b6bac8",
   "metadata": {},
   "source": [
    "We can summarize our data using the following code:"
   ]
  },
  {
   "cell_type": "code",
   "execution_count": 7,
   "id": "c12c7c6c-495f-4d58-962d-8eb3898b2709",
   "metadata": {},
   "outputs": [
    {
     "name": "stdout",
     "output_type": "stream",
     "text": [
      "Number of houses with a death: 369\n",
      "Number of houses without a death: 1483\n",
      "Number of houses near a sewer: 553\n",
      "Number of houses far from a sewer: 1299\n",
      "Total number of houses: 1852\n"
     ]
    }
   ],
   "source": [
    "print(f\"Number of houses with a death: {total_deaths}\")\n",
    "print(f\"Number of houses without a death: {total_nondeaths}\")\n",
    "print(f\"Number of houses near a sewer: {total_near_sewer}\")\n",
    "print(f\"Number of houses far from a sewer: {total_far_sewer}\")\n",
    "print(f\"Total number of houses: {total_houses}\")"
   ]
  },
  {
   "cell_type": "markdown",
   "id": "0f3f46c4-74de-4089-b5e6-c1203e617940",
   "metadata": {},
   "source": [
    "### Building the Null Contingency Table\n",
    "\n",
    "We now need to construct the contingency table under the null hypothesis (the green boxes). In other words, **how many deaths and nondeaths we would expect if there was no relationship between sewers and cholera**.\n",
    "\n",
    "We can automate the calculation for each of the four groups using the following equation:\n",
    "\n",
    "$$expected \\ value = {row \\ total \\times column \\ total \\over grand \\ total}$$\n",
    "\n"
   ]
  },
  {
   "cell_type": "markdown",
   "id": "72de0680-56eb-465e-80db-18ccf00191e0",
   "metadata": {},
   "source": [
    "<img src=\"../imgs/sewer_contingency.jpeg\" style=\"width: 800px;\"/>"
   ]
  },
  {
   "cell_type": "code",
   "execution_count": 8,
   "id": "3ed1cdec-b7a7-4cf6-9647-1812be37b4d9",
   "metadata": {
    "tags": []
   },
   "outputs": [],
   "source": [
    "exp_near_sewer_deaths = int(total_deaths * total_near_sewer / total_houses)"
   ]
  },
  {
   "cell_type": "code",
   "execution_count": 9,
   "id": "cdd6c756-6ebd-448f-808a-5f1eab647fc7",
   "metadata": {
    "tags": []
   },
   "outputs": [],
   "source": [
    "exp_near_sewer_nondeaths = int(total_nondeaths * total_near_sewer / total_houses)"
   ]
  },
  {
   "cell_type": "code",
   "execution_count": 10,
   "id": "70b5197a-8dd0-4ea2-a3e1-18c612123c6e",
   "metadata": {
    "tags": []
   },
   "outputs": [],
   "source": [
    "exp_far_sewer_deaths = int(total_deaths * total_far_sewer / total_houses)"
   ]
  },
  {
   "cell_type": "code",
   "execution_count": 11,
   "id": "6adc37c3-92fa-49f6-b065-17c111f72fc5",
   "metadata": {
    "tags": []
   },
   "outputs": [],
   "source": [
    "exp_far_sewer_nondeaths = int(total_nondeaths * total_far_sewer / total_houses)"
   ]
  },
  {
   "cell_type": "code",
   "execution_count": 12,
   "id": "92acb250-fd7d-42ae-b867-1d31c8f04604",
   "metadata": {
    "tags": []
   },
   "outputs": [
    {
     "name": "stdout",
     "output_type": "stream",
     "text": [
      "Expected houses near a sewer with a death: 110\n",
      "Expected houses near a sewer without a death: 442\n",
      "Expected houses far from a sewer with a death: 258\n",
      "Expected houses far from a sewer without a death: 1040\n"
     ]
    }
   ],
   "source": [
    "print(f\"Expected houses near a sewer with a death: {exp_near_sewer_deaths}\")\n",
    "print(f\"Expected houses near a sewer without a death: {exp_near_sewer_nondeaths}\")\n",
    "print(f\"Expected houses far from a sewer with a death: {exp_far_sewer_deaths}\")\n",
    "print(f\"Expected houses far from a sewer without a death: {exp_far_sewer_nondeaths}\")"
   ]
  },
  {
   "cell_type": "markdown",
   "id": "aa883b23-0533-4b02-837f-5957e3a98b4e",
   "metadata": {},
   "source": [
    "**Run the following code to build a blank contingency table.**"
   ]
  },
  {
   "cell_type": "code",
   "execution_count": 13,
   "id": "f9757cb4-a292-45c9-8c6c-a05db7a8686e",
   "metadata": {},
   "outputs": [],
   "source": [
    "# Now let's put it all together into a contingency table with the following shape! \n",
    "\n",
    "def visualize_contingency_table(contingency_table, top_labels, left_labels):\n",
    "    # print(\"\\t\\t  Close | Far \")\n",
    "    print('{:<15s} {:<15s} {:<20s}'.format(top_labels[0], top_labels[1], top_labels[2]))\n",
    "\n",
    "    i = 0\n",
    "    for line in contingency_table:\n",
    "        print('{:<15s} {:<15d} {:<20d}'.format(left_labels[i], contingency_table[i][0], contingency_table[i][1]))\n",
    "        i += 1\n",
    "    \n",
    "top_labels = [\" \", \"Near Sewer\", \"Far from Sewer\"]\n",
    "left_labels = [\"Deaths\", \"Non Deaths\", \"Total\"]\n"
   ]
  },
  {
   "cell_type": "markdown",
   "id": "dbd7dfb4-fc13-41be-a55a-8898a6223dd3",
   "metadata": {},
   "source": [
    "**Run the following code to insert our data in the table and display it.**"
   ]
  },
  {
   "cell_type": "code",
   "execution_count": 14,
   "id": "7e0d3741-5d84-45b3-bac6-a688d53c97f1",
   "metadata": {},
   "outputs": [
    {
     "name": "stdout",
     "output_type": "stream",
     "text": [
      "Expected (Null) Contingency Table:\n",
      "                Near Sewer      Far from Sewer      \n",
      "Deaths          110             258                 \n",
      "Non Deaths      442             1040                \n"
     ]
    }
   ],
   "source": [
    "contingency_table = [\n",
    "    [exp_near_sewer_deaths, exp_far_sewer_deaths],\n",
    "    [exp_near_sewer_nondeaths, exp_far_sewer_nondeaths]\n",
    "] \n",
    "\n",
    "print(\"Expected (Null) Contingency Table:\")\n",
    "visualize_contingency_table(contingency_table, top_labels, left_labels)"
   ]
  },
  {
   "cell_type": "markdown",
   "id": "52db55db-a854-4a23-99ff-0eb077400893",
   "metadata": {},
   "source": [
    "### Building the Observed Contingency Table\n",
    "\n",
    "We will now build another contingency table for what was actually observed during the outbreak. Instead of calculating the row and column totals, we can simply calculate each of the four green boxes in the table."
   ]
  },
  {
   "cell_type": "markdown",
   "id": "e6668289-4f31-4589-a622-601a23fe4c1b",
   "metadata": {},
   "source": [
    "<img src=\"../imgs/sewer_contingency.jpeg\" style=\"width: 800px;\"/>"
   ]
  },
  {
   "cell_type": "markdown",
   "id": "b8e74a59-acfd-4e49-a4ba-719fe48576ca",
   "metadata": {},
   "source": [
    "**Houses that were near a sewer and had people that died of cholera.**"
   ]
  },
  {
   "cell_type": "code",
   "execution_count": 15,
   "id": "e158b6a6-5408-40ac-bbe3-f5476b6ada9f",
   "metadata": {},
   "outputs": [
    {
     "name": "stdout",
     "output_type": "stream",
     "text": [
      "117\n"
     ]
    }
   ],
   "source": [
    "obs_near_sewer_deaths = np.count_nonzero((house_data['dis_sewers'] <= 12.2) & (house_data['deaths'] != 0))\n",
    "print(obs_near_sewer_deaths)"
   ]
  },
  {
   "cell_type": "markdown",
   "id": "0d9bdd9f-ce3e-4aa4-94ea-d11bfe6ecc63",
   "metadata": {},
   "source": [
    "**Houses that were near a sewer that did not have a death from cholera.**"
   ]
  },
  {
   "cell_type": "code",
   "execution_count": 16,
   "id": "c76f6c4e-5907-4512-9ef3-7e04a43d2971",
   "metadata": {
    "tags": []
   },
   "outputs": [
    {
     "name": "stdout",
     "output_type": "stream",
     "text": [
      "436\n"
     ]
    }
   ],
   "source": [
    "obs_near_sewer_nondeaths = np.count_nonzero((house_data['dis_sewers'] <= 12.2) & (house_data['deaths'] == 0))\n",
    "print(obs_near_sewer_nondeaths)"
   ]
  },
  {
   "cell_type": "markdown",
   "id": "e0122d5c-0d2e-4ff4-9e97-1974532b933e",
   "metadata": {},
   "source": [
    "**Houses that were far from a sewer and had people that died from cholera.**"
   ]
  },
  {
   "cell_type": "code",
   "execution_count": 17,
   "id": "51d168b2-e544-4bfa-a1aa-d3e82d672d08",
   "metadata": {
    "tags": []
   },
   "outputs": [
    {
     "name": "stdout",
     "output_type": "stream",
     "text": [
      "252\n"
     ]
    }
   ],
   "source": [
    "obs_far_sewer_deaths = np.count_nonzero((house_data['dis_sewers'] > 12.2) & (house_data['deaths'] != 0))\n",
    "print(obs_far_sewer_deaths)"
   ]
  },
  {
   "cell_type": "markdown",
   "id": "3402d760-0f9b-49fe-a061-4b7317373b8e",
   "metadata": {},
   "source": [
    "**Houses that were far from a sewer that did not have deaths from cholera.**"
   ]
  },
  {
   "cell_type": "code",
   "execution_count": 18,
   "id": "60e15da3-c31b-4b56-8ec5-f62f0784804d",
   "metadata": {
    "tags": []
   },
   "outputs": [
    {
     "name": "stdout",
     "output_type": "stream",
     "text": [
      "1047\n"
     ]
    }
   ],
   "source": [
    "obs_far_sewer_nondeaths = np.count_nonzero((house_data['dis_sewers'] > 12.2) & (house_data['deaths'] == 0))\n",
    "print(obs_far_sewer_nondeaths)"
   ]
  },
  {
   "cell_type": "code",
   "execution_count": 19,
   "id": "9516391a-5963-4faa-a7a4-141c9c6a3ffa",
   "metadata": {
    "tags": []
   },
   "outputs": [
    {
     "name": "stdout",
     "output_type": "stream",
     "text": [
      "Observed houses near a sewer with a death: 117\n",
      "Observed houses near a sewer without a death: 436\n",
      "Observed houses far from a sewer with a death: 252\n",
      "Observed houses far from a sewer without a death: 1047\n"
     ]
    }
   ],
   "source": [
    "print(f\"Observed houses near a sewer with a death: {obs_near_sewer_deaths}\")\n",
    "print(f\"Observed houses near a sewer without a death: {obs_near_sewer_nondeaths}\")\n",
    "print(f\"Observed houses far from a sewer with a death: {obs_far_sewer_deaths}\")\n",
    "print(f\"Observed houses far from a sewer without a death: {obs_far_sewer_nondeaths}\")"
   ]
  },
  {
   "cell_type": "markdown",
   "id": "ac8e3c3c-d1bb-4e98-98f3-24f7552fd15a",
   "metadata": {},
   "source": [
    "**Print the contingency table.**"
   ]
  },
  {
   "cell_type": "code",
   "execution_count": 20,
   "id": "617ffca5-407f-4009-bfdb-aeba2ba1d2e2",
   "metadata": {},
   "outputs": [
    {
     "name": "stdout",
     "output_type": "stream",
     "text": [
      "Observed Contingency Table:\n",
      "                Near Sewer      Far from Sewer      \n",
      "Deaths          117             252                 \n",
      "Non Deaths      436             1047                \n"
     ]
    }
   ],
   "source": [
    "contingency_table = [\n",
    "    [obs_near_sewer_deaths, obs_far_sewer_deaths],\n",
    "    [obs_near_sewer_nondeaths, obs_far_sewer_nondeaths]\n",
    "] \n",
    "\n",
    "print(\"Observed Contingency Table:\")\n",
    "visualize_contingency_table(contingency_table, top_labels, left_labels)"
   ]
  },
  {
   "cell_type": "markdown",
   "id": "50feaa97-8ca1-41b8-a557-c8904c74fc77",
   "metadata": {},
   "source": [
    "**Does there appear to be a significant difference between the expected number under the null hypothesis and the observed numbers?** "
   ]
  },
  {
   "cell_type": "markdown",
   "id": "513fc2a9-717a-4d44-9ca9-0563f19b4a80",
   "metadata": {},
   "source": [
    "### Calculating the p-value\n",
    "\n",
    "There is a difference between the expected and observed contingency tables, but is it large enough to reject the null hypothesis and accept the alternative that living close to a sewer is associated with higher cholera rates? The method for testing statistical significance in contingency tables is called a \"chi-squared ($Chi^2$) analysis\". \n",
    "\n",
    "We won't go into the details of how it works. However, there is library called \"SciPy\" that has a function that will do the chi-squared analysis for us."
   ]
  },
  {
   "cell_type": "code",
   "execution_count": 21,
   "id": "c80e3d79",
   "metadata": {
    "tags": []
   },
   "outputs": [
    {
     "name": "stdout",
     "output_type": "stream",
     "text": [
      "p-value: 0.42\n"
     ]
    }
   ],
   "source": [
    "# Import the scipy library for running chi-squared\n",
    "from scipy.stats import chi2_contingency\n",
    "\n",
    "# ... when doing data science in Python, it is common convention to use\n",
    "#.    \"_\" characters to mark variables whose values we don't need. \n",
    "_, p_value, _, _ = chi2_contingency(contingency_table)\n",
    "print(f\"p-value: {p_value:.2f}\")"
   ]
  },
  {
   "cell_type": "markdown",
   "id": "c1fe1ceb-afec-4484-ad1a-ef593df8067b",
   "metadata": {},
   "source": [
    "**Based on the p-value of your $Chi^2$ test, can you reject the null hypothesis (there is no association between living close to a sewer and dying from cholera) and accept the alternative (there is an association between living close to a sewer and dying from cholera)?**\n"
   ]
  },
  {
   "cell_type": "markdown",
   "id": "6b992896",
   "metadata": {},
   "source": [
    "## The Waterborne Hypothesis: Investigating the Broad Street Pump"
   ]
  },
  {
   "cell_type": "markdown",
   "id": "1af67128",
   "metadata": {},
   "source": [
    "Next, we want to explore the theory that cholera was transmitted through contaminated water. At the time, John Snow guessed that the water of a particular pump, the Broad Street Pump (BSP, for short), might have carried pieces of poisonous sewage. Was this true? \n",
    "\n",
    "<table><tr>\n",
    "    <td> <img src=\"../imgs/pump3.jpeg\" alt=\"Drawing\" style=\"width: 300px;\"/> </td>\n",
    "</tr></table>\n",
    "\n",
    "If this theory was true, then closer proximity to the Broad Street Pump would make it more likely to drink its contaminated water and contract cholera. For simplicity, let us assume someone is 'close' to the Broad Street Pump if they are at most 460 feet (140 meters) from it... otherwise they are 'far'. Unfortunately, we don't have the total number of people in each house. That data was not collected.  Therefore, we will have to count houses instead of people.\n",
    "\n",
    "A contingency table simply shows the total frequencies of each variable, with one variable appearing on each axis. It technically does not matter, but a common approach is to put the independent (explanatory) variable on the x-axis and the dependent (outcome) variable on the y-axis. While there are libraries to create contingency tables for us, we will build some ourselves in order to better understand it! (and, well, to get some more practice with PANDAS!!)\n",
    "\n",
    "Here is the contingency table for the waterborne theory with totals along the bottom and right side:\n",
    "\n",
    "<img src=\"../imgs/pump_contingency.jpeg\" style=\"width: 800px;\"/>"
   ]
  },
  {
   "cell_type": "markdown",
   "id": "a47470e5-d308-4158-8654-48133a33378e",
   "metadata": {},
   "source": [
    "**Even though we will test the waterborne theory by assuming the null hypothesis is true. If there was support for the alternative hypothesis (There is an association between proximity to the Broad Street Pump and cholera), what do you predict the observed contingency table will look like? In other words, how will the <span style=\"color:green\"> four green groups </span> compare to each other?** \n",
    "\n",
    "> Write your answer here! "
   ]
  },
  {
   "cell_type": "markdown",
   "id": "0c97cc87-da2e-4756-9b83-20c49399c2d8",
   "metadata": {},
   "source": [
    "### Calculating Values\n",
    "\n",
    "In order to test the null hypothesis (there is no association between proximity to the Broad Street Pump and cholera), we start by calculating the numbers in the yellow and red boxes. This includes:\n",
    "\n",
    "- total houses with a death from cholera: `total_deaths`\n",
    "- total houses without a death from cholera: `total_nondeaths`\n",
    "- total houses near the Broad Street Pump: `total_near_pump`\n",
    "- total houses far from the Broad Street Pump: `total_far_pump`\n",
    "- total number of houses: `total_houses`\n",
    "\n",
    "**Write some code that will calculate each of these values and store it in the above named variables.**"
   ]
  },
  {
   "cell_type": "code",
   "execution_count": 22,
   "id": "44af3837-3055-4da8-8ba9-0ec15c6bbb97",
   "metadata": {},
   "outputs": [],
   "source": [
    "total_deaths = sum(house_data['deaths'] >= 1)"
   ]
  },
  {
   "cell_type": "code",
   "execution_count": 22,
   "id": "a750b900-f030-488d-9215-1913f2658538",
   "metadata": {},
   "outputs": [],
   "source": [
    "total_nondeaths = sum(house_data['deaths'] == 0)"
   ]
  },
  {
   "cell_type": "code",
   "execution_count": 22,
   "id": "19fcd879-a713-45f7-9d97-738bbcf9a179",
   "metadata": {},
   "outputs": [],
   "source": [
    "total_near_pump = sum(house_data['dis_bspump'] <= 140)"
   ]
  },
  {
   "cell_type": "code",
   "execution_count": 22,
   "id": "7ff042ac-7545-42c6-b366-1974c3e50ed6",
   "metadata": {},
   "outputs": [],
   "source": [
    "total_far_pump = sum(house_data['dis_bspump'] > 140)"
   ]
  },
  {
   "cell_type": "code",
   "execution_count": 22,
   "id": "fe7036ce-6cb7-48ba-b98d-c41b300b2eec",
   "metadata": {},
   "outputs": [],
   "source": [
    "total_houses = total_near_pump + total_far_pump"
   ]
  },
  {
   "cell_type": "markdown",
   "id": "fcc62036-33c9-4de4-8855-734d2491fe1b",
   "metadata": {},
   "source": [
    "**Run this cell to summarize the data.**"
   ]
  },
  {
   "cell_type": "code",
   "execution_count": 22,
   "id": "83236667-3159-4d3d-bf48-2e8f2ebe085a",
   "metadata": {},
   "outputs": [
    {
     "name": "stdout",
     "output_type": "stream",
     "text": [
      "Number of houses with a death: 369\n",
      "Number of houses without a death: 1483\n",
      "Number of houses near the Broad Street Pump: 406\n",
      "Number of houses far from the Broad Street Pump: 1446\n",
      "Total number of houses: 1852\n"
     ]
    }
   ],
   "source": [
    "print(f\"Number of houses with a death: {total_deaths}\")\n",
    "print(f\"Number of houses without a death: {total_nondeaths}\")\n",
    "print(f\"Number of houses near the Broad Street Pump: {total_near_pump}\")\n",
    "print(f\"Number of houses far from the Broad Street Pump: {total_far_pump}\")\n",
    "print(f\"Total number of houses: {total_houses}\")"
   ]
  },
  {
   "cell_type": "markdown",
   "id": "3780246b-45b7-4d4d-80b1-a5c37565ecd0",
   "metadata": {},
   "source": [
    "### Building the Null Contingency Table\n",
    "\n",
    "We now need to construct the contingency table under the null hypothesis (the green boxes). In other words, how many deaths and nondeaths we would expect if there was no relationship between the Broad Street Pump and cholera.\n",
    "\n",
    "Remember, we can automate the calculation for each of the four groups using the following equation:\n",
    "\n",
    "$$expected \\ value = {row \\ total \\times column \\ total \\over grand \\ total}$$\n",
    "\n",
    "Store the data in the following variables:\n",
    "\n",
    "- Expected number of houses near the pump with a death: `exp_near_pump_deaths`\n",
    "- Expected number of houses near the pump without a death: `exp_near_pump_nondeaths`\n",
    "- Expected number of houses far from the pump with a death: `exp_far_pump_deaths`\n",
    "- Expected number of houses far from the pump without a death: `exp_far_pump_nondeaths`\n"
   ]
  },
  {
   "cell_type": "code",
   "execution_count": 23,
   "id": "1b60d727-b8e6-4e4f-b2ca-7d9fff277646",
   "metadata": {
    "tags": []
   },
   "outputs": [],
   "source": [
    "exp_near_pump_deaths = int(total_deaths * total_near_pump / total_houses)\n",
    "\n",
    "exp_near_pump_nondeaths = int(total_nondeaths * total_near_pump / total_houses)\n",
    "\n",
    "exp_far_pump_deaths = int(total_deaths * total_far_pump / total_houses)\n",
    "\n",
    "exp_far_pump_nondeaths = int(total_nondeaths * total_far_pump / total_houses)"
   ]
  },
  {
   "cell_type": "markdown",
   "id": "cb2210df-c815-434d-82a0-e0e82ea51cc5",
   "metadata": {},
   "source": [
    "**Summarize the results.**"
   ]
  },
  {
   "cell_type": "code",
   "execution_count": 23,
   "id": "411ae048-c493-4aa4-bbfe-d300afdd1e4f",
   "metadata": {
    "tags": []
   },
   "outputs": [
    {
     "name": "stdout",
     "output_type": "stream",
     "text": [
      "Expected houses near a pump with a death: 80\n",
      "Expected houses near a pump without a death: 325\n",
      "Expected houses far from the Broad Street Pump with a death: 288\n",
      "Expected houses far from the Broad Street Pump without a death: 1157\n"
     ]
    }
   ],
   "source": [
    "print(f\"Expected houses near a pump with a death: {exp_near_pump_deaths}\")\n",
    "print(f\"Expected houses near a pump without a death: {exp_near_pump_nondeaths}\")\n",
    "print(f\"Expected houses far from the Broad Street Pump with a death: {exp_far_pump_deaths}\")\n",
    "print(f\"Expected houses far from the Broad Street Pump without a death: {exp_far_pump_nondeaths}\")"
   ]
  },
  {
   "cell_type": "markdown",
   "id": "5d3dde2a-c14e-40a5-adfe-75729808d6c9",
   "metadata": {},
   "source": [
    "**Run the next two cells to build and print the contingency table.**"
   ]
  },
  {
   "cell_type": "code",
   "execution_count": 24,
   "id": "e048aa3d-dad4-469a-b021-4a6a71ee6e96",
   "metadata": {},
   "outputs": [],
   "source": [
    "# Now let's put it all together into a contingency table with the following shape! \n",
    "\n",
    "def visualize_contingency_table(contingency_table, top_labels, left_labels):\n",
    "    # print(\"\\t\\t  Close | Far \")\n",
    "    print('{:<15s} {:<15s} {:<20s}'.format(top_labels[0], top_labels[1], top_labels[2]))\n",
    "\n",
    "    i = 0\n",
    "    for line in contingency_table:\n",
    "        print('{:<15s} {:<15d} {:<20d}'.format(left_labels[i], contingency_table[i][0], contingency_table[i][1]))\n",
    "        i += 1\n",
    "    \n",
    "top_labels = [\" \", \"Near BSP\", \"Far from BSP\"]\n",
    "left_labels = [\"Deaths\", \"Non Deaths\", \"Total\"]\n"
   ]
  },
  {
   "cell_type": "code",
   "execution_count": 25,
   "id": "9ce067c0-3f93-4503-bef6-42621d2172e1",
   "metadata": {},
   "outputs": [
    {
     "name": "stdout",
     "output_type": "stream",
     "text": [
      "Expected (Null) Contingency Table:\n",
      "                Near BSP        Far from BSP        \n",
      "Deaths          80              288                 \n",
      "Non Deaths      325             1157                \n"
     ]
    }
   ],
   "source": [
    "contingency_table = [\n",
    "    [exp_near_pump_deaths, exp_far_pump_deaths],\n",
    "    [exp_near_pump_nondeaths, exp_far_pump_nondeaths]\n",
    "] \n",
    "\n",
    "print(\"Expected (Null) Contingency Table:\")\n",
    "visualize_contingency_table(contingency_table, top_labels, left_labels)"
   ]
  },
  {
   "cell_type": "markdown",
   "id": "71bfb2d7-ff3b-4faf-99a9-9b117cc8ef27",
   "metadata": {},
   "source": [
    "### Building the Observed Contingency Table\n",
    "\n",
    "We will now build another contingency table for what was actually observed during the outbreak. Instead of calculating the row and column totals, we can simply calculate each of the four green boxes in the table."
   ]
  },
  {
   "cell_type": "markdown",
   "id": "3995b1c8-a3e8-4f10-bc65-ba484f8a3511",
   "metadata": {},
   "source": [
    "<img src=\"../imgs/pump_contingency.jpeg\" style=\"width: 800px;\"/>\n",
    "\n",
    "Store the data in the following variables:\n",
    "\n",
    "- Observed number of houses near the pump with a death: `obs_near_pump_deaths`\n",
    "- Observed number of houses near the pump without a death: `obs_near_pump_nondeaths`\n",
    "- Observed number of houses far from the pump with a death: `obs_far_pump_deaths`\n",
    "- Observed number of houses far from the pump without a death: `obs_far_pump_nondeaths`\n"
   ]
  },
  {
   "cell_type": "markdown",
   "id": "a3f2dacf-9cbf-41bd-89df-a0c6b1d539a7",
   "metadata": {},
   "source": [
    "**Houses that were near the Broad Street Pump and had people that died of cholera.**"
   ]
  },
  {
   "cell_type": "code",
   "execution_count": 31,
   "id": "754c978c-4157-4fbf-9da1-3d788bcb5bdb",
   "metadata": {},
   "outputs": [
    {
     "name": "stdout",
     "output_type": "stream",
     "text": [
      "207\n"
     ]
    }
   ],
   "source": [
    "obs_near_pump_deaths = np.count_nonzero((house_data['dis_bspump'] <= 140 ) & (house_data['deaths'] != 0))\n",
    "print(obs_near_pump_deaths)"
   ]
  },
  {
   "cell_type": "markdown",
   "id": "8b4d886e-1334-4192-b20d-c563c678f61c",
   "metadata": {},
   "source": [
    "**Houses that were near the Broad Street Pump that did not have a death from cholera.**"
   ]
  },
  {
   "cell_type": "code",
   "execution_count": 16,
   "id": "6379ba4d-72a0-4577-8f1f-650657e533f0",
   "metadata": {
    "tags": []
   },
   "outputs": [
    {
     "name": "stdout",
     "output_type": "stream",
     "text": [
      "436\n"
     ]
    }
   ],
   "source": [
    "obs_near_pump_nondeaths = np.count_nonzero((house_data['dis_bspump'] <= 140 ) & (house_data['deaths'] == 0))\n",
    "print(obs_near_pump_nondeaths)"
   ]
  },
  {
   "cell_type": "markdown",
   "id": "c971fbaa-2955-4a6e-b4f2-2a2ab606ed22",
   "metadata": {},
   "source": [
    "**Houses that were far from the Broad Street Pump and had people that died of cholera.**"
   ]
  },
  {
   "cell_type": "code",
   "execution_count": 17,
   "id": "56b08cd0-8dcc-4bb5-9ec7-d7cc0f81eadb",
   "metadata": {
    "tags": []
   },
   "outputs": [
    {
     "name": "stdout",
     "output_type": "stream",
     "text": [
      "252\n"
     ]
    }
   ],
   "source": [
    "obs_far_pump_deaths = np.count_nonzero((house_data['dis_bspump'] > 140 ) & (house_data['deaths'] != 0))\n",
    "print(obs_far_pump_deaths)"
   ]
  },
  {
   "cell_type": "markdown",
   "id": "a6680d21-94b1-4f9f-a6bf-d8cc406567d8",
   "metadata": {},
   "source": [
    "**Houses that were far from the Broad Street Pump that did not have a death from cholera.**"
   ]
  },
  {
   "cell_type": "code",
   "execution_count": 18,
   "id": "8869a9f5-f934-4d80-8c4e-68c173590bef",
   "metadata": {
    "tags": []
   },
   "outputs": [
    {
     "name": "stdout",
     "output_type": "stream",
     "text": [
      "1047\n"
     ]
    }
   ],
   "source": [
    "obs_far_pump_deaths = np.count_nonzero((house_data['dis_bspump'] > 140 ) & (house_data['deaths'] == 0))\n",
    "print(obs_far_pump_deaths)"
   ]
  },
  {
   "cell_type": "markdown",
   "id": "8dbf9beb-9c3f-4276-bcf1-0c67e30fef31",
   "metadata": {},
   "source": [
    "**Summarize the results.**"
   ]
  },
  {
   "cell_type": "code",
   "execution_count": 26,
   "id": "4c0f70e8-94eb-49e7-a818-aa9c9179cf82",
   "metadata": {
    "tags": []
   },
   "outputs": [
    {
     "name": "stdout",
     "output_type": "stream",
     "text": [
      "Observed houses near the Broad Street Pump with a death: 207\n",
      "Observed houses near the Broad Street Pump without a death: 199\n",
      "Observed houses far from the Broad Street Pump with a death: 162\n",
      "Observed houses far from the Broad Street Pump without a death: 1284\n"
     ]
    }
   ],
   "source": [
    "print(f\"Observed houses near the Broad Street Pump with a death: {obs_near_pump_deaths}\")\n",
    "print(f\"Observed houses near the Broad Street Pump without a death: {obs_near_pump_nondeaths}\")\n",
    "print(f\"Observed houses far from the Broad Street Pump with a death: {obs_far_pump_deaths}\")\n",
    "print(f\"Observed houses far from the Broad Street Pump without a death: {obs_far_pump_nondeaths}\")"
   ]
  },
  {
   "cell_type": "markdown",
   "id": "6d764814-f589-4374-a04b-2c9176098958",
   "metadata": {},
   "source": [
    "**Print the contingency table.**"
   ]
  },
  {
   "cell_type": "code",
   "execution_count": 27,
   "id": "4e7a4486-c06d-46e5-9965-31e14e0cdfc1",
   "metadata": {},
   "outputs": [
    {
     "name": "stdout",
     "output_type": "stream",
     "text": [
      "Observed Contingency Table:\n",
      "                Near BSP        Far from BSP        \n",
      "Deaths          207             162                 \n",
      "Non Deaths      199             1284                \n"
     ]
    }
   ],
   "source": [
    "contingency_table = [\n",
    "    [obs_near_pump_deaths, obs_far_pump_deaths],\n",
    "    [obs_near_pump_nondeaths, obs_far_pump_nondeaths]\n",
    "] \n",
    "\n",
    "print(\"Observed Contingency Table:\")\n",
    "visualize_contingency_table(contingency_table, top_labels, left_labels)"
   ]
  },
  {
   "cell_type": "markdown",
   "id": "045571d9-f59c-4141-af95-00f7e05245e4",
   "metadata": {},
   "source": [
    "### On First Glance\n",
    "\n",
    "**Does there appear to be a significant difference between the expected number under the null hypothesis and the observed numbers?** \n"
   ]
  },
  {
   "cell_type": "markdown",
   "id": "2b997414-ba4a-4fef-a1bd-69bfa512a3d7",
   "metadata": {},
   "source": [
    "### Is it significant?"
   ]
  },
  {
   "cell_type": "code",
   "execution_count": 28,
   "id": "2e732370-a8af-4fe3-be9d-84fef0568876",
   "metadata": {
    "tags": []
   },
   "outputs": [
    {
     "name": "stdout",
     "output_type": "stream",
     "text": [
      "p-value: 0.00000\n"
     ]
    }
   ],
   "source": [
    "_, p_value, _, _ = chi2_contingency(contingency_table)\n",
    "print(f\"p-value: {p_value:.5f}\")"
   ]
  },
  {
   "cell_type": "markdown",
   "id": "ddb06a7f-0ea8-46ca-a11c-f3b96f3037b5",
   "metadata": {},
   "source": [
    "**Based on the p-value of your $Chi^2$ test, can you reject the null hypothesis (there is no association between living close to the Broad Street Pump and dying from cholera) and accept the alternative (there is an association between living close to the Broad Street Pump and dying from cholera)?**\n",
    "\n",
    "> Write your answer here! "
   ]
  },
  {
   "cell_type": "markdown",
   "id": "ba36247d-83d8-4a1f-8e72-df331b52d42c",
   "metadata": {},
   "source": [
    "### Visualizing the Data\n",
    "\n",
    "<img align='right' src=\"../imgs/funny_paper.jpeg\" alt=\"Drawing\" style=\"width: 400px;\"/>\n",
    "\n",
    "An important part of data science is not only determining statistical significance of hypotheses, but also communicating your findings to people without a statistics background. \n",
    "\n",
    "Imagine reading a newspaper headline (like below) that says ’The p-value was below 0.05’... the average person does not know what this means! Visualizing your results is an important step in convincing others that your evidence is compelling! In the following, we create (and interpret) data visualizations that make it easier to understand your statistical results.\n",
    "\n",
    "We first explore a **histogram** -- a type of bar graph used to show differences in the frequency (or count) of various events. (In this case, the events are deaths and non-deaths of people close and far from the sewer). "
   ]
  },
  {
   "cell_type": "code",
   "execution_count": 29,
   "id": "68c3c091",
   "metadata": {},
   "outputs": [
    {
     "data": {
      "text/plain": [
       "<matplotlib.legend.Legend at 0x7fe6e10cbfd0>"
      ]
     },
     "execution_count": 29,
     "metadata": {},
     "output_type": "execute_result"
    },
    {
     "data": {
      "image/png": "[encoded data removed]",
      "text/plain": [
       "<Figure size 432x288 with 1 Axes>"
      ]
     },
     "metadata": {
      "needs_background": "light"
     },
     "output_type": "display_data"
    }
   ],
   "source": [
    "# Histogram\n",
    "\n",
    "# Let's calculate the percentages of deaths that are 'close' versus 'far'. \n",
    "#    Close Deaths + Far Deaths should sum to 1! \n",
    "# (then we can do the same for non-graphs)\n",
    "obs_near_sewer_deaths_pct = obs_near_sewer_deaths / (obs_near_sewer_deaths + obs_far_sewer_deaths) * 100\n",
    "obs_far_sewer_deaths_pct = 100 - obs_near_sewer_deaths_pct\n",
    "\n",
    "obs_near_sewer_nondeaths_pct = obs_near_sewer_nondeaths / (obs_near_sewer_nondeaths + obs_far_sewer_nondeaths) * 100\n",
    "obs_far_sewer_nondeaths_pct = 100 - obs_near_sewer_nondeaths_pct\n",
    "\n",
    "\n",
    "\n",
    "# 1. Let's first view the CLOSE deaths vs nondeaths. \n",
    "plt.bar(x=['Deaths Near', 'Deaths Far'], \n",
    "        height=[obs_near_sewer_deaths_pct, obs_far_sewer_deaths_pct], color='purple', label='Deaths')\n",
    "\n",
    "# 2. Let's first view the FAR deaths vs nondeaths.\n",
    "plt.bar(x=['Nondeaths Near', 'Nondeaths Far'], \n",
    "        height=[obs_near_sewer_nondeaths_pct, obs_far_sewer_nondeaths_pct], color='gold', label='Nondeaths')\n",
    "plt.ylim((0,100))\n",
    "plt.ylabel(\"Percentage of Deaths or Nondeaths\")\n",
    "plt.title(\"Deaths and Nondeaths (Close and Far from Sewer)\")\n",
    "plt.legend()"
   ]
  },
  {
   "cell_type": "markdown",
   "id": "bdaf31e2-3214-4d2d-ba3c-a2f63d2786da",
   "metadata": {},
   "source": [
    "**Now we can do the same for comparing deaths and nondeaths of people near and far from the Broad St. Pump.**"
   ]
  },
  {
   "cell_type": "code",
   "execution_count": 30,
   "id": "a9354c1a-2b80-41cf-bfd3-b509fe2c4d78",
   "metadata": {},
   "outputs": [
    {
     "data": {
      "text/plain": [
       "<matplotlib.legend.Legend at 0x7fe6d2f4f970>"
      ]
     },
     "execution_count": 30,
     "metadata": {},
     "output_type": "execute_result"
    },
    {
     "data": {
      "image/png": "[encoded data removed]",
      "text/plain": [
       "<Figure size 432x288 with 1 Axes>"
      ]
     },
     "metadata": {
      "needs_background": "light"
     },
     "output_type": "display_data"
    }
   ],
   "source": [
    "# Histogram\n",
    "\n",
    "# Let's calculate the percentages of deaths that are 'close' versus 'far'. \n",
    "#    Close Deaths + Far Deaths should sum to 1! \n",
    "# (then we can do the same for non-graphs)\n",
    "obs_near_pump_deaths_pct = obs_near_pump_deaths / (obs_near_pump_deaths + obs_far_pump_deaths) * 100\n",
    "obs_far_pump_deaths_pct = 100 - obs_near_pump_deaths_pct\n",
    "\n",
    "obs_near_pump_nondeaths_pct = obs_near_pump_nondeaths / (obs_near_pump_nondeaths + obs_far_pump_nondeaths) * 100\n",
    "obs_far_pump_nondeaths_pct = 100 - obs_near_pump_nondeaths_pct\n",
    "\n",
    "\n",
    "\n",
    "# 1. Let's first view the CLOSE deaths vs nondeaths. \n",
    "plt.bar(x=['Deaths Near', 'Deaths Far'], \n",
    "        height=[obs_near_pump_deaths_pct, obs_far_pump_deaths_pct], color='purple', label='Deaths')\n",
    "\n",
    "# 2. Let's first view the FAR deaths vs nondeaths.\n",
    "plt.bar(x=['Nondeaths Near', 'Nondeaths Far'], \n",
    "        height=[obs_near_pump_nondeaths_pct, obs_far_pump_nondeaths_pct], color='gold', label='Nondeaths')\n",
    "plt.ylim((0,100))\n",
    "plt.ylabel(\"Percentage of Deaths or Nondeaths\")\n",
    "plt.title(\"Deaths and Nondeaths (Close and Far from Broad Street Pump)\")\n",
    "plt.legend()"
   ]
  },
  {
   "cell_type": "markdown",
   "id": "ff66aeb3-f693-4f10-80dd-206b6bed252c",
   "metadata": {},
   "source": [
    "### The 3 Second Rule\n",
    "\n",
    "The 3 Second Rule states that one gets 3 secons to grab someone's attention and flag the take-home point of a data visualization: https://stephanieevergreen.com/the-3-second-rule/\n",
    "\n",
    "**What does these histograms communicate to you? Does they follow the 3 Second Rule?** \n"
   ]
  },
  {
   "cell_type": "code",
   "execution_count": null,
   "id": "a242335c-ef18-4d0a-ac42-f903337c0095",
   "metadata": {},
   "outputs": [],
   "source": []
  }
 ],
 "metadata": {
  "kernelspec": {
   "display_name": "Python 3 (ipykernel)",
   "language": "python",
   "name": "python3"
  },
  "language_info": {
   "codemirror_mode": {
    "name": "ipython",
    "version": 3
   },
   "file_extension": ".py",
   "mimetype": "text/x-python",
   "name": "python",
   "nbconvert_exporter": "python",
   "pygments_lexer": "ipython3",
   "version": "3.9.12"
  }
 },
 "nbformat": 4,
 "nbformat_minor": 5
}
