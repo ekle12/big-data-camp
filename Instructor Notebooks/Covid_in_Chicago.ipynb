{
 "cells": [
  {
   "cell_type": "markdown",
   "metadata": {},
   "source": [
    "# Exploring COVID in Chicago \n",
    "\n",
    "<img src = 'https://upload.wikimedia.org/wikipedia/commons/thumb/8/82/Chicago_sunrise_1.jpg/640px-Chicago_sunrise_1.jpg' width = 800>\n",
    "\n",
    "#### Dataset: `Chicago_Demographic_Covid_Full.csv`\n",
    "\n",
    "**Given what we know about John Snow's Grand Experiment, how can we best measure COVID-19's impact on the communities in Chicago?**"
   ]
  },
  {
   "cell_type": "markdown",
   "metadata": {},
   "source": [
    "In May 2020, Kevin Credit from the Center for Spatial Data Science at the UChicago wrote \"Neighborhood inequity: Exploring the factors underlying racial and ethnic disparities in COVID-19 testing and infection rates using ZIP code data in Chicago and New York\". \n",
    "\n",
    "Kevin was nice enough to share his data with us. Kevin's research also would not have been possible without open source research data from: Illinois Department of Health: https://www.dph.illinois.gov/covid19/covid19-statistics and the U.S. Census Bureau: https://data.census.gov/cedsci"
   ]
  },
  {
   "cell_type": "code",
   "execution_count": 2,
   "metadata": {},
   "outputs": [],
   "source": [
    "import pandas as pd\n",
    "pd.options.mode.chained_assignment = None\n",
    "import matplotlib.pyplot as plt\n",
    "import seaborn as sns\n",
    "import numpy as np\n",
    "plt.style.use('seaborn')"
   ]
  },
  {
   "cell_type": "markdown",
   "metadata": {},
   "source": [
    "### Variables Key\n",
    "\n",
    "* ZIP: ZIP code\n",
    "\n",
    "* POP: Population\n",
    "* POPDENS: Population density (per m2)\n",
    "\n",
    "**Age**\n",
    "* PER0_44: Percent of people age 0 to 44\n",
    "* PER45_64: Percent of people age 45 to 64\n",
    "* PER65: Percent of people 65 and over\n",
    "\n",
    "\n",
    "**Racial/Ethnic**\n",
    "* PERW: Percent white\n",
    "* PERHIS: Percent hispanic\n",
    "* PERBLK: Percent black\n",
    "\n",
    "**Commuting Types**\n",
    "* PERAUTO: Percent automobile commuters\n",
    "* PERTRAN: Percent public transportation commuters\n",
    "* PERPEDB: Percent pedestrian and bike commuters\n",
    "* PERTELE: Percent teleworkers (work from home)\n",
    "       '\n",
    "**Socio-economic status** \n",
    "* MEDINC: Median household income\n",
    "\n",
    "**Household Structure**\n",
    "* PERCROWD: Percent housing units with >1 person per room\n",
    "\n",
    "**Occupations**\n",
    "* PEROFFTC: Percent office workers\n",
    "* PERHSRV: Percent healthcare service workers\n",
    "* PERPSRV: Percent public service workers\n",
    "* PERFOOD: Percent food workers\n",
    "* PERCLEAN: Percent cleaning service workers\n",
    "       '\n",
    "**Healthy Environments**\n",
    "* FDTRTPER: Percent food desert tracts\n",
    "* WS__5: Hospital accessibility score\n",
    "\n",
    "**Covid-19**\n",
    "* CASE_5_1: Number of positive tests for the week ending 5/1\n",
    "* TEST_5_1': Number of tests performed folr the week ending 5/1\n"
   ]
  },
  {
   "cell_type": "markdown",
   "metadata": {},
   "source": [
    "## Task: Generate a new column of data for positivity rate and add it to the dataframe."
   ]
  },
  {
   "cell_type": "code",
   "execution_count": null,
   "metadata": {},
   "outputs": [],
   "source": []
  },
  {
   "cell_type": "code",
   "execution_count": null,
   "metadata": {},
   "outputs": [],
   "source": []
  }
 ],
 "metadata": {
  "kernelspec": {
   "display_name": "Python 3 (ipykernel)",
   "language": "python",
   "name": "python3"
  },
  "language_info": {
   "codemirror_mode": {
    "name": "ipython",
    "version": 3
   },
   "file_extension": ".py",
   "mimetype": "text/x-python",
   "name": "python",
   "nbconvert_exporter": "python",
   "pygments_lexer": "ipython3",
   "version": "3.9.7"
  }
 },
 "nbformat": 4,
 "nbformat_minor": 4
}
