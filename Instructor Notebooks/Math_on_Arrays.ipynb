{
 "cells": [
  {
   "cell_type": "markdown",
   "id": "854154de-47dd-4755-ad12-8e74288d485f",
   "metadata": {
    "tags": []
   },
   "source": [
    "# Math on Arrays"
   ]
  },
  {
   "cell_type": "markdown",
   "id": "cfa4ed14-f7e1-4ef5-bc60-014f492c56b3",
   "metadata": {},
   "source": [
    "## 1. Math on a Single Array "
   ]
  },
  {
   "cell_type": "code",
   "execution_count": null,
   "id": "5f68bb0c-062d-4ce4-acda-65db3f4c90f3",
   "metadata": {},
   "outputs": [],
   "source": [
    "import numpy as np"
   ]
  },
  {
   "cell_type": "code",
   "execution_count": null,
   "id": "5fe1d968-5e38-4938-9c66-318e08163301",
   "metadata": {},
   "outputs": [],
   "source": [
    "lows_C = np.array((2.128, 2.371, 2.874, 3.728))\n",
    "\n",
    "highs_C = np.array([13.6, 14.387, 14.585, 15.164])"
   ]
  },
  {
   "cell_type": "code",
   "execution_count": null,
   "id": "3011e403-4ca2-4228-8ad9-04942900d22b",
   "metadata": {},
   "outputs": [],
   "source": [
    "highs_C"
   ]
  },
  {
   "cell_type": "markdown",
   "id": "8da0df0a-782a-4bda-aee3-610d111d9bd3",
   "metadata": {},
   "source": [
    "$$ T(F) = \\frac{9}{5}T(C)+32 $$"
   ]
  },
  {
   "cell_type": "code",
   "execution_count": null,
   "id": "db1fa6e8-dbfa-4fa1-94b5-2815a8e13cc2",
   "metadata": {},
   "outputs": [],
   "source": [
    "(9/5) * highs_C + 32"
   ]
  },
  {
   "cell_type": "markdown",
   "id": "74dd3180-1d12-4ceb-99d9-424fe62a3561",
   "metadata": {},
   "source": [
    "<img src = '../images/C_to_F_math.png' width = 600>"
   ]
  },
  {
   "cell_type": "code",
   "execution_count": null,
   "id": "eaa638ae-8588-4a1f-9a3d-dfab7e9fc018",
   "metadata": {},
   "outputs": [],
   "source": [
    "def cel_to_far(celsius):\n",
    "    return (9/5) * celsius + 32"
   ]
  },
  {
   "cell_type": "code",
   "execution_count": null,
   "id": "7da2f44e-9e35-47b5-96cf-1650ee620bfb",
   "metadata": {},
   "outputs": [],
   "source": [
    "cel_to_far(highs_C)"
   ]
  },
  {
   "cell_type": "code",
   "execution_count": null,
   "id": "5cf69472-6bc5-4a59-833c-d613f796173b",
   "metadata": {},
   "outputs": [],
   "source": [
    "highs_F = cel_to_far(highs_C)\n",
    "highs_F"
   ]
  },
  {
   "cell_type": "markdown",
   "id": "470a9764-56a6-463e-abdc-edd813d5a67e",
   "metadata": {
    "tags": []
   },
   "source": [
    "## 2. Math Between Two Arrays"
   ]
  },
  {
   "cell_type": "code",
   "execution_count": null,
   "id": "25c4e71d-296f-4b54-9a59-97f902fe7433",
   "metadata": {},
   "outputs": [],
   "source": [
    "diff = highs_C - lows_C\n",
    "diff"
   ]
  },
  {
   "cell_type": "markdown",
   "id": "9580313c-0665-41d0-a2c4-7121eac856c0",
   "metadata": {},
   "source": [
    "<img src = '../images/math_2_arrays.png' width = 600>"
   ]
  },
  {
   "cell_type": "markdown",
   "id": "d35c2e77-d366-484a-a9ce-e69de48cc99a",
   "metadata": {
    "tags": []
   },
   "source": [
    "# NumPy Functions\n",
    "\n",
    "Hit `tab` after `np.` to see all the functions available:"
   ]
  },
  {
   "cell_type": "code",
   "execution_count": null,
   "id": "be29f19d-4d90-4474-9a7c-8417372e9e33",
   "metadata": {},
   "outputs": [],
   "source": [
    "np."
   ]
  },
  {
   "cell_type": "code",
   "execution_count": null,
   "id": "4a02b11b-e120-4795-99eb-710d334ff270",
   "metadata": {},
   "outputs": [],
   "source": [
    "np.round(highs_C)"
   ]
  },
  {
   "cell_type": "markdown",
   "id": "b55e2c06-5ad4-4106-8812-dc0eded7c5e1",
   "metadata": {},
   "source": [
    "Press `shift` + `tab` after typing the function to see its details:"
   ]
  },
  {
   "cell_type": "code",
   "execution_count": null,
   "id": "c2501fc6-c4e9-4717-9c5d-188afc5459ae",
   "metadata": {},
   "outputs": [],
   "source": [
    "np.round"
   ]
  },
  {
   "cell_type": "markdown",
   "id": "3e233b76-4fe6-40da-b251-9a575dd59e81",
   "metadata": {},
   "source": [
    "#### Array -> Single Value"
   ]
  },
  {
   "cell_type": "code",
   "execution_count": null,
   "id": "406f0065-9ec2-4edc-b273-82fb3044807d",
   "metadata": {},
   "outputs": [],
   "source": [
    "np.prod  # multiple all elements together\n",
    "np.sum  # add all elements together\n",
    "np.all  # test whether all elements are true values\n",
    "np.any  # test wether any of the elements are true values\n",
    "np.count_nonzero  # count the number of nonzero elements"
   ]
  },
  {
   "cell_type": "markdown",
   "id": "ac459864-317c-4109-b21c-c25be5a619ac",
   "metadata": {},
   "source": [
    "#### Array -> Array"
   ]
  },
  {
   "cell_type": "code",
   "execution_count": null,
   "id": "8760c8e1-3462-46ec-860e-efbf9501695d",
   "metadata": {},
   "outputs": [],
   "source": [
    "np.diff # difference between adjacent elements\n",
    "np.round # round each element to the nearest integer\n",
    "np.cumprod # for each element, multiply all of the elements so far\n",
    "np.cumsum # for each element, add all of the elements so far\n",
    "np.exp # exponentiate each element\n",
    "np.log # take the natural logarithm of each element\n",
    "np.sqrt # take the square root of each element\n",
    "np.sort # sort the elements"
   ]
  },
  {
   "cell_type": "markdown",
   "id": "a339ae62-059a-4853-8db1-1990b06fb1ba",
   "metadata": {},
   "source": [
    "#### Array of Strings -> Array"
   ]
  },
  {
   "cell_type": "code",
   "execution_count": null,
   "id": "86fd9298-5a63-4bb4-965f-c583c777a3af",
   "metadata": {},
   "outputs": [],
   "source": [
    "np.char.lower # lowercase each element\n",
    "np.char.upper # uppercase each element\n",
    "np.char.strip # remove spaces at the beginning or end of each element\n",
    "np.char.isalpha # whether each element is only letters (no numbers or symbols)\n",
    "np.char.isnumeric # whether each element is only numeric (no letters or symbols)"
   ]
  }
 ],
 "metadata": {
  "kernelspec": {
   "display_name": "Python 3 (ipykernel)",
   "language": "python",
   "name": "python3"
  },
  "language_info": {
   "codemirror_mode": {
    "name": "ipython",
    "version": 3
   },
   "file_extension": ".py",
   "mimetype": "text/x-python",
   "name": "python",
   "nbconvert_exporter": "python",
   "pygments_lexer": "ipython3",
   "version": "3.9.7"
  }
 },
 "nbformat": 4,
 "nbformat_minor": 5
}
