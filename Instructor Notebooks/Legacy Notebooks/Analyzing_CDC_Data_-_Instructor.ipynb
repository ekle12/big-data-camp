{
 "cells": [
  {
   "cell_type": "code",
   "execution_count": 4,
   "metadata": {},
   "outputs": [],
   "source": [
    "import pandas as pd\n",
    "import numpy as np\n",
    "import matplotlib.pyplot as plt"
   ]
  },
  {
   "cell_type": "code",
   "execution_count": 6,
   "metadata": {},
   "outputs": [],
   "source": [
    "data = pd.read_csv('../../Datasets/COVID/CDC_All_Deaths.csv')"
   ]
  },
  {
   "cell_type": "code",
   "execution_count": 7,
   "metadata": {},
   "outputs": [
    {
     "data": {
      "text/html": [
       "<div>\n",
       "<style scoped>\n",
       "    .dataframe tbody tr th:only-of-type {\n",
       "        vertical-align: middle;\n",
       "    }\n",
       "\n",
       "    .dataframe tbody tr th {\n",
       "        vertical-align: top;\n",
       "    }\n",
       "\n",
       "    .dataframe thead th {\n",
       "        text-align: right;\n",
       "    }\n",
       "</style>\n",
       "<table border=\"1\" class=\"dataframe\">\n",
       "  <thead>\n",
       "    <tr style=\"text-align: right;\">\n",
       "      <th></th>\n",
       "      <th>Jurisdiction</th>\n",
       "      <th>Week Ending Date</th>\n",
       "      <th>State Abbreviation</th>\n",
       "      <th>Year</th>\n",
       "      <th>Week</th>\n",
       "      <th>Age Group</th>\n",
       "      <th>Number of Deaths</th>\n",
       "      <th>Time Period</th>\n",
       "      <th>Type</th>\n",
       "      <th>Suppress</th>\n",
       "      <th>Note</th>\n",
       "    </tr>\n",
       "  </thead>\n",
       "  <tbody>\n",
       "    <tr>\n",
       "      <th>0</th>\n",
       "      <td>Alabama</td>\n",
       "      <td>1/10/15</td>\n",
       "      <td>AL</td>\n",
       "      <td>2015</td>\n",
       "      <td>1</td>\n",
       "      <td>25-44 years</td>\n",
       "      <td>67</td>\n",
       "      <td>2015-2019</td>\n",
       "      <td>Predicted (weighted)</td>\n",
       "      <td>NaN</td>\n",
       "      <td>NaN</td>\n",
       "    </tr>\n",
       "    <tr>\n",
       "      <th>1</th>\n",
       "      <td>Alabama</td>\n",
       "      <td>1/17/15</td>\n",
       "      <td>AL</td>\n",
       "      <td>2015</td>\n",
       "      <td>2</td>\n",
       "      <td>25-44 years</td>\n",
       "      <td>49</td>\n",
       "      <td>2015-2019</td>\n",
       "      <td>Predicted (weighted)</td>\n",
       "      <td>NaN</td>\n",
       "      <td>NaN</td>\n",
       "    </tr>\n",
       "    <tr>\n",
       "      <th>2</th>\n",
       "      <td>Alabama</td>\n",
       "      <td>1/24/15</td>\n",
       "      <td>AL</td>\n",
       "      <td>2015</td>\n",
       "      <td>3</td>\n",
       "      <td>25-44 years</td>\n",
       "      <td>55</td>\n",
       "      <td>2015-2019</td>\n",
       "      <td>Predicted (weighted)</td>\n",
       "      <td>NaN</td>\n",
       "      <td>NaN</td>\n",
       "    </tr>\n",
       "    <tr>\n",
       "      <th>3</th>\n",
       "      <td>Alabama</td>\n",
       "      <td>1/31/15</td>\n",
       "      <td>AL</td>\n",
       "      <td>2015</td>\n",
       "      <td>4</td>\n",
       "      <td>25-44 years</td>\n",
       "      <td>59</td>\n",
       "      <td>2015-2019</td>\n",
       "      <td>Predicted (weighted)</td>\n",
       "      <td>NaN</td>\n",
       "      <td>NaN</td>\n",
       "    </tr>\n",
       "    <tr>\n",
       "      <th>4</th>\n",
       "      <td>Alabama</td>\n",
       "      <td>2/7/15</td>\n",
       "      <td>AL</td>\n",
       "      <td>2015</td>\n",
       "      <td>5</td>\n",
       "      <td>25-44 years</td>\n",
       "      <td>47</td>\n",
       "      <td>2015-2019</td>\n",
       "      <td>Predicted (weighted)</td>\n",
       "      <td>NaN</td>\n",
       "      <td>NaN</td>\n",
       "    </tr>\n",
       "  </tbody>\n",
       "</table>\n",
       "</div>"
      ],
      "text/plain": [
       "  Jurisdiction Week Ending Date State Abbreviation  Year  Week    Age Group  \\\n",
       "0      Alabama          1/10/15                 AL  2015     1  25-44 years   \n",
       "1      Alabama          1/17/15                 AL  2015     2  25-44 years   \n",
       "2      Alabama          1/24/15                 AL  2015     3  25-44 years   \n",
       "3      Alabama          1/31/15                 AL  2015     4  25-44 years   \n",
       "4      Alabama           2/7/15                 AL  2015     5  25-44 years   \n",
       "\n",
       "   Number of Deaths Time Period                  Type Suppress Note  \n",
       "0                67   2015-2019  Predicted (weighted)      NaN  NaN  \n",
       "1                49   2015-2019  Predicted (weighted)      NaN  NaN  \n",
       "2                55   2015-2019  Predicted (weighted)      NaN  NaN  \n",
       "3                59   2015-2019  Predicted (weighted)      NaN  NaN  \n",
       "4                47   2015-2019  Predicted (weighted)      NaN  NaN  "
      ]
     },
     "execution_count": 7,
     "metadata": {},
     "output_type": "execute_result"
    }
   ],
   "source": [
    "data.head()"
   ]
  },
  {
   "cell_type": "code",
   "execution_count": 8,
   "metadata": {},
   "outputs": [],
   "source": [
    "data.drop(['Time Period', 'Type', 'Suppress', 'Note'], axis = 1, inplace = True)"
   ]
  },
  {
   "cell_type": "code",
   "execution_count": 9,
   "metadata": {},
   "outputs": [
    {
     "data": {
      "text/html": [
       "<div>\n",
       "<style scoped>\n",
       "    .dataframe tbody tr th:only-of-type {\n",
       "        vertical-align: middle;\n",
       "    }\n",
       "\n",
       "    .dataframe tbody tr th {\n",
       "        vertical-align: top;\n",
       "    }\n",
       "\n",
       "    .dataframe thead th {\n",
       "        text-align: right;\n",
       "    }\n",
       "</style>\n",
       "<table border=\"1\" class=\"dataframe\">\n",
       "  <thead>\n",
       "    <tr style=\"text-align: right;\">\n",
       "      <th></th>\n",
       "      <th>Jurisdiction</th>\n",
       "      <th>Week Ending Date</th>\n",
       "      <th>State Abbreviation</th>\n",
       "      <th>Year</th>\n",
       "      <th>Week</th>\n",
       "      <th>Age Group</th>\n",
       "      <th>Number of Deaths</th>\n",
       "    </tr>\n",
       "  </thead>\n",
       "  <tbody>\n",
       "    <tr>\n",
       "      <th>0</th>\n",
       "      <td>Alabama</td>\n",
       "      <td>1/10/15</td>\n",
       "      <td>AL</td>\n",
       "      <td>2015</td>\n",
       "      <td>1</td>\n",
       "      <td>25-44 years</td>\n",
       "      <td>67</td>\n",
       "    </tr>\n",
       "    <tr>\n",
       "      <th>1</th>\n",
       "      <td>Alabama</td>\n",
       "      <td>1/17/15</td>\n",
       "      <td>AL</td>\n",
       "      <td>2015</td>\n",
       "      <td>2</td>\n",
       "      <td>25-44 years</td>\n",
       "      <td>49</td>\n",
       "    </tr>\n",
       "    <tr>\n",
       "      <th>2</th>\n",
       "      <td>Alabama</td>\n",
       "      <td>1/24/15</td>\n",
       "      <td>AL</td>\n",
       "      <td>2015</td>\n",
       "      <td>3</td>\n",
       "      <td>25-44 years</td>\n",
       "      <td>55</td>\n",
       "    </tr>\n",
       "    <tr>\n",
       "      <th>3</th>\n",
       "      <td>Alabama</td>\n",
       "      <td>1/31/15</td>\n",
       "      <td>AL</td>\n",
       "      <td>2015</td>\n",
       "      <td>4</td>\n",
       "      <td>25-44 years</td>\n",
       "      <td>59</td>\n",
       "    </tr>\n",
       "    <tr>\n",
       "      <th>4</th>\n",
       "      <td>Alabama</td>\n",
       "      <td>2/7/15</td>\n",
       "      <td>AL</td>\n",
       "      <td>2015</td>\n",
       "      <td>5</td>\n",
       "      <td>25-44 years</td>\n",
       "      <td>47</td>\n",
       "    </tr>\n",
       "  </tbody>\n",
       "</table>\n",
       "</div>"
      ],
      "text/plain": [
       "  Jurisdiction Week Ending Date State Abbreviation  Year  Week    Age Group  \\\n",
       "0      Alabama          1/10/15                 AL  2015     1  25-44 years   \n",
       "1      Alabama          1/17/15                 AL  2015     2  25-44 years   \n",
       "2      Alabama          1/24/15                 AL  2015     3  25-44 years   \n",
       "3      Alabama          1/31/15                 AL  2015     4  25-44 years   \n",
       "4      Alabama           2/7/15                 AL  2015     5  25-44 years   \n",
       "\n",
       "   Number of Deaths  \n",
       "0                67  \n",
       "1                49  \n",
       "2                55  \n",
       "3                59  \n",
       "4                47  "
      ]
     },
     "execution_count": 9,
     "metadata": {},
     "output_type": "execute_result"
    }
   ],
   "source": [
    "data.head()"
   ]
  },
  {
   "cell_type": "code",
   "execution_count": 10,
   "metadata": {},
   "outputs": [],
   "source": [
    "data.index = data['Week']\n",
    "data.drop('Week', axis = 1, inplace = True)"
   ]
  },
  {
   "cell_type": "code",
   "execution_count": 11,
   "metadata": {},
   "outputs": [
    {
     "data": {
      "text/html": [
       "<div>\n",
       "<style scoped>\n",
       "    .dataframe tbody tr th:only-of-type {\n",
       "        vertical-align: middle;\n",
       "    }\n",
       "\n",
       "    .dataframe tbody tr th {\n",
       "        vertical-align: top;\n",
       "    }\n",
       "\n",
       "    .dataframe thead th {\n",
       "        text-align: right;\n",
       "    }\n",
       "</style>\n",
       "<table border=\"1\" class=\"dataframe\">\n",
       "  <thead>\n",
       "    <tr style=\"text-align: right;\">\n",
       "      <th></th>\n",
       "      <th>Jurisdiction</th>\n",
       "      <th>Week Ending Date</th>\n",
       "      <th>State Abbreviation</th>\n",
       "      <th>Year</th>\n",
       "      <th>Age Group</th>\n",
       "      <th>Number of Deaths</th>\n",
       "    </tr>\n",
       "    <tr>\n",
       "      <th>Week</th>\n",
       "      <th></th>\n",
       "      <th></th>\n",
       "      <th></th>\n",
       "      <th></th>\n",
       "      <th></th>\n",
       "      <th></th>\n",
       "    </tr>\n",
       "  </thead>\n",
       "  <tbody>\n",
       "    <tr>\n",
       "      <th>1</th>\n",
       "      <td>Alabama</td>\n",
       "      <td>1/10/15</td>\n",
       "      <td>AL</td>\n",
       "      <td>2015</td>\n",
       "      <td>25-44 years</td>\n",
       "      <td>67</td>\n",
       "    </tr>\n",
       "    <tr>\n",
       "      <th>2</th>\n",
       "      <td>Alabama</td>\n",
       "      <td>1/17/15</td>\n",
       "      <td>AL</td>\n",
       "      <td>2015</td>\n",
       "      <td>25-44 years</td>\n",
       "      <td>49</td>\n",
       "    </tr>\n",
       "    <tr>\n",
       "      <th>3</th>\n",
       "      <td>Alabama</td>\n",
       "      <td>1/24/15</td>\n",
       "      <td>AL</td>\n",
       "      <td>2015</td>\n",
       "      <td>25-44 years</td>\n",
       "      <td>55</td>\n",
       "    </tr>\n",
       "    <tr>\n",
       "      <th>4</th>\n",
       "      <td>Alabama</td>\n",
       "      <td>1/31/15</td>\n",
       "      <td>AL</td>\n",
       "      <td>2015</td>\n",
       "      <td>25-44 years</td>\n",
       "      <td>59</td>\n",
       "    </tr>\n",
       "    <tr>\n",
       "      <th>5</th>\n",
       "      <td>Alabama</td>\n",
       "      <td>2/7/15</td>\n",
       "      <td>AL</td>\n",
       "      <td>2015</td>\n",
       "      <td>25-44 years</td>\n",
       "      <td>47</td>\n",
       "    </tr>\n",
       "  </tbody>\n",
       "</table>\n",
       "</div>"
      ],
      "text/plain": [
       "     Jurisdiction Week Ending Date State Abbreviation  Year    Age Group  \\\n",
       "Week                                                                       \n",
       "1         Alabama          1/10/15                 AL  2015  25-44 years   \n",
       "2         Alabama          1/17/15                 AL  2015  25-44 years   \n",
       "3         Alabama          1/24/15                 AL  2015  25-44 years   \n",
       "4         Alabama          1/31/15                 AL  2015  25-44 years   \n",
       "5         Alabama           2/7/15                 AL  2015  25-44 years   \n",
       "\n",
       "      Number of Deaths  \n",
       "Week                    \n",
       "1                   67  \n",
       "2                   49  \n",
       "3                   55  \n",
       "4                   59  \n",
       "5                   47  "
      ]
     },
     "execution_count": 11,
     "metadata": {},
     "output_type": "execute_result"
    }
   ],
   "source": [
    "data.head()"
   ]
  },
  {
   "cell_type": "code",
   "execution_count": 12,
   "metadata": {},
   "outputs": [],
   "source": [
    "data_2015 = data[(data['Year'] == 2015)]\n",
    "data_2016 = data[(data['Year'] == 2016)]\n",
    "data_2017 = data[(data['Year'] == 2017)]\n",
    "data_2018 = data[(data['Year'] == 2018)]\n",
    "data_2019 = data[(data['Year'] == 2019)]\n",
    "data_2020 = data[(data['Year'] == 2020)]"
   ]
  },
  {
   "cell_type": "code",
   "execution_count": 13,
   "metadata": {},
   "outputs": [
    {
     "data": {
      "text/html": [
       "<div>\n",
       "<style scoped>\n",
       "    .dataframe tbody tr th:only-of-type {\n",
       "        vertical-align: middle;\n",
       "    }\n",
       "\n",
       "    .dataframe tbody tr th {\n",
       "        vertical-align: top;\n",
       "    }\n",
       "\n",
       "    .dataframe thead th {\n",
       "        text-align: right;\n",
       "    }\n",
       "</style>\n",
       "<table border=\"1\" class=\"dataframe\">\n",
       "  <thead>\n",
       "    <tr style=\"text-align: right;\">\n",
       "      <th></th>\n",
       "      <th>Jurisdiction</th>\n",
       "      <th>Week Ending Date</th>\n",
       "      <th>State Abbreviation</th>\n",
       "      <th>Year</th>\n",
       "      <th>Age Group</th>\n",
       "      <th>Number of Deaths</th>\n",
       "    </tr>\n",
       "    <tr>\n",
       "      <th>Week</th>\n",
       "      <th></th>\n",
       "      <th></th>\n",
       "      <th></th>\n",
       "      <th></th>\n",
       "      <th></th>\n",
       "      <th></th>\n",
       "    </tr>\n",
       "  </thead>\n",
       "  <tbody>\n",
       "    <tr>\n",
       "      <th>21</th>\n",
       "      <td>Wyoming</td>\n",
       "      <td>5/23/20</td>\n",
       "      <td>WY</td>\n",
       "      <td>2020</td>\n",
       "      <td>85 years and older</td>\n",
       "      <td>30</td>\n",
       "    </tr>\n",
       "    <tr>\n",
       "      <th>22</th>\n",
       "      <td>Wyoming</td>\n",
       "      <td>5/30/20</td>\n",
       "      <td>WY</td>\n",
       "      <td>2020</td>\n",
       "      <td>85 years and older</td>\n",
       "      <td>22</td>\n",
       "    </tr>\n",
       "    <tr>\n",
       "      <th>23</th>\n",
       "      <td>Wyoming</td>\n",
       "      <td>6/6/20</td>\n",
       "      <td>WY</td>\n",
       "      <td>2020</td>\n",
       "      <td>85 years and older</td>\n",
       "      <td>28</td>\n",
       "    </tr>\n",
       "    <tr>\n",
       "      <th>24</th>\n",
       "      <td>Wyoming</td>\n",
       "      <td>6/13/20</td>\n",
       "      <td>WY</td>\n",
       "      <td>2020</td>\n",
       "      <td>85 years and older</td>\n",
       "      <td>28</td>\n",
       "    </tr>\n",
       "    <tr>\n",
       "      <th>25</th>\n",
       "      <td>Wyoming</td>\n",
       "      <td>6/20/20</td>\n",
       "      <td>WY</td>\n",
       "      <td>2020</td>\n",
       "      <td>85 years and older</td>\n",
       "      <td>29</td>\n",
       "    </tr>\n",
       "  </tbody>\n",
       "</table>\n",
       "</div>"
      ],
      "text/plain": [
       "     Jurisdiction Week Ending Date State Abbreviation  Year  \\\n",
       "Week                                                          \n",
       "21        Wyoming          5/23/20                 WY  2020   \n",
       "22        Wyoming          5/30/20                 WY  2020   \n",
       "23        Wyoming           6/6/20                 WY  2020   \n",
       "24        Wyoming          6/13/20                 WY  2020   \n",
       "25        Wyoming          6/20/20                 WY  2020   \n",
       "\n",
       "               Age Group  Number of Deaths  \n",
       "Week                                        \n",
       "21    85 years and older                30  \n",
       "22    85 years and older                22  \n",
       "23    85 years and older                28  \n",
       "24    85 years and older                28  \n",
       "25    85 years and older                29  "
      ]
     },
     "execution_count": 13,
     "metadata": {},
     "output_type": "execute_result"
    }
   ],
   "source": [
    "data_2020.tail()"
   ]
  },
  {
   "cell_type": "code",
   "execution_count": 14,
   "metadata": {},
   "outputs": [],
   "source": [
    "total_deaths_2015 = data_2015.groupby('Week')[['Number of Deaths']].sum()\n",
    "total_deaths_2016 = data_2016.groupby('Week')[['Number of Deaths']].sum()\n",
    "total_deaths_2017 = data_2017.groupby('Week')[['Number of Deaths']].sum()\n",
    "total_deaths_2018 = data_2018.groupby('Week')[['Number of Deaths']].sum()\n",
    "total_deaths_2019 = data_2019.groupby('Week')[['Number of Deaths']].sum()\n",
    "total_deaths_2020 = data_2020.groupby('Week')[['Number of Deaths']].sum()"
   ]
  },
  {
   "cell_type": "code",
   "execution_count": 15,
   "metadata": {},
   "outputs": [
    {
     "data": {
      "text/html": [
       "<div>\n",
       "<style scoped>\n",
       "    .dataframe tbody tr th:only-of-type {\n",
       "        vertical-align: middle;\n",
       "    }\n",
       "\n",
       "    .dataframe tbody tr th {\n",
       "        vertical-align: top;\n",
       "    }\n",
       "\n",
       "    .dataframe thead th {\n",
       "        text-align: right;\n",
       "    }\n",
       "</style>\n",
       "<table border=\"1\" class=\"dataframe\">\n",
       "  <thead>\n",
       "    <tr style=\"text-align: right;\">\n",
       "      <th></th>\n",
       "      <th>Number of Deaths</th>\n",
       "    </tr>\n",
       "    <tr>\n",
       "      <th>Week</th>\n",
       "      <th></th>\n",
       "    </tr>\n",
       "  </thead>\n",
       "  <tbody>\n",
       "    <tr>\n",
       "      <th>1</th>\n",
       "      <td>124193</td>\n",
       "    </tr>\n",
       "    <tr>\n",
       "      <th>2</th>\n",
       "      <td>122955</td>\n",
       "    </tr>\n",
       "    <tr>\n",
       "      <th>3</th>\n",
       "      <td>117981</td>\n",
       "    </tr>\n",
       "    <tr>\n",
       "      <th>4</th>\n",
       "      <td>115123</td>\n",
       "    </tr>\n",
       "    <tr>\n",
       "      <th>5</th>\n",
       "      <td>115203</td>\n",
       "    </tr>\n",
       "  </tbody>\n",
       "</table>\n",
       "</div>"
      ],
      "text/plain": [
       "      Number of Deaths\n",
       "Week                  \n",
       "1               124193\n",
       "2               122955\n",
       "3               117981\n",
       "4               115123\n",
       "5               115203"
      ]
     },
     "execution_count": 15,
     "metadata": {},
     "output_type": "execute_result"
    }
   ],
   "source": [
    "total_deaths_2015.head()"
   ]
  },
  {
   "cell_type": "code",
   "execution_count": 16,
   "metadata": {
    "scrolled": true
   },
   "outputs": [
    {
     "data": {
      "image/png": "[encoded data removed]",
      "text/plain": [
       "<Figure size 432x288 with 1 Axes>"
      ]
     },
     "metadata": {
      "needs_background": "light"
     },
     "output_type": "display_data"
    }
   ],
   "source": [
    "plt.plot(total_deaths_2015.index, total_deaths_2015['Number of Deaths'], label=\"2015\")\n",
    "plt.plot(total_deaths_2016.index, total_deaths_2016['Number of Deaths'], label=\"2016\")\n",
    "plt.plot(total_deaths_2017.index, total_deaths_2017['Number of Deaths'], label=\"2017\")\n",
    "plt.plot(total_deaths_2018.index, total_deaths_2018['Number of Deaths'], label=\"2018\")\n",
    "plt.plot(total_deaths_2019.index, total_deaths_2019['Number of Deaths'], label=\"2019\")\n",
    "plt.plot(total_deaths_2020.index, total_deaths_2020['Number of Deaths'], label=\"2020\")\n",
    "\n",
    "plt.legend()\n",
    "\n",
    "plt.title(\"Deaths by All Causes\", fontsize=20)\n",
    "\n",
    "plt.xlabel(\"Week\", fontsize=14)\n",
    "plt.ylabel(\"Number of Deaths\", fontsize=14);"
   ]
  },
  {
   "cell_type": "markdown",
   "metadata": {},
   "source": [
    "## Let's Simplify with a For Loop\n",
    "\n",
    "### First, find the years available in the data set"
   ]
  },
  {
   "cell_type": "code",
   "execution_count": 19,
   "metadata": {},
   "outputs": [
    {
     "name": "stdout",
     "output_type": "stream",
     "text": [
      "2015\n",
      "2016\n",
      "2017\n",
      "2018\n",
      "2019\n",
      "2020\n"
     ]
    }
   ],
   "source": [
    "data = pd.read_csv('../../Datasets/COVID/CDC_All_Deaths.csv')\n",
    "\n",
    "years = data[(data['Jurisdiction']== 'Illinois') ]\n",
    "years = years.drop_duplicates('Year')\n",
    "years = years['Year']\n",
    "for year in years:\n",
    "    print(year)"
   ]
  },
  {
   "cell_type": "markdown",
   "metadata": {},
   "source": [
    "## Now for each year\n",
    " - Get the data for that year\n",
    " - Sum up the number of deaths per week\n",
    " - Plot them on a graph"
   ]
  },
  {
   "cell_type": "code",
   "execution_count": 20,
   "metadata": {},
   "outputs": [
    {
     "data": {
      "text/plain": [
       "Text(0, 0.5, 'Number of Deaths')"
      ]
     },
     "execution_count": 20,
     "metadata": {},
     "output_type": "execute_result"
    },
    {
     "data": {
      "image/png": "[encoded data removed]",
      "text/plain": [
       "<Figure size 432x288 with 1 Axes>"
      ]
     },
     "metadata": {
      "needs_background": "light"
     },
     "output_type": "display_data"
    }
   ],
   "source": [
    "for year in years:\n",
    "    data_by_year = data[(data['Year'] == year)]\n",
    "    deaths_by_year = data_by_year.groupby('Week')[['Number of Deaths']].sum()\n",
    "    plt.plot(deaths_by_year.index, deaths_by_year['Number of Deaths'], label=year)\n",
    "    \n",
    "plt.legend()\n",
    "\n",
    "plt.title(\"Deaths by All Causes\", fontsize=20)\n",
    "\n",
    "plt.xlabel(\"Week\", fontsize=14)\n",
    "plt.ylabel(\"Number of Deaths\", fontsize=14)"
   ]
  }
 ],
 "metadata": {
  "kernelspec": {
   "display_name": "Python 3",
   "language": "python",
   "name": "python3"
  },
  "language_info": {
   "codemirror_mode": {
    "name": "ipython",
    "version": 3
   },
   "file_extension": ".py",
   "mimetype": "text/x-python",
   "name": "python",
   "nbconvert_exporter": "python",
   "pygments_lexer": "ipython3",
   "version": "3.8.5"
  }
 },
 "nbformat": 4,
 "nbformat_minor": 4
}
