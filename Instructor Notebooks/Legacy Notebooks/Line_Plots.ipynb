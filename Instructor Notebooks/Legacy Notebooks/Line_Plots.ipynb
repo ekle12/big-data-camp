{
 "cells": [
  {
   "cell_type": "markdown",
   "metadata": {},
   "source": [
    "# Line Plots\n",
    "\n",
    "Vi\n",
    "\n",
    "Possible problems with data:\n",
    "* Data Types\n",
    "* Indexing\n",
    "* Bad Data (NaN and nonsense numbers)\n",
    "* Values (wrong units)"
   ]
  },
  {
   "cell_type": "markdown",
   "metadata": {},
   "source": [
    "## Polar Vortex (January 2019) [CBS News Report](https://www.cbsnews.com/news/polar-vortex-2019-record-cold-grips-the-midwest-as-chicago-river-turns-to-ice/)\n"
   ]
  },
  {
   "cell_type": "markdown",
   "metadata": {},
   "source": [
    "Data for the node **001e06113cf1** has already been extracted into dataset `polarvortex.csv` for you to use."
   ]
  },
  {
   "cell_type": "code",
   "execution_count": 1,
   "metadata": {},
   "outputs": [],
   "source": [
    "import pandas as pd"
   ]
  },
  {
   "cell_type": "code",
   "execution_count": 2,
   "metadata": {},
   "outputs": [
    {
     "data": {
      "text/html": [
       "<div>\n",
       "<style scoped>\n",
       "    .dataframe tbody tr th:only-of-type {\n",
       "        vertical-align: middle;\n",
       "    }\n",
       "\n",
       "    .dataframe tbody tr th {\n",
       "        vertical-align: top;\n",
       "    }\n",
       "\n",
       "    .dataframe thead th {\n",
       "        text-align: right;\n",
       "    }\n",
       "</style>\n",
       "<table border=\"1\" class=\"dataframe\">\n",
       "  <thead>\n",
       "    <tr style=\"text-align: right;\">\n",
       "      <th></th>\n",
       "      <th>Unnamed: 0</th>\n",
       "      <th>timestamp</th>\n",
       "      <th>node_id</th>\n",
       "      <th>subsystem</th>\n",
       "      <th>sensor</th>\n",
       "      <th>parameter</th>\n",
       "      <th>value_raw</th>\n",
       "      <th>value_hrf</th>\n",
       "    </tr>\n",
       "  </thead>\n",
       "  <tbody>\n",
       "    <tr>\n",
       "      <th>0</th>\n",
       "      <td>4097665</td>\n",
       "      <td>2019-01-30 00:00:24</td>\n",
       "      <td>001e06113cf1</td>\n",
       "      <td>lightsense</td>\n",
       "      <td>apds_9006_020</td>\n",
       "      <td>intensity</td>\n",
       "      <td>65535</td>\n",
       "      <td>5267.409</td>\n",
       "    </tr>\n",
       "    <tr>\n",
       "      <th>1</th>\n",
       "      <td>4097666</td>\n",
       "      <td>2019-01-30 00:00:24</td>\n",
       "      <td>001e06113cf1</td>\n",
       "      <td>lightsense</td>\n",
       "      <td>hih6130</td>\n",
       "      <td>humidity</td>\n",
       "      <td>65535</td>\n",
       "      <td>100.0</td>\n",
       "    </tr>\n",
       "    <tr>\n",
       "      <th>2</th>\n",
       "      <td>4097667</td>\n",
       "      <td>2019-01-30 00:00:24</td>\n",
       "      <td>001e06113cf1</td>\n",
       "      <td>lightsense</td>\n",
       "      <td>hih6130</td>\n",
       "      <td>temperature</td>\n",
       "      <td>65535</td>\n",
       "      <td>125.01</td>\n",
       "    </tr>\n",
       "    <tr>\n",
       "      <th>3</th>\n",
       "      <td>4097668</td>\n",
       "      <td>2019-01-30 00:00:24</td>\n",
       "      <td>001e06113cf1</td>\n",
       "      <td>lightsense</td>\n",
       "      <td>hmc5883l</td>\n",
       "      <td>magnetic_field_x</td>\n",
       "      <td>-1</td>\n",
       "      <td>-0.909</td>\n",
       "    </tr>\n",
       "    <tr>\n",
       "      <th>4</th>\n",
       "      <td>4097669</td>\n",
       "      <td>2019-01-30 00:00:24</td>\n",
       "      <td>001e06113cf1</td>\n",
       "      <td>lightsense</td>\n",
       "      <td>hmc5883l</td>\n",
       "      <td>magnetic_field_y</td>\n",
       "      <td>-1</td>\n",
       "      <td>-0.909</td>\n",
       "    </tr>\n",
       "  </tbody>\n",
       "</table>\n",
       "</div>"
      ],
      "text/plain": [
       "   Unnamed: 0            timestamp       node_id   subsystem         sensor  \\\n",
       "0     4097665  2019-01-30 00:00:24  001e06113cf1  lightsense  apds_9006_020   \n",
       "1     4097666  2019-01-30 00:00:24  001e06113cf1  lightsense        hih6130   \n",
       "2     4097667  2019-01-30 00:00:24  001e06113cf1  lightsense        hih6130   \n",
       "3     4097668  2019-01-30 00:00:24  001e06113cf1  lightsense       hmc5883l   \n",
       "4     4097669  2019-01-30 00:00:24  001e06113cf1  lightsense       hmc5883l   \n",
       "\n",
       "          parameter value_raw value_hrf  \n",
       "0         intensity     65535  5267.409  \n",
       "1          humidity     65535     100.0  \n",
       "2       temperature     65535    125.01  \n",
       "3  magnetic_field_x        -1    -0.909  \n",
       "4  magnetic_field_y        -1    -0.909  "
      ]
     },
     "execution_count": 2,
     "metadata": {},
     "output_type": "execute_result"
    }
   ],
   "source": [
    "polar = pd.read_csv('.csv')\n",
    "polar.head()"
   ]
  },
  {
   "cell_type": "markdown",
   "metadata": {},
   "source": [
    "## Data Types\n",
    "\n",
    "A computer sees the values differently thant we do. Don't assume."
   ]
  },
  {
   "cell_type": "code",
   "execution_count": 4,
   "metadata": {},
   "outputs": [
    {
     "data": {
      "text/plain": [
       "Unnamed: 0     int64\n",
       "timestamp     object\n",
       "node_id       object\n",
       "subsystem     object\n",
       "sensor        object\n",
       "parameter     object\n",
       "value_raw     object\n",
       "value_hrf     object\n",
       "dtype: object"
      ]
     },
     "execution_count": 4,
     "metadata": {},
     "output_type": "execute_result"
    }
   ],
   "source": [
    "polar.dtypes"
   ]
  },
  {
   "cell_type": "code",
   "execution_count": 6,
   "metadata": {},
   "outputs": [],
   "source": [
    "polar['value_hrf'] = pd.to_numeric(polar['value_hrf'], errors='coerce')"
   ]
  },
  {
   "cell_type": "code",
   "execution_count": 8,
   "metadata": {},
   "outputs": [
    {
     "data": {
      "text/plain": [
       "dtype('float64')"
      ]
     },
     "execution_count": 8,
     "metadata": {},
     "output_type": "execute_result"
    }
   ],
   "source": [
    "polar['value_hrf'].dtypes"
   ]
  },
  {
   "cell_type": "code",
   "execution_count": 11,
   "metadata": {},
   "outputs": [
    {
     "data": {
      "text/plain": [
       "Unnamed: 0             int64\n",
       "timestamp     datetime64[ns]\n",
       "node_id               object\n",
       "subsystem             object\n",
       "sensor                object\n",
       "parameter             object\n",
       "value_raw             object\n",
       "value_hrf            float64\n",
       "dtype: object"
      ]
     },
     "execution_count": 11,
     "metadata": {},
     "output_type": "execute_result"
    }
   ],
   "source": [
    "polar.dtypes"
   ]
  },
  {
   "cell_type": "markdown",
   "metadata": {},
   "source": [
    "## Indexing"
   ]
  },
  {
   "cell_type": "markdown",
   "metadata": {},
   "source": [
    "Understading how our data is organized is important as we saw in the previous exercise. An important place to look is the index. By default, each reading is indexed starting with 0 all the way up to 169024. If we want to be able to work with this data, we need to organize it in a more understandable way, like time."
   ]
  },
  {
   "cell_type": "code",
   "execution_count": 16,
   "metadata": {},
   "outputs": [
    {
     "data": {
      "text/plain": [
       "Unnamed: 0     int64\n",
       "timestamp     object\n",
       "node_id       object\n",
       "subsystem     object\n",
       "sensor        object\n",
       "parameter     object\n",
       "value_raw     object\n",
       "value_hrf     object\n",
       "dtype: object"
      ]
     },
     "execution_count": 16,
     "metadata": {},
     "output_type": "execute_result"
    }
   ],
   "source": [
    "polar.dtypes"
   ]
  },
  {
   "cell_type": "code",
   "execution_count": 27,
   "metadata": {},
   "outputs": [
    {
     "data": {
      "text/html": [
       "<div>\n",
       "<style scoped>\n",
       "    .dataframe tbody tr th:only-of-type {\n",
       "        vertical-align: middle;\n",
       "    }\n",
       "\n",
       "    .dataframe tbody tr th {\n",
       "        vertical-align: top;\n",
       "    }\n",
       "\n",
       "    .dataframe thead th {\n",
       "        text-align: right;\n",
       "    }\n",
       "</style>\n",
       "<table border=\"1\" class=\"dataframe\">\n",
       "  <thead>\n",
       "    <tr style=\"text-align: right;\">\n",
       "      <th></th>\n",
       "      <th>Unnamed: 0</th>\n",
       "      <th>timestamp</th>\n",
       "      <th>node_id</th>\n",
       "      <th>subsystem</th>\n",
       "      <th>sensor</th>\n",
       "      <th>parameter</th>\n",
       "      <th>value_raw</th>\n",
       "      <th>value_hrf</th>\n",
       "    </tr>\n",
       "  </thead>\n",
       "  <tbody>\n",
       "    <tr>\n",
       "      <th>0</th>\n",
       "      <td>4097665</td>\n",
       "      <td>2019-01-30 00:00:24</td>\n",
       "      <td>001e06113cf1</td>\n",
       "      <td>lightsense</td>\n",
       "      <td>apds_9006_020</td>\n",
       "      <td>intensity</td>\n",
       "      <td>65535</td>\n",
       "      <td>5267.409</td>\n",
       "    </tr>\n",
       "    <tr>\n",
       "      <th>1</th>\n",
       "      <td>4097666</td>\n",
       "      <td>2019-01-30 00:00:24</td>\n",
       "      <td>001e06113cf1</td>\n",
       "      <td>lightsense</td>\n",
       "      <td>hih6130</td>\n",
       "      <td>humidity</td>\n",
       "      <td>65535</td>\n",
       "      <td>100.000</td>\n",
       "    </tr>\n",
       "    <tr>\n",
       "      <th>2</th>\n",
       "      <td>4097667</td>\n",
       "      <td>2019-01-30 00:00:24</td>\n",
       "      <td>001e06113cf1</td>\n",
       "      <td>lightsense</td>\n",
       "      <td>hih6130</td>\n",
       "      <td>temperature</td>\n",
       "      <td>65535</td>\n",
       "      <td>125.010</td>\n",
       "    </tr>\n",
       "    <tr>\n",
       "      <th>3</th>\n",
       "      <td>4097668</td>\n",
       "      <td>2019-01-30 00:00:24</td>\n",
       "      <td>001e06113cf1</td>\n",
       "      <td>lightsense</td>\n",
       "      <td>hmc5883l</td>\n",
       "      <td>magnetic_field_x</td>\n",
       "      <td>-1</td>\n",
       "      <td>-0.909</td>\n",
       "    </tr>\n",
       "    <tr>\n",
       "      <th>4</th>\n",
       "      <td>4097669</td>\n",
       "      <td>2019-01-30 00:00:24</td>\n",
       "      <td>001e06113cf1</td>\n",
       "      <td>lightsense</td>\n",
       "      <td>hmc5883l</td>\n",
       "      <td>magnetic_field_y</td>\n",
       "      <td>-1</td>\n",
       "      <td>-0.909</td>\n",
       "    </tr>\n",
       "  </tbody>\n",
       "</table>\n",
       "</div>"
      ],
      "text/plain": [
       "   Unnamed: 0           timestamp       node_id   subsystem         sensor  \\\n",
       "0     4097665 2019-01-30 00:00:24  001e06113cf1  lightsense  apds_9006_020   \n",
       "1     4097666 2019-01-30 00:00:24  001e06113cf1  lightsense        hih6130   \n",
       "2     4097667 2019-01-30 00:00:24  001e06113cf1  lightsense        hih6130   \n",
       "3     4097668 2019-01-30 00:00:24  001e06113cf1  lightsense       hmc5883l   \n",
       "4     4097669 2019-01-30 00:00:24  001e06113cf1  lightsense       hmc5883l   \n",
       "\n",
       "          parameter value_raw  value_hrf  \n",
       "0         intensity     65535   5267.409  \n",
       "1          humidity     65535    100.000  \n",
       "2       temperature     65535    125.010  \n",
       "3  magnetic_field_x        -1     -0.909  \n",
       "4  magnetic_field_y        -1     -0.909  "
      ]
     },
     "execution_count": 27,
     "metadata": {},
     "output_type": "execute_result"
    }
   ],
   "source": [
    "# Convert timestamp from string into date format\n",
    "polar['timestamp'] = pd.to_datetime(polar['timestamp'])\n",
    "polar.head()"
   ]
  },
  {
   "cell_type": "code",
   "execution_count": 33,
   "metadata": {},
   "outputs": [
    {
     "data": {
      "text/html": [
       "<div>\n",
       "<style scoped>\n",
       "    .dataframe tbody tr th:only-of-type {\n",
       "        vertical-align: middle;\n",
       "    }\n",
       "\n",
       "    .dataframe tbody tr th {\n",
       "        vertical-align: top;\n",
       "    }\n",
       "\n",
       "    .dataframe thead th {\n",
       "        text-align: right;\n",
       "    }\n",
       "</style>\n",
       "<table border=\"1\" class=\"dataframe\">\n",
       "  <thead>\n",
       "    <tr style=\"text-align: right;\">\n",
       "      <th></th>\n",
       "      <th>Unnamed: 0</th>\n",
       "      <th>timestamp</th>\n",
       "      <th>node_id</th>\n",
       "      <th>subsystem</th>\n",
       "      <th>sensor</th>\n",
       "      <th>parameter</th>\n",
       "      <th>value_raw</th>\n",
       "      <th>value_hrf</th>\n",
       "    </tr>\n",
       "    <tr>\n",
       "      <th>timestamp</th>\n",
       "      <th></th>\n",
       "      <th></th>\n",
       "      <th></th>\n",
       "      <th></th>\n",
       "      <th></th>\n",
       "      <th></th>\n",
       "      <th></th>\n",
       "      <th></th>\n",
       "    </tr>\n",
       "  </thead>\n",
       "  <tbody>\n",
       "    <tr>\n",
       "      <th>2019-01-30 00:00:24</th>\n",
       "      <td>4097665</td>\n",
       "      <td>2019-01-30 00:00:24</td>\n",
       "      <td>001e06113cf1</td>\n",
       "      <td>lightsense</td>\n",
       "      <td>apds_9006_020</td>\n",
       "      <td>intensity</td>\n",
       "      <td>65535</td>\n",
       "      <td>5267.409</td>\n",
       "    </tr>\n",
       "    <tr>\n",
       "      <th>2019-01-30 00:00:24</th>\n",
       "      <td>4097666</td>\n",
       "      <td>2019-01-30 00:00:24</td>\n",
       "      <td>001e06113cf1</td>\n",
       "      <td>lightsense</td>\n",
       "      <td>hih6130</td>\n",
       "      <td>humidity</td>\n",
       "      <td>65535</td>\n",
       "      <td>100.000</td>\n",
       "    </tr>\n",
       "    <tr>\n",
       "      <th>2019-01-30 00:00:24</th>\n",
       "      <td>4097667</td>\n",
       "      <td>2019-01-30 00:00:24</td>\n",
       "      <td>001e06113cf1</td>\n",
       "      <td>lightsense</td>\n",
       "      <td>hih6130</td>\n",
       "      <td>temperature</td>\n",
       "      <td>65535</td>\n",
       "      <td>125.010</td>\n",
       "    </tr>\n",
       "    <tr>\n",
       "      <th>2019-01-30 00:00:24</th>\n",
       "      <td>4097668</td>\n",
       "      <td>2019-01-30 00:00:24</td>\n",
       "      <td>001e06113cf1</td>\n",
       "      <td>lightsense</td>\n",
       "      <td>hmc5883l</td>\n",
       "      <td>magnetic_field_x</td>\n",
       "      <td>-1</td>\n",
       "      <td>-0.909</td>\n",
       "    </tr>\n",
       "    <tr>\n",
       "      <th>2019-01-30 00:00:24</th>\n",
       "      <td>4097669</td>\n",
       "      <td>2019-01-30 00:00:24</td>\n",
       "      <td>001e06113cf1</td>\n",
       "      <td>lightsense</td>\n",
       "      <td>hmc5883l</td>\n",
       "      <td>magnetic_field_y</td>\n",
       "      <td>-1</td>\n",
       "      <td>-0.909</td>\n",
       "    </tr>\n",
       "  </tbody>\n",
       "</table>\n",
       "</div>"
      ],
      "text/plain": [
       "                     Unnamed: 0           timestamp       node_id   subsystem  \\\n",
       "timestamp                                                                       \n",
       "2019-01-30 00:00:24     4097665 2019-01-30 00:00:24  001e06113cf1  lightsense   \n",
       "2019-01-30 00:00:24     4097666 2019-01-30 00:00:24  001e06113cf1  lightsense   \n",
       "2019-01-30 00:00:24     4097667 2019-01-30 00:00:24  001e06113cf1  lightsense   \n",
       "2019-01-30 00:00:24     4097668 2019-01-30 00:00:24  001e06113cf1  lightsense   \n",
       "2019-01-30 00:00:24     4097669 2019-01-30 00:00:24  001e06113cf1  lightsense   \n",
       "\n",
       "                            sensor         parameter value_raw  value_hrf  \n",
       "timestamp                                                                  \n",
       "2019-01-30 00:00:24  apds_9006_020         intensity     65535   5267.409  \n",
       "2019-01-30 00:00:24        hih6130          humidity     65535    100.000  \n",
       "2019-01-30 00:00:24        hih6130       temperature     65535    125.010  \n",
       "2019-01-30 00:00:24       hmc5883l  magnetic_field_x        -1     -0.909  \n",
       "2019-01-30 00:00:24       hmc5883l  magnetic_field_y        -1     -0.909  "
      ]
     },
     "execution_count": 33,
     "metadata": {},
     "output_type": "execute_result"
    }
   ],
   "source": [
    "polar.index = polar['timestamp']\n",
    "polar.head()"
   ]
  },
  {
   "cell_type": "code",
   "execution_count": 35,
   "metadata": {},
   "outputs": [
    {
     "data": {
      "text/html": [
       "<div>\n",
       "<style scoped>\n",
       "    .dataframe tbody tr th:only-of-type {\n",
       "        vertical-align: middle;\n",
       "    }\n",
       "\n",
       "    .dataframe tbody tr th {\n",
       "        vertical-align: top;\n",
       "    }\n",
       "\n",
       "    .dataframe thead th {\n",
       "        text-align: right;\n",
       "    }\n",
       "</style>\n",
       "<table border=\"1\" class=\"dataframe\">\n",
       "  <thead>\n",
       "    <tr style=\"text-align: right;\">\n",
       "      <th></th>\n",
       "      <th>Unnamed: 0</th>\n",
       "      <th>node_id</th>\n",
       "      <th>subsystem</th>\n",
       "      <th>sensor</th>\n",
       "      <th>parameter</th>\n",
       "      <th>value_raw</th>\n",
       "      <th>value_hrf</th>\n",
       "    </tr>\n",
       "    <tr>\n",
       "      <th>timestamp</th>\n",
       "      <th></th>\n",
       "      <th></th>\n",
       "      <th></th>\n",
       "      <th></th>\n",
       "      <th></th>\n",
       "      <th></th>\n",
       "      <th></th>\n",
       "    </tr>\n",
       "  </thead>\n",
       "  <tbody>\n",
       "    <tr>\n",
       "      <th>2019-01-30 00:00:24</th>\n",
       "      <td>4097665</td>\n",
       "      <td>001e06113cf1</td>\n",
       "      <td>lightsense</td>\n",
       "      <td>apds_9006_020</td>\n",
       "      <td>intensity</td>\n",
       "      <td>65535</td>\n",
       "      <td>5267.409</td>\n",
       "    </tr>\n",
       "    <tr>\n",
       "      <th>2019-01-30 00:00:24</th>\n",
       "      <td>4097666</td>\n",
       "      <td>001e06113cf1</td>\n",
       "      <td>lightsense</td>\n",
       "      <td>hih6130</td>\n",
       "      <td>humidity</td>\n",
       "      <td>65535</td>\n",
       "      <td>100.000</td>\n",
       "    </tr>\n",
       "    <tr>\n",
       "      <th>2019-01-30 00:00:24</th>\n",
       "      <td>4097667</td>\n",
       "      <td>001e06113cf1</td>\n",
       "      <td>lightsense</td>\n",
       "      <td>hih6130</td>\n",
       "      <td>temperature</td>\n",
       "      <td>65535</td>\n",
       "      <td>125.010</td>\n",
       "    </tr>\n",
       "    <tr>\n",
       "      <th>2019-01-30 00:00:24</th>\n",
       "      <td>4097668</td>\n",
       "      <td>001e06113cf1</td>\n",
       "      <td>lightsense</td>\n",
       "      <td>hmc5883l</td>\n",
       "      <td>magnetic_field_x</td>\n",
       "      <td>-1</td>\n",
       "      <td>-0.909</td>\n",
       "    </tr>\n",
       "    <tr>\n",
       "      <th>2019-01-30 00:00:24</th>\n",
       "      <td>4097669</td>\n",
       "      <td>001e06113cf1</td>\n",
       "      <td>lightsense</td>\n",
       "      <td>hmc5883l</td>\n",
       "      <td>magnetic_field_y</td>\n",
       "      <td>-1</td>\n",
       "      <td>-0.909</td>\n",
       "    </tr>\n",
       "  </tbody>\n",
       "</table>\n",
       "</div>"
      ],
      "text/plain": [
       "                     Unnamed: 0       node_id   subsystem         sensor  \\\n",
       "timestamp                                                                  \n",
       "2019-01-30 00:00:24     4097665  001e06113cf1  lightsense  apds_9006_020   \n",
       "2019-01-30 00:00:24     4097666  001e06113cf1  lightsense        hih6130   \n",
       "2019-01-30 00:00:24     4097667  001e06113cf1  lightsense        hih6130   \n",
       "2019-01-30 00:00:24     4097668  001e06113cf1  lightsense       hmc5883l   \n",
       "2019-01-30 00:00:24     4097669  001e06113cf1  lightsense       hmc5883l   \n",
       "\n",
       "                            parameter value_raw  value_hrf  \n",
       "timestamp                                                   \n",
       "2019-01-30 00:00:24         intensity     65535   5267.409  \n",
       "2019-01-30 00:00:24          humidity     65535    100.000  \n",
       "2019-01-30 00:00:24       temperature     65535    125.010  \n",
       "2019-01-30 00:00:24  magnetic_field_x        -1     -0.909  \n",
       "2019-01-30 00:00:24  magnetic_field_y        -1     -0.909  "
      ]
     },
     "execution_count": 35,
     "metadata": {},
     "output_type": "execute_result"
    }
   ],
   "source": [
    "polar = polar.drop(columns='timestamp')\n",
    "polar.head()"
   ]
  },
  {
   "cell_type": "code",
   "execution_count": 14,
   "metadata": {},
   "outputs": [],
   "source": [
    "cold = polar[(polar['timestamp'] >= '2019-01-30 00:00:00') & (polar['timestamp'] <= '2019-01-31 23:59:59')]"
   ]
  },
  {
   "cell_type": "code",
   "execution_count": 15,
   "metadata": {},
   "outputs": [
    {
     "data": {
      "text/html": [
       "<div>\n",
       "<style scoped>\n",
       "    .dataframe tbody tr th:only-of-type {\n",
       "        vertical-align: middle;\n",
       "    }\n",
       "\n",
       "    .dataframe tbody tr th {\n",
       "        vertical-align: top;\n",
       "    }\n",
       "\n",
       "    .dataframe thead th {\n",
       "        text-align: right;\n",
       "    }\n",
       "</style>\n",
       "<table border=\"1\" class=\"dataframe\">\n",
       "  <thead>\n",
       "    <tr style=\"text-align: right;\">\n",
       "      <th></th>\n",
       "      <th>timestamp</th>\n",
       "      <th>node_id</th>\n",
       "      <th>subsystem</th>\n",
       "      <th>sensor</th>\n",
       "      <th>parameter</th>\n",
       "      <th>value_raw</th>\n",
       "      <th>value_hrf</th>\n",
       "    </tr>\n",
       "  </thead>\n",
       "  <tbody>\n",
       "    <tr>\n",
       "      <th>4097665</th>\n",
       "      <td>2019-01-30 00:00:24</td>\n",
       "      <td>001e06113cf1</td>\n",
       "      <td>lightsense</td>\n",
       "      <td>apds_9006_020</td>\n",
       "      <td>intensity</td>\n",
       "      <td>65535</td>\n",
       "      <td>5267.409</td>\n",
       "    </tr>\n",
       "    <tr>\n",
       "      <th>4097666</th>\n",
       "      <td>2019-01-30 00:00:24</td>\n",
       "      <td>001e06113cf1</td>\n",
       "      <td>lightsense</td>\n",
       "      <td>hih6130</td>\n",
       "      <td>humidity</td>\n",
       "      <td>65535</td>\n",
       "      <td>100.0</td>\n",
       "    </tr>\n",
       "    <tr>\n",
       "      <th>4097667</th>\n",
       "      <td>2019-01-30 00:00:24</td>\n",
       "      <td>001e06113cf1</td>\n",
       "      <td>lightsense</td>\n",
       "      <td>hih6130</td>\n",
       "      <td>temperature</td>\n",
       "      <td>65535</td>\n",
       "      <td>125.01</td>\n",
       "    </tr>\n",
       "    <tr>\n",
       "      <th>4097668</th>\n",
       "      <td>2019-01-30 00:00:24</td>\n",
       "      <td>001e06113cf1</td>\n",
       "      <td>lightsense</td>\n",
       "      <td>hmc5883l</td>\n",
       "      <td>magnetic_field_x</td>\n",
       "      <td>-1</td>\n",
       "      <td>-0.909</td>\n",
       "    </tr>\n",
       "    <tr>\n",
       "      <th>4097669</th>\n",
       "      <td>2019-01-30 00:00:24</td>\n",
       "      <td>001e06113cf1</td>\n",
       "      <td>lightsense</td>\n",
       "      <td>hmc5883l</td>\n",
       "      <td>magnetic_field_y</td>\n",
       "      <td>-1</td>\n",
       "      <td>-0.909</td>\n",
       "    </tr>\n",
       "    <tr>\n",
       "      <th>...</th>\n",
       "      <td>...</td>\n",
       "      <td>...</td>\n",
       "      <td>...</td>\n",
       "      <td>...</td>\n",
       "      <td>...</td>\n",
       "      <td>...</td>\n",
       "      <td>...</td>\n",
       "    </tr>\n",
       "    <tr>\n",
       "      <th>4266685</th>\n",
       "      <td>2019-01-31 23:59:57</td>\n",
       "      <td>001e06113cf1</td>\n",
       "      <td>metsense</td>\n",
       "      <td>pr103j2</td>\n",
       "      <td>temperature</td>\n",
       "      <td>378</td>\n",
       "      <td>-16.7</td>\n",
       "    </tr>\n",
       "    <tr>\n",
       "      <th>4266686</th>\n",
       "      <td>2019-01-31 23:59:57</td>\n",
       "      <td>001e06113cf1</td>\n",
       "      <td>metsense</td>\n",
       "      <td>spv1840lr5h_b</td>\n",
       "      <td>intensity</td>\n",
       "      <td>NaN</td>\n",
       "      <td>66.26</td>\n",
       "    </tr>\n",
       "    <tr>\n",
       "      <th>4266687</th>\n",
       "      <td>2019-01-31 23:59:57</td>\n",
       "      <td>001e06113cf1</td>\n",
       "      <td>metsense</td>\n",
       "      <td>tmp112</td>\n",
       "      <td>temperature</td>\n",
       "      <td>65535</td>\n",
       "      <td>-254.0</td>\n",
       "    </tr>\n",
       "    <tr>\n",
       "      <th>4266688</th>\n",
       "      <td>2019-01-31 23:59:57</td>\n",
       "      <td>001e06113cf1</td>\n",
       "      <td>metsense</td>\n",
       "      <td>tsl250rd</td>\n",
       "      <td>intensity</td>\n",
       "      <td>12</td>\n",
       "      <td>0.604</td>\n",
       "    </tr>\n",
       "    <tr>\n",
       "      <th>4266689</th>\n",
       "      <td>2019-01-31 23:59:57</td>\n",
       "      <td>001e06113cf1</td>\n",
       "      <td>metsense</td>\n",
       "      <td>tsys01</td>\n",
       "      <td>temperature</td>\n",
       "      <td>16777215</td>\n",
       "      <td>214.75</td>\n",
       "    </tr>\n",
       "  </tbody>\n",
       "</table>\n",
       "<p>169025 rows × 7 columns</p>\n",
       "</div>"
      ],
      "text/plain": [
       "                  timestamp       node_id   subsystem         sensor  \\\n",
       "4097665 2019-01-30 00:00:24  001e06113cf1  lightsense  apds_9006_020   \n",
       "4097666 2019-01-30 00:00:24  001e06113cf1  lightsense        hih6130   \n",
       "4097667 2019-01-30 00:00:24  001e06113cf1  lightsense        hih6130   \n",
       "4097668 2019-01-30 00:00:24  001e06113cf1  lightsense       hmc5883l   \n",
       "4097669 2019-01-30 00:00:24  001e06113cf1  lightsense       hmc5883l   \n",
       "...                     ...           ...         ...            ...   \n",
       "4266685 2019-01-31 23:59:57  001e06113cf1    metsense        pr103j2   \n",
       "4266686 2019-01-31 23:59:57  001e06113cf1    metsense  spv1840lr5h_b   \n",
       "4266687 2019-01-31 23:59:57  001e06113cf1    metsense         tmp112   \n",
       "4266688 2019-01-31 23:59:57  001e06113cf1    metsense       tsl250rd   \n",
       "4266689 2019-01-31 23:59:57  001e06113cf1    metsense         tsys01   \n",
       "\n",
       "                parameter value_raw value_hrf  \n",
       "4097665         intensity     65535  5267.409  \n",
       "4097666          humidity     65535     100.0  \n",
       "4097667       temperature     65535    125.01  \n",
       "4097668  magnetic_field_x        -1    -0.909  \n",
       "4097669  magnetic_field_y        -1    -0.909  \n",
       "...                   ...       ...       ...  \n",
       "4266685       temperature       378     -16.7  \n",
       "4266686         intensity       NaN     66.26  \n",
       "4266687       temperature     65535    -254.0  \n",
       "4266688         intensity        12     0.604  \n",
       "4266689       temperature  16777215    214.75  \n",
       "\n",
       "[169025 rows x 7 columns]"
      ]
     },
     "execution_count": 15,
     "metadata": {},
     "output_type": "execute_result"
    }
   ],
   "source": [
    "cold"
   ]
  },
  {
   "cell_type": "code",
   "execution_count": 16,
   "metadata": {},
   "outputs": [],
   "source": [
    "cold.to_csv(\"polarvortex.csv\")"
   ]
  },
  {
   "cell_type": "markdown",
   "metadata": {},
   "source": [
    "It looks like we have multiple sensors. Let's see how many."
   ]
  },
  {
   "cell_type": "code",
   "execution_count": null,
   "metadata": {},
   "outputs": [],
   "source": [
    "polar_temps.loc[:,'value_hrf'] = polar_temps['value_hrf'].astype(float)"
   ]
  },
  {
   "cell_type": "code",
   "execution_count": null,
   "metadata": {},
   "outputs": [],
   "source": [
    "polar_temps['value_hrf'].describe()"
   ]
  },
  {
   "cell_type": "code",
   "execution_count": null,
   "metadata": {},
   "outputs": [],
   "source": []
  },
  {
   "cell_type": "markdown",
   "metadata": {},
   "source": [
    "Convert the temperatures to Fahrenheit from Celsius.\n",
    "\n",
    "$$ T(F) = \\frac{9}{5}T(C)+32 $$"
   ]
  },
  {
   "cell_type": "code",
   "execution_count": null,
   "metadata": {},
   "outputs": [],
   "source": [
    "def Celsius_to_Fahrenheit(temp_C):\n",
    "    temp_F = (temp_C * 9/5) + 32\n",
    "    return temp_F"
   ]
  },
  {
   "cell_type": "code",
   "execution_count": null,
   "metadata": {
    "scrolled": true
   },
   "outputs": [],
   "source": [
    "polar_temps.loc[:,'Temp_F'] = polar_temps['value_hrf'].apply(Celsius_to_Fahrenheit)\n",
    "polar_temps.head()"
   ]
  },
  {
   "cell_type": "markdown",
   "metadata": {},
   "source": [
    "### Let's get an idea of the range of temperature values.\n"
   ]
  },
  {
   "cell_type": "code",
   "execution_count": null,
   "metadata": {},
   "outputs": [],
   "source": [
    "polar_temps['Temp_F'].describe()"
   ]
  },
  {
   "cell_type": "markdown",
   "metadata": {},
   "source": [
    "There is a large variation in the temperatures (value_hrf) for the different sensors (-899&deg;F to 466&deg;F). Some of which violate the laws of physics and common sense."
   ]
  },
  {
   "cell_type": "code",
   "execution_count": null,
   "metadata": {},
   "outputs": [],
   "source": [
    "sensor_range = polar_temps.groupby(['sensor'])\n",
    "sensor_range['Temp_F'].describe()"
   ]
  },
  {
   "cell_type": "markdown",
   "metadata": {},
   "source": [
    "# Small Group\n",
    "\n",
    "During the polar vortex, record low temperatures were set around Chicago. On Northerly Island, the National Weather Service recorded a low of -22&deg;F One of the nodes (001e06113cf1) is on Michigan Avenue and Randolph Street by Millenium Park, not far from Northerly Island.\n",
    "\n",
    "### Which temperature sensor on this node is the most accurate?\n",
    "\n",
    "1. Import the January 2019 data for this node (\"Millenium_node.csv)\n",
    "2. Set the \"timestamp\" as the index.\n",
    "3. Find the names of all of the temperature sensors in the node.\n",
    "4. Convert the `value_hrf`'s to Farhenheit"
   ]
  },
  {
   "cell_type": "markdown",
   "metadata": {},
   "source": [
    "----\n",
    "# (Part 2)\n",
    "\n",
    "# Which AoT temperature sensor is the most accurate?\n",
    "\n",
    "Use the National Weather Service observations at Northerly Island to compare. The blue bars are what you want to pay attention to."
   ]
  },
  {
   "cell_type": "markdown",
   "metadata": {},
   "source": [
    "<img src = \"images/chart.jpeg\" height=400 width = 600 align=center>"
   ]
  },
  {
   "cell_type": "markdown",
   "metadata": {},
   "source": [
    "We can narrow our search by getting an idea of the temperature range for each sensor. Even though these values sit in the same column, we can use the `groupby` method to analyze each sensor individually."
   ]
  },
  {
   "cell_type": "code",
   "execution_count": null,
   "metadata": {},
   "outputs": [],
   "source": [
    "polar_temps.groupby('sensor')['Temp_F'].min()"
   ]
  },
  {
   "cell_type": "markdown",
   "metadata": {},
   "source": [
    "It looks like `pr103j2` might be the best candidate because its minimum is closest to the National Weather Services record low (-22&deg;C).\n",
    "\n",
    "Let's make a plot of its temperatures for the month of January."
   ]
  },
  {
   "cell_type": "code",
   "execution_count": null,
   "metadata": {},
   "outputs": [],
   "source": [
    "sensor_temp = polar_temps[polar_temps['sensor'] == 'pr103j2'] "
   ]
  },
  {
   "cell_type": "code",
   "execution_count": null,
   "metadata": {},
   "outputs": [],
   "source": [
    "sensor_temp.head()"
   ]
  },
  {
   "cell_type": "markdown",
   "metadata": {},
   "source": [
    "What was the minumum temperature for this node for the month of January?"
   ]
  },
  {
   "cell_type": "markdown",
   "metadata": {},
   "source": [
    "## Import Matplotlib\n",
    "\n",
    "We will use the pyplot module which provides full control of line styles, font and other properties. The style package gives support for easy-to-switch plotting “styles”.  We will use a style called \"seaborn\", but others are available."
   ]
  },
  {
   "cell_type": "code",
   "execution_count": null,
   "metadata": {},
   "outputs": [],
   "source": [
    "import matplotlib.pyplot as plt\n",
    "plt.style.use('seaborn') \n",
    "from pandas.plotting import register_matplotlib_converters\n",
    "register_matplotlib_converters()"
   ]
  },
  {
   "cell_type": "code",
   "execution_count": null,
   "metadata": {},
   "outputs": [],
   "source": [
    "plt.plot(sensor_temp.index, sensor_temp['Temp_F'])"
   ]
  },
  {
   "cell_type": "code",
   "execution_count": null,
   "metadata": {},
   "outputs": [],
   "source": [
    "#don't make the mistake of plt.xlabel = 'Time'. This will set the function to the string and you\n",
    "#won't be able to fix it unless you restart the kernel.\n",
    "\n",
    "plt.plot(sensor_temp.index, sensor_temp['Temp_F'])\n",
    "plt.xlabel('Time')\n",
    "plt.ylabel('Temperature_F')\n",
    "plt.title('Brrr... Polar Vortex')"
   ]
  },
  {
   "cell_type": "code",
   "execution_count": null,
   "metadata": {},
   "outputs": [],
   "source": [
    "plt.plot(sensor_temp.index, sensor_temp['Temp_F'], '-r')\n",
    "plt.xlabel('Time')\n",
    "plt.ylabel('Temperature_F')\n",
    "plt.title('Brrr... Polar Vortex')\n",
    "plt.figure(figsize=(7, 5))\n"
   ]
  },
  {
   "cell_type": "markdown",
   "metadata": {},
   "source": [
    "----\n",
    "# (Part 3)\n",
    "\n",
    "# Rolling Mean\n"
   ]
  },
  {
   "cell_type": "code",
   "execution_count": null,
   "metadata": {},
   "outputs": [],
   "source": [
    "sensor_temp_hourly = sensor_temp.Temp_F.resample('H').mean()"
   ]
  },
  {
   "cell_type": "code",
   "execution_count": null,
   "metadata": {},
   "outputs": [],
   "source": [
    "#plt.plot(sensor_temp_hourly, '--', label=\"Hourly Data\")\n",
    "plt.plot(sensor_temp.index, sensor_temp['Temp_F'], '-', label=\"Original Data\")\n",
    "\n",
    "window_size = 6\n",
    "label_string=\"Rolling mean window: %s\" % window_size\n",
    "plt.plot(sensor_temp_hourly.rolling(window_size).mean(), 'orange', label=label_string)\n",
    "\n",
    "plt.title(\"Rolling Mean Trendlines\", fontsize=20)\n",
    "\n",
    "plt.xlabel(\"Time\", fontsize=14)\n",
    "plt.ylabel(\"Temperature (°F)\", fontsize=14)\n",
    "\n",
    "plt.tick_params(labelsize=12)\n",
    "\n",
    "# Finding the best location to display the legend\n",
    "plt.legend(loc='best')\n",
    "\n",
    "fig = plt.gcf()\n",
    "fig.set_size_inches(15, 5) \n",
    "\n"
   ]
  },
  {
   "cell_type": "code",
   "execution_count": null,
   "metadata": {},
   "outputs": [],
   "source": []
  }
 ],
 "metadata": {
  "kernelspec": {
   "display_name": "Python 3",
   "language": "python",
   "name": "python3"
  },
  "language_info": {
   "codemirror_mode": {
    "name": "ipython",
    "version": 3
   },
   "file_extension": ".py",
   "mimetype": "text/x-python",
   "name": "python",
   "nbconvert_exporter": "python",
   "pygments_lexer": "ipython3",
   "version": "3.8.5"
  }
 },
 "nbformat": 4,
 "nbformat_minor": 4
}
