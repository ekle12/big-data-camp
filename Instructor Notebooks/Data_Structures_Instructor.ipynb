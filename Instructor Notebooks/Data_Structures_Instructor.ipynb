{
 "cells": [
  {
   "cell_type": "markdown",
   "id": "5f6d3218-693e-4f89-9710-58c25363b472",
   "metadata": {},
   "source": [
    "# Data Structures and Operations\n",
    "\n",
    "Doing data science requires us to understand the different \"flavors\" of data and how stored it is stored in a computer.\n",
    "\n",
    "<img src = '../images/supercomputer_lungs.jpg' width = 500>"
   ]
  },
  {
   "cell_type": "markdown",
   "id": "d3a32f82-85ef-4a51-ab50-fa8fb2887c44",
   "metadata": {
    "tags": []
   },
   "source": [
    "## Lists\n",
    "\n",
    "* A collection of items\n",
    "* Can be different data types\n",
    "* Ordered and changeable"
   ]
  },
  {
   "cell_type": "code",
   "execution_count": 56,
   "id": "c7f56eb7-c8a6-4898-b257-9372ee9cb545",
   "metadata": {},
   "outputs": [
    {
     "name": "stdout",
     "output_type": "stream",
     "text": [
      "['coffee', 'bread', 'eggs', 'orange juice']\n"
     ]
    }
   ],
   "source": [
    "food = ['coffee', 'bread', 'eggs', 'orange juice']\n",
    "\n",
    "print(food)"
   ]
  },
  {
   "cell_type": "code",
   "execution_count": 57,
   "id": "5cc63031-acba-4807-901b-c2a7f8700e4c",
   "metadata": {},
   "outputs": [
    {
     "data": {
      "text/plain": [
       "'bread'"
      ]
     },
     "execution_count": 57,
     "metadata": {},
     "output_type": "execute_result"
    }
   ],
   "source": [
    "food[1]"
   ]
  },
  {
   "cell_type": "code",
   "execution_count": null,
   "id": "fd595b8d-dbfb-4dc5-8389-def4f858774e",
   "metadata": {},
   "outputs": [],
   "source": [
    "food[3] = 'milk'"
   ]
  },
  {
   "cell_type": "code",
   "execution_count": null,
   "id": "ee0fa540-86ba-4138-b644-e58cee2f2f9d",
   "metadata": {},
   "outputs": [],
   "source": [
    "food"
   ]
  },
  {
   "cell_type": "markdown",
   "id": "9149581d-ffd9-48b7-882e-c594445a61d0",
   "metadata": {},
   "source": [
    "## Arrays \n",
    "* A list that contains a single data type"
   ]
  },
  {
   "cell_type": "code",
   "execution_count": 3,
   "id": "c8b94b75-157e-4119-b6c3-a3a056e520e0",
   "metadata": {},
   "outputs": [],
   "source": [
    "# Which lists are arrays?\n",
    "\n",
    "grocery_list = ['eggs', 'butter', 'flour']\n",
    "\n",
    "recipe_list = [1, 'cup', 'sugar']\n",
    "\n",
    "age_list = [3, 8, 10, 38, 40]\n",
    "\n",
    "number_list = [4, 'five', 'ten', 32]\n"
   ]
  },
  {
   "cell_type": "markdown",
   "id": "f3a9643d-9b7b-4a07-abe2-8bf66d515f01",
   "metadata": {
    "tags": []
   },
   "source": [
    "### Arrays in Tables\n",
    "\n"
   ]
  },
  {
   "cell_type": "markdown",
   "id": "4a263a27-ad00-4d4c-851b-cf6e709e208f",
   "metadata": {
    "tags": []
   },
   "source": [
    "#### Checkpoint: Where are the arrays?"
   ]
  },
  {
   "cell_type": "markdown",
   "id": "d012d947-b128-4288-9147-00efc9c9b3e3",
   "metadata": {},
   "source": [
    "\n",
    "\n",
    "<img src=\"../images/arrays_checkpoint.png\" width = 300>"
   ]
  },
  {
   "cell_type": "markdown",
   "id": "1cf14d25-24af-4f85-ba66-77db03ffee8f",
   "metadata": {
    "tags": []
   },
   "source": [
    "## Numpy\n",
    "\n",
    "Numpy is a fundamental library that is used for scientific computing. Its basic building block is an *ndarray*, or an \"n-dimensional array\".\n",
    "\n",
    "Suppose we want to make a NumPy array of the following data:\n",
    "\n",
    "<img src=\"../images/numpy_planets.png\" width = 300>"
   ]
  },
  {
   "cell_type": "markdown",
   "id": "d424f3f2-20a2-4969-9f5c-7223253640a7",
   "metadata": {},
   "source": [
    "#### 1D Arrays\n",
    "\n",
    "A \"1D array\" would be a single column of this table. We can make it by passing the list planets in the first column to the `array` method"
   ]
  },
  {
   "cell_type": "code",
   "execution_count": 5,
   "id": "bb8e2da6-1748-427f-94cf-3431ac831f1e",
   "metadata": {},
   "outputs": [],
   "source": [
    "import numpy as np\n",
    "planets = np.array(['mercury', 'venus', 'earth', 'mars', 'jupiter'])"
   ]
  },
  {
   "cell_type": "code",
   "execution_count": 6,
   "id": "bb93d5c9-d063-451b-9084-f90332edfe35",
   "metadata": {},
   "outputs": [
    {
     "data": {
      "text/plain": [
       "array(['mercury', 'venus', 'earth', 'mars', 'jupiter'], dtype='<U7')"
      ]
     },
     "execution_count": 6,
     "metadata": {},
     "output_type": "execute_result"
    }
   ],
   "source": [
    "planets"
   ]
  },
  {
   "cell_type": "markdown",
   "id": "329aefc9-af3f-4305-8cbf-4532547fdb17",
   "metadata": {},
   "source": [
    "#### 2D Arrays\n",
    "\n",
    "To make a \"2D array\" we can pass a \"list of lists\". (Notice the nested brackets):"
   ]
  },
  {
   "cell_type": "code",
   "execution_count": 7,
   "id": "bbf25e1a-000a-4080-809e-f17abf09f86d",
   "metadata": {},
   "outputs": [],
   "source": [
    "planets = np.array([['mercury', 'venus', 'earth', 'mars', 'jupiter'], \n",
    "                    [1,2,3,4,5], \n",
    "                    [0,0,1,2,79]])"
   ]
  },
  {
   "cell_type": "code",
   "execution_count": 8,
   "id": "64d4e843-aacf-45cd-910b-fe93a3f812be",
   "metadata": {},
   "outputs": [
    {
     "data": {
      "text/plain": [
       "array([['mercury', 'venus', 'earth', 'mars', 'jupiter'],\n",
       "       ['1', '2', '3', '4', '5'],\n",
       "       ['0', '0', '1', '2', '79']], dtype='<U21')"
      ]
     },
     "execution_count": 8,
     "metadata": {},
     "output_type": "execute_result"
    }
   ],
   "source": [
    "planets"
   ]
  },
  {
   "cell_type": "markdown",
   "id": "57816960-4218-4a91-9cd0-e3b14802375a",
   "metadata": {},
   "source": [
    "## Pandas\n",
    "\n",
    "Pandas is a data analysis and manipulation tool. It has a lot of similarities to NumPy, but we tend to use it more for data in tables. NumPy is faster on smaller datasets (<50K rows), but Pandas is better on larger ones (>500K rows)."
   ]
  },
  {
   "cell_type": "markdown",
   "id": "41ccd287-6191-4021-b3f8-221350e6255d",
   "metadata": {},
   "source": [
    "A 1D array in Pandas is called a `Series`."
   ]
  },
  {
   "cell_type": "code",
   "execution_count": 10,
   "id": "ccf2010c-e16b-45c6-963c-bf32905eab4a",
   "metadata": {},
   "outputs": [
    {
     "data": {
      "text/plain": [
       "0    mercury\n",
       "1      venus\n",
       "2      earth\n",
       "3       mars\n",
       "4    jupiter\n",
       "dtype: object"
      ]
     },
     "execution_count": 10,
     "metadata": {},
     "output_type": "execute_result"
    }
   ],
   "source": [
    "import pandas as pd\n",
    "\n",
    "pandas_planets = pd.Series(['mercury', 'venus', 'earth', 'mars', 'jupiter'])\n",
    "\n",
    "pandas_planets"
   ]
  },
  {
   "cell_type": "markdown",
   "id": "8e5294b6-f2d5-475a-aabe-89c5b746e5a2",
   "metadata": {},
   "source": [
    "Notice the difference compared to a NumPy 1D array. A Pandas series gives a \"labeled index\" to the array. This is very useful when it comes to tracking data in a table."
   ]
  },
  {
   "cell_type": "markdown",
   "id": "098ce98b-3fed-4805-a78b-14cd1d33d1f7",
   "metadata": {
    "tags": []
   },
   "source": [
    "## Pandas DataFrames\n",
    "\n",
    "A 2D array in Pandas is called a `DataFrame`. In addition to the labeled index for rows, we can also give each column a header.\n",
    "\n",
    "<img src=\"../images/pandas_planets.png\" width = 300>\n",
    "\n",
    "This is done by passing a `Dictionary` to the `DataFrame` method. A dictionary is a \"key-ordered pair\". In the case of a table, the key is the column header and a list is the data in that column."
   ]
  },
  {
   "cell_type": "code",
   "execution_count": 11,
   "id": "ce872abd-34f2-4464-9fc9-cf87bb230f57",
   "metadata": {},
   "outputs": [],
   "source": [
    "pandas_planets = {'A': ['Mercury', 'Venus', 'Earth', 'Mars', 'Jupiter'],\n",
    "        'B': [1, 2, 3, 4, 5], 'C': [0, 0, 1, 2, 79]}"
   ]
  },
  {
   "cell_type": "code",
   "execution_count": 12,
   "id": "4f50284c-aaed-4b43-8832-b142072789cc",
   "metadata": {},
   "outputs": [
    {
     "data": {
      "text/plain": [
       "{'A': ['Mercury', 'Venus', 'Earth', 'Mars', 'Jupiter'],\n",
       " 'B': [1, 2, 3, 4, 5],\n",
       " 'C': [0, 0, 1, 2, 79]}"
      ]
     },
     "execution_count": 12,
     "metadata": {},
     "output_type": "execute_result"
    }
   ],
   "source": [
    "pandas_planets"
   ]
  },
  {
   "cell_type": "code",
   "execution_count": 15,
   "id": "ac781585-75f6-4fe8-a0b2-aa63f0ca60a8",
   "metadata": {},
   "outputs": [
    {
     "data": {
      "text/html": [
       "<div>\n",
       "<style scoped>\n",
       "    .dataframe tbody tr th:only-of-type {\n",
       "        vertical-align: middle;\n",
       "    }\n",
       "\n",
       "    .dataframe tbody tr th {\n",
       "        vertical-align: top;\n",
       "    }\n",
       "\n",
       "    .dataframe thead th {\n",
       "        text-align: right;\n",
       "    }\n",
       "</style>\n",
       "<table border=\"1\" class=\"dataframe\">\n",
       "  <thead>\n",
       "    <tr style=\"text-align: right;\">\n",
       "      <th></th>\n",
       "      <th>A</th>\n",
       "      <th>B</th>\n",
       "      <th>C</th>\n",
       "    </tr>\n",
       "  </thead>\n",
       "  <tbody>\n",
       "    <tr>\n",
       "      <th>0</th>\n",
       "      <td>Mercury</td>\n",
       "      <td>1</td>\n",
       "      <td>0</td>\n",
       "    </tr>\n",
       "    <tr>\n",
       "      <th>1</th>\n",
       "      <td>Venus</td>\n",
       "      <td>2</td>\n",
       "      <td>0</td>\n",
       "    </tr>\n",
       "    <tr>\n",
       "      <th>2</th>\n",
       "      <td>Earth</td>\n",
       "      <td>3</td>\n",
       "      <td>1</td>\n",
       "    </tr>\n",
       "    <tr>\n",
       "      <th>3</th>\n",
       "      <td>Mars</td>\n",
       "      <td>4</td>\n",
       "      <td>2</td>\n",
       "    </tr>\n",
       "    <tr>\n",
       "      <th>4</th>\n",
       "      <td>Jupiter</td>\n",
       "      <td>5</td>\n",
       "      <td>79</td>\n",
       "    </tr>\n",
       "  </tbody>\n",
       "</table>\n",
       "</div>"
      ],
      "text/plain": [
       "         A  B   C\n",
       "0  Mercury  1   0\n",
       "1    Venus  2   0\n",
       "2    Earth  3   1\n",
       "3     Mars  4   2\n",
       "4  Jupiter  5  79"
      ]
     },
     "execution_count": 15,
     "metadata": {},
     "output_type": "execute_result"
    }
   ],
   "source": [
    "planets_df = pd.DataFrame(pandas_planets)\n",
    "planets_df"
   ]
  },
  {
   "cell_type": "markdown",
   "id": "0cf8b719-bb0b-4646-bc4a-da3e48e0f642",
   "metadata": {},
   "source": [
    "## Reading in Data from a .csv File\n",
    "\n",
    "Rarely will you have to make ndarrays as dataframes from scratch. Usually, the data is already packaged up in a file. The most common file formate for raw data is a `.csv` file, short for \"comma separated values\"\n",
    "\n",
    "<img src=\"../images/planets_csv.png\" width = 200>"
   ]
  },
  {
   "cell_type": "code",
   "execution_count": 18,
   "id": "680bb868-38c0-4405-9897-56a190ef1c64",
   "metadata": {},
   "outputs": [
    {
     "data": {
      "text/html": [
       "<div>\n",
       "<style scoped>\n",
       "    .dataframe tbody tr th:only-of-type {\n",
       "        vertical-align: middle;\n",
       "    }\n",
       "\n",
       "    .dataframe tbody tr th {\n",
       "        vertical-align: top;\n",
       "    }\n",
       "\n",
       "    .dataframe thead th {\n",
       "        text-align: right;\n",
       "    }\n",
       "</style>\n",
       "<table border=\"1\" class=\"dataframe\">\n",
       "  <thead>\n",
       "    <tr style=\"text-align: right;\">\n",
       "      <th></th>\n",
       "      <th>Planet</th>\n",
       "      <th>Order</th>\n",
       "      <th>Moons</th>\n",
       "    </tr>\n",
       "  </thead>\n",
       "  <tbody>\n",
       "    <tr>\n",
       "      <th>0</th>\n",
       "      <td>Mercury</td>\n",
       "      <td>1</td>\n",
       "      <td>0</td>\n",
       "    </tr>\n",
       "    <tr>\n",
       "      <th>1</th>\n",
       "      <td>Venus</td>\n",
       "      <td>2</td>\n",
       "      <td>0</td>\n",
       "    </tr>\n",
       "    <tr>\n",
       "      <th>2</th>\n",
       "      <td>Earth</td>\n",
       "      <td>3</td>\n",
       "      <td>1</td>\n",
       "    </tr>\n",
       "    <tr>\n",
       "      <th>3</th>\n",
       "      <td>Mars</td>\n",
       "      <td>4</td>\n",
       "      <td>2</td>\n",
       "    </tr>\n",
       "    <tr>\n",
       "      <th>4</th>\n",
       "      <td>Jupiter</td>\n",
       "      <td>5</td>\n",
       "      <td>79</td>\n",
       "    </tr>\n",
       "  </tbody>\n",
       "</table>\n",
       "</div>"
      ],
      "text/plain": [
       "    Planet  Order  Moons\n",
       "0  Mercury      1      0\n",
       "1    Venus      2      0\n",
       "2    Earth      3      1\n",
       "3     Mars      4      2\n",
       "4  Jupiter      5     79"
      ]
     },
     "execution_count": 18,
     "metadata": {},
     "output_type": "execute_result"
    }
   ],
   "source": [
    "planets = pd.read_csv('../data/planets.csv')\n",
    "planets"
   ]
  }
 ],
 "metadata": {
  "kernelspec": {
   "display_name": "Python 3 (ipykernel)",
   "language": "python",
   "name": "python3"
  },
  "language_info": {
   "codemirror_mode": {
    "name": "ipython",
    "version": 3
   },
   "file_extension": ".py",
   "mimetype": "text/x-python",
   "name": "python",
   "nbconvert_exporter": "python",
   "pygments_lexer": "ipython3",
   "version": "3.9.7"
  }
 },
 "nbformat": 4,
 "nbformat_minor": 5
}
