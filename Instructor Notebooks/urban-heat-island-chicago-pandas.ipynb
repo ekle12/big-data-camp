{
 "cells": [
  {
   "cell_type": "markdown",
   "id": "a132f14e-55b7-4894-8a09-5f08be34e4c7",
   "metadata": {},
   "source": [
    "<center><img src=\"../imgs/crocus-logo.png\" alt=\"CROCUS Logo\" style=\"width: 800px;\"/></center>\n",
    "\n",
    "# Urban Heat Island Data with Pandas\n",
    "---"
   ]
  },
  {
   "cell_type": "markdown",
   "id": "b96a6aed-52ec-4d0b-bcba-5a8cb1044b5a",
   "metadata": {},
   "source": [
    "## Overview\n",
    "1. Introduction to pandas data structures\n",
    "1. How to slice and dice pandas dataframes and dataseries\n",
    "1. How to use pandas for urban heat island analysis\n",
    "\n",
    "## Prerequisites\n",
    "\n",
    "| Concepts | Importance | Notes |\n",
    "| --- | --- | --- |\n",
    "| [Python Quickstart](../../foundations/quickstart) | Necessary | Intro to `dict` |\n",
    "| [Numpy Basics](../numpy/numpy-basics) | Necessary | |\n",
    "\n",
    "* **Time to learn**: 60 minutes"
   ]
  },
  {
   "cell_type": "markdown",
   "id": "1c805eb8-a545-4ba2-a3bb-e8e0232da2c9",
   "metadata": {},
   "source": [
    "---"
   ]
  },
  {
   "cell_type": "markdown",
   "id": "eb2bab73-f28a-4f78-ac03-10f46cf4e2a3",
   "metadata": {},
   "source": [
    "## Imports"
   ]
  },
  {
   "cell_type": "markdown",
   "id": "b8627bb7",
   "metadata": {},
   "source": [
    "You will often see the nickname `pd` used as an abbreviation for pandas in the import statement, just like `numpy` is often imported as `np`."
   ]
  },
  {
   "cell_type": "code",
   "execution_count": 68,
   "id": "daf58736",
   "metadata": {},
   "outputs": [],
   "source": [
    "import pandas as pd\n",
    "import matplotlib.pyplot as plt"
   ]
  },
  {
   "cell_type": "markdown",
   "id": "dab3da7f",
   "metadata": {},
   "source": [
    "## The pandas [`DataFrame`](https://pandas.pydata.org/docs/user_guide/dsintro.html#dataframe)...\n",
    "...is a **labeled**, two-dimensional columnar structure, similar to a table, spreadsheet, or the R `data.frame`.\n",
    "\n",
    "![dataframe schematic](https://github.com/pandas-dev/pandas/raw/main/doc/source/_static/schemas/01_table_dataframe.svg \"Schematic of a pandas DataFrame\")\n",
    "\n",
    "The `columns` that make up our `DataFrame` can be lists, dictionaries, NumPy arrays, pandas `Series`, or many other data types not mentioned here. Within these `columns`, you can have data values of many different data types used in Python and NumPy, including text, numbers, and dates/times. The first column of a `DataFrame`, shown in the image above in dark gray, is uniquely referred to as an `index`; this column contains information characterizing each row of our `DataFrame`. Similar to any other `column`, the `index` can label rows by text, numbers, datetime objects, and many other data types. Datetime objects are a quite popular way to label rows.\n",
    "\n",
    "For our first example using Pandas DataFrames, we start by reading in some data in comma-separated value (`.csv`) format. This dataset contains temperature measurements across the Chicago metropolitan area. For more information on this dataset, review the description [here](https://data.ess-dive.lbl.gov/view/doi:10.15485/2482533)."
   ]
  },
  {
   "cell_type": "markdown",
   "id": "0a064237-8e78-4b57-9200-6e97987d3ad8",
   "metadata": {},
   "source": [
    "<div class=\"admonition alert alert-info\">\n",
    "    <p class=\"admonition-title\" style=\"font-weight:bold\">Info</p>\n",
    "    As described above, we are retrieving the datasets for these examples from an urban heat island dataset, a DOE funded project called CROCUS. The urban integrated field laboratory deployed instruments around the City of Chicago, Illinois and surrounding metropoloitan area to study weather, air quality, and the impact of the built environment on the natural environment. We have pre-aggregated the dataset, including three field sites.\n",
    "</div>"
   ]
  },
  {
   "cell_type": "code",
   "execution_count": 2,
   "id": "0be820cd",
   "metadata": {},
   "outputs": [],
   "source": [
    "filepath = \"../data/chicago-urban-heat-island.csv\""
   ]
  },
  {
   "cell_type": "markdown",
   "id": "68316c6c",
   "metadata": {},
   "source": [
    "Once we have a valid path to a data file that Pandas knows how to read, we can open it, as shown in the following example:"
   ]
  },
  {
   "cell_type": "code",
   "execution_count": 3,
   "id": "e99652d5",
   "metadata": {},
   "outputs": [
    {
     "data": {
      "text/html": [
       "<div>\n",
       "<style scoped>\n",
       "    .dataframe tbody tr th:only-of-type {\n",
       "        vertical-align: middle;\n",
       "    }\n",
       "\n",
       "    .dataframe tbody tr th {\n",
       "        vertical-align: top;\n",
       "    }\n",
       "\n",
       "    .dataframe thead th {\n",
       "        text-align: right;\n",
       "    }\n",
       "</style>\n",
       "<table border=\"1\" class=\"dataframe\">\n",
       "  <thead>\n",
       "    <tr style=\"text-align: right;\">\n",
       "      <th></th>\n",
       "      <th>timestamp</th>\n",
       "      <th>urban_parking_lot_temperature</th>\n",
       "      <th>urban_park_temperature</th>\n",
       "      <th>suburban_rural_temperature</th>\n",
       "    </tr>\n",
       "  </thead>\n",
       "  <tbody>\n",
       "    <tr>\n",
       "      <th>0</th>\n",
       "      <td>2024-07-26 19:00:00-05:00</td>\n",
       "      <td>25.300000</td>\n",
       "      <td>24.400000</td>\n",
       "      <td>25.2</td>\n",
       "    </tr>\n",
       "    <tr>\n",
       "      <th>1</th>\n",
       "      <td>2024-07-26 19:01:00-05:00</td>\n",
       "      <td>25.266667</td>\n",
       "      <td>24.400000</td>\n",
       "      <td>25.2</td>\n",
       "    </tr>\n",
       "    <tr>\n",
       "      <th>2</th>\n",
       "      <td>2024-07-26 19:02:00-05:00</td>\n",
       "      <td>25.166667</td>\n",
       "      <td>24.366667</td>\n",
       "      <td>25.2</td>\n",
       "    </tr>\n",
       "    <tr>\n",
       "      <th>3</th>\n",
       "      <td>2024-07-26 19:03:00-05:00</td>\n",
       "      <td>25.100000</td>\n",
       "      <td>24.300000</td>\n",
       "      <td>25.1</td>\n",
       "    </tr>\n",
       "    <tr>\n",
       "      <th>4</th>\n",
       "      <td>2024-07-26 19:04:00-05:00</td>\n",
       "      <td>25.133333</td>\n",
       "      <td>24.300000</td>\n",
       "      <td>25.0</td>\n",
       "    </tr>\n",
       "    <tr>\n",
       "      <th>...</th>\n",
       "      <td>...</td>\n",
       "      <td>...</td>\n",
       "      <td>...</td>\n",
       "      <td>...</td>\n",
       "    </tr>\n",
       "    <tr>\n",
       "      <th>2515</th>\n",
       "      <td>2024-07-28 12:55:00-05:00</td>\n",
       "      <td>27.100000</td>\n",
       "      <td>27.066667</td>\n",
       "      <td>27.2</td>\n",
       "    </tr>\n",
       "    <tr>\n",
       "      <th>2516</th>\n",
       "      <td>2024-07-28 12:56:00-05:00</td>\n",
       "      <td>27.100000</td>\n",
       "      <td>27.033333</td>\n",
       "      <td>27.2</td>\n",
       "    </tr>\n",
       "    <tr>\n",
       "      <th>2517</th>\n",
       "      <td>2024-07-28 12:57:00-05:00</td>\n",
       "      <td>27.100000</td>\n",
       "      <td>27.000000</td>\n",
       "      <td>27.2</td>\n",
       "    </tr>\n",
       "    <tr>\n",
       "      <th>2518</th>\n",
       "      <td>2024-07-28 12:58:00-05:00</td>\n",
       "      <td>27.133333</td>\n",
       "      <td>27.000000</td>\n",
       "      <td>27.4</td>\n",
       "    </tr>\n",
       "    <tr>\n",
       "      <th>2519</th>\n",
       "      <td>2024-07-28 12:59:00-05:00</td>\n",
       "      <td>27.200000</td>\n",
       "      <td>27.066667</td>\n",
       "      <td>27.5</td>\n",
       "    </tr>\n",
       "  </tbody>\n",
       "</table>\n",
       "<p>2520 rows × 4 columns</p>\n",
       "</div>"
      ],
      "text/plain": [
       "                      timestamp  urban_parking_lot_temperature  \\\n",
       "0     2024-07-26 19:00:00-05:00                      25.300000   \n",
       "1     2024-07-26 19:01:00-05:00                      25.266667   \n",
       "2     2024-07-26 19:02:00-05:00                      25.166667   \n",
       "3     2024-07-26 19:03:00-05:00                      25.100000   \n",
       "4     2024-07-26 19:04:00-05:00                      25.133333   \n",
       "...                         ...                            ...   \n",
       "2515  2024-07-28 12:55:00-05:00                      27.100000   \n",
       "2516  2024-07-28 12:56:00-05:00                      27.100000   \n",
       "2517  2024-07-28 12:57:00-05:00                      27.100000   \n",
       "2518  2024-07-28 12:58:00-05:00                      27.133333   \n",
       "2519  2024-07-28 12:59:00-05:00                      27.200000   \n",
       "\n",
       "      urban_park_temperature  suburban_rural_temperature  \n",
       "0                  24.400000                        25.2  \n",
       "1                  24.400000                        25.2  \n",
       "2                  24.366667                        25.2  \n",
       "3                  24.300000                        25.1  \n",
       "4                  24.300000                        25.0  \n",
       "...                      ...                         ...  \n",
       "2515               27.066667                        27.2  \n",
       "2516               27.033333                        27.2  \n",
       "2517               27.000000                        27.2  \n",
       "2518               27.000000                        27.4  \n",
       "2519               27.066667                        27.5  \n",
       "\n",
       "[2520 rows x 4 columns]"
      ]
     },
     "execution_count": 3,
     "metadata": {},
     "output_type": "execute_result"
    }
   ],
   "source": [
    "df = pd.read_csv(filepath)\n",
    "df"
   ]
  },
  {
   "cell_type": "markdown",
   "id": "ae9dcbbd",
   "metadata": {},
   "source": [
    "If we print out our `DataFrame`, it will render as text by default, in a tabular-style ASCII output, as shown in the following example. However, if you are using a Jupyter notebook, there exists a better way to print `DataFrames`, as described below."
   ]
  },
  {
   "cell_type": "code",
   "execution_count": 4,
   "id": "25a23571",
   "metadata": {},
   "outputs": [
    {
     "name": "stdout",
     "output_type": "stream",
     "text": [
      "                      timestamp  urban_parking_lot_temperature  \\\n",
      "0     2024-07-26 19:00:00-05:00                      25.300000   \n",
      "1     2024-07-26 19:01:00-05:00                      25.266667   \n",
      "2     2024-07-26 19:02:00-05:00                      25.166667   \n",
      "3     2024-07-26 19:03:00-05:00                      25.100000   \n",
      "4     2024-07-26 19:04:00-05:00                      25.133333   \n",
      "...                         ...                            ...   \n",
      "2515  2024-07-28 12:55:00-05:00                      27.100000   \n",
      "2516  2024-07-28 12:56:00-05:00                      27.100000   \n",
      "2517  2024-07-28 12:57:00-05:00                      27.100000   \n",
      "2518  2024-07-28 12:58:00-05:00                      27.133333   \n",
      "2519  2024-07-28 12:59:00-05:00                      27.200000   \n",
      "\n",
      "      urban_park_temperature  suburban_rural_temperature  \n",
      "0                  24.400000                        25.2  \n",
      "1                  24.400000                        25.2  \n",
      "2                  24.366667                        25.2  \n",
      "3                  24.300000                        25.1  \n",
      "4                  24.300000                        25.0  \n",
      "...                      ...                         ...  \n",
      "2515               27.066667                        27.2  \n",
      "2516               27.033333                        27.2  \n",
      "2517               27.000000                        27.2  \n",
      "2518               27.000000                        27.4  \n",
      "2519               27.066667                        27.5  \n",
      "\n",
      "[2520 rows x 4 columns]\n"
     ]
    }
   ],
   "source": [
    "print(df)"
   ]
  },
  {
   "cell_type": "markdown",
   "id": "f22bb442",
   "metadata": {},
   "source": [
    "As described above, there is a better way to print Pandas `DataFrames`. If you are using a Jupyter notebook, you can run a code cell containing the `DataFrame` object name, by itself, and it will display a nicely rendered table, as shown below."
   ]
  },
  {
   "cell_type": "code",
   "execution_count": 5,
   "id": "b8942e69",
   "metadata": {},
   "outputs": [
    {
     "data": {
      "text/html": [
       "<div>\n",
       "<style scoped>\n",
       "    .dataframe tbody tr th:only-of-type {\n",
       "        vertical-align: middle;\n",
       "    }\n",
       "\n",
       "    .dataframe tbody tr th {\n",
       "        vertical-align: top;\n",
       "    }\n",
       "\n",
       "    .dataframe thead th {\n",
       "        text-align: right;\n",
       "    }\n",
       "</style>\n",
       "<table border=\"1\" class=\"dataframe\">\n",
       "  <thead>\n",
       "    <tr style=\"text-align: right;\">\n",
       "      <th></th>\n",
       "      <th>timestamp</th>\n",
       "      <th>urban_parking_lot_temperature</th>\n",
       "      <th>urban_park_temperature</th>\n",
       "      <th>suburban_rural_temperature</th>\n",
       "    </tr>\n",
       "  </thead>\n",
       "  <tbody>\n",
       "    <tr>\n",
       "      <th>0</th>\n",
       "      <td>2024-07-26 19:00:00-05:00</td>\n",
       "      <td>25.300000</td>\n",
       "      <td>24.400000</td>\n",
       "      <td>25.2</td>\n",
       "    </tr>\n",
       "    <tr>\n",
       "      <th>1</th>\n",
       "      <td>2024-07-26 19:01:00-05:00</td>\n",
       "      <td>25.266667</td>\n",
       "      <td>24.400000</td>\n",
       "      <td>25.2</td>\n",
       "    </tr>\n",
       "    <tr>\n",
       "      <th>2</th>\n",
       "      <td>2024-07-26 19:02:00-05:00</td>\n",
       "      <td>25.166667</td>\n",
       "      <td>24.366667</td>\n",
       "      <td>25.2</td>\n",
       "    </tr>\n",
       "    <tr>\n",
       "      <th>3</th>\n",
       "      <td>2024-07-26 19:03:00-05:00</td>\n",
       "      <td>25.100000</td>\n",
       "      <td>24.300000</td>\n",
       "      <td>25.1</td>\n",
       "    </tr>\n",
       "    <tr>\n",
       "      <th>4</th>\n",
       "      <td>2024-07-26 19:04:00-05:00</td>\n",
       "      <td>25.133333</td>\n",
       "      <td>24.300000</td>\n",
       "      <td>25.0</td>\n",
       "    </tr>\n",
       "    <tr>\n",
       "      <th>...</th>\n",
       "      <td>...</td>\n",
       "      <td>...</td>\n",
       "      <td>...</td>\n",
       "      <td>...</td>\n",
       "    </tr>\n",
       "    <tr>\n",
       "      <th>2515</th>\n",
       "      <td>2024-07-28 12:55:00-05:00</td>\n",
       "      <td>27.100000</td>\n",
       "      <td>27.066667</td>\n",
       "      <td>27.2</td>\n",
       "    </tr>\n",
       "    <tr>\n",
       "      <th>2516</th>\n",
       "      <td>2024-07-28 12:56:00-05:00</td>\n",
       "      <td>27.100000</td>\n",
       "      <td>27.033333</td>\n",
       "      <td>27.2</td>\n",
       "    </tr>\n",
       "    <tr>\n",
       "      <th>2517</th>\n",
       "      <td>2024-07-28 12:57:00-05:00</td>\n",
       "      <td>27.100000</td>\n",
       "      <td>27.000000</td>\n",
       "      <td>27.2</td>\n",
       "    </tr>\n",
       "    <tr>\n",
       "      <th>2518</th>\n",
       "      <td>2024-07-28 12:58:00-05:00</td>\n",
       "      <td>27.133333</td>\n",
       "      <td>27.000000</td>\n",
       "      <td>27.4</td>\n",
       "    </tr>\n",
       "    <tr>\n",
       "      <th>2519</th>\n",
       "      <td>2024-07-28 12:59:00-05:00</td>\n",
       "      <td>27.200000</td>\n",
       "      <td>27.066667</td>\n",
       "      <td>27.5</td>\n",
       "    </tr>\n",
       "  </tbody>\n",
       "</table>\n",
       "<p>2520 rows × 4 columns</p>\n",
       "</div>"
      ],
      "text/plain": [
       "                      timestamp  urban_parking_lot_temperature  \\\n",
       "0     2024-07-26 19:00:00-05:00                      25.300000   \n",
       "1     2024-07-26 19:01:00-05:00                      25.266667   \n",
       "2     2024-07-26 19:02:00-05:00                      25.166667   \n",
       "3     2024-07-26 19:03:00-05:00                      25.100000   \n",
       "4     2024-07-26 19:04:00-05:00                      25.133333   \n",
       "...                         ...                            ...   \n",
       "2515  2024-07-28 12:55:00-05:00                      27.100000   \n",
       "2516  2024-07-28 12:56:00-05:00                      27.100000   \n",
       "2517  2024-07-28 12:57:00-05:00                      27.100000   \n",
       "2518  2024-07-28 12:58:00-05:00                      27.133333   \n",
       "2519  2024-07-28 12:59:00-05:00                      27.200000   \n",
       "\n",
       "      urban_park_temperature  suburban_rural_temperature  \n",
       "0                  24.400000                        25.2  \n",
       "1                  24.400000                        25.2  \n",
       "2                  24.366667                        25.2  \n",
       "3                  24.300000                        25.1  \n",
       "4                  24.300000                        25.0  \n",
       "...                      ...                         ...  \n",
       "2515               27.066667                        27.2  \n",
       "2516               27.033333                        27.2  \n",
       "2517               27.000000                        27.2  \n",
       "2518               27.000000                        27.4  \n",
       "2519               27.066667                        27.5  \n",
       "\n",
       "[2520 rows x 4 columns]"
      ]
     },
     "execution_count": 5,
     "metadata": {},
     "output_type": "execute_result"
    }
   ],
   "source": [
    "df"
   ]
  },
  {
   "cell_type": "markdown",
   "id": "377d4803",
   "metadata": {},
   "source": [
    "The `DataFrame` index, as described above, contains information characterizing rows; each row has a unique ID value, which is displayed in the index column.  By default, the IDs for rows in a `DataFrame` are represented as sequential integers, which start at 0."
   ]
  },
  {
   "cell_type": "code",
   "execution_count": 6,
   "id": "cde6999b",
   "metadata": {},
   "outputs": [
    {
     "data": {
      "text/plain": [
       "RangeIndex(start=0, stop=2520, step=1)"
      ]
     },
     "execution_count": 6,
     "metadata": {},
     "output_type": "execute_result"
    }
   ],
   "source": [
    "df.index"
   ]
  },
  {
   "cell_type": "markdown",
   "id": "8af49ac9",
   "metadata": {},
   "source": [
    "At the moment, the index column of our `DataFrame` is not very helpful for humans. However, Pandas has clever ways to make index columns more human-readable. The next example demonstrates how to use optional keyword arguments to convert `DataFrame` index IDs to a human-friendly datetime format."
   ]
  },
  {
   "cell_type": "code",
   "execution_count": 7,
   "id": "b4657f7e",
   "metadata": {},
   "outputs": [
    {
     "data": {
      "text/html": [
       "<div>\n",
       "<style scoped>\n",
       "    .dataframe tbody tr th:only-of-type {\n",
       "        vertical-align: middle;\n",
       "    }\n",
       "\n",
       "    .dataframe tbody tr th {\n",
       "        vertical-align: top;\n",
       "    }\n",
       "\n",
       "    .dataframe thead th {\n",
       "        text-align: right;\n",
       "    }\n",
       "</style>\n",
       "<table border=\"1\" class=\"dataframe\">\n",
       "  <thead>\n",
       "    <tr style=\"text-align: right;\">\n",
       "      <th></th>\n",
       "      <th>urban_parking_lot_temperature</th>\n",
       "      <th>urban_park_temperature</th>\n",
       "      <th>suburban_rural_temperature</th>\n",
       "    </tr>\n",
       "    <tr>\n",
       "      <th>timestamp</th>\n",
       "      <th></th>\n",
       "      <th></th>\n",
       "      <th></th>\n",
       "    </tr>\n",
       "  </thead>\n",
       "  <tbody>\n",
       "    <tr>\n",
       "      <th>2024-07-26 19:00:00-05:00</th>\n",
       "      <td>25.300000</td>\n",
       "      <td>24.400000</td>\n",
       "      <td>25.2</td>\n",
       "    </tr>\n",
       "    <tr>\n",
       "      <th>2024-07-26 19:01:00-05:00</th>\n",
       "      <td>25.266667</td>\n",
       "      <td>24.400000</td>\n",
       "      <td>25.2</td>\n",
       "    </tr>\n",
       "    <tr>\n",
       "      <th>2024-07-26 19:02:00-05:00</th>\n",
       "      <td>25.166667</td>\n",
       "      <td>24.366667</td>\n",
       "      <td>25.2</td>\n",
       "    </tr>\n",
       "    <tr>\n",
       "      <th>2024-07-26 19:03:00-05:00</th>\n",
       "      <td>25.100000</td>\n",
       "      <td>24.300000</td>\n",
       "      <td>25.1</td>\n",
       "    </tr>\n",
       "    <tr>\n",
       "      <th>2024-07-26 19:04:00-05:00</th>\n",
       "      <td>25.133333</td>\n",
       "      <td>24.300000</td>\n",
       "      <td>25.0</td>\n",
       "    </tr>\n",
       "    <tr>\n",
       "      <th>...</th>\n",
       "      <td>...</td>\n",
       "      <td>...</td>\n",
       "      <td>...</td>\n",
       "    </tr>\n",
       "    <tr>\n",
       "      <th>2024-07-28 12:55:00-05:00</th>\n",
       "      <td>27.100000</td>\n",
       "      <td>27.066667</td>\n",
       "      <td>27.2</td>\n",
       "    </tr>\n",
       "    <tr>\n",
       "      <th>2024-07-28 12:56:00-05:00</th>\n",
       "      <td>27.100000</td>\n",
       "      <td>27.033333</td>\n",
       "      <td>27.2</td>\n",
       "    </tr>\n",
       "    <tr>\n",
       "      <th>2024-07-28 12:57:00-05:00</th>\n",
       "      <td>27.100000</td>\n",
       "      <td>27.000000</td>\n",
       "      <td>27.2</td>\n",
       "    </tr>\n",
       "    <tr>\n",
       "      <th>2024-07-28 12:58:00-05:00</th>\n",
       "      <td>27.133333</td>\n",
       "      <td>27.000000</td>\n",
       "      <td>27.4</td>\n",
       "    </tr>\n",
       "    <tr>\n",
       "      <th>2024-07-28 12:59:00-05:00</th>\n",
       "      <td>27.200000</td>\n",
       "      <td>27.066667</td>\n",
       "      <td>27.5</td>\n",
       "    </tr>\n",
       "  </tbody>\n",
       "</table>\n",
       "<p>2520 rows × 3 columns</p>\n",
       "</div>"
      ],
      "text/plain": [
       "                           urban_parking_lot_temperature  \\\n",
       "timestamp                                                  \n",
       "2024-07-26 19:00:00-05:00                      25.300000   \n",
       "2024-07-26 19:01:00-05:00                      25.266667   \n",
       "2024-07-26 19:02:00-05:00                      25.166667   \n",
       "2024-07-26 19:03:00-05:00                      25.100000   \n",
       "2024-07-26 19:04:00-05:00                      25.133333   \n",
       "...                                                  ...   \n",
       "2024-07-28 12:55:00-05:00                      27.100000   \n",
       "2024-07-28 12:56:00-05:00                      27.100000   \n",
       "2024-07-28 12:57:00-05:00                      27.100000   \n",
       "2024-07-28 12:58:00-05:00                      27.133333   \n",
       "2024-07-28 12:59:00-05:00                      27.200000   \n",
       "\n",
       "                           urban_park_temperature  suburban_rural_temperature  \n",
       "timestamp                                                                      \n",
       "2024-07-26 19:00:00-05:00               24.400000                        25.2  \n",
       "2024-07-26 19:01:00-05:00               24.400000                        25.2  \n",
       "2024-07-26 19:02:00-05:00               24.366667                        25.2  \n",
       "2024-07-26 19:03:00-05:00               24.300000                        25.1  \n",
       "2024-07-26 19:04:00-05:00               24.300000                        25.0  \n",
       "...                                           ...                         ...  \n",
       "2024-07-28 12:55:00-05:00               27.066667                        27.2  \n",
       "2024-07-28 12:56:00-05:00               27.033333                        27.2  \n",
       "2024-07-28 12:57:00-05:00               27.000000                        27.2  \n",
       "2024-07-28 12:58:00-05:00               27.000000                        27.4  \n",
       "2024-07-28 12:59:00-05:00               27.066667                        27.5  \n",
       "\n",
       "[2520 rows x 3 columns]"
      ]
     },
     "execution_count": 7,
     "metadata": {},
     "output_type": "execute_result"
    }
   ],
   "source": [
    "df = pd.read_csv(filepath, index_col=0, parse_dates=True)\n",
    "\n",
    "df"
   ]
  },
  {
   "cell_type": "code",
   "execution_count": 8,
   "id": "b0d3ae28",
   "metadata": {},
   "outputs": [
    {
     "data": {
      "text/plain": [
       "DatetimeIndex(['2024-07-26 19:00:00-05:00', '2024-07-26 19:01:00-05:00',\n",
       "               '2024-07-26 19:02:00-05:00', '2024-07-26 19:03:00-05:00',\n",
       "               '2024-07-26 19:04:00-05:00', '2024-07-26 19:05:00-05:00',\n",
       "               '2024-07-26 19:06:00-05:00', '2024-07-26 19:07:00-05:00',\n",
       "               '2024-07-26 19:08:00-05:00', '2024-07-26 19:09:00-05:00',\n",
       "               ...\n",
       "               '2024-07-28 12:50:00-05:00', '2024-07-28 12:51:00-05:00',\n",
       "               '2024-07-28 12:52:00-05:00', '2024-07-28 12:53:00-05:00',\n",
       "               '2024-07-28 12:54:00-05:00', '2024-07-28 12:55:00-05:00',\n",
       "               '2024-07-28 12:56:00-05:00', '2024-07-28 12:57:00-05:00',\n",
       "               '2024-07-28 12:58:00-05:00', '2024-07-28 12:59:00-05:00'],\n",
       "              dtype='datetime64[ns, UTC-05:00]', name='timestamp', length=2520, freq=None)"
      ]
     },
     "execution_count": 8,
     "metadata": {},
     "output_type": "execute_result"
    }
   ],
   "source": [
    "df.index"
   ]
  },
  {
   "cell_type": "markdown",
   "id": "8d26ed71",
   "metadata": {},
   "source": [
    "Each of our data rows is now helpfully labeled by a datetime-object-like index value; this means that we can now easily identify data values not only by named columns, but also by date labels on rows. This is a sneak preview of the `DatetimeIndex` functionality of Pandas; this functionality enables a large portion of Pandas' timeseries-related usage. Don't worry; `DatetimeIndex` will be discussed in full detail later on this page. In the meantime, let's look at the columns of data read in from the `.csv` file:"
   ]
  },
  {
   "cell_type": "code",
   "execution_count": 9,
   "id": "847347f8",
   "metadata": {},
   "outputs": [
    {
     "data": {
      "text/plain": [
       "Index(['urban_parking_lot_temperature', 'urban_park_temperature',\n",
       "       'suburban_rural_temperature'],\n",
       "      dtype='object')"
      ]
     },
     "execution_count": 9,
     "metadata": {},
     "output_type": "execute_result"
    }
   ],
   "source": [
    "df.columns"
   ]
  },
  {
   "cell_type": "markdown",
   "id": "08d3b2fb",
   "metadata": {},
   "source": [
    "## The pandas [`Series`](https://pandas.pydata.org/docs/user_guide/dsintro.html#series)...\n",
    "\n",
    "...is essentially any one of the columns of our `DataFrame`. A `Series` also includes the index column from the source `DataFrame`, in order to provide a label for each value in the `Series`.\n",
    "\n",
    "![pandas Series](https://github.com/pandas-dev/pandas/raw/main/doc/source/_static/schemas/01_table_series.svg \"Schematic of a pandas Series\")\n",
    "\n",
    "The pandas `Series` is a fast and capable 1-dimensional array of nearly any data type we could want, and it can behave very similarly to a NumPy `ndarray` or a Python `dict`. You can take a look at any of the `Series` that make up your `DataFrame`, either by using its column name and the Python `dict` notation, or by using dot-shorthand with the column name:"
   ]
  },
  {
   "cell_type": "code",
   "execution_count": 10,
   "id": "ee085815",
   "metadata": {},
   "outputs": [
    {
     "data": {
      "text/plain": [
       "timestamp\n",
       "2024-07-26 19:00:00-05:00    25.2\n",
       "2024-07-26 19:01:00-05:00    25.2\n",
       "2024-07-26 19:02:00-05:00    25.2\n",
       "2024-07-26 19:03:00-05:00    25.1\n",
       "2024-07-26 19:04:00-05:00    25.0\n",
       "                             ... \n",
       "2024-07-28 12:55:00-05:00    27.2\n",
       "2024-07-28 12:56:00-05:00    27.2\n",
       "2024-07-28 12:57:00-05:00    27.2\n",
       "2024-07-28 12:58:00-05:00    27.4\n",
       "2024-07-28 12:59:00-05:00    27.5\n",
       "Name: suburban_rural_temperature, Length: 2520, dtype: float64"
      ]
     },
     "execution_count": 10,
     "metadata": {},
     "output_type": "execute_result"
    }
   ],
   "source": [
    "df[\"suburban_rural_temperature\"]"
   ]
  },
  {
   "cell_type": "markdown",
   "id": "2fcc97fa",
   "metadata": {},
   "source": [
    "<div class=\"alert alert-block alert-info\">\n",
    "<b>Tip:</b> You can also use the dot notation illustrated below to specify a column name, but this syntax is mostly provided for convenience. For the most part, this notation is interchangeable with the dictionary notation; however, if the column name is not a valid Python identifier (e.g., it starts with a number or space), you cannot use dot notation.</div>"
   ]
  },
  {
   "cell_type": "code",
   "execution_count": 11,
   "id": "7d46cbb9",
   "metadata": {},
   "outputs": [
    {
     "data": {
      "text/plain": [
       "timestamp\n",
       "2024-07-26 19:00:00-05:00    25.2\n",
       "2024-07-26 19:01:00-05:00    25.2\n",
       "2024-07-26 19:02:00-05:00    25.2\n",
       "2024-07-26 19:03:00-05:00    25.1\n",
       "2024-07-26 19:04:00-05:00    25.0\n",
       "                             ... \n",
       "2024-07-28 12:55:00-05:00    27.2\n",
       "2024-07-28 12:56:00-05:00    27.2\n",
       "2024-07-28 12:57:00-05:00    27.2\n",
       "2024-07-28 12:58:00-05:00    27.4\n",
       "2024-07-28 12:59:00-05:00    27.5\n",
       "Name: suburban_rural_temperature, Length: 2520, dtype: float64"
      ]
     },
     "execution_count": 11,
     "metadata": {},
     "output_type": "execute_result"
    }
   ],
   "source": [
    "df.suburban_rural_temperature"
   ]
  },
  {
   "cell_type": "markdown",
   "id": "dfed2a7c-5532-44d4-a2be-f1cc484d842c",
   "metadata": {},
   "source": [
    "## Slicing and Dicing the `DataFrame` and `Series`\n",
    "\n",
    "In this section, we will expand on topics covered in the previous sections on this page. One of the most important concepts to learn about Pandas is that it allows you to _**access anything by its associated label**_, regardless of data organization structure."
   ]
  },
  {
   "cell_type": "markdown",
   "id": "59128a2d-f23f-4b1c-93e7-63a85046b881",
   "metadata": {},
   "source": [
    "### Indexing a `Series`\n",
    "\n",
    "As a review of previous examples, we'll start our next example by pulling a `Series` out of our `DataFrame` using its column label."
   ]
  },
  {
   "cell_type": "code",
   "execution_count": 12,
   "id": "ec9ed333",
   "metadata": {},
   "outputs": [
    {
     "data": {
      "text/plain": [
       "timestamp\n",
       "2024-07-26 19:00:00-05:00    25.2\n",
       "2024-07-26 19:01:00-05:00    25.2\n",
       "2024-07-26 19:02:00-05:00    25.2\n",
       "2024-07-26 19:03:00-05:00    25.1\n",
       "2024-07-26 19:04:00-05:00    25.0\n",
       "                             ... \n",
       "2024-07-28 12:55:00-05:00    27.2\n",
       "2024-07-28 12:56:00-05:00    27.2\n",
       "2024-07-28 12:57:00-05:00    27.2\n",
       "2024-07-28 12:58:00-05:00    27.4\n",
       "2024-07-28 12:59:00-05:00    27.5\n",
       "Name: suburban_rural_temperature, Length: 2520, dtype: float64"
      ]
     },
     "execution_count": 12,
     "metadata": {},
     "output_type": "execute_result"
    }
   ],
   "source": [
    "suburban_series = df[\"suburban_rural_temperature\"]\n",
    "\n",
    "suburban_series"
   ]
  },
  {
   "cell_type": "markdown",
   "id": "c84a81b9",
   "metadata": {},
   "source": [
    "You can use syntax similar to that of NumPy `ndarrays` to index, select, and subset with Pandas `Series`, as shown in this example:"
   ]
  },
  {
   "cell_type": "code",
   "execution_count": 13,
   "id": "39bb0ae3",
   "metadata": {},
   "outputs": [
    {
     "name": "stderr",
     "output_type": "stream",
     "text": [
      "/var/folders/bw/c9j8z20x45s2y20vv6528qjc0000gq/T/ipykernel_73812/3332820004.py:1: FutureWarning: Series.__getitem__ treating keys as positions is deprecated. In a future version, integer keys will always be treated as labels (consistent with DataFrame behavior). To access a value by position, use `ser.iloc[pos]`\n",
      "  suburban_series[0]\n"
     ]
    },
    {
     "data": {
      "text/plain": [
       "np.float64(25.2)"
      ]
     },
     "execution_count": 13,
     "metadata": {},
     "output_type": "execute_result"
    }
   ],
   "source": [
    "suburban_series[0]"
   ]
  },
  {
   "cell_type": "code",
   "execution_count": 14,
   "id": "b2cbc151-78f1-44a7-a9d5-6d7da2ed58d8",
   "metadata": {},
   "outputs": [
    {
     "data": {
      "text/plain": [
       "timestamp\n",
       "2024-07-26 19:00:00-05:00    25.2\n",
       "2024-07-26 19:01:00-05:00    25.2\n",
       "2024-07-26 19:02:00-05:00    25.2\n",
       "2024-07-26 19:03:00-05:00    25.1\n",
       "2024-07-26 19:04:00-05:00    25.0\n",
       "                             ... \n",
       "2024-07-28 12:55:00-05:00    27.2\n",
       "2024-07-28 12:56:00-05:00    27.2\n",
       "2024-07-28 12:57:00-05:00    27.2\n",
       "2024-07-28 12:58:00-05:00    27.4\n",
       "2024-07-28 12:59:00-05:00    27.5\n",
       "Name: suburban_rural_temperature, Length: 2520, dtype: float64"
      ]
     },
     "execution_count": 14,
     "metadata": {},
     "output_type": "execute_result"
    }
   ],
   "source": [
    "suburban_series"
   ]
  },
  {
   "cell_type": "markdown",
   "id": "a1a55a7c",
   "metadata": {},
   "source": [
    "You can also use labels alongside Python dictionary syntax to perform the same operations:"
   ]
  },
  {
   "cell_type": "code",
   "execution_count": 15,
   "id": "62006988",
   "metadata": {},
   "outputs": [
    {
     "data": {
      "text/plain": [
       "np.float64(25.2)"
      ]
     },
     "execution_count": 15,
     "metadata": {},
     "output_type": "execute_result"
    }
   ],
   "source": [
    "suburban_series[\"2024-07-26T19:00\"]"
   ]
  },
  {
   "cell_type": "markdown",
   "id": "ce9788fd-a420-4c64-92b2-188818c52cc8",
   "metadata": {},
   "source": [
    "You can probably figure out some ways to extend these indexing methods, as shown in the following examples:"
   ]
  },
  {
   "cell_type": "code",
   "execution_count": 16,
   "id": "221e798d",
   "metadata": {},
   "outputs": [
    {
     "data": {
      "text/plain": [
       "timestamp\n",
       "2024-07-26 19:00:00-05:00    25.2\n",
       "2024-07-26 19:01:00-05:00    25.2\n",
       "2024-07-26 19:02:00-05:00    25.2\n",
       "2024-07-26 19:03:00-05:00    25.1\n",
       "2024-07-26 19:04:00-05:00    25.0\n",
       "2024-07-26 19:05:00-05:00    25.0\n",
       "2024-07-26 19:06:00-05:00    25.0\n",
       "2024-07-26 19:07:00-05:00    25.0\n",
       "2024-07-26 19:08:00-05:00    24.9\n",
       "2024-07-26 19:09:00-05:00    24.9\n",
       "2024-07-26 19:10:00-05:00    24.9\n",
       "2024-07-26 19:11:00-05:00    24.8\n",
       "Name: suburban_rural_temperature, dtype: float64"
      ]
     },
     "execution_count": 16,
     "metadata": {},
     "output_type": "execute_result"
    }
   ],
   "source": [
    "suburban_series[0:12]"
   ]
  },
  {
   "cell_type": "markdown",
   "id": "8ae4a117-2e37-4e01-bd06-2bef62f83741",
   "metadata": {},
   "source": [
    "<div class=\"admonition alert alert-info\">\n",
    "    <p class=\"admonition-title\" style=\"font-weight:bold\">Info</p>\n",
    "    Index-based slices are <b>exclusive</b> of the final value, similar to Python's usual indexing rules.\n",
    "</div>"
   ]
  },
  {
   "cell_type": "markdown",
   "id": "3cba4b8e-5dbb-4da6-ba5f-bc8a8a726b14",
   "metadata": {},
   "source": [
    "However, there are many more ways to index a `Series`. The following example shows a powerful and useful indexing method:"
   ]
  },
  {
   "cell_type": "code",
   "execution_count": 17,
   "id": "f7a06967",
   "metadata": {},
   "outputs": [
    {
     "data": {
      "text/plain": [
       "timestamp\n",
       "2024-07-26 19:00:00-05:00    25.2\n",
       "2024-07-26 19:01:00-05:00    25.2\n",
       "2024-07-26 19:02:00-05:00    25.2\n",
       "2024-07-26 19:03:00-05:00    25.1\n",
       "2024-07-26 19:04:00-05:00    25.0\n",
       "                             ... \n",
       "2024-07-26 19:56:00-05:00    22.7\n",
       "2024-07-26 19:57:00-05:00    22.7\n",
       "2024-07-26 19:58:00-05:00    22.6\n",
       "2024-07-26 19:59:00-05:00    22.5\n",
       "2024-07-26 20:00:00-05:00    22.4\n",
       "Name: suburban_rural_temperature, Length: 61, dtype: float64"
      ]
     },
     "execution_count": 17,
     "metadata": {},
     "output_type": "execute_result"
    }
   ],
   "source": [
    "suburban_series[\"2024-07-26T19:00\":\"2024-07-26T20:00\"]"
   ]
  },
  {
   "cell_type": "markdown",
   "id": "1d6b4d75-b6a5-4960-9f83-8adbff1e2830",
   "metadata": {},
   "source": [
    "This is an example of label-based slicing. With label-based slicing, Pandas will automatically find a range of values based on the labels you specify."
   ]
  },
  {
   "cell_type": "markdown",
   "id": "b9c167aa-6b8d-4533-9e89-09d75af76025",
   "metadata": {},
   "source": [
    "<div class=\"admonition alert alert-info\">\n",
    "    <p class=\"admonition-title\" style=\"font-weight:bold\">Info</p>\n",
    "    As opposed to index-based slices, label-based slices are <b>inclusive</b> of the final value.\n",
    "</div>"
   ]
  },
  {
   "cell_type": "markdown",
   "id": "cebfac9a-9e8f-449a-a88d-b1196a49d87d",
   "metadata": {},
   "source": [
    "If you already have some knowledge of xarray, you will quite likely know how to create `slice` objects by hand. This can also be used in pandas, as shown below.  If you are completely unfamiliar with xarray, it will be covered on a [later Pythia tutorial page](../xarray)."
   ]
  },
  {
   "cell_type": "code",
   "execution_count": 18,
   "id": "771d6f04",
   "metadata": {},
   "outputs": [
    {
     "data": {
      "text/plain": [
       "timestamp\n",
       "2024-07-26 19:00:00-05:00    25.2\n",
       "2024-07-26 19:01:00-05:00    25.2\n",
       "2024-07-26 19:02:00-05:00    25.2\n",
       "2024-07-26 19:03:00-05:00    25.1\n",
       "2024-07-26 19:04:00-05:00    25.0\n",
       "                             ... \n",
       "2024-07-26 19:56:00-05:00    22.7\n",
       "2024-07-26 19:57:00-05:00    22.7\n",
       "2024-07-26 19:58:00-05:00    22.6\n",
       "2024-07-26 19:59:00-05:00    22.5\n",
       "2024-07-26 20:00:00-05:00    22.4\n",
       "Name: suburban_rural_temperature, Length: 61, dtype: float64"
      ]
     },
     "execution_count": 18,
     "metadata": {},
     "output_type": "execute_result"
    }
   ],
   "source": [
    "suburban_series[slice(\"2024-07-26T19:00\", \"2024-07-26T20:00\")]"
   ]
  },
  {
   "cell_type": "markdown",
   "id": "9798abf4",
   "metadata": {},
   "source": [
    "### Using `.iloc` and `.loc` to index\n",
    "\n",
    "In this section, we introduce ways to access data that are preferred by Pandas over the methods listed above. When accessing by label, it is preferred to use the `.loc` method, and when accessing by index, the `.iloc` method is preferred. These methods behave similarly to the notation introduced above, but provide more speed, security, and rigor in your value selection. Using these methods can also help you avoid [chained assignment warnings](https://pandas.pydata.org/docs/user_guide/indexing.html#returning-a-view-versus-a-copy) generated by pandas."
   ]
  },
  {
   "cell_type": "code",
   "execution_count": 19,
   "id": "d5eb9de2",
   "metadata": {},
   "outputs": [
    {
     "data": {
      "text/plain": [
       "np.float64(25.1)"
      ]
     },
     "execution_count": 19,
     "metadata": {},
     "output_type": "execute_result"
    }
   ],
   "source": [
    "suburban_series.iloc[3]"
   ]
  },
  {
   "cell_type": "code",
   "execution_count": 20,
   "id": "8d0bc3e8",
   "metadata": {},
   "outputs": [
    {
     "data": {
      "text/plain": [
       "timestamp\n",
       "2024-07-26 19:00:00-05:00    25.2\n",
       "2024-07-26 19:01:00-05:00    25.2\n",
       "2024-07-26 19:02:00-05:00    25.2\n",
       "2024-07-26 19:03:00-05:00    25.1\n",
       "2024-07-26 19:04:00-05:00    25.0\n",
       "2024-07-26 19:05:00-05:00    25.0\n",
       "2024-07-26 19:06:00-05:00    25.0\n",
       "2024-07-26 19:07:00-05:00    25.0\n",
       "2024-07-26 19:08:00-05:00    24.9\n",
       "2024-07-26 19:09:00-05:00    24.9\n",
       "2024-07-26 19:10:00-05:00    24.9\n",
       "2024-07-26 19:11:00-05:00    24.8\n",
       "Name: suburban_rural_temperature, dtype: float64"
      ]
     },
     "execution_count": 20,
     "metadata": {},
     "output_type": "execute_result"
    }
   ],
   "source": [
    "suburban_series.iloc[0:12]"
   ]
  },
  {
   "cell_type": "code",
   "execution_count": 21,
   "id": "59a10070",
   "metadata": {},
   "outputs": [
    {
     "data": {
      "text/plain": [
       "np.float64(25.2)"
      ]
     },
     "execution_count": 21,
     "metadata": {},
     "output_type": "execute_result"
    }
   ],
   "source": [
    "suburban_series.loc[\"2024-07-26T19:00\"]"
   ]
  },
  {
   "cell_type": "code",
   "execution_count": 22,
   "id": "3e2b3fc1",
   "metadata": {},
   "outputs": [
    {
     "data": {
      "text/plain": [
       "timestamp\n",
       "2024-07-26 19:00:00-05:00    25.2\n",
       "2024-07-26 19:01:00-05:00    25.2\n",
       "2024-07-26 19:02:00-05:00    25.2\n",
       "2024-07-26 19:03:00-05:00    25.1\n",
       "2024-07-26 19:04:00-05:00    25.0\n",
       "                             ... \n",
       "2024-07-26 19:56:00-05:00    22.7\n",
       "2024-07-26 19:57:00-05:00    22.7\n",
       "2024-07-26 19:58:00-05:00    22.6\n",
       "2024-07-26 19:59:00-05:00    22.5\n",
       "2024-07-26 20:00:00-05:00    22.4\n",
       "Name: suburban_rural_temperature, Length: 61, dtype: float64"
      ]
     },
     "execution_count": 22,
     "metadata": {},
     "output_type": "execute_result"
    }
   ],
   "source": [
    "suburban_series.loc[\"2024-07-26T19:00\":\"2024-07-26T20:00\"]"
   ]
  },
  {
   "cell_type": "markdown",
   "id": "722e3d11-4c27-4a4c-a31b-2d551587f2b3",
   "metadata": {},
   "source": [
    "### Extending to the `DataFrame`\n",
    "\n",
    "These subsetting capabilities can also be used in a full `DataFrame`; however, if you use the same syntax, there are issues, as shown below:"
   ]
  },
  {
   "cell_type": "code",
   "execution_count": 23,
   "id": "b8971371",
   "metadata": {
    "tags": [
     "raises-exception"
    ]
   },
   "outputs": [
    {
     "ename": "KeyError",
     "evalue": "'2024-07-26T19:00'",
     "output_type": "error",
     "traceback": [
      "\u001b[31m---------------------------------------------------------------------------\u001b[39m",
      "\u001b[31mKeyError\u001b[39m                                  Traceback (most recent call last)",
      "\u001b[36mFile \u001b[39m\u001b[32m~/mambaforge/envs/arm-summer-school-2025-dev/lib/python3.11/site-packages/pandas/core/indexes/base.py:3805\u001b[39m, in \u001b[36mIndex.get_loc\u001b[39m\u001b[34m(self, key)\u001b[39m\n\u001b[32m   3804\u001b[39m \u001b[38;5;28;01mtry\u001b[39;00m:\n\u001b[32m-> \u001b[39m\u001b[32m3805\u001b[39m     \u001b[38;5;28;01mreturn\u001b[39;00m \u001b[38;5;28;43mself\u001b[39;49m\u001b[43m.\u001b[49m\u001b[43m_engine\u001b[49m\u001b[43m.\u001b[49m\u001b[43mget_loc\u001b[49m\u001b[43m(\u001b[49m\u001b[43mcasted_key\u001b[49m\u001b[43m)\u001b[49m\n\u001b[32m   3806\u001b[39m \u001b[38;5;28;01mexcept\u001b[39;00m \u001b[38;5;167;01mKeyError\u001b[39;00m \u001b[38;5;28;01mas\u001b[39;00m err:\n",
      "\u001b[36mFile \u001b[39m\u001b[32mindex.pyx:167\u001b[39m, in \u001b[36mpandas._libs.index.IndexEngine.get_loc\u001b[39m\u001b[34m()\u001b[39m\n",
      "\u001b[36mFile \u001b[39m\u001b[32mindex.pyx:196\u001b[39m, in \u001b[36mpandas._libs.index.IndexEngine.get_loc\u001b[39m\u001b[34m()\u001b[39m\n",
      "\u001b[36mFile \u001b[39m\u001b[32mpandas/_libs/hashtable_class_helper.pxi:7081\u001b[39m, in \u001b[36mpandas._libs.hashtable.PyObjectHashTable.get_item\u001b[39m\u001b[34m()\u001b[39m\n",
      "\u001b[36mFile \u001b[39m\u001b[32mpandas/_libs/hashtable_class_helper.pxi:7089\u001b[39m, in \u001b[36mpandas._libs.hashtable.PyObjectHashTable.get_item\u001b[39m\u001b[34m()\u001b[39m\n",
      "\u001b[31mKeyError\u001b[39m: '2024-07-26T19:00'",
      "\nThe above exception was the direct cause of the following exception:\n",
      "\u001b[31mKeyError\u001b[39m                                  Traceback (most recent call last)",
      "\u001b[36mCell\u001b[39m\u001b[36m \u001b[39m\u001b[32mIn[23]\u001b[39m\u001b[32m, line 1\u001b[39m\n\u001b[32m----> \u001b[39m\u001b[32m1\u001b[39m \u001b[43mdf\u001b[49m\u001b[43m[\u001b[49m\u001b[33;43m\"\u001b[39;49m\u001b[33;43m2024-07-26T19:00\u001b[39;49m\u001b[33;43m\"\u001b[39;49m\u001b[43m]\u001b[49m\n",
      "\u001b[36mFile \u001b[39m\u001b[32m~/mambaforge/envs/arm-summer-school-2025-dev/lib/python3.11/site-packages/pandas/core/frame.py:4102\u001b[39m, in \u001b[36mDataFrame.__getitem__\u001b[39m\u001b[34m(self, key)\u001b[39m\n\u001b[32m   4100\u001b[39m \u001b[38;5;28;01mif\u001b[39;00m \u001b[38;5;28mself\u001b[39m.columns.nlevels > \u001b[32m1\u001b[39m:\n\u001b[32m   4101\u001b[39m     \u001b[38;5;28;01mreturn\u001b[39;00m \u001b[38;5;28mself\u001b[39m._getitem_multilevel(key)\n\u001b[32m-> \u001b[39m\u001b[32m4102\u001b[39m indexer = \u001b[38;5;28;43mself\u001b[39;49m\u001b[43m.\u001b[49m\u001b[43mcolumns\u001b[49m\u001b[43m.\u001b[49m\u001b[43mget_loc\u001b[49m\u001b[43m(\u001b[49m\u001b[43mkey\u001b[49m\u001b[43m)\u001b[49m\n\u001b[32m   4103\u001b[39m \u001b[38;5;28;01mif\u001b[39;00m is_integer(indexer):\n\u001b[32m   4104\u001b[39m     indexer = [indexer]\n",
      "\u001b[36mFile \u001b[39m\u001b[32m~/mambaforge/envs/arm-summer-school-2025-dev/lib/python3.11/site-packages/pandas/core/indexes/base.py:3812\u001b[39m, in \u001b[36mIndex.get_loc\u001b[39m\u001b[34m(self, key)\u001b[39m\n\u001b[32m   3807\u001b[39m     \u001b[38;5;28;01mif\u001b[39;00m \u001b[38;5;28misinstance\u001b[39m(casted_key, \u001b[38;5;28mslice\u001b[39m) \u001b[38;5;129;01mor\u001b[39;00m (\n\u001b[32m   3808\u001b[39m         \u001b[38;5;28misinstance\u001b[39m(casted_key, abc.Iterable)\n\u001b[32m   3809\u001b[39m         \u001b[38;5;129;01mand\u001b[39;00m \u001b[38;5;28many\u001b[39m(\u001b[38;5;28misinstance\u001b[39m(x, \u001b[38;5;28mslice\u001b[39m) \u001b[38;5;28;01mfor\u001b[39;00m x \u001b[38;5;129;01min\u001b[39;00m casted_key)\n\u001b[32m   3810\u001b[39m     ):\n\u001b[32m   3811\u001b[39m         \u001b[38;5;28;01mraise\u001b[39;00m InvalidIndexError(key)\n\u001b[32m-> \u001b[39m\u001b[32m3812\u001b[39m     \u001b[38;5;28;01mraise\u001b[39;00m \u001b[38;5;167;01mKeyError\u001b[39;00m(key) \u001b[38;5;28;01mfrom\u001b[39;00m \u001b[34;01merr\u001b[39;00m\n\u001b[32m   3813\u001b[39m \u001b[38;5;28;01mexcept\u001b[39;00m \u001b[38;5;167;01mTypeError\u001b[39;00m:\n\u001b[32m   3814\u001b[39m     \u001b[38;5;66;03m# If we have a listlike key, _check_indexing_error will raise\u001b[39;00m\n\u001b[32m   3815\u001b[39m     \u001b[38;5;66;03m#  InvalidIndexError. Otherwise we fall through and re-raise\u001b[39;00m\n\u001b[32m   3816\u001b[39m     \u001b[38;5;66;03m#  the TypeError.\u001b[39;00m\n\u001b[32m   3817\u001b[39m     \u001b[38;5;28mself\u001b[39m._check_indexing_error(key)\n",
      "\u001b[31mKeyError\u001b[39m: '2024-07-26T19:00'"
     ]
    }
   ],
   "source": [
    "df[\"2024-07-26T19:00\"]"
   ]
  },
  {
   "cell_type": "markdown",
   "id": "b89bf013-4492-461f-a1ef-a4f1a3423a4a",
   "metadata": {},
   "source": [
    "<div class=\"admonition alert alert-danger\">\n",
    "    <p class=\"admonition-title\" style=\"font-weight:bold\">Danger</p>\n",
    "    Attempting to use <code>Series</code> subsetting with a <code>DataFrame</code> can crash your program. A proper way to subset a <code>DataFrame</code> is shown below.\n",
    "</div>"
   ]
  },
  {
   "cell_type": "markdown",
   "id": "b40c7ace-939b-4997-a185-be1ea8363d06",
   "metadata": {},
   "source": [
    "When indexing a `DataFrame`, pandas will not assume as readily the intention of your code. In this case, using a row label by itself will not work; **with `DataFrames`, labels are used for identifying columns**."
   ]
  },
  {
   "cell_type": "code",
   "execution_count": 24,
   "id": "b504ed93-d310-4384-b99b-08d3ddc96bb0",
   "metadata": {},
   "outputs": [
    {
     "data": {
      "text/plain": [
       "timestamp\n",
       "2024-07-26 19:00:00-05:00    25.2\n",
       "2024-07-26 19:01:00-05:00    25.2\n",
       "2024-07-26 19:02:00-05:00    25.2\n",
       "2024-07-26 19:03:00-05:00    25.1\n",
       "2024-07-26 19:04:00-05:00    25.0\n",
       "                             ... \n",
       "2024-07-28 12:55:00-05:00    27.2\n",
       "2024-07-28 12:56:00-05:00    27.2\n",
       "2024-07-28 12:57:00-05:00    27.2\n",
       "2024-07-28 12:58:00-05:00    27.4\n",
       "2024-07-28 12:59:00-05:00    27.5\n",
       "Name: suburban_rural_temperature, Length: 2520, dtype: float64"
      ]
     },
     "execution_count": 24,
     "metadata": {},
     "output_type": "execute_result"
    }
   ],
   "source": [
    "df[\"suburban_rural_temperature\"]"
   ]
  },
  {
   "cell_type": "markdown",
   "id": "34196c97-5117-402c-a1d6-c05298ed8500",
   "metadata": {},
   "source": [
    "As shown below, you also cannot subset columns in a `DataFrame` using integer indices:"
   ]
  },
  {
   "cell_type": "code",
   "execution_count": 25,
   "id": "c393a116-da08-4b99-b87d-de76e2614f00",
   "metadata": {
    "tags": [
     "raises-exception"
    ]
   },
   "outputs": [
    {
     "ename": "KeyError",
     "evalue": "0",
     "output_type": "error",
     "traceback": [
      "\u001b[31m---------------------------------------------------------------------------\u001b[39m",
      "\u001b[31mKeyError\u001b[39m                                  Traceback (most recent call last)",
      "\u001b[36mFile \u001b[39m\u001b[32m~/mambaforge/envs/arm-summer-school-2025-dev/lib/python3.11/site-packages/pandas/core/indexes/base.py:3805\u001b[39m, in \u001b[36mIndex.get_loc\u001b[39m\u001b[34m(self, key)\u001b[39m\n\u001b[32m   3804\u001b[39m \u001b[38;5;28;01mtry\u001b[39;00m:\n\u001b[32m-> \u001b[39m\u001b[32m3805\u001b[39m     \u001b[38;5;28;01mreturn\u001b[39;00m \u001b[38;5;28;43mself\u001b[39;49m\u001b[43m.\u001b[49m\u001b[43m_engine\u001b[49m\u001b[43m.\u001b[49m\u001b[43mget_loc\u001b[49m\u001b[43m(\u001b[49m\u001b[43mcasted_key\u001b[49m\u001b[43m)\u001b[49m\n\u001b[32m   3806\u001b[39m \u001b[38;5;28;01mexcept\u001b[39;00m \u001b[38;5;167;01mKeyError\u001b[39;00m \u001b[38;5;28;01mas\u001b[39;00m err:\n",
      "\u001b[36mFile \u001b[39m\u001b[32mindex.pyx:167\u001b[39m, in \u001b[36mpandas._libs.index.IndexEngine.get_loc\u001b[39m\u001b[34m()\u001b[39m\n",
      "\u001b[36mFile \u001b[39m\u001b[32mindex.pyx:196\u001b[39m, in \u001b[36mpandas._libs.index.IndexEngine.get_loc\u001b[39m\u001b[34m()\u001b[39m\n",
      "\u001b[36mFile \u001b[39m\u001b[32mpandas/_libs/hashtable_class_helper.pxi:7081\u001b[39m, in \u001b[36mpandas._libs.hashtable.PyObjectHashTable.get_item\u001b[39m\u001b[34m()\u001b[39m\n",
      "\u001b[36mFile \u001b[39m\u001b[32mpandas/_libs/hashtable_class_helper.pxi:7089\u001b[39m, in \u001b[36mpandas._libs.hashtable.PyObjectHashTable.get_item\u001b[39m\u001b[34m()\u001b[39m\n",
      "\u001b[31mKeyError\u001b[39m: 0",
      "\nThe above exception was the direct cause of the following exception:\n",
      "\u001b[31mKeyError\u001b[39m                                  Traceback (most recent call last)",
      "\u001b[36mCell\u001b[39m\u001b[36m \u001b[39m\u001b[32mIn[25]\u001b[39m\u001b[32m, line 1\u001b[39m\n\u001b[32m----> \u001b[39m\u001b[32m1\u001b[39m \u001b[43mdf\u001b[49m\u001b[43m[\u001b[49m\u001b[32;43m0\u001b[39;49m\u001b[43m]\u001b[49m\n",
      "\u001b[36mFile \u001b[39m\u001b[32m~/mambaforge/envs/arm-summer-school-2025-dev/lib/python3.11/site-packages/pandas/core/frame.py:4102\u001b[39m, in \u001b[36mDataFrame.__getitem__\u001b[39m\u001b[34m(self, key)\u001b[39m\n\u001b[32m   4100\u001b[39m \u001b[38;5;28;01mif\u001b[39;00m \u001b[38;5;28mself\u001b[39m.columns.nlevels > \u001b[32m1\u001b[39m:\n\u001b[32m   4101\u001b[39m     \u001b[38;5;28;01mreturn\u001b[39;00m \u001b[38;5;28mself\u001b[39m._getitem_multilevel(key)\n\u001b[32m-> \u001b[39m\u001b[32m4102\u001b[39m indexer = \u001b[38;5;28;43mself\u001b[39;49m\u001b[43m.\u001b[49m\u001b[43mcolumns\u001b[49m\u001b[43m.\u001b[49m\u001b[43mget_loc\u001b[49m\u001b[43m(\u001b[49m\u001b[43mkey\u001b[49m\u001b[43m)\u001b[49m\n\u001b[32m   4103\u001b[39m \u001b[38;5;28;01mif\u001b[39;00m is_integer(indexer):\n\u001b[32m   4104\u001b[39m     indexer = [indexer]\n",
      "\u001b[36mFile \u001b[39m\u001b[32m~/mambaforge/envs/arm-summer-school-2025-dev/lib/python3.11/site-packages/pandas/core/indexes/base.py:3812\u001b[39m, in \u001b[36mIndex.get_loc\u001b[39m\u001b[34m(self, key)\u001b[39m\n\u001b[32m   3807\u001b[39m     \u001b[38;5;28;01mif\u001b[39;00m \u001b[38;5;28misinstance\u001b[39m(casted_key, \u001b[38;5;28mslice\u001b[39m) \u001b[38;5;129;01mor\u001b[39;00m (\n\u001b[32m   3808\u001b[39m         \u001b[38;5;28misinstance\u001b[39m(casted_key, abc.Iterable)\n\u001b[32m   3809\u001b[39m         \u001b[38;5;129;01mand\u001b[39;00m \u001b[38;5;28many\u001b[39m(\u001b[38;5;28misinstance\u001b[39m(x, \u001b[38;5;28mslice\u001b[39m) \u001b[38;5;28;01mfor\u001b[39;00m x \u001b[38;5;129;01min\u001b[39;00m casted_key)\n\u001b[32m   3810\u001b[39m     ):\n\u001b[32m   3811\u001b[39m         \u001b[38;5;28;01mraise\u001b[39;00m InvalidIndexError(key)\n\u001b[32m-> \u001b[39m\u001b[32m3812\u001b[39m     \u001b[38;5;28;01mraise\u001b[39;00m \u001b[38;5;167;01mKeyError\u001b[39;00m(key) \u001b[38;5;28;01mfrom\u001b[39;00m \u001b[34;01merr\u001b[39;00m\n\u001b[32m   3813\u001b[39m \u001b[38;5;28;01mexcept\u001b[39;00m \u001b[38;5;167;01mTypeError\u001b[39;00m:\n\u001b[32m   3814\u001b[39m     \u001b[38;5;66;03m# If we have a listlike key, _check_indexing_error will raise\u001b[39;00m\n\u001b[32m   3815\u001b[39m     \u001b[38;5;66;03m#  InvalidIndexError. Otherwise we fall through and re-raise\u001b[39;00m\n\u001b[32m   3816\u001b[39m     \u001b[38;5;66;03m#  the TypeError.\u001b[39;00m\n\u001b[32m   3817\u001b[39m     \u001b[38;5;28mself\u001b[39m._check_indexing_error(key)\n",
      "\u001b[31mKeyError\u001b[39m: 0"
     ]
    }
   ],
   "source": [
    "df[0]"
   ]
  },
  {
   "cell_type": "markdown",
   "id": "d4e6213d",
   "metadata": {},
   "source": [
    "From earlier examples, we know that we can use an index or label with a `DataFrame` to pull out a column as a `Series`, and we know that we can use an index or label with a `Series` to pull out a single value.  Therefore, by chaining brackets, we can pull any individual data value out of the `DataFrame`."
   ]
  },
  {
   "cell_type": "code",
   "execution_count": 26,
   "id": "c61fa6d4",
   "metadata": {
    "tags": []
   },
   "outputs": [
    {
     "data": {
      "text/plain": [
       "np.float64(25.2)"
      ]
     },
     "execution_count": 26,
     "metadata": {},
     "output_type": "execute_result"
    }
   ],
   "source": [
    "df[\"suburban_rural_temperature\"][\"2024-07-26T19:00\"]"
   ]
  },
  {
   "cell_type": "code",
   "execution_count": 27,
   "id": "3bd7cf95",
   "metadata": {},
   "outputs": [
    {
     "name": "stderr",
     "output_type": "stream",
     "text": [
      "/var/folders/bw/c9j8z20x45s2y20vv6528qjc0000gq/T/ipykernel_73812/603665387.py:1: FutureWarning: Series.__getitem__ treating keys as positions is deprecated. In a future version, integer keys will always be treated as labels (consistent with DataFrame behavior). To access a value by position, use `ser.iloc[pos]`\n",
      "  df[\"suburban_rural_temperature\"][0]\n"
     ]
    },
    {
     "data": {
      "text/plain": [
       "np.float64(25.2)"
      ]
     },
     "execution_count": 27,
     "metadata": {},
     "output_type": "execute_result"
    }
   ],
   "source": [
    "df[\"suburban_rural_temperature\"][0]"
   ]
  },
  {
   "cell_type": "markdown",
   "id": "afb0d6ef",
   "metadata": {},
   "source": [
    "However, subsetting data using this chained-bracket technique is not preferred by Pandas. As described above, Pandas prefers us to use the `.loc` and `.iloc` methods for subsetting.  In addition, these methods provide a clearer, more efficient way to extract specific data from a `DataFrame`, as illustrated below:"
   ]
  },
  {
   "cell_type": "code",
   "execution_count": 28,
   "id": "9fb5df7b",
   "metadata": {},
   "outputs": [
    {
     "data": {
      "text/plain": [
       "np.float64(25.2)"
      ]
     },
     "execution_count": 28,
     "metadata": {},
     "output_type": "execute_result"
    }
   ],
   "source": [
    "df.loc[\"2024-07-26T19:00\", \"suburban_rural_temperature\"]"
   ]
  },
  {
   "cell_type": "markdown",
   "id": "98d6e445-51ed-4128-bfeb-fb82abbe9cb8",
   "metadata": {},
   "source": [
    "<div class=\"admonition alert alert-info\">\n",
    "    <p class=\"admonition-title\" style=\"font-weight:bold\">Info</p>\n",
    "    When using this syntax to pull individual data values from a DataFrame, make sure to list the row first, and then the column.\n",
    "</div>"
   ]
  },
  {
   "cell_type": "markdown",
   "id": "e710252f",
   "metadata": {},
   "source": [
    "The `.loc` and `.iloc` methods also allow us to pull entire rows out of a `DataFrame`, as shown in these examples:"
   ]
  },
  {
   "cell_type": "code",
   "execution_count": 29,
   "id": "aad4fde6",
   "metadata": {},
   "outputs": [
    {
     "data": {
      "text/plain": [
       "urban_parking_lot_temperature    25.3\n",
       "urban_park_temperature           24.4\n",
       "suburban_rural_temperature       25.2\n",
       "Name: 2024-07-26 19:00:00-05:00, dtype: float64"
      ]
     },
     "execution_count": 29,
     "metadata": {},
     "output_type": "execute_result"
    }
   ],
   "source": [
    "df.loc[\"2024-07-26T19:00\"]"
   ]
  },
  {
   "cell_type": "code",
   "execution_count": 30,
   "id": "f93737ba",
   "metadata": {},
   "outputs": [
    {
     "data": {
      "text/html": [
       "<div>\n",
       "<style scoped>\n",
       "    .dataframe tbody tr th:only-of-type {\n",
       "        vertical-align: middle;\n",
       "    }\n",
       "\n",
       "    .dataframe tbody tr th {\n",
       "        vertical-align: top;\n",
       "    }\n",
       "\n",
       "    .dataframe thead th {\n",
       "        text-align: right;\n",
       "    }\n",
       "</style>\n",
       "<table border=\"1\" class=\"dataframe\">\n",
       "  <thead>\n",
       "    <tr style=\"text-align: right;\">\n",
       "      <th></th>\n",
       "      <th>urban_parking_lot_temperature</th>\n",
       "      <th>urban_park_temperature</th>\n",
       "      <th>suburban_rural_temperature</th>\n",
       "    </tr>\n",
       "    <tr>\n",
       "      <th>timestamp</th>\n",
       "      <th></th>\n",
       "      <th></th>\n",
       "      <th></th>\n",
       "    </tr>\n",
       "  </thead>\n",
       "  <tbody>\n",
       "    <tr>\n",
       "      <th>2024-07-26 19:00:00-05:00</th>\n",
       "      <td>25.300000</td>\n",
       "      <td>24.400000</td>\n",
       "      <td>25.2</td>\n",
       "    </tr>\n",
       "    <tr>\n",
       "      <th>2024-07-26 19:01:00-05:00</th>\n",
       "      <td>25.266667</td>\n",
       "      <td>24.400000</td>\n",
       "      <td>25.2</td>\n",
       "    </tr>\n",
       "    <tr>\n",
       "      <th>2024-07-26 19:02:00-05:00</th>\n",
       "      <td>25.166667</td>\n",
       "      <td>24.366667</td>\n",
       "      <td>25.2</td>\n",
       "    </tr>\n",
       "    <tr>\n",
       "      <th>2024-07-26 19:03:00-05:00</th>\n",
       "      <td>25.100000</td>\n",
       "      <td>24.300000</td>\n",
       "      <td>25.1</td>\n",
       "    </tr>\n",
       "    <tr>\n",
       "      <th>2024-07-26 19:04:00-05:00</th>\n",
       "      <td>25.133333</td>\n",
       "      <td>24.300000</td>\n",
       "      <td>25.0</td>\n",
       "    </tr>\n",
       "    <tr>\n",
       "      <th>...</th>\n",
       "      <td>...</td>\n",
       "      <td>...</td>\n",
       "      <td>...</td>\n",
       "    </tr>\n",
       "    <tr>\n",
       "      <th>2024-07-26 19:56:00-05:00</th>\n",
       "      <td>24.166667</td>\n",
       "      <td>23.833333</td>\n",
       "      <td>22.7</td>\n",
       "    </tr>\n",
       "    <tr>\n",
       "      <th>2024-07-26 19:57:00-05:00</th>\n",
       "      <td>24.100000</td>\n",
       "      <td>23.900000</td>\n",
       "      <td>22.7</td>\n",
       "    </tr>\n",
       "    <tr>\n",
       "      <th>2024-07-26 19:58:00-05:00</th>\n",
       "      <td>24.133333</td>\n",
       "      <td>23.900000</td>\n",
       "      <td>22.6</td>\n",
       "    </tr>\n",
       "    <tr>\n",
       "      <th>2024-07-26 19:59:00-05:00</th>\n",
       "      <td>24.200000</td>\n",
       "      <td>23.900000</td>\n",
       "      <td>22.5</td>\n",
       "    </tr>\n",
       "    <tr>\n",
       "      <th>2024-07-26 20:00:00-05:00</th>\n",
       "      <td>24.200000</td>\n",
       "      <td>23.866667</td>\n",
       "      <td>22.4</td>\n",
       "    </tr>\n",
       "  </tbody>\n",
       "</table>\n",
       "<p>61 rows × 3 columns</p>\n",
       "</div>"
      ],
      "text/plain": [
       "                           urban_parking_lot_temperature  \\\n",
       "timestamp                                                  \n",
       "2024-07-26 19:00:00-05:00                      25.300000   \n",
       "2024-07-26 19:01:00-05:00                      25.266667   \n",
       "2024-07-26 19:02:00-05:00                      25.166667   \n",
       "2024-07-26 19:03:00-05:00                      25.100000   \n",
       "2024-07-26 19:04:00-05:00                      25.133333   \n",
       "...                                                  ...   \n",
       "2024-07-26 19:56:00-05:00                      24.166667   \n",
       "2024-07-26 19:57:00-05:00                      24.100000   \n",
       "2024-07-26 19:58:00-05:00                      24.133333   \n",
       "2024-07-26 19:59:00-05:00                      24.200000   \n",
       "2024-07-26 20:00:00-05:00                      24.200000   \n",
       "\n",
       "                           urban_park_temperature  suburban_rural_temperature  \n",
       "timestamp                                                                      \n",
       "2024-07-26 19:00:00-05:00               24.400000                        25.2  \n",
       "2024-07-26 19:01:00-05:00               24.400000                        25.2  \n",
       "2024-07-26 19:02:00-05:00               24.366667                        25.2  \n",
       "2024-07-26 19:03:00-05:00               24.300000                        25.1  \n",
       "2024-07-26 19:04:00-05:00               24.300000                        25.0  \n",
       "...                                           ...                         ...  \n",
       "2024-07-26 19:56:00-05:00               23.833333                        22.7  \n",
       "2024-07-26 19:57:00-05:00               23.900000                        22.7  \n",
       "2024-07-26 19:58:00-05:00               23.900000                        22.6  \n",
       "2024-07-26 19:59:00-05:00               23.900000                        22.5  \n",
       "2024-07-26 20:00:00-05:00               23.866667                        22.4  \n",
       "\n",
       "[61 rows x 3 columns]"
      ]
     },
     "execution_count": 30,
     "metadata": {},
     "output_type": "execute_result"
    }
   ],
   "source": [
    "df.loc[\"2024-07-26T19:00\":\"2024-07-26T20:00\"]"
   ]
  },
  {
   "cell_type": "code",
   "execution_count": 31,
   "id": "6c23cbca",
   "metadata": {},
   "outputs": [
    {
     "data": {
      "text/plain": [
       "urban_parking_lot_temperature    25.1\n",
       "urban_park_temperature           24.3\n",
       "suburban_rural_temperature       25.1\n",
       "Name: 2024-07-26 19:03:00-05:00, dtype: float64"
      ]
     },
     "execution_count": 31,
     "metadata": {},
     "output_type": "execute_result"
    }
   ],
   "source": [
    "df.iloc[3]"
   ]
  },
  {
   "cell_type": "code",
   "execution_count": 32,
   "id": "22c07d7d",
   "metadata": {},
   "outputs": [
    {
     "data": {
      "text/html": [
       "<div>\n",
       "<style scoped>\n",
       "    .dataframe tbody tr th:only-of-type {\n",
       "        vertical-align: middle;\n",
       "    }\n",
       "\n",
       "    .dataframe tbody tr th {\n",
       "        vertical-align: top;\n",
       "    }\n",
       "\n",
       "    .dataframe thead th {\n",
       "        text-align: right;\n",
       "    }\n",
       "</style>\n",
       "<table border=\"1\" class=\"dataframe\">\n",
       "  <thead>\n",
       "    <tr style=\"text-align: right;\">\n",
       "      <th></th>\n",
       "      <th>urban_parking_lot_temperature</th>\n",
       "      <th>urban_park_temperature</th>\n",
       "      <th>suburban_rural_temperature</th>\n",
       "    </tr>\n",
       "    <tr>\n",
       "      <th>timestamp</th>\n",
       "      <th></th>\n",
       "      <th></th>\n",
       "      <th></th>\n",
       "    </tr>\n",
       "  </thead>\n",
       "  <tbody>\n",
       "    <tr>\n",
       "      <th>2024-07-26 19:00:00-05:00</th>\n",
       "      <td>25.300000</td>\n",
       "      <td>24.400000</td>\n",
       "      <td>25.2</td>\n",
       "    </tr>\n",
       "    <tr>\n",
       "      <th>2024-07-26 19:01:00-05:00</th>\n",
       "      <td>25.266667</td>\n",
       "      <td>24.400000</td>\n",
       "      <td>25.2</td>\n",
       "    </tr>\n",
       "    <tr>\n",
       "      <th>2024-07-26 19:02:00-05:00</th>\n",
       "      <td>25.166667</td>\n",
       "      <td>24.366667</td>\n",
       "      <td>25.2</td>\n",
       "    </tr>\n",
       "    <tr>\n",
       "      <th>2024-07-26 19:03:00-05:00</th>\n",
       "      <td>25.100000</td>\n",
       "      <td>24.300000</td>\n",
       "      <td>25.1</td>\n",
       "    </tr>\n",
       "    <tr>\n",
       "      <th>2024-07-26 19:04:00-05:00</th>\n",
       "      <td>25.133333</td>\n",
       "      <td>24.300000</td>\n",
       "      <td>25.0</td>\n",
       "    </tr>\n",
       "    <tr>\n",
       "      <th>2024-07-26 19:05:00-05:00</th>\n",
       "      <td>25.233333</td>\n",
       "      <td>24.300000</td>\n",
       "      <td>25.0</td>\n",
       "    </tr>\n",
       "    <tr>\n",
       "      <th>2024-07-26 19:06:00-05:00</th>\n",
       "      <td>25.333333</td>\n",
       "      <td>24.300000</td>\n",
       "      <td>25.0</td>\n",
       "    </tr>\n",
       "    <tr>\n",
       "      <th>2024-07-26 19:07:00-05:00</th>\n",
       "      <td>25.400000</td>\n",
       "      <td>24.300000</td>\n",
       "      <td>25.0</td>\n",
       "    </tr>\n",
       "    <tr>\n",
       "      <th>2024-07-26 19:08:00-05:00</th>\n",
       "      <td>25.400000</td>\n",
       "      <td>24.300000</td>\n",
       "      <td>24.9</td>\n",
       "    </tr>\n",
       "    <tr>\n",
       "      <th>2024-07-26 19:09:00-05:00</th>\n",
       "      <td>25.400000</td>\n",
       "      <td>24.300000</td>\n",
       "      <td>24.9</td>\n",
       "    </tr>\n",
       "    <tr>\n",
       "      <th>2024-07-26 19:10:00-05:00</th>\n",
       "      <td>25.400000</td>\n",
       "      <td>24.266667</td>\n",
       "      <td>24.9</td>\n",
       "    </tr>\n",
       "    <tr>\n",
       "      <th>2024-07-26 19:11:00-05:00</th>\n",
       "      <td>25.366667</td>\n",
       "      <td>24.166667</td>\n",
       "      <td>24.8</td>\n",
       "    </tr>\n",
       "  </tbody>\n",
       "</table>\n",
       "</div>"
      ],
      "text/plain": [
       "                           urban_parking_lot_temperature  \\\n",
       "timestamp                                                  \n",
       "2024-07-26 19:00:00-05:00                      25.300000   \n",
       "2024-07-26 19:01:00-05:00                      25.266667   \n",
       "2024-07-26 19:02:00-05:00                      25.166667   \n",
       "2024-07-26 19:03:00-05:00                      25.100000   \n",
       "2024-07-26 19:04:00-05:00                      25.133333   \n",
       "2024-07-26 19:05:00-05:00                      25.233333   \n",
       "2024-07-26 19:06:00-05:00                      25.333333   \n",
       "2024-07-26 19:07:00-05:00                      25.400000   \n",
       "2024-07-26 19:08:00-05:00                      25.400000   \n",
       "2024-07-26 19:09:00-05:00                      25.400000   \n",
       "2024-07-26 19:10:00-05:00                      25.400000   \n",
       "2024-07-26 19:11:00-05:00                      25.366667   \n",
       "\n",
       "                           urban_park_temperature  suburban_rural_temperature  \n",
       "timestamp                                                                      \n",
       "2024-07-26 19:00:00-05:00               24.400000                        25.2  \n",
       "2024-07-26 19:01:00-05:00               24.400000                        25.2  \n",
       "2024-07-26 19:02:00-05:00               24.366667                        25.2  \n",
       "2024-07-26 19:03:00-05:00               24.300000                        25.1  \n",
       "2024-07-26 19:04:00-05:00               24.300000                        25.0  \n",
       "2024-07-26 19:05:00-05:00               24.300000                        25.0  \n",
       "2024-07-26 19:06:00-05:00               24.300000                        25.0  \n",
       "2024-07-26 19:07:00-05:00               24.300000                        25.0  \n",
       "2024-07-26 19:08:00-05:00               24.300000                        24.9  \n",
       "2024-07-26 19:09:00-05:00               24.300000                        24.9  \n",
       "2024-07-26 19:10:00-05:00               24.266667                        24.9  \n",
       "2024-07-26 19:11:00-05:00               24.166667                        24.8  "
      ]
     },
     "execution_count": 32,
     "metadata": {},
     "output_type": "execute_result"
    }
   ],
   "source": [
    "df.iloc[0:12]"
   ]
  },
  {
   "cell_type": "markdown",
   "id": "4c2ed15e",
   "metadata": {},
   "source": [
    "In the next example, we illustrate how you can use slices of rows and lists of columns to create a smaller `DataFrame` out of an existing `DataFrame`:"
   ]
  },
  {
   "cell_type": "code",
   "execution_count": 33,
   "id": "8390a35b",
   "metadata": {},
   "outputs": [
    {
     "data": {
      "text/html": [
       "<div>\n",
       "<style scoped>\n",
       "    .dataframe tbody tr th:only-of-type {\n",
       "        vertical-align: middle;\n",
       "    }\n",
       "\n",
       "    .dataframe tbody tr th {\n",
       "        vertical-align: top;\n",
       "    }\n",
       "\n",
       "    .dataframe thead th {\n",
       "        text-align: right;\n",
       "    }\n",
       "</style>\n",
       "<table border=\"1\" class=\"dataframe\">\n",
       "  <thead>\n",
       "    <tr style=\"text-align: right;\">\n",
       "      <th></th>\n",
       "      <th>urban_parking_lot_temperature</th>\n",
       "      <th>urban_park_temperature</th>\n",
       "      <th>suburban_rural_temperature</th>\n",
       "    </tr>\n",
       "    <tr>\n",
       "      <th>timestamp</th>\n",
       "      <th></th>\n",
       "      <th></th>\n",
       "      <th></th>\n",
       "    </tr>\n",
       "  </thead>\n",
       "  <tbody>\n",
       "    <tr>\n",
       "      <th>2024-07-27 00:00:00-05:00</th>\n",
       "      <td>23.0</td>\n",
       "      <td>22.966667</td>\n",
       "      <td>17.5</td>\n",
       "    </tr>\n",
       "    <tr>\n",
       "      <th>2024-07-27 00:01:00-05:00</th>\n",
       "      <td>23.1</td>\n",
       "      <td>22.900000</td>\n",
       "      <td>17.5</td>\n",
       "    </tr>\n",
       "    <tr>\n",
       "      <th>2024-07-27 00:02:00-05:00</th>\n",
       "      <td>23.1</td>\n",
       "      <td>22.900000</td>\n",
       "      <td>17.5</td>\n",
       "    </tr>\n",
       "    <tr>\n",
       "      <th>2024-07-27 00:03:00-05:00</th>\n",
       "      <td>23.1</td>\n",
       "      <td>22.900000</td>\n",
       "      <td>17.5</td>\n",
       "    </tr>\n",
       "    <tr>\n",
       "      <th>2024-07-27 00:04:00-05:00</th>\n",
       "      <td>23.1</td>\n",
       "      <td>22.900000</td>\n",
       "      <td>17.5</td>\n",
       "    </tr>\n",
       "    <tr>\n",
       "      <th>...</th>\n",
       "      <td>...</td>\n",
       "      <td>...</td>\n",
       "      <td>...</td>\n",
       "    </tr>\n",
       "    <tr>\n",
       "      <th>2024-07-27 23:56:00-05:00</th>\n",
       "      <td>25.1</td>\n",
       "      <td>24.800000</td>\n",
       "      <td>20.7</td>\n",
       "    </tr>\n",
       "    <tr>\n",
       "      <th>2024-07-27 23:57:00-05:00</th>\n",
       "      <td>25.1</td>\n",
       "      <td>24.800000</td>\n",
       "      <td>20.7</td>\n",
       "    </tr>\n",
       "    <tr>\n",
       "      <th>2024-07-27 23:58:00-05:00</th>\n",
       "      <td>25.1</td>\n",
       "      <td>24.800000</td>\n",
       "      <td>20.7</td>\n",
       "    </tr>\n",
       "    <tr>\n",
       "      <th>2024-07-27 23:59:00-05:00</th>\n",
       "      <td>25.1</td>\n",
       "      <td>24.800000</td>\n",
       "      <td>20.7</td>\n",
       "    </tr>\n",
       "    <tr>\n",
       "      <th>2024-07-28 00:00:00-05:00</th>\n",
       "      <td>25.1</td>\n",
       "      <td>24.800000</td>\n",
       "      <td>20.6</td>\n",
       "    </tr>\n",
       "  </tbody>\n",
       "</table>\n",
       "<p>1441 rows × 3 columns</p>\n",
       "</div>"
      ],
      "text/plain": [
       "                           urban_parking_lot_temperature  \\\n",
       "timestamp                                                  \n",
       "2024-07-27 00:00:00-05:00                           23.0   \n",
       "2024-07-27 00:01:00-05:00                           23.1   \n",
       "2024-07-27 00:02:00-05:00                           23.1   \n",
       "2024-07-27 00:03:00-05:00                           23.1   \n",
       "2024-07-27 00:04:00-05:00                           23.1   \n",
       "...                                                  ...   \n",
       "2024-07-27 23:56:00-05:00                           25.1   \n",
       "2024-07-27 23:57:00-05:00                           25.1   \n",
       "2024-07-27 23:58:00-05:00                           25.1   \n",
       "2024-07-27 23:59:00-05:00                           25.1   \n",
       "2024-07-28 00:00:00-05:00                           25.1   \n",
       "\n",
       "                           urban_park_temperature  suburban_rural_temperature  \n",
       "timestamp                                                                      \n",
       "2024-07-27 00:00:00-05:00               22.966667                        17.5  \n",
       "2024-07-27 00:01:00-05:00               22.900000                        17.5  \n",
       "2024-07-27 00:02:00-05:00               22.900000                        17.5  \n",
       "2024-07-27 00:03:00-05:00               22.900000                        17.5  \n",
       "2024-07-27 00:04:00-05:00               22.900000                        17.5  \n",
       "...                                           ...                         ...  \n",
       "2024-07-27 23:56:00-05:00               24.800000                        20.7  \n",
       "2024-07-27 23:57:00-05:00               24.800000                        20.7  \n",
       "2024-07-27 23:58:00-05:00               24.800000                        20.7  \n",
       "2024-07-27 23:59:00-05:00               24.800000                        20.7  \n",
       "2024-07-28 00:00:00-05:00               24.800000                        20.6  \n",
       "\n",
       "[1441 rows x 3 columns]"
      ]
     },
     "execution_count": 33,
     "metadata": {},
     "output_type": "execute_result"
    }
   ],
   "source": [
    "df.loc[\n",
    "    \"2024-07-27T00:00\":\"2024-07-28T00:00\",  # slice of rows\n",
    "    [\"urban_parking_lot_temperature\", \"urban_park_temperature\", \"suburban_rural_temperature\"],  # list of columns\n",
    "]"
   ]
  },
  {
   "cell_type": "markdown",
   "id": "c128cc18-e433-4060-870d-19835b5e556e",
   "metadata": {},
   "source": [
    "<div class=\"admonition alert alert-info\">\n",
    "    <p class=\"admonition-title\" style=\"font-weight:bold\">Info</p>\n",
    "    There are certain limitations to these subsetting techniques. For more information on these limitations, as well as a comparison of <code>DataFrame</code> and <code>Series</code> indexing methods, see the <a href=\"https://pandas.pydata.org/docs/user_guide/indexing.html\">Pandas indexing documentation.</a>\n",
    "</div>"
   ]
  },
  {
   "cell_type": "markdown",
   "id": "2e2739dc",
   "metadata": {},
   "source": [
    "## Exploratory Data Analysis\n",
    "\n",
    "### Get a Quick Look at the Beginning/End of your `DataFrame`\n",
    "Pandas also gives you a few shortcuts to quickly investigate entire `DataFrames`. The `head` method shows the first five rows of a `DataFrame`, and the `tail` method shows the last five rows of a `DataFrame`."
   ]
  },
  {
   "cell_type": "code",
   "execution_count": 34,
   "id": "3c11b92a",
   "metadata": {},
   "outputs": [
    {
     "data": {
      "text/html": [
       "<div>\n",
       "<style scoped>\n",
       "    .dataframe tbody tr th:only-of-type {\n",
       "        vertical-align: middle;\n",
       "    }\n",
       "\n",
       "    .dataframe tbody tr th {\n",
       "        vertical-align: top;\n",
       "    }\n",
       "\n",
       "    .dataframe thead th {\n",
       "        text-align: right;\n",
       "    }\n",
       "</style>\n",
       "<table border=\"1\" class=\"dataframe\">\n",
       "  <thead>\n",
       "    <tr style=\"text-align: right;\">\n",
       "      <th></th>\n",
       "      <th>urban_parking_lot_temperature</th>\n",
       "      <th>urban_park_temperature</th>\n",
       "      <th>suburban_rural_temperature</th>\n",
       "    </tr>\n",
       "    <tr>\n",
       "      <th>timestamp</th>\n",
       "      <th></th>\n",
       "      <th></th>\n",
       "      <th></th>\n",
       "    </tr>\n",
       "  </thead>\n",
       "  <tbody>\n",
       "    <tr>\n",
       "      <th>2024-07-26 19:00:00-05:00</th>\n",
       "      <td>25.300000</td>\n",
       "      <td>24.400000</td>\n",
       "      <td>25.2</td>\n",
       "    </tr>\n",
       "    <tr>\n",
       "      <th>2024-07-26 19:01:00-05:00</th>\n",
       "      <td>25.266667</td>\n",
       "      <td>24.400000</td>\n",
       "      <td>25.2</td>\n",
       "    </tr>\n",
       "    <tr>\n",
       "      <th>2024-07-26 19:02:00-05:00</th>\n",
       "      <td>25.166667</td>\n",
       "      <td>24.366667</td>\n",
       "      <td>25.2</td>\n",
       "    </tr>\n",
       "    <tr>\n",
       "      <th>2024-07-26 19:03:00-05:00</th>\n",
       "      <td>25.100000</td>\n",
       "      <td>24.300000</td>\n",
       "      <td>25.1</td>\n",
       "    </tr>\n",
       "    <tr>\n",
       "      <th>2024-07-26 19:04:00-05:00</th>\n",
       "      <td>25.133333</td>\n",
       "      <td>24.300000</td>\n",
       "      <td>25.0</td>\n",
       "    </tr>\n",
       "  </tbody>\n",
       "</table>\n",
       "</div>"
      ],
      "text/plain": [
       "                           urban_parking_lot_temperature  \\\n",
       "timestamp                                                  \n",
       "2024-07-26 19:00:00-05:00                      25.300000   \n",
       "2024-07-26 19:01:00-05:00                      25.266667   \n",
       "2024-07-26 19:02:00-05:00                      25.166667   \n",
       "2024-07-26 19:03:00-05:00                      25.100000   \n",
       "2024-07-26 19:04:00-05:00                      25.133333   \n",
       "\n",
       "                           urban_park_temperature  suburban_rural_temperature  \n",
       "timestamp                                                                      \n",
       "2024-07-26 19:00:00-05:00               24.400000                        25.2  \n",
       "2024-07-26 19:01:00-05:00               24.400000                        25.2  \n",
       "2024-07-26 19:02:00-05:00               24.366667                        25.2  \n",
       "2024-07-26 19:03:00-05:00               24.300000                        25.1  \n",
       "2024-07-26 19:04:00-05:00               24.300000                        25.0  "
      ]
     },
     "execution_count": 34,
     "metadata": {},
     "output_type": "execute_result"
    }
   ],
   "source": [
    "df.head()"
   ]
  },
  {
   "cell_type": "code",
   "execution_count": 35,
   "id": "3bf87294",
   "metadata": {
    "scrolled": true
   },
   "outputs": [
    {
     "data": {
      "text/html": [
       "<div>\n",
       "<style scoped>\n",
       "    .dataframe tbody tr th:only-of-type {\n",
       "        vertical-align: middle;\n",
       "    }\n",
       "\n",
       "    .dataframe tbody tr th {\n",
       "        vertical-align: top;\n",
       "    }\n",
       "\n",
       "    .dataframe thead th {\n",
       "        text-align: right;\n",
       "    }\n",
       "</style>\n",
       "<table border=\"1\" class=\"dataframe\">\n",
       "  <thead>\n",
       "    <tr style=\"text-align: right;\">\n",
       "      <th></th>\n",
       "      <th>urban_parking_lot_temperature</th>\n",
       "      <th>urban_park_temperature</th>\n",
       "      <th>suburban_rural_temperature</th>\n",
       "    </tr>\n",
       "    <tr>\n",
       "      <th>timestamp</th>\n",
       "      <th></th>\n",
       "      <th></th>\n",
       "      <th></th>\n",
       "    </tr>\n",
       "  </thead>\n",
       "  <tbody>\n",
       "    <tr>\n",
       "      <th>2024-07-28 12:55:00-05:00</th>\n",
       "      <td>27.100000</td>\n",
       "      <td>27.066667</td>\n",
       "      <td>27.2</td>\n",
       "    </tr>\n",
       "    <tr>\n",
       "      <th>2024-07-28 12:56:00-05:00</th>\n",
       "      <td>27.100000</td>\n",
       "      <td>27.033333</td>\n",
       "      <td>27.2</td>\n",
       "    </tr>\n",
       "    <tr>\n",
       "      <th>2024-07-28 12:57:00-05:00</th>\n",
       "      <td>27.100000</td>\n",
       "      <td>27.000000</td>\n",
       "      <td>27.2</td>\n",
       "    </tr>\n",
       "    <tr>\n",
       "      <th>2024-07-28 12:58:00-05:00</th>\n",
       "      <td>27.133333</td>\n",
       "      <td>27.000000</td>\n",
       "      <td>27.4</td>\n",
       "    </tr>\n",
       "    <tr>\n",
       "      <th>2024-07-28 12:59:00-05:00</th>\n",
       "      <td>27.200000</td>\n",
       "      <td>27.066667</td>\n",
       "      <td>27.5</td>\n",
       "    </tr>\n",
       "  </tbody>\n",
       "</table>\n",
       "</div>"
      ],
      "text/plain": [
       "                           urban_parking_lot_temperature  \\\n",
       "timestamp                                                  \n",
       "2024-07-28 12:55:00-05:00                      27.100000   \n",
       "2024-07-28 12:56:00-05:00                      27.100000   \n",
       "2024-07-28 12:57:00-05:00                      27.100000   \n",
       "2024-07-28 12:58:00-05:00                      27.133333   \n",
       "2024-07-28 12:59:00-05:00                      27.200000   \n",
       "\n",
       "                           urban_park_temperature  suburban_rural_temperature  \n",
       "timestamp                                                                      \n",
       "2024-07-28 12:55:00-05:00               27.066667                        27.2  \n",
       "2024-07-28 12:56:00-05:00               27.033333                        27.2  \n",
       "2024-07-28 12:57:00-05:00               27.000000                        27.2  \n",
       "2024-07-28 12:58:00-05:00               27.000000                        27.4  \n",
       "2024-07-28 12:59:00-05:00               27.066667                        27.5  "
      ]
     },
     "execution_count": 35,
     "metadata": {},
     "output_type": "execute_result"
    }
   ],
   "source": [
    "df.tail()"
   ]
  },
  {
   "cell_type": "markdown",
   "id": "cba9f221",
   "metadata": {},
   "source": [
    "### Quick Plots of Your Data\n",
    "A good way to explore your data is by making a simple plot. Pandas contains its own `plot` method; this allows us to plot Pandas series without needing `matplotlib`.  In this example, we plot the `urban_park_temperature` series of our `df` `DataFrame` in this way:"
   ]
  },
  {
   "cell_type": "code",
   "execution_count": 36,
   "id": "bf317171",
   "metadata": {},
   "outputs": [
    {
     "data": {
      "image/png": "[encoded data removed]",
      "text/plain": [
       "<Figure size 640x480 with 1 Axes>"
      ]
     },
     "metadata": {},
     "output_type": "display_data"
    }
   ],
   "source": [
    "df.urban_park_temperature.plot();"
   ]
  },
  {
   "cell_type": "markdown",
   "id": "99c2c7a3",
   "metadata": {},
   "source": [
    "Before, we called `.plot()`, which generated a single line plot. Line plots can be helpful for understanding some types of data, but there are other types of data that can be better understood with different plot types. For example, if your data values form a distribution, you can better understand them using a histogram plot.\n",
    "\n",
    "The code for plotting histogram data differs in two ways from the code above for the line plot. First, two series are being used from the `DataFrame` instead of one.  Second, after calling the `plot` method, we call an additional method called `hist`, which converts the plot into a histogram."
   ]
  },
  {
   "cell_type": "code",
   "execution_count": 65,
   "id": "5f85e2dd",
   "metadata": {},
   "outputs": [
    {
     "data": {
      "image/png": "[encoded data removed]",
      "text/plain": [
       "<Figure size 640x480 with 1 Axes>"
      ]
     },
     "metadata": {},
     "output_type": "display_data"
    }
   ],
   "source": [
    "df[['urban_parking_lot_temperature',\n",
    "    'urban_park_temperature', \n",
    "    'suburban_rural_temperature']].plot.hist(bins=20);"
   ]
  },
  {
   "cell_type": "markdown",
   "id": "a4e07618",
   "metadata": {},
   "source": [
    "The histogram plot helped us better understand our data; there are clear differences in the distributions, with the urban parking lot having slightly warmer extreme temperatures than the park location, and the suburban location with much lower values. To even better understand this type of data, it may also be helpful to create a box plot. This can be done using the same line of code, with one change: we call the `box` method instead of `hist`."
   ]
  },
  {
   "cell_type": "code",
   "execution_count": 70,
   "id": "6329d231",
   "metadata": {},
   "outputs": [
    {
     "data": {
      "image/png": "[encoded data removed]",
      "text/plain": [
       "<Figure size 640x480 with 1 Axes>"
      ]
     },
     "metadata": {},
     "output_type": "display_data"
    }
   ],
   "source": [
    "df[['urban_parking_lot_temperature',\n",
    "    'urban_park_temperature', \n",
    "    'suburban_rural_temperature']].plot.box(rot=45);"
   ]
  },
  {
   "cell_type": "markdown",
   "id": "c338385b",
   "metadata": {},
   "source": [
    "Just like the histogram plot, this box plot indicates a clear difference in the distributions. Using multiple types of plot in this way can be useful for verifying large datasets. The pandas plotting methods are capable of creating many different types of plots. To see how to use the plotting methods to generate each type of plot, please review the [pandas plot documentation](https://pandas.pydata.org/docs/reference/api/pandas.DataFrame.plot.html)."
   ]
  },
  {
   "cell_type": "markdown",
   "id": "69fc4078",
   "metadata": {},
   "source": [
    "#### Customize your Plot\n",
    "The pandas plotting methods are, in fact, wrappers for similar methods in matplotlib. This means that you can customize pandas plots by including keyword arguments to the plotting methods.  These keyword arguments, for the most part, are equivalent to their matplotlib counterparts."
   ]
  },
  {
   "cell_type": "code",
   "execution_count": 39,
   "id": "da22f990",
   "metadata": {},
   "outputs": [
    {
     "data": {
      "image/png": "[encoded data removed]",
      "text/plain": [
       "<Figure size 800x600 with 1 Axes>"
      ]
     },
     "metadata": {},
     "output_type": "display_data"
    }
   ],
   "source": [
    "df.urban_parking_lot_temperature.plot(\n",
    "    color='black',\n",
    "    linewidth=2,\n",
    "    xlabel='Local Time',\n",
    "    ylabel='Temperature (degC)',\n",
    "    figsize=(8, 6),\n",
    ");"
   ]
  },
  {
   "cell_type": "markdown",
   "id": "e7145ef6",
   "metadata": {},
   "source": [
    "Although plotting data can provide a clear visual picture of data values, sometimes a more quantitative look at data is warranted. As elaborated on in the next section, this can be achieved using the `describe` method.  The `describe` method is called on the entire `DataFrame`, and returns various summarized statistics for each column in the `DataFrame`.\n",
    "### Basic Statistics\n",
    "\n",
    "We can garner statistics for a `DataFrame` by using the `describe` method. When this method is called on a `DataFrame`, a set of statistics is returned in tabular format.  The columns match those of the `DataFrame`, and the rows indicate different statistics, such as minimum."
   ]
  },
  {
   "cell_type": "code",
   "execution_count": 40,
   "id": "3b5c27a8",
   "metadata": {},
   "outputs": [
    {
     "data": {
      "text/html": [
       "<div>\n",
       "<style scoped>\n",
       "    .dataframe tbody tr th:only-of-type {\n",
       "        vertical-align: middle;\n",
       "    }\n",
       "\n",
       "    .dataframe tbody tr th {\n",
       "        vertical-align: top;\n",
       "    }\n",
       "\n",
       "    .dataframe thead th {\n",
       "        text-align: right;\n",
       "    }\n",
       "</style>\n",
       "<table border=\"1\" class=\"dataframe\">\n",
       "  <thead>\n",
       "    <tr style=\"text-align: right;\">\n",
       "      <th></th>\n",
       "      <th>urban_parking_lot_temperature</th>\n",
       "      <th>urban_park_temperature</th>\n",
       "      <th>suburban_rural_temperature</th>\n",
       "    </tr>\n",
       "  </thead>\n",
       "  <tbody>\n",
       "    <tr>\n",
       "      <th>count</th>\n",
       "      <td>2520.000000</td>\n",
       "      <td>2520.000000</td>\n",
       "      <td>2520.00000</td>\n",
       "    </tr>\n",
       "    <tr>\n",
       "      <th>mean</th>\n",
       "      <td>25.181997</td>\n",
       "      <td>24.703479</td>\n",
       "      <td>22.22119</td>\n",
       "    </tr>\n",
       "    <tr>\n",
       "      <th>std</th>\n",
       "      <td>2.396415</td>\n",
       "      <td>2.170161</td>\n",
       "      <td>3.79821</td>\n",
       "    </tr>\n",
       "    <tr>\n",
       "      <th>min</th>\n",
       "      <td>20.700000</td>\n",
       "      <td>20.600000</td>\n",
       "      <td>16.00000</td>\n",
       "    </tr>\n",
       "    <tr>\n",
       "      <th>25%</th>\n",
       "      <td>23.258333</td>\n",
       "      <td>23.000000</td>\n",
       "      <td>19.60000</td>\n",
       "    </tr>\n",
       "    <tr>\n",
       "      <th>50%</th>\n",
       "      <td>24.666667</td>\n",
       "      <td>24.300000</td>\n",
       "      <td>21.00000</td>\n",
       "    </tr>\n",
       "    <tr>\n",
       "      <th>75%</th>\n",
       "      <td>27.200000</td>\n",
       "      <td>26.600000</td>\n",
       "      <td>25.50000</td>\n",
       "    </tr>\n",
       "    <tr>\n",
       "      <th>max</th>\n",
       "      <td>29.766667</td>\n",
       "      <td>28.700000</td>\n",
       "      <td>29.00000</td>\n",
       "    </tr>\n",
       "  </tbody>\n",
       "</table>\n",
       "</div>"
      ],
      "text/plain": [
       "       urban_parking_lot_temperature  urban_park_temperature  \\\n",
       "count                    2520.000000             2520.000000   \n",
       "mean                       25.181997               24.703479   \n",
       "std                         2.396415                2.170161   \n",
       "min                        20.700000               20.600000   \n",
       "25%                        23.258333               23.000000   \n",
       "50%                        24.666667               24.300000   \n",
       "75%                        27.200000               26.600000   \n",
       "max                        29.766667               28.700000   \n",
       "\n",
       "       suburban_rural_temperature  \n",
       "count                  2520.00000  \n",
       "mean                     22.22119  \n",
       "std                       3.79821  \n",
       "min                      16.00000  \n",
       "25%                      19.60000  \n",
       "50%                      21.00000  \n",
       "75%                      25.50000  \n",
       "max                      29.00000  "
      ]
     },
     "execution_count": 40,
     "metadata": {},
     "output_type": "execute_result"
    }
   ],
   "source": [
    "df.describe()"
   ]
  },
  {
   "cell_type": "markdown",
   "id": "a92bb8b3",
   "metadata": {},
   "source": [
    "You can also view specific statistics using corresponding methods. In this example, we look at the mean values in the entire `DataFrame`, using the `mean` method.  When such methods are called on the entire `DataFrame`, a `Series` is returned. The indices of this `Series` are the column names in the `DataFrame`, and the values are the calculated values (in this case, mean values) for the `DataFrame` columns."
   ]
  },
  {
   "cell_type": "code",
   "execution_count": 41,
   "id": "db9e4a16",
   "metadata": {},
   "outputs": [
    {
     "data": {
      "text/plain": [
       "urban_parking_lot_temperature    25.181997\n",
       "urban_park_temperature           24.703479\n",
       "suburban_rural_temperature       22.221190\n",
       "dtype: float64"
      ]
     },
     "execution_count": 41,
     "metadata": {},
     "output_type": "execute_result"
    }
   ],
   "source": [
    "df.mean()"
   ]
  },
  {
   "cell_type": "markdown",
   "id": "1ff5aec7",
   "metadata": {},
   "source": [
    "If you want a specific statistic for only one column in the `DataFrame`, pull the column out of the `DataFrame` with dot notation, then call the statistic function (in this case, mean) on that column, as shown below:"
   ]
  },
  {
   "cell_type": "code",
   "execution_count": 42,
   "id": "9aa38e59",
   "metadata": {},
   "outputs": [
    {
     "data": {
      "text/plain": [
       "np.float64(25.181997354497355)"
      ]
     },
     "execution_count": 42,
     "metadata": {},
     "output_type": "execute_result"
    }
   ],
   "source": [
    "df.urban_parking_lot_temperature.mean()"
   ]
  },
  {
   "cell_type": "markdown",
   "id": "7295e7b0",
   "metadata": {},
   "source": [
    "### Subsetting Using the Datetime Column\n",
    "\n",
    "Slicing is a useful technique for subsetting a `DataFrame`, but there are also other options that can be equally useful. In this section, some of these additional techniques are covered.\n",
    "\n",
    "If your `DataFrame` uses datetime values for indices, you can select data from only one month using `df.index.hour`. In this example, we specify the number 12, which only selects data from noon to 1 PM."
   ]
  },
  {
   "cell_type": "code",
   "execution_count": 43,
   "id": "a506724a",
   "metadata": {},
   "outputs": [
    {
     "data": {
      "text/html": [
       "<div>\n",
       "<style scoped>\n",
       "    .dataframe tbody tr th:only-of-type {\n",
       "        vertical-align: middle;\n",
       "    }\n",
       "\n",
       "    .dataframe tbody tr th {\n",
       "        vertical-align: top;\n",
       "    }\n",
       "\n",
       "    .dataframe thead th {\n",
       "        text-align: right;\n",
       "    }\n",
       "</style>\n",
       "<table border=\"1\" class=\"dataframe\">\n",
       "  <thead>\n",
       "    <tr style=\"text-align: right;\">\n",
       "      <th></th>\n",
       "      <th>urban_parking_lot_temperature</th>\n",
       "      <th>urban_park_temperature</th>\n",
       "      <th>suburban_rural_temperature</th>\n",
       "    </tr>\n",
       "    <tr>\n",
       "      <th>timestamp</th>\n",
       "      <th></th>\n",
       "      <th></th>\n",
       "      <th></th>\n",
       "    </tr>\n",
       "  </thead>\n",
       "  <tbody>\n",
       "    <tr>\n",
       "      <th>2024-07-27 12:00:00-05:00</th>\n",
       "      <td>28.533333</td>\n",
       "      <td>27.500000</td>\n",
       "      <td>27.5</td>\n",
       "    </tr>\n",
       "    <tr>\n",
       "      <th>2024-07-27 12:01:00-05:00</th>\n",
       "      <td>28.533333</td>\n",
       "      <td>27.433333</td>\n",
       "      <td>27.5</td>\n",
       "    </tr>\n",
       "    <tr>\n",
       "      <th>2024-07-27 12:02:00-05:00</th>\n",
       "      <td>28.366667</td>\n",
       "      <td>27.466667</td>\n",
       "      <td>27.6</td>\n",
       "    </tr>\n",
       "    <tr>\n",
       "      <th>2024-07-27 12:03:00-05:00</th>\n",
       "      <td>28.333333</td>\n",
       "      <td>27.566667</td>\n",
       "      <td>27.6</td>\n",
       "    </tr>\n",
       "    <tr>\n",
       "      <th>2024-07-27 12:04:00-05:00</th>\n",
       "      <td>28.366667</td>\n",
       "      <td>27.600000</td>\n",
       "      <td>27.5</td>\n",
       "    </tr>\n",
       "    <tr>\n",
       "      <th>...</th>\n",
       "      <td>...</td>\n",
       "      <td>...</td>\n",
       "      <td>...</td>\n",
       "    </tr>\n",
       "    <tr>\n",
       "      <th>2024-07-28 12:55:00-05:00</th>\n",
       "      <td>27.100000</td>\n",
       "      <td>27.066667</td>\n",
       "      <td>27.2</td>\n",
       "    </tr>\n",
       "    <tr>\n",
       "      <th>2024-07-28 12:56:00-05:00</th>\n",
       "      <td>27.100000</td>\n",
       "      <td>27.033333</td>\n",
       "      <td>27.2</td>\n",
       "    </tr>\n",
       "    <tr>\n",
       "      <th>2024-07-28 12:57:00-05:00</th>\n",
       "      <td>27.100000</td>\n",
       "      <td>27.000000</td>\n",
       "      <td>27.2</td>\n",
       "    </tr>\n",
       "    <tr>\n",
       "      <th>2024-07-28 12:58:00-05:00</th>\n",
       "      <td>27.133333</td>\n",
       "      <td>27.000000</td>\n",
       "      <td>27.4</td>\n",
       "    </tr>\n",
       "    <tr>\n",
       "      <th>2024-07-28 12:59:00-05:00</th>\n",
       "      <td>27.200000</td>\n",
       "      <td>27.066667</td>\n",
       "      <td>27.5</td>\n",
       "    </tr>\n",
       "  </tbody>\n",
       "</table>\n",
       "<p>120 rows × 3 columns</p>\n",
       "</div>"
      ],
      "text/plain": [
       "                           urban_parking_lot_temperature  \\\n",
       "timestamp                                                  \n",
       "2024-07-27 12:00:00-05:00                      28.533333   \n",
       "2024-07-27 12:01:00-05:00                      28.533333   \n",
       "2024-07-27 12:02:00-05:00                      28.366667   \n",
       "2024-07-27 12:03:00-05:00                      28.333333   \n",
       "2024-07-27 12:04:00-05:00                      28.366667   \n",
       "...                                                  ...   \n",
       "2024-07-28 12:55:00-05:00                      27.100000   \n",
       "2024-07-28 12:56:00-05:00                      27.100000   \n",
       "2024-07-28 12:57:00-05:00                      27.100000   \n",
       "2024-07-28 12:58:00-05:00                      27.133333   \n",
       "2024-07-28 12:59:00-05:00                      27.200000   \n",
       "\n",
       "                           urban_park_temperature  suburban_rural_temperature  \n",
       "timestamp                                                                      \n",
       "2024-07-27 12:00:00-05:00               27.500000                        27.5  \n",
       "2024-07-27 12:01:00-05:00               27.433333                        27.5  \n",
       "2024-07-27 12:02:00-05:00               27.466667                        27.6  \n",
       "2024-07-27 12:03:00-05:00               27.566667                        27.6  \n",
       "2024-07-27 12:04:00-05:00               27.600000                        27.5  \n",
       "...                                           ...                         ...  \n",
       "2024-07-28 12:55:00-05:00               27.066667                        27.2  \n",
       "2024-07-28 12:56:00-05:00               27.033333                        27.2  \n",
       "2024-07-28 12:57:00-05:00               27.000000                        27.2  \n",
       "2024-07-28 12:58:00-05:00               27.000000                        27.4  \n",
       "2024-07-28 12:59:00-05:00               27.066667                        27.5  \n",
       "\n",
       "[120 rows x 3 columns]"
      ]
     },
     "execution_count": 43,
     "metadata": {},
     "output_type": "execute_result"
    }
   ],
   "source": [
    "# Uses the datetime column\n",
    "df[df.index.hour == 12]"
   ]
  },
  {
   "cell_type": "markdown",
   "id": "16d4e0e7",
   "metadata": {},
   "source": [
    "This example shows how to create a new column containing the month portion of the datetime index for each data row. The value returned by `df.index.hour` is used to obtain the data for this new column:"
   ]
  },
  {
   "cell_type": "code",
   "execution_count": 44,
   "id": "fe5d5ee4",
   "metadata": {},
   "outputs": [],
   "source": [
    "df['hour'] = df.index.hour"
   ]
  },
  {
   "cell_type": "markdown",
   "id": "8750443f",
   "metadata": {},
   "source": [
    "This next example illustrates how to use the new month column to calculate average monthly values over the other data columns. First, we use the `groupby` method to group the other columns by the hour.  Second, we take the average (mean) to obtain the hourly averages. Finally, we plot the resulting data as a line plot by simply calling `plot()`."
   ]
  },
  {
   "cell_type": "code",
   "execution_count": 45,
   "id": "f94c91f9",
   "metadata": {},
   "outputs": [
    {
     "data": {
      "image/png": "[encoded data removed]",
      "text/plain": [
       "<Figure size 640x480 with 1 Axes>"
      ]
     },
     "metadata": {},
     "output_type": "display_data"
    }
   ],
   "source": [
    "df.groupby('hour').mean().plot();"
   ]
  },
  {
   "cell_type": "markdown",
   "id": "a0c9481b",
   "metadata": {},
   "source": [
    "### Investigating Extreme Values"
   ]
  },
  {
   "cell_type": "markdown",
   "id": "9488903f-b1f3-4f72-926b-82f86e46f099",
   "metadata": {},
   "source": [
    "Let's start by calculating an \"urban heat island factor\", where we compare the temperature in the city, our urban sites, to the rural site. We will call it a \"temperature anomaly\", where it is our difference between the city temperature and the rural/suburban temperature."
   ]
  },
  {
   "cell_type": "code",
   "execution_count": 46,
   "id": "8ba2925f-3957-4e70-980d-bb3e120db1cd",
   "metadata": {},
   "outputs": [
    {
     "data": {
      "text/plain": [
       "<Axes: xlabel='timestamp'>"
      ]
     },
     "execution_count": 46,
     "metadata": {},
     "output_type": "execute_result"
    },
    {
     "data": {
      "image/png": "[encoded data removed]",
      "text/plain": [
       "<Figure size 640x480 with 1 Axes>"
      ]
     },
     "metadata": {},
     "output_type": "display_data"
    }
   ],
   "source": [
    "df[\"urban_park_anom\"]  = df.urban_park_temperature - df.suburban_rural_temperature\n",
    "df[\"urban_parking_lot_anom\"] =  df.urban_parking_lot_temperature - df.suburban_rural_temperature\n",
    "\n",
    "# Plot a quick plot of the data\n",
    "df[[\"urban_park_anom\", \"urban_parking_lot_anom\"]].plot()"
   ]
  },
  {
   "cell_type": "markdown",
   "id": "b32f1069-d4fb-4be8-a5b1-076ab14ec696",
   "metadata": {},
   "source": [
    "If you need to search for rows that meet a specific criterion, you can use **conditional indexing**.  In this example, we search for rows where the Nino34 anomaly value (`urban_parking_lot_anom`) is greater than 5, meaning the city is 5 degrees Celsius warmer than the suburban/rural site:"
   ]
  },
  {
   "cell_type": "code",
   "execution_count": 47,
   "id": "098fc88d",
   "metadata": {},
   "outputs": [
    {
     "data": {
      "text/html": [
       "<div>\n",
       "<style scoped>\n",
       "    .dataframe tbody tr th:only-of-type {\n",
       "        vertical-align: middle;\n",
       "    }\n",
       "\n",
       "    .dataframe tbody tr th {\n",
       "        vertical-align: top;\n",
       "    }\n",
       "\n",
       "    .dataframe thead th {\n",
       "        text-align: right;\n",
       "    }\n",
       "</style>\n",
       "<table border=\"1\" class=\"dataframe\">\n",
       "  <thead>\n",
       "    <tr style=\"text-align: right;\">\n",
       "      <th></th>\n",
       "      <th>urban_parking_lot_temperature</th>\n",
       "      <th>urban_park_temperature</th>\n",
       "      <th>suburban_rural_temperature</th>\n",
       "      <th>hour</th>\n",
       "      <th>urban_park_anom</th>\n",
       "      <th>urban_parking_lot_anom</th>\n",
       "    </tr>\n",
       "    <tr>\n",
       "      <th>timestamp</th>\n",
       "      <th></th>\n",
       "      <th></th>\n",
       "      <th></th>\n",
       "      <th></th>\n",
       "      <th></th>\n",
       "      <th></th>\n",
       "    </tr>\n",
       "  </thead>\n",
       "  <tbody>\n",
       "    <tr>\n",
       "      <th>2024-07-26 21:54:00-05:00</th>\n",
       "      <td>23.5</td>\n",
       "      <td>23.200000</td>\n",
       "      <td>18.4</td>\n",
       "      <td>21</td>\n",
       "      <td>4.800000</td>\n",
       "      <td>5.1</td>\n",
       "    </tr>\n",
       "    <tr>\n",
       "      <th>2024-07-26 21:55:00-05:00</th>\n",
       "      <td>23.5</td>\n",
       "      <td>23.200000</td>\n",
       "      <td>18.4</td>\n",
       "      <td>21</td>\n",
       "      <td>4.800000</td>\n",
       "      <td>5.1</td>\n",
       "    </tr>\n",
       "    <tr>\n",
       "      <th>2024-07-26 21:57:00-05:00</th>\n",
       "      <td>23.4</td>\n",
       "      <td>23.200000</td>\n",
       "      <td>18.3</td>\n",
       "      <td>21</td>\n",
       "      <td>4.900000</td>\n",
       "      <td>5.1</td>\n",
       "    </tr>\n",
       "    <tr>\n",
       "      <th>2024-07-26 21:58:00-05:00</th>\n",
       "      <td>23.4</td>\n",
       "      <td>23.200000</td>\n",
       "      <td>18.3</td>\n",
       "      <td>21</td>\n",
       "      <td>4.900000</td>\n",
       "      <td>5.1</td>\n",
       "    </tr>\n",
       "    <tr>\n",
       "      <th>2024-07-26 21:59:00-05:00</th>\n",
       "      <td>23.4</td>\n",
       "      <td>23.166667</td>\n",
       "      <td>18.3</td>\n",
       "      <td>21</td>\n",
       "      <td>4.866667</td>\n",
       "      <td>5.1</td>\n",
       "    </tr>\n",
       "    <tr>\n",
       "      <th>...</th>\n",
       "      <td>...</td>\n",
       "      <td>...</td>\n",
       "      <td>...</td>\n",
       "      <td>...</td>\n",
       "      <td>...</td>\n",
       "      <td>...</td>\n",
       "    </tr>\n",
       "    <tr>\n",
       "      <th>2024-07-28 01:54:00-05:00</th>\n",
       "      <td>24.6</td>\n",
       "      <td>24.300000</td>\n",
       "      <td>19.6</td>\n",
       "      <td>1</td>\n",
       "      <td>4.700000</td>\n",
       "      <td>5.0</td>\n",
       "    </tr>\n",
       "    <tr>\n",
       "      <th>2024-07-28 01:59:00-05:00</th>\n",
       "      <td>24.5</td>\n",
       "      <td>24.300000</td>\n",
       "      <td>19.4</td>\n",
       "      <td>1</td>\n",
       "      <td>4.900000</td>\n",
       "      <td>5.1</td>\n",
       "    </tr>\n",
       "    <tr>\n",
       "      <th>2024-07-28 02:00:00-05:00</th>\n",
       "      <td>24.5</td>\n",
       "      <td>24.300000</td>\n",
       "      <td>19.4</td>\n",
       "      <td>2</td>\n",
       "      <td>4.900000</td>\n",
       "      <td>5.1</td>\n",
       "    </tr>\n",
       "    <tr>\n",
       "      <th>2024-07-28 02:01:00-05:00</th>\n",
       "      <td>24.5</td>\n",
       "      <td>24.300000</td>\n",
       "      <td>19.4</td>\n",
       "      <td>2</td>\n",
       "      <td>4.900000</td>\n",
       "      <td>5.1</td>\n",
       "    </tr>\n",
       "    <tr>\n",
       "      <th>2024-07-28 02:02:00-05:00</th>\n",
       "      <td>24.5</td>\n",
       "      <td>24.300000</td>\n",
       "      <td>19.4</td>\n",
       "      <td>2</td>\n",
       "      <td>4.900000</td>\n",
       "      <td>5.1</td>\n",
       "    </tr>\n",
       "  </tbody>\n",
       "</table>\n",
       "<p>344 rows × 6 columns</p>\n",
       "</div>"
      ],
      "text/plain": [
       "                           urban_parking_lot_temperature  \\\n",
       "timestamp                                                  \n",
       "2024-07-26 21:54:00-05:00                           23.5   \n",
       "2024-07-26 21:55:00-05:00                           23.5   \n",
       "2024-07-26 21:57:00-05:00                           23.4   \n",
       "2024-07-26 21:58:00-05:00                           23.4   \n",
       "2024-07-26 21:59:00-05:00                           23.4   \n",
       "...                                                  ...   \n",
       "2024-07-28 01:54:00-05:00                           24.6   \n",
       "2024-07-28 01:59:00-05:00                           24.5   \n",
       "2024-07-28 02:00:00-05:00                           24.5   \n",
       "2024-07-28 02:01:00-05:00                           24.5   \n",
       "2024-07-28 02:02:00-05:00                           24.5   \n",
       "\n",
       "                           urban_park_temperature  suburban_rural_temperature  \\\n",
       "timestamp                                                                       \n",
       "2024-07-26 21:54:00-05:00               23.200000                        18.4   \n",
       "2024-07-26 21:55:00-05:00               23.200000                        18.4   \n",
       "2024-07-26 21:57:00-05:00               23.200000                        18.3   \n",
       "2024-07-26 21:58:00-05:00               23.200000                        18.3   \n",
       "2024-07-26 21:59:00-05:00               23.166667                        18.3   \n",
       "...                                           ...                         ...   \n",
       "2024-07-28 01:54:00-05:00               24.300000                        19.6   \n",
       "2024-07-28 01:59:00-05:00               24.300000                        19.4   \n",
       "2024-07-28 02:00:00-05:00               24.300000                        19.4   \n",
       "2024-07-28 02:01:00-05:00               24.300000                        19.4   \n",
       "2024-07-28 02:02:00-05:00               24.300000                        19.4   \n",
       "\n",
       "                           hour  urban_park_anom  urban_parking_lot_anom  \n",
       "timestamp                                                                 \n",
       "2024-07-26 21:54:00-05:00    21         4.800000                     5.1  \n",
       "2024-07-26 21:55:00-05:00    21         4.800000                     5.1  \n",
       "2024-07-26 21:57:00-05:00    21         4.900000                     5.1  \n",
       "2024-07-26 21:58:00-05:00    21         4.900000                     5.1  \n",
       "2024-07-26 21:59:00-05:00    21         4.866667                     5.1  \n",
       "...                         ...              ...                     ...  \n",
       "2024-07-28 01:54:00-05:00     1         4.700000                     5.0  \n",
       "2024-07-28 01:59:00-05:00     1         4.900000                     5.1  \n",
       "2024-07-28 02:00:00-05:00     2         4.900000                     5.1  \n",
       "2024-07-28 02:01:00-05:00     2         4.900000                     5.1  \n",
       "2024-07-28 02:02:00-05:00     2         4.900000                     5.1  \n",
       "\n",
       "[344 rows x 6 columns]"
      ]
     },
     "execution_count": 47,
     "metadata": {},
     "output_type": "execute_result"
    }
   ],
   "source": [
    "df[df.urban_parking_lot_anom > 5]"
   ]
  },
  {
   "cell_type": "markdown",
   "id": "37e8b37c-8151-4458-bc40-885e9eadf234",
   "metadata": {},
   "source": [
    "Notice how our largest difference is during the overnight hours - which makes physical sense as the city maintains its heat due to a lack of radiational cooling. The following graphic from the Environmental Protection Agency (EPA) highlights this concept well:\n",
    "![heat-island-effect](../imgs/heat_island_effect_diagram.jpg)\n",
    "\n",
    "More information here - https://www.epa.gov/heatislands/what-are-heat-islands"
   ]
  },
  {
   "cell_type": "markdown",
   "id": "f26bc439",
   "metadata": {},
   "source": [
    "This example shows how to use the `sort_values` method on a `DataFrame`. This method sorts values in a `DataFrame` by the column specified as an argument."
   ]
  },
  {
   "cell_type": "code",
   "execution_count": 48,
   "id": "8051c4f6",
   "metadata": {},
   "outputs": [
    {
     "data": {
      "text/html": [
       "<div>\n",
       "<style scoped>\n",
       "    .dataframe tbody tr th:only-of-type {\n",
       "        vertical-align: middle;\n",
       "    }\n",
       "\n",
       "    .dataframe tbody tr th {\n",
       "        vertical-align: top;\n",
       "    }\n",
       "\n",
       "    .dataframe thead th {\n",
       "        text-align: right;\n",
       "    }\n",
       "</style>\n",
       "<table border=\"1\" class=\"dataframe\">\n",
       "  <thead>\n",
       "    <tr style=\"text-align: right;\">\n",
       "      <th></th>\n",
       "      <th>urban_parking_lot_temperature</th>\n",
       "      <th>urban_park_temperature</th>\n",
       "      <th>suburban_rural_temperature</th>\n",
       "      <th>hour</th>\n",
       "      <th>urban_park_anom</th>\n",
       "      <th>urban_parking_lot_anom</th>\n",
       "    </tr>\n",
       "    <tr>\n",
       "      <th>timestamp</th>\n",
       "      <th></th>\n",
       "      <th></th>\n",
       "      <th></th>\n",
       "      <th></th>\n",
       "      <th></th>\n",
       "      <th></th>\n",
       "    </tr>\n",
       "  </thead>\n",
       "  <tbody>\n",
       "    <tr>\n",
       "      <th>2024-07-28 12:59:00-05:00</th>\n",
       "      <td>27.200000</td>\n",
       "      <td>27.066667</td>\n",
       "      <td>27.5</td>\n",
       "      <td>12</td>\n",
       "      <td>-0.433333</td>\n",
       "      <td>-0.300000</td>\n",
       "    </tr>\n",
       "    <tr>\n",
       "      <th>2024-07-28 12:58:00-05:00</th>\n",
       "      <td>27.133333</td>\n",
       "      <td>27.000000</td>\n",
       "      <td>27.4</td>\n",
       "      <td>12</td>\n",
       "      <td>-0.400000</td>\n",
       "      <td>-0.266667</td>\n",
       "    </tr>\n",
       "    <tr>\n",
       "      <th>2024-07-28 09:18:00-05:00</th>\n",
       "      <td>23.300000</td>\n",
       "      <td>23.400000</td>\n",
       "      <td>23.5</td>\n",
       "      <td>9</td>\n",
       "      <td>-0.100000</td>\n",
       "      <td>-0.200000</td>\n",
       "    </tr>\n",
       "    <tr>\n",
       "      <th>2024-07-28 09:19:00-05:00</th>\n",
       "      <td>23.300000</td>\n",
       "      <td>23.400000</td>\n",
       "      <td>23.5</td>\n",
       "      <td>9</td>\n",
       "      <td>-0.100000</td>\n",
       "      <td>-0.200000</td>\n",
       "    </tr>\n",
       "    <tr>\n",
       "      <th>2024-07-28 12:17:00-05:00</th>\n",
       "      <td>27.533333</td>\n",
       "      <td>27.300000</td>\n",
       "      <td>27.7</td>\n",
       "      <td>12</td>\n",
       "      <td>-0.400000</td>\n",
       "      <td>-0.166667</td>\n",
       "    </tr>\n",
       "    <tr>\n",
       "      <th>...</th>\n",
       "      <td>...</td>\n",
       "      <td>...</td>\n",
       "      <td>...</td>\n",
       "      <td>...</td>\n",
       "      <td>...</td>\n",
       "      <td>...</td>\n",
       "    </tr>\n",
       "    <tr>\n",
       "      <th>2024-07-27 00:16:00-05:00</th>\n",
       "      <td>23.000000</td>\n",
       "      <td>23.000000</td>\n",
       "      <td>17.0</td>\n",
       "      <td>0</td>\n",
       "      <td>6.000000</td>\n",
       "      <td>6.000000</td>\n",
       "    </tr>\n",
       "    <tr>\n",
       "      <th>2024-07-27 00:15:00-05:00</th>\n",
       "      <td>23.000000</td>\n",
       "      <td>22.933333</td>\n",
       "      <td>17.0</td>\n",
       "      <td>0</td>\n",
       "      <td>5.933333</td>\n",
       "      <td>6.000000</td>\n",
       "    </tr>\n",
       "    <tr>\n",
       "      <th>2024-07-27 00:13:00-05:00</th>\n",
       "      <td>23.000000</td>\n",
       "      <td>22.900000</td>\n",
       "      <td>17.0</td>\n",
       "      <td>0</td>\n",
       "      <td>5.900000</td>\n",
       "      <td>6.000000</td>\n",
       "    </tr>\n",
       "    <tr>\n",
       "      <th>2024-07-27 21:27:00-05:00</th>\n",
       "      <td>26.700000</td>\n",
       "      <td>25.800000</td>\n",
       "      <td>20.7</td>\n",
       "      <td>21</td>\n",
       "      <td>5.100000</td>\n",
       "      <td>6.000000</td>\n",
       "    </tr>\n",
       "    <tr>\n",
       "      <th>2024-07-27 00:14:00-05:00</th>\n",
       "      <td>23.000000</td>\n",
       "      <td>22.900000</td>\n",
       "      <td>16.9</td>\n",
       "      <td>0</td>\n",
       "      <td>6.000000</td>\n",
       "      <td>6.100000</td>\n",
       "    </tr>\n",
       "  </tbody>\n",
       "</table>\n",
       "<p>2520 rows × 6 columns</p>\n",
       "</div>"
      ],
      "text/plain": [
       "                           urban_parking_lot_temperature  \\\n",
       "timestamp                                                  \n",
       "2024-07-28 12:59:00-05:00                      27.200000   \n",
       "2024-07-28 12:58:00-05:00                      27.133333   \n",
       "2024-07-28 09:18:00-05:00                      23.300000   \n",
       "2024-07-28 09:19:00-05:00                      23.300000   \n",
       "2024-07-28 12:17:00-05:00                      27.533333   \n",
       "...                                                  ...   \n",
       "2024-07-27 00:16:00-05:00                      23.000000   \n",
       "2024-07-27 00:15:00-05:00                      23.000000   \n",
       "2024-07-27 00:13:00-05:00                      23.000000   \n",
       "2024-07-27 21:27:00-05:00                      26.700000   \n",
       "2024-07-27 00:14:00-05:00                      23.000000   \n",
       "\n",
       "                           urban_park_temperature  suburban_rural_temperature  \\\n",
       "timestamp                                                                       \n",
       "2024-07-28 12:59:00-05:00               27.066667                        27.5   \n",
       "2024-07-28 12:58:00-05:00               27.000000                        27.4   \n",
       "2024-07-28 09:18:00-05:00               23.400000                        23.5   \n",
       "2024-07-28 09:19:00-05:00               23.400000                        23.5   \n",
       "2024-07-28 12:17:00-05:00               27.300000                        27.7   \n",
       "...                                           ...                         ...   \n",
       "2024-07-27 00:16:00-05:00               23.000000                        17.0   \n",
       "2024-07-27 00:15:00-05:00               22.933333                        17.0   \n",
       "2024-07-27 00:13:00-05:00               22.900000                        17.0   \n",
       "2024-07-27 21:27:00-05:00               25.800000                        20.7   \n",
       "2024-07-27 00:14:00-05:00               22.900000                        16.9   \n",
       "\n",
       "                           hour  urban_park_anom  urban_parking_lot_anom  \n",
       "timestamp                                                                 \n",
       "2024-07-28 12:59:00-05:00    12        -0.433333               -0.300000  \n",
       "2024-07-28 12:58:00-05:00    12        -0.400000               -0.266667  \n",
       "2024-07-28 09:18:00-05:00     9        -0.100000               -0.200000  \n",
       "2024-07-28 09:19:00-05:00     9        -0.100000               -0.200000  \n",
       "2024-07-28 12:17:00-05:00    12        -0.400000               -0.166667  \n",
       "...                         ...              ...                     ...  \n",
       "2024-07-27 00:16:00-05:00     0         6.000000                6.000000  \n",
       "2024-07-27 00:15:00-05:00     0         5.933333                6.000000  \n",
       "2024-07-27 00:13:00-05:00     0         5.900000                6.000000  \n",
       "2024-07-27 21:27:00-05:00    21         5.100000                6.000000  \n",
       "2024-07-27 00:14:00-05:00     0         6.000000                6.100000  \n",
       "\n",
       "[2520 rows x 6 columns]"
      ]
     },
     "execution_count": 48,
     "metadata": {},
     "output_type": "execute_result"
    }
   ],
   "source": [
    "df.sort_values('urban_parking_lot_anom')"
   ]
  },
  {
   "cell_type": "markdown",
   "id": "a293de79",
   "metadata": {},
   "source": [
    "You can also reverse the ordering of the sort by specifying the `ascending` keyword argument as `False`:"
   ]
  },
  {
   "cell_type": "code",
   "execution_count": 49,
   "id": "be7ff8ce",
   "metadata": {},
   "outputs": [
    {
     "data": {
      "text/html": [
       "<div>\n",
       "<style scoped>\n",
       "    .dataframe tbody tr th:only-of-type {\n",
       "        vertical-align: middle;\n",
       "    }\n",
       "\n",
       "    .dataframe tbody tr th {\n",
       "        vertical-align: top;\n",
       "    }\n",
       "\n",
       "    .dataframe thead th {\n",
       "        text-align: right;\n",
       "    }\n",
       "</style>\n",
       "<table border=\"1\" class=\"dataframe\">\n",
       "  <thead>\n",
       "    <tr style=\"text-align: right;\">\n",
       "      <th></th>\n",
       "      <th>urban_parking_lot_temperature</th>\n",
       "      <th>urban_park_temperature</th>\n",
       "      <th>suburban_rural_temperature</th>\n",
       "      <th>hour</th>\n",
       "      <th>urban_park_anom</th>\n",
       "      <th>urban_parking_lot_anom</th>\n",
       "    </tr>\n",
       "    <tr>\n",
       "      <th>timestamp</th>\n",
       "      <th></th>\n",
       "      <th></th>\n",
       "      <th></th>\n",
       "      <th></th>\n",
       "      <th></th>\n",
       "      <th></th>\n",
       "    </tr>\n",
       "  </thead>\n",
       "  <tbody>\n",
       "    <tr>\n",
       "      <th>2024-07-27 00:14:00-05:00</th>\n",
       "      <td>23.000000</td>\n",
       "      <td>22.900000</td>\n",
       "      <td>16.9</td>\n",
       "      <td>0</td>\n",
       "      <td>6.000000</td>\n",
       "      <td>6.100000</td>\n",
       "    </tr>\n",
       "    <tr>\n",
       "      <th>2024-07-27 00:13:00-05:00</th>\n",
       "      <td>23.000000</td>\n",
       "      <td>22.900000</td>\n",
       "      <td>17.0</td>\n",
       "      <td>0</td>\n",
       "      <td>5.900000</td>\n",
       "      <td>6.000000</td>\n",
       "    </tr>\n",
       "    <tr>\n",
       "      <th>2024-07-27 00:15:00-05:00</th>\n",
       "      <td>23.000000</td>\n",
       "      <td>22.933333</td>\n",
       "      <td>17.0</td>\n",
       "      <td>0</td>\n",
       "      <td>5.933333</td>\n",
       "      <td>6.000000</td>\n",
       "    </tr>\n",
       "    <tr>\n",
       "      <th>2024-07-27 21:27:00-05:00</th>\n",
       "      <td>26.700000</td>\n",
       "      <td>25.800000</td>\n",
       "      <td>20.7</td>\n",
       "      <td>21</td>\n",
       "      <td>5.100000</td>\n",
       "      <td>6.000000</td>\n",
       "    </tr>\n",
       "    <tr>\n",
       "      <th>2024-07-27 00:16:00-05:00</th>\n",
       "      <td>23.000000</td>\n",
       "      <td>23.000000</td>\n",
       "      <td>17.0</td>\n",
       "      <td>0</td>\n",
       "      <td>6.000000</td>\n",
       "      <td>6.000000</td>\n",
       "    </tr>\n",
       "    <tr>\n",
       "      <th>...</th>\n",
       "      <td>...</td>\n",
       "      <td>...</td>\n",
       "      <td>...</td>\n",
       "      <td>...</td>\n",
       "      <td>...</td>\n",
       "      <td>...</td>\n",
       "    </tr>\n",
       "    <tr>\n",
       "      <th>2024-07-28 12:17:00-05:00</th>\n",
       "      <td>27.533333</td>\n",
       "      <td>27.300000</td>\n",
       "      <td>27.7</td>\n",
       "      <td>12</td>\n",
       "      <td>-0.400000</td>\n",
       "      <td>-0.166667</td>\n",
       "    </tr>\n",
       "    <tr>\n",
       "      <th>2024-07-28 09:18:00-05:00</th>\n",
       "      <td>23.300000</td>\n",
       "      <td>23.400000</td>\n",
       "      <td>23.5</td>\n",
       "      <td>9</td>\n",
       "      <td>-0.100000</td>\n",
       "      <td>-0.200000</td>\n",
       "    </tr>\n",
       "    <tr>\n",
       "      <th>2024-07-28 09:19:00-05:00</th>\n",
       "      <td>23.300000</td>\n",
       "      <td>23.400000</td>\n",
       "      <td>23.5</td>\n",
       "      <td>9</td>\n",
       "      <td>-0.100000</td>\n",
       "      <td>-0.200000</td>\n",
       "    </tr>\n",
       "    <tr>\n",
       "      <th>2024-07-28 12:58:00-05:00</th>\n",
       "      <td>27.133333</td>\n",
       "      <td>27.000000</td>\n",
       "      <td>27.4</td>\n",
       "      <td>12</td>\n",
       "      <td>-0.400000</td>\n",
       "      <td>-0.266667</td>\n",
       "    </tr>\n",
       "    <tr>\n",
       "      <th>2024-07-28 12:59:00-05:00</th>\n",
       "      <td>27.200000</td>\n",
       "      <td>27.066667</td>\n",
       "      <td>27.5</td>\n",
       "      <td>12</td>\n",
       "      <td>-0.433333</td>\n",
       "      <td>-0.300000</td>\n",
       "    </tr>\n",
       "  </tbody>\n",
       "</table>\n",
       "<p>2520 rows × 6 columns</p>\n",
       "</div>"
      ],
      "text/plain": [
       "                           urban_parking_lot_temperature  \\\n",
       "timestamp                                                  \n",
       "2024-07-27 00:14:00-05:00                      23.000000   \n",
       "2024-07-27 00:13:00-05:00                      23.000000   \n",
       "2024-07-27 00:15:00-05:00                      23.000000   \n",
       "2024-07-27 21:27:00-05:00                      26.700000   \n",
       "2024-07-27 00:16:00-05:00                      23.000000   \n",
       "...                                                  ...   \n",
       "2024-07-28 12:17:00-05:00                      27.533333   \n",
       "2024-07-28 09:18:00-05:00                      23.300000   \n",
       "2024-07-28 09:19:00-05:00                      23.300000   \n",
       "2024-07-28 12:58:00-05:00                      27.133333   \n",
       "2024-07-28 12:59:00-05:00                      27.200000   \n",
       "\n",
       "                           urban_park_temperature  suburban_rural_temperature  \\\n",
       "timestamp                                                                       \n",
       "2024-07-27 00:14:00-05:00               22.900000                        16.9   \n",
       "2024-07-27 00:13:00-05:00               22.900000                        17.0   \n",
       "2024-07-27 00:15:00-05:00               22.933333                        17.0   \n",
       "2024-07-27 21:27:00-05:00               25.800000                        20.7   \n",
       "2024-07-27 00:16:00-05:00               23.000000                        17.0   \n",
       "...                                           ...                         ...   \n",
       "2024-07-28 12:17:00-05:00               27.300000                        27.7   \n",
       "2024-07-28 09:18:00-05:00               23.400000                        23.5   \n",
       "2024-07-28 09:19:00-05:00               23.400000                        23.5   \n",
       "2024-07-28 12:58:00-05:00               27.000000                        27.4   \n",
       "2024-07-28 12:59:00-05:00               27.066667                        27.5   \n",
       "\n",
       "                           hour  urban_park_anom  urban_parking_lot_anom  \n",
       "timestamp                                                                 \n",
       "2024-07-27 00:14:00-05:00     0         6.000000                6.100000  \n",
       "2024-07-27 00:13:00-05:00     0         5.900000                6.000000  \n",
       "2024-07-27 00:15:00-05:00     0         5.933333                6.000000  \n",
       "2024-07-27 21:27:00-05:00    21         5.100000                6.000000  \n",
       "2024-07-27 00:16:00-05:00     0         6.000000                6.000000  \n",
       "...                         ...              ...                     ...  \n",
       "2024-07-28 12:17:00-05:00    12        -0.400000               -0.166667  \n",
       "2024-07-28 09:18:00-05:00     9        -0.100000               -0.200000  \n",
       "2024-07-28 09:19:00-05:00     9        -0.100000               -0.200000  \n",
       "2024-07-28 12:58:00-05:00    12        -0.400000               -0.266667  \n",
       "2024-07-28 12:59:00-05:00    12        -0.433333               -0.300000  \n",
       "\n",
       "[2520 rows x 6 columns]"
      ]
     },
     "execution_count": 49,
     "metadata": {},
     "output_type": "execute_result"
    }
   ],
   "source": [
    "df.sort_values('urban_parking_lot_anom', ascending=False)"
   ]
  },
  {
   "cell_type": "markdown",
   "id": "5504a0da",
   "metadata": {},
   "source": [
    "### Resampling\n",
    "In these examples, we illustrate a process known as resampling. Using resampling, you can change the frequency of index data values, reducing so-called 'noise' in a data plot. This is especially useful when working with timeseries data; plots can be equally effective with resampled data in these cases. The resampling performed in these examples converts minute values to hourly averages. This is performed by passing the value '1H' to the `resample` method."
   ]
  },
  {
   "cell_type": "code",
   "execution_count": 50,
   "id": "597cfeac",
   "metadata": {},
   "outputs": [
    {
     "data": {
      "image/png": "[encoded data removed]",
      "text/plain": [
       "<Figure size 640x480 with 1 Axes>"
      ]
     },
     "metadata": {},
     "output_type": "display_data"
    }
   ],
   "source": [
    "df.urban_parking_lot_anom.plot();"
   ]
  },
  {
   "cell_type": "code",
   "execution_count": 51,
   "id": "9e3ee506",
   "metadata": {},
   "outputs": [
    {
     "name": "stderr",
     "output_type": "stream",
     "text": [
      "/var/folders/bw/c9j8z20x45s2y20vv6528qjc0000gq/T/ipykernel_73812/249350787.py:1: FutureWarning: 'H' is deprecated and will be removed in a future version, please use 'h' instead.\n",
      "  df.urban_parking_lot_anom.resample('1H').mean().plot();\n"
     ]
    },
    {
     "data": {
      "image/png": "[encoded data removed]",
      "text/plain": [
       "<Figure size 640x480 with 1 Axes>"
      ]
     },
     "metadata": {},
     "output_type": "display_data"
    }
   ],
   "source": [
    "df.urban_parking_lot_anom.resample('1H').mean().plot();"
   ]
  },
  {
   "cell_type": "markdown",
   "id": "16c80788",
   "metadata": {},
   "source": [
    "### Applying operations to a DataFrame\n",
    "\n",
    "One of the most commonly used features in Pandas is the performing of calculations to multiple data values in a `DataFrame` simultaneously. Let's first look at a familiar concept: a function that converts single values.  The following example uses such a function to convert temperature values from degrees Celsius to Kelvin."
   ]
  },
  {
   "cell_type": "code",
   "execution_count": 52,
   "id": "c8afa857",
   "metadata": {},
   "outputs": [],
   "source": [
    "def convert_degc_to_degf(temperature_degc):\n",
    "    \"\"\"\n",
    "    Converts from degrees celsius to fahrenheit\n",
    "    \"\"\"\n",
    "\n",
    "    return (temperature_degc * 9/5) + 32"
   ]
  },
  {
   "cell_type": "code",
   "execution_count": 53,
   "id": "34892381",
   "metadata": {},
   "outputs": [
    {
     "data": {
      "text/plain": [
       "32.0"
      ]
     },
     "execution_count": 53,
     "metadata": {},
     "output_type": "execute_result"
    }
   ],
   "source": [
    "# Convert a single value\n",
    "convert_degc_to_degf(0)"
   ]
  },
  {
   "cell_type": "markdown",
   "id": "384a0bdb",
   "metadata": {},
   "source": [
    "The following examples instead illustrate a new concept: using such functions with `DataFrames` and `Series`. For the first example, we start by creating a `Series`; in order to do so, we subset the `DataFrame` by the `suburban_rural_temperature` column. This has already been done earlier in this page; we do not need to create this `Series` again. We are using this particular `Series` for a reason: the data values are in degrees Celsius."
   ]
  },
  {
   "cell_type": "code",
   "execution_count": 54,
   "id": "f09ee7c6",
   "metadata": {},
   "outputs": [
    {
     "data": {
      "text/plain": [
       "timestamp\n",
       "2024-07-26 19:00:00-05:00    25.2\n",
       "2024-07-26 19:01:00-05:00    25.2\n",
       "2024-07-26 19:02:00-05:00    25.2\n",
       "2024-07-26 19:03:00-05:00    25.1\n",
       "2024-07-26 19:04:00-05:00    25.0\n",
       "                             ... \n",
       "2024-07-28 12:55:00-05:00    27.2\n",
       "2024-07-28 12:56:00-05:00    27.2\n",
       "2024-07-28 12:57:00-05:00    27.2\n",
       "2024-07-28 12:58:00-05:00    27.4\n",
       "2024-07-28 12:59:00-05:00    27.5\n",
       "Name: suburban_rural_temperature, Length: 2520, dtype: float64"
      ]
     },
     "execution_count": 54,
     "metadata": {},
     "output_type": "execute_result"
    }
   ],
   "source": [
    "suburban_series"
   ]
  },
  {
   "cell_type": "markdown",
   "id": "28ac04e8",
   "metadata": {},
   "source": [
    "Here, we look at a portion of an existing `DataFrame` column. Notice that this column portion is a Pandas `Series`."
   ]
  },
  {
   "cell_type": "code",
   "execution_count": 55,
   "id": "8718a43f",
   "metadata": {},
   "outputs": [
    {
     "data": {
      "text/plain": [
       "pandas.core.series.Series"
      ]
     },
     "execution_count": 55,
     "metadata": {},
     "output_type": "execute_result"
    }
   ],
   "source": [
    "type(df.suburban_rural_temperature[0:10])"
   ]
  },
  {
   "cell_type": "markdown",
   "id": "ff1f569f",
   "metadata": {},
   "source": [
    "As shown in the following example, each Pandas `Series` contains a representation of its data in numpy format. Therefore, it is possible to convert a Pandas `Series` into a numpy array; this is done using the `.values` method:"
   ]
  },
  {
   "cell_type": "code",
   "execution_count": 56,
   "id": "61a8255f",
   "metadata": {},
   "outputs": [
    {
     "data": {
      "text/plain": [
       "numpy.ndarray"
      ]
     },
     "execution_count": 56,
     "metadata": {},
     "output_type": "execute_result"
    }
   ],
   "source": [
    "type(df.suburban_rural_temperature.values[0:10])"
   ]
  },
  {
   "cell_type": "markdown",
   "id": "2a5693fe",
   "metadata": {},
   "source": [
    "This example illustrates how to use the temperature-conversion function defined above on a `Series` object. Just as calling the function with a single value returns a single value, calling the function on a `Series` object returns another `Series` object. The function performs the temperature conversion on each data value in the `Series`, and returns a `Series` with all values converted."
   ]
  },
  {
   "cell_type": "code",
   "execution_count": 57,
   "id": "ae197a92",
   "metadata": {},
   "outputs": [
    {
     "data": {
      "text/plain": [
       "timestamp\n",
       "2024-07-26 19:00:00-05:00    77.36\n",
       "2024-07-26 19:01:00-05:00    77.36\n",
       "2024-07-26 19:02:00-05:00    77.36\n",
       "2024-07-26 19:03:00-05:00    77.18\n",
       "2024-07-26 19:04:00-05:00    77.00\n",
       "                             ...  \n",
       "2024-07-28 12:55:00-05:00    80.96\n",
       "2024-07-28 12:56:00-05:00    80.96\n",
       "2024-07-28 12:57:00-05:00    80.96\n",
       "2024-07-28 12:58:00-05:00    81.32\n",
       "2024-07-28 12:59:00-05:00    81.50\n",
       "Name: suburban_rural_temperature, Length: 2520, dtype: float64"
      ]
     },
     "execution_count": 57,
     "metadata": {},
     "output_type": "execute_result"
    }
   ],
   "source": [
    "convert_degc_to_degf(suburban_series)"
   ]
  },
  {
   "cell_type": "markdown",
   "id": "87871b82",
   "metadata": {},
   "source": [
    "If we call the `.values` method on the `Series` passed to the function, the `Series` is converted to a numpy array, as described above. The function then converts each value in the numpy array, and returns a new numpy array with all values sorted."
   ]
  },
  {
   "cell_type": "markdown",
   "id": "84ec100b-60bd-4cb9-b596-40af2a04b95d",
   "metadata": {},
   "source": [
    "<div class=\"admonition alert alert-warning\">\n",
    "    <p class=\"admonition-title\" style=\"font-weight:bold\">Warning</p>\n",
    "    It is recommended to only convert <code>Series</code> to NumPy arrays when necessary; doing so removes the label information that enables much of the Pandas core functionality.\n",
    "</div>"
   ]
  },
  {
   "cell_type": "code",
   "execution_count": 58,
   "id": "52ae68ee",
   "metadata": {},
   "outputs": [
    {
     "data": {
      "text/plain": [
       "array([77.36, 77.36, 77.36, ..., 80.96, 81.32, 81.5 ], shape=(2520,))"
      ]
     },
     "execution_count": 58,
     "metadata": {},
     "output_type": "execute_result"
    }
   ],
   "source": [
    "convert_degc_to_degf(suburban_series.values)"
   ]
  },
  {
   "cell_type": "markdown",
   "id": "65b3cd56",
   "metadata": {},
   "source": [
    "As described above, when our temperature-conversion function accepts a `Series` as an argument, it returns a `Series`. We can directly assign this returned `Series` to a new column in our `DataFrame`, as shown below:"
   ]
  },
  {
   "cell_type": "code",
   "execution_count": 59,
   "id": "2d84dfe1",
   "metadata": {},
   "outputs": [],
   "source": [
    "df['urban_parking_lot_temperature_degF'] = convert_degc_to_degf(df.urban_parking_lot_temperature)\n",
    "df['urban_park_temperature_degF'] = convert_degc_to_degf(df.urban_park_temperature)\n",
    "df[\"suburban_rural_temperature_degF\"]  = convert_degc_to_degf(df.suburban_rural_temperature)"
   ]
  },
  {
   "cell_type": "markdown",
   "id": "6b387578-8351-41ce-9ab0-9323d096b81b",
   "metadata": {},
   "source": [
    "We can add a quick plot of the data here."
   ]
  },
  {
   "cell_type": "code",
   "execution_count": 60,
   "id": "dd9a0811",
   "metadata": {},
   "outputs": [
    {
     "data": {
      "text/plain": [
       "<Axes: xlabel='timestamp'>"
      ]
     },
     "execution_count": 60,
     "metadata": {},
     "output_type": "execute_result"
    },
    {
     "data": {
      "image/png": "[encoded data removed]",
      "text/plain": [
       "<Figure size 640x480 with 1 Axes>"
      ]
     },
     "metadata": {},
     "output_type": "display_data"
    }
   ],
   "source": [
    "df[[\"urban_parking_lot_temperature_degF\", \"urban_park_temperature_degF\", \"suburban_rural_temperature_degF\"]].plot()"
   ]
  },
  {
   "cell_type": "markdown",
   "id": "a8c6dba3",
   "metadata": {},
   "source": [
    "In this final example, we demonstrate the use of the `to_csv` method to save a `DataFrame` as a `.csv` file. This example also demonstrates the `read_csv` method, which reads `.csv` files into Pandas `DataFrames`."
   ]
  },
  {
   "cell_type": "code",
   "execution_count": 61,
   "id": "054428db",
   "metadata": {},
   "outputs": [],
   "source": [
    "df.to_csv('urban_heat_island_analyzed_output.csv')"
   ]
  },
  {
   "cell_type": "code",
   "execution_count": 62,
   "id": "3f7d378f",
   "metadata": {},
   "outputs": [
    {
     "data": {
      "text/html": [
       "<div>\n",
       "<style scoped>\n",
       "    .dataframe tbody tr th:only-of-type {\n",
       "        vertical-align: middle;\n",
       "    }\n",
       "\n",
       "    .dataframe tbody tr th {\n",
       "        vertical-align: top;\n",
       "    }\n",
       "\n",
       "    .dataframe thead th {\n",
       "        text-align: right;\n",
       "    }\n",
       "</style>\n",
       "<table border=\"1\" class=\"dataframe\">\n",
       "  <thead>\n",
       "    <tr style=\"text-align: right;\">\n",
       "      <th></th>\n",
       "      <th>urban_parking_lot_temperature</th>\n",
       "      <th>urban_park_temperature</th>\n",
       "      <th>suburban_rural_temperature</th>\n",
       "      <th>hour</th>\n",
       "      <th>urban_park_anom</th>\n",
       "      <th>urban_parking_lot_anom</th>\n",
       "      <th>urban_parking_lot_temperature_degF</th>\n",
       "      <th>urban_park_temperature_degF</th>\n",
       "      <th>suburban_rural_temperature_degF</th>\n",
       "    </tr>\n",
       "    <tr>\n",
       "      <th>timestamp</th>\n",
       "      <th></th>\n",
       "      <th></th>\n",
       "      <th></th>\n",
       "      <th></th>\n",
       "      <th></th>\n",
       "      <th></th>\n",
       "      <th></th>\n",
       "      <th></th>\n",
       "      <th></th>\n",
       "    </tr>\n",
       "  </thead>\n",
       "  <tbody>\n",
       "    <tr>\n",
       "      <th>2024-07-26 19:00:00-05:00</th>\n",
       "      <td>25.300000</td>\n",
       "      <td>24.400000</td>\n",
       "      <td>25.2</td>\n",
       "      <td>19</td>\n",
       "      <td>-0.800000</td>\n",
       "      <td>1.000000e-01</td>\n",
       "      <td>77.54</td>\n",
       "      <td>75.92</td>\n",
       "      <td>77.36</td>\n",
       "    </tr>\n",
       "    <tr>\n",
       "      <th>2024-07-26 19:01:00-05:00</th>\n",
       "      <td>25.266667</td>\n",
       "      <td>24.400000</td>\n",
       "      <td>25.2</td>\n",
       "      <td>19</td>\n",
       "      <td>-0.800000</td>\n",
       "      <td>6.666667e-02</td>\n",
       "      <td>77.48</td>\n",
       "      <td>75.92</td>\n",
       "      <td>77.36</td>\n",
       "    </tr>\n",
       "    <tr>\n",
       "      <th>2024-07-26 19:02:00-05:00</th>\n",
       "      <td>25.166667</td>\n",
       "      <td>24.366667</td>\n",
       "      <td>25.2</td>\n",
       "      <td>19</td>\n",
       "      <td>-0.833333</td>\n",
       "      <td>-3.333333e-02</td>\n",
       "      <td>77.30</td>\n",
       "      <td>75.86</td>\n",
       "      <td>77.36</td>\n",
       "    </tr>\n",
       "    <tr>\n",
       "      <th>2024-07-26 19:03:00-05:00</th>\n",
       "      <td>25.100000</td>\n",
       "      <td>24.300000</td>\n",
       "      <td>25.1</td>\n",
       "      <td>19</td>\n",
       "      <td>-0.800000</td>\n",
       "      <td>3.552714e-15</td>\n",
       "      <td>77.18</td>\n",
       "      <td>75.74</td>\n",
       "      <td>77.18</td>\n",
       "    </tr>\n",
       "    <tr>\n",
       "      <th>2024-07-26 19:04:00-05:00</th>\n",
       "      <td>25.133333</td>\n",
       "      <td>24.300000</td>\n",
       "      <td>25.0</td>\n",
       "      <td>19</td>\n",
       "      <td>-0.700000</td>\n",
       "      <td>1.333333e-01</td>\n",
       "      <td>77.24</td>\n",
       "      <td>75.74</td>\n",
       "      <td>77.00</td>\n",
       "    </tr>\n",
       "    <tr>\n",
       "      <th>...</th>\n",
       "      <td>...</td>\n",
       "      <td>...</td>\n",
       "      <td>...</td>\n",
       "      <td>...</td>\n",
       "      <td>...</td>\n",
       "      <td>...</td>\n",
       "      <td>...</td>\n",
       "      <td>...</td>\n",
       "      <td>...</td>\n",
       "    </tr>\n",
       "    <tr>\n",
       "      <th>2024-07-28 12:55:00-05:00</th>\n",
       "      <td>27.100000</td>\n",
       "      <td>27.066667</td>\n",
       "      <td>27.2</td>\n",
       "      <td>12</td>\n",
       "      <td>-0.133333</td>\n",
       "      <td>-1.000000e-01</td>\n",
       "      <td>80.78</td>\n",
       "      <td>80.72</td>\n",
       "      <td>80.96</td>\n",
       "    </tr>\n",
       "    <tr>\n",
       "      <th>2024-07-28 12:56:00-05:00</th>\n",
       "      <td>27.100000</td>\n",
       "      <td>27.033333</td>\n",
       "      <td>27.2</td>\n",
       "      <td>12</td>\n",
       "      <td>-0.166667</td>\n",
       "      <td>-1.000000e-01</td>\n",
       "      <td>80.78</td>\n",
       "      <td>80.66</td>\n",
       "      <td>80.96</td>\n",
       "    </tr>\n",
       "    <tr>\n",
       "      <th>2024-07-28 12:57:00-05:00</th>\n",
       "      <td>27.100000</td>\n",
       "      <td>27.000000</td>\n",
       "      <td>27.2</td>\n",
       "      <td>12</td>\n",
       "      <td>-0.200000</td>\n",
       "      <td>-1.000000e-01</td>\n",
       "      <td>80.78</td>\n",
       "      <td>80.60</td>\n",
       "      <td>80.96</td>\n",
       "    </tr>\n",
       "    <tr>\n",
       "      <th>2024-07-28 12:58:00-05:00</th>\n",
       "      <td>27.133333</td>\n",
       "      <td>27.000000</td>\n",
       "      <td>27.4</td>\n",
       "      <td>12</td>\n",
       "      <td>-0.400000</td>\n",
       "      <td>-2.666667e-01</td>\n",
       "      <td>80.84</td>\n",
       "      <td>80.60</td>\n",
       "      <td>81.32</td>\n",
       "    </tr>\n",
       "    <tr>\n",
       "      <th>2024-07-28 12:59:00-05:00</th>\n",
       "      <td>27.200000</td>\n",
       "      <td>27.066667</td>\n",
       "      <td>27.5</td>\n",
       "      <td>12</td>\n",
       "      <td>-0.433333</td>\n",
       "      <td>-3.000000e-01</td>\n",
       "      <td>80.96</td>\n",
       "      <td>80.72</td>\n",
       "      <td>81.50</td>\n",
       "    </tr>\n",
       "  </tbody>\n",
       "</table>\n",
       "<p>2520 rows × 9 columns</p>\n",
       "</div>"
      ],
      "text/plain": [
       "                           urban_parking_lot_temperature  \\\n",
       "timestamp                                                  \n",
       "2024-07-26 19:00:00-05:00                      25.300000   \n",
       "2024-07-26 19:01:00-05:00                      25.266667   \n",
       "2024-07-26 19:02:00-05:00                      25.166667   \n",
       "2024-07-26 19:03:00-05:00                      25.100000   \n",
       "2024-07-26 19:04:00-05:00                      25.133333   \n",
       "...                                                  ...   \n",
       "2024-07-28 12:55:00-05:00                      27.100000   \n",
       "2024-07-28 12:56:00-05:00                      27.100000   \n",
       "2024-07-28 12:57:00-05:00                      27.100000   \n",
       "2024-07-28 12:58:00-05:00                      27.133333   \n",
       "2024-07-28 12:59:00-05:00                      27.200000   \n",
       "\n",
       "                           urban_park_temperature  suburban_rural_temperature  \\\n",
       "timestamp                                                                       \n",
       "2024-07-26 19:00:00-05:00               24.400000                        25.2   \n",
       "2024-07-26 19:01:00-05:00               24.400000                        25.2   \n",
       "2024-07-26 19:02:00-05:00               24.366667                        25.2   \n",
       "2024-07-26 19:03:00-05:00               24.300000                        25.1   \n",
       "2024-07-26 19:04:00-05:00               24.300000                        25.0   \n",
       "...                                           ...                         ...   \n",
       "2024-07-28 12:55:00-05:00               27.066667                        27.2   \n",
       "2024-07-28 12:56:00-05:00               27.033333                        27.2   \n",
       "2024-07-28 12:57:00-05:00               27.000000                        27.2   \n",
       "2024-07-28 12:58:00-05:00               27.000000                        27.4   \n",
       "2024-07-28 12:59:00-05:00               27.066667                        27.5   \n",
       "\n",
       "                           hour  urban_park_anom  urban_parking_lot_anom  \\\n",
       "timestamp                                                                  \n",
       "2024-07-26 19:00:00-05:00    19        -0.800000            1.000000e-01   \n",
       "2024-07-26 19:01:00-05:00    19        -0.800000            6.666667e-02   \n",
       "2024-07-26 19:02:00-05:00    19        -0.833333           -3.333333e-02   \n",
       "2024-07-26 19:03:00-05:00    19        -0.800000            3.552714e-15   \n",
       "2024-07-26 19:04:00-05:00    19        -0.700000            1.333333e-01   \n",
       "...                         ...              ...                     ...   \n",
       "2024-07-28 12:55:00-05:00    12        -0.133333           -1.000000e-01   \n",
       "2024-07-28 12:56:00-05:00    12        -0.166667           -1.000000e-01   \n",
       "2024-07-28 12:57:00-05:00    12        -0.200000           -1.000000e-01   \n",
       "2024-07-28 12:58:00-05:00    12        -0.400000           -2.666667e-01   \n",
       "2024-07-28 12:59:00-05:00    12        -0.433333           -3.000000e-01   \n",
       "\n",
       "                           urban_parking_lot_temperature_degF  \\\n",
       "timestamp                                                       \n",
       "2024-07-26 19:00:00-05:00                               77.54   \n",
       "2024-07-26 19:01:00-05:00                               77.48   \n",
       "2024-07-26 19:02:00-05:00                               77.30   \n",
       "2024-07-26 19:03:00-05:00                               77.18   \n",
       "2024-07-26 19:04:00-05:00                               77.24   \n",
       "...                                                       ...   \n",
       "2024-07-28 12:55:00-05:00                               80.78   \n",
       "2024-07-28 12:56:00-05:00                               80.78   \n",
       "2024-07-28 12:57:00-05:00                               80.78   \n",
       "2024-07-28 12:58:00-05:00                               80.84   \n",
       "2024-07-28 12:59:00-05:00                               80.96   \n",
       "\n",
       "                           urban_park_temperature_degF  \\\n",
       "timestamp                                                \n",
       "2024-07-26 19:00:00-05:00                        75.92   \n",
       "2024-07-26 19:01:00-05:00                        75.92   \n",
       "2024-07-26 19:02:00-05:00                        75.86   \n",
       "2024-07-26 19:03:00-05:00                        75.74   \n",
       "2024-07-26 19:04:00-05:00                        75.74   \n",
       "...                                                ...   \n",
       "2024-07-28 12:55:00-05:00                        80.72   \n",
       "2024-07-28 12:56:00-05:00                        80.66   \n",
       "2024-07-28 12:57:00-05:00                        80.60   \n",
       "2024-07-28 12:58:00-05:00                        80.60   \n",
       "2024-07-28 12:59:00-05:00                        80.72   \n",
       "\n",
       "                           suburban_rural_temperature_degF  \n",
       "timestamp                                                   \n",
       "2024-07-26 19:00:00-05:00                            77.36  \n",
       "2024-07-26 19:01:00-05:00                            77.36  \n",
       "2024-07-26 19:02:00-05:00                            77.36  \n",
       "2024-07-26 19:03:00-05:00                            77.18  \n",
       "2024-07-26 19:04:00-05:00                            77.00  \n",
       "...                                                    ...  \n",
       "2024-07-28 12:55:00-05:00                            80.96  \n",
       "2024-07-28 12:56:00-05:00                            80.96  \n",
       "2024-07-28 12:57:00-05:00                            80.96  \n",
       "2024-07-28 12:58:00-05:00                            81.32  \n",
       "2024-07-28 12:59:00-05:00                            81.50  \n",
       "\n",
       "[2520 rows x 9 columns]"
      ]
     },
     "execution_count": 62,
     "metadata": {},
     "output_type": "execute_result"
    }
   ],
   "source": [
    "pd.read_csv('urban_heat_island_analyzed_output.csv', index_col=0, parse_dates=True)"
   ]
  },
  {
   "cell_type": "markdown",
   "id": "9327e958",
   "metadata": {},
   "source": [
    "---\n",
    "## Summary\n",
    "* Pandas is a very powerful tool for working with tabular (i.e., spreadsheet-style) data\n",
    "* There are multiple ways of subsetting your pandas dataframe or series\n",
    "* Pandas allows you to refer to subsets of data by label, which generally makes code more readable and more robust\n",
    "* Pandas can be helpful for exploratory data analysis, including plotting and basic statistics\n",
    "* One can apply calculations to pandas dataframes and save the output via `csv` files\n",
    "\n",
    "## Resources and References\n",
    "1. [CROCUS Data Used for this notebook](https://data.ess-dive.lbl.gov/view/doi:10.15485/2482533)\n",
    "1. [Getting Started with Pandas](https://pandas.pydata.org/docs/getting_started/index.html#getting-started)\n",
    "1. [Pandas User Guide](https://pandas.pydata.org/docs/user_guide/index.html#user-guide)"
   ]
  },
  {
   "cell_type": "code",
   "execution_count": null,
   "id": "b995f3ac-fa3c-4f57-9106-73351dbe4803",
   "metadata": {},
   "outputs": [],
   "source": []
  }
 ],
 "metadata": {
  "kernelspec": {
   "display_name": "Python 3 (ipykernel)",
   "language": "python",
   "name": "python3"
  },
  "language_info": {
   "codemirror_mode": {
    "name": "ipython",
    "version": 3
   },
   "file_extension": ".py",
   "mimetype": "text/x-python",
   "name": "python",
   "nbconvert_exporter": "python",
   "pygments_lexer": "ipython3",
   "version": "3.11.12"
  }
 },
 "nbformat": 4,
 "nbformat_minor": 5
}
