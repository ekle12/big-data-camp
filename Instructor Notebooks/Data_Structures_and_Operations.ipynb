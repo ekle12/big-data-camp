{
 "cells": [
  {
   "cell_type": "markdown",
   "id": "5f6d3218-693e-4f89-9710-58c25363b472",
   "metadata": {},
   "source": [
    "# Data Structures and Operations"
   ]
  },
  {
   "cell_type": "markdown",
   "id": "d3a32f82-85ef-4a51-ab50-fa8fb2887c44",
   "metadata": {
    "tags": []
   },
   "source": [
    "## Lists\n",
    "\n",
    "A collection of items\n",
    "\n",
    "Can be different data types\n",
    "\n",
    "Ordered and changeable"
   ]
  },
  {
   "cell_type": "code",
   "execution_count": 56,
   "id": "c7f56eb7-c8a6-4898-b257-9372ee9cb545",
   "metadata": {},
   "outputs": [
    {
     "name": "stdout",
     "output_type": "stream",
     "text": [
      "['coffee', 'bread', 'eggs', 'orange juice']\n"
     ]
    }
   ],
   "source": [
    "food = ['coffee', 'bread', 'eggs', 'orange juice']\n",
    "\n",
    "print(food)"
   ]
  },
  {
   "cell_type": "code",
   "execution_count": 57,
   "id": "5cc63031-acba-4807-901b-c2a7f8700e4c",
   "metadata": {},
   "outputs": [
    {
     "data": {
      "text/plain": [
       "'bread'"
      ]
     },
     "execution_count": 57,
     "metadata": {},
     "output_type": "execute_result"
    }
   ],
   "source": [
    "food[1]"
   ]
  },
  {
   "cell_type": "code",
   "execution_count": null,
   "id": "fd595b8d-dbfb-4dc5-8389-def4f858774e",
   "metadata": {},
   "outputs": [],
   "source": [
    "food[3] = 'milk'"
   ]
  },
  {
   "cell_type": "code",
   "execution_count": null,
   "id": "ee0fa540-86ba-4138-b644-e58cee2f2f9d",
   "metadata": {},
   "outputs": [],
   "source": [
    "food"
   ]
  },
  {
   "cell_type": "markdown",
   "id": "9149581d-ffd9-48b7-882e-c594445a61d0",
   "metadata": {},
   "source": [
    "## Arrays \n",
    "A list that contains a single data type"
   ]
  },
  {
   "cell_type": "code",
   "execution_count": null,
   "id": "c8b94b75-157e-4119-b6c3-a3a056e520e0",
   "metadata": {},
   "outputs": [],
   "source": [
    "# Which lists are arrays?\n",
    "\n",
    "grocery_list = ['eggs', 'butter', 'flour']\n",
    "\n",
    "recipe_list = [1, 'cup', 'sugar']\n",
    "\n",
    "age_list = [3, 8, 10, 38, 40]\n",
    "\n",
    "number_list = [4, 'five', 'ten', 32]\n"
   ]
  },
  {
   "cell_type": "markdown",
   "id": "f3a9643d-9b7b-4a07-abe2-8bf66d515f01",
   "metadata": {
    "tags": []
   },
   "source": [
    "## Arrays in Tables\n",
    "\n"
   ]
  },
  {
   "cell_type": "markdown",
   "id": "4a263a27-ad00-4d4c-851b-cf6e709e208f",
   "metadata": {
    "tags": []
   },
   "source": [
    "### Checkpoint: Where are the arrays?"
   ]
  },
  {
   "cell_type": "markdown",
   "id": "d012d947-b128-4288-9147-00efc9c9b3e3",
   "metadata": {},
   "source": [
    "\n",
    "\n",
    "<img src=\"../images/arrays_checkpoint.png\" width = 300>"
   ]
  },
  {
   "cell_type": "markdown",
   "id": "1cf14d25-24af-4f85-ba66-77db03ffee8f",
   "metadata": {
    "tags": []
   },
   "source": [
    "## Numpy Arrays\n",
    "\n",
    "<img src=\"images/numpy_planets.png\" width = 300>"
   ]
  },
  {
   "cell_type": "code",
   "execution_count": 55,
   "id": "bb8e2da6-1748-427f-94cf-3431ac831f1e",
   "metadata": {},
   "outputs": [],
   "source": [
    "import numpy as np\n",
    "planets = np.array(['mercury', 'venus', 'earth', 'mars', 'jupiter'])"
   ]
  },
  {
   "cell_type": "code",
   "execution_count": 38,
   "id": "bb93d5c9-d063-451b-9084-f90332edfe35",
   "metadata": {},
   "outputs": [
    {
     "data": {
      "text/plain": [
       "array(['mercury', 'venus', 'earth', 'mars', 'jupiter'], dtype='<U7')"
      ]
     },
     "execution_count": 38,
     "metadata": {},
     "output_type": "execute_result"
    }
   ],
   "source": [
    "planets"
   ]
  },
  {
   "cell_type": "code",
   "execution_count": 40,
   "id": "bbf25e1a-000a-4080-809e-f17abf09f86d",
   "metadata": {},
   "outputs": [],
   "source": [
    "planets = np.array([['mercury', 'venus', 'earth', 'mars', 'jupiter'], [1,2,3,4,5], [0,0,1,2,79]])"
   ]
  },
  {
   "cell_type": "code",
   "execution_count": 54,
   "id": "64d4e843-aacf-45cd-910b-fe93a3f812be",
   "metadata": {},
   "outputs": [
    {
     "data": {
      "text/plain": [
       "array([['mercury', 'venus', 'earth', 'mars', 'jupiter'],\n",
       "       ['1', '2', '3', '4', '5'],\n",
       "       ['0', '0', '1', '2', '79']], dtype='<U21')"
      ]
     },
     "execution_count": 54,
     "metadata": {},
     "output_type": "execute_result"
    }
   ],
   "source": [
    "planets"
   ]
  },
  {
   "cell_type": "markdown",
   "id": "098ce98b-3fed-4805-a78b-14cd1d33d1f7",
   "metadata": {},
   "source": [
    "## Pandas Dataframes: Dictionary-Based Numpy Arrays\n",
    "\n",
    "<img src=\"../images/pandas_planets.png\" width = 300>"
   ]
  },
  {
   "cell_type": "code",
   "execution_count": 51,
   "id": "ce872abd-34f2-4464-9fc9-cf87bb230f57",
   "metadata": {},
   "outputs": [],
   "source": [
    "import pandas as pd\n",
    "\n",
    "pandas_planets = {'A': ['Mercury', 'Venus', 'Earth', 'Mars', 'Jupiter'],\n",
    "        'B': [1, 2, 3, 4, 5], 'C': [0, 0, 1, 2, 79]}"
   ]
  },
  {
   "cell_type": "code",
   "execution_count": 52,
   "id": "ac781585-75f6-4fe8-a0b2-aa63f0ca60a8",
   "metadata": {},
   "outputs": [],
   "source": [
    "planets_df = pd.DataFrame(pandas_planets)"
   ]
  },
  {
   "cell_type": "code",
   "execution_count": 53,
   "id": "2214e2b6-ea29-4f5a-9589-a5e8051237f3",
   "metadata": {},
   "outputs": [
    {
     "data": {
      "text/html": [
       "<div>\n",
       "<style scoped>\n",
       "    .dataframe tbody tr th:only-of-type {\n",
       "        vertical-align: middle;\n",
       "    }\n",
       "\n",
       "    .dataframe tbody tr th {\n",
       "        vertical-align: top;\n",
       "    }\n",
       "\n",
       "    .dataframe thead th {\n",
       "        text-align: right;\n",
       "    }\n",
       "</style>\n",
       "<table border=\"1\" class=\"dataframe\">\n",
       "  <thead>\n",
       "    <tr style=\"text-align: right;\">\n",
       "      <th></th>\n",
       "      <th>A</th>\n",
       "      <th>B</th>\n",
       "      <th>C</th>\n",
       "    </tr>\n",
       "  </thead>\n",
       "  <tbody>\n",
       "    <tr>\n",
       "      <th>0</th>\n",
       "      <td>Mercury</td>\n",
       "      <td>1</td>\n",
       "      <td>0</td>\n",
       "    </tr>\n",
       "    <tr>\n",
       "      <th>1</th>\n",
       "      <td>Venus</td>\n",
       "      <td>2</td>\n",
       "      <td>0</td>\n",
       "    </tr>\n",
       "    <tr>\n",
       "      <th>2</th>\n",
       "      <td>Earth</td>\n",
       "      <td>3</td>\n",
       "      <td>1</td>\n",
       "    </tr>\n",
       "    <tr>\n",
       "      <th>3</th>\n",
       "      <td>Mars</td>\n",
       "      <td>4</td>\n",
       "      <td>2</td>\n",
       "    </tr>\n",
       "    <tr>\n",
       "      <th>4</th>\n",
       "      <td>Jupiter</td>\n",
       "      <td>5</td>\n",
       "      <td>79</td>\n",
       "    </tr>\n",
       "  </tbody>\n",
       "</table>\n",
       "</div>"
      ],
      "text/plain": [
       "         A  B   C\n",
       "0  Mercury  1   0\n",
       "1    Venus  2   0\n",
       "2    Earth  3   1\n",
       "3     Mars  4   2\n",
       "4  Jupiter  5  79"
      ]
     },
     "execution_count": 53,
     "metadata": {},
     "output_type": "execute_result"
    }
   ],
   "source": [
    "planets_df"
   ]
  },
  {
   "cell_type": "markdown",
   "id": "0cf8b719-bb0b-4646-bc4a-da3e48e0f642",
   "metadata": {},
   "source": [
    "## Reading in Data from a .csv File\n",
    "\n",
    "<img src=\"images/planets_csv.png\" width = 200>"
   ]
  },
  {
   "cell_type": "code",
   "execution_count": null,
   "id": "680bb868-38c0-4405-9897-56a190ef1c64",
   "metadata": {},
   "outputs": [],
   "source": []
  }
 ],
 "metadata": {
  "kernelspec": {
   "display_name": "Python 3 (ipykernel)",
   "language": "python",
   "name": "python3"
  },
  "language_info": {
   "codemirror_mode": {
    "name": "ipython",
    "version": 3
   },
   "file_extension": ".py",
   "mimetype": "text/x-python",
   "name": "python",
   "nbconvert_exporter": "python",
   "pygments_lexer": "ipython3",
   "version": "3.9.7"
  }
 },
 "nbformat": 4,
 "nbformat_minor": 5
}
