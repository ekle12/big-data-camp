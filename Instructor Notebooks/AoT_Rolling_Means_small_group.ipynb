{
 "cells": [
  {
   "cell_type": "markdown",
   "id": "316d6e2b-310b-4036-9e39-a7fa63b14c95",
   "metadata": {},
   "source": [
    "# Small Group: Rolling Means\n",
    "\n",
    "## Task: Make a line plot of the polar vortex temperatures and add a rolling mean line to the plot.\n",
    "\n",
    "### Some guidance:\n",
    "\n",
    "1. Read in the `polarvortex.csv` file.\n",
    "2. Filter out the `pr103j2` sensor from the data.\n",
    "3. Convert `timestamp` to datetime and make it the index.\n",
    "4. Convert `value_hrf` to float using the `.astype()` function.\n",
    "5. Plot! Make it look good: Use proper axes, labels, legend, etc.\n",
    "6. Include a rolling mean, sampling hourly with `'H'`.\n",
    "\n",
    "### Steal from Joe: you can copy and paste from his notebook.\n",
    "\n",
    "<img src = '../images/rolling_mean.gif' width = 400>"
   ]
  },
  {
   "cell_type": "markdown",
   "id": "c9519ee4-497f-4ef9-9958-7b0ca18c4b36",
   "metadata": {},
   "source": [
    "We will use the pyplot module which provides full control of line styles, font and other properties. The style package gives support for easy-to-switch plotting “styles”.  We will use a style called \"seaborn\", but others are available."
   ]
  },
  {
   "cell_type": "code",
   "execution_count": 1,
   "id": "b2e04b9c-5bd4-4fda-9884-bfac6ce3f532",
   "metadata": {},
   "outputs": [],
   "source": [
    "import pandas as pd\n",
    "# pd.options.mode.chained_assignment = None\n",
    "import matplotlib.pyplot as plt\n",
    "plt.style.use('seaborn') \n",
    "from pandas.plotting import register_matplotlib_converters\n",
    "register_matplotlib_converters()"
   ]
  },
  {
   "cell_type": "code",
   "execution_count": null,
   "id": "744ab111-ab0b-4d1e-bb22-ed79daa504a5",
   "metadata": {},
   "outputs": [],
   "source": []
  }
 ],
 "metadata": {
  "kernelspec": {
   "display_name": "Python 3 (ipykernel)",
   "language": "python",
   "name": "python3"
  },
  "language_info": {
   "codemirror_mode": {
    "name": "ipython",
    "version": 3
   },
   "file_extension": ".py",
   "mimetype": "text/x-python",
   "name": "python",
   "nbconvert_exporter": "python",
   "pygments_lexer": "ipython3",
   "version": "3.9.7"
  }
 },
 "nbformat": 4,
 "nbformat_minor": 5
}
