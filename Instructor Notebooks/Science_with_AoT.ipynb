{
 "cells": [
  {
   "cell_type": "markdown",
   "metadata": {},
   "source": [
    "# Lake Effect\n",
    "\n",
    "<img src = 'https://upload.wikimedia.org/wikipedia/commons/thumb/b/bc/Chicago_skyline_kz01.jpg/640px-Chicago_skyline_kz01.jpg' width = 600>\n",
    "\n",
    "__How does the lake affect temperatures in the city?__ \n",
    "\n",
    "You have access to 3 data sets:\n",
    "1. A list of all of the nodes: `nodes.csv`\n",
    "2. A snapshot of temperature readings for July 18, 2019 at about 3pm: `July18_2019.csv`\n",
    "3. A series of latitude and longitude reference points for the lakeshore: `Chicago_Lakefront.csv`\n"
   ]
  },
  {
   "cell_type": "markdown",
   "metadata": {},
   "source": [
    "<img src = \"../images/Doing_Science_with_AoT/lake_effect_map.jpg\"  width = 800>"
   ]
  },
  {
   "cell_type": "code",
   "execution_count": null,
   "metadata": {},
   "outputs": [],
   "source": [
    "import pandas as pd\n",
    "pd.options.mode.chained_assignment = None\n",
    "import matplotlib.pyplot as plt\n",
    "import seaborn as sns\n",
    "import numpy as np\n",
    "import scipy\n",
    "plt.style.use('seaborn')"
   ]
  },
  {
   "cell_type": "markdown",
   "metadata": {
    "jp-MarkdownHeadingCollapsed": true,
    "tags": []
   },
   "source": [
    "# Solution"
   ]
  },
  {
   "cell_type": "markdown",
   "metadata": {
    "jp-MarkdownHeadingCollapsed": true,
    "tags": []
   },
   "source": [
    "#### Explore the Data"
   ]
  },
  {
   "cell_type": "code",
   "execution_count": null,
   "metadata": {},
   "outputs": [],
   "source": [
    "nodes = pd.read_csv(\"../data/Nodes.csv\")\n",
    "nodes.head()"
   ]
  },
  {
   "cell_type": "code",
   "execution_count": null,
   "metadata": {},
   "outputs": [],
   "source": [
    "lakefront = pd.read_csv('../data/Chicago_Lakefront.csv')\n",
    "lakefront.head()"
   ]
  },
  {
   "cell_type": "code",
   "execution_count": null,
   "metadata": {},
   "outputs": [],
   "source": [
    "temperatures = pd.read_csv(\"../data/July18_2019.csv\")\n",
    "temperatures.head()"
   ]
  },
  {
   "cell_type": "markdown",
   "metadata": {
    "jp-MarkdownHeadingCollapsed": true,
    "tags": []
   },
   "source": [
    "## Calculate the **closest** distance from each node to the lakeshore:"
   ]
  },
  {
   "cell_type": "markdown",
   "metadata": {},
   "source": [
    "<img src = \"../images/Doing_Science_with_AoT/Slide8.jpeg\"  width = 800>"
   ]
  },
  {
   "cell_type": "code",
   "execution_count": null,
   "metadata": {},
   "outputs": [],
   "source": [
    "lakefront['distance'] = np.nan       # Distance from a particular node to each lakefront point\n",
    "nodes['lake_distance'] = np.nan      # Distance from the node to the nearest lakefront point"
   ]
  },
  {
   "cell_type": "markdown",
   "metadata": {},
   "source": [
    "#### 1. Get the lat and long of the first node:"
   ]
  },
  {
   "cell_type": "markdown",
   "metadata": {},
   "source": [
    "<img src = \"../images/Doing_Science_with_AoT/Slide10.jpeg\"  width = 800>"
   ]
  },
  {
   "cell_type": "code",
   "execution_count": null,
   "metadata": {},
   "outputs": [],
   "source": [
    "node_lon = abs(nodes['lon'].iloc[0])\n",
    "print(node_lon)\n",
    "node_lat = abs(nodes['lat'].iloc[0])\n",
    "print(node_lat)"
   ]
  },
  {
   "cell_type": "markdown",
   "metadata": {},
   "source": [
    "#### 2. Get the latitude and longitude distances from the node to the first lakeshore point:"
   ]
  },
  {
   "cell_type": "markdown",
   "metadata": {},
   "source": [
    "<img src = \"../images/Doing_Science_with_AoT/Slide14.jpeg\"  width = 800>"
   ]
  },
  {
   "cell_type": "code",
   "execution_count": null,
   "metadata": {},
   "outputs": [],
   "source": [
    "lon_diff = node_lon - abs(lakefront['Longitude'].iloc[0])\n",
    "print(lon_diff)\n",
    "lat_diff = node_lat - abs(lakefront['Latitude'].iloc[0])\n",
    "print(lat_diff)"
   ]
  },
  {
   "cell_type": "markdown",
   "metadata": {},
   "source": [
    "#### 3. Calculate the straight-line distance from the node to the first lakeshore point:"
   ]
  },
  {
   "cell_type": "markdown",
   "metadata": {},
   "source": [
    "<img src = \"../images/Doing_Science_with_AoT/Slide16.jpeg\"  width = 800>"
   ]
  },
  {
   "cell_type": "code",
   "execution_count": null,
   "metadata": {},
   "outputs": [],
   "source": [
    "distance_to_lake = np.sqrt(lon_diff ** 2 + lat_diff ** 2)\n",
    "print(distance_to_lake)"
   ]
  },
  {
   "cell_type": "markdown",
   "metadata": {},
   "source": [
    "#### 4. Store this distance to the `lakefront` dataframe:"
   ]
  },
  {
   "cell_type": "code",
   "execution_count": null,
   "metadata": {},
   "outputs": [],
   "source": [
    "lakefront['distance'].iloc[0] = distance_to_lake\n",
    "lakefront.head()"
   ]
  },
  {
   "cell_type": "markdown",
   "metadata": {},
   "source": [
    "#### 5. Repeat for the next lakeshore marker:"
   ]
  },
  {
   "cell_type": "markdown",
   "metadata": {},
   "source": [
    "<img src = \"../images/Doing_Science_with_AoT/Slide22.jpeg\"  width = 800>"
   ]
  },
  {
   "cell_type": "code",
   "execution_count": null,
   "metadata": {},
   "outputs": [],
   "source": [
    "node_lon = abs(nodes['lon'].iloc[1])\n",
    "node_lat = abs(nodes['lat'].iloc[1])\n",
    "lon_diff = node_lon - abs(lakefront['Longitude'].iloc[1])\n",
    "lat_diff = node_lat - abs(lakefront['Latitude'].iloc[1])\n",
    "distance_to_lake = np.sqrt(lon_diff ** 2 + lat_diff ** 2)\n",
    "lakefront['distance'].iloc[1] = distance_to_lake\n",
    "lakefront.head()"
   ]
  },
  {
   "cell_type": "markdown",
   "metadata": {},
   "source": [
    "#### 6. Repeat for all the lakeshore markers."
   ]
  },
  {
   "cell_type": "markdown",
   "metadata": {},
   "source": [
    "<img src = \"../images/Doing_Science_with_AoT/Slide23.jpeg\"  width = 800>"
   ]
  },
  {
   "cell_type": "code",
   "execution_count": null,
   "metadata": {},
   "outputs": [],
   "source": [
    "# Reset node_lon and node_lat values to implement loop:\n",
    "node_lon = abs(nodes['lon'].iloc[0])\n",
    "node_lat = abs(nodes['lat'].iloc[0])"
   ]
  },
  {
   "cell_type": "code",
   "execution_count": null,
   "metadata": {},
   "outputs": [],
   "source": [
    "for j in range (len(lakefront)):\n",
    "    lon_diff = node_lon - abs(lakefront['Longitude'].iloc[j])\n",
    "    lat_diff = node_lat - abs(lakefront['Latitude'].iloc[j])\n",
    "    distance_to_lake = np.sqrt(lon_diff ** 2 + lat_diff ** 2)\n",
    "    lakefront['distance'].iloc[j] = distance_to_lake "
   ]
  },
  {
   "cell_type": "code",
   "execution_count": null,
   "metadata": {},
   "outputs": [],
   "source": [
    "lakefront"
   ]
  },
  {
   "cell_type": "markdown",
   "metadata": {},
   "source": [
    "#### 7. Calculate the closest lakeshore marker to the node:"
   ]
  },
  {
   "cell_type": "markdown",
   "metadata": {},
   "source": [
    "<img src = \"../images/Doing_Science_with_AoT/Slide25.jpeg\"  width = 800>"
   ]
  },
  {
   "cell_type": "code",
   "execution_count": null,
   "metadata": {},
   "outputs": [],
   "source": [
    "distance = lakefront['distance'].min()\n",
    "nodes['lake_distance'].iloc[0] = distance"
   ]
  },
  {
   "cell_type": "code",
   "execution_count": null,
   "metadata": {},
   "outputs": [],
   "source": [
    "nodes.head()"
   ]
  },
  {
   "cell_type": "markdown",
   "metadata": {},
   "source": [
    "#### 8. Convert lat/long degrees to miles:"
   ]
  },
  {
   "cell_type": "code",
   "execution_count": null,
   "metadata": {},
   "outputs": [],
   "source": [
    "nodes['lake_distance'] = nodes['lake_distance'].apply(lambda x: x*69)"
   ]
  },
  {
   "cell_type": "code",
   "execution_count": null,
   "metadata": {},
   "outputs": [],
   "source": [
    "nodes.head()"
   ]
  },
  {
   "cell_type": "markdown",
   "metadata": {
    "tags": []
   },
   "source": [
    "#### 9. Repeat for all other nodes:"
   ]
  },
  {
   "cell_type": "code",
   "execution_count": null,
   "metadata": {},
   "outputs": [],
   "source": [
    "for i in range (len(nodes)):\n",
    "    node_lon = abs(nodes['lon'].iloc[i])\n",
    "    node_lat = abs(nodes['lat'].iloc[i])\n",
    "    for j in range (len(lakefront)):\n",
    "        lon_diff = node_lon - abs(lakefront['Longitude'].iloc[j])\n",
    "        lat_diff = node_lat - abs(lakefront['Latitude'].iloc[j])\n",
    "        distance_to_lake = np.sqrt(lon_diff ** 2 + lat_diff ** 2)\n",
    "        lakefront['distance'].iloc[j] = distance_to_lake \n",
    "    distance = lakefront['distance'].min()\n",
    "    nodes['lake_distance'].iloc[i] = distance\n",
    "nodes['lake_distance'] = nodes['lake_distance'].apply(lambda x: x*69)"
   ]
  },
  {
   "cell_type": "code",
   "execution_count": null,
   "metadata": {},
   "outputs": [],
   "source": [
    "nodes"
   ]
  },
  {
   "cell_type": "code",
   "execution_count": null,
   "metadata": {},
   "outputs": [],
   "source": [
    "nodes['lake_distance'].describe()"
   ]
  },
  {
   "cell_type": "markdown",
   "metadata": {},
   "source": [
    "## Is there a correlation between distance from the lake and temperature?"
   ]
  },
  {
   "cell_type": "markdown",
   "metadata": {
    "jp-MarkdownHeadingCollapsed": true,
    "tags": []
   },
   "source": [
    "#### 1. Convert the temperatures to Farenhei:"
   ]
  },
  {
   "cell_type": "code",
   "execution_count": null,
   "metadata": {},
   "outputs": [],
   "source": [
    "temperatures.head()"
   ]
  },
  {
   "cell_type": "code",
   "execution_count": null,
   "metadata": {},
   "outputs": [],
   "source": [
    "temperatures['Temperature_F'] = temperatures['value_hrf'].apply(lambda x: x*(9/5) + 32)"
   ]
  },
  {
   "cell_type": "code",
   "execution_count": null,
   "metadata": {},
   "outputs": [],
   "source": [
    "temperatures.head()"
   ]
  },
  {
   "cell_type": "code",
   "execution_count": null,
   "metadata": {},
   "outputs": [],
   "source": [
    "temperatures.describe()"
   ]
  },
  {
   "cell_type": "markdown",
   "metadata": {
    "jp-MarkdownHeadingCollapsed": true,
    "tags": []
   },
   "source": [
    "#### 2. Visualize"
   ]
  },
  {
   "cell_type": "code",
   "execution_count": null,
   "metadata": {},
   "outputs": [],
   "source": [
    "nodes.head()"
   ]
  },
  {
   "cell_type": "code",
   "execution_count": null,
   "metadata": {},
   "outputs": [],
   "source": [
    "temperatures.head()"
   ]
  },
  {
   "cell_type": "code",
   "execution_count": null,
   "metadata": {},
   "outputs": [],
   "source": [
    "distance_temps = pd.merge(nodes, temperatures, on = 'node_id')"
   ]
  },
  {
   "cell_type": "code",
   "execution_count": null,
   "metadata": {},
   "outputs": [],
   "source": [
    "distance_temps"
   ]
  },
  {
   "cell_type": "code",
   "execution_count": null,
   "metadata": {},
   "outputs": [],
   "source": [
    "distance_temps.dropna(subset=['Temperature_F'], inplace = True)"
   ]
  },
  {
   "cell_type": "code",
   "execution_count": null,
   "metadata": {},
   "outputs": [],
   "source": [
    "distance_temps"
   ]
  },
  {
   "cell_type": "markdown",
   "metadata": {
    "jp-MarkdownHeadingCollapsed": true,
    "tags": []
   },
   "source": [
    "#### 3. Scatter Plot"
   ]
  },
  {
   "cell_type": "code",
   "execution_count": null,
   "metadata": {
    "scrolled": true
   },
   "outputs": [],
   "source": [
    "plt.scatter(distance_temps['lake_distance'], distance_temps['Temperature_F'])\n",
    "plt.xlabel('Distance from Lake')\n",
    "plt.ylabel('Temperature (F)')"
   ]
  },
  {
   "cell_type": "code",
   "execution_count": null,
   "metadata": {},
   "outputs": [],
   "source": [
    "sns.regplot(x = distance_temps['lake_distance'], y = distance_temps['Temperature_F'])"
   ]
  },
  {
   "cell_type": "markdown",
   "metadata": {
    "jp-MarkdownHeadingCollapsed": true,
    "tags": []
   },
   "source": [
    "#### 4. Apply Statistics"
   ]
  },
  {
   "cell_type": "code",
   "execution_count": null,
   "metadata": {},
   "outputs": [],
   "source": [
    "scipy.stats.linregress(distance_temps['lake_distance'], distance_temps['Temperature_F'])"
   ]
  }
 ],
 "metadata": {
  "kernelspec": {
   "display_name": "Python 3 (ipykernel)",
   "language": "python",
   "name": "python3"
  },
  "language_info": {
   "codemirror_mode": {
    "name": "ipython",
    "version": 3
   },
   "file_extension": ".py",
   "mimetype": "text/x-python",
   "name": "python",
   "nbconvert_exporter": "python",
   "pygments_lexer": "ipython3",
   "version": "3.9.7"
  }
 },
 "nbformat": 4,
 "nbformat_minor": 4
}
