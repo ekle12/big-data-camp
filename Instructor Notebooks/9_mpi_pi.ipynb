{
 "cells": [
  {
   "cell_type": "markdown",
   "id": "3595278f-6b75-4c99-a54c-0d3d47cb7f57",
   "metadata": {},
   "source": [
    "# Parallel computing\n",
    "**Parallel computing** refers to the process of breaking down larger problems into smaller, independent, often similar parts that can be executed simultaneously by multiple processors communicating via network or shared memory, the results of which are combined upon completion as part of an overall algorithm.\n",
    "\n",
    "## $\\pi$ example\n",
    "We can calculate the value of $\\pi$ using a MPI parallelized version of the Monte Carlo method. The basic idea is to estimate $\\pi$ by randomly sampling points within a square and determining how many fall inside a quarter circle inscribed within that square.\n",
    "\n",
    "![PI](https://www.101computing.net/wp/wp-content/uploads/estimating-pi-monte-carlo-method.png)\n",
    "\n",
    "The ratio between the area of the circle and the square is\n",
    "\n",
    "$\\frac{N_\\text{in}}{N_\\text{total}} = \\frac{\\pi r^2}{4r^2} = \\frac{\\pi}{4}$\n",
    "\n",
    "Therefore, we can calculate $\\pi$ using \n",
    "$\\pi = \\frac{4N_\\text{in}}{N_\\text{total}} $"
   ]
  },
  {
   "cell_type": "code",
   "execution_count": 1,
   "id": "5c30e58d-06dc-4f5a-849b-5368ea5def36",
   "metadata": {},
   "outputs": [
    {
     "name": "stdout",
     "output_type": "stream",
     "text": [
      "Pi = 3.104\n",
      "Time: 58.18201208114624\n"
     ]
    },
    {
     "data": {
      "image/png": "[encoded data removed]",
      "text/plain": [
       "<Figure size 432x288 with 1 Axes>"
      ]
     },
     "metadata": {
      "needs_background": "light"
     },
     "output_type": "display_data"
    }
   ],
   "source": [
    "from IPython.display import display, clear_output\n",
    "import matplotlib.pyplot as plt\n",
    "import numpy as np\n",
    "import random\n",
    "import time\n",
    "fig, ax = plt.subplots()\n",
    "#ax = fig.add_subplot(111)\n",
    "circle = plt.Circle(( 0. , 0. ), 0.5 )\n",
    "plt.xlim(-0.5, 0.5)\n",
    "plt.ylim(-0.5, 0.5)\n",
    "ax.add_patch(circle)\n",
    "ax.set_aspect('equal')\n",
    "N = 500\n",
    "Nin = 0\n",
    "t0 = time.time()\n",
    "for i in range(1, N+1):\n",
    "    x = random.uniform(-0.5, 0.5)\n",
    "    y = random.uniform(-0.5, 0.5)\n",
    "    if (np.sqrt(x*x + y*y) < 0.5):\n",
    "        Nin += 1\n",
    "        plt.plot([x], [y], 'o', color='r', markersize=3)\n",
    "    else:\n",
    "        plt.plot([x], [y], 'o', color='b', markersize=3)\n",
    "    display(fig)\n",
    "    plt.xlabel(\"$\\pi$ = %3.4f \\n N_in / N_total = %5d/%5d\" %(Nin*4.0/i, Nin, i))\n",
    "    clear_output(wait=True)\n",
    "\n",
    "res = np.array(Nin, dtype='d')\n",
    "t1 = time.time()\n",
    "print(f\"Pi = {res/float(N/4.0)}\")\n",
    "print(\"Time: %s\" %(t1 - t0))"
   ]
  },
  {
   "cell_type": "markdown",
   "id": "ab7cdf58-3a6c-4fbc-b13d-ff49d792c1b0",
   "metadata": {},
   "source": [
    "### MPI example\n",
    "```python\n",
    "from mpi4py import MPI\n",
    "import numpy as np\n",
    "import random\n",
    "import time\n",
    "comm = MPI.COMM_WORLD\n",
    "\n",
    "N = 5000000\n",
    "Nin = 0\n",
    "t0 = time.time()\n",
    "for i in range(comm.rank, N, comm.size):\n",
    "    x = random.uniform(-0.5, 0.5)\n",
    "    y = random.uniform(-0.5, 0.5)\n",
    "    if (np.sqrt(x*x + y*y) < 0.5):\n",
    "        Nin += 1\n",
    "res = np.array(Nin, dtype='d')\n",
    "res_tot = np.array(Nin, dtype='d')\n",
    "comm.Allreduce(res, res_tot, op=MPI.SUM)\n",
    "t1 = time.time()\n",
    "if comm.rank==0:\n",
    "    print(res_tot/float(N/4.0))\n",
    "    print(\"Time: %s\" %(t1 - t0))\n",
    "```"
   ]
  },
  {
   "cell_type": "markdown",
   "id": "62b9b141-4e85-4967-a755-69a26aaec93e",
   "metadata": {},
   "source": [
    "### Running $\\pi$ example on Google Colab\n",
    "* Go to https://colab.research.google.com/, sign in or sign up\n",
    "* \"File\"-> \"open notebook\"\n",
    "* choose ```01_intro_AI_on_Supercomputer/00_mpi.ipynb``` from the list\n",
    "![Google Colab](figures/colab.png)"
   ]
  },
  {
   "cell_type": "code",
   "execution_count": 4,
   "id": "084f1404-f845-4be1-9115-37075aaf57c2",
   "metadata": {},
   "outputs": [
    {
     "name": "stdout",
     "output_type": "stream",
     "text": [
      "--2024-10-14 16:12:52--  https://raw.githubusercontent.com/argonne-lcf/ai-science-training-series/main/01_intro_AI_on_Supercomputer/mpi_pi.py\n",
      "Resolving raw.githubusercontent.com (raw.githubusercontent.com)... 185.199.109.133, 185.199.110.133, 185.199.111.133, ...\n",
      "Connecting to raw.githubusercontent.com (raw.githubusercontent.com)|185.199.109.133|:443... connected.\n",
      "HTTP request sent, awaiting response... 200 OK\n",
      "Length: 555 [text/plain]\n",
      "Saving to: 'mpi_pi.py.1'\n",
      "\n",
      "mpi_pi.py.1         100%[===================>]     555  --.-KB/s    in 0s      \n",
      "\n",
      "2024-10-14 16:12:52 (7.90 MB/s) - 'mpi_pi.py.1' saved [555/555]\n",
      "\n",
      "Defaulting to user installation because normal site-packages is not writeable\n",
      "Collecting mpi4py\n",
      "  Downloading mpi4py-4.0.1.tar.gz (466 kB)\n",
      "\u001b[K     |████████████████████████████████| 466 kB 2.0 MB/s eta 0:00:01\n",
      "\u001b[?25h  Installing build dependencies ... \u001b[?25ldone\n",
      "\u001b[?25h  Getting requirements to build wheel ... \u001b[?25ldone\n",
      "\u001b[?25h  Installing backend dependencies ... \u001b[?25ldone\n",
      "\u001b[?25h    Preparing wheel metadata ... \u001b[?25ldone\n",
      "\u001b[?25hBuilding wheels for collected packages: mpi4py\n",
      "  Building wheel for mpi4py (PEP 517) ... \u001b[?25lerror\n",
      "\u001b[31m  ERROR: Command errored out with exit status 1:\n",
      "   command: /Users/argonneed/opt/anaconda3/bin/python /Users/argonneed/opt/anaconda3/lib/python3.9/site-packages/pip/_vendor/pep517/in_process/_in_process.py build_wheel /var/folders/p4/ym_xq3c5699098gh4m6ynbcc0000gr/T/tmpjhq_n4ws\n",
      "       cwd: /private/var/folders/p4/ym_xq3c5699098gh4m6ynbcc0000gr/T/pip-install-vyvn2dde/mpi4py_c51e0ebc5f074209bd8cb4d99c71eead\n",
      "  Complete output (70 lines):\n",
      "  running bdist_wheel\n",
      "  running build\n",
      "  running build_src\n",
      "  using Cython 3.0.11\n",
      "  cythonizing 'src/mpi4py/MPI.pyx' -> 'src/mpi4py/MPI.c'\n",
      "  running build_py\n",
      "  creating build/lib.macosx-10.9-x86_64-cpython-39/mpi4py\n",
      "  copying src/mpi4py/run.py -> build/lib.macosx-10.9-x86_64-cpython-39/mpi4py\n",
      "  copying src/mpi4py/__init__.py -> build/lib.macosx-10.9-x86_64-cpython-39/mpi4py\n",
      "  copying src/mpi4py/bench.py -> build/lib.macosx-10.9-x86_64-cpython-39/mpi4py\n",
      "  copying src/mpi4py/typing.py -> build/lib.macosx-10.9-x86_64-cpython-39/mpi4py\n",
      "  copying src/mpi4py/__main__.py -> build/lib.macosx-10.9-x86_64-cpython-39/mpi4py\n",
      "  creating build/lib.macosx-10.9-x86_64-cpython-39/mpi4py/futures\n",
      "  copying src/mpi4py/futures/_base.py -> build/lib.macosx-10.9-x86_64-cpython-39/mpi4py/futures\n",
      "  copying src/mpi4py/futures/server.py -> build/lib.macosx-10.9-x86_64-cpython-39/mpi4py/futures\n",
      "  copying src/mpi4py/futures/util.py -> build/lib.macosx-10.9-x86_64-cpython-39/mpi4py/futures\n",
      "  copying src/mpi4py/futures/__init__.py -> build/lib.macosx-10.9-x86_64-cpython-39/mpi4py/futures\n",
      "  copying src/mpi4py/futures/_core.py -> build/lib.macosx-10.9-x86_64-cpython-39/mpi4py/futures\n",
      "  copying src/mpi4py/futures/pool.py -> build/lib.macosx-10.9-x86_64-cpython-39/mpi4py/futures\n",
      "  copying src/mpi4py/futures/aplus.py -> build/lib.macosx-10.9-x86_64-cpython-39/mpi4py/futures\n",
      "  copying src/mpi4py/futures/__main__.py -> build/lib.macosx-10.9-x86_64-cpython-39/mpi4py/futures\n",
      "  creating build/lib.macosx-10.9-x86_64-cpython-39/mpi4py/util\n",
      "  copying src/mpi4py/util/sync.py -> build/lib.macosx-10.9-x86_64-cpython-39/mpi4py/util\n",
      "  copying src/mpi4py/util/pkl5.py -> build/lib.macosx-10.9-x86_64-cpython-39/mpi4py/util\n",
      "  copying src/mpi4py/util/dtlib.py -> build/lib.macosx-10.9-x86_64-cpython-39/mpi4py/util\n",
      "  copying src/mpi4py/util/__init__.py -> build/lib.macosx-10.9-x86_64-cpython-39/mpi4py/util\n",
      "  copying src/mpi4py/util/pool.py -> build/lib.macosx-10.9-x86_64-cpython-39/mpi4py/util\n",
      "  copying src/mpi4py/__main__.pyi -> build/lib.macosx-10.9-x86_64-cpython-39/mpi4py\n",
      "  copying src/mpi4py/__init__.pyi -> build/lib.macosx-10.9-x86_64-cpython-39/mpi4py\n",
      "  copying src/mpi4py/run.pyi -> build/lib.macosx-10.9-x86_64-cpython-39/mpi4py\n",
      "  copying src/mpi4py/bench.pyi -> build/lib.macosx-10.9-x86_64-cpython-39/mpi4py\n",
      "  copying src/mpi4py/typing.pyi -> build/lib.macosx-10.9-x86_64-cpython-39/mpi4py\n",
      "  copying src/mpi4py/MPI.pyi -> build/lib.macosx-10.9-x86_64-cpython-39/mpi4py\n",
      "  copying src/mpi4py/py.typed -> build/lib.macosx-10.9-x86_64-cpython-39/mpi4py\n",
      "  copying src/mpi4py/__init__.pxd -> build/lib.macosx-10.9-x86_64-cpython-39/mpi4py\n",
      "  copying src/mpi4py/libmpi.pxd -> build/lib.macosx-10.9-x86_64-cpython-39/mpi4py\n",
      "  copying src/mpi4py/MPI.pxd -> build/lib.macosx-10.9-x86_64-cpython-39/mpi4py\n",
      "  copying src/mpi4py/MPI.h -> build/lib.macosx-10.9-x86_64-cpython-39/mpi4py\n",
      "  copying src/mpi4py/MPI_api.h -> build/lib.macosx-10.9-x86_64-cpython-39/mpi4py\n",
      "  creating build/lib.macosx-10.9-x86_64-cpython-39/mpi4py/include/mpi4py\n",
      "  copying src/mpi4py/include/mpi4py/pycapi.h -> build/lib.macosx-10.9-x86_64-cpython-39/mpi4py/include/mpi4py\n",
      "  copying src/mpi4py/include/mpi4py/mpi4py.h -> build/lib.macosx-10.9-x86_64-cpython-39/mpi4py/include/mpi4py\n",
      "  copying src/mpi4py/include/mpi4py/mpi4py.i -> build/lib.macosx-10.9-x86_64-cpython-39/mpi4py/include/mpi4py\n",
      "  copying src/mpi4py/include/mpi4py/mpi.pxi -> build/lib.macosx-10.9-x86_64-cpython-39/mpi4py/include/mpi4py\n",
      "  copying src/mpi4py/futures/__main__.pyi -> build/lib.macosx-10.9-x86_64-cpython-39/mpi4py/futures\n",
      "  copying src/mpi4py/futures/__init__.pyi -> build/lib.macosx-10.9-x86_64-cpython-39/mpi4py/futures\n",
      "  copying src/mpi4py/futures/_core.pyi -> build/lib.macosx-10.9-x86_64-cpython-39/mpi4py/futures\n",
      "  copying src/mpi4py/futures/aplus.pyi -> build/lib.macosx-10.9-x86_64-cpython-39/mpi4py/futures\n",
      "  copying src/mpi4py/futures/util.pyi -> build/lib.macosx-10.9-x86_64-cpython-39/mpi4py/futures\n",
      "  copying src/mpi4py/futures/_base.pyi -> build/lib.macosx-10.9-x86_64-cpython-39/mpi4py/futures\n",
      "  copying src/mpi4py/futures/server.pyi -> build/lib.macosx-10.9-x86_64-cpython-39/mpi4py/futures\n",
      "  copying src/mpi4py/futures/pool.pyi -> build/lib.macosx-10.9-x86_64-cpython-39/mpi4py/futures\n",
      "  copying src/mpi4py/util/sync.pyi -> build/lib.macosx-10.9-x86_64-cpython-39/mpi4py/util\n",
      "  copying src/mpi4py/util/__init__.pyi -> build/lib.macosx-10.9-x86_64-cpython-39/mpi4py/util\n",
      "  copying src/mpi4py/util/dtlib.pyi -> build/lib.macosx-10.9-x86_64-cpython-39/mpi4py/util\n",
      "  copying src/mpi4py/util/pool.pyi -> build/lib.macosx-10.9-x86_64-cpython-39/mpi4py/util\n",
      "  copying src/mpi4py/util/pkl5.pyi -> build/lib.macosx-10.9-x86_64-cpython-39/mpi4py/util\n",
      "  running build_ext\n",
      "  MPI configuration: [mpi] from 'mpi.cfg'\n",
      "  MPI C compiler:    /Users/argonneed/opt/anaconda3/bin/mpicc\n",
      "  MPI C++ compiler:  /Users/argonneed/opt/anaconda3/bin/mpicxx\n",
      "  checking for MPI compile and link ...\n",
      "  /Users/argonneed/opt/anaconda3/bin/mpicc -Wno-unused-result -Wsign-compare -Wunreachable-code -DNDEBUG -fwrapv -O2 -Wall -fPIC -O2 -isystem /Users/argonneed/opt/anaconda3/include -arch x86_64 -I/Users/argonneed/opt/anaconda3/include -fPIC -O2 -isystem /Users/argonneed/opt/anaconda3/include -arch x86_64 -I/Users/argonneed/opt/anaconda3/include/python3.9 -c _configtest.c -o _configtest.o\n",
      "  /Users/argonneed/opt/anaconda3/bin/mpicc: line 301: x86_64-apple-darwin13.4.0-clang: command not found\n",
      "  failure.\n",
      "  removing: _configtest.c _configtest.o\n",
      "  error: Cannot compile MPI programs. Check your configuration!!!\n",
      "  Installing mpi4py requires a working MPI implementation.\n",
      "  Install MPICH or Open MPI with Homebrew or MacPorts:  $ brew install mpich|openmpi  # Homebrew\n",
      "    $ port install mpich|openmpi  # MacPorts\n",
      "  ----------------------------------------\u001b[0m\n",
      "\u001b[31m  ERROR: Failed building wheel for mpi4py\u001b[0m\n",
      "\u001b[?25hFailed to build mpi4py\n",
      "\u001b[31mERROR: Could not build wheels for mpi4py which use PEP 517 and cannot be installed directly\u001b[0m\n"
     ]
    }
   ],
   "source": [
    "! wget https://raw.githubusercontent.com/argonne-lcf/ai-science-training-series/main/01_intro_AI_on_Supercomputer/mpi_pi.py\n",
    "! pip install mpi4py"
   ]
  },
  {
   "cell_type": "code",
   "execution_count": null,
   "id": "78190130-c0ff-4e33-bc97-b89c30a1cae0",
   "metadata": {},
   "outputs": [],
   "source": [
    "! mpirun -np 1 --allow-run-as-root python mpi_pi.py"
   ]
  },
  {
   "cell_type": "code",
   "execution_count": null,
   "id": "0eb44f15-6fec-4ce6-9ea5-f923948b8dee",
   "metadata": {},
   "outputs": [],
   "source": [
    "! mpirun -np 2 --allow-run-as-root --oversubscribe python mpi_pi.py"
   ]
  },
  {
   "cell_type": "code",
   "execution_count": null,
   "id": "2e5ec3a7-eaf2-4747-a4a3-57038fc3ac26",
   "metadata": {},
   "outputs": [],
   "source": [
    "! mpirun -np 4 --allow-run-as-root --oversubscribe python mpi_pi.py"
   ]
  },
  {
   "cell_type": "markdown",
   "id": "0e265058-19a7-422b-a8e1-6e938ec002f1",
   "metadata": {},
   "source": [
    "### Running $\\pi$ on Polaris\n",
    "```bash\n",
    "ssh <username>@polaris.alcf.anl.gov\n",
    "qsub -A ALCFAITP -l select=1 -q ALCFAITP -l walltime=0:30:00 -l filesystems=home:eagle\n",
    "# choose debug queue outside of the class\n",
    "# qsub -A ALCFAITP -l select=1 -q debug -l walltime=0:30:00 -l filesystems=home:eagle\n",
    "\n",
    "module load conda/2023-10-04\n",
    "conda activate /soft/datascience/ALCFAITP/2023-10-04\n",
    "git clone git@github.com:argonne-lcf/ai-science-training-series.git\n",
    "cd ai-science-training-series/01_intro_AI_on_Supercomputer/\n",
    "mpirun -np 1 python mpi_pi.py   # 3.141988,   8.029037714004517  s\n",
    "mpirun -np 2 python mpi_pi.py   # 3.1415096   4.212774038314819  s\n",
    "mpirun -np 4 python mpi_pi.py   # 3.1425632   2.093632459640503  s\n",
    "mpirun -np 8 python mpi_pi.py   # 3.1411632   1.0610620975494385 s\n",
    "```"
   ]
  },
  {
   "cell_type": "code",
   "execution_count": null,
   "id": "23645e50-96ea-49fd-bb27-e1a5ca0350c7",
   "metadata": {},
   "outputs": [
    {
     "name": "stdout",
     "output_type": "stream",
     "text": [
      "(jdomyancich@polaris.alcf.anl.gov) ---------------------------------------------------------------------------\n",
      "                            Notice to Users\n",
      " \n",
      "This is a Federal computer system and is the property of the United States\n",
      "Government. It is for authorized use only. Users (authorized or unauthorized)\n",
      "have no explicit or implicit expectation of privacy.\n",
      " \n",
      "Any or all uses of this system and all files on this system may be intercepted,\n",
      "monitored, recorded, copied, audited, inspected, and disclosed to authorized\n",
      "site, Department of Energy, and law enforcement personnel, as well as\n",
      "authorized officials of other agencies, both domestic and foreign. By using\n",
      "this system, the user consents to such interception, monitoring, recording,\n",
      "copying, auditing, inspection, and disclosure at the discretion of authorized\n",
      "site or Department of Energy personnel.\n",
      " \n",
      "Unauthorized or improper use of this system may result in administrative\n",
      "disciplinary action and civil and criminal penalties. By continuing to use\n",
      "this system you indicate your awareness of and consent to these terms and\n",
      "conditions of use. LOG OFF IMMEDIATELY if you do not agree to the conditions\n",
      "stated in this warning.\n",
      " \n",
      "----------------------------------------------------------------------------\n",
      "Password: "
     ]
    }
   ],
   "source": [
    "!ssh jdomyancich@polaris.alcf.anl.gov"
   ]
  },
  {
   "cell_type": "code",
   "execution_count": 7,
   "id": "35727baa-fd0b-4b91-99cd-5c0738035511",
   "metadata": {},
   "outputs": [
    {
     "ename": "SyntaxError",
     "evalue": "invalid syntax (1557472982.py, line 2)",
     "output_type": "error",
     "traceback": [
      "\u001b[0;36m  Input \u001b[0;32mIn [7]\u001b[0;36m\u001b[0m\n\u001b[0;31m    qsub -A ALCFAITP -l select=1 -q debug -l walltime=0:30:00 -l filesystems=home:eagle\u001b[0m\n\u001b[0m            ^\u001b[0m\n\u001b[0;31mSyntaxError\u001b[0m\u001b[0;31m:\u001b[0m invalid syntax\n"
     ]
    }
   ],
   "source": [
    "qsub -A ALCFAITP -l select=1 -q debug -l walltime=0:30:00 -l filesystems=home:eagle\n",
    "# choose debug queue outside of the class\n",
    "# qsub -A ALCFAITP -l select=1 -q debug -l walltime=0:30:00 -l filesystems=home:eagle\n",
    "\n",
    "module load conda/2023-10-04\n",
    "conda activate /soft/datascience/ALCFAITP/2023-10-04\n",
    "git clone git@github.com:argonne-lcf/ai-science-training-series.git\n",
    "cd ai-science-training-series/01_intro_AI_on_Supercomputer/\n",
    "mpirun -np 1 python mpi_pi.py   # 3.141988,   8.029037714004517  s\n",
    "mpirun -np 2 python mpi_pi.py   # 3.1415096   4.212774038314819  s\n",
    "mpirun -np 4 python mpi_pi.py   # 3.1425632   2.093632459640503  s\n",
    "mpirun -np 8 python mpi_pi.py   # 3.1411632   1.0610620975494385 s"
   ]
  },
  {
   "cell_type": "markdown",
   "id": "42e513ce",
   "metadata": {},
   "source": [
    "**Attention: Please use ```debug``` queue outside of lecture time instead of ```ALCFAITP```.** "
   ]
  },
  {
   "cell_type": "markdown",
   "id": "1e1351a7-50e9-4152-82bd-4213e83e2eca",
   "metadata": {},
   "source": [
    "## Parallel computing in AI\n",
    "The parallel computing in AI is usually called distributed training. Distributed training is the process of training I models across multiple GPUs or other accelerators, with the goal of speeding up the training process and enabling the training of larger models on larger datasets.\n",
    "\n",
    "There are two ways of parallelization in distributed training. \n",
    "* **Data parallelism**: \n",
    "    * Each worker (GPU) has a complete set of model\n",
    "    * different workers work on different subsets of data. \n",
    "* **Model parallelism** \n",
    "    * The model is splitted into different parts and stored on different workers\n",
    "    * Different workers work on computation involved in different parts of the model\n",
    "![PI](figures/parallel_computing.png)"
   ]
  },
  {
   "cell_type": "markdown",
   "id": "752501ce-7472-451a-b42a-b4a286127dfa",
   "metadata": {},
   "source": [
    "![3D LLM](figures/3DLLM.png)"
   ]
  },
  {
   "cell_type": "code",
   "execution_count": null,
   "id": "2572f307-6cc7-481b-8ef8-1c31cef9748d",
   "metadata": {},
   "outputs": [],
   "source": []
  }
 ],
 "metadata": {
  "kernelspec": {
   "display_name": "Python 3 (ipykernel)",
   "language": "python",
   "name": "python3"
  },
  "language_info": {
   "codemirror_mode": {
    "name": "ipython",
    "version": 3
   },
   "file_extension": ".py",
   "mimetype": "text/x-python",
   "name": "python",
   "nbconvert_exporter": "python",
   "pygments_lexer": "ipython3",
   "version": "3.9.12"
  }
 },
 "nbformat": 4,
 "nbformat_minor": 5
}
