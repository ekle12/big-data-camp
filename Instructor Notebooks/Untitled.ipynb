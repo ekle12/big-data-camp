{
 "cells": [
  {
   "cell_type": "markdown",
   "id": "854154de-47dd-4755-ad12-8e74288d485f",
   "metadata": {},
   "source": [
    "# Math on Arrays"
   ]
  },
  {
   "cell_type": "code",
   "execution_count": null,
   "id": "5f68bb0c-062d-4ce4-acda-65db3f4c90f3",
   "metadata": {},
   "outputs": [],
   "source": []
  }
 ],
 "metadata": {
  "kernelspec": {
   "display_name": "Python 3 (ipykernel)",
   "language": "python",
   "name": "python3"
  },
  "language_info": {
   "codemirror_mode": {
    "name": "ipython",
    "version": 3
   },
   "file_extension": ".py",
   "mimetype": "text/x-python",
   "name": "python",
   "nbconvert_exporter": "python",
   "pygments_lexer": "ipython3",
   "version": "3.9.7"
  }
 },
 "nbformat": 4,
 "nbformat_minor": 5
}
