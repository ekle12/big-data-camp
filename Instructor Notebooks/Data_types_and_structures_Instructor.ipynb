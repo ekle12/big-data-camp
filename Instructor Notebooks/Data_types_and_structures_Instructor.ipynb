{
 "cells": [
  {
   "cell_type": "markdown",
   "id": "39b1b2b2-e75c-47f3-b3e2-f49a7df36312",
   "metadata": {},
   "source": [
    "# Data Types and Data Structures\n",
    "\n",
    "<center><img src = '../imgs/supercomputer_lungs.jpg' width = 500><center>"
   ]
  },
  {
   "cell_type": "markdown",
   "id": "a5cbec6e-aa78-49fe-8a10-18efa6347c53",
   "metadata": {},
   "source": [
    "Obviously, doing data science involves working with data. Understanding the different \"flavors\" of data and how it is organized in the computer's memory is critical knowledge."
   ]
  },
  {
   "cell_type": "markdown",
   "id": "e7cce95c-4033-4f42-b5ab-accf8c9e10f8",
   "metadata": {},
   "source": [
    "### Data Types"
   ]
  },
  {
   "cell_type": "markdown",
   "id": "ffb9ab1a-1a59-455a-b235-a18100f9f5e5",
   "metadata": {},
   "source": [
    "Notice `Hello, world!` is in quotes `\" \"`. This is because the phrase `Hello, world!` is a specific **data type** known as a **string** (text) and strings must be in quotes. By the way, single quotes `' '` can be used as well. They are the same as double quotes `\" \"` in Python. \n",
    "\n",
    "**What happens if you remove the quotes?**"
   ]
  },
  {
   "cell_type": "code",
   "execution_count": 2,
   "id": "fca5958e-afbb-49cb-a250-e16f612676b4",
   "metadata": {},
   "outputs": [
    {
     "name": "stdout",
     "output_type": "stream",
     "text": [
      "Hello, world!\n"
     ]
    }
   ],
   "source": [
    "print(\"Hello, world!\")"
   ]
  },
  {
   "cell_type": "markdown",
   "id": "e49beaab-f59b-417a-9f5c-efed3e686025",
   "metadata": {},
   "source": [
    "There are many data types, but the following are the most common:\n",
    "\n",
    "|data type| Description|Example|\n",
    "|--------|-------------|--------|\n",
    "|int|integer|`5`|\n",
    "|float|number with a decimal|`3.14`|\n",
    "|str|string of characters|`\"What?\"`|\n",
    "|list|ordered collection|`[\"eggs\", \"milk\", \"juice\"]`|"
   ]
  },
  {
   "cell_type": "markdown",
   "id": "ee9708f9-5aec-4cf9-92ec-e014f21ec5b2",
   "metadata": {},
   "source": [
    "Data types are important because functions only accept arguments with certain data types. "
   ]
  },
  {
   "cell_type": "code",
   "execution_count": 3,
   "id": "0cb0bcfb-47f7-47a8-9dc1-46cffefbe902",
   "metadata": {},
   "outputs": [
    {
     "ename": "TypeError",
     "evalue": "type str doesn't define __round__ method",
     "output_type": "error",
     "traceback": [
      "\u001b[0;31m---------------------------------------------------------------------------\u001b[0m",
      "\u001b[0;31mTypeError\u001b[0m                                 Traceback (most recent call last)",
      "Input \u001b[0;32mIn [3]\u001b[0m, in \u001b[0;36m<cell line: 1>\u001b[0;34m()\u001b[0m\n\u001b[0;32m----> 1\u001b[0m \u001b[38;5;28;43mround\u001b[39;49m\u001b[43m(\u001b[49m\u001b[38;5;124;43m\"\u001b[39;49m\u001b[38;5;124;43m5.3\u001b[39;49m\u001b[38;5;124;43m\"\u001b[39;49m\u001b[43m)\u001b[49m\n",
      "\u001b[0;31mTypeError\u001b[0m: type str doesn't define __round__ method"
     ]
    }
   ],
   "source": [
    "round(\"5.3\")"
   ]
  },
  {
   "cell_type": "markdown",
   "id": "925484a5-d6ec-4ee9-ac30-ea02c40c77bc",
   "metadata": {},
   "source": [
    "A useful function is `type()` which will tell you the data type of a value of data stored in a variable."
   ]
  },
  {
   "cell_type": "code",
   "execution_count": 18,
   "id": "0096b335-c4e5-4fa7-b697-3b38c701afaf",
   "metadata": {},
   "outputs": [
    {
     "data": {
      "text/plain": [
       "str"
      ]
     },
     "execution_count": 18,
     "metadata": {},
     "output_type": "execute_result"
    }
   ],
   "source": [
    "type(\"5.3\")"
   ]
  },
  {
   "cell_type": "markdown",
   "id": "30d96181-defd-445e-93da-2205c016f2d3",
   "metadata": {},
   "source": [
    "## Data Structures\n",
    "\n",
    "Lists are an example of **structured data**. Essentially, several pieces of data have been organized. Lists are **ordered**, meaning the items are labeled using an **index**. "
   ]
  },
  {
   "cell_type": "code",
   "execution_count": 19,
   "id": "eddaf6a9-422e-4015-aefb-23d26a7a2e42",
   "metadata": {},
   "outputs": [],
   "source": [
    "grocery_list = [\"eggs\", \"milk\", \"juice\"]   "
   ]
  },
  {
   "cell_type": "markdown",
   "id": "3d571935-608f-4ac4-a853-b3f147b5afde",
   "metadata": {},
   "source": [
    "**Print \"milk\" from `gocery_list`**"
   ]
  },
  {
   "cell_type": "code",
   "execution_count": 20,
   "id": "70165da7-07ac-4c17-a1b5-47b22288998c",
   "metadata": {},
   "outputs": [
    {
     "name": "stdout",
     "output_type": "stream",
     "text": [
      "milk\n"
     ]
    }
   ],
   "source": [
    "print(grocery_list[1])"
   ]
  },
  {
   "cell_type": "markdown",
   "id": "d0726e40-2637-473d-8e88-83b9163f0aa0",
   "metadata": {},
   "source": [
    "### Arrays\n",
    "\n",
    "Arrays are a special type of list that contains only one data type.\n",
    "\n",
    "**Which list is an array?**"
   ]
  },
  {
   "cell_type": "code",
   "execution_count": 22,
   "id": "f0b49714-8e71-4700-b88d-c9ceb64befbc",
   "metadata": {},
   "outputs": [],
   "source": [
    "planet_list = ['mercury', 'venus', 'earth', 'mars', 'jupiter']\n",
    "\n",
    "age_list = [3, 8, 12.0, 38, 40]\n",
    "\n",
    "number_list = [4, 'five', 'ten', 32]"
   ]
  },
  {
   "cell_type": "code",
   "execution_count": 26,
   "id": "bb4a1e62-cdf1-4e5e-a0eb-fe43b22fce9b",
   "metadata": {},
   "outputs": [
    {
     "data": {
      "text/plain": [
       "list"
      ]
     },
     "execution_count": 26,
     "metadata": {},
     "output_type": "execute_result"
    }
   ],
   "source": [
    "type(planet_list)"
   ]
  },
  {
   "cell_type": "markdown",
   "id": "2cb0f60c-f7a7-4196-a593-9ee539eca77b",
   "metadata": {
    "tags": []
   },
   "source": [
    "## Numpy\n",
    "\n",
    "Numpy is a fundamental library that is used for scientific computing. Its basic building block is called an **ndarray**, or an \"n-dimensional array\".\n",
    "\n",
    "A common practice it to `import <library name> as <abbreviated name>`. This allows us to define an abbreviation for the library to use whenever we call a function from it instead of typing out the full name of the library every time. The abbreviation is up to you, but most libraries have an agreed upon abbreviation. For examples, most people abbreviate Numpy as `np`.\n",
    "\n",
    "**Import the Numpy library**:"
   ]
  },
  {
   "cell_type": "code",
   "execution_count": 12,
   "id": "c1faea89-eef1-4ec4-b10d-7a7c84c65221",
   "metadata": {},
   "outputs": [],
   "source": [
    "import numpy as np"
   ]
  },
  {
   "cell_type": "markdown",
   "id": "52674a36-9042-4ca3-90b3-bbb1a4679b18",
   "metadata": {},
   "source": [
    "#### 1D Arrays\n",
    "\n",
    "A list with one type of data is a **1D array**. However, for Numpy to see it as an array data type, we need to use the `array()` function in Numpy"
   ]
  },
  {
   "cell_type": "code",
   "execution_count": 24,
   "id": "b9f5ca46-ec79-4c44-b450-abdc4356b5bd",
   "metadata": {},
   "outputs": [
    {
     "data": {
      "text/plain": [
       "numpy.ndarray"
      ]
     },
     "execution_count": 24,
     "metadata": {},
     "output_type": "execute_result"
    }
   ],
   "source": [
    "planet_array = np.array(planet_list)\n",
    "type(planet_array)"
   ]
  },
  {
   "cell_type": "markdown",
   "id": "7f408e02-d6ce-4aa7-b117-810c49b6f530",
   "metadata": {},
   "source": [
    "#### 2D Arrays\n",
    "\n",
    "A 2D array can be thought of as a list of lists. Each list is an array, but not all the arrays must contain the same data type. \n",
    "\n",
    "**Let's put the following data into a Numpy 2D array:**"
   ]
  },
  {
   "cell_type": "markdown",
   "id": "dcb79a5f-0a0c-448e-b9cc-57dbae833028",
   "metadata": {},
   "source": [
    "<img src=\"../imgs/numpy_planets.png\" width = 300>"
   ]
  },
  {
   "cell_type": "code",
   "execution_count": 14,
   "id": "43f468d7-7b40-4eab-af81-7e8be3ea818a",
   "metadata": {},
   "outputs": [
    {
     "name": "stdout",
     "output_type": "stream",
     "text": [
      "[['mercury' 'venus' 'earth' 'mars' 'jupiter']\n",
      " ['1' '2' '3' '4' '5']\n",
      " ['0' '0' '1' '2' '79']]\n"
     ]
    }
   ],
   "source": [
    "numpy_planets = np.array([['mercury', 'venus', 'earth', 'mars', 'jupiter'], \n",
    "                    [1,2,3,4,5], \n",
    "                    [0,0,1,2,79]])\n",
    "print(numpy_planets)"
   ]
  },
  {
   "cell_type": "code",
   "execution_count": 15,
   "id": "60afd975-b29c-4545-831a-cb6ed60b7c83",
   "metadata": {},
   "outputs": [
    {
     "data": {
      "text/plain": [
       "numpy.ndarray"
      ]
     },
     "execution_count": 15,
     "metadata": {},
     "output_type": "execute_result"
    }
   ],
   "source": [
    "type(numpy_planets)"
   ]
  },
  {
   "cell_type": "markdown",
   "id": "f29f997e-ad05-4a86-a4e9-3d813445fadb",
   "metadata": {
    "tags": []
   },
   "source": [
    "## Pandas\n",
    "\n",
    "Pandas is a data analysis and manipulation tool. It has a lot of similarities to NumPy, but we tend to use it more for data in tables. "
   ]
  },
  {
   "cell_type": "markdown",
   "id": "8ecc1c00-9e41-41a4-8f35-2e221bf43b9b",
   "metadata": {},
   "source": [
    "A 1D array in Pandas is called a `Series`."
   ]
  },
  {
   "cell_type": "code",
   "execution_count": 3,
   "id": "76ee3a84-5462-4415-b9d4-0570b5933299",
   "metadata": {},
   "outputs": [
    {
     "data": {
      "text/plain": [
       "pandas.core.series.Series"
      ]
     },
     "execution_count": 3,
     "metadata": {},
     "output_type": "execute_result"
    }
   ],
   "source": [
    "import pandas as pd\n",
    "\n",
    "pandas_planets = pd.Series(['mercury', 'venus', 'earth', 'mars', 'jupiter'])\n",
    "\n",
    "type(pandas_planets)"
   ]
  },
  {
   "cell_type": "markdown",
   "id": "d8b326c8-6ae1-4029-9199-9e087fbd1643",
   "metadata": {
    "tags": []
   },
   "source": [
    "### Pandas DataFrames\n",
    "\n",
    "A 2D array in Pandas is called a `DataFrame`. \n",
    "\n",
    "This is done by passing another structured data type, known as a `Dictionary`, to the `DataFrame` function. "
   ]
  },
  {
   "cell_type": "code",
   "execution_count": 27,
   "id": "6b023837-954a-4675-9657-445ddaee26e1",
   "metadata": {},
   "outputs": [],
   "source": [
    "pandas_planets = {'A': ['Mercury', 'Venus', 'Earth', 'Mars', 'Jupiter'],\n",
    "        'B': [1, 2, 3, 4, 5], 'C': [0, 0, 1, 2, 79]}"
   ]
  },
  {
   "cell_type": "code",
   "execution_count": 28,
   "id": "d852c17d-f9c7-45e6-846f-7bb6a9e3cce2",
   "metadata": {},
   "outputs": [
    {
     "data": {
      "text/html": [
       "<div>\n",
       "<style scoped>\n",
       "    .dataframe tbody tr th:only-of-type {\n",
       "        vertical-align: middle;\n",
       "    }\n",
       "\n",
       "    .dataframe tbody tr th {\n",
       "        vertical-align: top;\n",
       "    }\n",
       "\n",
       "    .dataframe thead th {\n",
       "        text-align: right;\n",
       "    }\n",
       "</style>\n",
       "<table border=\"1\" class=\"dataframe\">\n",
       "  <thead>\n",
       "    <tr style=\"text-align: right;\">\n",
       "      <th></th>\n",
       "      <th>A</th>\n",
       "      <th>B</th>\n",
       "      <th>C</th>\n",
       "    </tr>\n",
       "  </thead>\n",
       "  <tbody>\n",
       "    <tr>\n",
       "      <th>0</th>\n",
       "      <td>Mercury</td>\n",
       "      <td>1</td>\n",
       "      <td>0</td>\n",
       "    </tr>\n",
       "    <tr>\n",
       "      <th>1</th>\n",
       "      <td>Venus</td>\n",
       "      <td>2</td>\n",
       "      <td>0</td>\n",
       "    </tr>\n",
       "    <tr>\n",
       "      <th>2</th>\n",
       "      <td>Earth</td>\n",
       "      <td>3</td>\n",
       "      <td>1</td>\n",
       "    </tr>\n",
       "    <tr>\n",
       "      <th>3</th>\n",
       "      <td>Mars</td>\n",
       "      <td>4</td>\n",
       "      <td>2</td>\n",
       "    </tr>\n",
       "    <tr>\n",
       "      <th>4</th>\n",
       "      <td>Jupiter</td>\n",
       "      <td>5</td>\n",
       "      <td>79</td>\n",
       "    </tr>\n",
       "  </tbody>\n",
       "</table>\n",
       "</div>"
      ],
      "text/plain": [
       "         A  B   C\n",
       "0  Mercury  1   0\n",
       "1    Venus  2   0\n",
       "2    Earth  3   1\n",
       "3     Mars  4   2\n",
       "4  Jupiter  5  79"
      ]
     },
     "execution_count": 28,
     "metadata": {},
     "output_type": "execute_result"
    }
   ],
   "source": [
    "planets_df = pd.DataFrame(pandas_planets)\n",
    "planets_df"
   ]
  },
  {
   "cell_type": "markdown",
   "id": "15cf356f-1202-483a-b214-4086997837fb",
   "metadata": {},
   "source": [
    "### Numpy 2D Array vs. Pandas Dataframe"
   ]
  },
  {
   "cell_type": "markdown",
   "id": "f762bc1e-e698-4e3c-8b2b-1bceb1f82c31",
   "metadata": {},
   "source": [
    "**Numpy 2D Array**\n",
    "\n",
    "<img src=\"../imgs/numpy_planets.png\" width = 300>"
   ]
  },
  {
   "cell_type": "markdown",
   "id": "1bfbfcf9-1462-4dab-a610-4c5ca6e0ce7d",
   "metadata": {},
   "source": [
    "**Pandas Dataframe**\n",
    "\n",
    "<img src=\"../imgs/pandas_planets.png\" width = 300>"
   ]
  },
  {
   "cell_type": "markdown",
   "id": "d3895f70-0020-498a-8363-ba702d1e97e8",
   "metadata": {
    "tags": []
   },
   "source": [
    "## Reading in Data from a .csv File\n",
    "\n",
    "We will primarily be using Pandas dataframes, but Numpy will be a valuable library as well. Fortunately, we don't need to build our 2D arrays and dataframes from scratch like above. Usually, we will bring in data from an existing file (also known as a **dataset**). The most common file format for raw data is a `.csv` file, short for \"comma separated values\" and it is very easy to convert it into a dataframe:"
   ]
  },
  {
   "cell_type": "code",
   "execution_count": 7,
   "id": "1162eb8d-45ab-49fc-81cf-615e9a3d2f80",
   "metadata": {},
   "outputs": [
    {
     "data": {
      "text/html": [
       "<div>\n",
       "<style scoped>\n",
       "    .dataframe tbody tr th:only-of-type {\n",
       "        vertical-align: middle;\n",
       "    }\n",
       "\n",
       "    .dataframe tbody tr th {\n",
       "        vertical-align: top;\n",
       "    }\n",
       "\n",
       "    .dataframe thead th {\n",
       "        text-align: right;\n",
       "    }\n",
       "</style>\n",
       "<table border=\"1\" class=\"dataframe\">\n",
       "  <thead>\n",
       "    <tr style=\"text-align: right;\">\n",
       "      <th></th>\n",
       "      <th>Planet</th>\n",
       "      <th>Order</th>\n",
       "      <th>Moons</th>\n",
       "    </tr>\n",
       "  </thead>\n",
       "  <tbody>\n",
       "    <tr>\n",
       "      <th>0</th>\n",
       "      <td>Mercury</td>\n",
       "      <td>1</td>\n",
       "      <td>0</td>\n",
       "    </tr>\n",
       "    <tr>\n",
       "      <th>1</th>\n",
       "      <td>Venus</td>\n",
       "      <td>2</td>\n",
       "      <td>0</td>\n",
       "    </tr>\n",
       "    <tr>\n",
       "      <th>2</th>\n",
       "      <td>Earth</td>\n",
       "      <td>3</td>\n",
       "      <td>1</td>\n",
       "    </tr>\n",
       "    <tr>\n",
       "      <th>3</th>\n",
       "      <td>Mars</td>\n",
       "      <td>4</td>\n",
       "      <td>2</td>\n",
       "    </tr>\n",
       "    <tr>\n",
       "      <th>4</th>\n",
       "      <td>Jupiter</td>\n",
       "      <td>5</td>\n",
       "      <td>79</td>\n",
       "    </tr>\n",
       "  </tbody>\n",
       "</table>\n",
       "</div>"
      ],
      "text/plain": [
       "    Planet  Order  Moons\n",
       "0  Mercury      1      0\n",
       "1    Venus      2      0\n",
       "2    Earth      3      1\n",
       "3     Mars      4      2\n",
       "4  Jupiter      5     79"
      ]
     },
     "execution_count": 7,
     "metadata": {},
     "output_type": "execute_result"
    }
   ],
   "source": [
    "planets = pd.read_csv('../data/planets.csv')\n",
    "planets"
   ]
  },
  {
   "cell_type": "markdown",
   "id": "abcd2466-1235-42e9-8606-f326cbc74b7b",
   "metadata": {},
   "source": [
    "A Pandas dataframe should look familiar. It is how data is structured in spreadsheets like Excel and Google Sheets. The bold numbers on the left are known as the **index** and allow us to number rows. The column names allow us to label and reference individual 1D arrays in the dataframe."
   ]
  },
  {
   "cell_type": "code",
   "execution_count": null,
   "id": "5d51a727-f4f8-4d6e-8439-2e5ced6b0a66",
   "metadata": {},
   "outputs": [],
   "source": []
  }
 ],
 "metadata": {
  "kernelspec": {
   "display_name": "Python 3 (ipykernel)",
   "language": "python",
   "name": "python3"
  },
  "language_info": {
   "codemirror_mode": {
    "name": "ipython",
    "version": 3
   },
   "file_extension": ".py",
   "mimetype": "text/x-python",
   "name": "python",
   "nbconvert_exporter": "python",
   "pygments_lexer": "ipython3",
   "version": "3.9.12"
  }
 },
 "nbformat": 4,
 "nbformat_minor": 5
}
