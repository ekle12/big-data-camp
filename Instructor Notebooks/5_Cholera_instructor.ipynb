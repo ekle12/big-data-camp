{
 "cells": [
  {
   "cell_type": "markdown",
   "id": "48c1ef9b-8a44-4b4f-bf34-4670f9931b3e",
   "metadata": {
    "tags": []
   },
   "source": [
    "# A Cholera Outbreak in London"
   ]
  },
  {
   "cell_type": "markdown",
   "id": "954035b8-975c-4984-8104-119e8cf2f3ad",
   "metadata": {},
   "source": [
    "## The Outbreak"
   ]
  },
  {
   "cell_type": "markdown",
   "id": "cb6dc36f-78bd-4709-8140-de2110f14b3d",
   "metadata": {
    "jp-MarkdownHeadingCollapsed": true,
    "tags": []
   },
   "source": [
    "In the late summer of 1849, a particularly bad outbreak of cholera struck the Soho neighborhood in central London. Between August 31 and September 10, over 500 people had died. By the end of the outbreak, the death toll was 616.\n",
    "\n",
    "In this notebook, we will test two proposed explanations (hypotheses) of how cholera spread in London: through the **air** and through the **water**. That is, we will show that some hypotheses are likely a better fit for the data and are harder to reject, in a ***statistically significant*** way, than others. \n",
    "\n",
    "<br>\n",
    "\n",
    "<table><tr>\n",
    "    <td> <img src=\"https://github.com/jdomyancich/big-data-camp/blob/main/imgs/king_cholera.png?raw=true\" alt=\"Drawing\" style=\"width: 600px;\"/> </td>\n",
    "</tr></table>\n",
    "\n",
    "<br>"
   ]
  },
  {
   "cell_type": "markdown",
   "id": "24071ad0-64fa-49d9-9aa0-5808283b9dbd",
   "metadata": {
    "tags": []
   },
   "source": [
    "## The Theories\n",
    "\n",
    "Two predominant theories on the cause of cholera existed at the the time:"
   ]
  },
  {
   "cell_type": "markdown",
   "id": "857e2114-2724-4ebc-bddb-3f4a909e3ce6",
   "metadata": {
    "tags": []
   },
   "source": [
    "### Airborne\n",
    "\n",
    "<img align=\"right\" width=\"300\" height=\"300\" src='https://github.com/jdomyancich/big-data-camp/blob/main/imgs/airborne.png?raw=true'> \n",
    "\n",
    "Inhalation of a poison given off by dead or contaminated organic matter like sewage which enters the body through the lungs and poisons the blood. "
   ]
  },
  {
   "cell_type": "markdown",
   "id": "cc6170e3-88b8-4b7b-9405-c8ea7b68bb2b",
   "metadata": {},
   "source": [
    "<img align=\"right\" width=\"300\" height=\"300\" src='https://github.com/jdomyancich/big-data-camp/blob/main/imgs/waterborne.png?raw=true'>\n",
    "\n",
    "### Waterborne\n",
    "\n",
    "Ingestion of “excretions of the sick” which contain a living organism which infects the gastrointestinal system."
   ]
  },
  {
   "cell_type": "markdown",
   "id": "a198ee8a-6d4b-44a2-a51d-1cf0744a1597",
   "metadata": {},
   "source": [
    "<img align=\"right\" width=\"300\" height=\"300\" src='https://github.com/jdomyancich/big-data-camp/blob/main/imgs/john_snow.jpg?raw=true'>\n",
    "\n",
    "## The Doctor\n",
    "\n",
    "* John Snow\n",
    "* Known for pioneering anesthesia techniques\n",
    "* Noticed that cholera affected the gastrointestinal system\n",
    "* Hypothesized that contaminated drinking water was the cause of cholera\n",
    "* Most people disagreed with him"
   ]
  },
  {
   "cell_type": "markdown",
   "id": "1c5b2fbc-76c5-4fc4-8150-08fc85a5ec99",
   "metadata": {},
   "source": [
    "<img align=\"right\" height=\"300\" width=\"500\" src = 'https://github.com/jdomyancich/big-data-camp/blob/main/imgs/soho_map.jpeg?raw=true'>\n",
    "\n",
    "## The Map\n",
    "\n",
    "* John Snow collected data for each household, including the number of deaths from cholera, during the 1854 outbreak.\n",
    "* Each death is represented as a black line.\n",
    "* Multiple deaths in the same household appear stacked."
   ]
  },
  {
   "cell_type": "markdown",
   "id": "ee20de9f-d0e8-4af7-b6ab-1363370b52e7",
   "metadata": {},
   "source": [
    "## The Pump\n",
    "\n",
    "<img align=\"right\" width=\"400\" src = 'https://github.com/jdomyancich/big-data-camp/blob/main/imgs/broad_street.png?raw=true'>\n",
    "\n",
    "* John Snow centered his map on a particular water pump that he suspected to be the source of the ourbreak.\n",
    "* The pump was located on Broad Street.\n",
    "* John Snow suspected the Broad Street Pump to be the source of the outbreak.\n"
   ]
  },
  {
   "cell_type": "markdown",
   "id": "3bfe2311-1f46-449b-aa91-05f70c04a9e6",
   "metadata": {},
   "source": [
    "## The Sewers\n",
    "\n",
    "<img align=\"right\" width=\"400\" src = 'https://github.com/jdomyancich/big-data-camp/blob/main/imgs/broad_sewers.png?raw=true'>\n",
    "\n",
    "* However, the neighborhood also had many sewers.\n",
    "* Sewers were thought to be a source of cholera by many supporters of the airborne theory.\n",
    "* Sewers are represented as squares in the map to the right.\n",
    "\n",
    "\n"
   ]
  },
  {
   "cell_type": "markdown",
   "id": "c8feb0c2-efad-4bf8-a579-e104c0eac191",
   "metadata": {
    "tags": []
   },
   "source": [
    "## The Data\n",
    "\n",
    "People in charge of the city’s sewers went door-to-door in the Soho neighborhood to assess the claim that toxic fumes from its sewers were causing the deaths. We have digitized this data into a .csv file that has the following columns: \n",
    "\n",
    "- **house_ID:** unique indtifier for the house\n",
    "- **deaths:** the total deaths in that particular house \n",
    "- **dis_sewers:** distance (in meters) from the house to the nearest sewer (1 meter = 3.3 feet)\n",
    "- **dis_bspump:** distance (in meters) from the house to the Broad St. pump"
   ]
  },
  {
   "cell_type": "code",
   "execution_count": 1,
   "id": "bb8573e9",
   "metadata": {},
   "outputs": [
    {
     "data": {
      "text/html": [
       "<div>\n",
       "<style scoped>\n",
       "    .dataframe tbody tr th:only-of-type {\n",
       "        vertical-align: middle;\n",
       "    }\n",
       "\n",
       "    .dataframe tbody tr th {\n",
       "        vertical-align: top;\n",
       "    }\n",
       "\n",
       "    .dataframe thead th {\n",
       "        text-align: right;\n",
       "    }\n",
       "</style>\n",
       "<table border=\"1\" class=\"dataframe\">\n",
       "  <thead>\n",
       "    <tr style=\"text-align: right;\">\n",
       "      <th></th>\n",
       "      <th>house_ID</th>\n",
       "      <th>deaths</th>\n",
       "      <th>dis_sewers</th>\n",
       "      <th>dis_bspump</th>\n",
       "    </tr>\n",
       "  </thead>\n",
       "  <tbody>\n",
       "    <tr>\n",
       "      <th>0</th>\n",
       "      <td>1</td>\n",
       "      <td>0</td>\n",
       "      <td>10.08</td>\n",
       "      <td>125.00</td>\n",
       "    </tr>\n",
       "    <tr>\n",
       "      <th>1</th>\n",
       "      <td>2</td>\n",
       "      <td>1</td>\n",
       "      <td>14.64</td>\n",
       "      <td>119.94</td>\n",
       "    </tr>\n",
       "    <tr>\n",
       "      <th>2</th>\n",
       "      <td>3</td>\n",
       "      <td>0</td>\n",
       "      <td>18.47</td>\n",
       "      <td>116.27</td>\n",
       "    </tr>\n",
       "    <tr>\n",
       "      <th>3</th>\n",
       "      <td>4</td>\n",
       "      <td>0</td>\n",
       "      <td>22.98</td>\n",
       "      <td>112.56</td>\n",
       "    </tr>\n",
       "    <tr>\n",
       "      <th>4</th>\n",
       "      <td>5</td>\n",
       "      <td>0</td>\n",
       "      <td>27.47</td>\n",
       "      <td>109.10</td>\n",
       "    </tr>\n",
       "  </tbody>\n",
       "</table>\n",
       "</div>"
      ],
      "text/plain": [
       "   house_ID  deaths  dis_sewers  dis_bspump\n",
       "0         1       0       10.08      125.00\n",
       "1         2       1       14.64      119.94\n",
       "2         3       0       18.47      116.27\n",
       "3         4       0       22.98      112.56\n",
       "4         5       0       27.47      109.10"
      ]
     },
     "execution_count": 1,
     "metadata": {},
     "output_type": "execute_result"
    }
   ],
   "source": [
    "import numpy as np\n",
    "import pandas as pd\n",
    "from matplotlib import pyplot as plt\n",
    "\n",
    "house_data = pd.read_csv('https://raw.githubusercontent.com/jdomyancich/big-data-camp/refs/heads/main/data/deaths_by_house.csv')\n",
    "house_data.head()"
   ]
  },
  {
   "cell_type": "markdown",
   "id": "fe62cf54",
   "metadata": {
    "tags": []
   },
   "source": [
    "# Our Own Data Experiment\n",
    "\n",
    "In the case of the airborne and waterborne theories, we can separate people into groups. The exposed group (people living near a sewer or the water pump) is often called an **impact** or **treatment group** while the unexposed group (people living far from a sewer or the water pump) is the **control group**. When testing the airborne theory, we will group people based on whether they lived near a sewer or not and whether they died of cholera or not. When testing the waterborne theory, we will group people based on whether they lived near a certain water pump or not and whether they died of cholera or not. \n",
    "\n",
    "This will result in four groups for each proposed explanation. We will place them in a 2x2 **contingency table** (also called a ***two-way table*** or ***crosstab***). We will have to test each explanation separately. In all, that means four contingency tables: an expected (null) and an observed table for each of the two hypotheses."
   ]
  },
  {
   "cell_type": "markdown",
   "id": "6ee06015-1d71-4b82-8a8b-b31624630670",
   "metadata": {
    "tags": [],
    "toc-hr-collapsed": true
   },
   "source": [
    "# The Airborne Hypothesis: Investigating the Sewers"
   ]
  },
  {
   "cell_type": "markdown",
   "id": "afcd8589-8b91-4160-896b-f8239b532a8e",
   "metadata": {
    "jp-MarkdownHeadingCollapsed": true,
    "tags": []
   },
   "source": [
    "Now that we've talked about how to set up our experiment, let's apply this to the cholera data! \n",
    "\n",
    "The first theory we will explore assumes that cholera is airborne and that people get infected by inhaling toxic fumes from localized sources. In this case, the source is fumes emitted from sewers. \n",
    "\n",
    "<center><img src = 'https://github.com/jdomyancich/big-data-camp/blob/main/imgs/sewer.jpeg?raw=true' width=400><center>\n",
    "\n",
    "If this theory was true, then closer proximity to sewers would make it more likely to inhale the toxic air and contract cholera. For simplicity, let us assume **someone is 'close' to a sewer if they less than 40 feet (12.2 meters) from one** ... otherwise they are 'far'. Unfortunately, we don't have the total number of people in each house. That data was not collected.  Therefore, we will have to count houses instead of people.\n",
    "\n",
    "A contingency table simply shows the total frequencies of each variable, with one variable appearing on each axis. It technically does not matter, but a common approach is to put the independent (explanatory) variable on the x-axis and the dependent (outcome) variable on the y-axis. While there are libraries to create contingency tables for us, we will build some ourselves in order to better understand it. Here is the contingency table for the airborne theory:\n",
    "\n",
    "<img src=\"https://github.com/jdomyancich/big-data-camp/blob/main/imgs/sewers_observed.png?raw=true\" style=\"width: 600px;\"/>"
   ]
  },
  {
   "cell_type": "markdown",
   "id": "c9fef433-6c7a-4c9e-afb1-6876ed305d5e",
   "metadata": {},
   "source": [
    "### Building the Observed Contingency Table\n",
    "\n",
    "We will now build a contingency table for what was actually observed during the outbreak using the following variable names. "
   ]
  },
  {
   "cell_type": "markdown",
   "id": "4b11cfe9-a053-4f6e-9fd9-4b637f8081d8",
   "metadata": {},
   "source": [
    "#### Using Conditional Logic: `np.where()`\n",
    "\n",
    "This allows you to create values based on conditions. For example, we can categorize houses as near or far from a sewer and create a new column with this information. We will use 12.2 meters as the cutoff for the coindition:"
   ]
  },
  {
   "cell_type": "code",
   "execution_count": 23,
   "id": "f057d1c6-df2c-4c3a-98e7-5fe8354dbf9c",
   "metadata": {},
   "outputs": [
    {
     "data": {
      "text/html": [
       "<div>\n",
       "<style scoped>\n",
       "    .dataframe tbody tr th:only-of-type {\n",
       "        vertical-align: middle;\n",
       "    }\n",
       "\n",
       "    .dataframe tbody tr th {\n",
       "        vertical-align: top;\n",
       "    }\n",
       "\n",
       "    .dataframe thead th {\n",
       "        text-align: right;\n",
       "    }\n",
       "</style>\n",
       "<table border=\"1\" class=\"dataframe\">\n",
       "  <thead>\n",
       "    <tr style=\"text-align: right;\">\n",
       "      <th></th>\n",
       "      <th>house_ID</th>\n",
       "      <th>deaths</th>\n",
       "      <th>dis_sewers</th>\n",
       "      <th>dis_bspump</th>\n",
       "      <th>sewer_proximity</th>\n",
       "      <th>death_status</th>\n",
       "    </tr>\n",
       "  </thead>\n",
       "  <tbody>\n",
       "    <tr>\n",
       "      <th>0</th>\n",
       "      <td>1</td>\n",
       "      <td>0</td>\n",
       "      <td>10.08</td>\n",
       "      <td>125.00</td>\n",
       "      <td>Near Sewer</td>\n",
       "      <td>No Deaths</td>\n",
       "    </tr>\n",
       "    <tr>\n",
       "      <th>1</th>\n",
       "      <td>2</td>\n",
       "      <td>1</td>\n",
       "      <td>14.64</td>\n",
       "      <td>119.94</td>\n",
       "      <td>Far from Sewer</td>\n",
       "      <td>Deaths</td>\n",
       "    </tr>\n",
       "    <tr>\n",
       "      <th>2</th>\n",
       "      <td>3</td>\n",
       "      <td>0</td>\n",
       "      <td>18.47</td>\n",
       "      <td>116.27</td>\n",
       "      <td>Far from Sewer</td>\n",
       "      <td>No Deaths</td>\n",
       "    </tr>\n",
       "    <tr>\n",
       "      <th>3</th>\n",
       "      <td>4</td>\n",
       "      <td>0</td>\n",
       "      <td>22.98</td>\n",
       "      <td>112.56</td>\n",
       "      <td>Far from Sewer</td>\n",
       "      <td>No Deaths</td>\n",
       "    </tr>\n",
       "    <tr>\n",
       "      <th>4</th>\n",
       "      <td>5</td>\n",
       "      <td>0</td>\n",
       "      <td>27.47</td>\n",
       "      <td>109.10</td>\n",
       "      <td>Far from Sewer</td>\n",
       "      <td>No Deaths</td>\n",
       "    </tr>\n",
       "  </tbody>\n",
       "</table>\n",
       "</div>"
      ],
      "text/plain": [
       "   house_ID  deaths  dis_sewers  dis_bspump sewer_proximity death_status\n",
       "0         1       0       10.08      125.00      Near Sewer    No Deaths\n",
       "1         2       1       14.64      119.94  Far from Sewer       Deaths\n",
       "2         3       0       18.47      116.27  Far from Sewer    No Deaths\n",
       "3         4       0       22.98      112.56  Far from Sewer    No Deaths\n",
       "4         5       0       27.47      109.10  Far from Sewer    No Deaths"
      ]
     },
     "execution_count": 23,
     "metadata": {},
     "output_type": "execute_result"
    }
   ],
   "source": [
    "###\n",
    "house_data['sewer_proximity'] = np.where(house_data['dis_sewers'] > 12.2, \"Far from Sewer\", \"Near Sewer\")\n",
    "house_data.head()\n",
    "###"
   ]
  },
  {
   "cell_type": "markdown",
   "id": "f9d6c7bf-3225-46bb-9451-90f024af81b4",
   "metadata": {},
   "source": [
    "We can use `np.where` to label whether a house had a death or not."
   ]
  },
  {
   "cell_type": "code",
   "execution_count": 53,
   "id": "303a732b-7e24-41d7-a735-e2dc56b8597d",
   "metadata": {},
   "outputs": [
    {
     "data": {
      "text/html": [
       "<div>\n",
       "<style scoped>\n",
       "    .dataframe tbody tr th:only-of-type {\n",
       "        vertical-align: middle;\n",
       "    }\n",
       "\n",
       "    .dataframe tbody tr th {\n",
       "        vertical-align: top;\n",
       "    }\n",
       "\n",
       "    .dataframe thead th {\n",
       "        text-align: right;\n",
       "    }\n",
       "</style>\n",
       "<table border=\"1\" class=\"dataframe\">\n",
       "  <thead>\n",
       "    <tr style=\"text-align: right;\">\n",
       "      <th></th>\n",
       "      <th>house_ID</th>\n",
       "      <th>deaths</th>\n",
       "      <th>dis_sewers</th>\n",
       "      <th>dis_bspump</th>\n",
       "      <th>sewer_proximity</th>\n",
       "      <th>death_status</th>\n",
       "    </tr>\n",
       "  </thead>\n",
       "  <tbody>\n",
       "    <tr>\n",
       "      <th>0</th>\n",
       "      <td>1</td>\n",
       "      <td>0</td>\n",
       "      <td>10.08</td>\n",
       "      <td>125.00</td>\n",
       "      <td>Near Sewer</td>\n",
       "      <td>Non-Deaths</td>\n",
       "    </tr>\n",
       "    <tr>\n",
       "      <th>1</th>\n",
       "      <td>2</td>\n",
       "      <td>1</td>\n",
       "      <td>14.64</td>\n",
       "      <td>119.94</td>\n",
       "      <td>Far from Sewer</td>\n",
       "      <td>Deaths</td>\n",
       "    </tr>\n",
       "    <tr>\n",
       "      <th>2</th>\n",
       "      <td>3</td>\n",
       "      <td>0</td>\n",
       "      <td>18.47</td>\n",
       "      <td>116.27</td>\n",
       "      <td>Far from Sewer</td>\n",
       "      <td>Non-Deaths</td>\n",
       "    </tr>\n",
       "    <tr>\n",
       "      <th>3</th>\n",
       "      <td>4</td>\n",
       "      <td>0</td>\n",
       "      <td>22.98</td>\n",
       "      <td>112.56</td>\n",
       "      <td>Far from Sewer</td>\n",
       "      <td>Non-Deaths</td>\n",
       "    </tr>\n",
       "    <tr>\n",
       "      <th>4</th>\n",
       "      <td>5</td>\n",
       "      <td>0</td>\n",
       "      <td>27.47</td>\n",
       "      <td>109.10</td>\n",
       "      <td>Far from Sewer</td>\n",
       "      <td>Non-Deaths</td>\n",
       "    </tr>\n",
       "  </tbody>\n",
       "</table>\n",
       "</div>"
      ],
      "text/plain": [
       "   house_ID  deaths  dis_sewers  dis_bspump sewer_proximity death_status\n",
       "0         1       0       10.08      125.00      Near Sewer   Non-Deaths\n",
       "1         2       1       14.64      119.94  Far from Sewer       Deaths\n",
       "2         3       0       18.47      116.27  Far from Sewer   Non-Deaths\n",
       "3         4       0       22.98      112.56  Far from Sewer   Non-Deaths\n",
       "4         5       0       27.47      109.10  Far from Sewer   Non-Deaths"
      ]
     },
     "execution_count": 53,
     "metadata": {},
     "output_type": "execute_result"
    }
   ],
   "source": [
    "###\n",
    "house_data['death_status'] = np.where(house_data['deaths'] == 0, \"Non-Deaths\", \"Deaths\")\n",
    "house_data.head()\n",
    "###"
   ]
  },
  {
   "cell_type": "markdown",
   "id": "fe0a86da-81e2-4f7b-8d5e-71a74985cb5e",
   "metadata": {},
   "source": [
    "Now we have the data (the four categories) to build our contingency table. Contingency tables are also known as a **two-way table** or **crosstabulation**. Fortunately, Pandas has a function called `crosstab()` that will construct the table for us:"
   ]
  },
  {
   "cell_type": "code",
   "execution_count": 54,
   "id": "b53c12ce-606e-4561-95c3-56a524577a09",
   "metadata": {},
   "outputs": [
    {
     "data": {
      "text/html": [
       "<div>\n",
       "<style scoped>\n",
       "    .dataframe tbody tr th:only-of-type {\n",
       "        vertical-align: middle;\n",
       "    }\n",
       "\n",
       "    .dataframe tbody tr th {\n",
       "        vertical-align: top;\n",
       "    }\n",
       "\n",
       "    .dataframe thead th {\n",
       "        text-align: right;\n",
       "    }\n",
       "</style>\n",
       "<table border=\"1\" class=\"dataframe\">\n",
       "  <thead>\n",
       "    <tr style=\"text-align: right;\">\n",
       "      <th>sewer_proximity</th>\n",
       "      <th>Far from Sewer</th>\n",
       "      <th>Near Sewer</th>\n",
       "    </tr>\n",
       "    <tr>\n",
       "      <th>death_status</th>\n",
       "      <th></th>\n",
       "      <th></th>\n",
       "    </tr>\n",
       "  </thead>\n",
       "  <tbody>\n",
       "    <tr>\n",
       "      <th>Deaths</th>\n",
       "      <td>252</td>\n",
       "      <td>117</td>\n",
       "    </tr>\n",
       "    <tr>\n",
       "      <th>Non-Deaths</th>\n",
       "      <td>1047</td>\n",
       "      <td>436</td>\n",
       "    </tr>\n",
       "  </tbody>\n",
       "</table>\n",
       "</div>"
      ],
      "text/plain": [
       "sewer_proximity  Far from Sewer  Near Sewer\n",
       "death_status                               \n",
       "Deaths                      252         117\n",
       "Non-Deaths                 1047         436"
      ]
     },
     "execution_count": 54,
     "metadata": {},
     "output_type": "execute_result"
    }
   ],
   "source": [
    "###\n",
    "sewer_table = pd.crosstab(house_data[\"death_status\"], house_data[\"sewer_proximity\"])\n",
    "sewer_table\n",
    "###"
   ]
  },
  {
   "cell_type": "markdown",
   "id": "7bd6dea5-1bd2-4cfe-8c74-a8870bfe6bdb",
   "metadata": {},
   "source": [
    "**Does there appear to be a significant difference in the incidence of deaths between houses that are near a sewer vs. far from a sewer?** \n",
    "\n",
    "We can get a better sense of the difference between the groups by calculating the `Deaths` and `Non-Deaths` as percentages using the `normalize` argument in the `crosstab` function."
   ]
  },
  {
   "cell_type": "code",
   "execution_count": 55,
   "id": "e17d255f-ce5a-43f8-8873-eeaee2db8b20",
   "metadata": {},
   "outputs": [
    {
     "data": {
      "text/html": [
       "<div>\n",
       "<style scoped>\n",
       "    .dataframe tbody tr th:only-of-type {\n",
       "        vertical-align: middle;\n",
       "    }\n",
       "\n",
       "    .dataframe tbody tr th {\n",
       "        vertical-align: top;\n",
       "    }\n",
       "\n",
       "    .dataframe thead th {\n",
       "        text-align: right;\n",
       "    }\n",
       "</style>\n",
       "<table border=\"1\" class=\"dataframe\">\n",
       "  <thead>\n",
       "    <tr style=\"text-align: right;\">\n",
       "      <th>sewer_proximity</th>\n",
       "      <th>Far from Sewer</th>\n",
       "      <th>Near Sewer</th>\n",
       "    </tr>\n",
       "    <tr>\n",
       "      <th>death_status</th>\n",
       "      <th></th>\n",
       "      <th></th>\n",
       "    </tr>\n",
       "  </thead>\n",
       "  <tbody>\n",
       "    <tr>\n",
       "      <th>Deaths</th>\n",
       "      <td>19.399538</td>\n",
       "      <td>21.157324</td>\n",
       "    </tr>\n",
       "    <tr>\n",
       "      <th>Non-Deaths</th>\n",
       "      <td>80.600462</td>\n",
       "      <td>78.842676</td>\n",
       "    </tr>\n",
       "  </tbody>\n",
       "</table>\n",
       "</div>"
      ],
      "text/plain": [
       "sewer_proximity  Far from Sewer  Near Sewer\n",
       "death_status                               \n",
       "Deaths                19.399538   21.157324\n",
       "Non-Deaths            80.600462   78.842676"
      ]
     },
     "execution_count": 55,
     "metadata": {},
     "output_type": "execute_result"
    }
   ],
   "source": [
    "###\n",
    "norm_sewer_table = pd.crosstab(house_data[\"death_status\"], house_data[\"sewer_proximity\"], normalize='columns') * 100\n",
    "norm_sewer_table\n",
    "###"
   ]
  },
  {
   "cell_type": "markdown",
   "id": "513fc2a9-717a-4d44-9ca9-0563f19b4a80",
   "metadata": {},
   "source": [
    "### Calculating the p-value\n",
    "\n",
    "Even if there is a difference between the two groups of houses, is it large enough to support that living close to a sewer is associated with higher cholera rates and not just a difference caused by randomness? \n",
    "\n",
    "The method for testing statistical significance in contingency tables is called a \"chi-squared ($Chi^2$) analysis\". \n",
    "\n",
    "There is library called \"SciPy\" that has a function that will do the chi-squared analysis for us."
   ]
  },
  {
   "cell_type": "code",
   "execution_count": 51,
   "id": "45b5ccbc-6266-4351-ad19-5b338a637738",
   "metadata": {
    "tags": []
   },
   "outputs": [],
   "source": [
    "from scipy.stats import chi2_contingency"
   ]
  },
  {
   "cell_type": "markdown",
   "id": "86622438-2d3d-4eb7-8442-026a496f0807",
   "metadata": {},
   "source": [
    "The `chi2_contingency` function returns 4 values. We are only interested in the p-value. When doing data science in Python, it is common convention to use `_` characters to mark variables whose values we don't need. "
   ]
  },
  {
   "cell_type": "code",
   "execution_count": 52,
   "id": "76e0a1fa-c8dd-4346-a797-7f2ca710b282",
   "metadata": {
    "tags": []
   },
   "outputs": [
    {
     "name": "stdout",
     "output_type": "stream",
     "text": [
      "p-value: 0.42\n"
     ]
    }
   ],
   "source": [
    "###\n",
    "_, p_value, _, _ = chi2_contingency(sewer_table)\n",
    "print(f\"p-value: {p_value:.2f}\")\n",
    "###"
   ]
  },
  {
   "cell_type": "markdown",
   "id": "1ad6e884-706b-4590-bc6e-99b93063e7ff",
   "metadata": {},
   "source": [
    "**Based on the p-value of your $Chi^2$ test, what are the chances that the higher death rate in houses near a sewer is due to random chance?**"
   ]
  },
  {
   "cell_type": "markdown",
   "id": "6b992896",
   "metadata": {
    "tags": [],
    "toc-hr-collapsed": true
   },
   "source": [
    "# The Waterborne Hypothesis: Investigating the Broad Street Pump"
   ]
  },
  {
   "attachments": {},
   "cell_type": "markdown",
   "id": "ee4ebc23-9ba2-46bf-b566-bf499415059e",
   "metadata": {},
   "source": [
    "Next, we want to explore the theory that cholera was transmitted through contaminated water. At the time, John Snow guessed that the water of a particular pump, the Broad Street Pump (BSP, for short), might have carried pieces of poisonous sewage. Did the data support this hypothesis? \n",
    "\n",
    "<center><img src=\"https://github.com/jdomyancich/big-data-camp/blob/main/imgs/pump3.jpeg?raw=true\" alt=\"Drawing\" style=\"width: 300px;\"/><center>\n",
    "\n",
    "If this theory was true, then closer proximity to the Broad Street Pump would make it more likely to drink its contaminated water and contract cholera. For simplicity, let us assume **someone is 'close' to the Broad Street Pump if they are at most 140 meters from it**... otherwise they are 'far'.\n",
    "\n",
    "\n",
    "<img src=\"https://github.com/jdomyancich/big-data-camp/blob/main/imgs/pumps_observed.png?raw=true\" style=\"width: 600px;\"/>"
   ]
  },
  {
   "cell_type": "code",
   "execution_count": 56,
   "id": "9db412e4-c492-408a-8a1d-8e39bd6d4d5a",
   "metadata": {},
   "outputs": [
    {
     "data": {
      "text/html": [
       "<div>\n",
       "<style scoped>\n",
       "    .dataframe tbody tr th:only-of-type {\n",
       "        vertical-align: middle;\n",
       "    }\n",
       "\n",
       "    .dataframe tbody tr th {\n",
       "        vertical-align: top;\n",
       "    }\n",
       "\n",
       "    .dataframe thead th {\n",
       "        text-align: right;\n",
       "    }\n",
       "</style>\n",
       "<table border=\"1\" class=\"dataframe\">\n",
       "  <thead>\n",
       "    <tr style=\"text-align: right;\">\n",
       "      <th></th>\n",
       "      <th>house_ID</th>\n",
       "      <th>deaths</th>\n",
       "      <th>dis_sewers</th>\n",
       "      <th>dis_bspump</th>\n",
       "      <th>sewer_proximity</th>\n",
       "      <th>death_status</th>\n",
       "      <th>pump_proximity</th>\n",
       "    </tr>\n",
       "  </thead>\n",
       "  <tbody>\n",
       "    <tr>\n",
       "      <th>0</th>\n",
       "      <td>1</td>\n",
       "      <td>0</td>\n",
       "      <td>10.08</td>\n",
       "      <td>125.00</td>\n",
       "      <td>Near Sewer</td>\n",
       "      <td>Non-Deaths</td>\n",
       "      <td>Near the Pump</td>\n",
       "    </tr>\n",
       "    <tr>\n",
       "      <th>1</th>\n",
       "      <td>2</td>\n",
       "      <td>1</td>\n",
       "      <td>14.64</td>\n",
       "      <td>119.94</td>\n",
       "      <td>Far from Sewer</td>\n",
       "      <td>Deaths</td>\n",
       "      <td>Near the Pump</td>\n",
       "    </tr>\n",
       "    <tr>\n",
       "      <th>2</th>\n",
       "      <td>3</td>\n",
       "      <td>0</td>\n",
       "      <td>18.47</td>\n",
       "      <td>116.27</td>\n",
       "      <td>Far from Sewer</td>\n",
       "      <td>Non-Deaths</td>\n",
       "      <td>Near the Pump</td>\n",
       "    </tr>\n",
       "    <tr>\n",
       "      <th>3</th>\n",
       "      <td>4</td>\n",
       "      <td>0</td>\n",
       "      <td>22.98</td>\n",
       "      <td>112.56</td>\n",
       "      <td>Far from Sewer</td>\n",
       "      <td>Non-Deaths</td>\n",
       "      <td>Near the Pump</td>\n",
       "    </tr>\n",
       "    <tr>\n",
       "      <th>4</th>\n",
       "      <td>5</td>\n",
       "      <td>0</td>\n",
       "      <td>27.47</td>\n",
       "      <td>109.10</td>\n",
       "      <td>Far from Sewer</td>\n",
       "      <td>Non-Deaths</td>\n",
       "      <td>Near the Pump</td>\n",
       "    </tr>\n",
       "  </tbody>\n",
       "</table>\n",
       "</div>"
      ],
      "text/plain": [
       "   house_ID  deaths  dis_sewers  dis_bspump sewer_proximity death_status  \\\n",
       "0         1       0       10.08      125.00      Near Sewer   Non-Deaths   \n",
       "1         2       1       14.64      119.94  Far from Sewer       Deaths   \n",
       "2         3       0       18.47      116.27  Far from Sewer   Non-Deaths   \n",
       "3         4       0       22.98      112.56  Far from Sewer   Non-Deaths   \n",
       "4         5       0       27.47      109.10  Far from Sewer   Non-Deaths   \n",
       "\n",
       "  pump_proximity  \n",
       "0  Near the Pump  \n",
       "1  Near the Pump  \n",
       "2  Near the Pump  \n",
       "3  Near the Pump  \n",
       "4  Near the Pump  "
      ]
     },
     "execution_count": 56,
     "metadata": {},
     "output_type": "execute_result"
    }
   ],
   "source": [
    "house_data['pump_proximity'] = np.where(house_data['dis_bspump'] <= 140, \"Near the Pump\", \"Far from the Pump\")\n",
    "house_data.head()"
   ]
  },
  {
   "cell_type": "markdown",
   "id": "85155c11-4650-4db1-b79b-1e7bb8d25106",
   "metadata": {},
   "source": [
    "**Print the contingency table.**"
   ]
  },
  {
   "cell_type": "code",
   "execution_count": 57,
   "id": "ba1b7c57-87a2-438d-8bb4-938aac44e71e",
   "metadata": {},
   "outputs": [
    {
     "data": {
      "text/html": [
       "<div>\n",
       "<style scoped>\n",
       "    .dataframe tbody tr th:only-of-type {\n",
       "        vertical-align: middle;\n",
       "    }\n",
       "\n",
       "    .dataframe tbody tr th {\n",
       "        vertical-align: top;\n",
       "    }\n",
       "\n",
       "    .dataframe thead th {\n",
       "        text-align: right;\n",
       "    }\n",
       "</style>\n",
       "<table border=\"1\" class=\"dataframe\">\n",
       "  <thead>\n",
       "    <tr style=\"text-align: right;\">\n",
       "      <th>pump_proximity</th>\n",
       "      <th>Far from the Pump</th>\n",
       "      <th>Near the Pump</th>\n",
       "    </tr>\n",
       "    <tr>\n",
       "      <th>death_status</th>\n",
       "      <th></th>\n",
       "      <th></th>\n",
       "    </tr>\n",
       "  </thead>\n",
       "  <tbody>\n",
       "    <tr>\n",
       "      <th>Deaths</th>\n",
       "      <td>162</td>\n",
       "      <td>207</td>\n",
       "    </tr>\n",
       "    <tr>\n",
       "      <th>Non-Deaths</th>\n",
       "      <td>1284</td>\n",
       "      <td>199</td>\n",
       "    </tr>\n",
       "  </tbody>\n",
       "</table>\n",
       "</div>"
      ],
      "text/plain": [
       "pump_proximity  Far from the Pump  Near the Pump\n",
       "death_status                                    \n",
       "Deaths                        162            207\n",
       "Non-Deaths                   1284            199"
      ]
     },
     "execution_count": 57,
     "metadata": {},
     "output_type": "execute_result"
    }
   ],
   "source": [
    "pump_table = pd.crosstab(house_data[\"death_status\"], house_data[\"pump_proximity\"])\n",
    "pump_table"
   ]
  },
  {
   "cell_type": "code",
   "execution_count": 58,
   "id": "785654d2-9d27-4662-abe4-e3dc817c5415",
   "metadata": {},
   "outputs": [
    {
     "data": {
      "text/html": [
       "<div>\n",
       "<style scoped>\n",
       "    .dataframe tbody tr th:only-of-type {\n",
       "        vertical-align: middle;\n",
       "    }\n",
       "\n",
       "    .dataframe tbody tr th {\n",
       "        vertical-align: top;\n",
       "    }\n",
       "\n",
       "    .dataframe thead th {\n",
       "        text-align: right;\n",
       "    }\n",
       "</style>\n",
       "<table border=\"1\" class=\"dataframe\">\n",
       "  <thead>\n",
       "    <tr style=\"text-align: right;\">\n",
       "      <th>pump_proximity</th>\n",
       "      <th>Far from the Pump</th>\n",
       "      <th>Near the Pump</th>\n",
       "    </tr>\n",
       "    <tr>\n",
       "      <th>death_status</th>\n",
       "      <th></th>\n",
       "      <th></th>\n",
       "    </tr>\n",
       "  </thead>\n",
       "  <tbody>\n",
       "    <tr>\n",
       "      <th>Deaths</th>\n",
       "      <td>11.20332</td>\n",
       "      <td>50.985222</td>\n",
       "    </tr>\n",
       "    <tr>\n",
       "      <th>Non-Deaths</th>\n",
       "      <td>88.79668</td>\n",
       "      <td>49.014778</td>\n",
       "    </tr>\n",
       "  </tbody>\n",
       "</table>\n",
       "</div>"
      ],
      "text/plain": [
       "pump_proximity  Far from the Pump  Near the Pump\n",
       "death_status                                    \n",
       "Deaths                   11.20332      50.985222\n",
       "Non-Deaths               88.79668      49.014778"
      ]
     },
     "execution_count": 58,
     "metadata": {},
     "output_type": "execute_result"
    }
   ],
   "source": [
    "pump_table = pd.crosstab(house_data[\"death_status\"], house_data[\"pump_proximity\"], normalize='columns') * 100\n",
    "pump_table"
   ]
  },
  {
   "cell_type": "markdown",
   "id": "2b997414-ba4a-4fef-a1bd-69bfa512a3d7",
   "metadata": {},
   "source": [
    "### Is it significant?"
   ]
  },
  {
   "cell_type": "code",
   "execution_count": 60,
   "id": "2e732370-a8af-4fe3-be9d-84fef0568876",
   "metadata": {
    "tags": []
   },
   "outputs": [
    {
     "name": "stdout",
     "output_type": "stream",
     "text": [
      "p-value: 0.0000000031\n"
     ]
    }
   ],
   "source": [
    "_, p_value, _, _ = chi2_contingency(pump_table)\n",
    "print(f\"p-value: {p_value:.10f}\")"
   ]
  },
  {
   "cell_type": "markdown",
   "id": "66f67542-6426-4b8d-aee3-d4beeef20142",
   "metadata": {},
   "source": [
    "**Based on the p-value of your $Chi^2$ test, what are the chances there is no association between living close to the Broad Street Pump and dying from cholera?**"
   ]
  },
  {
   "cell_type": "markdown",
   "id": "f7844b17-bafc-4a17-a354-44221e83b7fb",
   "metadata": {},
   "source": [
    "> Write your answer here! "
   ]
  }
 ],
 "metadata": {
  "kernelspec": {
   "display_name": "Python 3 (ipykernel)",
   "language": "python",
   "name": "python3"
  },
  "language_info": {
   "codemirror_mode": {
    "name": "ipython",
    "version": 3
   },
   "file_extension": ".py",
   "mimetype": "text/x-python",
   "name": "python",
   "nbconvert_exporter": "python",
   "pygments_lexer": "ipython3",
   "version": "3.9.12"
  },
  "toc-autonumbering": false,
  "toc-showcode": false,
  "toc-showmarkdowntxt": false,
  "toc-showtags": false
 },
 "nbformat": 4,
 "nbformat_minor": 5
}
