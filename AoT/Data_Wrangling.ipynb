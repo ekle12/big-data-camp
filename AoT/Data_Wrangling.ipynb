{
 "cells": [
  {
   "cell_type": "markdown",
   "metadata": {},
   "source": [
    "# Data Wrangling\n",
    "\n",
    "This is one of the hardest parts of working with data. Raw data is rarely ready to be analyzed. Scientists spend a lot of time manipulating their data to get it into a form that can be used. We call it \"wrangling\".\n",
    "\n",
    "Possible problems with data:\n",
    "* Getting the data you need \n",
    "* Data Types\n",
    "* Incorrect units"
   ]
  },
  {
   "cell_type": "markdown",
   "metadata": {},
   "source": [
    "# Polar Vortex (January 2019) [CBS News Report](https://www.cbsnews.com/news/polar-vortex-2019-record-cold-grips-the-midwest-as-chicago-river-turns-to-ice/)\n"
   ]
  },
  {
   "cell_type": "markdown",
   "metadata": {},
   "source": [
    "During the polar vortex, record low temperatures were set around Chicago. On Northerly Island, the National Weather Service recorded a low. One of the nodes (001e06113cf1) is on Michigan Avenue and Randolph Street by Millenium Park, not far from Northerly Island.\n",
    "\n",
    "## How cold did it get during the polar vortex?"
   ]
  },
  {
   "cell_type": "markdown",
   "metadata": {},
   "source": [
    "Data for the node **001e06113cf1** has already been extracted into dataset `polarvortex.csv` for you to use."
   ]
  },
  {
   "cell_type": "markdown",
   "metadata": {},
   "source": [
    "## Filtering the data you need"
   ]
  },
  {
   "cell_type": "markdown",
   "metadata": {},
   "source": [
    "AoT nodes collect all sorts of data. For this question, we just want the temperature data. So we will have to filter out the data we don't need."
   ]
  },
  {
   "cell_type": "code",
   "execution_count": 1,
   "metadata": {},
   "outputs": [],
   "source": [
    "import pandas as pd"
   ]
  },
  {
   "cell_type": "code",
   "execution_count": 2,
   "metadata": {},
   "outputs": [
    {
     "data": {
      "text/html": [
       "<div>\n",
       "<style scoped>\n",
       "    .dataframe tbody tr th:only-of-type {\n",
       "        vertical-align: middle;\n",
       "    }\n",
       "\n",
       "    .dataframe tbody tr th {\n",
       "        vertical-align: top;\n",
       "    }\n",
       "\n",
       "    .dataframe thead th {\n",
       "        text-align: right;\n",
       "    }\n",
       "</style>\n",
       "<table border=\"1\" class=\"dataframe\">\n",
       "  <thead>\n",
       "    <tr style=\"text-align: right;\">\n",
       "      <th></th>\n",
       "      <th>Unnamed: 0</th>\n",
       "      <th>timestamp</th>\n",
       "      <th>node_id</th>\n",
       "      <th>subsystem</th>\n",
       "      <th>sensor</th>\n",
       "      <th>parameter</th>\n",
       "      <th>value_raw</th>\n",
       "      <th>value_hrf</th>\n",
       "    </tr>\n",
       "  </thead>\n",
       "  <tbody>\n",
       "    <tr>\n",
       "      <th>0</th>\n",
       "      <td>4097665</td>\n",
       "      <td>2019-01-30 00:00:24</td>\n",
       "      <td>001e06113cf1</td>\n",
       "      <td>lightsense</td>\n",
       "      <td>apds_9006_020</td>\n",
       "      <td>intensity</td>\n",
       "      <td>65535</td>\n",
       "      <td>5267.409</td>\n",
       "    </tr>\n",
       "    <tr>\n",
       "      <th>1</th>\n",
       "      <td>4097666</td>\n",
       "      <td>2019-01-30 00:00:24</td>\n",
       "      <td>001e06113cf1</td>\n",
       "      <td>lightsense</td>\n",
       "      <td>hih6130</td>\n",
       "      <td>humidity</td>\n",
       "      <td>65535</td>\n",
       "      <td>100.0</td>\n",
       "    </tr>\n",
       "    <tr>\n",
       "      <th>2</th>\n",
       "      <td>4097667</td>\n",
       "      <td>2019-01-30 00:00:24</td>\n",
       "      <td>001e06113cf1</td>\n",
       "      <td>lightsense</td>\n",
       "      <td>hih6130</td>\n",
       "      <td>temperature</td>\n",
       "      <td>65535</td>\n",
       "      <td>125.01</td>\n",
       "    </tr>\n",
       "    <tr>\n",
       "      <th>3</th>\n",
       "      <td>4097668</td>\n",
       "      <td>2019-01-30 00:00:24</td>\n",
       "      <td>001e06113cf1</td>\n",
       "      <td>lightsense</td>\n",
       "      <td>hmc5883l</td>\n",
       "      <td>magnetic_field_x</td>\n",
       "      <td>-1</td>\n",
       "      <td>-0.909</td>\n",
       "    </tr>\n",
       "    <tr>\n",
       "      <th>4</th>\n",
       "      <td>4097669</td>\n",
       "      <td>2019-01-30 00:00:24</td>\n",
       "      <td>001e06113cf1</td>\n",
       "      <td>lightsense</td>\n",
       "      <td>hmc5883l</td>\n",
       "      <td>magnetic_field_y</td>\n",
       "      <td>-1</td>\n",
       "      <td>-0.909</td>\n",
       "    </tr>\n",
       "  </tbody>\n",
       "</table>\n",
       "</div>"
      ],
      "text/plain": [
       "   Unnamed: 0            timestamp       node_id   subsystem         sensor  \\\n",
       "0     4097665  2019-01-30 00:00:24  001e06113cf1  lightsense  apds_9006_020   \n",
       "1     4097666  2019-01-30 00:00:24  001e06113cf1  lightsense        hih6130   \n",
       "2     4097667  2019-01-30 00:00:24  001e06113cf1  lightsense        hih6130   \n",
       "3     4097668  2019-01-30 00:00:24  001e06113cf1  lightsense       hmc5883l   \n",
       "4     4097669  2019-01-30 00:00:24  001e06113cf1  lightsense       hmc5883l   \n",
       "\n",
       "          parameter value_raw value_hrf  \n",
       "0         intensity     65535  5267.409  \n",
       "1          humidity     65535     100.0  \n",
       "2       temperature     65535    125.01  \n",
       "3  magnetic_field_x        -1    -0.909  \n",
       "4  magnetic_field_y        -1    -0.909  "
      ]
     },
     "execution_count": 2,
     "metadata": {},
     "output_type": "execute_result"
    }
   ],
   "source": [
    "polar = pd.read_csv('data/polarvortex.csv')\n",
    "polar.head()"
   ]
  },
  {
   "cell_type": "markdown",
   "metadata": {},
   "source": [
    "Let's first figure out what measurements the node is recording."
   ]
  },
  {
   "cell_type": "code",
   "execution_count": 3,
   "metadata": {},
   "outputs": [
    {
     "data": {
      "text/plain": [
       "0            intensity\n",
       "1             humidity\n",
       "2          temperature\n",
       "3     magnetic_field_x\n",
       "4     magnetic_field_y\n",
       "5     magnetic_field_z\n",
       "11            pressure\n",
       "16                  id\n",
       "17      acceleration_x\n",
       "18      acceleration_y\n",
       "19      acceleration_z\n",
       "Name: parameter, dtype: object"
      ]
     },
     "execution_count": 3,
     "metadata": {},
     "output_type": "execute_result"
    }
   ],
   "source": [
    "polar['parameter'].drop_duplicates()"
   ]
  },
  {
   "cell_type": "markdown",
   "metadata": {},
   "source": [
    "Here is the key step where we filter and create a new dataframe that only contains the temperature readings."
   ]
  },
  {
   "cell_type": "code",
   "execution_count": 4,
   "metadata": {},
   "outputs": [],
   "source": [
    "temp = polar[(polar['parameter'] == \"temperature\")]"
   ]
  },
  {
   "cell_type": "code",
   "execution_count": 5,
   "metadata": {},
   "outputs": [
    {
     "data": {
      "text/html": [
       "<div>\n",
       "<style scoped>\n",
       "    .dataframe tbody tr th:only-of-type {\n",
       "        vertical-align: middle;\n",
       "    }\n",
       "\n",
       "    .dataframe tbody tr th {\n",
       "        vertical-align: top;\n",
       "    }\n",
       "\n",
       "    .dataframe thead th {\n",
       "        text-align: right;\n",
       "    }\n",
       "</style>\n",
       "<table border=\"1\" class=\"dataframe\">\n",
       "  <thead>\n",
       "    <tr style=\"text-align: right;\">\n",
       "      <th></th>\n",
       "      <th>Unnamed: 0</th>\n",
       "      <th>timestamp</th>\n",
       "      <th>node_id</th>\n",
       "      <th>subsystem</th>\n",
       "      <th>sensor</th>\n",
       "      <th>parameter</th>\n",
       "      <th>value_raw</th>\n",
       "      <th>value_hrf</th>\n",
       "    </tr>\n",
       "  </thead>\n",
       "  <tbody>\n",
       "    <tr>\n",
       "      <th>2</th>\n",
       "      <td>4097667</td>\n",
       "      <td>2019-01-30 00:00:24</td>\n",
       "      <td>001e06113cf1</td>\n",
       "      <td>lightsense</td>\n",
       "      <td>hih6130</td>\n",
       "      <td>temperature</td>\n",
       "      <td>65535</td>\n",
       "      <td>125.01</td>\n",
       "    </tr>\n",
       "    <tr>\n",
       "      <th>8</th>\n",
       "      <td>4097673</td>\n",
       "      <td>2019-01-30 00:00:24</td>\n",
       "      <td>001e06113cf1</td>\n",
       "      <td>lightsense</td>\n",
       "      <td>tmp421</td>\n",
       "      <td>temperature</td>\n",
       "      <td>65535</td>\n",
       "      <td>-0.06</td>\n",
       "    </tr>\n",
       "    <tr>\n",
       "      <th>12</th>\n",
       "      <td>4097677</td>\n",
       "      <td>2019-01-30 00:00:24</td>\n",
       "      <td>001e06113cf1</td>\n",
       "      <td>metsense</td>\n",
       "      <td>bmp180</td>\n",
       "      <td>temperature</td>\n",
       "      <td>65535</td>\n",
       "      <td>241.0</td>\n",
       "    </tr>\n",
       "    <tr>\n",
       "      <th>15</th>\n",
       "      <td>4097680</td>\n",
       "      <td>2019-01-30 00:00:24</td>\n",
       "      <td>001e06113cf1</td>\n",
       "      <td>metsense</td>\n",
       "      <td>htu21d</td>\n",
       "      <td>temperature</td>\n",
       "      <td>65535</td>\n",
       "      <td>128.86</td>\n",
       "    </tr>\n",
       "    <tr>\n",
       "      <th>20</th>\n",
       "      <td>4097685</td>\n",
       "      <td>2019-01-30 00:00:24</td>\n",
       "      <td>001e06113cf1</td>\n",
       "      <td>metsense</td>\n",
       "      <td>pr103j2</td>\n",
       "      <td>temperature</td>\n",
       "      <td>396</td>\n",
       "      <td>-15.4</td>\n",
       "    </tr>\n",
       "    <tr>\n",
       "      <th>...</th>\n",
       "      <td>...</td>\n",
       "      <td>...</td>\n",
       "      <td>...</td>\n",
       "      <td>...</td>\n",
       "      <td>...</td>\n",
       "      <td>...</td>\n",
       "      <td>...</td>\n",
       "      <td>...</td>\n",
       "    </tr>\n",
       "    <tr>\n",
       "      <th>169012</th>\n",
       "      <td>4266677</td>\n",
       "      <td>2019-01-31 23:59:57</td>\n",
       "      <td>001e06113cf1</td>\n",
       "      <td>metsense</td>\n",
       "      <td>bmp180</td>\n",
       "      <td>temperature</td>\n",
       "      <td>65535</td>\n",
       "      <td>241.0</td>\n",
       "    </tr>\n",
       "    <tr>\n",
       "      <th>169015</th>\n",
       "      <td>4266680</td>\n",
       "      <td>2019-01-31 23:59:57</td>\n",
       "      <td>001e06113cf1</td>\n",
       "      <td>metsense</td>\n",
       "      <td>htu21d</td>\n",
       "      <td>temperature</td>\n",
       "      <td>65535</td>\n",
       "      <td>128.86</td>\n",
       "    </tr>\n",
       "    <tr>\n",
       "      <th>169020</th>\n",
       "      <td>4266685</td>\n",
       "      <td>2019-01-31 23:59:57</td>\n",
       "      <td>001e06113cf1</td>\n",
       "      <td>metsense</td>\n",
       "      <td>pr103j2</td>\n",
       "      <td>temperature</td>\n",
       "      <td>378</td>\n",
       "      <td>-16.7</td>\n",
       "    </tr>\n",
       "    <tr>\n",
       "      <th>169022</th>\n",
       "      <td>4266687</td>\n",
       "      <td>2019-01-31 23:59:57</td>\n",
       "      <td>001e06113cf1</td>\n",
       "      <td>metsense</td>\n",
       "      <td>tmp112</td>\n",
       "      <td>temperature</td>\n",
       "      <td>65535</td>\n",
       "      <td>-254.0</td>\n",
       "    </tr>\n",
       "    <tr>\n",
       "      <th>169024</th>\n",
       "      <td>4266689</td>\n",
       "      <td>2019-01-31 23:59:57</td>\n",
       "      <td>001e06113cf1</td>\n",
       "      <td>metsense</td>\n",
       "      <td>tsys01</td>\n",
       "      <td>temperature</td>\n",
       "      <td>16777215</td>\n",
       "      <td>214.75</td>\n",
       "    </tr>\n",
       "  </tbody>\n",
       "</table>\n",
       "<p>47327 rows × 8 columns</p>\n",
       "</div>"
      ],
      "text/plain": [
       "        Unnamed: 0            timestamp       node_id   subsystem   sensor  \\\n",
       "2          4097667  2019-01-30 00:00:24  001e06113cf1  lightsense  hih6130   \n",
       "8          4097673  2019-01-30 00:00:24  001e06113cf1  lightsense   tmp421   \n",
       "12         4097677  2019-01-30 00:00:24  001e06113cf1    metsense   bmp180   \n",
       "15         4097680  2019-01-30 00:00:24  001e06113cf1    metsense   htu21d   \n",
       "20         4097685  2019-01-30 00:00:24  001e06113cf1    metsense  pr103j2   \n",
       "...            ...                  ...           ...         ...      ...   \n",
       "169012     4266677  2019-01-31 23:59:57  001e06113cf1    metsense   bmp180   \n",
       "169015     4266680  2019-01-31 23:59:57  001e06113cf1    metsense   htu21d   \n",
       "169020     4266685  2019-01-31 23:59:57  001e06113cf1    metsense  pr103j2   \n",
       "169022     4266687  2019-01-31 23:59:57  001e06113cf1    metsense   tmp112   \n",
       "169024     4266689  2019-01-31 23:59:57  001e06113cf1    metsense   tsys01   \n",
       "\n",
       "          parameter value_raw value_hrf  \n",
       "2       temperature     65535    125.01  \n",
       "8       temperature     65535     -0.06  \n",
       "12      temperature     65535     241.0  \n",
       "15      temperature     65535    128.86  \n",
       "20      temperature       396     -15.4  \n",
       "...             ...       ...       ...  \n",
       "169012  temperature     65535     241.0  \n",
       "169015  temperature     65535    128.86  \n",
       "169020  temperature       378     -16.7  \n",
       "169022  temperature     65535    -254.0  \n",
       "169024  temperature  16777215    214.75  \n",
       "\n",
       "[47327 rows x 8 columns]"
      ]
     },
     "execution_count": 5,
     "metadata": {},
     "output_type": "execute_result"
    }
   ],
   "source": [
    "temp"
   ]
  },
  {
   "cell_type": "markdown",
   "metadata": {},
   "source": [
    "To find the low temperature during the polar vortex, we can use the `.min()` method."
   ]
  },
  {
   "cell_type": "code",
   "execution_count": 6,
   "metadata": {},
   "outputs": [
    {
     "data": {
      "text/plain": [
       "'-0.06'"
      ]
     },
     "execution_count": 6,
     "metadata": {},
     "output_type": "execute_result"
    }
   ],
   "source": [
    "temp['value_hrf'].min()"
   ]
  },
  {
   "cell_type": "markdown",
   "metadata": {},
   "source": [
    "This doesn't make sense. We can see that there are lower values than -0.06. The hint is in the quotes.\n",
    "\n",
    "Scientific data, like most data, is messy. Unfortunately, there is so much of it, we can't look at it line by line to search for bad data. Fortunately, there are some good techniques we can use to sniff out bad data."
   ]
  },
  {
   "cell_type": "markdown",
   "metadata": {},
   "source": [
    "A computer sees the values differently than we do. Don't assume."
   ]
  },
  {
   "cell_type": "code",
   "execution_count": 7,
   "metadata": {},
   "outputs": [
    {
     "data": {
      "text/plain": [
       "Unnamed: 0     int64\n",
       "timestamp     object\n",
       "node_id       object\n",
       "subsystem     object\n",
       "sensor        object\n",
       "parameter     object\n",
       "value_raw     object\n",
       "value_hrf     object\n",
       "dtype: object"
      ]
     },
     "execution_count": 7,
     "metadata": {},
     "output_type": "execute_result"
    }
   ],
   "source": [
    "temp.dtypes"
   ]
  },
  {
   "cell_type": "markdown",
   "metadata": {},
   "source": [
    "`object` means string. The `.min()` method only works for numbers."
   ]
  },
  {
   "cell_type": "code",
   "execution_count": 8,
   "metadata": {},
   "outputs": [
    {
     "name": "stderr",
     "output_type": "stream",
     "text": [
      "<ipython-input-8-c71cd71a77d0>:1: SettingWithCopyWarning: \n",
      "A value is trying to be set on a copy of a slice from a DataFrame.\n",
      "Try using .loc[row_indexer,col_indexer] = value instead\n",
      "\n",
      "See the caveats in the documentation: https://pandas.pydata.org/pandas-docs/stable/user_guide/indexing.html#returning-a-view-versus-a-copy\n",
      "  temp['value_hrf'] = pd.to_numeric(temp['value_hrf'], errors='coerce')\n"
     ]
    }
   ],
   "source": [
    "temp['value_hrf'] = pd.to_numeric(temp['value_hrf'], errors='coerce')"
   ]
  },
  {
   "cell_type": "code",
   "execution_count": 9,
   "metadata": {},
   "outputs": [
    {
     "data": {
      "text/plain": [
       "Unnamed: 0      int64\n",
       "timestamp      object\n",
       "node_id        object\n",
       "subsystem      object\n",
       "sensor         object\n",
       "parameter      object\n",
       "value_raw      object\n",
       "value_hrf     float64\n",
       "dtype: object"
      ]
     },
     "execution_count": 9,
     "metadata": {},
     "output_type": "execute_result"
    }
   ],
   "source": [
    "temp.dtypes"
   ]
  },
  {
   "cell_type": "markdown",
   "metadata": {},
   "source": [
    "# Working with Values\n",
    "\n",
    "Now that we have our temperatures in `float`, we can do some math on them. The temperatures for all the sensors are in Celsius. Let's convert them to Fahrenheit so they are easier to understand.\n",
    "\n",
    "$$ T(F) = \\frac{9}{5}T(C)+32 $$"
   ]
  },
  {
   "cell_type": "code",
   "execution_count": 10,
   "metadata": {},
   "outputs": [],
   "source": [
    "def Celsius_to_Fahrenheit(temp_C):\n",
    "    temp_F = (temp_C * 9/5) + 32\n",
    "    return temp_F"
   ]
  },
  {
   "cell_type": "code",
   "execution_count": 11,
   "metadata": {
    "scrolled": true
   },
   "outputs": [
    {
     "name": "stderr",
     "output_type": "stream",
     "text": [
      "<ipython-input-11-9b13c2c6f8a9>:1: SettingWithCopyWarning: \n",
      "A value is trying to be set on a copy of a slice from a DataFrame.\n",
      "Try using .loc[row_indexer,col_indexer] = value instead\n",
      "\n",
      "See the caveats in the documentation: https://pandas.pydata.org/pandas-docs/stable/user_guide/indexing.html#returning-a-view-versus-a-copy\n",
      "  temp['Temp_F'] = temp['value_hrf'].apply(Celsius_to_Fahrenheit)\n"
     ]
    },
    {
     "data": {
      "text/html": [
       "<div>\n",
       "<style scoped>\n",
       "    .dataframe tbody tr th:only-of-type {\n",
       "        vertical-align: middle;\n",
       "    }\n",
       "\n",
       "    .dataframe tbody tr th {\n",
       "        vertical-align: top;\n",
       "    }\n",
       "\n",
       "    .dataframe thead th {\n",
       "        text-align: right;\n",
       "    }\n",
       "</style>\n",
       "<table border=\"1\" class=\"dataframe\">\n",
       "  <thead>\n",
       "    <tr style=\"text-align: right;\">\n",
       "      <th></th>\n",
       "      <th>Unnamed: 0</th>\n",
       "      <th>timestamp</th>\n",
       "      <th>node_id</th>\n",
       "      <th>subsystem</th>\n",
       "      <th>sensor</th>\n",
       "      <th>parameter</th>\n",
       "      <th>value_raw</th>\n",
       "      <th>value_hrf</th>\n",
       "      <th>Temp_F</th>\n",
       "    </tr>\n",
       "  </thead>\n",
       "  <tbody>\n",
       "    <tr>\n",
       "      <th>2</th>\n",
       "      <td>4097667</td>\n",
       "      <td>2019-01-30 00:00:24</td>\n",
       "      <td>001e06113cf1</td>\n",
       "      <td>lightsense</td>\n",
       "      <td>hih6130</td>\n",
       "      <td>temperature</td>\n",
       "      <td>65535</td>\n",
       "      <td>125.01</td>\n",
       "      <td>257.018</td>\n",
       "    </tr>\n",
       "    <tr>\n",
       "      <th>8</th>\n",
       "      <td>4097673</td>\n",
       "      <td>2019-01-30 00:00:24</td>\n",
       "      <td>001e06113cf1</td>\n",
       "      <td>lightsense</td>\n",
       "      <td>tmp421</td>\n",
       "      <td>temperature</td>\n",
       "      <td>65535</td>\n",
       "      <td>-0.06</td>\n",
       "      <td>31.892</td>\n",
       "    </tr>\n",
       "    <tr>\n",
       "      <th>12</th>\n",
       "      <td>4097677</td>\n",
       "      <td>2019-01-30 00:00:24</td>\n",
       "      <td>001e06113cf1</td>\n",
       "      <td>metsense</td>\n",
       "      <td>bmp180</td>\n",
       "      <td>temperature</td>\n",
       "      <td>65535</td>\n",
       "      <td>241.00</td>\n",
       "      <td>465.800</td>\n",
       "    </tr>\n",
       "    <tr>\n",
       "      <th>15</th>\n",
       "      <td>4097680</td>\n",
       "      <td>2019-01-30 00:00:24</td>\n",
       "      <td>001e06113cf1</td>\n",
       "      <td>metsense</td>\n",
       "      <td>htu21d</td>\n",
       "      <td>temperature</td>\n",
       "      <td>65535</td>\n",
       "      <td>128.86</td>\n",
       "      <td>263.948</td>\n",
       "    </tr>\n",
       "    <tr>\n",
       "      <th>20</th>\n",
       "      <td>4097685</td>\n",
       "      <td>2019-01-30 00:00:24</td>\n",
       "      <td>001e06113cf1</td>\n",
       "      <td>metsense</td>\n",
       "      <td>pr103j2</td>\n",
       "      <td>temperature</td>\n",
       "      <td>396</td>\n",
       "      <td>-15.40</td>\n",
       "      <td>4.280</td>\n",
       "    </tr>\n",
       "  </tbody>\n",
       "</table>\n",
       "</div>"
      ],
      "text/plain": [
       "    Unnamed: 0            timestamp       node_id   subsystem   sensor  \\\n",
       "2      4097667  2019-01-30 00:00:24  001e06113cf1  lightsense  hih6130   \n",
       "8      4097673  2019-01-30 00:00:24  001e06113cf1  lightsense   tmp421   \n",
       "12     4097677  2019-01-30 00:00:24  001e06113cf1    metsense   bmp180   \n",
       "15     4097680  2019-01-30 00:00:24  001e06113cf1    metsense   htu21d   \n",
       "20     4097685  2019-01-30 00:00:24  001e06113cf1    metsense  pr103j2   \n",
       "\n",
       "      parameter value_raw  value_hrf   Temp_F  \n",
       "2   temperature     65535     125.01  257.018  \n",
       "8   temperature     65535      -0.06   31.892  \n",
       "12  temperature     65535     241.00  465.800  \n",
       "15  temperature     65535     128.86  263.948  \n",
       "20  temperature       396     -15.40    4.280  "
      ]
     },
     "execution_count": 11,
     "metadata": {},
     "output_type": "execute_result"
    }
   ],
   "source": [
    "temp['Temp_F'] = temp['value_hrf'].apply(Celsius_to_Fahrenheit)\n",
    "\n",
    "temp.head()"
   ]
  },
  {
   "cell_type": "markdown",
   "metadata": {},
   "source": [
    "# -----------------------Lectue Stops Here---------------------------"
   ]
  },
  {
   "cell_type": "code",
   "execution_count": null,
   "metadata": {},
   "outputs": [],
   "source": []
  },
  {
   "cell_type": "code",
   "execution_count": null,
   "metadata": {},
   "outputs": [],
   "source": []
  },
  {
   "cell_type": "markdown",
   "metadata": {},
   "source": [
    "# Begin Small Group Exercise"
   ]
  },
  {
   "cell_type": "markdown",
   "metadata": {},
   "source": [
    "### Let's get an idea of the range of temperature values.\n"
   ]
  },
  {
   "cell_type": "code",
   "execution_count": 12,
   "metadata": {},
   "outputs": [
    {
     "data": {
      "text/plain": [
       "-425.2"
      ]
     },
     "execution_count": 12,
     "metadata": {},
     "output_type": "execute_result"
    }
   ],
   "source": [
    "temp['Temp_F'].min()"
   ]
  },
  {
   "cell_type": "code",
   "execution_count": 13,
   "metadata": {},
   "outputs": [
    {
     "data": {
      "text/plain": [
       "count    47327.000000\n",
       "mean       143.656079\n",
       "std        284.182250\n",
       "min       -425.200000\n",
       "25%         -1.660000\n",
       "50%        257.018000\n",
       "75%        418.550000\n",
       "max        465.800000\n",
       "Name: Temp_F, dtype: float64"
      ]
     },
     "execution_count": 13,
     "metadata": {},
     "output_type": "execute_result"
    }
   ],
   "source": [
    "temp['Temp_F'].describe()"
   ]
  },
  {
   "cell_type": "markdown",
   "metadata": {},
   "source": [
    "There is a large variation in the temperatures (value_hrf) for the different sensors (-425&deg;F to 466&deg;F)."
   ]
  },
  {
   "cell_type": "code",
   "execution_count": 14,
   "metadata": {},
   "outputs": [
    {
     "data": {
      "text/plain": [
       "2     hih6130\n",
       "8      tmp421\n",
       "12     bmp180\n",
       "15     htu21d\n",
       "20    pr103j2\n",
       "22     tmp112\n",
       "24     tsys01\n",
       "Name: sensor, dtype: object"
      ]
     },
     "execution_count": 14,
     "metadata": {},
     "output_type": "execute_result"
    }
   ],
   "source": [
    "temp['sensor'].drop_duplicates()"
   ]
  },
  {
   "cell_type": "markdown",
   "metadata": {},
   "source": [
    "It looks like we have multiple temperature sensors. "
   ]
  },
  {
   "cell_type": "markdown",
   "metadata": {},
   "source": [
    "### Which temperature sensor is the most accurate?"
   ]
  },
  {
   "cell_type": "markdown",
   "metadata": {},
   "source": [
    "We can narrow our search by getting an idea of the temperature range for each sensor. Even though these values sit in the same column, we can use the `groupby` method to analyze each sensor individually."
   ]
  },
  {
   "cell_type": "code",
   "execution_count": 15,
   "metadata": {},
   "outputs": [
    {
     "data": {
      "text/html": [
       "<div>\n",
       "<style scoped>\n",
       "    .dataframe tbody tr th:only-of-type {\n",
       "        vertical-align: middle;\n",
       "    }\n",
       "\n",
       "    .dataframe tbody tr th {\n",
       "        vertical-align: top;\n",
       "    }\n",
       "\n",
       "    .dataframe thead th {\n",
       "        text-align: right;\n",
       "    }\n",
       "</style>\n",
       "<table border=\"1\" class=\"dataframe\">\n",
       "  <thead>\n",
       "    <tr style=\"text-align: right;\">\n",
       "      <th></th>\n",
       "      <th>count</th>\n",
       "      <th>mean</th>\n",
       "      <th>std</th>\n",
       "      <th>min</th>\n",
       "      <th>25%</th>\n",
       "      <th>50%</th>\n",
       "      <th>75%</th>\n",
       "      <th>max</th>\n",
       "    </tr>\n",
       "    <tr>\n",
       "      <th>sensor</th>\n",
       "      <th></th>\n",
       "      <th></th>\n",
       "      <th></th>\n",
       "      <th></th>\n",
       "      <th></th>\n",
       "      <th></th>\n",
       "      <th></th>\n",
       "      <th></th>\n",
       "    </tr>\n",
       "  </thead>\n",
       "  <tbody>\n",
       "    <tr>\n",
       "      <th>bmp180</th>\n",
       "      <td>6761.0</td>\n",
       "      <td>465.80000</td>\n",
       "      <td>4.036181e-11</td>\n",
       "      <td>465.800</td>\n",
       "      <td>465.800</td>\n",
       "      <td>465.800</td>\n",
       "      <td>465.800</td>\n",
       "      <td>465.800</td>\n",
       "    </tr>\n",
       "    <tr>\n",
       "      <th>hih6130</th>\n",
       "      <td>6761.0</td>\n",
       "      <td>257.01800</td>\n",
       "      <td>2.035145e-11</td>\n",
       "      <td>257.018</td>\n",
       "      <td>257.018</td>\n",
       "      <td>257.018</td>\n",
       "      <td>257.018</td>\n",
       "      <td>257.018</td>\n",
       "    </tr>\n",
       "    <tr>\n",
       "      <th>htu21d</th>\n",
       "      <td>6761.0</td>\n",
       "      <td>263.94800</td>\n",
       "      <td>2.688893e-11</td>\n",
       "      <td>263.948</td>\n",
       "      <td>263.948</td>\n",
       "      <td>263.948</td>\n",
       "      <td>263.948</td>\n",
       "      <td>263.948</td>\n",
       "    </tr>\n",
       "    <tr>\n",
       "      <th>pr103j2</th>\n",
       "      <td>6761.0</td>\n",
       "      <td>-6.41545</td>\n",
       "      <td>5.528077e+00</td>\n",
       "      <td>-16.150</td>\n",
       "      <td>-10.120</td>\n",
       "      <td>-8.320</td>\n",
       "      <td>-1.660</td>\n",
       "      <td>6.440</td>\n",
       "    </tr>\n",
       "    <tr>\n",
       "      <th>tmp112</th>\n",
       "      <td>6761.0</td>\n",
       "      <td>-425.20000</td>\n",
       "      <td>2.643414e-11</td>\n",
       "      <td>-425.200</td>\n",
       "      <td>-425.200</td>\n",
       "      <td>-425.200</td>\n",
       "      <td>-425.200</td>\n",
       "      <td>-425.200</td>\n",
       "    </tr>\n",
       "    <tr>\n",
       "      <th>tmp421</th>\n",
       "      <td>6761.0</td>\n",
       "      <td>31.89200</td>\n",
       "      <td>8.136316e-13</td>\n",
       "      <td>31.892</td>\n",
       "      <td>31.892</td>\n",
       "      <td>31.892</td>\n",
       "      <td>31.892</td>\n",
       "      <td>31.892</td>\n",
       "    </tr>\n",
       "    <tr>\n",
       "      <th>tsys01</th>\n",
       "      <td>6761.0</td>\n",
       "      <td>418.55000</td>\n",
       "      <td>2.387600e-11</td>\n",
       "      <td>418.550</td>\n",
       "      <td>418.550</td>\n",
       "      <td>418.550</td>\n",
       "      <td>418.550</td>\n",
       "      <td>418.550</td>\n",
       "    </tr>\n",
       "  </tbody>\n",
       "</table>\n",
       "</div>"
      ],
      "text/plain": [
       "          count       mean           std      min      25%      50%      75%  \\\n",
       "sensor                                                                         \n",
       "bmp180   6761.0  465.80000  4.036181e-11  465.800  465.800  465.800  465.800   \n",
       "hih6130  6761.0  257.01800  2.035145e-11  257.018  257.018  257.018  257.018   \n",
       "htu21d   6761.0  263.94800  2.688893e-11  263.948  263.948  263.948  263.948   \n",
       "pr103j2  6761.0   -6.41545  5.528077e+00  -16.150  -10.120   -8.320   -1.660   \n",
       "tmp112   6761.0 -425.20000  2.643414e-11 -425.200 -425.200 -425.200 -425.200   \n",
       "tmp421   6761.0   31.89200  8.136316e-13   31.892   31.892   31.892   31.892   \n",
       "tsys01   6761.0  418.55000  2.387600e-11  418.550  418.550  418.550  418.550   \n",
       "\n",
       "             max  \n",
       "sensor            \n",
       "bmp180   465.800  \n",
       "hih6130  257.018  \n",
       "htu21d   263.948  \n",
       "pr103j2    6.440  \n",
       "tmp112  -425.200  \n",
       "tmp421    31.892  \n",
       "tsys01   418.550  "
      ]
     },
     "execution_count": 15,
     "metadata": {},
     "output_type": "execute_result"
    }
   ],
   "source": [
    "sensor_range = temp.groupby(['sensor'])\n",
    "sensor_range['Temp_F'].describe()"
   ]
  },
  {
   "cell_type": "markdown",
   "metadata": {},
   "source": [
    "It looks like `pr103j2` might be the best candidate because its minimum is closest to the National Weather Services record low (-22&deg;C)."
   ]
  },
  {
   "cell_type": "code",
   "execution_count": null,
   "metadata": {},
   "outputs": [],
   "source": []
  }
 ],
 "metadata": {
  "kernelspec": {
   "display_name": "Python 3",
   "language": "python",
   "name": "python3"
  },
  "language_info": {
   "codemirror_mode": {
    "name": "ipython",
    "version": 3
   },
   "file_extension": ".py",
   "mimetype": "text/x-python",
   "name": "python",
   "nbconvert_exporter": "python",
   "pygments_lexer": "ipython3",
   "version": "3.8.5"
  }
 },
 "nbformat": 4,
 "nbformat_minor": 4
}
