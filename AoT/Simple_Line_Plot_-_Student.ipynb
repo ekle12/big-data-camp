{
 "cells": [
  {
   "cell_type": "markdown",
   "metadata": {},
   "source": [
    "# The Polar Vortex\n",
    "\n",
    "----\n",
    "# Part 1\n",
    "\n",
    "During the polar vortex, record low temperatures were set around Chicago. On Northerly Island, the National Weather Service recorded a low of -22&deg;F One of the nodes (001e06113cf1 ) is on Michigan Ave. and Randolph St. by Millenium Park, not far from Northerly Island.\n",
    "\n",
    "**How accurate is this node?**\n"
   ]
  },
  {
   "cell_type": "markdown",
   "metadata": {},
   "source": [
    "There is a large variation in the temperatures (value_hrf) for the different sensors (-899&deg;F to 466&deg;F). Some of which violate the laws of physics and common sense."
   ]
  },
  {
   "cell_type": "code",
   "execution_count": null,
   "metadata": {},
   "outputs": [],
   "source": []
  },
  {
   "cell_type": "code",
   "execution_count": null,
   "metadata": {},
   "outputs": [],
   "source": []
  },
  {
   "cell_type": "markdown",
   "metadata": {},
   "source": [
    "----\n",
    "# (Part 2)\n",
    "\n",
    "# Which AoT temperature sensor is the most accurate?\n",
    "\n",
    "Use the National Weather Service observations at Northerly Island to compare. The blue bars are what you want to pay attention to."
   ]
  },
  {
   "cell_type": "markdown",
   "metadata": {},
   "source": [
    "\n",
    "<img src = \"chart.png\" height=400 width = 600 align=center>\n"
   ]
  },
  {
   "cell_type": "code",
   "execution_count": null,
   "metadata": {},
   "outputs": [],
   "source": []
  },
  {
   "cell_type": "code",
   "execution_count": null,
   "metadata": {},
   "outputs": [],
   "source": []
  },
  {
   "cell_type": "markdown",
   "metadata": {},
   "source": [
    "## Import Matplotlib\n",
    "\n",
    "We will use the pyplot module which provides full control of line styles, font and other properties. The style package gives support for easy-to-switch plotting “styles”.  We will use a style called \"seaborn\", but others are available."
   ]
  },
  {
   "cell_type": "code",
   "execution_count": null,
   "metadata": {},
   "outputs": [],
   "source": []
  },
  {
   "cell_type": "code",
   "execution_count": null,
   "metadata": {},
   "outputs": [],
   "source": []
  },
  {
   "cell_type": "markdown",
   "metadata": {},
   "source": [
    "----\n",
    "# (Part 3)\n",
    "\n",
    "# Rolling Mean\n"
   ]
  },
  {
   "cell_type": "code",
   "execution_count": null,
   "metadata": {},
   "outputs": [],
   "source": []
  },
  {
   "cell_type": "code",
   "execution_count": null,
   "metadata": {},
   "outputs": [],
   "source": []
  }
 ],
 "metadata": {
  "kernelspec": {
   "display_name": "Python 3",
   "language": "python",
   "name": "python3"
  },
  "language_info": {
   "codemirror_mode": {
    "name": "ipython",
    "version": 3
   },
   "file_extension": ".py",
   "mimetype": "text/x-python",
   "name": "python",
   "nbconvert_exporter": "python",
   "pygments_lexer": "ipython3",
   "version": "3.6.8"
  }
 },
 "nbformat": 4,
 "nbformat_minor": 4
}
