{
 "cells": [
  {
   "cell_type": "markdown",
   "metadata": {},
   "source": [
    "# Lake Effect\n",
    "\n",
    "<img src = 'https://upload.wikimedia.org/wikipedia/commons/thumb/b/bc/Chicago_skyline_kz01.jpg/640px-Chicago_skyline_kz01.jpg' width = 300>\n",
    "\n",
    "We have heard of \"lake effect\" when it comes to snow, but Lake Michigan affects the weather around Chicago in many ways.\n",
    "\n",
    "__How does the lake affect temperatures in the city?__ \n",
    "\n",
    "You have access to 3 data sets:\n",
    "1. A list of all of the nodes: `nodes.csv`\n",
    "2. A snapshot of temperature readings for July 18, 2019 at about 3pm: `July18_2019.csv`\n",
    "3. A series of latitude and longitude reference points for the lakeshore: `Chicago_Lakefront.csv`\n"
   ]
  },
  {
   "cell_type": "code",
   "execution_count": null,
   "metadata": {},
   "outputs": [],
   "source": [
    "import pandas as pd\n",
    "pd.options.mode.chained_assignment = None\n",
    "import matplotlib.pyplot as plt\n",
    "import seaborn as sns\n",
    "import numpy as np\n",
    "plt.style.use('seaborn')"
   ]
  },
  {
   "cell_type": "code",
   "execution_count": null,
   "metadata": {},
   "outputs": [],
   "source": [
    "nodes = pd.read_csv(\"data/Nodes.csv\")\n",
    "temperatures = pd.read_csv(\"data/July18_2019.csv\")\n",
    "lakefront = pd.read_csv('data/Chicago_Lakefront.csv')"
   ]
  },
  {
   "cell_type": "markdown",
   "metadata": {},
   "source": [
    "### 1. Explore the datasets"
   ]
  },
  {
   "cell_type": "code",
   "execution_count": null,
   "metadata": {},
   "outputs": [],
   "source": []
  },
  {
   "cell_type": "code",
   "execution_count": null,
   "metadata": {},
   "outputs": [],
   "source": []
  },
  {
   "cell_type": "markdown",
   "metadata": {},
   "source": [
    "### 2. Fill in the missing code in the `for` loop."
   ]
  },
  {
   "cell_type": "code",
   "execution_count": null,
   "metadata": {},
   "outputs": [],
   "source": [
    "# Creates empty columns where we will put our calculated distances\n",
    "\n",
    "lakefront['distance'] = np.nan       # Distance from \n",
    "nodes['lake_distance'] = np.nan      # Distance from node to lake\n",
    "\n",
    "for i in range (len(nodes)):\n",
    "    node_lon = abs(nodes['lon'].iloc[i])\n",
    "    node_lat = abs(nodes['lat'].iloc[i])\n",
    "    for j in range (len(lakefront)):\n",
    "        lon_diff = node_lon - abs(lakefront['Longitude'].iloc[j])\n",
    "        lat_diff = node_lat - abs(lakefront['Latitude'].iloc[j])\n",
    "        distance_to_lake = insert_calcuation\n",
    "        lakefront['distance'].iloc[j] = distance_to_lake \n",
    "    distance = lakefront['distance'].min()\n",
    "    nodes['lake_distance'].iloc[i] = distance\n",
    "    \n",
    "nodes['lake_distance'] = nodes['lake_distance'].apply(lambda x: x*69)"
   ]
  },
  {
   "cell_type": "code",
   "execution_count": null,
   "metadata": {},
   "outputs": [],
   "source": []
  },
  {
   "cell_type": "markdown",
   "metadata": {},
   "source": [
    "### 3. Convert the temperatures to Fahrenheit."
   ]
  },
  {
   "cell_type": "code",
   "execution_count": null,
   "metadata": {},
   "outputs": [],
   "source": []
  },
  {
   "cell_type": "code",
   "execution_count": null,
   "metadata": {},
   "outputs": [],
   "source": []
  },
  {
   "cell_type": "markdown",
   "metadata": {},
   "source": [
    "### 4. Merge the nodes and temperature dataframes.\n",
    "\n",
    "Just run this cell. If you've done everything right so far, it should work."
   ]
  },
  {
   "cell_type": "code",
   "execution_count": null,
   "metadata": {},
   "outputs": [],
   "source": [
    "distance_temps = pd.merge(nodes, temperatures, on = 'node_id')\n",
    "distance_temps"
   ]
  },
  {
   "cell_type": "markdown",
   "metadata": {},
   "source": [
    "### 5. Make a scatterplot to see if the lake affects temperatures."
   ]
  },
  {
   "cell_type": "code",
   "execution_count": null,
   "metadata": {
    "scrolled": true
   },
   "outputs": [],
   "source": []
  },
  {
   "cell_type": "code",
   "execution_count": null,
   "metadata": {},
   "outputs": [],
   "source": []
  },
  {
   "cell_type": "markdown",
   "metadata": {},
   "source": [
    "Perform a linear regression using Seaborn."
   ]
  },
  {
   "cell_type": "code",
   "execution_count": null,
   "metadata": {},
   "outputs": [],
   "source": [
    "# Just run this cell.\n",
    "sns.regplot(distance_temps['lake_distance'], distance_temps['Temperature_F'])"
   ]
  }
 ],
 "metadata": {
  "kernelspec": {
   "display_name": "Python 3 (ipykernel)",
   "language": "python",
   "name": "python3"
  },
  "language_info": {
   "codemirror_mode": {
    "name": "ipython",
    "version": 3
   },
   "file_extension": ".py",
   "mimetype": "text/x-python",
   "name": "python",
   "nbconvert_exporter": "python",
   "pygments_lexer": "ipython3",
   "version": "3.9.7"
  }
 },
 "nbformat": 4,
 "nbformat_minor": 4
}
