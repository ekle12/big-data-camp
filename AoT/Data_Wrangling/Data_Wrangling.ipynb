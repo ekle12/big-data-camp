{
 "cells": [
  {
   "cell_type": "markdown",
   "metadata": {},
   "source": [
    "# Data Wrangling\n",
    "\n",
    "This is one of the hardest parts of working with data. Raw data is rarely ready to be analyzed. Scientists spend a lot of time manipulating their data to get it into a form that can be used. We call it \"wrangling\".\n",
    "\n",
    "<img src = 'https://upload.wikimedia.org/wikipedia/commons/thumb/5/52/Cats_in_aoshima_island_1.JPG/1600px-Cats_in_aoshima_island_1.JPG' width = 300>\n",
    "\n",
    "Possible problems with data:\n",
    "* Getting the data you need \n",
    "* Data Types\n",
    "* Incorrect units"
   ]
  },
  {
   "cell_type": "markdown",
   "metadata": {},
   "source": [
    "# Polar Vortex (January 2019) [CBS News Report](https://www.cbsnews.com/news/polar-vortex-2019-record-cold-grips-the-midwest-as-chicago-river-turns-to-ice/)\n"
   ]
  },
  {
   "cell_type": "markdown",
   "metadata": {},
   "source": [
    "<img src = \"https://upload.wikimedia.org/wikipedia/commons/9/91/EdTeuneFrozenChicagoRiverFeb1-2019_%282%29.jpg\" width = 300>\n",
    "\n",
    "During the polar vortex, record low temperatures were set around Chicago. On Northerly Island, the National Weather Service recorded a low. One of the nodes (001e06113cf1) is on Michigan Avenue and Randolph Street by Millenium Park, not far from Northerly Island.\n",
    "\n",
    "## How cold did it get during the polar vortex?"
   ]
  },
  {
   "cell_type": "markdown",
   "metadata": {},
   "source": [
    "Data for the node **001e06113cf1** has already been extracted into dataset `polarvortex.csv` for you to use."
   ]
  },
  {
   "cell_type": "markdown",
   "metadata": {},
   "source": [
    "## Filtering the data you need"
   ]
  },
  {
   "cell_type": "markdown",
   "metadata": {},
   "source": [
    "AoT nodes collect all sorts of data. For this question, we just want the temperature data. So we will have to filter out the data we don't need."
   ]
  },
  {
   "cell_type": "code",
   "execution_count": null,
   "metadata": {},
   "outputs": [],
   "source": [
    "import pandas as pd\n",
    "pd.options.mode.chained_assignment = None"
   ]
  },
  {
   "cell_type": "code",
   "execution_count": null,
   "metadata": {},
   "outputs": [],
   "source": [
    "polar = pd.read_csv('/data/polarvortex.csv')\n",
    "polar.head()"
   ]
  },
  {
   "cell_type": "code",
   "execution_count": null,
   "metadata": {},
   "outputs": [],
   "source": [
    "# List the different measurements.\n",
    "polar['parameter'].insert_function"
   ]
  },
  {
   "cell_type": "markdown",
   "metadata": {},
   "source": [
    "Here is the key step where we filter and create a new dataframe that only contains the temperature readings."
   ]
  },
  {
   "cell_type": "code",
   "execution_count": null,
   "metadata": {},
   "outputs": [],
   "source": [
    "# Filter just the temperature readings.\n",
    "temp = polar[(insert_conditional)]\n",
    "temp"
   ]
  },
  {
   "cell_type": "code",
   "execution_count": null,
   "metadata": {},
   "outputs": [],
   "source": [
    "# Find the minimum temperature recorded by the node.\n",
    "temp['value_hrf'].insert_function"
   ]
  },
  {
   "cell_type": "code",
   "execution_count": null,
   "metadata": {},
   "outputs": [],
   "source": [
    "# List the datatypes\n",
    "temp.insert_function"
   ]
  },
  {
   "cell_type": "code",
   "execution_count": null,
   "metadata": {},
   "outputs": [],
   "source": [
    "# Convert the value_hrf readings to float.\n",
    "temp['value_hrf'] = pd.insert_function"
   ]
  },
  {
   "cell_type": "code",
   "execution_count": null,
   "metadata": {},
   "outputs": [],
   "source": [
    "# Check the datatypes again.\n",
    "temp.dtypes"
   ]
  },
  {
   "cell_type": "markdown",
   "metadata": {},
   "source": [
    "# Working with Values\n",
    "\n",
    "$$ T(F) = \\frac{9}{5}T(C)+32 $$"
   ]
  },
  {
   "cell_type": "code",
   "execution_count": null,
   "metadata": {},
   "outputs": [],
   "source": [
    "# Write a funtion to convert Celsius to Fahrenheit\n",
    "def Celsius_to_Fahrenheit(temp_C):\n",
    "    <insert_calculation>\n",
    "    return temp_F"
   ]
  },
  {
   "cell_type": "code",
   "execution_count": null,
   "metadata": {
    "scrolled": true
   },
   "outputs": [],
   "source": [
    "# Apply the function to the value_hrf series and write it to a new column.\n",
    "temp.[Temp_F'] = temp['value_hrf'].apply_function\n",
    "temp.head()"
   ]
  },
  {
   "cell_type": "markdown",
   "metadata": {},
   "source": [
    "# ----------Small Group #1 Starts Here---------------"
   ]
  },
  {
   "cell_type": "markdown",
   "metadata": {},
   "source": [
    "# How low can you go?\n",
    "\n",
    "<img src = \"https://c.pxhere.com/photos/2e/b8/snow_cold_fence_lumix_three_sub_freezing_fahrenheit-430431.jpg!d\" width = 300>\n",
    "\n",
    "## Goal:Now that you have \"wrangled\" your data. The task is simple: What was the coldest temperature recorded by this node during the polar vortex?"
   ]
  },
  {
   "cell_type": "code",
   "execution_count": null,
   "metadata": {},
   "outputs": [],
   "source": []
  },
  {
   "cell_type": "code",
   "execution_count": null,
   "metadata": {},
   "outputs": [],
   "source": []
  },
  {
   "cell_type": "markdown",
   "metadata": {},
   "source": [
    "# -----------Small Group #2 Starts Here -------------\n",
    "\n",
    "# Quieting the Noise\n",
    "\n",
    "<img src = \"https://upload.wikimedia.org/wikipedia/commons/thumb/0/0b/BezierCurve.gif/640px-BezierCurve.gif\" width = 300>"
   ]
  },
  {
   "cell_type": "markdown",
   "metadata": {},
   "source": [
    "## Goal: Create a smooth-line plot of the temperature recorded by the node near Northerly Island.\n",
    "\n",
    "### Some tips:\n",
    "### * Make it look good: Use proper axes, labels, legend, etc.\n",
    "### * Steal from Joe: you can copy and past from his notebook."
   ]
  },
  {
   "cell_type": "code",
   "execution_count": null,
   "metadata": {},
   "outputs": [],
   "source": [
    "import matplotlib.pyplot as plt\n",
    "plt.style.use('seaborn') \n",
    "from pandas.plotting import register_matplotlib_converters\n",
    "register_matplotlib_converters()"
   ]
  },
  {
   "cell_type": "code",
   "execution_count": null,
   "metadata": {},
   "outputs": [],
   "source": []
  },
  {
   "cell_type": "code",
   "execution_count": null,
   "metadata": {},
   "outputs": [],
   "source": []
  }
 ],
 "metadata": {
  "kernelspec": {
   "display_name": "Python 3",
   "language": "python",
   "name": "python3"
  },
  "language_info": {
   "codemirror_mode": {
    "name": "ipython",
    "version": 3
   },
   "file_extension": ".py",
   "mimetype": "text/x-python",
   "name": "python",
   "nbconvert_exporter": "python",
   "pygments_lexer": "ipython3",
   "version": "3.8.5"
  }
 },
 "nbformat": 4,
 "nbformat_minor": 4
}
