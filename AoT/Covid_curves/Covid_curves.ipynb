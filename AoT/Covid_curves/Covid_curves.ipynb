{
 "cells": [
  {
   "cell_type": "markdown",
   "metadata": {},
   "source": [
    "# Exploring Covid-19 \n",
    "\n",
    "Let's look at the trends in Covid-19 confirmed cases and deaths over time, and among different states.\n",
    "\n",
    "<img src = 'https://systems.jhu.edu/wp-content/uploads/2020/02/Dashboard_screenshot.png' width = 600>"
   ]
  },
  {
   "cell_type": "markdown",
   "metadata": {},
   "source": [
    "### First, we import the usual modules"
   ]
  },
  {
   "cell_type": "code",
   "execution_count": null,
   "metadata": {},
   "outputs": [],
   "source": [
    "import pandas as pd\n",
    "import numpy as np\n",
    "import matplotlib.pyplot as plt\n",
    "\n",
    "from pandas.plotting import register_matplotlib_converters\n",
    "register_matplotlib_converters()"
   ]
  },
  {
   "cell_type": "markdown",
   "metadata": {},
   "source": [
    "### We have data for both the running totals and the daily totals.  Let's load them both."
   ]
  },
  {
   "cell_type": "code",
   "execution_count": null,
   "metadata": {},
   "outputs": [],
   "source": [
    "total_data = pd.read_csv('data/covid_confirmed_and_deaths_US_by_state_total_2021.csv')\n",
    "daily_data = pd.read_csv('data/covid_confirmed_and_deaths_US_by_state_daily_2021.csv')"
   ]
  },
  {
   "cell_type": "code",
   "execution_count": null,
   "metadata": {},
   "outputs": [],
   "source": []
  },
  {
   "cell_type": "markdown",
   "metadata": {},
   "source": [
    "### Convert the Date to a datetime, and change that to be the index"
   ]
  },
  {
   "cell_type": "code",
   "execution_count": null,
   "metadata": {},
   "outputs": [],
   "source": [
    "total_data['timestamp'] = pd.insert_function\n",
    "daily_data['timestamp'] = pd.insert_function"
   ]
  },
  {
   "cell_type": "code",
   "execution_count": null,
   "metadata": {},
   "outputs": [],
   "source": [
    "total_data.index = insert_column_reference\n",
    "total_data = total_data.insert_function\n",
    "total_data = total_data.insert_function\n",
    "\n",
    "daily_data.index = insert_column_reference\n",
    "daily_data = daily_data.insert_function\n",
    "daily_data = daily_data.insert_function\n"
   ]
  },
  {
   "cell_type": "code",
   "execution_count": null,
   "metadata": {},
   "outputs": [],
   "source": []
  },
  {
   "cell_type": "markdown",
   "metadata": {},
   "source": [
    "### Get the total numbers and the daily numbers for the state of Illinois"
   ]
  },
  {
   "cell_type": "code",
   "execution_count": null,
   "metadata": {},
   "outputs": [],
   "source": [
    "il_total_deaths = insert_filter\n",
    "il_total_deaths"
   ]
  },
  {
   "cell_type": "code",
   "execution_count": null,
   "metadata": {},
   "outputs": [],
   "source": [
    "il_daily_deaths = insert_filter\n",
    "il_daily_deaths"
   ]
  },
  {
   "cell_type": "code",
   "execution_count": null,
   "metadata": {},
   "outputs": [],
   "source": []
  },
  {
   "cell_type": "markdown",
   "metadata": {},
   "source": [
    "### Plot the daily confirmed cases for Illinois"
   ]
  },
  {
   "cell_type": "code",
   "execution_count": null,
   "metadata": {},
   "outputs": [],
   "source": [
    "plt.plot(insert_x_axis, insert_y_axis, label=\"Illinois\")\n",
    "\n",
    "plt.legend()\n",
    "\n",
    "plt.title(\"Daily Covid-19 Confirmed Cases\", fontsize=20)\n",
    "\n",
    "plt.xlabel(\"Date\", fontsize=14)\n",
    "plt.ylabel(\"Number of Cases\", fontsize=14);\n",
    "\n",
    "fig = plt.gcf()\n",
    "fig.set_size_inches(15, 5) "
   ]
  },
  {
   "cell_type": "code",
   "execution_count": null,
   "metadata": {},
   "outputs": [],
   "source": []
  },
  {
   "cell_type": "markdown",
   "metadata": {},
   "source": [
    "### Rolling Means"
   ]
  },
  {
   "cell_type": "code",
   "execution_count": null,
   "metadata": {},
   "outputs": [],
   "source": [
    "plt.plot(il_daily_deaths.index, il_daily_deaths['Confirmed'], label=\"Illinois\")\n",
    "\n",
    "# Use a variable for the window size, so that we can easily change later, if we want\n",
    "window_size = 7\n",
    "label_string=\"%s: %s Day Rolling mean\" % (\"Illinois\", window_size)\n",
    "plt.plot(il_daily_deaths['Confirmed'].rolling(window_size).mean(), label=label_string)\n",
    "\n",
    "plt.legend()\n",
    "\n",
    "plt.title(\"Daily Covid-19 Confirmed Cases\", fontsize=20)\n",
    "\n",
    "plt.xlabel(\"Date\", fontsize=14)\n",
    "plt.ylabel(\"Number of Cases\", fontsize=14);\n",
    "\n",
    "fig = plt.gcf()\n",
    "fig.set_size_inches(15, 5) "
   ]
  },
  {
   "cell_type": "code",
   "execution_count": null,
   "metadata": {},
   "outputs": [],
   "source": []
  },
  {
   "cell_type": "markdown",
   "metadata": {},
   "source": [
    "### To compare Illinois to another state, repeat the process for a different state.  "
   ]
  },
  {
   "cell_type": "code",
   "execution_count": null,
   "metadata": {},
   "outputs": [],
   "source": [
    "# Use a variable for the other state's name, \n",
    "# so we can easily change it out later to compare different states.\n",
    "\n",
    "state2 = insert_state\n",
    "state2_daily_deaths = daily_data[daily_data['State'] == state2]"
   ]
  },
  {
   "cell_type": "code",
   "execution_count": null,
   "metadata": {},
   "outputs": [],
   "source": []
  },
  {
   "cell_type": "markdown",
   "metadata": {},
   "source": [
    "### Add state2 to the same plot as the Illinois numbers"
   ]
  },
  {
   "cell_type": "code",
   "execution_count": null,
   "metadata": {},
   "outputs": [],
   "source": [
    "plt.plot(il_daily_deaths.index, il_daily_deaths['Confirmed'], label=\"Illinois\")\n",
    "\n",
    "window_size = 7\n",
    "label_string=\"%s: %s Day Rolling mean\" % (\"Illinois\", window_size)\n",
    "plt.plot(il_daily_deaths['Confirmed'].rolling(window_size).mean(), label=label_string)\n",
    "\n",
    "# add state2\n",
    "plt.plot(state2_daily_deaths.index, state2_daily_deaths['Confirmed'], label=state2)\n",
    "\n",
    "# add a label and plot for rolling mean for state2\n",
    "state2_label_string=\"%s: %s Day Rolling mean\" % (state2, window_size)\n",
    "plt.plot(state2_daily_deaths['Confirmed'].rolling(window_size).mean(), label=state2_label_string)\n",
    "\n",
    "\n",
    "plt.legend()\n",
    "\n",
    "plt.title(\"Daily Covid-19 Confirmed Cases\", fontsize=20)\n",
    "\n",
    "plt.xlabel(\"Date\", fontsize=14)\n",
    "plt.ylabel(\"Number of Cases\", fontsize=14);\n",
    "\n",
    "fig = plt.gcf()\n",
    "fig.set_size_inches(15, 5) "
   ]
  },
  {
   "cell_type": "code",
   "execution_count": null,
   "metadata": {},
   "outputs": [],
   "source": []
  },
  {
   "cell_type": "markdown",
   "metadata": {},
   "source": [
    "### We can do the same thing for deaths, by changing 'Confirmed' to 'Deaths' in the plot lines."
   ]
  },
  {
   "cell_type": "code",
   "execution_count": null,
   "metadata": {},
   "outputs": [],
   "source": []
  },
  {
   "cell_type": "code",
   "execution_count": null,
   "metadata": {},
   "outputs": [],
   "source": []
  }
 ],
 "metadata": {
  "kernelspec": {
   "display_name": "Python 3",
   "language": "python",
   "name": "python3"
  },
  "language_info": {
   "codemirror_mode": {
    "name": "ipython",
    "version": 3
   },
   "file_extension": ".py",
   "mimetype": "text/x-python",
   "name": "python",
   "nbconvert_exporter": "python",
   "pygments_lexer": "ipython3",
   "version": "3.7.4"
  }
 },
 "nbformat": 4,
 "nbformat_minor": 4
}
