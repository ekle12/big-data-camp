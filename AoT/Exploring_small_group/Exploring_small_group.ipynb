{
 "cells": [
  {
   "cell_type": "markdown",
   "metadata": {},
   "source": [
    "# Alexa, what's the temperature right now?\n",
    "\n",
    "Location-based weather forecasts rely on interpolation where things like temperature are predicted based on actual measurements made by weather stations. Unfortunately, these weather stations can be dozens of miles apart and there can be large variations in temperature between them.\n",
    "\n",
    "<img src = 'https://climate.cod.edu/data/forecast/HRRR/2021072216/NIL/HRRRNIL_sfc_temp_018.png' width = 600>\n",
    "\n",
    "\n",
    "\n",
    "The Array of Things nodes are special because they provide a hyperlocal view of the environment. \n",
    "\n",
    "<img src = 'https://pbs.twimg.com/media/DfdYqlpXUAAYJbK?format=jpg&name=large' width = 400>\n",
    "\n",
    "## Your task: Today, you are Alexa. \n",
    "\n",
    "<img src = \"https://upload.wikimedia.org/wikipedia/commons/8/81/Cloud_Gate_%28%22The_Bean%22%29_-_Millenium_Park_%2835640530046%29.jpg\" width = 300>\n",
    "\n",
    "## \"Alexa, what's the temperature at The Bean?\"\n"
   ]
  },
  {
   "cell_type": "markdown",
   "metadata": {},
   "source": [
    "### Datasets\n",
    "`nodes.csv`\n",
    "`temperatures.csv`\n",
    "\n",
    "Directions: Use the two datasets to give a hyperlocal temperature for The Bean. The import of the datasets has been coded for you in the next cell."
   ]
  },
  {
   "cell_type": "code",
   "execution_count": 8,
   "metadata": {},
   "outputs": [],
   "source": [
    "import pandas as pd\n",
    "nodes = pd.read_csv('data/nodes.csv')\n",
    "temperatures = pd.read_csv('data/temperatures.csv')"
   ]
  },
  {
   "cell_type": "code",
   "execution_count": null,
   "metadata": {},
   "outputs": [],
   "source": []
  },
  {
   "cell_type": "code",
   "execution_count": null,
   "metadata": {},
   "outputs": [],
   "source": []
  }
 ],
 "metadata": {
  "kernelspec": {
   "display_name": "Python 3",
   "language": "python",
   "name": "python3"
  },
  "language_info": {
   "codemirror_mode": {
    "name": "ipython",
    "version": 3
   },
   "file_extension": ".py",
   "mimetype": "text/x-python",
   "name": "python",
   "nbconvert_exporter": "python",
   "pygments_lexer": "ipython3",
   "version": "3.8.5"
  }
 },
 "nbformat": 4,
 "nbformat_minor": 4
}
