{
 "cells": [
  {
   "cell_type": "markdown",
   "metadata": {},
   "source": [
    "## Polar Vortex (January 2019) [CBS News Report](https://www.cbsnews.com/news/polar-vortex-2019-record-cold-grips-the-midwest-as-chicago-river-turns-to-ice/)\n",
    "During the polar vortex, record low temperatures were set around Chicago. On Northerly Island, the National Weather Service recorded a low of -22&deg;F One of the nodes (001e06113cf1) is on Michigan Avenue and Randolph Street by Millenium Park, not far from Northerly Island.\n",
    "\n",
    "### How accurate is this node?\n",
    "\n",
    "1. Import the January 2019 data for this node (\"Millenium_node.csv)\n",
    "2. Set the \"timestamp\" as the index.\n",
    "3. Find the names of all of the temperature sensors in the node.\n",
    "4. Convert the `value_hrf`'s to Farhenheit"
   ]
  },
  {
   "cell_type": "markdown",
   "metadata": {},
   "source": [
    "Data for the node **001e06113cf1** has already been extracted into dataset `polarvortex.csv` for you to use."
   ]
  },
  {
   "cell_type": "code",
   "execution_count": null,
   "metadata": {},
   "outputs": [],
   "source": [
    "import pandas as pd"
   ]
  },
  {
   "cell_type": "code",
   "execution_count": null,
   "metadata": {},
   "outputs": [],
   "source": [
    "polar = pd.read_csv('../../Datasets/AoT/polarvortex.csv')\n",
    "polar.head()"
   ]
  },
  {
   "cell_type": "code",
   "execution_count": null,
   "metadata": {},
   "outputs": [],
   "source": [
    "polar.dtypes"
   ]
  },
  {
   "cell_type": "code",
   "execution_count": null,
   "metadata": {},
   "outputs": [],
   "source": [
    "# Convert timestamp from string into date format\n",
    "polar['timestamp'] = pd.to_datetime(polar['timestamp'])\n",
    "polar.head()"
   ]
  },
  {
   "cell_type": "code",
   "execution_count": null,
   "metadata": {},
   "outputs": [],
   "source": [
    "polar.dtypes"
   ]
  },
  {
   "cell_type": "code",
   "execution_count": null,
   "metadata": {},
   "outputs": [],
   "source": [
    "polar.index = polar['timestamp']\n",
    "polar.head()"
   ]
  },
  {
   "cell_type": "code",
   "execution_count": null,
   "metadata": {},
   "outputs": [],
   "source": [
    "polar = polar.drop(columns='timestamp')\n",
    "polar.head(25)"
   ]
  },
  {
   "cell_type": "code",
   "execution_count": null,
   "metadata": {},
   "outputs": [],
   "source": [
    "polar_temps = polar[(polar['parameter'] == \"temperature\")]\n",
    "polar_temps.head(25)"
   ]
  },
  {
   "cell_type": "code",
   "execution_count": null,
   "metadata": {},
   "outputs": [],
   "source": [
    "polar_temps['sensor'].unique()"
   ]
  },
  {
   "cell_type": "code",
   "execution_count": null,
   "metadata": {},
   "outputs": [],
   "source": [
    "polar_temps['value_hrf'].describe()"
   ]
  },
  {
   "cell_type": "code",
   "execution_count": null,
   "metadata": {},
   "outputs": [],
   "source": [
    "polar_temps.loc[:,'value_hrf'] = polar_temps['value_hrf'].astype(float)"
   ]
  },
  {
   "cell_type": "code",
   "execution_count": null,
   "metadata": {},
   "outputs": [],
   "source": [
    "polar_temps['value_hrf'].describe()"
   ]
  },
  {
   "cell_type": "markdown",
   "metadata": {},
   "source": [
    "Convert the temperatures to Fahrenheit from Celsius.\n",
    "\n",
    "$$ T(F) = \\frac{9}{5}T(C)+32 $$"
   ]
  },
  {
   "cell_type": "code",
   "execution_count": null,
   "metadata": {},
   "outputs": [],
   "source": [
    "def Celsius_to_Fahrenheit(temp_C):\n",
    "    temp_F = (temp_C * 9/5) + 32\n",
    "    return temp_F"
   ]
  },
  {
   "cell_type": "code",
   "execution_count": null,
   "metadata": {
    "scrolled": true
   },
   "outputs": [],
   "source": [
    "polar_temps.loc[:,'Temp_F'] = polar_temps['value_hrf'].apply(Celsius_to_Fahrenheit)\n",
    "polar_temps.head()"
   ]
  },
  {
   "cell_type": "markdown",
   "metadata": {},
   "source": [
    "### Let's get an idea of the range of temperature values.\n"
   ]
  },
  {
   "cell_type": "code",
   "execution_count": null,
   "metadata": {},
   "outputs": [],
   "source": [
    "polar_temps['Temp_F'].describe()"
   ]
  },
  {
   "cell_type": "markdown",
   "metadata": {},
   "source": [
    "There is a large variation in the temperatures (value_hrf) for the different sensors (-899&deg;F to 466&deg;F). Some of which violate the laws of physics and common sense."
   ]
  },
  {
   "cell_type": "code",
   "execution_count": null,
   "metadata": {},
   "outputs": [],
   "source": [
    "sensor_range = polar_temps.groupby(['sensor'])\n",
    "sensor_range['Temp_F'].describe()"
   ]
  },
  {
   "cell_type": "markdown",
   "metadata": {},
   "source": [
    "----\n",
    "# (Part 2)\n",
    "\n",
    "# Which AoT temperature sensor is the most accurate?\n",
    "\n",
    "Use the National Weather Service observations at Northerly Island to compare. The blue bars are what you want to pay attention to."
   ]
  },
  {
   "cell_type": "markdown",
   "metadata": {},
   "source": [
    "<img src = \"images/chart.jpeg\" height=400 width = 600 align=center>"
   ]
  },
  {
   "cell_type": "markdown",
   "metadata": {},
   "source": [
    "We can narrow our search by getting an idea of the temperature range for each sensor. Even though these values sit in the same column, we can use the `groupby` method to analyze each sensor individually."
   ]
  },
  {
   "cell_type": "code",
   "execution_count": null,
   "metadata": {},
   "outputs": [],
   "source": [
    "polar_temps.groupby('sensor')['Temp_F'].min()"
   ]
  },
  {
   "cell_type": "markdown",
   "metadata": {},
   "source": [
    "It looks like `pr103j2` might be the best candidate because its minimum is closest to the National Weather Services record low (-22&deg;C).\n",
    "\n",
    "Let's make a plot of its temperatures for the month of January."
   ]
  },
  {
   "cell_type": "code",
   "execution_count": null,
   "metadata": {},
   "outputs": [],
   "source": [
    "sensor_temp = polar_temps[polar_temps['sensor'] == 'pr103j2'] "
   ]
  },
  {
   "cell_type": "code",
   "execution_count": null,
   "metadata": {},
   "outputs": [],
   "source": [
    "sensor_temp.head()"
   ]
  },
  {
   "cell_type": "markdown",
   "metadata": {},
   "source": [
    "What was the minumum temperature for this node for the month of January?"
   ]
  },
  {
   "cell_type": "markdown",
   "metadata": {},
   "source": [
    "## Import Matplotlib\n",
    "\n",
    "We will use the pyplot module which provides full control of line styles, font and other properties. The style package gives support for easy-to-switch plotting “styles”.  We will use a style called \"seaborn\", but others are available."
   ]
  },
  {
   "cell_type": "code",
   "execution_count": null,
   "metadata": {},
   "outputs": [],
   "source": [
    "import matplotlib.pyplot as plt\n",
    "plt.style.use('seaborn') \n",
    "from pandas.plotting import register_matplotlib_converters\n",
    "register_matplotlib_converters()"
   ]
  },
  {
   "cell_type": "code",
   "execution_count": null,
   "metadata": {},
   "outputs": [],
   "source": [
    "plt.plot(sensor_temp.index, sensor_temp['Temp_F'])"
   ]
  },
  {
   "cell_type": "code",
   "execution_count": null,
   "metadata": {},
   "outputs": [],
   "source": [
    "#don't make the mistake of plt.xlabel = 'Time'. This will set the function to the string and you\n",
    "#won't be able to fix it unless you restart the kernel.\n",
    "\n",
    "plt.plot(sensor_temp.index, sensor_temp['Temp_F'])\n",
    "plt.xlabel('Time')\n",
    "plt.ylabel('Temperature_F')\n",
    "plt.title('Brrr... Polar Vortex')"
   ]
  },
  {
   "cell_type": "code",
   "execution_count": null,
   "metadata": {},
   "outputs": [],
   "source": [
    "plt.plot(sensor_temp.index, sensor_temp['Temp_F'], '-r')\n",
    "plt.xlabel('Time')\n",
    "plt.ylabel('Temperature_F')\n",
    "plt.title('Brrr... Polar Vortex')\n",
    "plt.figure(figsize=(7, 5))\n"
   ]
  },
  {
   "cell_type": "markdown",
   "metadata": {},
   "source": [
    "----\n",
    "# (Part 3)\n",
    "\n",
    "# Rolling Mean\n"
   ]
  },
  {
   "cell_type": "code",
   "execution_count": null,
   "metadata": {},
   "outputs": [],
   "source": [
    "sensor_temp_hourly = sensor_temp.Temp_F.resample('H').mean()"
   ]
  },
  {
   "cell_type": "code",
   "execution_count": null,
   "metadata": {},
   "outputs": [],
   "source": [
    "#plt.plot(sensor_temp_hourly, '--', label=\"Hourly Data\")\n",
    "plt.plot(sensor_temp.index, sensor_temp['Temp_F'], '-', label=\"Original Data\")\n",
    "\n",
    "window_size = 6\n",
    "label_string=\"Rolling mean window: %s\" % window_size\n",
    "plt.plot(sensor_temp_hourly.rolling(window_size).mean(), 'orange', label=label_string)\n",
    "\n",
    "plt.title(\"Rolling Mean Trendlines\", fontsize=20)\n",
    "\n",
    "plt.xlabel(\"Time\", fontsize=14)\n",
    "plt.ylabel(\"Temperature (°F)\", fontsize=14)\n",
    "\n",
    "plt.tick_params(labelsize=12)\n",
    "\n",
    "# Finding the best location to display the legend\n",
    "plt.legend(loc='best')\n",
    "\n",
    "fig = plt.gcf()\n",
    "fig.set_size_inches(15, 5) \n",
    "\n"
   ]
  },
  {
   "cell_type": "code",
   "execution_count": null,
   "metadata": {},
   "outputs": [],
   "source": []
  }
 ],
 "metadata": {
  "kernelspec": {
   "display_name": "Python 3",
   "language": "python",
   "name": "python3"
  },
  "language_info": {
   "codemirror_mode": {
    "name": "ipython",
    "version": 3
   },
   "file_extension": ".py",
   "mimetype": "text/x-python",
   "name": "python",
   "nbconvert_exporter": "python",
   "pygments_lexer": "ipython3",
   "version": "3.8.3"
  }
 },
 "nbformat": 4,
 "nbformat_minor": 2
}
