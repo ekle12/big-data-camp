{
 "cells": [
  {
   "cell_type": "markdown",
   "metadata": {},
   "source": [
    "# Lake Effect\n",
    "\n",
    "We have heard of \"lake effect\", normally when it comes to snow, but Lake Michigan affects the weather around Chicago in many ways.\n",
    "\n",
    "__How does the lake affect temperatures in the city?__ \n",
    "\n",
    "You have access to 3 data sets:\n",
    "1. A list of all of the nodes: `nodes.csv`\n",
    "2. A snapshot of temperature readings for July 18, 2019 at about 3pm: `July18_2019.csv`\n",
    "3. A series of latitude and longitude reference points for the lakeshore: `Chicago_Lakefront.csv`\n"
   ]
  },
  {
   "cell_type": "code",
   "execution_count": 1,
   "metadata": {},
   "outputs": [],
   "source": [
    "import pandas as pd\n",
    "import matplotlib.pyplot as plt\n",
    "import seaborn as sns\n",
    "import numpy as np\n",
    "plt.style.use('seaborn')"
   ]
  },
  {
   "cell_type": "code",
   "execution_count": 2,
   "metadata": {},
   "outputs": [],
   "source": [
    "nodes = pd.read_csv(\"../../Datasets/AoT/nodes.csv\")"
   ]
  },
  {
   "cell_type": "code",
   "execution_count": 3,
   "metadata": {},
   "outputs": [
    {
     "data": {
      "text/html": [
       "<div>\n",
       "<style scoped>\n",
       "    .dataframe tbody tr th:only-of-type {\n",
       "        vertical-align: middle;\n",
       "    }\n",
       "\n",
       "    .dataframe tbody tr th {\n",
       "        vertical-align: top;\n",
       "    }\n",
       "\n",
       "    .dataframe thead th {\n",
       "        text-align: right;\n",
       "    }\n",
       "</style>\n",
       "<table border=\"1\" class=\"dataframe\">\n",
       "  <thead>\n",
       "    <tr style=\"text-align: right;\">\n",
       "      <th></th>\n",
       "      <th>node_id</th>\n",
       "      <th>project_id</th>\n",
       "      <th>vsn</th>\n",
       "      <th>address</th>\n",
       "      <th>lat</th>\n",
       "      <th>lon</th>\n",
       "      <th>description</th>\n",
       "      <th>start_timestamp</th>\n",
       "      <th>end_timestamp</th>\n",
       "    </tr>\n",
       "  </thead>\n",
       "  <tbody>\n",
       "    <tr>\n",
       "      <th>0</th>\n",
       "      <td>001e0610ba46</td>\n",
       "      <td>AoT_Chicago</td>\n",
       "      <td>4</td>\n",
       "      <td>State St &amp; Jackson Blvd Chicago IL</td>\n",
       "      <td>41.878377</td>\n",
       "      <td>-87.627678</td>\n",
       "      <td>AoT Chicago (S) [C]</td>\n",
       "      <td>10/9/17 0:00</td>\n",
       "      <td>NaN</td>\n",
       "    </tr>\n",
       "    <tr>\n",
       "      <th>1</th>\n",
       "      <td>001e0610ba3b</td>\n",
       "      <td>AoT_Chicago</td>\n",
       "      <td>6</td>\n",
       "      <td>18th St &amp; Lake Shore Dr Chicago IL</td>\n",
       "      <td>41.858136</td>\n",
       "      <td>-87.616055</td>\n",
       "      <td>AoT Chicago (S)</td>\n",
       "      <td>8/8/17 0:00</td>\n",
       "      <td>NaN</td>\n",
       "    </tr>\n",
       "    <tr>\n",
       "      <th>2</th>\n",
       "      <td>001e0610ba8f</td>\n",
       "      <td>AoT_Chicago</td>\n",
       "      <td>00D</td>\n",
       "      <td>Cornell &amp; 47th St Chicago IL</td>\n",
       "      <td>41.810342</td>\n",
       "      <td>-87.590228</td>\n",
       "      <td>AoT Chicago (S)</td>\n",
       "      <td>8/8/17 0:00</td>\n",
       "      <td>NaN</td>\n",
       "    </tr>\n",
       "    <tr>\n",
       "      <th>3</th>\n",
       "      <td>001e0610ba16</td>\n",
       "      <td>AoT_Chicago</td>\n",
       "      <td>10</td>\n",
       "      <td>Homan Ave &amp; Roosevelt Rd Chicago IL</td>\n",
       "      <td>41.866349</td>\n",
       "      <td>-87.710543</td>\n",
       "      <td>AoT Chicago (S) [C]</td>\n",
       "      <td>7/18/18 0:00</td>\n",
       "      <td>NaN</td>\n",
       "    </tr>\n",
       "    <tr>\n",
       "      <th>4</th>\n",
       "      <td>001e0610ba8b</td>\n",
       "      <td>AoT_Chicago</td>\n",
       "      <td>18</td>\n",
       "      <td>Stony Island Ave &amp; 63rd St Chicago IL</td>\n",
       "      <td>41.780600</td>\n",
       "      <td>-87.586456</td>\n",
       "      <td>AoT Chicago (S) [C]</td>\n",
       "      <td>2/26/18 0:00</td>\n",
       "      <td>NaN</td>\n",
       "    </tr>\n",
       "  </tbody>\n",
       "</table>\n",
       "</div>"
      ],
      "text/plain": [
       "        node_id   project_id  vsn                                address  \\\n",
       "0  001e0610ba46  AoT_Chicago    4     State St & Jackson Blvd Chicago IL   \n",
       "1  001e0610ba3b  AoT_Chicago    6     18th St & Lake Shore Dr Chicago IL   \n",
       "2  001e0610ba8f  AoT_Chicago  00D           Cornell & 47th St Chicago IL   \n",
       "3  001e0610ba16  AoT_Chicago   10    Homan Ave & Roosevelt Rd Chicago IL   \n",
       "4  001e0610ba8b  AoT_Chicago   18  Stony Island Ave & 63rd St Chicago IL   \n",
       "\n",
       "         lat        lon          description start_timestamp end_timestamp  \n",
       "0  41.878377 -87.627678  AoT Chicago (S) [C]    10/9/17 0:00           NaN  \n",
       "1  41.858136 -87.616055      AoT Chicago (S)     8/8/17 0:00           NaN  \n",
       "2  41.810342 -87.590228      AoT Chicago (S)     8/8/17 0:00           NaN  \n",
       "3  41.866349 -87.710543  AoT Chicago (S) [C]    7/18/18 0:00           NaN  \n",
       "4  41.780600 -87.586456  AoT Chicago (S) [C]    2/26/18 0:00           NaN  "
      ]
     },
     "execution_count": 3,
     "metadata": {},
     "output_type": "execute_result"
    }
   ],
   "source": [
    "nodes.head()"
   ]
  },
  {
   "cell_type": "code",
   "execution_count": 4,
   "metadata": {},
   "outputs": [
    {
     "data": {
      "text/plain": [
       "count              122\n",
       "unique             122\n",
       "top       001e0610ba8b\n",
       "freq                 1\n",
       "Name: node_id, dtype: object"
      ]
     },
     "execution_count": 4,
     "metadata": {},
     "output_type": "execute_result"
    }
   ],
   "source": [
    "nodes['node_id'].describe()"
   ]
  },
  {
   "cell_type": "markdown",
   "metadata": {},
   "source": [
    "### Import Chicago_Lakefront.csv which contains lat/long reference points for the shoreline in Chicago\n"
   ]
  },
  {
   "cell_type": "code",
   "execution_count": 5,
   "metadata": {},
   "outputs": [],
   "source": [
    "shoreline = pd.read_csv('../../Datasets/AoT/Chicago_Lakefront.csv')"
   ]
  },
  {
   "cell_type": "code",
   "execution_count": 6,
   "metadata": {},
   "outputs": [
    {
     "name": "stdout",
     "output_type": "stream",
     "text": [
      "<class 'pandas.core.frame.DataFrame'>\n",
      "RangeIndex: 55 entries, 0 to 54\n",
      "Data columns (total 2 columns):\n",
      " #   Column     Non-Null Count  Dtype  \n",
      "---  ------     --------------  -----  \n",
      " 0   Longitude  55 non-null     float64\n",
      " 1   Latitude   55 non-null     float64\n",
      "dtypes: float64(2)\n",
      "memory usage: 1008.0 bytes\n"
     ]
    }
   ],
   "source": [
    "shoreline.info()"
   ]
  },
  {
   "cell_type": "markdown",
   "metadata": {},
   "source": [
    "### Let's create 2 empty columns. This is where we will put our calculated distances between each node and the shore."
   ]
  },
  {
   "cell_type": "code",
   "execution_count": 7,
   "metadata": {},
   "outputs": [],
   "source": [
    "shoreline['distance'] = np.nan\n",
    "nodes['lake_distance'] = np.nan"
   ]
  },
  {
   "cell_type": "code",
   "execution_count": 8,
   "metadata": {},
   "outputs": [
    {
     "name": "stderr",
     "output_type": "stream",
     "text": [
      "/Users/papka/opt/anaconda3/envs/jupyter/lib/python3.8/site-packages/pandas/core/indexing.py:671: SettingWithCopyWarning: \n",
      "A value is trying to be set on a copy of a slice from a DataFrame\n",
      "\n",
      "See the caveats in the documentation: https://pandas.pydata.org/pandas-docs/stable/user_guide/indexing.html#returning-a-view-versus-a-copy\n",
      "  self._setitem_with_indexer(indexer, value)\n"
     ]
    }
   ],
   "source": [
    "# diff in lat alone didn't work because of the curve of the lake.\n",
    "\n",
    "for i in range (len(nodes)):\n",
    "    node_lon = abs(nodes['lon'].iloc[i])\n",
    "    node_lat = abs(nodes['lat'].iloc[i])\n",
    "    for j in range (len(shoreline)):\n",
    "        lon_diff = node_lon - abs(shoreline['Longitude'].iloc[j])\n",
    "        lat_diff = node_lat - abs(shoreline['Latitude'].iloc[j])\n",
    "        distance_to_lake = np.sqrt(lon_diff ** 2 + lat_diff ** 2)\n",
    "        shoreline['distance'].iloc[j] = distance_to_lake \n",
    "    distance = shoreline['distance'].min()\n",
    "    nodes['lake_distance'].iloc[i] = distance"
   ]
  },
  {
   "cell_type": "code",
   "execution_count": 9,
   "metadata": {},
   "outputs": [
    {
     "data": {
      "text/html": [
       "<div>\n",
       "<style scoped>\n",
       "    .dataframe tbody tr th:only-of-type {\n",
       "        vertical-align: middle;\n",
       "    }\n",
       "\n",
       "    .dataframe tbody tr th {\n",
       "        vertical-align: top;\n",
       "    }\n",
       "\n",
       "    .dataframe thead th {\n",
       "        text-align: right;\n",
       "    }\n",
       "</style>\n",
       "<table border=\"1\" class=\"dataframe\">\n",
       "  <thead>\n",
       "    <tr style=\"text-align: right;\">\n",
       "      <th></th>\n",
       "      <th>node_id</th>\n",
       "      <th>project_id</th>\n",
       "      <th>vsn</th>\n",
       "      <th>address</th>\n",
       "      <th>lat</th>\n",
       "      <th>lon</th>\n",
       "      <th>description</th>\n",
       "      <th>start_timestamp</th>\n",
       "      <th>end_timestamp</th>\n",
       "      <th>lake_distance</th>\n",
       "    </tr>\n",
       "  </thead>\n",
       "  <tbody>\n",
       "    <tr>\n",
       "      <th>0</th>\n",
       "      <td>001e0610ba46</td>\n",
       "      <td>AoT_Chicago</td>\n",
       "      <td>4</td>\n",
       "      <td>State St &amp; Jackson Blvd Chicago IL</td>\n",
       "      <td>41.878377</td>\n",
       "      <td>-87.627678</td>\n",
       "      <td>AoT Chicago (S) [C]</td>\n",
       "      <td>10/9/17 0:00</td>\n",
       "      <td>NaN</td>\n",
       "      <td>0.016218</td>\n",
       "    </tr>\n",
       "    <tr>\n",
       "      <th>1</th>\n",
       "      <td>001e0610ba3b</td>\n",
       "      <td>AoT_Chicago</td>\n",
       "      <td>6</td>\n",
       "      <td>18th St &amp; Lake Shore Dr Chicago IL</td>\n",
       "      <td>41.858136</td>\n",
       "      <td>-87.616055</td>\n",
       "      <td>AoT Chicago (S)</td>\n",
       "      <td>8/8/17 0:00</td>\n",
       "      <td>NaN</td>\n",
       "      <td>0.001728</td>\n",
       "    </tr>\n",
       "    <tr>\n",
       "      <th>2</th>\n",
       "      <td>001e0610ba8f</td>\n",
       "      <td>AoT_Chicago</td>\n",
       "      <td>00D</td>\n",
       "      <td>Cornell &amp; 47th St Chicago IL</td>\n",
       "      <td>41.810342</td>\n",
       "      <td>-87.590228</td>\n",
       "      <td>AoT Chicago (S)</td>\n",
       "      <td>8/8/17 0:00</td>\n",
       "      <td>NaN</td>\n",
       "      <td>0.007262</td>\n",
       "    </tr>\n",
       "    <tr>\n",
       "      <th>3</th>\n",
       "      <td>001e0610ba16</td>\n",
       "      <td>AoT_Chicago</td>\n",
       "      <td>10</td>\n",
       "      <td>Homan Ave &amp; Roosevelt Rd Chicago IL</td>\n",
       "      <td>41.866349</td>\n",
       "      <td>-87.710543</td>\n",
       "      <td>AoT Chicago (S) [C]</td>\n",
       "      <td>7/18/18 0:00</td>\n",
       "      <td>NaN</td>\n",
       "      <td>0.096554</td>\n",
       "    </tr>\n",
       "    <tr>\n",
       "      <th>4</th>\n",
       "      <td>001e0610ba8b</td>\n",
       "      <td>AoT_Chicago</td>\n",
       "      <td>18</td>\n",
       "      <td>Stony Island Ave &amp; 63rd St Chicago IL</td>\n",
       "      <td>41.780600</td>\n",
       "      <td>-87.586456</td>\n",
       "      <td>AoT Chicago (S) [C]</td>\n",
       "      <td>2/26/18 0:00</td>\n",
       "      <td>NaN</td>\n",
       "      <td>0.015089</td>\n",
       "    </tr>\n",
       "  </tbody>\n",
       "</table>\n",
       "</div>"
      ],
      "text/plain": [
       "        node_id   project_id  vsn                                address  \\\n",
       "0  001e0610ba46  AoT_Chicago    4     State St & Jackson Blvd Chicago IL   \n",
       "1  001e0610ba3b  AoT_Chicago    6     18th St & Lake Shore Dr Chicago IL   \n",
       "2  001e0610ba8f  AoT_Chicago  00D           Cornell & 47th St Chicago IL   \n",
       "3  001e0610ba16  AoT_Chicago   10    Homan Ave & Roosevelt Rd Chicago IL   \n",
       "4  001e0610ba8b  AoT_Chicago   18  Stony Island Ave & 63rd St Chicago IL   \n",
       "\n",
       "         lat        lon          description start_timestamp end_timestamp  \\\n",
       "0  41.878377 -87.627678  AoT Chicago (S) [C]    10/9/17 0:00           NaN   \n",
       "1  41.858136 -87.616055      AoT Chicago (S)     8/8/17 0:00           NaN   \n",
       "2  41.810342 -87.590228      AoT Chicago (S)     8/8/17 0:00           NaN   \n",
       "3  41.866349 -87.710543  AoT Chicago (S) [C]    7/18/18 0:00           NaN   \n",
       "4  41.780600 -87.586456  AoT Chicago (S) [C]    2/26/18 0:00           NaN   \n",
       "\n",
       "   lake_distance  \n",
       "0       0.016218  \n",
       "1       0.001728  \n",
       "2       0.007262  \n",
       "3       0.096554  \n",
       "4       0.015089  "
      ]
     },
     "execution_count": 9,
     "metadata": {},
     "output_type": "execute_result"
    }
   ],
   "source": [
    "nodes.head()"
   ]
  },
  {
   "cell_type": "code",
   "execution_count": 10,
   "metadata": {},
   "outputs": [],
   "source": [
    "nodes['lake_distance'] = nodes['lake_distance'].apply(lambda x: x*69)"
   ]
  },
  {
   "cell_type": "code",
   "execution_count": 11,
   "metadata": {},
   "outputs": [
    {
     "data": {
      "text/plain": [
       "count    122.000000\n",
       "mean       3.864627\n",
       "std        2.553650\n",
       "min        0.119241\n",
       "25%        1.686029\n",
       "50%        3.561889\n",
       "75%        5.170477\n",
       "max       13.231529\n",
       "Name: lake_distance, dtype: float64"
      ]
     },
     "execution_count": 11,
     "metadata": {},
     "output_type": "execute_result"
    }
   ],
   "source": [
    "nodes['lake_distance'].describe()"
   ]
  },
  {
   "cell_type": "markdown",
   "metadata": {},
   "source": [
    "### Importing the temperature.csv which contains the nodes and their corresponding temperature values for one time step."
   ]
  },
  {
   "cell_type": "code",
   "execution_count": 12,
   "metadata": {},
   "outputs": [],
   "source": [
    "temp_snapshot = pd.read_csv('../../Datasets/AoT/July18_2019.csv')"
   ]
  },
  {
   "cell_type": "code",
   "execution_count": 13,
   "metadata": {},
   "outputs": [
    {
     "data": {
      "text/html": [
       "<div>\n",
       "<style scoped>\n",
       "    .dataframe tbody tr th:only-of-type {\n",
       "        vertical-align: middle;\n",
       "    }\n",
       "\n",
       "    .dataframe tbody tr th {\n",
       "        vertical-align: top;\n",
       "    }\n",
       "\n",
       "    .dataframe thead th {\n",
       "        text-align: right;\n",
       "    }\n",
       "</style>\n",
       "<table border=\"1\" class=\"dataframe\">\n",
       "  <thead>\n",
       "    <tr style=\"text-align: right;\">\n",
       "      <th></th>\n",
       "      <th>timestamp</th>\n",
       "      <th>node_id</th>\n",
       "      <th>subsystem</th>\n",
       "      <th>sensor</th>\n",
       "      <th>parameter</th>\n",
       "      <th>value_raw</th>\n",
       "      <th>value_hrf</th>\n",
       "    </tr>\n",
       "  </thead>\n",
       "  <tbody>\n",
       "    <tr>\n",
       "      <th>0</th>\n",
       "      <td>2019/07/18 14:00:00</td>\n",
       "      <td>001e0610ee36</td>\n",
       "      <td>metsense</td>\n",
       "      <td>pr103j2</td>\n",
       "      <td>temperature</td>\n",
       "      <td>840</td>\n",
       "      <td>24.45</td>\n",
       "    </tr>\n",
       "    <tr>\n",
       "      <th>1</th>\n",
       "      <td>2019/07/18 14:00:00</td>\n",
       "      <td>001e06114fd4</td>\n",
       "      <td>metsense</td>\n",
       "      <td>pr103j2</td>\n",
       "      <td>temperature</td>\n",
       "      <td>839</td>\n",
       "      <td>24.30</td>\n",
       "    </tr>\n",
       "    <tr>\n",
       "      <th>2</th>\n",
       "      <td>2019/07/18 14:00:01</td>\n",
       "      <td>001e0610ba13</td>\n",
       "      <td>metsense</td>\n",
       "      <td>pr103j2</td>\n",
       "      <td>temperature</td>\n",
       "      <td>853</td>\n",
       "      <td>26.45</td>\n",
       "    </tr>\n",
       "    <tr>\n",
       "      <th>3</th>\n",
       "      <td>2019/07/18 14:00:02</td>\n",
       "      <td>001e0610ee61</td>\n",
       "      <td>metsense</td>\n",
       "      <td>pr103j2</td>\n",
       "      <td>temperature</td>\n",
       "      <td>850</td>\n",
       "      <td>26.00</td>\n",
       "    </tr>\n",
       "    <tr>\n",
       "      <th>4</th>\n",
       "      <td>2019/07/18 14:00:02</td>\n",
       "      <td>001e06113ad8</td>\n",
       "      <td>metsense</td>\n",
       "      <td>pr103j2</td>\n",
       "      <td>temperature</td>\n",
       "      <td>837</td>\n",
       "      <td>24.00</td>\n",
       "    </tr>\n",
       "  </tbody>\n",
       "</table>\n",
       "</div>"
      ],
      "text/plain": [
       "             timestamp       node_id subsystem   sensor    parameter  \\\n",
       "0  2019/07/18 14:00:00  001e0610ee36  metsense  pr103j2  temperature   \n",
       "1  2019/07/18 14:00:00  001e06114fd4  metsense  pr103j2  temperature   \n",
       "2  2019/07/18 14:00:01  001e0610ba13  metsense  pr103j2  temperature   \n",
       "3  2019/07/18 14:00:02  001e0610ee61  metsense  pr103j2  temperature   \n",
       "4  2019/07/18 14:00:02  001e06113ad8  metsense  pr103j2  temperature   \n",
       "\n",
       "   value_raw  value_hrf  \n",
       "0        840      24.45  \n",
       "1        839      24.30  \n",
       "2        853      26.45  \n",
       "3        850      26.00  \n",
       "4        837      24.00  "
      ]
     },
     "execution_count": 13,
     "metadata": {},
     "output_type": "execute_result"
    }
   ],
   "source": [
    "temp_snapshot.head()"
   ]
  },
  {
   "cell_type": "code",
   "execution_count": 14,
   "metadata": {},
   "outputs": [],
   "source": [
    "temp_snapshot['Temperature_F'] = temp_snapshot['value_hrf'].apply(lambda x: x*(9/5) + 32)"
   ]
  },
  {
   "cell_type": "code",
   "execution_count": 15,
   "metadata": {},
   "outputs": [
    {
     "data": {
      "text/html": [
       "<div>\n",
       "<style scoped>\n",
       "    .dataframe tbody tr th:only-of-type {\n",
       "        vertical-align: middle;\n",
       "    }\n",
       "\n",
       "    .dataframe tbody tr th {\n",
       "        vertical-align: top;\n",
       "    }\n",
       "\n",
       "    .dataframe thead th {\n",
       "        text-align: right;\n",
       "    }\n",
       "</style>\n",
       "<table border=\"1\" class=\"dataframe\">\n",
       "  <thead>\n",
       "    <tr style=\"text-align: right;\">\n",
       "      <th></th>\n",
       "      <th>timestamp</th>\n",
       "      <th>node_id</th>\n",
       "      <th>subsystem</th>\n",
       "      <th>sensor</th>\n",
       "      <th>parameter</th>\n",
       "      <th>value_raw</th>\n",
       "      <th>value_hrf</th>\n",
       "      <th>Temperature_F</th>\n",
       "    </tr>\n",
       "  </thead>\n",
       "  <tbody>\n",
       "    <tr>\n",
       "      <th>0</th>\n",
       "      <td>2019/07/18 14:00:00</td>\n",
       "      <td>001e0610ee36</td>\n",
       "      <td>metsense</td>\n",
       "      <td>pr103j2</td>\n",
       "      <td>temperature</td>\n",
       "      <td>840</td>\n",
       "      <td>24.45</td>\n",
       "      <td>76.01</td>\n",
       "    </tr>\n",
       "    <tr>\n",
       "      <th>1</th>\n",
       "      <td>2019/07/18 14:00:00</td>\n",
       "      <td>001e06114fd4</td>\n",
       "      <td>metsense</td>\n",
       "      <td>pr103j2</td>\n",
       "      <td>temperature</td>\n",
       "      <td>839</td>\n",
       "      <td>24.30</td>\n",
       "      <td>75.74</td>\n",
       "    </tr>\n",
       "    <tr>\n",
       "      <th>2</th>\n",
       "      <td>2019/07/18 14:00:01</td>\n",
       "      <td>001e0610ba13</td>\n",
       "      <td>metsense</td>\n",
       "      <td>pr103j2</td>\n",
       "      <td>temperature</td>\n",
       "      <td>853</td>\n",
       "      <td>26.45</td>\n",
       "      <td>79.61</td>\n",
       "    </tr>\n",
       "    <tr>\n",
       "      <th>3</th>\n",
       "      <td>2019/07/18 14:00:02</td>\n",
       "      <td>001e0610ee61</td>\n",
       "      <td>metsense</td>\n",
       "      <td>pr103j2</td>\n",
       "      <td>temperature</td>\n",
       "      <td>850</td>\n",
       "      <td>26.00</td>\n",
       "      <td>78.80</td>\n",
       "    </tr>\n",
       "    <tr>\n",
       "      <th>4</th>\n",
       "      <td>2019/07/18 14:00:02</td>\n",
       "      <td>001e06113ad8</td>\n",
       "      <td>metsense</td>\n",
       "      <td>pr103j2</td>\n",
       "      <td>temperature</td>\n",
       "      <td>837</td>\n",
       "      <td>24.00</td>\n",
       "      <td>75.20</td>\n",
       "    </tr>\n",
       "  </tbody>\n",
       "</table>\n",
       "</div>"
      ],
      "text/plain": [
       "             timestamp       node_id subsystem   sensor    parameter  \\\n",
       "0  2019/07/18 14:00:00  001e0610ee36  metsense  pr103j2  temperature   \n",
       "1  2019/07/18 14:00:00  001e06114fd4  metsense  pr103j2  temperature   \n",
       "2  2019/07/18 14:00:01  001e0610ba13  metsense  pr103j2  temperature   \n",
       "3  2019/07/18 14:00:02  001e0610ee61  metsense  pr103j2  temperature   \n",
       "4  2019/07/18 14:00:02  001e06113ad8  metsense  pr103j2  temperature   \n",
       "\n",
       "   value_raw  value_hrf  Temperature_F  \n",
       "0        840      24.45          76.01  \n",
       "1        839      24.30          75.74  \n",
       "2        853      26.45          79.61  \n",
       "3        850      26.00          78.80  \n",
       "4        837      24.00          75.20  "
      ]
     },
     "execution_count": 15,
     "metadata": {},
     "output_type": "execute_result"
    }
   ],
   "source": [
    "temp_snapshot.head()"
   ]
  },
  {
   "cell_type": "code",
   "execution_count": 16,
   "metadata": {},
   "outputs": [
    {
     "data": {
      "text/html": [
       "<div>\n",
       "<style scoped>\n",
       "    .dataframe tbody tr th:only-of-type {\n",
       "        vertical-align: middle;\n",
       "    }\n",
       "\n",
       "    .dataframe tbody tr th {\n",
       "        vertical-align: top;\n",
       "    }\n",
       "\n",
       "    .dataframe thead th {\n",
       "        text-align: right;\n",
       "    }\n",
       "</style>\n",
       "<table border=\"1\" class=\"dataframe\">\n",
       "  <thead>\n",
       "    <tr style=\"text-align: right;\">\n",
       "      <th></th>\n",
       "      <th>value_raw</th>\n",
       "      <th>value_hrf</th>\n",
       "      <th>Temperature_F</th>\n",
       "    </tr>\n",
       "  </thead>\n",
       "  <tbody>\n",
       "    <tr>\n",
       "      <th>count</th>\n",
       "      <td>41.000000</td>\n",
       "      <td>40.000000</td>\n",
       "      <td>40.000000</td>\n",
       "    </tr>\n",
       "    <tr>\n",
       "      <th>mean</th>\n",
       "      <td>818.780488</td>\n",
       "      <td>24.303750</td>\n",
       "      <td>75.746750</td>\n",
       "    </tr>\n",
       "    <tr>\n",
       "      <th>std</th>\n",
       "      <td>127.924687</td>\n",
       "      <td>2.003279</td>\n",
       "      <td>3.605902</td>\n",
       "    </tr>\n",
       "    <tr>\n",
       "      <th>min</th>\n",
       "      <td>24.000000</td>\n",
       "      <td>19.550000</td>\n",
       "      <td>67.190000</td>\n",
       "    </tr>\n",
       "    <tr>\n",
       "      <th>25%</th>\n",
       "      <td>833.000000</td>\n",
       "      <td>23.400000</td>\n",
       "      <td>74.120000</td>\n",
       "    </tr>\n",
       "    <tr>\n",
       "      <th>50%</th>\n",
       "      <td>840.000000</td>\n",
       "      <td>24.450000</td>\n",
       "      <td>76.010000</td>\n",
       "    </tr>\n",
       "    <tr>\n",
       "      <th>75%</th>\n",
       "      <td>845.000000</td>\n",
       "      <td>25.237500</td>\n",
       "      <td>77.427500</td>\n",
       "    </tr>\n",
       "    <tr>\n",
       "      <th>max</th>\n",
       "      <td>866.000000</td>\n",
       "      <td>28.650000</td>\n",
       "      <td>83.570000</td>\n",
       "    </tr>\n",
       "  </tbody>\n",
       "</table>\n",
       "</div>"
      ],
      "text/plain": [
       "        value_raw  value_hrf  Temperature_F\n",
       "count   41.000000  40.000000      40.000000\n",
       "mean   818.780488  24.303750      75.746750\n",
       "std    127.924687   2.003279       3.605902\n",
       "min     24.000000  19.550000      67.190000\n",
       "25%    833.000000  23.400000      74.120000\n",
       "50%    840.000000  24.450000      76.010000\n",
       "75%    845.000000  25.237500      77.427500\n",
       "max    866.000000  28.650000      83.570000"
      ]
     },
     "execution_count": 16,
     "metadata": {},
     "output_type": "execute_result"
    }
   ],
   "source": [
    "temp_snapshot.describe()"
   ]
  },
  {
   "cell_type": "markdown",
   "metadata": {},
   "source": [
    "There is definitely some variance in the temperatures accross the city, but is this related to how far a node is from the lake?"
   ]
  },
  {
   "cell_type": "code",
   "execution_count": 17,
   "metadata": {},
   "outputs": [],
   "source": [
    "temps_nodes = temp_snapshot[['node_id', 'Temperature_F']]\n",
    "\n",
    "# 2 brackets needs because you are filtering columns"
   ]
  },
  {
   "cell_type": "code",
   "execution_count": 18,
   "metadata": {},
   "outputs": [
    {
     "data": {
      "text/html": [
       "<div>\n",
       "<style scoped>\n",
       "    .dataframe tbody tr th:only-of-type {\n",
       "        vertical-align: middle;\n",
       "    }\n",
       "\n",
       "    .dataframe tbody tr th {\n",
       "        vertical-align: top;\n",
       "    }\n",
       "\n",
       "    .dataframe thead th {\n",
       "        text-align: right;\n",
       "    }\n",
       "</style>\n",
       "<table border=\"1\" class=\"dataframe\">\n",
       "  <thead>\n",
       "    <tr style=\"text-align: right;\">\n",
       "      <th></th>\n",
       "      <th>node_id</th>\n",
       "      <th>Temperature_F</th>\n",
       "    </tr>\n",
       "  </thead>\n",
       "  <tbody>\n",
       "    <tr>\n",
       "      <th>0</th>\n",
       "      <td>001e0610ee36</td>\n",
       "      <td>76.01</td>\n",
       "    </tr>\n",
       "    <tr>\n",
       "      <th>1</th>\n",
       "      <td>001e06114fd4</td>\n",
       "      <td>75.74</td>\n",
       "    </tr>\n",
       "    <tr>\n",
       "      <th>2</th>\n",
       "      <td>001e0610ba13</td>\n",
       "      <td>79.61</td>\n",
       "    </tr>\n",
       "    <tr>\n",
       "      <th>3</th>\n",
       "      <td>001e0610ee61</td>\n",
       "      <td>78.80</td>\n",
       "    </tr>\n",
       "    <tr>\n",
       "      <th>4</th>\n",
       "      <td>001e06113ad8</td>\n",
       "      <td>75.20</td>\n",
       "    </tr>\n",
       "  </tbody>\n",
       "</table>\n",
       "</div>"
      ],
      "text/plain": [
       "        node_id  Temperature_F\n",
       "0  001e0610ee36          76.01\n",
       "1  001e06114fd4          75.74\n",
       "2  001e0610ba13          79.61\n",
       "3  001e0610ee61          78.80\n",
       "4  001e06113ad8          75.20"
      ]
     },
     "execution_count": 18,
     "metadata": {},
     "output_type": "execute_result"
    }
   ],
   "source": [
    "temps_nodes.head()"
   ]
  },
  {
   "cell_type": "markdown",
   "metadata": {},
   "source": [
    "# Scatter Plot\n",
    "\n",
    "Is there a correlation between the distance from the lake and the temperature? The quickest way to visualize this is through a scatter plot."
   ]
  },
  {
   "cell_type": "markdown",
   "metadata": {},
   "source": [
    "A scatter plot is made by pairing an x and y value. In this case we want temperature and distance from the lake. However, these 2 variables are in different datasets. We also have the problem that there are 122 different nodes, but we only have temperatures for 40 of them. Therefore, we will only be able to make 40 pairs.\n",
    "\n",
    "To do this, we need to find a connection between the 2 datasets. This is known as a \"key\" and will allow us to combine the 2 datasets. If a temperature and a distance have the same key, we can merge them to the same row.\n",
    "\n",
    "__What should our key be?__"
   ]
  },
  {
   "cell_type": "code",
   "execution_count": 19,
   "metadata": {},
   "outputs": [],
   "source": [
    "distance_temps = pd.merge(nodes, temps_nodes, on = 'node_id')"
   ]
  },
  {
   "cell_type": "code",
   "execution_count": 20,
   "metadata": {},
   "outputs": [
    {
     "data": {
      "text/html": [
       "<div>\n",
       "<style scoped>\n",
       "    .dataframe tbody tr th:only-of-type {\n",
       "        vertical-align: middle;\n",
       "    }\n",
       "\n",
       "    .dataframe tbody tr th {\n",
       "        vertical-align: top;\n",
       "    }\n",
       "\n",
       "    .dataframe thead th {\n",
       "        text-align: right;\n",
       "    }\n",
       "</style>\n",
       "<table border=\"1\" class=\"dataframe\">\n",
       "  <thead>\n",
       "    <tr style=\"text-align: right;\">\n",
       "      <th></th>\n",
       "      <th>node_id</th>\n",
       "      <th>project_id</th>\n",
       "      <th>vsn</th>\n",
       "      <th>address</th>\n",
       "      <th>lat</th>\n",
       "      <th>lon</th>\n",
       "      <th>description</th>\n",
       "      <th>start_timestamp</th>\n",
       "      <th>end_timestamp</th>\n",
       "      <th>lake_distance</th>\n",
       "      <th>Temperature_F</th>\n",
       "    </tr>\n",
       "  </thead>\n",
       "  <tbody>\n",
       "    <tr>\n",
       "      <th>0</th>\n",
       "      <td>001e0610ba46</td>\n",
       "      <td>AoT_Chicago</td>\n",
       "      <td>4</td>\n",
       "      <td>State St &amp; Jackson Blvd Chicago IL</td>\n",
       "      <td>41.878377</td>\n",
       "      <td>-87.627678</td>\n",
       "      <td>AoT Chicago (S) [C]</td>\n",
       "      <td>10/9/17 0:00</td>\n",
       "      <td>NaN</td>\n",
       "      <td>1.119032</td>\n",
       "      <td>76.01</td>\n",
       "    </tr>\n",
       "    <tr>\n",
       "      <th>1</th>\n",
       "      <td>001e0610bc10</td>\n",
       "      <td>AoT_Chicago</td>\n",
       "      <td>01F</td>\n",
       "      <td>State St &amp; 87th Chicago IL</td>\n",
       "      <td>41.736314</td>\n",
       "      <td>-87.624179</td>\n",
       "      <td>AoT Chicago (S) [C]</td>\n",
       "      <td>2/22/18 0:00</td>\n",
       "      <td>NaN</td>\n",
       "      <td>4.894850</td>\n",
       "      <td>68.18</td>\n",
       "    </tr>\n",
       "    <tr>\n",
       "      <th>2</th>\n",
       "      <td>001e0610bbf9</td>\n",
       "      <td>AoT_Chicago</td>\n",
       "      <td>20</td>\n",
       "      <td>Western Ave &amp; 69th St Chicago IL</td>\n",
       "      <td>41.768319</td>\n",
       "      <td>-87.683396</td>\n",
       "      <td>AoT Chicago (S) [C]</td>\n",
       "      <td>2/13/18 0:00</td>\n",
       "      <td>NaN</td>\n",
       "      <td>7.108067</td>\n",
       "      <td>77.36</td>\n",
       "    </tr>\n",
       "    <tr>\n",
       "      <th>3</th>\n",
       "      <td>001e0610ba15</td>\n",
       "      <td>AoT_Chicago</td>\n",
       "      <td>02A</td>\n",
       "      <td>Jeffrey Ave &amp; 95th St Chicago IL</td>\n",
       "      <td>41.722457</td>\n",
       "      <td>-87.575350</td>\n",
       "      <td>AoT Chicago (S) [C]</td>\n",
       "      <td>2/22/18 0:00</td>\n",
       "      <td>NaN</td>\n",
       "      <td>3.202265</td>\n",
       "      <td>NaN</td>\n",
       "    </tr>\n",
       "    <tr>\n",
       "      <th>4</th>\n",
       "      <td>001e0610ee61</td>\n",
       "      <td>AoT_Chicago</td>\n",
       "      <td>03F</td>\n",
       "      <td>Pulaski Rd &amp; Madison St Chicago IL</td>\n",
       "      <td>41.880732</td>\n",
       "      <td>-87.725660</td>\n",
       "      <td>AoT Chicago (S)</td>\n",
       "      <td>11/20/17 0:00</td>\n",
       "      <td>NaN</td>\n",
       "      <td>7.297088</td>\n",
       "      <td>78.80</td>\n",
       "    </tr>\n",
       "  </tbody>\n",
       "</table>\n",
       "</div>"
      ],
      "text/plain": [
       "        node_id   project_id  vsn                             address  \\\n",
       "0  001e0610ba46  AoT_Chicago    4  State St & Jackson Blvd Chicago IL   \n",
       "1  001e0610bc10  AoT_Chicago  01F          State St & 87th Chicago IL   \n",
       "2  001e0610bbf9  AoT_Chicago   20    Western Ave & 69th St Chicago IL   \n",
       "3  001e0610ba15  AoT_Chicago  02A    Jeffrey Ave & 95th St Chicago IL   \n",
       "4  001e0610ee61  AoT_Chicago  03F  Pulaski Rd & Madison St Chicago IL   \n",
       "\n",
       "         lat        lon          description start_timestamp end_timestamp  \\\n",
       "0  41.878377 -87.627678  AoT Chicago (S) [C]    10/9/17 0:00           NaN   \n",
       "1  41.736314 -87.624179  AoT Chicago (S) [C]    2/22/18 0:00           NaN   \n",
       "2  41.768319 -87.683396  AoT Chicago (S) [C]    2/13/18 0:00           NaN   \n",
       "3  41.722457 -87.575350  AoT Chicago (S) [C]    2/22/18 0:00           NaN   \n",
       "4  41.880732 -87.725660      AoT Chicago (S)   11/20/17 0:00           NaN   \n",
       "\n",
       "   lake_distance  Temperature_F  \n",
       "0       1.119032          76.01  \n",
       "1       4.894850          68.18  \n",
       "2       7.108067          77.36  \n",
       "3       3.202265            NaN  \n",
       "4       7.297088          78.80  "
      ]
     },
     "execution_count": 20,
     "metadata": {},
     "output_type": "execute_result"
    }
   ],
   "source": [
    "distance_temps.head()"
   ]
  },
  {
   "cell_type": "code",
   "execution_count": 21,
   "metadata": {
    "scrolled": true
   },
   "outputs": [
    {
     "data": {
      "text/plain": [
       "Text(0, 0.5, 'Temperature (F)')"
      ]
     },
     "execution_count": 21,
     "metadata": {},
     "output_type": "execute_result"
    },
    {
     "data": {
      "image/png": "[encoded data removed]",
      "text/plain": [
       "<Figure size 576x396 with 1 Axes>"
      ]
     },
     "metadata": {},
     "output_type": "display_data"
    }
   ],
   "source": [
    "plt.scatter(distance_temps['lake_distance'], distance_temps['Temperature_F'])\n",
    "plt.xlabel('Distance from Lake')\n",
    "plt.ylabel('Temperature (F)')"
   ]
  },
  {
   "cell_type": "markdown",
   "metadata": {},
   "source": [
    "It looks like there might be a correlation. We can perform a linear regression using Seaborn,"
   ]
  },
  {
   "cell_type": "code",
   "execution_count": 22,
   "metadata": {},
   "outputs": [
    {
     "data": {
      "text/plain": [
       "<matplotlib.axes._subplots.AxesSubplot at 0x7fe298a32400>"
      ]
     },
     "execution_count": 22,
     "metadata": {},
     "output_type": "execute_result"
    },
    {
     "data": {
      "image/png": "[encoded data removed]",
      "text/plain": [
       "<Figure size 576x396 with 1 Axes>"
      ]
     },
     "metadata": {},
     "output_type": "display_data"
    }
   ],
   "source": [
    "sns.regplot(distance_temps['lake_distance'], distance_temps['Temperature_F'])"
   ]
  }
 ],
 "metadata": {
  "kernelspec": {
   "display_name": "Python 3",
   "language": "python",
   "name": "python3"
  },
  "language_info": {
   "codemirror_mode": {
    "name": "ipython",
    "version": 3
   },
   "file_extension": ".py",
   "mimetype": "text/x-python",
   "name": "python",
   "nbconvert_exporter": "python",
   "pygments_lexer": "ipython3",
   "version": "3.8.3"
  }
 },
 "nbformat": 4,
 "nbformat_minor": 4
}
