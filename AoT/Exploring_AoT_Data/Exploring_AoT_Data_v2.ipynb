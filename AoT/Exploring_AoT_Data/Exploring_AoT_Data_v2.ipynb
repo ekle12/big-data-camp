{
 "cells": [
  {
   "cell_type": "markdown",
   "metadata": {},
   "source": [
    "# Exploring AoT Data\n",
    "\n",
    "<img src = 'http://arrayofthings.github.io/images/Nodes%20Diagram.jpg' width = 300>\n",
    "\n",
    "One of the most important steps in doing science with data is to familiarize yourself with the data, including\n",
    "* Getting a first look at the data.\n",
    "* How is it structured?\n",
    "* Looking more closely at the data.\n",
    "* Filtering the data that you are interested in."
   ]
  },
  {
   "cell_type": "markdown",
   "metadata": {},
   "source": [
    "### Getting a First Look (I do)"
   ]
  },
  {
   "cell_type": "code",
   "execution_count": 3,
   "metadata": {},
   "outputs": [],
   "source": [
    "# Import the Pandas library and read in the AoT .csv file into Pandas as a dataframe.\n",
    "import pandas as pd\n",
    "pd.options.mode.chained_assignment = None\n",
    "data = pd.read_csv(\"data/AoT_Chicago.complete.recent.csv\")"
   ]
  },
  {
   "cell_type": "code",
   "execution_count": 4,
   "metadata": {},
   "outputs": [
    {
     "data": {
      "text/plain": [
       "'/Users/jdomyancich/Documents/GitHub/Big-Data-Camp/AoT/Exploring_AoT_Data'"
      ]
     },
     "execution_count": 4,
     "metadata": {},
     "output_type": "execute_result"
    }
   ],
   "source": [
    "%pwd"
   ]
  },
  {
   "cell_type": "code",
   "execution_count": 5,
   "metadata": {},
   "outputs": [
    {
     "data": {
      "text/html": [
       "<div>\n",
       "<style scoped>\n",
       "    .dataframe tbody tr th:only-of-type {\n",
       "        vertical-align: middle;\n",
       "    }\n",
       "\n",
       "    .dataframe tbody tr th {\n",
       "        vertical-align: top;\n",
       "    }\n",
       "\n",
       "    .dataframe thead th {\n",
       "        text-align: right;\n",
       "    }\n",
       "</style>\n",
       "<table border=\"1\" class=\"dataframe\">\n",
       "  <thead>\n",
       "    <tr style=\"text-align: right;\">\n",
       "      <th></th>\n",
       "      <th>timestamp</th>\n",
       "      <th>node_id</th>\n",
       "      <th>subsystem</th>\n",
       "      <th>sensor</th>\n",
       "      <th>parameter</th>\n",
       "      <th>value_raw</th>\n",
       "      <th>value_hrf</th>\n",
       "    </tr>\n",
       "  </thead>\n",
       "  <tbody>\n",
       "    <tr>\n",
       "      <th>0</th>\n",
       "      <td>2021/03/20 00:31:19</td>\n",
       "      <td>001e0610ee36</td>\n",
       "      <td>lightsense</td>\n",
       "      <td>apds_9006_020</td>\n",
       "      <td>intensity</td>\n",
       "      <td>8</td>\n",
       "      <td>0.643</td>\n",
       "    </tr>\n",
       "    <tr>\n",
       "      <th>1</th>\n",
       "      <td>2021/03/20 00:31:19</td>\n",
       "      <td>001e0610ee36</td>\n",
       "      <td>lightsense</td>\n",
       "      <td>hih6130</td>\n",
       "      <td>humidity</td>\n",
       "      <td>9272</td>\n",
       "      <td>56.6</td>\n",
       "    </tr>\n",
       "    <tr>\n",
       "      <th>2</th>\n",
       "      <td>2021/03/20 00:31:19</td>\n",
       "      <td>001e0610ee36</td>\n",
       "      <td>lightsense</td>\n",
       "      <td>hih6130</td>\n",
       "      <td>temperature</td>\n",
       "      <td>22704</td>\n",
       "      <td>17.17</td>\n",
       "    </tr>\n",
       "    <tr>\n",
       "      <th>3</th>\n",
       "      <td>2021/03/20 00:31:19</td>\n",
       "      <td>001e0610ee36</td>\n",
       "      <td>lightsense</td>\n",
       "      <td>hmc5883l</td>\n",
       "      <td>magnetic_field_x</td>\n",
       "      <td>-177</td>\n",
       "      <td>-160.909</td>\n",
       "    </tr>\n",
       "    <tr>\n",
       "      <th>4</th>\n",
       "      <td>2021/03/20 00:31:19</td>\n",
       "      <td>001e0610ee36</td>\n",
       "      <td>lightsense</td>\n",
       "      <td>hmc5883l</td>\n",
       "      <td>magnetic_field_y</td>\n",
       "      <td>-1700</td>\n",
       "      <td>-1545.455</td>\n",
       "    </tr>\n",
       "    <tr>\n",
       "      <th>...</th>\n",
       "      <td>...</td>\n",
       "      <td>...</td>\n",
       "      <td>...</td>\n",
       "      <td>...</td>\n",
       "      <td>...</td>\n",
       "      <td>...</td>\n",
       "      <td>...</td>\n",
       "    </tr>\n",
       "    <tr>\n",
       "      <th>4677</th>\n",
       "      <td>2021/03/20 01:01:23</td>\n",
       "      <td>001e0610ee36</td>\n",
       "      <td>metsense</td>\n",
       "      <td>pr103j2</td>\n",
       "      <td>temperature</td>\n",
       "      <td>686</td>\n",
       "      <td>6.9</td>\n",
       "    </tr>\n",
       "    <tr>\n",
       "      <th>4678</th>\n",
       "      <td>2021/03/20 01:01:23</td>\n",
       "      <td>001e0610ee36</td>\n",
       "      <td>metsense</td>\n",
       "      <td>spv1840lr5h_b</td>\n",
       "      <td>intensity</td>\n",
       "      <td>NaN</td>\n",
       "      <td>56.72</td>\n",
       "    </tr>\n",
       "    <tr>\n",
       "      <th>4679</th>\n",
       "      <td>2021/03/20 01:01:23</td>\n",
       "      <td>001e0610ee36</td>\n",
       "      <td>metsense</td>\n",
       "      <td>tmp112</td>\n",
       "      <td>temperature</td>\n",
       "      <td>873</td>\n",
       "      <td>6.81</td>\n",
       "    </tr>\n",
       "    <tr>\n",
       "      <th>4680</th>\n",
       "      <td>2021/03/20 01:01:23</td>\n",
       "      <td>001e0610ee36</td>\n",
       "      <td>metsense</td>\n",
       "      <td>tsl250rd</td>\n",
       "      <td>intensity</td>\n",
       "      <td>0</td>\n",
       "      <td>0.0</td>\n",
       "    </tr>\n",
       "    <tr>\n",
       "      <th>4681</th>\n",
       "      <td>2021/03/20 01:01:23</td>\n",
       "      <td>001e0610ee36</td>\n",
       "      <td>metsense</td>\n",
       "      <td>tsys01</td>\n",
       "      <td>temperature</td>\n",
       "      <td>9280204</td>\n",
       "      <td>6.97</td>\n",
       "    </tr>\n",
       "  </tbody>\n",
       "</table>\n",
       "<p>4682 rows × 7 columns</p>\n",
       "</div>"
      ],
      "text/plain": [
       "                timestamp       node_id   subsystem         sensor  \\\n",
       "0     2021/03/20 00:31:19  001e0610ee36  lightsense  apds_9006_020   \n",
       "1     2021/03/20 00:31:19  001e0610ee36  lightsense        hih6130   \n",
       "2     2021/03/20 00:31:19  001e0610ee36  lightsense        hih6130   \n",
       "3     2021/03/20 00:31:19  001e0610ee36  lightsense       hmc5883l   \n",
       "4     2021/03/20 00:31:19  001e0610ee36  lightsense       hmc5883l   \n",
       "...                   ...           ...         ...            ...   \n",
       "4677  2021/03/20 01:01:23  001e0610ee36    metsense        pr103j2   \n",
       "4678  2021/03/20 01:01:23  001e0610ee36    metsense  spv1840lr5h_b   \n",
       "4679  2021/03/20 01:01:23  001e0610ee36    metsense         tmp112   \n",
       "4680  2021/03/20 01:01:23  001e0610ee36    metsense       tsl250rd   \n",
       "4681  2021/03/20 01:01:23  001e0610ee36    metsense         tsys01   \n",
       "\n",
       "             parameter value_raw  value_hrf  \n",
       "0            intensity         8      0.643  \n",
       "1             humidity      9272       56.6  \n",
       "2          temperature     22704      17.17  \n",
       "3     magnetic_field_x      -177   -160.909  \n",
       "4     magnetic_field_y     -1700  -1545.455  \n",
       "...                ...       ...        ...  \n",
       "4677       temperature       686        6.9  \n",
       "4678         intensity       NaN      56.72  \n",
       "4679       temperature       873       6.81  \n",
       "4680         intensity         0        0.0  \n",
       "4681       temperature   9280204       6.97  \n",
       "\n",
       "[4682 rows x 7 columns]"
      ]
     },
     "execution_count": 5,
     "metadata": {},
     "output_type": "execute_result"
    }
   ],
   "source": [
    "# Print the dataframe\n",
    "data"
   ]
  },
  {
   "cell_type": "code",
   "execution_count": 7,
   "metadata": {},
   "outputs": [
    {
     "data": {
      "text/html": [
       "<div>\n",
       "<style scoped>\n",
       "    .dataframe tbody tr th:only-of-type {\n",
       "        vertical-align: middle;\n",
       "    }\n",
       "\n",
       "    .dataframe tbody tr th {\n",
       "        vertical-align: top;\n",
       "    }\n",
       "\n",
       "    .dataframe thead th {\n",
       "        text-align: right;\n",
       "    }\n",
       "</style>\n",
       "<table border=\"1\" class=\"dataframe\">\n",
       "  <thead>\n",
       "    <tr style=\"text-align: right;\">\n",
       "      <th></th>\n",
       "      <th>timestamp</th>\n",
       "      <th>node_id</th>\n",
       "      <th>subsystem</th>\n",
       "      <th>sensor</th>\n",
       "      <th>parameter</th>\n",
       "      <th>value_raw</th>\n",
       "      <th>value_hrf</th>\n",
       "    </tr>\n",
       "  </thead>\n",
       "  <tbody>\n",
       "    <tr>\n",
       "      <th>0</th>\n",
       "      <td>2021/03/20 00:31:19</td>\n",
       "      <td>001e0610ee36</td>\n",
       "      <td>lightsense</td>\n",
       "      <td>apds_9006_020</td>\n",
       "      <td>intensity</td>\n",
       "      <td>8</td>\n",
       "      <td>0.643</td>\n",
       "    </tr>\n",
       "    <tr>\n",
       "      <th>1</th>\n",
       "      <td>2021/03/20 00:31:19</td>\n",
       "      <td>001e0610ee36</td>\n",
       "      <td>lightsense</td>\n",
       "      <td>hih6130</td>\n",
       "      <td>humidity</td>\n",
       "      <td>9272</td>\n",
       "      <td>56.6</td>\n",
       "    </tr>\n",
       "    <tr>\n",
       "      <th>2</th>\n",
       "      <td>2021/03/20 00:31:19</td>\n",
       "      <td>001e0610ee36</td>\n",
       "      <td>lightsense</td>\n",
       "      <td>hih6130</td>\n",
       "      <td>temperature</td>\n",
       "      <td>22704</td>\n",
       "      <td>17.17</td>\n",
       "    </tr>\n",
       "    <tr>\n",
       "      <th>3</th>\n",
       "      <td>2021/03/20 00:31:19</td>\n",
       "      <td>001e0610ee36</td>\n",
       "      <td>lightsense</td>\n",
       "      <td>hmc5883l</td>\n",
       "      <td>magnetic_field_x</td>\n",
       "      <td>-177</td>\n",
       "      <td>-160.909</td>\n",
       "    </tr>\n",
       "    <tr>\n",
       "      <th>4</th>\n",
       "      <td>2021/03/20 00:31:19</td>\n",
       "      <td>001e0610ee36</td>\n",
       "      <td>lightsense</td>\n",
       "      <td>hmc5883l</td>\n",
       "      <td>magnetic_field_y</td>\n",
       "      <td>-1700</td>\n",
       "      <td>-1545.455</td>\n",
       "    </tr>\n",
       "  </tbody>\n",
       "</table>\n",
       "</div>"
      ],
      "text/plain": [
       "             timestamp       node_id   subsystem         sensor  \\\n",
       "0  2021/03/20 00:31:19  001e0610ee36  lightsense  apds_9006_020   \n",
       "1  2021/03/20 00:31:19  001e0610ee36  lightsense        hih6130   \n",
       "2  2021/03/20 00:31:19  001e0610ee36  lightsense        hih6130   \n",
       "3  2021/03/20 00:31:19  001e0610ee36  lightsense       hmc5883l   \n",
       "4  2021/03/20 00:31:19  001e0610ee36  lightsense       hmc5883l   \n",
       "\n",
       "          parameter value_raw  value_hrf  \n",
       "0         intensity         8      0.643  \n",
       "1          humidity      9272       56.6  \n",
       "2       temperature     22704      17.17  \n",
       "3  magnetic_field_x      -177   -160.909  \n",
       "4  magnetic_field_y     -1700  -1545.455  "
      ]
     },
     "execution_count": 7,
     "metadata": {},
     "output_type": "execute_result"
    }
   ],
   "source": [
    "# Print the first few entries\n",
    "data.head()"
   ]
  },
  {
   "cell_type": "code",
   "execution_count": 9,
   "metadata": {},
   "outputs": [
    {
     "data": {
      "text/html": [
       "<div>\n",
       "<style scoped>\n",
       "    .dataframe tbody tr th:only-of-type {\n",
       "        vertical-align: middle;\n",
       "    }\n",
       "\n",
       "    .dataframe tbody tr th {\n",
       "        vertical-align: top;\n",
       "    }\n",
       "\n",
       "    .dataframe thead th {\n",
       "        text-align: right;\n",
       "    }\n",
       "</style>\n",
       "<table border=\"1\" class=\"dataframe\">\n",
       "  <thead>\n",
       "    <tr style=\"text-align: right;\">\n",
       "      <th></th>\n",
       "      <th>timestamp</th>\n",
       "      <th>node_id</th>\n",
       "      <th>subsystem</th>\n",
       "      <th>sensor</th>\n",
       "      <th>parameter</th>\n",
       "      <th>value_raw</th>\n",
       "      <th>value_hrf</th>\n",
       "    </tr>\n",
       "  </thead>\n",
       "  <tbody>\n",
       "    <tr>\n",
       "      <th>4677</th>\n",
       "      <td>2021/03/20 01:01:23</td>\n",
       "      <td>001e0610ee36</td>\n",
       "      <td>metsense</td>\n",
       "      <td>pr103j2</td>\n",
       "      <td>temperature</td>\n",
       "      <td>686</td>\n",
       "      <td>6.9</td>\n",
       "    </tr>\n",
       "    <tr>\n",
       "      <th>4678</th>\n",
       "      <td>2021/03/20 01:01:23</td>\n",
       "      <td>001e0610ee36</td>\n",
       "      <td>metsense</td>\n",
       "      <td>spv1840lr5h_b</td>\n",
       "      <td>intensity</td>\n",
       "      <td>NaN</td>\n",
       "      <td>56.72</td>\n",
       "    </tr>\n",
       "    <tr>\n",
       "      <th>4679</th>\n",
       "      <td>2021/03/20 01:01:23</td>\n",
       "      <td>001e0610ee36</td>\n",
       "      <td>metsense</td>\n",
       "      <td>tmp112</td>\n",
       "      <td>temperature</td>\n",
       "      <td>873</td>\n",
       "      <td>6.81</td>\n",
       "    </tr>\n",
       "    <tr>\n",
       "      <th>4680</th>\n",
       "      <td>2021/03/20 01:01:23</td>\n",
       "      <td>001e0610ee36</td>\n",
       "      <td>metsense</td>\n",
       "      <td>tsl250rd</td>\n",
       "      <td>intensity</td>\n",
       "      <td>0</td>\n",
       "      <td>0.0</td>\n",
       "    </tr>\n",
       "    <tr>\n",
       "      <th>4681</th>\n",
       "      <td>2021/03/20 01:01:23</td>\n",
       "      <td>001e0610ee36</td>\n",
       "      <td>metsense</td>\n",
       "      <td>tsys01</td>\n",
       "      <td>temperature</td>\n",
       "      <td>9280204</td>\n",
       "      <td>6.97</td>\n",
       "    </tr>\n",
       "  </tbody>\n",
       "</table>\n",
       "</div>"
      ],
      "text/plain": [
       "                timestamp       node_id subsystem         sensor    parameter  \\\n",
       "4677  2021/03/20 01:01:23  001e0610ee36  metsense        pr103j2  temperature   \n",
       "4678  2021/03/20 01:01:23  001e0610ee36  metsense  spv1840lr5h_b    intensity   \n",
       "4679  2021/03/20 01:01:23  001e0610ee36  metsense         tmp112  temperature   \n",
       "4680  2021/03/20 01:01:23  001e0610ee36  metsense       tsl250rd    intensity   \n",
       "4681  2021/03/20 01:01:23  001e0610ee36  metsense         tsys01  temperature   \n",
       "\n",
       "     value_raw value_hrf  \n",
       "4677       686       6.9  \n",
       "4678       NaN     56.72  \n",
       "4679       873      6.81  \n",
       "4680         0       0.0  \n",
       "4681   9280204      6.97  "
      ]
     },
     "execution_count": 9,
     "metadata": {},
     "output_type": "execute_result"
    }
   ],
   "source": [
    "# Print the last few entries\n",
    "data.tail()"
   ]
  },
  {
   "cell_type": "markdown",
   "metadata": {},
   "source": [
    "### Checkpoint (you do)\n",
    "\n"
   ]
  },
  {
   "cell_type": "code",
   "execution_count": null,
   "metadata": {},
   "outputs": [],
   "source": []
  },
  {
   "cell_type": "markdown",
   "metadata": {},
   "source": [
    "## How is the data structured?\n",
    "\n",
    "<img src = 'https://freesvg.org/img/1404333466.png' width = 300>"
   ]
  },
  {
   "cell_type": "code",
   "execution_count": 13,
   "metadata": {},
   "outputs": [
    {
     "data": {
      "text/plain": [
       "(4682, 7)"
      ]
     },
     "execution_count": 13,
     "metadata": {},
     "output_type": "execute_result"
    }
   ],
   "source": [
    "# Dimensions of the dataframe\n",
    "data.shape"
   ]
  },
  {
   "cell_type": "code",
   "execution_count": 14,
   "metadata": {},
   "outputs": [
    {
     "data": {
      "text/html": [
       "<div>\n",
       "<style scoped>\n",
       "    .dataframe tbody tr th:only-of-type {\n",
       "        vertical-align: middle;\n",
       "    }\n",
       "\n",
       "    .dataframe tbody tr th {\n",
       "        vertical-align: top;\n",
       "    }\n",
       "\n",
       "    .dataframe thead th {\n",
       "        text-align: right;\n",
       "    }\n",
       "</style>\n",
       "<table border=\"1\" class=\"dataframe\">\n",
       "  <thead>\n",
       "    <tr style=\"text-align: right;\">\n",
       "      <th></th>\n",
       "      <th>timestamp</th>\n",
       "      <th>node_id</th>\n",
       "      <th>subsystem</th>\n",
       "      <th>sensor</th>\n",
       "      <th>parameter</th>\n",
       "      <th>value_raw</th>\n",
       "      <th>value_hrf</th>\n",
       "    </tr>\n",
       "  </thead>\n",
       "  <tbody>\n",
       "    <tr>\n",
       "      <th>count</th>\n",
       "      <td>4682</td>\n",
       "      <td>4682</td>\n",
       "      <td>4682</td>\n",
       "      <td>4682</td>\n",
       "      <td>4682</td>\n",
       "      <td>4538</td>\n",
       "      <td>4636</td>\n",
       "    </tr>\n",
       "    <tr>\n",
       "      <th>unique</th>\n",
       "      <td>184</td>\n",
       "      <td>3</td>\n",
       "      <td>3</td>\n",
       "      <td>18</td>\n",
       "      <td>23</td>\n",
       "      <td>646</td>\n",
       "      <td>538</td>\n",
       "    </tr>\n",
       "    <tr>\n",
       "      <th>top</th>\n",
       "      <td>2021/03/20 00:51:47</td>\n",
       "      <td>001e0611804d</td>\n",
       "      <td>metsense</td>\n",
       "      <td>pms7003</td>\n",
       "      <td>intensity</td>\n",
       "      <td>65535</td>\n",
       "      <td>0</td>\n",
       "    </tr>\n",
       "    <tr>\n",
       "      <th>freq</th>\n",
       "      <td>62</td>\n",
       "      <td>2627</td>\n",
       "      <td>2246</td>\n",
       "      <td>852</td>\n",
       "      <td>1100</td>\n",
       "      <td>1065</td>\n",
       "      <td>852</td>\n",
       "    </tr>\n",
       "  </tbody>\n",
       "</table>\n",
       "</div>"
      ],
      "text/plain": [
       "                  timestamp       node_id subsystem   sensor  parameter  \\\n",
       "count                  4682          4682      4682     4682       4682   \n",
       "unique                  184             3         3       18         23   \n",
       "top     2021/03/20 00:51:47  001e0611804d  metsense  pms7003  intensity   \n",
       "freq                     62          2627      2246      852       1100   \n",
       "\n",
       "       value_raw value_hrf  \n",
       "count       4538      4636  \n",
       "unique       646       538  \n",
       "top        65535         0  \n",
       "freq        1065       852  "
      ]
     },
     "execution_count": 14,
     "metadata": {},
     "output_type": "execute_result"
    }
   ],
   "source": [
    "# Summary of the dataframe\n",
    "data.describe()"
   ]
  },
  {
   "cell_type": "markdown",
   "metadata": {},
   "source": [
    "## Looking more closely at the data"
   ]
  },
  {
   "cell_type": "code",
   "execution_count": null,
   "metadata": {
    "scrolled": true
   },
   "outputs": [],
   "source": [
    "# Describe the data\n",
    "data.insert_function"
   ]
  },
  {
   "cell_type": "code",
   "execution_count": null,
   "metadata": {},
   "outputs": [],
   "source": [
    "# How many different nodes are there in this dataset?\n",
    "data.insert_function"
   ]
  },
  {
   "cell_type": "code",
   "execution_count": null,
   "metadata": {},
   "outputs": [],
   "source": [
    "# How many different sensors do we have?\n",
    "data.insert_function"
   ]
  },
  {
   "cell_type": "markdown",
   "metadata": {},
   "source": [
    "## Filtering Data\n",
    "\n",
    "<img src = 'https://freesvg.org/img/1535225266.png' width = 300> "
   ]
  },
  {
   "cell_type": "markdown",
   "metadata": {},
   "source": [
    "#### Working with Columns"
   ]
  },
  {
   "cell_type": "code",
   "execution_count": null,
   "metadata": {},
   "outputs": [],
   "source": [
    "# Filter the 'node_id' and 'sensor' columns.\n",
    "node_id = data[insert_list]\n",
    "node_id"
   ]
  },
  {
   "cell_type": "code",
   "execution_count": null,
   "metadata": {},
   "outputs": [],
   "source": [
    "# Rename the columns\n",
    "data.columns = ['Timestamp','Node', 'Subsystem', 'Sensor_Name', 'Measurement', 'Raw_Value', 'Human_Readable']\n",
    "data.head()"
   ]
  },
  {
   "cell_type": "markdown",
   "metadata": {},
   "source": [
    "### What about rows?\n",
    "\n",
    "`iloc`: integer position-based\n",
    "`loc`: label-based\n"
   ]
  },
  {
   "cell_type": "code",
   "execution_count": null,
   "metadata": {},
   "outputs": [],
   "source": [
    "# pass a value\n",
    "data.iloc[insert_value]"
   ]
  },
  {
   "cell_type": "code",
   "execution_count": null,
   "metadata": {},
   "outputs": [],
   "source": [
    "# pass a range\n",
    "data.iloc[insert_range]"
   ]
  },
  {
   "cell_type": "code",
   "execution_count": null,
   "metadata": {},
   "outputs": [],
   "source": [
    "# pass a list\n",
    "data.iloc[insert_list]"
   ]
  },
  {
   "cell_type": "markdown",
   "metadata": {},
   "source": [
    "The `loc` method allows you to search for labels within the columns. You can use values, booleans, and conditionals."
   ]
  },
  {
   "cell_type": "code",
   "execution_count": null,
   "metadata": {},
   "outputs": [],
   "source": [
    "# pass a value\n",
    "data.loc[insert_value]"
   ]
  },
  {
   "cell_type": "code",
   "execution_count": null,
   "metadata": {},
   "outputs": [],
   "source": [
    "# pass a conditional\n",
    "data.loc[insert_conditional]"
   ]
  },
  {
   "cell_type": "code",
   "execution_count": null,
   "metadata": {},
   "outputs": [],
   "source": [
    "# pass multiple conditions\n",
    "data.loc[insert_multiple_conditionals]"
   ]
  }
 ],
 "metadata": {
  "kernelspec": {
   "display_name": "Python 3 (ipykernel)",
   "language": "python",
   "name": "python3"
  },
  "language_info": {
   "codemirror_mode": {
    "name": "ipython",
    "version": 3
   },
   "file_extension": ".py",
   "mimetype": "text/x-python",
   "name": "python",
   "nbconvert_exporter": "python",
   "pygments_lexer": "ipython3",
   "version": "3.9.7"
  }
 },
 "nbformat": 4,
 "nbformat_minor": 4
}
